{
 "cells": [
  {
   "cell_type": "markdown",
   "metadata": {},
   "source": [
    "# Adult Income Prediction notebook\n",
    "This data was extracted from the 1994 Census bureau database by Ronny Kohavi and Barry Becker (Data Mining and Visualization, Silicon Graphics). A set of reasonably clean records was extracted using the following conditions: ((AAGE>16) && (AGI>100) && (AFNLWGT>1) && (HRSWK>0)). *The prediction task is to determine whether a person makes over  USD 50K a year.*  \n",
    "This is a binary classification problem where we have to predict whether a person earns over $50k per year or not. The scoring function to optimize is accuracy. The notebook follows the following steps to analyse the data and build predictive models.\n",
    "- Data cleaning and preprocessing\n",
    "- Exploratory data analysis\n",
    "- Modelling: I have tried out different classification algorithms.\n",
    "  - Random forest\n",
    "  - XGBoost\n",
    "  - Naive Bayes\n",
    "  - Logistic regression\n",
    "  - CatBoost  \n",
    "These models were then optimized by tuning the hyper-parameters through Grid Search, keeping a close check on the cross-validation scores to prevent overfitting. Thereafter I also tried out stacking different models together to improve the accuracy but it didn't improve the accuracy sigificantly.\n",
    "- Finally I explored oversampling techniques including SMOTE.\n",
    "\n",
    "Please feel free to suggest/comment.\n",
    "\n",
    "<img src=\"money.jpg\" style=\"width: 600px;\"/>\n"
   ]
  },
  {
   "cell_type": "code",
   "execution_count": 1,
   "metadata": {},
   "outputs": [],
   "source": [
    "import pandas as pd\n",
    "import numpy as np\n",
    "import matplotlib.pyplot as plt\n",
    "import seaborn as sns"
   ]
  },
  {
   "cell_type": "code",
   "execution_count": 2,
   "metadata": {},
   "outputs": [],
   "source": [
    "import os\n",
    "import seaborn as sns\n",
    "os.environ['KMP_DUPLICATE_LIB_OK']='True'"
   ]
  },
  {
   "cell_type": "code",
   "execution_count": 3,
   "metadata": {},
   "outputs": [],
   "source": [
    "sns.set() ##set defaults"
   ]
  },
  {
   "cell_type": "code",
   "execution_count": 4,
   "metadata": {},
   "outputs": [],
   "source": [
    "%matplotlib inline"
   ]
  },
  {
   "cell_type": "code",
   "execution_count": 5,
   "metadata": {},
   "outputs": [],
   "source": [
    "data = pd.read_csv(\"adult.csv\")"
   ]
  },
  {
   "cell_type": "code",
   "execution_count": 6,
   "metadata": {},
   "outputs": [
    {
     "data": {
      "text/plain": [
       "(32561, 15)"
      ]
     },
     "execution_count": 6,
     "metadata": {},
     "output_type": "execute_result"
    }
   ],
   "source": [
    "data.shape"
   ]
  },
  {
   "cell_type": "code",
   "execution_count": 7,
   "metadata": {},
   "outputs": [
    {
     "data": {
      "text/html": [
       "<div>\n",
       "<style scoped>\n",
       "    .dataframe tbody tr th:only-of-type {\n",
       "        vertical-align: middle;\n",
       "    }\n",
       "\n",
       "    .dataframe tbody tr th {\n",
       "        vertical-align: top;\n",
       "    }\n",
       "\n",
       "    .dataframe thead th {\n",
       "        text-align: right;\n",
       "    }\n",
       "</style>\n",
       "<table border=\"1\" class=\"dataframe\">\n",
       "  <thead>\n",
       "    <tr style=\"text-align: right;\">\n",
       "      <th></th>\n",
       "      <th>age</th>\n",
       "      <th>workclass</th>\n",
       "      <th>fnlwgt</th>\n",
       "      <th>education</th>\n",
       "      <th>education.num</th>\n",
       "      <th>marital.status</th>\n",
       "      <th>occupation</th>\n",
       "      <th>relationship</th>\n",
       "      <th>race</th>\n",
       "      <th>sex</th>\n",
       "      <th>capital.gain</th>\n",
       "      <th>capital.loss</th>\n",
       "      <th>hours.per.week</th>\n",
       "      <th>native.country</th>\n",
       "      <th>income</th>\n",
       "    </tr>\n",
       "  </thead>\n",
       "  <tbody>\n",
       "    <tr>\n",
       "      <th>0</th>\n",
       "      <td>90</td>\n",
       "      <td>?</td>\n",
       "      <td>77053</td>\n",
       "      <td>HS-grad</td>\n",
       "      <td>9</td>\n",
       "      <td>Widowed</td>\n",
       "      <td>?</td>\n",
       "      <td>Not-in-family</td>\n",
       "      <td>White</td>\n",
       "      <td>Female</td>\n",
       "      <td>0</td>\n",
       "      <td>4356</td>\n",
       "      <td>40</td>\n",
       "      <td>United-States</td>\n",
       "      <td>&lt;=50K</td>\n",
       "    </tr>\n",
       "    <tr>\n",
       "      <th>1</th>\n",
       "      <td>82</td>\n",
       "      <td>Private</td>\n",
       "      <td>132870</td>\n",
       "      <td>HS-grad</td>\n",
       "      <td>9</td>\n",
       "      <td>Widowed</td>\n",
       "      <td>Exec-managerial</td>\n",
       "      <td>Not-in-family</td>\n",
       "      <td>White</td>\n",
       "      <td>Female</td>\n",
       "      <td>0</td>\n",
       "      <td>4356</td>\n",
       "      <td>18</td>\n",
       "      <td>United-States</td>\n",
       "      <td>&lt;=50K</td>\n",
       "    </tr>\n",
       "    <tr>\n",
       "      <th>2</th>\n",
       "      <td>66</td>\n",
       "      <td>?</td>\n",
       "      <td>186061</td>\n",
       "      <td>Some-college</td>\n",
       "      <td>10</td>\n",
       "      <td>Widowed</td>\n",
       "      <td>?</td>\n",
       "      <td>Unmarried</td>\n",
       "      <td>Black</td>\n",
       "      <td>Female</td>\n",
       "      <td>0</td>\n",
       "      <td>4356</td>\n",
       "      <td>40</td>\n",
       "      <td>United-States</td>\n",
       "      <td>&lt;=50K</td>\n",
       "    </tr>\n",
       "    <tr>\n",
       "      <th>3</th>\n",
       "      <td>54</td>\n",
       "      <td>Private</td>\n",
       "      <td>140359</td>\n",
       "      <td>7th-8th</td>\n",
       "      <td>4</td>\n",
       "      <td>Divorced</td>\n",
       "      <td>Machine-op-inspct</td>\n",
       "      <td>Unmarried</td>\n",
       "      <td>White</td>\n",
       "      <td>Female</td>\n",
       "      <td>0</td>\n",
       "      <td>3900</td>\n",
       "      <td>40</td>\n",
       "      <td>United-States</td>\n",
       "      <td>&lt;=50K</td>\n",
       "    </tr>\n",
       "    <tr>\n",
       "      <th>4</th>\n",
       "      <td>41</td>\n",
       "      <td>Private</td>\n",
       "      <td>264663</td>\n",
       "      <td>Some-college</td>\n",
       "      <td>10</td>\n",
       "      <td>Separated</td>\n",
       "      <td>Prof-specialty</td>\n",
       "      <td>Own-child</td>\n",
       "      <td>White</td>\n",
       "      <td>Female</td>\n",
       "      <td>0</td>\n",
       "      <td>3900</td>\n",
       "      <td>40</td>\n",
       "      <td>United-States</td>\n",
       "      <td>&lt;=50K</td>\n",
       "    </tr>\n",
       "  </tbody>\n",
       "</table>\n",
       "</div>"
      ],
      "text/plain": [
       "   age workclass  fnlwgt     education  education.num marital.status  \\\n",
       "0   90         ?   77053       HS-grad              9        Widowed   \n",
       "1   82   Private  132870       HS-grad              9        Widowed   \n",
       "2   66         ?  186061  Some-college             10        Widowed   \n",
       "3   54   Private  140359       7th-8th              4       Divorced   \n",
       "4   41   Private  264663  Some-college             10      Separated   \n",
       "\n",
       "          occupation   relationship   race     sex  capital.gain  \\\n",
       "0                  ?  Not-in-family  White  Female             0   \n",
       "1    Exec-managerial  Not-in-family  White  Female             0   \n",
       "2                  ?      Unmarried  Black  Female             0   \n",
       "3  Machine-op-inspct      Unmarried  White  Female             0   \n",
       "4     Prof-specialty      Own-child  White  Female             0   \n",
       "\n",
       "   capital.loss  hours.per.week native.country income  \n",
       "0          4356              40  United-States  <=50K  \n",
       "1          4356              18  United-States  <=50K  \n",
       "2          4356              40  United-States  <=50K  \n",
       "3          3900              40  United-States  <=50K  \n",
       "4          3900              40  United-States  <=50K  "
      ]
     },
     "execution_count": 7,
     "metadata": {},
     "output_type": "execute_result"
    }
   ],
   "source": [
    "data.head()"
   ]
  },
  {
   "cell_type": "code",
   "execution_count": 8,
   "metadata": {},
   "outputs": [
    {
     "name": "stdout",
     "output_type": "stream",
     "text": [
      "<class 'pandas.core.frame.DataFrame'>\n",
      "RangeIndex: 32561 entries, 0 to 32560\n",
      "Data columns (total 15 columns):\n",
      "age               32561 non-null int64\n",
      "workclass         32561 non-null object\n",
      "fnlwgt            32561 non-null int64\n",
      "education         32561 non-null object\n",
      "education.num     32561 non-null int64\n",
      "marital.status    32561 non-null object\n",
      "occupation        32561 non-null object\n",
      "relationship      32561 non-null object\n",
      "race              32561 non-null object\n",
      "sex               32561 non-null object\n",
      "capital.gain      32561 non-null int64\n",
      "capital.loss      32561 non-null int64\n",
      "hours.per.week    32561 non-null int64\n",
      "native.country    32561 non-null object\n",
      "income            32561 non-null object\n",
      "dtypes: int64(6), object(9)\n",
      "memory usage: 3.7+ MB\n"
     ]
    }
   ],
   "source": [
    "data.info()"
   ]
  },
  {
   "cell_type": "code",
   "execution_count": 9,
   "metadata": {},
   "outputs": [
    {
     "data": {
      "text/plain": [
       "Private             22696\n",
       "Self-emp-not-inc     2541\n",
       "Local-gov            2093\n",
       "?                    1836\n",
       "State-gov            1298\n",
       "Self-emp-inc         1116\n",
       "Federal-gov           960\n",
       "Without-pay            14\n",
       "Never-worked            7\n",
       "Name: workclass, dtype: int64"
      ]
     },
     "execution_count": 9,
     "metadata": {},
     "output_type": "execute_result"
    }
   ],
   "source": [
    "data['workclass'].value_counts()"
   ]
  },
  {
   "cell_type": "code",
   "execution_count": 10,
   "metadata": {},
   "outputs": [
    {
     "data": {
      "text/plain": [
       "<=50K    24720\n",
       ">50K      7841\n",
       "Name: income, dtype: int64"
      ]
     },
     "execution_count": 10,
     "metadata": {},
     "output_type": "execute_result"
    }
   ],
   "source": [
    "data['income'].value_counts()    # Is the target variable skewed?"
   ]
  },
  {
   "cell_type": "markdown",
   "metadata": {},
   "source": [
    "#### Encode the target variable to binary"
   ]
  },
  {
   "cell_type": "code",
   "execution_count": 11,
   "metadata": {},
   "outputs": [],
   "source": [
    "data['income'] = data['income'].apply(lambda inc: 0 if inc == \"<=50K\" else 1) # Binary encoding of the target variable"
   ]
  },
  {
   "cell_type": "markdown",
   "metadata": {},
   "source": [
    "## Exploratory analysis"
   ]
  },
  {
   "cell_type": "code",
   "execution_count": 12,
   "metadata": {},
   "outputs": [
    {
     "data": {
      "text/plain": [
       "<matplotlib.axes._subplots.AxesSubplot at 0x1a19f6f2e8>"
      ]
     },
     "execution_count": 12,
     "metadata": {},
     "output_type": "execute_result"
    },
    {
     "data": {
      "image/png": "[encoded data removed]",
      "text/plain": [
       "<Figure size 576x360 with 1 Axes>"
      ]
     },
     "metadata": {
      "needs_background": "light"
     },
     "output_type": "display_data"
    }
   ],
   "source": [
    "plt.figure(figsize=(8,5))\n",
    "sns.countplot(data['income'])"
   ]
  },
  {
   "cell_type": "markdown",
   "metadata": {},
   "source": [
    "As one can see, there is considerable class imbalance in the target variable, i.e. income. This is also intuitively obvious as one expects fewer 'rich' people (earning>50k/annum) than 'not-so-rich' people (earning <50k/annum). Therefore we might need to consider over-sampling techniques in our ML model to improve our accuracy."
   ]
  },
  {
   "cell_type": "code",
   "execution_count": 13,
   "metadata": {
    "scrolled": false
   },
   "outputs": [
    {
     "data": {
      "text/plain": [
       "<matplotlib.axes._subplots.AxesSubplot at 0x1a17ddd390>"
      ]
     },
     "execution_count": 13,
     "metadata": {},
     "output_type": "execute_result"
    },
    {
     "data": {
      "image/png": "[encoded data removed]",
      "text/plain": [
       "<Figure size 1008x432 with 1 Axes>"
      ]
     },
     "metadata": {
      "needs_background": "light"
     },
     "output_type": "display_data"
    }
   ],
   "source": [
    "plt.figure(figsize=(14,6))\n",
    "sns.countplot(data['marital.status'])"
   ]
  },
  {
   "cell_type": "code",
   "execution_count": 14,
   "metadata": {},
   "outputs": [
    {
     "data": {
      "text/plain": [
       "<matplotlib.axes._subplots.AxesSubplot at 0x1a19f4f780>"
      ]
     },
     "execution_count": 14,
     "metadata": {},
     "output_type": "execute_result"
    },
    {
     "data": {
      "image/png": "[encoded data removed]",
      "text/plain": [
       "<Figure size 864x432 with 1 Axes>"
      ]
     },
     "metadata": {
      "needs_background": "light"
     },
     "output_type": "display_data"
    }
   ],
   "source": [
    "plt.figure(figsize=(12,6))\n",
    "sns.countplot(data['workclass'])"
   ]
  },
  {
   "cell_type": "code",
   "execution_count": 15,
   "metadata": {},
   "outputs": [
    {
     "data": {
      "text/plain": [
       "<matplotlib.axes._subplots.AxesSubplot at 0x104040668>"
      ]
     },
     "execution_count": 15,
     "metadata": {},
     "output_type": "execute_result"
    },
    {
     "data": {
      "image/png": "[encoded data removed]",
      "text/plain": [
       "<Figure size 720x576 with 2 Axes>"
      ]
     },
     "metadata": {
      "needs_background": "light"
     },
     "output_type": "display_data"
    }
   ],
   "source": [
    "plt.figure(figsize=(10,8))  \n",
    "sns.heatmap(data.corr(),cmap='Accent',annot=True)\n",
    "#data.corr()"
   ]
  },
  {
   "cell_type": "code",
   "execution_count": 16,
   "metadata": {},
   "outputs": [
    {
     "data": {
      "text/plain": [
       "<matplotlib.axes._subplots.AxesSubplot at 0x1a17f812e8>"
      ]
     },
     "execution_count": 16,
     "metadata": {},
     "output_type": "execute_result"
    },
    {
     "data": {
      "image/png": "[encoded data removed]",
      "text/plain": [
       "<Figure size 864x432 with 1 Axes>"
      ]
     },
     "metadata": {
      "needs_background": "light"
     },
     "output_type": "display_data"
    }
   ],
   "source": [
    "plt.figure(figsize=(12,6))\n",
    "sns.boxplot(x=\"income\", y=\"age\", data=data, hue='sex')\n",
    "#data[data['income']==0]['age'].mean()"
   ]
  },
  {
   "cell_type": "markdown",
   "metadata": {},
   "source": [
    "The mean age of people earning more than 50k per annum is around 44 whereas the mean age of of those earning less than 50k per annum is 36."
   ]
  },
  {
   "cell_type": "code",
   "execution_count": 17,
   "metadata": {
    "scrolled": true
   },
   "outputs": [
    {
     "data": {
      "text/plain": [
       "<matplotlib.axes._subplots.AxesSubplot at 0x1a17e93860>"
      ]
     },
     "execution_count": 17,
     "metadata": {},
     "output_type": "execute_result"
    },
    {
     "data": {
      "image/png": "[encoded data removed]",
      "text/plain": [
       "<Figure size 576x360 with 1 Axes>"
      ]
     },
     "metadata": {
      "needs_background": "light"
     },
     "output_type": "display_data"
    }
   ],
   "source": [
    "norm_fnl = (data[\"fnlwgt\"] - data['fnlwgt'].mean())/data['fnlwgt'].std()\n",
    "plt.figure(figsize=(8,5))\n",
    "sns.boxplot(x=\"income\", y=norm_fnl, data=data)"
   ]
  },
  {
   "cell_type": "markdown",
   "metadata": {},
   "source": [
    "As evident from the plot above, there are many outliers in the `fnlwgt` column and this feature is uncorrelated with `income`, our target variable. The correlation coefficient (which one can read from the heatmap) is -0.0095. The number of outliers, i.e. the number of records which are more than 2 s.d's away from the mean, is 1249."
   ]
  },
  {
   "cell_type": "code",
   "execution_count": 18,
   "metadata": {},
   "outputs": [
    {
     "data": {
      "text/plain": [
       "(1249, 15)"
      ]
     },
     "execution_count": 18,
     "metadata": {},
     "output_type": "execute_result"
    }
   ],
   "source": [
    "data[norm_fnl>2].shape"
   ]
  },
  {
   "cell_type": "code",
   "execution_count": 19,
   "metadata": {},
   "outputs": [
    {
     "data": {
      "text/plain": [
       "<matplotlib.axes._subplots.AxesSubplot at 0x1a19e3df98>"
      ]
     },
     "execution_count": 19,
     "metadata": {},
     "output_type": "execute_result"
    },
    {
     "data": {
      "image/png": "[encoded data removed]",
      "text/plain": [
       "<Figure size 720x360 with 1 Axes>"
      ]
     },
     "metadata": {
      "needs_background": "light"
     },
     "output_type": "display_data"
    }
   ],
   "source": [
    "plt.figure(figsize=(10,5))\n",
    "sns.barplot(x='sex',y='income',data=data)"
   ]
  },
  {
   "cell_type": "code",
   "execution_count": 20,
   "metadata": {},
   "outputs": [
    {
     "data": {
      "text/plain": [
       "Married-civ-spouse       14976\n",
       "Never-married            10683\n",
       "Divorced                  4443\n",
       "Separated                 1025\n",
       "Widowed                    993\n",
       "Married-spouse-absent      418\n",
       "Married-AF-spouse           23\n",
       "Name: marital.status, dtype: int64"
      ]
     },
     "execution_count": 20,
     "metadata": {},
     "output_type": "execute_result"
    },
    {
     "data": {
      "image/png": "[encoded data removed]",
      "text/plain": [
       "<Figure size 1080x432 with 1 Axes>"
      ]
     },
     "metadata": {
      "needs_background": "light"
     },
     "output_type": "display_data"
    }
   ],
   "source": [
    "plt.figure(figsize=(15,6))\n",
    "ax=sns.barplot(x='marital.status',y='income',data=data,hue='sex')\n",
    "ax.set(ylabel='Fraction of people with income > $50k')\n",
    "data['marital.status'].value_counts()"
   ]
  },
  {
   "cell_type": "markdown",
   "metadata": {},
   "source": [
    "The above plot shows the the fraction of people earning more than $50k per annum, grouped by their marital status and gender. The data shows that married people have a higher %age of high-earners, compared to those who either never married or are widowed/divorced/separated. The black lines indicate 2 standard deviations (or 95\\% confidence interval) in the data set. The married spouses of armed forces personnel have a much higher variation in their income compared to civil spouses because of low-number statistics."
   ]
  },
  {
   "cell_type": "code",
   "execution_count": 21,
   "metadata": {},
   "outputs": [
    {
     "data": {
      "text/plain": [
       "<matplotlib.axes._subplots.AxesSubplot at 0x1a17ef3198>"
      ]
     },
     "execution_count": 21,
     "metadata": {},
     "output_type": "execute_result"
    },
    {
     "data": {
      "image/png": "[encoded data removed]",
      "text/plain": [
       "<Figure size 864x432 with 1 Axes>"
      ]
     },
     "metadata": {
      "needs_background": "light"
     },
     "output_type": "display_data"
    }
   ],
   "source": [
    "plt.figure(figsize=(12,6))\n",
    "sns.boxplot(x='income',y ='hours.per.week', hue='sex',data=data)"
   ]
  },
  {
   "cell_type": "code",
   "execution_count": 22,
   "metadata": {},
   "outputs": [
    {
     "data": {
      "text/plain": [
       "[Text(0, 0.5, 'mean hours per week')]"
      ]
     },
     "execution_count": 22,
     "metadata": {},
     "output_type": "execute_result"
    },
    {
     "data": {
      "image/png": "[encoded data removed]",
      "text/plain": [
       "<Figure size 1080x432 with 1 Axes>"
      ]
     },
     "metadata": {
      "needs_background": "light"
     },
     "output_type": "display_data"
    }
   ],
   "source": [
    "plt.figure(figsize=(15,6))\n",
    "ax = sns.barplot(x='marital.status',y='hours.per.week',data=data,hue='sex')\n",
    "ax.set(ylabel='mean hours per week')"
   ]
  },
  {
   "cell_type": "code",
   "execution_count": 23,
   "metadata": {},
   "outputs": [
    {
     "data": {
      "text/plain": [
       "[Text(0, 0.5, 'Mean education')]"
      ]
     },
     "execution_count": 23,
     "metadata": {},
     "output_type": "execute_result"
    },
    {
     "data": {
      "image/png": "[encoded data removed]",
      "text/plain": [
       "<Figure size 720x432 with 1 Axes>"
      ]
     },
     "metadata": {
      "needs_background": "light"
     },
     "output_type": "display_data"
    }
   ],
   "source": [
    "plt.figure(figsize=(10,6))\n",
    "ax = sns.barplot(x='income', y='education.num',hue='sex', data=data)\n",
    "ax.set(ylabel='Mean education')"
   ]
  },
  {
   "cell_type": "markdown",
   "metadata": {},
   "source": [
    "The `education.num` is label encoded such that a higher number corresponds to a higher level of education. As on would naïvely expect, people who earn more (>50k per annum) are also highly educated. The mean education level for `income=1` class is between 11 (Assoc-voc) and 12 (Assoc-acdm) whereas that for the `income=0` class is between 9 (HS-grad) and 10 (Some-college)."
   ]
  },
  {
   "cell_type": "code",
   "execution_count": 24,
   "metadata": {},
   "outputs": [
    {
     "name": "stdout",
     "output_type": "stream",
     "text": [
      "White                 27816\n",
      "Black                  3124\n",
      "Asian-Pac-Islander     1039\n",
      "Amer-Indian-Eskimo      311\n",
      "Other                   271\n",
      "Name: race, dtype: int64\n"
     ]
    },
    {
     "data": {
      "text/plain": [
       "[Text(0, 0.5, 'Fraction of people with income > $50k')]"
      ]
     },
     "execution_count": 24,
     "metadata": {},
     "output_type": "execute_result"
    },
    {
     "data": {
      "image/png": "[encoded data removed]",
      "text/plain": [
       "<Figure size 720x432 with 1 Axes>"
      ]
     },
     "metadata": {
      "needs_background": "light"
     },
     "output_type": "display_data"
    }
   ],
   "source": [
    "print(data['race'].value_counts())\n",
    "plt.figure(figsize=(10,6))\n",
    "ax=sns.barplot(x='race',y='income',data=data)\n",
    "ax.set(ylabel='Fraction of people with income > $50k')"
   ]
  },
  {
   "cell_type": "code",
   "execution_count": 25,
   "metadata": {},
   "outputs": [
    {
     "data": {
      "text/plain": [
       "[Text(0, 0.5, 'Fraction of people with income > $50k')]"
      ]
     },
     "execution_count": 25,
     "metadata": {},
     "output_type": "execute_result"
    },
    {
     "data": {
      "image/png": "[encoded data removed]",
      "text/plain": [
       "<Figure size 864x432 with 1 Axes>"
      ]
     },
     "metadata": {
      "needs_background": "light"
     },
     "output_type": "display_data"
    }
   ],
   "source": [
    "plt.figure(figsize=(12,6))\n",
    "ax=sns.barplot('workclass', y='income', data=data, hue='sex')\n",
    "ax.set(ylabel='Fraction of people with income > $50k')"
   ]
  },
  {
   "cell_type": "code",
   "execution_count": 26,
   "metadata": {},
   "outputs": [
    {
     "data": {
      "text/plain": [
       "<seaborn.axisgrid.JointGrid at 0x1a19b56cc0>"
      ]
     },
     "execution_count": 26,
     "metadata": {},
     "output_type": "execute_result"
    },
    {
     "data": {
      "text/plain": [
       "<Figure size 864x432 with 0 Axes>"
      ]
     },
     "metadata": {},
     "output_type": "display_data"
    },
    {
     "data": {
      "image/png": "[encoded data removed]",
      "text/plain": [
       "<Figure size 432x432 with 3 Axes>"
      ]
     },
     "metadata": {
      "needs_background": "light"
     },
     "output_type": "display_data"
    }
   ],
   "source": [
    "plt.figure(figsize=(12,6))\n",
    "sns.jointplot(x=data['capital.gain'], y=data['capital.loss'])\n",
    "#print(data[((data['capital.gain']!=0) & (data['capital.loss']!=0))].shape)"
   ]
  },
  {
   "cell_type": "code",
   "execution_count": 27,
   "metadata": {},
   "outputs": [
    {
     "data": {
      "text/plain": [
       "<matplotlib.axes._subplots.AxesSubplot at 0x1a1a4f6160>"
      ]
     },
     "execution_count": 27,
     "metadata": {},
     "output_type": "execute_result"
    },
    {
     "data": {
      "image/png": "[encoded data removed]",
      "text/plain": [
       "<Figure size 864x576 with 1 Axes>"
      ]
     },
     "metadata": {
      "needs_background": "light"
     },
     "output_type": "display_data"
    }
   ],
   "source": [
    "plt.figure(figsize=(12,8))\n",
    "sns.distplot(data[(data['capital.gain']!=0)]['capital.gain'],kde=False, rug=True)"
   ]
  },
  {
   "cell_type": "code",
   "execution_count": 28,
   "metadata": {},
   "outputs": [
    {
     "data": {
      "text/plain": [
       "<matplotlib.axes._subplots.AxesSubplot at 0x1a1a277c18>"
      ]
     },
     "execution_count": 28,
     "metadata": {},
     "output_type": "execute_result"
    },
    {
     "data": {
      "image/png": "[encoded data removed]",
      "text/plain": [
       "<Figure size 864x576 with 1 Axes>"
      ]
     },
     "metadata": {
      "needs_background": "light"
     },
     "output_type": "display_data"
    }
   ],
   "source": [
    "plt.figure(figsize=(12,8))\n",
    "sns.distplot(data[(data['capital.loss']!=0)]['capital.loss'], kde=False,rug=True)"
   ]
  },
  {
   "cell_type": "code",
   "execution_count": 29,
   "metadata": {},
   "outputs": [
    {
     "data": {
      "text/plain": [
       "[Text(0, 0.5, 'Fraction of people with income > $50k')]"
      ]
     },
     "execution_count": 29,
     "metadata": {},
     "output_type": "execute_result"
    },
    {
     "data": {
      "image/png": "[encoded data removed]",
      "text/plain": [
       "<Figure size 1440x432 with 1 Axes>"
      ]
     },
     "metadata": {
      "needs_background": "light"
     },
     "output_type": "display_data"
    }
   ],
   "source": [
    "plt.figure(figsize=(20,6))\n",
    "ax=sns.barplot(x='occupation', y='income', data=data)\n",
    "ax.set(ylabel='Fraction of people with income > $50k')"
   ]
  },
  {
   "cell_type": "code",
   "execution_count": 30,
   "metadata": {},
   "outputs": [
    {
     "name": "stdout",
     "output_type": "stream",
     "text": [
      "United-States                 29170\n",
      "Mexico                          643\n",
      "?                               583\n",
      "Philippines                     198\n",
      "Germany                         137\n",
      "Canada                          121\n",
      "Puerto-Rico                     114\n",
      "El-Salvador                     106\n",
      "India                           100\n",
      "Cuba                             95\n",
      "England                          90\n",
      "Jamaica                          81\n",
      "South                            80\n",
      "China                            75\n",
      "Italy                            73\n",
      "Dominican-Republic               70\n",
      "Vietnam                          67\n",
      "Guatemala                        64\n",
      "Japan                            62\n",
      "Poland                           60\n",
      "Columbia                         59\n",
      "Taiwan                           51\n",
      "Haiti                            44\n",
      "Iran                             43\n",
      "Portugal                         37\n",
      "Nicaragua                        34\n",
      "Peru                             31\n",
      "Greece                           29\n",
      "France                           29\n",
      "Ecuador                          28\n",
      "Ireland                          24\n",
      "Hong                             20\n",
      "Trinadad&Tobago                  19\n",
      "Cambodia                         19\n",
      "Thailand                         18\n",
      "Laos                             18\n",
      "Yugoslavia                       16\n",
      "Outlying-US(Guam-USVI-etc)       14\n",
      "Hungary                          13\n",
      "Honduras                         13\n",
      "Scotland                         12\n",
      "Holand-Netherlands                1\n",
      "Name: native.country, dtype: int64\n",
      "3391 people are not from the United States\n"
     ]
    }
   ],
   "source": [
    "print(data['native.country'].value_counts())\n",
    "not_from_US = np.sum(data['native.country']!='United-States')\n",
    "print(not_from_US, 'people are not from the United States')"
   ]
  },
  {
   "cell_type": "code",
   "execution_count": 31,
   "metadata": {},
   "outputs": [],
   "source": [
    "# Convert the native.country feature to binary since there is a huge imbalance in this feature\n",
    "data['native.country'] = (data['native.country']=='United-States')*1"
   ]
  },
  {
   "cell_type": "code",
   "execution_count": 32,
   "metadata": {},
   "outputs": [
    {
     "data": {
      "text/html": [
       "<div>\n",
       "<style scoped>\n",
       "    .dataframe tbody tr th:only-of-type {\n",
       "        vertical-align: middle;\n",
       "    }\n",
       "\n",
       "    .dataframe tbody tr th {\n",
       "        vertical-align: top;\n",
       "    }\n",
       "\n",
       "    .dataframe thead th {\n",
       "        text-align: right;\n",
       "    }\n",
       "</style>\n",
       "<table border=\"1\" class=\"dataframe\">\n",
       "  <thead>\n",
       "    <tr style=\"text-align: right;\">\n",
       "      <th></th>\n",
       "      <th>workclass</th>\n",
       "      <th>education</th>\n",
       "      <th>marital.status</th>\n",
       "      <th>occupation</th>\n",
       "      <th>relationship</th>\n",
       "      <th>race</th>\n",
       "      <th>sex</th>\n",
       "    </tr>\n",
       "  </thead>\n",
       "  <tbody>\n",
       "    <tr>\n",
       "      <th>0</th>\n",
       "      <td>?</td>\n",
       "      <td>HS-grad</td>\n",
       "      <td>Widowed</td>\n",
       "      <td>?</td>\n",
       "      <td>Not-in-family</td>\n",
       "      <td>White</td>\n",
       "      <td>Female</td>\n",
       "    </tr>\n",
       "    <tr>\n",
       "      <th>1</th>\n",
       "      <td>Private</td>\n",
       "      <td>HS-grad</td>\n",
       "      <td>Widowed</td>\n",
       "      <td>Exec-managerial</td>\n",
       "      <td>Not-in-family</td>\n",
       "      <td>White</td>\n",
       "      <td>Female</td>\n",
       "    </tr>\n",
       "    <tr>\n",
       "      <th>2</th>\n",
       "      <td>?</td>\n",
       "      <td>Some-college</td>\n",
       "      <td>Widowed</td>\n",
       "      <td>?</td>\n",
       "      <td>Unmarried</td>\n",
       "      <td>Black</td>\n",
       "      <td>Female</td>\n",
       "    </tr>\n",
       "    <tr>\n",
       "      <th>3</th>\n",
       "      <td>Private</td>\n",
       "      <td>7th-8th</td>\n",
       "      <td>Divorced</td>\n",
       "      <td>Machine-op-inspct</td>\n",
       "      <td>Unmarried</td>\n",
       "      <td>White</td>\n",
       "      <td>Female</td>\n",
       "    </tr>\n",
       "    <tr>\n",
       "      <th>4</th>\n",
       "      <td>Private</td>\n",
       "      <td>Some-college</td>\n",
       "      <td>Separated</td>\n",
       "      <td>Prof-specialty</td>\n",
       "      <td>Own-child</td>\n",
       "      <td>White</td>\n",
       "      <td>Female</td>\n",
       "    </tr>\n",
       "  </tbody>\n",
       "</table>\n",
       "</div>"
      ],
      "text/plain": [
       "  workclass     education marital.status         occupation   relationship  \\\n",
       "0         ?       HS-grad        Widowed                  ?  Not-in-family   \n",
       "1   Private       HS-grad        Widowed    Exec-managerial  Not-in-family   \n",
       "2         ?  Some-college        Widowed                  ?      Unmarried   \n",
       "3   Private       7th-8th       Divorced  Machine-op-inspct      Unmarried   \n",
       "4   Private  Some-college      Separated     Prof-specialty      Own-child   \n",
       "\n",
       "    race     sex  \n",
       "0  White  Female  \n",
       "1  White  Female  \n",
       "2  Black  Female  \n",
       "3  White  Female  \n",
       "4  White  Female  "
      ]
     },
     "execution_count": 32,
     "metadata": {},
     "output_type": "execute_result"
    }
   ],
   "source": [
    "data.select_dtypes(exclude=[np.number]).head()"
   ]
  },
  {
   "cell_type": "code",
   "execution_count": 33,
   "metadata": {},
   "outputs": [],
   "source": [
    "data = data.applymap(lambda x: np.nan if x=='?' else x) #Replace all '?'s with NaNs."
   ]
  },
  {
   "cell_type": "code",
   "execution_count": 34,
   "metadata": {},
   "outputs": [
    {
     "data": {
      "text/plain": [
       "age                  0\n",
       "workclass         1836\n",
       "fnlwgt               0\n",
       "education            0\n",
       "education.num        0\n",
       "marital.status       0\n",
       "occupation        1843\n",
       "relationship         0\n",
       "race                 0\n",
       "sex                  0\n",
       "capital.gain         0\n",
       "capital.loss         0\n",
       "hours.per.week       0\n",
       "native.country       0\n",
       "income               0\n",
       "dtype: int64"
      ]
     },
     "execution_count": 34,
     "metadata": {},
     "output_type": "execute_result"
    }
   ],
   "source": [
    "data.isnull().sum(axis=0)"
   ]
  },
  {
   "cell_type": "code",
   "execution_count": 35,
   "metadata": {},
   "outputs": [
    {
     "data": {
      "text/plain": [
       "1843"
      ]
     },
     "execution_count": 35,
     "metadata": {},
     "output_type": "execute_result"
    }
   ],
   "source": [
    "data.shape[0] - data.dropna(axis=0).shape[0]   # how many rows will be removed if I remove all the NaN's?"
   ]
  },
  {
   "cell_type": "code",
   "execution_count": 36,
   "metadata": {},
   "outputs": [],
   "source": [
    "data = data.dropna(axis=0) ## Drop all the NaNs"
   ]
  },
  {
   "cell_type": "code",
   "execution_count": 37,
   "metadata": {},
   "outputs": [],
   "source": [
    "#data.education.value_counts()  # I will label-encode the education column since it is an ordinal categorical variable"
   ]
  },
  {
   "cell_type": "code",
   "execution_count": 38,
   "metadata": {},
   "outputs": [],
   "source": [
    "## This computes the fraction of people by country who earn >50k per annum\n",
    "#mean_income_bycountry_df = data[['native.country','income']].groupby(['native.country']).mean().reset_index()"
   ]
  },
  {
   "cell_type": "code",
   "execution_count": 39,
   "metadata": {},
   "outputs": [],
   "source": [
    "#edu_encode_dict = {'Preschool':0,'1st-4th':1, '5th-6th':2, '7th-8th':3, '9th':4, '10th':5,\n",
    "#                  '11th':6, '12th':7, 'HS-grad':8, 'Some-college':9, 'Bachelors':10, 'Masters':11, 'Assoc-voc':12, \n",
    "#                   'Assoc-acdm':13, 'Doctorate':14, 'Prof-school':15}\n",
    "\n",
    "#data['education'] = data['education'].apply(lambda ed_level: edu_encode_dict[ed_level])"
   ]
  },
  {
   "cell_type": "markdown",
   "metadata": {},
   "source": [
    "### One-hot encoding of the categorical columns"
   ]
  },
  {
   "cell_type": "code",
   "execution_count": 40,
   "metadata": {},
   "outputs": [],
   "source": [
    "data = pd.get_dummies(data,columns=['workclass','sex', 'marital.status',\n",
    "                                    'race','relationship','occupation'],\n",
    "               prefix=['workclass', 'is', 'is', 'race_is', 'relation', 'is'], drop_first=True)\n",
    "### native country is ignored because that feature will be dropped later"
   ]
  },
  {
   "cell_type": "code",
   "execution_count": 41,
   "metadata": {},
   "outputs": [
    {
     "data": {
      "text/plain": [
       "<matplotlib.axes._subplots.AxesSubplot at 0x1a1afd9588>"
      ]
     },
     "execution_count": 41,
     "metadata": {},
     "output_type": "execute_result"
    },
    {
     "data": {
      "image/png": "[encoded data removed]",
      "text/plain": [
       "<Figure size 1440x864 with 2 Axes>"
      ]
     },
     "metadata": {
      "needs_background": "light"
     },
     "output_type": "display_data"
    }
   ],
   "source": [
    "plt.figure(figsize=(20,12))\n",
    "sns.heatmap(data.corr())"
   ]
  },
  {
   "cell_type": "code",
   "execution_count": 42,
   "metadata": {},
   "outputs": [
    {
     "data": {
      "text/plain": [
       "(30718, 1)"
      ]
     },
     "execution_count": 42,
     "metadata": {},
     "output_type": "execute_result"
    }
   ],
   "source": [
    "data.select_dtypes(exclude=[np.number]).shape"
   ]
  },
  {
   "cell_type": "code",
   "execution_count": 43,
   "metadata": {},
   "outputs": [],
   "source": [
    "#data['foo']=np.where(data['native.country']=='United-States',1,0)"
   ]
  },
  {
   "cell_type": "code",
   "execution_count": 44,
   "metadata": {},
   "outputs": [
    {
     "data": {
      "text/html": [
       "<div>\n",
       "<style scoped>\n",
       "    .dataframe tbody tr th:only-of-type {\n",
       "        vertical-align: middle;\n",
       "    }\n",
       "\n",
       "    .dataframe tbody tr th {\n",
       "        vertical-align: top;\n",
       "    }\n",
       "\n",
       "    .dataframe thead th {\n",
       "        text-align: right;\n",
       "    }\n",
       "</style>\n",
       "<table border=\"1\" class=\"dataframe\">\n",
       "  <thead>\n",
       "    <tr style=\"text-align: right;\">\n",
       "      <th></th>\n",
       "      <th>age</th>\n",
       "      <th>fnlwgt</th>\n",
       "      <th>education.num</th>\n",
       "      <th>capital.gain</th>\n",
       "      <th>capital.loss</th>\n",
       "      <th>hours.per.week</th>\n",
       "      <th>native.country</th>\n",
       "      <th>workclass_Local-gov</th>\n",
       "      <th>workclass_Private</th>\n",
       "      <th>workclass_Self-emp-inc</th>\n",
       "      <th>...</th>\n",
       "      <th>is_Farming-fishing</th>\n",
       "      <th>is_Handlers-cleaners</th>\n",
       "      <th>is_Machine-op-inspct</th>\n",
       "      <th>is_Other-service</th>\n",
       "      <th>is_Priv-house-serv</th>\n",
       "      <th>is_Prof-specialty</th>\n",
       "      <th>is_Protective-serv</th>\n",
       "      <th>is_Sales</th>\n",
       "      <th>is_Tech-support</th>\n",
       "      <th>is_Transport-moving</th>\n",
       "    </tr>\n",
       "    <tr>\n",
       "      <th>income</th>\n",
       "      <th></th>\n",
       "      <th></th>\n",
       "      <th></th>\n",
       "      <th></th>\n",
       "      <th></th>\n",
       "      <th></th>\n",
       "      <th></th>\n",
       "      <th></th>\n",
       "      <th></th>\n",
       "      <th></th>\n",
       "      <th></th>\n",
       "      <th></th>\n",
       "      <th></th>\n",
       "      <th></th>\n",
       "      <th></th>\n",
       "      <th></th>\n",
       "      <th></th>\n",
       "      <th></th>\n",
       "      <th></th>\n",
       "      <th></th>\n",
       "      <th></th>\n",
       "    </tr>\n",
       "  </thead>\n",
       "  <tbody>\n",
       "    <tr>\n",
       "      <th>0</th>\n",
       "      <td>36.612190</td>\n",
       "      <td>190419.176782</td>\n",
       "      <td>9.636509</td>\n",
       "      <td>148.055618</td>\n",
       "      <td>53.528524</td>\n",
       "      <td>39.371900</td>\n",
       "      <td>0.889067</td>\n",
       "      <td>0.063985</td>\n",
       "      <td>0.768727</td>\n",
       "      <td>0.021415</td>\n",
       "      <td>...</td>\n",
       "      <td>0.038105</td>\n",
       "      <td>0.055662</td>\n",
       "      <td>0.075949</td>\n",
       "      <td>0.136900</td>\n",
       "      <td>0.006416</td>\n",
       "      <td>0.098882</td>\n",
       "      <td>0.018987</td>\n",
       "      <td>0.115615</td>\n",
       "      <td>0.027961</td>\n",
       "      <td>0.055358</td>\n",
       "    </tr>\n",
       "    <tr>\n",
       "      <th>1</th>\n",
       "      <td>43.966013</td>\n",
       "      <td>188115.803660</td>\n",
       "      <td>11.619346</td>\n",
       "      <td>3994.758170</td>\n",
       "      <td>195.601046</td>\n",
       "      <td>45.705882</td>\n",
       "      <td>0.914379</td>\n",
       "      <td>0.080654</td>\n",
       "      <td>0.648758</td>\n",
       "      <td>0.081307</td>\n",
       "      <td>...</td>\n",
       "      <td>0.015033</td>\n",
       "      <td>0.011242</td>\n",
       "      <td>0.032680</td>\n",
       "      <td>0.017908</td>\n",
       "      <td>0.000131</td>\n",
       "      <td>0.243007</td>\n",
       "      <td>0.027582</td>\n",
       "      <td>0.128497</td>\n",
       "      <td>0.036993</td>\n",
       "      <td>0.041830</td>\n",
       "    </tr>\n",
       "  </tbody>\n",
       "</table>\n",
       "<p>2 rows × 42 columns</p>\n",
       "</div>"
      ],
      "text/plain": [
       "              age         fnlwgt  education.num  capital.gain  capital.loss  \\\n",
       "income                                                                        \n",
       "0       36.612190  190419.176782       9.636509    148.055618     53.528524   \n",
       "1       43.966013  188115.803660      11.619346   3994.758170    195.601046   \n",
       "\n",
       "        hours.per.week  native.country  workclass_Local-gov  \\\n",
       "income                                                        \n",
       "0            39.371900        0.889067             0.063985   \n",
       "1            45.705882        0.914379             0.080654   \n",
       "\n",
       "        workclass_Private  workclass_Self-emp-inc  ...  is_Farming-fishing  \\\n",
       "income                                             ...                       \n",
       "0                0.768727                0.021415  ...            0.038105   \n",
       "1                0.648758                0.081307  ...            0.015033   \n",
       "\n",
       "        is_Handlers-cleaners  is_Machine-op-inspct  is_Other-service  \\\n",
       "income                                                                 \n",
       "0                   0.055662              0.075949          0.136900   \n",
       "1                   0.011242              0.032680          0.017908   \n",
       "\n",
       "        is_Priv-house-serv  is_Prof-specialty  is_Protective-serv  is_Sales  \\\n",
       "income                                                                        \n",
       "0                 0.006416           0.098882            0.018987  0.115615   \n",
       "1                 0.000131           0.243007            0.027582  0.128497   \n",
       "\n",
       "        is_Tech-support  is_Transport-moving  \n",
       "income                                        \n",
       "0              0.027961             0.055358  \n",
       "1              0.036993             0.041830  \n",
       "\n",
       "[2 rows x 42 columns]"
      ]
     },
     "execution_count": 44,
     "metadata": {},
     "output_type": "execute_result"
    }
   ],
   "source": [
    "data.groupby('income').mean()"
   ]
  },
  {
   "cell_type": "code",
   "execution_count": 45,
   "metadata": {},
   "outputs": [
    {
     "data": {
      "text/plain": [
       "(30718, 44)"
      ]
     },
     "execution_count": 45,
     "metadata": {},
     "output_type": "execute_result"
    }
   ],
   "source": [
    "data.shape"
   ]
  },
  {
   "cell_type": "code",
   "execution_count": 46,
   "metadata": {},
   "outputs": [],
   "source": [
    "y = data.income\n",
    "X = data.drop(['income', 'education', 'native.country', 'fnlwgt'],axis=1)"
   ]
  },
  {
   "cell_type": "markdown",
   "metadata": {},
   "source": [
    "- `income` is dropped from X because it is the target variable.\n",
    "- `Education` is dropped because it is already label-encoded in `education.num`. One can notice the high correlation between `education` and `education.num` in the heatmap.\n",
    "- `native country` is dropped because it showed very little feature importance in random forest classifer.\n",
    "- `fnlwgt` is dropped because it has no correlation with `income`."
   ]
  },
  {
   "cell_type": "markdown",
   "metadata": {},
   "source": [
    "## Modelling\n",
    "This section explores different classification algorithms to maximise the accuracy for predicting income of a person (> 50k/yr or < 50k/yr)."
   ]
  },
  {
   "cell_type": "code",
   "execution_count": 47,
   "metadata": {},
   "outputs": [],
   "source": [
    "from sklearn.model_selection import train_test_split"
   ]
  },
  {
   "cell_type": "code",
   "execution_count": 48,
   "metadata": {},
   "outputs": [],
   "source": [
    "# Split the dataset into training and testing set\n",
    "X_train, X_test, y_train, y_test = train_test_split(X, y, test_size=0.3, random_state=42)"
   ]
  },
  {
   "cell_type": "code",
   "execution_count": 49,
   "metadata": {},
   "outputs": [],
   "source": [
    "from sklearn.ensemble import RandomForestClassifier\n",
    "from sklearn.ensemble import ExtraTreesClassifier\n",
    "from xgboost import XGBClassifier as xgb\n",
    "from sklearn import metrics"
   ]
  },
  {
   "cell_type": "markdown",
   "metadata": {},
   "source": [
    "### Baseline model\n",
    "In the baseline model, we predict the minority class for all our train and test (or validation) examples. The resulting accuracy will serve as a benchmark for the ML models. In other words, the sophisticated ML models should have an accuracy which should at least better the baseline one."
   ]
  },
  {
   "cell_type": "code",
   "execution_count": 50,
   "metadata": {},
   "outputs": [
    {
     "name": "stdout",
     "output_type": "stream",
     "text": [
      "Accuracy on train data: 0.750442%\n",
      "Accuracy on test data: 0.752170%\n"
     ]
    }
   ],
   "source": [
    "baseline_train = np.zeros(y_train.shape[0])\n",
    "baseline_test = np.zeros(y_test.shape[0])\n",
    "print('Accuracy on train data: %f%%' % (metrics.accuracy_score(y_train, baseline_train)))\n",
    "print('Accuracy on test data: %f%%' %  (metrics.accuracy_score(y_test, baseline_test)))"
   ]
  },
  {
   "cell_type": "markdown",
   "metadata": {},
   "source": [
    "### Random Forest classifier"
   ]
  },
  {
   "cell_type": "code",
   "execution_count": 51,
   "metadata": {},
   "outputs": [
    {
     "name": "stdout",
     "output_type": "stream",
     "text": [
      "RandomForestClassifier(bootstrap=True, class_weight=None, criterion='gini',\n",
      "                       max_depth=10, max_features='auto', max_leaf_nodes=None,\n",
      "                       min_impurity_decrease=0.0, min_impurity_split=None,\n",
      "                       min_samples_leaf=1, min_samples_split=5,\n",
      "                       min_weight_fraction_leaf=0.0, n_estimators=300,\n",
      "                       n_jobs=None, oob_score=True, random_state=10, verbose=0,\n",
      "                       warm_start=False)\n"
     ]
    }
   ],
   "source": [
    "rfmodel = RandomForestClassifier(n_estimators=300,oob_score=True,min_samples_split=5, max_depth=10,random_state=10)\n",
    "rfmodel.fit(X_train,y_train)\n",
    "print(rfmodel)"
   ]
  },
  {
   "cell_type": "code",
   "execution_count": 52,
   "metadata": {},
   "outputs": [],
   "source": [
    "def show_classifier_metrics(clf, y_train=y_train,y_test=y_test, print_classification_report=True, print_confusion_matrix=True):\n",
    "    print(clf)\n",
    "    if print_confusion_matrix:\n",
    "        print('confusion matrix of training data')\n",
    "        print(metrics.confusion_matrix(y_train, clf.predict(X_train)))\n",
    "        print('confusion matrix of test data')\n",
    "        print(metrics.confusion_matrix(y_test, clf.predict(X_test)))\n",
    "    if print_classification_report:\n",
    "        print('classification report of test data')\n",
    "        print(metrics.classification_report(y_test, clf.predict(X_test)))\n",
    "    print('Accuracy on test data: %f%%' % (metrics.accuracy_score(y_test, clf.predict(X_test))*100))\n",
    "    print('Accuracy on training data: %f%%' % (metrics.accuracy_score(y_train, clf.predict(X_train))*100))\n",
    "    print('Area under the ROC curve : %f' % (metrics.roc_auc_score(y_test, clf.predict(X_test))))"
   ]
  },
  {
   "cell_type": "code",
   "execution_count": 53,
   "metadata": {},
   "outputs": [
    {
     "name": "stdout",
     "output_type": "stream",
     "text": [
      "RandomForestClassifier(bootstrap=True, class_weight=None, criterion='gini',\n",
      "                       max_depth=10, max_features='auto', max_leaf_nodes=None,\n",
      "                       min_impurity_decrease=0.0, min_impurity_split=None,\n",
      "                       min_samples_leaf=1, min_samples_split=5,\n",
      "                       min_weight_fraction_leaf=0.0, n_estimators=300,\n",
      "                       n_jobs=None, oob_score=True, random_state=10, verbose=0,\n",
      "                       warm_start=False)\n",
      "confusion matrix of training data\n",
      "[[15456   680]\n",
      " [ 2246  3120]]\n",
      "confusion matrix of test data\n",
      "[[6641  291]\n",
      " [1046 1238]]\n",
      "classification report of test data\n",
      "              precision    recall  f1-score   support\n",
      "\n",
      "           0       0.86      0.96      0.91      6932\n",
      "           1       0.81      0.54      0.65      2284\n",
      "\n",
      "    accuracy                           0.85      9216\n",
      "   macro avg       0.84      0.75      0.78      9216\n",
      "weighted avg       0.85      0.85      0.84      9216\n",
      "\n",
      "Accuracy on test data: 85.492622%\n",
      "Accuracy on training data: 86.391964%\n",
      "Area under the ROC curve : 0.750026\n",
      "oob score = 0.856711\n"
     ]
    }
   ],
   "source": [
    "show_classifier_metrics(rfmodel,y_train)\n",
    "print('oob score = %f'% rfmodel.oob_score_)"
   ]
  },
  {
   "cell_type": "code",
   "execution_count": 54,
   "metadata": {},
   "outputs": [
    {
     "data": {
      "image/png": "[encoded data removed]",
      "text/plain": [
       "<Figure size 1440x720 with 1 Axes>"
      ]
     },
     "metadata": {
      "needs_background": "light"
     },
     "output_type": "display_data"
    }
   ],
   "source": [
    "importance_list = rfmodel.feature_importances_\n",
    "name_list = X_train.columns\n",
    "importance_list, name_list = zip(*sorted(zip(importance_list, name_list)))\n",
    "plt.figure(figsize=(20,10))\n",
    "plt.barh(range(len(name_list)),importance_list,align='center')\n",
    "plt.yticks(range(len(name_list)),name_list)\n",
    "plt.xlabel('Relative Importance in the Random Forest')\n",
    "plt.ylabel('Features')\n",
    "plt.title('Relative importance of Each Feature')\n",
    "plt.show()"
   ]
  },
  {
   "cell_type": "markdown",
   "metadata": {},
   "source": [
    "### Random forest: Grid Search and cross-validation"
   ]
  },
  {
   "cell_type": "code",
   "execution_count": 55,
   "metadata": {},
   "outputs": [],
   "source": [
    "from sklearn.model_selection import cross_val_score, GridSearchCV"
   ]
  },
  {
   "cell_type": "code",
   "execution_count": 56,
   "metadata": {},
   "outputs": [],
   "source": [
    "def grid_search(clf, parameters, X, y, n_jobs= -1, n_folds=4, score_func=None):\n",
    "    if score_func:\n",
    "        gs = GridSearchCV(clf, param_grid=parameters, cv=n_folds, n_jobs=n_jobs, scoring=score_func,verbose =2)\n",
    "    else:\n",
    "        print('Doing grid search')\n",
    "        gs = GridSearchCV(clf, param_grid=parameters, n_jobs=n_jobs, cv=n_folds, verbose =2)\n",
    "    gs.fit(X, y)\n",
    "    print(\"mean test score (weighted by split size) of CV rounds: \",gs.cv_results_['mean_test_score'] )\n",
    "    print (\"Best parameter set\", gs.best_params_, \"Corresponding mean CV score\",gs.best_score_)\n",
    "    best = gs.best_estimator_\n",
    "    return best"
   ]
  },
  {
   "cell_type": "code",
   "execution_count": 57,
   "metadata": {},
   "outputs": [
    {
     "name": "stdout",
     "output_type": "stream",
     "text": [
      "Doing grid search\n",
      "Fitting 4 folds for each of 12 candidates, totalling 48 fits\n"
     ]
    },
    {
     "name": "stderr",
     "output_type": "stream",
     "text": [
      "[Parallel(n_jobs=-1)]: Using backend LokyBackend with 4 concurrent workers.\n",
      "[Parallel(n_jobs=-1)]: Done  33 tasks      | elapsed:   50.1s\n",
      "[Parallel(n_jobs=-1)]: Done  48 out of  48 | elapsed:  1.2min finished\n"
     ]
    },
    {
     "name": "stdout",
     "output_type": "stream",
     "text": [
      "mean test score (weighted by split size) of CV rounds:  [0.85610641 0.85582736 0.85601339 0.85805972 0.85768766 0.85754814\n",
      " 0.85810622 0.85838527 0.85833876 0.85912938 0.85912938 0.85982699]\n",
      "Best parameter set {'max_depth': 20, 'n_estimators': 300} Corresponding mean CV score 0.8598269928378756\n"
     ]
    }
   ],
   "source": [
    "rfmodel2 = RandomForestClassifier(min_samples_split=5,oob_score=True, n_jobs=-1,random_state=10)\n",
    "parameters = {'n_estimators': [100,200,300], 'max_depth': [10,13,15,20]}\n",
    "rfmodelCV = grid_search(rfmodel2, parameters,X_train,y_train)"
   ]
  },
  {
   "cell_type": "code",
   "execution_count": 58,
   "metadata": {},
   "outputs": [
    {
     "name": "stdout",
     "output_type": "stream",
     "text": [
      "RandomForestClassifier(bootstrap=True, class_weight=None, criterion='gini',\n",
      "                       max_depth=20, max_features='auto', max_leaf_nodes=None,\n",
      "                       min_impurity_decrease=0.0, min_impurity_split=None,\n",
      "                       min_samples_leaf=1, min_samples_split=5,\n",
      "                       min_weight_fraction_leaf=0.0, n_estimators=300,\n",
      "                       n_jobs=-1, oob_score=True, random_state=10, verbose=0,\n",
      "                       warm_start=False)\n",
      "confusion matrix of training data\n",
      "[[15613   523]\n",
      " [ 1483  3883]]\n",
      "confusion matrix of test data\n",
      "[[6557  375]\n",
      " [ 921 1363]]\n",
      "classification report of test data\n",
      "              precision    recall  f1-score   support\n",
      "\n",
      "           0       0.88      0.95      0.91      6932\n",
      "           1       0.78      0.60      0.68      2284\n",
      "\n",
      "    accuracy                           0.86      9216\n",
      "   macro avg       0.83      0.77      0.79      9216\n",
      "weighted avg       0.85      0.86      0.85      9216\n",
      "\n",
      "Accuracy on test data: 85.937500%\n",
      "Accuracy on training data: 90.670635%\n",
      "Area under the ROC curve : 0.771332\n",
      "oob score = 0.860385\n"
     ]
    }
   ],
   "source": [
    "rfmodelCV.fit(X_train,y_train)\n",
    "show_classifier_metrics(rfmodelCV,y_train)\n",
    "print('oob score = %f'% rfmodelCV.oob_score_)"
   ]
  },
  {
   "cell_type": "markdown",
   "metadata": {},
   "source": [
    "## XGBoost "
   ]
  },
  {
   "cell_type": "code",
   "execution_count": 59,
   "metadata": {},
   "outputs": [],
   "source": [
    "from xgboost.sklearn import XGBClassifier"
   ]
  },
  {
   "cell_type": "code",
   "execution_count": 60,
   "metadata": {},
   "outputs": [
    {
     "name": "stdout",
     "output_type": "stream",
     "text": [
      "[0]\tvalidation_0-error:0.150684\tvalidation_1-error:0.152778\n",
      "Multiple eval metrics have been passed: 'validation_1-error' will be used for early stopping.\n",
      "\n",
      "Will train until validation_1-error hasn't improved in 30 rounds.\n",
      "[1]\tvalidation_0-error:0.149102\tvalidation_1-error:0.151693\n",
      "[2]\tvalidation_0-error:0.150498\tvalidation_1-error:0.152561\n",
      "[3]\tvalidation_0-error:0.14873\tvalidation_1-error:0.152018\n",
      "[4]\tvalidation_0-error:0.149149\tvalidation_1-error:0.151259\n",
      "[5]\tvalidation_0-error:0.149428\tvalidation_1-error:0.151584\n",
      "[6]\tvalidation_0-error:0.149102\tvalidation_1-error:0.152018\n",
      "[7]\tvalidation_0-error:0.14873\tvalidation_1-error:0.150825\n",
      "[8]\tvalidation_0-error:0.148079\tvalidation_1-error:0.150499\n",
      "[9]\tvalidation_0-error:0.14794\tvalidation_1-error:0.150391\n",
      "[10]\tvalidation_0-error:0.147893\tvalidation_1-error:0.151259\n",
      "[11]\tvalidation_0-error:0.148033\tvalidation_1-error:0.150282\n",
      "[12]\tvalidation_0-error:0.145707\tvalidation_1-error:0.150174\n",
      "[13]\tvalidation_0-error:0.145568\tvalidation_1-error:0.149631\n",
      "[14]\tvalidation_0-error:0.145196\tvalidation_1-error:0.14898\n",
      "[15]\tvalidation_0-error:0.144917\tvalidation_1-error:0.149414\n",
      "[16]\tvalidation_0-error:0.144684\tvalidation_1-error:0.149414\n",
      "[17]\tvalidation_0-error:0.143987\tvalidation_1-error:0.148329\n",
      "[18]\tvalidation_0-error:0.143708\tvalidation_1-error:0.147895\n",
      "[19]\tvalidation_0-error:0.143289\tvalidation_1-error:0.147895\n",
      "[20]\tvalidation_0-error:0.142684\tvalidation_1-error:0.146701\n",
      "[21]\tvalidation_0-error:0.141754\tvalidation_1-error:0.146267\n",
      "[22]\tvalidation_0-error:0.141661\tvalidation_1-error:0.14605\n",
      "[23]\tvalidation_0-error:0.14115\tvalidation_1-error:0.145616\n",
      "[24]\tvalidation_0-error:0.141057\tvalidation_1-error:0.14464\n",
      "[25]\tvalidation_0-error:0.140917\tvalidation_1-error:0.144857\n",
      "[26]\tvalidation_0-error:0.140499\tvalidation_1-error:0.144965\n",
      "[27]\tvalidation_0-error:0.140359\tvalidation_1-error:0.145291\n",
      "[28]\tvalidation_0-error:0.140406\tvalidation_1-error:0.145182\n",
      "[29]\tvalidation_0-error:0.139615\tvalidation_1-error:0.144965\n",
      "[30]\tvalidation_0-error:0.139429\tvalidation_1-error:0.144965\n",
      "[31]\tvalidation_0-error:0.139429\tvalidation_1-error:0.144965\n",
      "[32]\tvalidation_0-error:0.139196\tvalidation_1-error:0.144857\n",
      "[33]\tvalidation_0-error:0.139057\tvalidation_1-error:0.144423\n",
      "[34]\tvalidation_0-error:0.139057\tvalidation_1-error:0.144206\n",
      "[35]\tvalidation_0-error:0.138545\tvalidation_1-error:0.144965\n",
      "[36]\tvalidation_0-error:0.138266\tvalidation_1-error:0.145074\n",
      "[37]\tvalidation_0-error:0.138406\tvalidation_1-error:0.145182\n",
      "[38]\tvalidation_0-error:0.137569\tvalidation_1-error:0.14464\n",
      "[39]\tvalidation_0-error:0.137615\tvalidation_1-error:0.145182\n",
      "[40]\tvalidation_0-error:0.137801\tvalidation_1-error:0.144423\n",
      "[41]\tvalidation_0-error:0.13729\tvalidation_1-error:0.144314\n",
      "[42]\tvalidation_0-error:0.137197\tvalidation_1-error:0.144097\n",
      "[43]\tvalidation_0-error:0.136685\tvalidation_1-error:0.144423\n",
      "[44]\tvalidation_0-error:0.136313\tvalidation_1-error:0.144206\n",
      "[45]\tvalidation_0-error:0.135476\tvalidation_1-error:0.142904\n",
      "[46]\tvalidation_0-error:0.135011\tvalidation_1-error:0.141927\n",
      "[47]\tvalidation_0-error:0.134964\tvalidation_1-error:0.142036\n",
      "[48]\tvalidation_0-error:0.134499\tvalidation_1-error:0.142036\n",
      "[49]\tvalidation_0-error:0.13422\tvalidation_1-error:0.142361\n",
      "[50]\tvalidation_0-error:0.133708\tvalidation_1-error:0.142036\n",
      "[51]\tvalidation_0-error:0.133755\tvalidation_1-error:0.141819\n",
      "[52]\tvalidation_0-error:0.133569\tvalidation_1-error:0.14171\n",
      "[53]\tvalidation_0-error:0.13315\tvalidation_1-error:0.141493\n",
      "[54]\tvalidation_0-error:0.133336\tvalidation_1-error:0.141602\n",
      "[55]\tvalidation_0-error:0.132918\tvalidation_1-error:0.140734\n",
      "[56]\tvalidation_0-error:0.132639\tvalidation_1-error:0.140842\n",
      "[57]\tvalidation_0-error:0.13222\tvalidation_1-error:0.139757\n",
      "[58]\tvalidation_0-error:0.131662\tvalidation_1-error:0.13954\n",
      "[59]\tvalidation_0-error:0.131523\tvalidation_1-error:0.139757\n",
      "[60]\tvalidation_0-error:0.131662\tvalidation_1-error:0.13954\n",
      "[61]\tvalidation_0-error:0.13143\tvalidation_1-error:0.139106\n",
      "[62]\tvalidation_0-error:0.131244\tvalidation_1-error:0.138346\n",
      "[63]\tvalidation_0-error:0.130686\tvalidation_1-error:0.138346\n",
      "[64]\tvalidation_0-error:0.130267\tvalidation_1-error:0.138997\n",
      "[65]\tvalidation_0-error:0.129988\tvalidation_1-error:0.138021\n",
      "[66]\tvalidation_0-error:0.129244\tvalidation_1-error:0.13737\n",
      "[67]\tvalidation_0-error:0.129011\tvalidation_1-error:0.136719\n",
      "[68]\tvalidation_0-error:0.128918\tvalidation_1-error:0.136719\n",
      "[69]\tvalidation_0-error:0.128825\tvalidation_1-error:0.13661\n",
      "[70]\tvalidation_0-error:0.128825\tvalidation_1-error:0.136719\n",
      "[71]\tvalidation_0-error:0.128779\tvalidation_1-error:0.137478\n",
      "[72]\tvalidation_0-error:0.128686\tvalidation_1-error:0.136285\n",
      "[73]\tvalidation_0-error:0.128128\tvalidation_1-error:0.135851\n",
      "[74]\tvalidation_0-error:0.128035\tvalidation_1-error:0.135851\n",
      "[75]\tvalidation_0-error:0.127477\tvalidation_1-error:0.134983\n",
      "[76]\tvalidation_0-error:0.127384\tvalidation_1-error:0.134657\n",
      "[77]\tvalidation_0-error:0.127151\tvalidation_1-error:0.134874\n",
      "[78]\tvalidation_0-error:0.127058\tvalidation_1-error:0.135308\n",
      "[79]\tvalidation_0-error:0.126965\tvalidation_1-error:0.135742\n",
      "[80]\tvalidation_0-error:0.126872\tvalidation_1-error:0.135851\n",
      "[81]\tvalidation_0-error:0.126686\tvalidation_1-error:0.134983\n",
      "[82]\tvalidation_0-error:0.126732\tvalidation_1-error:0.134983\n",
      "[83]\tvalidation_0-error:0.126686\tvalidation_1-error:0.134549\n",
      "[84]\tvalidation_0-error:0.126639\tvalidation_1-error:0.134115\n",
      "[85]\tvalidation_0-error:0.126593\tvalidation_1-error:0.133898\n",
      "[86]\tvalidation_0-error:0.1265\tvalidation_1-error:0.133898\n",
      "[87]\tvalidation_0-error:0.12636\tvalidation_1-error:0.133789\n",
      "[88]\tvalidation_0-error:0.126081\tvalidation_1-error:0.133572\n",
      "[89]\tvalidation_0-error:0.126081\tvalidation_1-error:0.133572\n",
      "[90]\tvalidation_0-error:0.125988\tvalidation_1-error:0.133898\n",
      "[91]\tvalidation_0-error:0.125849\tvalidation_1-error:0.134223\n",
      "[92]\tvalidation_0-error:0.125802\tvalidation_1-error:0.134006\n",
      "[93]\tvalidation_0-error:0.125709\tvalidation_1-error:0.133681\n",
      "[94]\tvalidation_0-error:0.12557\tvalidation_1-error:0.133681\n",
      "[95]\tvalidation_0-error:0.125244\tvalidation_1-error:0.133789\n",
      "[96]\tvalidation_0-error:0.125058\tvalidation_1-error:0.133355\n",
      "[97]\tvalidation_0-error:0.124919\tvalidation_1-error:0.133355\n",
      "[98]\tvalidation_0-error:0.124919\tvalidation_1-error:0.133464\n",
      "[99]\tvalidation_0-error:0.124733\tvalidation_1-error:0.133247\n",
      "[100]\tvalidation_0-error:0.1245\tvalidation_1-error:0.133572\n",
      "[101]\tvalidation_0-error:0.124407\tvalidation_1-error:0.133247\n",
      "[102]\tvalidation_0-error:0.124314\tvalidation_1-error:0.132812\n",
      "[103]\tvalidation_0-error:0.124547\tvalidation_1-error:0.132921\n",
      "[104]\tvalidation_0-error:0.124407\tvalidation_1-error:0.133138\n",
      "[105]\tvalidation_0-error:0.124221\tvalidation_1-error:0.13303\n",
      "[106]\tvalidation_0-error:0.124128\tvalidation_1-error:0.133247\n",
      "[107]\tvalidation_0-error:0.123895\tvalidation_1-error:0.133355\n",
      "[108]\tvalidation_0-error:0.123756\tvalidation_1-error:0.133681\n",
      "[109]\tvalidation_0-error:0.123709\tvalidation_1-error:0.13303\n",
      "[110]\tvalidation_0-error:0.123616\tvalidation_1-error:0.132812\n",
      "[111]\tvalidation_0-error:0.123616\tvalidation_1-error:0.132812\n",
      "[112]\tvalidation_0-error:0.12357\tvalidation_1-error:0.13227\n",
      "[113]\tvalidation_0-error:0.123384\tvalidation_1-error:0.132053\n",
      "[114]\tvalidation_0-error:0.123337\tvalidation_1-error:0.132053\n",
      "[115]\tvalidation_0-error:0.123337\tvalidation_1-error:0.13227\n",
      "[116]\tvalidation_0-error:0.123105\tvalidation_1-error:0.132812\n",
      "[117]\tvalidation_0-error:0.122779\tvalidation_1-error:0.132378\n",
      "[118]\tvalidation_0-error:0.122826\tvalidation_1-error:0.13227\n",
      "[119]\tvalidation_0-error:0.122593\tvalidation_1-error:0.132595\n",
      "[120]\tvalidation_0-error:0.122686\tvalidation_1-error:0.132595\n",
      "[121]\tvalidation_0-error:0.122686\tvalidation_1-error:0.132595\n",
      "[122]\tvalidation_0-error:0.122593\tvalidation_1-error:0.132487\n",
      "[123]\tvalidation_0-error:0.122733\tvalidation_1-error:0.132487\n",
      "[124]\tvalidation_0-error:0.122733\tvalidation_1-error:0.132487\n",
      "[125]\tvalidation_0-error:0.122454\tvalidation_1-error:0.132487\n",
      "[126]\tvalidation_0-error:0.122314\tvalidation_1-error:0.132161\n",
      "[127]\tvalidation_0-error:0.122314\tvalidation_1-error:0.132161\n",
      "[128]\tvalidation_0-error:0.122314\tvalidation_1-error:0.131944\n",
      "[129]\tvalidation_0-error:0.122268\tvalidation_1-error:0.132161\n",
      "[130]\tvalidation_0-error:0.122268\tvalidation_1-error:0.132053\n",
      "[131]\tvalidation_0-error:0.122175\tvalidation_1-error:0.132053\n"
     ]
    },
    {
     "name": "stdout",
     "output_type": "stream",
     "text": [
      "[132]\tvalidation_0-error:0.122128\tvalidation_1-error:0.131619\n",
      "[133]\tvalidation_0-error:0.122035\tvalidation_1-error:0.13151\n",
      "[134]\tvalidation_0-error:0.121896\tvalidation_1-error:0.13151\n",
      "[135]\tvalidation_0-error:0.121989\tvalidation_1-error:0.131293\n",
      "[136]\tvalidation_0-error:0.122175\tvalidation_1-error:0.131293\n",
      "[137]\tvalidation_0-error:0.122268\tvalidation_1-error:0.131402\n",
      "[138]\tvalidation_0-error:0.122128\tvalidation_1-error:0.131293\n",
      "[139]\tvalidation_0-error:0.122128\tvalidation_1-error:0.131185\n",
      "[140]\tvalidation_0-error:0.121896\tvalidation_1-error:0.131293\n",
      "[141]\tvalidation_0-error:0.121896\tvalidation_1-error:0.131402\n",
      "[142]\tvalidation_0-error:0.121942\tvalidation_1-error:0.130968\n",
      "[143]\tvalidation_0-error:0.121896\tvalidation_1-error:0.131076\n",
      "[144]\tvalidation_0-error:0.121942\tvalidation_1-error:0.130968\n",
      "[145]\tvalidation_0-error:0.121989\tvalidation_1-error:0.131185\n",
      "[146]\tvalidation_0-error:0.121849\tvalidation_1-error:0.130859\n",
      "[147]\tvalidation_0-error:0.122082\tvalidation_1-error:0.130968\n",
      "[148]\tvalidation_0-error:0.121942\tvalidation_1-error:0.130859\n",
      "[149]\tvalidation_0-error:0.122082\tvalidation_1-error:0.131185\n",
      "[150]\tvalidation_0-error:0.122128\tvalidation_1-error:0.130642\n",
      "[151]\tvalidation_0-error:0.121896\tvalidation_1-error:0.131293\n",
      "[152]\tvalidation_0-error:0.121989\tvalidation_1-error:0.131293\n",
      "[153]\tvalidation_0-error:0.122082\tvalidation_1-error:0.130642\n",
      "[154]\tvalidation_0-error:0.121617\tvalidation_1-error:0.131293\n",
      "[155]\tvalidation_0-error:0.121663\tvalidation_1-error:0.131293\n",
      "[156]\tvalidation_0-error:0.121756\tvalidation_1-error:0.131619\n",
      "[157]\tvalidation_0-error:0.121477\tvalidation_1-error:0.131402\n",
      "[158]\tvalidation_0-error:0.12171\tvalidation_1-error:0.130968\n",
      "[159]\tvalidation_0-error:0.12171\tvalidation_1-error:0.130968\n",
      "[160]\tvalidation_0-error:0.121663\tvalidation_1-error:0.130968\n",
      "[161]\tvalidation_0-error:0.121756\tvalidation_1-error:0.130859\n",
      "[162]\tvalidation_0-error:0.12171\tvalidation_1-error:0.130968\n",
      "[163]\tvalidation_0-error:0.121245\tvalidation_1-error:0.130968\n",
      "[164]\tvalidation_0-error:0.121431\tvalidation_1-error:0.130859\n",
      "[165]\tvalidation_0-error:0.12157\tvalidation_1-error:0.130968\n",
      "[166]\tvalidation_0-error:0.121384\tvalidation_1-error:0.130317\n",
      "[167]\tvalidation_0-error:0.121198\tvalidation_1-error:0.130208\n",
      "[168]\tvalidation_0-error:0.121431\tvalidation_1-error:0.130208\n",
      "[169]\tvalidation_0-error:0.121384\tvalidation_1-error:0.130317\n",
      "[170]\tvalidation_0-error:0.121291\tvalidation_1-error:0.130425\n",
      "[171]\tvalidation_0-error:0.120965\tvalidation_1-error:0.130208\n",
      "[172]\tvalidation_0-error:0.120965\tvalidation_1-error:0.1301\n",
      "[173]\tvalidation_0-error:0.120872\tvalidation_1-error:0.129991\n",
      "[174]\tvalidation_0-error:0.120733\tvalidation_1-error:0.129666\n",
      "[175]\tvalidation_0-error:0.120733\tvalidation_1-error:0.129557\n",
      "[176]\tvalidation_0-error:0.120826\tvalidation_1-error:0.129449\n",
      "[177]\tvalidation_0-error:0.120686\tvalidation_1-error:0.130425\n",
      "[178]\tvalidation_0-error:0.12064\tvalidation_1-error:0.130425\n",
      "[179]\tvalidation_0-error:0.120361\tvalidation_1-error:0.130317\n",
      "[180]\tvalidation_0-error:0.120035\tvalidation_1-error:0.130425\n",
      "[181]\tvalidation_0-error:0.120035\tvalidation_1-error:0.130534\n",
      "[182]\tvalidation_0-error:0.119989\tvalidation_1-error:0.130534\n",
      "[183]\tvalidation_0-error:0.119896\tvalidation_1-error:0.130534\n",
      "[184]\tvalidation_0-error:0.119989\tvalidation_1-error:0.130317\n",
      "[185]\tvalidation_0-error:0.120082\tvalidation_1-error:0.130534\n",
      "[186]\tvalidation_0-error:0.119942\tvalidation_1-error:0.130534\n",
      "[187]\tvalidation_0-error:0.119896\tvalidation_1-error:0.130534\n",
      "[188]\tvalidation_0-error:0.119803\tvalidation_1-error:0.130751\n",
      "[189]\tvalidation_0-error:0.119803\tvalidation_1-error:0.130642\n",
      "[190]\tvalidation_0-error:0.119663\tvalidation_1-error:0.130751\n",
      "[191]\tvalidation_0-error:0.119617\tvalidation_1-error:0.130317\n",
      "[192]\tvalidation_0-error:0.11971\tvalidation_1-error:0.1301\n",
      "[193]\tvalidation_0-error:0.119849\tvalidation_1-error:0.130425\n",
      "[194]\tvalidation_0-error:0.119384\tvalidation_1-error:0.130317\n",
      "[195]\tvalidation_0-error:0.119012\tvalidation_1-error:0.131402\n",
      "[196]\tvalidation_0-error:0.118547\tvalidation_1-error:0.131619\n",
      "[197]\tvalidation_0-error:0.118454\tvalidation_1-error:0.131727\n",
      "[198]\tvalidation_0-error:0.117803\tvalidation_1-error:0.131293\n",
      "[199]\tvalidation_0-error:0.11771\tvalidation_1-error:0.131185\n",
      "[200]\tvalidation_0-error:0.11757\tvalidation_1-error:0.130859\n",
      "[201]\tvalidation_0-error:0.117338\tvalidation_1-error:0.130859\n",
      "[202]\tvalidation_0-error:0.117384\tvalidation_1-error:0.130859\n",
      "[203]\tvalidation_0-error:0.117198\tvalidation_1-error:0.131076\n",
      "[204]\tvalidation_0-error:0.117338\tvalidation_1-error:0.131293\n",
      "[205]\tvalidation_0-error:0.117338\tvalidation_1-error:0.131185\n",
      "[206]\tvalidation_0-error:0.117338\tvalidation_1-error:0.131293\n",
      "Stopping. Best iteration:\n",
      "[176]\tvalidation_0-error:0.120826\tvalidation_1-error:0.129449\n",
      "\n"
     ]
    },
    {
     "data": {
      "text/plain": [
       "XGBClassifier(base_score=0.5, booster='gbtree', colsample_bylevel=0.9,\n",
       "              colsample_bytree=0.9, gamma=0, learning_rate=0.1,\n",
       "              max_delta_step=0, max_depth=5, min_child_weight=1, missing=None,\n",
       "              n_estimators=400, n_jobs=1, nthread=None,\n",
       "              objective='binary:logistic', random_state=0, reg_alpha=0,\n",
       "              reg_lambda=1.5, scale_pos_weight=1, seed=10, silent=True,\n",
       "              subsample=0.9, verbosity=1)"
      ]
     },
     "execution_count": 60,
     "metadata": {},
     "output_type": "execute_result"
    }
   ],
   "source": [
    "param = {}\n",
    "param['learning_rate'] = 0.1\n",
    "param['verbosity'] = 1\n",
    "param['colsample_bylevel'] = 0.9\n",
    "param['colsample_bytree'] = 0.9\n",
    "param['subsample'] = 0.9\n",
    "param['reg_lambda']= 1.5\n",
    "param['max_depth'] = 5\n",
    "param['n_estimators'] = 400\n",
    "param['seed']=10\n",
    "xgb= XGBClassifier(**param)\n",
    "xgb.fit(X_train, y_train, eval_metric=['error'], eval_set=[(X_train, y_train),(X_test, y_test)],early_stopping_rounds=30)"
   ]
  },
  {
   "cell_type": "code",
   "execution_count": 61,
   "metadata": {},
   "outputs": [
    {
     "name": "stdout",
     "output_type": "stream",
     "text": [
      "XGBClassifier(base_score=0.5, booster='gbtree', colsample_bylevel=0.9,\n",
      "              colsample_bytree=0.9, gamma=0, learning_rate=0.1,\n",
      "              max_delta_step=0, max_depth=5, min_child_weight=1, missing=None,\n",
      "              n_estimators=400, n_jobs=1, nthread=None,\n",
      "              objective='binary:logistic', random_state=0, reg_alpha=0,\n",
      "              reg_lambda=1.5, scale_pos_weight=1, seed=10, silent=True,\n",
      "              subsample=0.9, verbosity=1)\n",
      "confusion matrix of training data\n",
      "[[15241   895]\n",
      " [ 1703  3663]]\n",
      "confusion matrix of test data\n",
      "[[6552  380]\n",
      " [ 813 1471]]\n",
      "classification report of test data\n",
      "              precision    recall  f1-score   support\n",
      "\n",
      "           0       0.89      0.95      0.92      6932\n",
      "           1       0.79      0.64      0.71      2284\n",
      "\n",
      "    accuracy                           0.87      9216\n",
      "   macro avg       0.84      0.79      0.81      9216\n",
      "weighted avg       0.87      0.87      0.87      9216\n",
      "\n",
      "Accuracy on test data: 87.055122%\n",
      "Accuracy on training data: 87.917403%\n",
      "Area under the ROC curve : 0.794614\n"
     ]
    }
   ],
   "source": [
    "show_classifier_metrics(xgb,y_train)"
   ]
  },
  {
   "cell_type": "code",
   "execution_count": 62,
   "metadata": {},
   "outputs": [
    {
     "data": {
      "image/png": "[encoded data removed]",
      "text/plain": [
       "<Figure size 1440x720 with 1 Axes>"
      ]
     },
     "metadata": {
      "needs_background": "light"
     },
     "output_type": "display_data"
    }
   ],
   "source": [
    "importance_list = xgb.feature_importances_\n",
    "name_list = X_train.columns\n",
    "importance_list, name_list = zip(*sorted(zip(importance_list, name_list)))\n",
    "plt.figure(figsize=(20,10))\n",
    "plt.barh(range(len(name_list)),importance_list,align='center')\n",
    "plt.yticks(range(len(name_list)),name_list)\n",
    "plt.xlabel('Relative Importance in XGBoost')\n",
    "plt.ylabel('Features')\n",
    "plt.title('Relative importance of Each Feature')\n",
    "plt.show()"
   ]
  },
  {
   "cell_type": "markdown",
   "metadata": {},
   "source": [
    "### Grid search with cross validation: XGBoost model"
   ]
  },
  {
   "cell_type": "code",
   "execution_count": 63,
   "metadata": {},
   "outputs": [
    {
     "name": "stdout",
     "output_type": "stream",
     "text": [
      "Doing grid search\n",
      "Fitting 4 folds for each of 6 candidates, totalling 24 fits\n"
     ]
    },
    {
     "name": "stderr",
     "output_type": "stream",
     "text": [
      "[Parallel(n_jobs=-1)]: Using backend LokyBackend with 4 concurrent workers.\n",
      "[Parallel(n_jobs=-1)]: Done  24 out of  24 | elapsed:  1.5min finished\n"
     ]
    },
    {
     "name": "stdout",
     "output_type": "stream",
     "text": [
      "mean test score (weighted by split size) of CV rounds:  [0.86745419 0.86661706 0.86875639 0.86982606 0.86461724 0.86554739]\n",
      "Best parameter set {'colsample_bylevel': 0.9, 'colsample_bytree': 0.9, 'learning_rate': 0.1, 'max_depth': 5, 'n_estimators': 300, 'reg_lambda': 2, 'seed': 10, 'subsample': 0.9} Corresponding mean CV score 0.8698260626918426\n"
     ]
    }
   ],
   "source": [
    "xgbmodel2 = XGBClassifier(seed=42)\n",
    "param = {\n",
    "'learning_rate': [0.1],\n",
    "#'verbosity': [1],\n",
    "'colsample_bylevel': [0.9],\n",
    "'colsample_bytree': [0.9],\n",
    "'subsample' : [0.9],\n",
    "'n_estimators': [300],\n",
    "'reg_lambda': [1.5,2],\n",
    "'max_depth': [3,5,7],\n",
    " 'seed': [10]   \n",
    "}\n",
    "xgbCV = grid_search(xgbmodel2, param,X_train,y_train)"
   ]
  },
  {
   "cell_type": "code",
   "execution_count": 64,
   "metadata": {},
   "outputs": [
    {
     "name": "stdout",
     "output_type": "stream",
     "text": [
      "[0]\tvalidation_0-error:0.150684\tvalidation_1-error:0.152778\n",
      "Multiple eval metrics have been passed: 'validation_1-error' will be used for early stopping.\n",
      "\n",
      "Will train until validation_1-error hasn't improved in 30 rounds.\n",
      "[1]\tvalidation_0-error:0.149102\tvalidation_1-error:0.151693\n",
      "[2]\tvalidation_0-error:0.150498\tvalidation_1-error:0.152561\n",
      "[3]\tvalidation_0-error:0.14873\tvalidation_1-error:0.152018\n",
      "[4]\tvalidation_0-error:0.149195\tvalidation_1-error:0.151259\n",
      "[5]\tvalidation_0-error:0.149288\tvalidation_1-error:0.151259\n",
      "[6]\tvalidation_0-error:0.149102\tvalidation_1-error:0.15191\n",
      "[7]\tvalidation_0-error:0.148684\tvalidation_1-error:0.150716\n",
      "[8]\tvalidation_0-error:0.147986\tvalidation_1-error:0.150065\n",
      "[9]\tvalidation_0-error:0.147986\tvalidation_1-error:0.150065\n",
      "[10]\tvalidation_0-error:0.14794\tvalidation_1-error:0.151042\n",
      "[11]\tvalidation_0-error:0.148079\tvalidation_1-error:0.150391\n",
      "[12]\tvalidation_0-error:0.145707\tvalidation_1-error:0.149957\n",
      "[13]\tvalidation_0-error:0.145242\tvalidation_1-error:0.14974\n",
      "[14]\tvalidation_0-error:0.145056\tvalidation_1-error:0.149197\n",
      "[15]\tvalidation_0-error:0.144963\tvalidation_1-error:0.149089\n",
      "[16]\tvalidation_0-error:0.144591\tvalidation_1-error:0.14898\n",
      "[17]\tvalidation_0-error:0.144173\tvalidation_1-error:0.148112\n",
      "[18]\tvalidation_0-error:0.143661\tvalidation_1-error:0.147786\n",
      "[19]\tvalidation_0-error:0.143475\tvalidation_1-error:0.147786\n",
      "[20]\tvalidation_0-error:0.142777\tvalidation_1-error:0.147135\n",
      "[21]\tvalidation_0-error:0.142033\tvalidation_1-error:0.147027\n",
      "[22]\tvalidation_0-error:0.142359\tvalidation_1-error:0.147027\n",
      "[23]\tvalidation_0-error:0.141894\tvalidation_1-error:0.145833\n",
      "[24]\tvalidation_0-error:0.141568\tvalidation_1-error:0.145074\n",
      "[25]\tvalidation_0-error:0.141289\tvalidation_1-error:0.145182\n",
      "[26]\tvalidation_0-error:0.141289\tvalidation_1-error:0.14464\n",
      "[27]\tvalidation_0-error:0.141196\tvalidation_1-error:0.144423\n",
      "[28]\tvalidation_0-error:0.141196\tvalidation_1-error:0.144423\n",
      "[29]\tvalidation_0-error:0.140638\tvalidation_1-error:0.144206\n",
      "[30]\tvalidation_0-error:0.140406\tvalidation_1-error:0.144097\n",
      "[31]\tvalidation_0-error:0.140452\tvalidation_1-error:0.144314\n",
      "[32]\tvalidation_0-error:0.139708\tvalidation_1-error:0.144097\n",
      "[33]\tvalidation_0-error:0.139522\tvalidation_1-error:0.144097\n",
      "[34]\tvalidation_0-error:0.139243\tvalidation_1-error:0.144097\n",
      "[35]\tvalidation_0-error:0.139382\tvalidation_1-error:0.143772\n",
      "[36]\tvalidation_0-error:0.138964\tvalidation_1-error:0.144206\n",
      "[37]\tvalidation_0-error:0.138173\tvalidation_1-error:0.143555\n",
      "[38]\tvalidation_0-error:0.137476\tvalidation_1-error:0.14464\n",
      "[39]\tvalidation_0-error:0.137708\tvalidation_1-error:0.14464\n",
      "[40]\tvalidation_0-error:0.13729\tvalidation_1-error:0.144206\n",
      "[41]\tvalidation_0-error:0.137104\tvalidation_1-error:0.143555\n",
      "[42]\tvalidation_0-error:0.137057\tvalidation_1-error:0.143338\n",
      "[43]\tvalidation_0-error:0.136545\tvalidation_1-error:0.143446\n",
      "[44]\tvalidation_0-error:0.13608\tvalidation_1-error:0.143012\n",
      "[45]\tvalidation_0-error:0.135708\tvalidation_1-error:0.142253\n",
      "[46]\tvalidation_0-error:0.135848\tvalidation_1-error:0.142687\n",
      "[47]\tvalidation_0-error:0.135243\tvalidation_1-error:0.142144\n",
      "[48]\tvalidation_0-error:0.134685\tvalidation_1-error:0.143012\n",
      "[49]\tvalidation_0-error:0.134592\tvalidation_1-error:0.143229\n",
      "[50]\tvalidation_0-error:0.13436\tvalidation_1-error:0.143229\n",
      "[51]\tvalidation_0-error:0.13422\tvalidation_1-error:0.143121\n",
      "[52]\tvalidation_0-error:0.133383\tvalidation_1-error:0.142361\n",
      "[53]\tvalidation_0-error:0.13329\tvalidation_1-error:0.141493\n",
      "[54]\tvalidation_0-error:0.133104\tvalidation_1-error:0.141276\n",
      "[55]\tvalidation_0-error:0.133336\tvalidation_1-error:0.140951\n",
      "[56]\tvalidation_0-error:0.133011\tvalidation_1-error:0.140951\n",
      "[57]\tvalidation_0-error:0.132825\tvalidation_1-error:0.140951\n",
      "[58]\tvalidation_0-error:0.132546\tvalidation_1-error:0.140299\n",
      "[59]\tvalidation_0-error:0.13236\tvalidation_1-error:0.139974\n",
      "[60]\tvalidation_0-error:0.13236\tvalidation_1-error:0.139865\n",
      "[61]\tvalidation_0-error:0.132034\tvalidation_1-error:0.139323\n",
      "[62]\tvalidation_0-error:0.131523\tvalidation_1-error:0.138997\n",
      "[63]\tvalidation_0-error:0.131104\tvalidation_1-error:0.138563\n",
      "[64]\tvalidation_0-error:0.130732\tvalidation_1-error:0.13878\n",
      "[65]\tvalidation_0-error:0.130639\tvalidation_1-error:0.138129\n",
      "[66]\tvalidation_0-error:0.130267\tvalidation_1-error:0.138021\n",
      "[67]\tvalidation_0-error:0.130267\tvalidation_1-error:0.137695\n",
      "[68]\tvalidation_0-error:0.129662\tvalidation_1-error:0.137804\n",
      "[69]\tvalidation_0-error:0.129802\tvalidation_1-error:0.138238\n",
      "[70]\tvalidation_0-error:0.129569\tvalidation_1-error:0.137695\n",
      "[71]\tvalidation_0-error:0.12929\tvalidation_1-error:0.137478\n",
      "[72]\tvalidation_0-error:0.128918\tvalidation_1-error:0.136827\n",
      "[73]\tvalidation_0-error:0.128872\tvalidation_1-error:0.137261\n",
      "[74]\tvalidation_0-error:0.129197\tvalidation_1-error:0.136719\n",
      "[75]\tvalidation_0-error:0.128593\tvalidation_1-error:0.136502\n",
      "[76]\tvalidation_0-error:0.128407\tvalidation_1-error:0.135851\n",
      "[77]\tvalidation_0-error:0.128407\tvalidation_1-error:0.135851\n",
      "[78]\tvalidation_0-error:0.128128\tvalidation_1-error:0.135742\n",
      "[79]\tvalidation_0-error:0.127849\tvalidation_1-error:0.135634\n",
      "[80]\tvalidation_0-error:0.127756\tvalidation_1-error:0.135634\n",
      "[81]\tvalidation_0-error:0.127523\tvalidation_1-error:0.135417\n",
      "[82]\tvalidation_0-error:0.127384\tvalidation_1-error:0.135417\n",
      "[83]\tvalidation_0-error:0.127244\tvalidation_1-error:0.135308\n",
      "[84]\tvalidation_0-error:0.127104\tvalidation_1-error:0.134983\n",
      "[85]\tvalidation_0-error:0.127151\tvalidation_1-error:0.134983\n",
      "[86]\tvalidation_0-error:0.127104\tvalidation_1-error:0.135091\n",
      "[87]\tvalidation_0-error:0.127011\tvalidation_1-error:0.134657\n",
      "[88]\tvalidation_0-error:0.126872\tvalidation_1-error:0.134983\n",
      "[89]\tvalidation_0-error:0.126872\tvalidation_1-error:0.134874\n",
      "[90]\tvalidation_0-error:0.126639\tvalidation_1-error:0.134657\n",
      "[91]\tvalidation_0-error:0.126174\tvalidation_1-error:0.134223\n",
      "[92]\tvalidation_0-error:0.126128\tvalidation_1-error:0.134006\n",
      "[93]\tvalidation_0-error:0.126128\tvalidation_1-error:0.134115\n",
      "[94]\tvalidation_0-error:0.125895\tvalidation_1-error:0.13444\n",
      "[95]\tvalidation_0-error:0.125942\tvalidation_1-error:0.134006\n",
      "[96]\tvalidation_0-error:0.126174\tvalidation_1-error:0.134006\n",
      "[97]\tvalidation_0-error:0.126267\tvalidation_1-error:0.134006\n",
      "[98]\tvalidation_0-error:0.126221\tvalidation_1-error:0.133898\n",
      "[99]\tvalidation_0-error:0.125802\tvalidation_1-error:0.133681\n",
      "[100]\tvalidation_0-error:0.125477\tvalidation_1-error:0.133789\n",
      "[101]\tvalidation_0-error:0.125198\tvalidation_1-error:0.133572\n",
      "[102]\tvalidation_0-error:0.125151\tvalidation_1-error:0.133247\n",
      "[103]\tvalidation_0-error:0.125105\tvalidation_1-error:0.133355\n",
      "[104]\tvalidation_0-error:0.125151\tvalidation_1-error:0.133247\n",
      "[105]\tvalidation_0-error:0.125105\tvalidation_1-error:0.133464\n",
      "[106]\tvalidation_0-error:0.124872\tvalidation_1-error:0.133572\n",
      "[107]\tvalidation_0-error:0.124779\tvalidation_1-error:0.133789\n",
      "[108]\tvalidation_0-error:0.124686\tvalidation_1-error:0.133789\n",
      "[109]\tvalidation_0-error:0.124407\tvalidation_1-error:0.133681\n",
      "[110]\tvalidation_0-error:0.124454\tvalidation_1-error:0.133572\n",
      "[111]\tvalidation_0-error:0.12464\tvalidation_1-error:0.133572\n",
      "[112]\tvalidation_0-error:0.124454\tvalidation_1-error:0.133355\n",
      "[113]\tvalidation_0-error:0.124268\tvalidation_1-error:0.133138\n",
      "[114]\tvalidation_0-error:0.124081\tvalidation_1-error:0.132921\n",
      "[115]\tvalidation_0-error:0.124221\tvalidation_1-error:0.133247\n",
      "[116]\tvalidation_0-error:0.124454\tvalidation_1-error:0.133464\n",
      "[117]\tvalidation_0-error:0.123988\tvalidation_1-error:0.133138\n",
      "[118]\tvalidation_0-error:0.123942\tvalidation_1-error:0.133138\n",
      "[119]\tvalidation_0-error:0.124174\tvalidation_1-error:0.133247\n",
      "[120]\tvalidation_0-error:0.124081\tvalidation_1-error:0.133138\n",
      "[121]\tvalidation_0-error:0.124081\tvalidation_1-error:0.133138\n",
      "[122]\tvalidation_0-error:0.123895\tvalidation_1-error:0.132921\n",
      "[123]\tvalidation_0-error:0.123895\tvalidation_1-error:0.132704\n",
      "[124]\tvalidation_0-error:0.123849\tvalidation_1-error:0.132812\n",
      "[125]\tvalidation_0-error:0.123709\tvalidation_1-error:0.132378\n",
      "[126]\tvalidation_0-error:0.123384\tvalidation_1-error:0.13227\n",
      "[127]\tvalidation_0-error:0.123337\tvalidation_1-error:0.13227\n",
      "[128]\tvalidation_0-error:0.123151\tvalidation_1-error:0.132487\n",
      "[129]\tvalidation_0-error:0.123151\tvalidation_1-error:0.132595\n",
      "[130]\tvalidation_0-error:0.123337\tvalidation_1-error:0.132161\n",
      "[131]\tvalidation_0-error:0.12343\tvalidation_1-error:0.13227\n"
     ]
    },
    {
     "name": "stdout",
     "output_type": "stream",
     "text": [
      "[132]\tvalidation_0-error:0.123384\tvalidation_1-error:0.132053\n",
      "[133]\tvalidation_0-error:0.123477\tvalidation_1-error:0.132487\n",
      "[134]\tvalidation_0-error:0.123244\tvalidation_1-error:0.131727\n",
      "[135]\tvalidation_0-error:0.123105\tvalidation_1-error:0.131836\n",
      "[136]\tvalidation_0-error:0.122733\tvalidation_1-error:0.132053\n",
      "[137]\tvalidation_0-error:0.122919\tvalidation_1-error:0.131619\n",
      "[138]\tvalidation_0-error:0.12264\tvalidation_1-error:0.131185\n",
      "[139]\tvalidation_0-error:0.12264\tvalidation_1-error:0.131185\n",
      "[140]\tvalidation_0-error:0.122872\tvalidation_1-error:0.131293\n",
      "[141]\tvalidation_0-error:0.122779\tvalidation_1-error:0.131619\n",
      "[142]\tvalidation_0-error:0.12264\tvalidation_1-error:0.131727\n",
      "[143]\tvalidation_0-error:0.122686\tvalidation_1-error:0.131727\n",
      "[144]\tvalidation_0-error:0.122686\tvalidation_1-error:0.131944\n",
      "[145]\tvalidation_0-error:0.12264\tvalidation_1-error:0.131727\n",
      "[146]\tvalidation_0-error:0.122593\tvalidation_1-error:0.131619\n",
      "[147]\tvalidation_0-error:0.1225\tvalidation_1-error:0.131727\n",
      "[148]\tvalidation_0-error:0.12264\tvalidation_1-error:0.131727\n",
      "[149]\tvalidation_0-error:0.122268\tvalidation_1-error:0.13151\n",
      "[150]\tvalidation_0-error:0.122314\tvalidation_1-error:0.13151\n",
      "[151]\tvalidation_0-error:0.122268\tvalidation_1-error:0.131293\n",
      "[152]\tvalidation_0-error:0.122407\tvalidation_1-error:0.131727\n",
      "[153]\tvalidation_0-error:0.12264\tvalidation_1-error:0.131727\n",
      "[154]\tvalidation_0-error:0.122407\tvalidation_1-error:0.131727\n",
      "[155]\tvalidation_0-error:0.122268\tvalidation_1-error:0.131619\n",
      "[156]\tvalidation_0-error:0.122268\tvalidation_1-error:0.13151\n",
      "[157]\tvalidation_0-error:0.122407\tvalidation_1-error:0.131402\n",
      "[158]\tvalidation_0-error:0.122268\tvalidation_1-error:0.131402\n",
      "[159]\tvalidation_0-error:0.122268\tvalidation_1-error:0.131402\n",
      "[160]\tvalidation_0-error:0.122361\tvalidation_1-error:0.131619\n",
      "[161]\tvalidation_0-error:0.122035\tvalidation_1-error:0.13151\n",
      "[162]\tvalidation_0-error:0.121803\tvalidation_1-error:0.13151\n",
      "[163]\tvalidation_0-error:0.121756\tvalidation_1-error:0.131727\n",
      "[164]\tvalidation_0-error:0.12171\tvalidation_1-error:0.131944\n",
      "[165]\tvalidation_0-error:0.121803\tvalidation_1-error:0.131944\n",
      "[166]\tvalidation_0-error:0.121803\tvalidation_1-error:0.13151\n",
      "[167]\tvalidation_0-error:0.12171\tvalidation_1-error:0.131836\n",
      "[168]\tvalidation_0-error:0.12171\tvalidation_1-error:0.131836\n",
      "Stopping. Best iteration:\n",
      "[138]\tvalidation_0-error:0.12264\tvalidation_1-error:0.131185\n",
      "\n"
     ]
    },
    {
     "data": {
      "text/plain": [
       "XGBClassifier(base_score=0.5, booster='gbtree', colsample_bylevel=0.9,\n",
       "              colsample_bytree=0.9, gamma=0, learning_rate=0.1,\n",
       "              max_delta_step=0, max_depth=5, min_child_weight=1, missing=None,\n",
       "              n_estimators=300, n_jobs=1, nthread=None,\n",
       "              objective='binary:logistic', random_state=0, reg_alpha=0,\n",
       "              reg_lambda=2, scale_pos_weight=1, seed=10, silent=True,\n",
       "              subsample=0.9)"
      ]
     },
     "execution_count": 64,
     "metadata": {},
     "output_type": "execute_result"
    }
   ],
   "source": [
    "xgbCV.fit(X_train, y_train, eval_metric=['error'], eval_set=[(X_train, y_train),(X_test, y_test)],early_stopping_rounds=30)"
   ]
  },
  {
   "cell_type": "code",
   "execution_count": 65,
   "metadata": {},
   "outputs": [
    {
     "name": "stdout",
     "output_type": "stream",
     "text": [
      "XGBClassifier(base_score=0.5, booster='gbtree', colsample_bylevel=0.9,\n",
      "              colsample_bytree=0.9, gamma=0, learning_rate=0.1,\n",
      "              max_delta_step=0, max_depth=5, min_child_weight=1, missing=None,\n",
      "              n_estimators=300, n_jobs=1, nthread=None,\n",
      "              objective='binary:logistic', random_state=0, reg_alpha=0,\n",
      "              reg_lambda=2, scale_pos_weight=1, seed=10, silent=True,\n",
      "              subsample=0.9)\n",
      "confusion matrix of training data\n",
      "[[15248   888]\n",
      " [ 1749  3617]]\n",
      "confusion matrix of test data\n",
      "[[6549  383]\n",
      " [ 826 1458]]\n",
      "classification report of test data\n",
      "              precision    recall  f1-score   support\n",
      "\n",
      "           0       0.89      0.94      0.92      6932\n",
      "           1       0.79      0.64      0.71      2284\n",
      "\n",
      "    accuracy                           0.87      9216\n",
      "   macro avg       0.84      0.79      0.81      9216\n",
      "weighted avg       0.86      0.87      0.86      9216\n",
      "\n",
      "Accuracy on test data: 86.881510%\n",
      "Accuracy on training data: 87.736025%\n",
      "Area under the ROC curve : 0.791551\n"
     ]
    }
   ],
   "source": [
    "show_classifier_metrics(xgbCV,y_train)"
   ]
  },
  {
   "cell_type": "code",
   "execution_count": 66,
   "metadata": {},
   "outputs": [],
   "source": [
    "#X_test.iloc[np.where(y_test != xgbCV.predict(X_test))]"
   ]
  },
  {
   "cell_type": "markdown",
   "metadata": {},
   "source": [
    "## Logistic regression"
   ]
  },
  {
   "cell_type": "code",
   "execution_count": 67,
   "metadata": {},
   "outputs": [],
   "source": [
    "from sklearn.linear_model import LogisticRegression"
   ]
  },
  {
   "cell_type": "code",
   "execution_count": 68,
   "metadata": {},
   "outputs": [
    {
     "name": "stderr",
     "output_type": "stream",
     "text": [
      "/Users/debashis/anaconda3/lib/python3.6/site-packages/sklearn/linear_model/logistic.py:432: FutureWarning: Default solver will be changed to 'lbfgs' in 0.22. Specify a solver to silence this warning.\n",
      "  FutureWarning)\n"
     ]
    },
    {
     "data": {
      "text/plain": [
       "LogisticRegression(C=0.8, class_weight=None, dual=False, fit_intercept=True,\n",
       "                   intercept_scaling=1, l1_ratio=None, max_iter=200,\n",
       "                   multi_class='warn', n_jobs=None, penalty='l2',\n",
       "                   random_state=42, solver='warn', tol=0.0001, verbose=0,\n",
       "                   warm_start=False)"
      ]
     },
     "execution_count": 68,
     "metadata": {},
     "output_type": "execute_result"
    }
   ],
   "source": [
    "logreg = LogisticRegression(C=0.8,random_state=42,max_iter=200)\n",
    "logreg.fit(X_train, y_train)"
   ]
  },
  {
   "cell_type": "code",
   "execution_count": null,
   "metadata": {},
   "outputs": [
    {
     "name": "stdout",
     "output_type": "stream",
     "text": [
      "LogisticRegression(C=0.8, class_weight=None, dual=False, fit_intercept=True,\n",
      "                   intercept_scaling=1, l1_ratio=None, max_iter=200,\n",
      "                   multi_class='warn', n_jobs=None, penalty='l2',\n",
      "                   random_state=42, solver='warn', tol=0.0001, verbose=0,\n",
      "                   warm_start=False)\n",
      "confusion matrix of training data\n",
      "[[14953  1183]\n",
      " [ 2092  3274]]\n",
      "confusion matrix of test data\n",
      "[[6424  508]\n",
      " [ 924 1360]]\n",
      "classification report of test data\n",
      "              precision    recall  f1-score   support\n",
      "\n",
      "           0       0.87      0.93      0.90      6932\n",
      "           1       0.73      0.60      0.66      2284\n",
      "\n",
      "    accuracy                           0.84      9216\n",
      "   macro avg       0.80      0.76      0.78      9216\n",
      "weighted avg       0.84      0.84      0.84      9216\n",
      "\n",
      "Accuracy on test data: 84.461806%\n",
      "Accuracy on training data: 84.768859%\n",
      "Area under the ROC curve : 0.761082\n"
     ]
    }
   ],
   "source": [
    "show_classifier_metrics(logreg)"
   ]
  },
  {
   "cell_type": "markdown",
   "metadata": {},
   "source": [
    "## Naive Bayes"
   ]
  },
  {
   "cell_type": "code",
   "execution_count": null,
   "metadata": {},
   "outputs": [],
   "source": [
    "from sklearn.naive_bayes import GaussianNB"
   ]
  },
  {
   "cell_type": "code",
   "execution_count": null,
   "metadata": {},
   "outputs": [],
   "source": [
    "NBmodel = GaussianNB()"
   ]
  },
  {
   "cell_type": "code",
   "execution_count": null,
   "metadata": {},
   "outputs": [
    {
     "data": {
      "text/plain": [
       "GaussianNB(priors=None, var_smoothing=1e-09)"
      ]
     },
     "execution_count": 72,
     "metadata": {},
     "output_type": "execute_result"
    }
   ],
   "source": [
    "NBmodel.fit(X_train, y_train)"
   ]
  },
  {
   "cell_type": "code",
   "execution_count": null,
   "metadata": {},
   "outputs": [
    {
     "data": {
      "text/plain": [
       "array([0, 0, 0, ..., 0, 0, 0])"
      ]
     },
     "execution_count": 73,
     "metadata": {},
     "output_type": "execute_result"
    }
   ],
   "source": [
    "NBmodel.predict(X_test)"
   ]
  },
  {
   "cell_type": "code",
   "execution_count": null,
   "metadata": {},
   "outputs": [
    {
     "name": "stdout",
     "output_type": "stream",
     "text": [
      "GaussianNB(priors=None, var_smoothing=1e-09)\n",
      "confusion matrix of training data\n",
      "[[13743  2393]\n",
      " [ 1409  3957]]\n",
      "confusion matrix of test data\n",
      "[[5935  997]\n",
      " [ 642 1642]]\n",
      "classification report of test data\n",
      "              precision    recall  f1-score   support\n",
      "\n",
      "           0       0.90      0.86      0.88      6932\n",
      "           1       0.62      0.72      0.67      2284\n",
      "\n",
      "    accuracy                           0.82      9216\n",
      "   macro avg       0.76      0.79      0.77      9216\n",
      "weighted avg       0.83      0.82      0.83      9216\n",
      "\n",
      "Accuracy on test data: 82.215712%\n",
      "Accuracy on training data: 82.317924%\n",
      "Area under the ROC curve : 0.787544\n"
     ]
    }
   ],
   "source": [
    "show_classifier_metrics(NBmodel,y_train)"
   ]
  },
  {
   "cell_type": "markdown",
   "metadata": {},
   "source": [
    "### Stacked model"
   ]
  },
  {
   "cell_type": "code",
   "execution_count": null,
   "metadata": {},
   "outputs": [],
   "source": [
    "def create_stacked_dataset(clfs,modelnames, X_train=X_train,X_test=X_test):\n",
    "    X_train_stack, X_test_stack = X_train, X_test\n",
    "    for clf,modelname in zip(clfs,modelnames):\n",
    "        temptrain = pd.DataFrame(clf.predict(X_train),index = X_train.index,columns=[modelname+'_prediction'])\n",
    "        temptest  = pd.DataFrame(clf.predict(X_test),index = X_test.index,columns=[modelname+'_prediction'])\n",
    "        X_train_stack = pd.concat([X_train_stack, temptrain], axis=1)\n",
    "        X_test_stack = pd.concat([X_test_stack, temptest], axis=1)\n",
    "    return (X_train_stack,X_test_stack)"
   ]
  },
  {
   "cell_type": "code",
   "execution_count": null,
   "metadata": {},
   "outputs": [],
   "source": [
    "X_train_stack,X_test_stack = create_stacked_dataset([NBmodel,rfmodel,logreg,xgb],modelnames=['NBmodel','rfmodel','logreg','xgb'])"
   ]
  },
  {
   "cell_type": "code",
   "execution_count": null,
   "metadata": {},
   "outputs": [
    {
     "data": {
      "text/html": [
       "<div>\n",
       "<style scoped>\n",
       "    .dataframe tbody tr th:only-of-type {\n",
       "        vertical-align: middle;\n",
       "    }\n",
       "\n",
       "    .dataframe tbody tr th {\n",
       "        vertical-align: top;\n",
       "    }\n",
       "\n",
       "    .dataframe thead th {\n",
       "        text-align: right;\n",
       "    }\n",
       "</style>\n",
       "<table border=\"1\" class=\"dataframe\">\n",
       "  <thead>\n",
       "    <tr style=\"text-align: right;\">\n",
       "      <th></th>\n",
       "      <th>age</th>\n",
       "      <th>education.num</th>\n",
       "      <th>capital.gain</th>\n",
       "      <th>capital.loss</th>\n",
       "      <th>hours.per.week</th>\n",
       "      <th>workclass_Local-gov</th>\n",
       "      <th>workclass_Private</th>\n",
       "      <th>workclass_Self-emp-inc</th>\n",
       "      <th>workclass_Self-emp-not-inc</th>\n",
       "      <th>workclass_State-gov</th>\n",
       "      <th>...</th>\n",
       "      <th>is_Priv-house-serv</th>\n",
       "      <th>is_Prof-specialty</th>\n",
       "      <th>is_Protective-serv</th>\n",
       "      <th>is_Sales</th>\n",
       "      <th>is_Tech-support</th>\n",
       "      <th>is_Transport-moving</th>\n",
       "      <th>NBmodel_prediction</th>\n",
       "      <th>rfmodel_prediction</th>\n",
       "      <th>logreg_prediction</th>\n",
       "      <th>xgb_prediction</th>\n",
       "    </tr>\n",
       "  </thead>\n",
       "  <tbody>\n",
       "    <tr>\n",
       "      <th>31369</th>\n",
       "      <td>36</td>\n",
       "      <td>10</td>\n",
       "      <td>0</td>\n",
       "      <td>0</td>\n",
       "      <td>60</td>\n",
       "      <td>0</td>\n",
       "      <td>1</td>\n",
       "      <td>0</td>\n",
       "      <td>0</td>\n",
       "      <td>0</td>\n",
       "      <td>...</td>\n",
       "      <td>0</td>\n",
       "      <td>0</td>\n",
       "      <td>0</td>\n",
       "      <td>0</td>\n",
       "      <td>0</td>\n",
       "      <td>0</td>\n",
       "      <td>0</td>\n",
       "      <td>0</td>\n",
       "      <td>0</td>\n",
       "      <td>0</td>\n",
       "    </tr>\n",
       "    <tr>\n",
       "      <th>31013</th>\n",
       "      <td>20</td>\n",
       "      <td>6</td>\n",
       "      <td>0</td>\n",
       "      <td>0</td>\n",
       "      <td>40</td>\n",
       "      <td>0</td>\n",
       "      <td>1</td>\n",
       "      <td>0</td>\n",
       "      <td>0</td>\n",
       "      <td>0</td>\n",
       "      <td>...</td>\n",
       "      <td>0</td>\n",
       "      <td>0</td>\n",
       "      <td>0</td>\n",
       "      <td>0</td>\n",
       "      <td>0</td>\n",
       "      <td>0</td>\n",
       "      <td>0</td>\n",
       "      <td>0</td>\n",
       "      <td>0</td>\n",
       "      <td>0</td>\n",
       "    </tr>\n",
       "  </tbody>\n",
       "</table>\n",
       "<p>2 rows × 44 columns</p>\n",
       "</div>"
      ],
      "text/plain": [
       "       age  education.num  capital.gain  capital.loss  hours.per.week  \\\n",
       "31369   36             10             0             0              60   \n",
       "31013   20              6             0             0              40   \n",
       "\n",
       "       workclass_Local-gov  workclass_Private  workclass_Self-emp-inc  \\\n",
       "31369                    0                  1                       0   \n",
       "31013                    0                  1                       0   \n",
       "\n",
       "       workclass_Self-emp-not-inc  workclass_State-gov  ...  \\\n",
       "31369                           0                    0  ...   \n",
       "31013                           0                    0  ...   \n",
       "\n",
       "       is_Priv-house-serv  is_Prof-specialty  is_Protective-serv  is_Sales  \\\n",
       "31369                   0                  0                   0         0   \n",
       "31013                   0                  0                   0         0   \n",
       "\n",
       "       is_Tech-support  is_Transport-moving  NBmodel_prediction  \\\n",
       "31369                0                    0                   0   \n",
       "31013                0                    0                   0   \n",
       "\n",
       "       rfmodel_prediction  logreg_prediction  xgb_prediction  \n",
       "31369                   0                  0               0  \n",
       "31013                   0                  0               0  \n",
       "\n",
       "[2 rows x 44 columns]"
      ]
     },
     "execution_count": 77,
     "metadata": {},
     "output_type": "execute_result"
    }
   ],
   "source": [
    "X_train_stack.head(2)"
   ]
  },
  {
   "cell_type": "code",
   "execution_count": null,
   "metadata": {},
   "outputs": [
    {
     "name": "stdout",
     "output_type": "stream",
     "text": [
      "[0]\tvalidation_0-error:0.12064\tvalidation_1-error:0.129774\n",
      "Multiple eval metrics have been passed: 'validation_1-error' will be used for early stopping.\n",
      "\n",
      "Will train until validation_1-error hasn't improved in 30 rounds.\n",
      "[1]\tvalidation_0-error:0.120733\tvalidation_1-error:0.129666\n",
      "[2]\tvalidation_0-error:0.120733\tvalidation_1-error:0.129666\n",
      "[3]\tvalidation_0-error:0.120826\tvalidation_1-error:0.129449\n",
      "[4]\tvalidation_0-error:0.120826\tvalidation_1-error:0.129449\n",
      "[5]\tvalidation_0-error:0.120826\tvalidation_1-error:0.129449\n",
      "[6]\tvalidation_0-error:0.120826\tvalidation_1-error:0.129449\n",
      "[7]\tvalidation_0-error:0.120826\tvalidation_1-error:0.129449\n",
      "[8]\tvalidation_0-error:0.120826\tvalidation_1-error:0.129449\n",
      "[9]\tvalidation_0-error:0.120826\tvalidation_1-error:0.129449\n",
      "[10]\tvalidation_0-error:0.120779\tvalidation_1-error:0.129449\n",
      "[11]\tvalidation_0-error:0.120779\tvalidation_1-error:0.129449\n",
      "[12]\tvalidation_0-error:0.120686\tvalidation_1-error:0.129557\n",
      "[13]\tvalidation_0-error:0.120779\tvalidation_1-error:0.129449\n",
      "[14]\tvalidation_0-error:0.120779\tvalidation_1-error:0.129449\n",
      "[15]\tvalidation_0-error:0.120779\tvalidation_1-error:0.129449\n",
      "[16]\tvalidation_0-error:0.120779\tvalidation_1-error:0.129557\n",
      "[17]\tvalidation_0-error:0.120779\tvalidation_1-error:0.129557\n",
      "[18]\tvalidation_0-error:0.120779\tvalidation_1-error:0.129557\n",
      "[19]\tvalidation_0-error:0.120779\tvalidation_1-error:0.129557\n",
      "[20]\tvalidation_0-error:0.120593\tvalidation_1-error:0.129666\n",
      "[21]\tvalidation_0-error:0.120593\tvalidation_1-error:0.129666\n",
      "[22]\tvalidation_0-error:0.120593\tvalidation_1-error:0.129666\n",
      "[23]\tvalidation_0-error:0.120593\tvalidation_1-error:0.129666\n",
      "[24]\tvalidation_0-error:0.120593\tvalidation_1-error:0.129666\n",
      "[25]\tvalidation_0-error:0.12064\tvalidation_1-error:0.129666\n",
      "[26]\tvalidation_0-error:0.12064\tvalidation_1-error:0.129666\n",
      "[27]\tvalidation_0-error:0.12064\tvalidation_1-error:0.129666\n",
      "[28]\tvalidation_0-error:0.12064\tvalidation_1-error:0.129666\n",
      "[29]\tvalidation_0-error:0.12064\tvalidation_1-error:0.129666\n",
      "[30]\tvalidation_0-error:0.12064\tvalidation_1-error:0.129666\n",
      "[31]\tvalidation_0-error:0.12064\tvalidation_1-error:0.129666\n",
      "[32]\tvalidation_0-error:0.120593\tvalidation_1-error:0.129666\n",
      "[33]\tvalidation_0-error:0.120593\tvalidation_1-error:0.129666\n",
      "Stopping. Best iteration:\n",
      "[3]\tvalidation_0-error:0.120826\tvalidation_1-error:0.129449\n",
      "\n"
     ]
    },
    {
     "data": {
      "text/plain": [
       "XGBClassifier(base_score=0.5, booster='gbtree', colsample_bylevel=0.9,\n",
       "              colsample_bytree=0.9, gamma=0, learning_rate=0.1,\n",
       "              max_delta_step=0, max_depth=5, min_child_weight=1, missing=None,\n",
       "              n_estimators=400, n_jobs=1, nthread=None,\n",
       "              objective='binary:logistic', random_state=0, reg_alpha=0,\n",
       "              reg_lambda=1.5, scale_pos_weight=1, seed=10, silent=True,\n",
       "              subsample=0.9, verbosity=1)"
      ]
     },
     "execution_count": 78,
     "metadata": {},
     "output_type": "execute_result"
    }
   ],
   "source": [
    "param = {}\n",
    "param['learning_rate'] = 0.1\n",
    "param['verbosity'] = 1\n",
    "param['colsample_bylevel'] = 0.9\n",
    "param['colsample_bytree'] = 0.9\n",
    "param['subsample'] = 0.9\n",
    "param['reg_lambda']= 1.5\n",
    "param['max_depth'] = 5#10\n",
    "param['n_estimators'] = 400\n",
    "param['seed']=10\n",
    "xgbstack= XGBClassifier(**param)\n",
    "xgbstack.fit(X_train_stack, y_train, eval_metric=['error'], eval_set=[(X_train_stack, y_train),(X_test_stack, y_test)],early_stopping_rounds=30)\n"
   ]
  },
  {
   "cell_type": "code",
   "execution_count": null,
   "metadata": {},
   "outputs": [
    {
     "name": "stdout",
     "output_type": "stream",
     "text": [
      "              precision    recall  f1-score   support\n",
      "\n",
      "           0       0.89      0.95      0.92      6932\n",
      "           1       0.79      0.64      0.71      2284\n",
      "\n",
      "    accuracy                           0.87      9216\n",
      "   macro avg       0.84      0.79      0.81      9216\n",
      "weighted avg       0.87      0.87      0.87      9216\n",
      "\n",
      "Accuracy on test data: 87.055122%\n",
      "Accuracy on training data: 87.917403%\n"
     ]
    }
   ],
   "source": [
    "print(metrics.classification_report(y_test, xgbstack.predict(X_test_stack)))\n",
    "print('Accuracy on test data: %f%%' % (metrics.accuracy_score(y_test, xgbstack.predict(X_test_stack))*100))\n",
    "print('Accuracy on training data: %f%%' % (metrics.accuracy_score(y_train, xgbstack.predict(X_train_stack))*100))"
   ]
  },
  {
   "cell_type": "markdown",
   "metadata": {},
   "source": [
    "### Stacked model Grid Search"
   ]
  },
  {
   "cell_type": "code",
   "execution_count": null,
   "metadata": {},
   "outputs": [
    {
     "name": "stdout",
     "output_type": "stream",
     "text": [
      "Doing grid search\n",
      "Fitting 4 folds for each of 4 candidates, totalling 16 fits\n"
     ]
    },
    {
     "name": "stderr",
     "output_type": "stream",
     "text": [
      "[Parallel(n_jobs=-1)]: Using backend LokyBackend with 4 concurrent workers.\n",
      "[Parallel(n_jobs=-1)]: Done  16 out of  16 | elapsed:  1.5min finished\n"
     ]
    },
    {
     "name": "stdout",
     "output_type": "stream",
     "text": [
      "mean test score (weighted by split size) of CV rounds:  [0.87824388 0.87503488 0.86805879 0.86280346]\n",
      "Best parameter set {'colsample_bylevel': 0.9, 'colsample_bytree': 0.9, 'learning_rate': 0.1, 'max_depth': 3, 'n_estimators': 300, 'reg_lambda': 1.5, 'seed': 10, 'subsample': 0.9} Corresponding mean CV score 0.8782438842898335\n"
     ]
    }
   ],
   "source": [
    "xgbstackCV = XGBClassifier(seed=10)\n",
    "param_grid = {}\n",
    "param_grid['learning_rate'] = [0.1]\n",
    "param_grid['colsample_bylevel'] = [0.9]\n",
    "param_grid['colsample_bytree'] = [0.9]\n",
    "param_grid['subsample'] = [0.9]\n",
    "param_grid['n_estimators'] = [300]\n",
    "param_grid['reg_lambda']= [1.5]\n",
    "param_grid['seed'] =[10]\n",
    "param_grid['max_depth'] = [3,5,8,10]\n",
    "xgbstackCV_grid = grid_search(xgbstackCV, param_grid,X_train_stack,y_train)"
   ]
  },
  {
   "cell_type": "code",
   "execution_count": null,
   "metadata": {},
   "outputs": [
    {
     "name": "stdout",
     "output_type": "stream",
     "text": [
      "[0]\tvalidation_0-error:0.120826\tvalidation_1-error:0.129449\n",
      "Multiple eval metrics have been passed: 'validation_1-error' will be used for early stopping.\n",
      "\n",
      "Will train until validation_1-error hasn't improved in 30 rounds.\n",
      "[1]\tvalidation_0-error:0.120826\tvalidation_1-error:0.129449\n",
      "[2]\tvalidation_0-error:0.120826\tvalidation_1-error:0.129449\n",
      "[3]\tvalidation_0-error:0.120826\tvalidation_1-error:0.129449\n",
      "[4]\tvalidation_0-error:0.120826\tvalidation_1-error:0.129449\n",
      "[5]\tvalidation_0-error:0.120826\tvalidation_1-error:0.129449\n",
      "[6]\tvalidation_0-error:0.120826\tvalidation_1-error:0.129449\n",
      "[7]\tvalidation_0-error:0.120826\tvalidation_1-error:0.129449\n",
      "[8]\tvalidation_0-error:0.120826\tvalidation_1-error:0.129449\n",
      "[9]\tvalidation_0-error:0.120826\tvalidation_1-error:0.129449\n",
      "[10]\tvalidation_0-error:0.120826\tvalidation_1-error:0.129449\n",
      "[11]\tvalidation_0-error:0.120826\tvalidation_1-error:0.129449\n",
      "[12]\tvalidation_0-error:0.120826\tvalidation_1-error:0.129449\n",
      "[13]\tvalidation_0-error:0.120826\tvalidation_1-error:0.129449\n",
      "[14]\tvalidation_0-error:0.120826\tvalidation_1-error:0.129449\n",
      "[15]\tvalidation_0-error:0.120826\tvalidation_1-error:0.129449\n",
      "[16]\tvalidation_0-error:0.120826\tvalidation_1-error:0.129449\n",
      "[17]\tvalidation_0-error:0.120826\tvalidation_1-error:0.129449\n",
      "[18]\tvalidation_0-error:0.120826\tvalidation_1-error:0.129449\n",
      "[19]\tvalidation_0-error:0.120826\tvalidation_1-error:0.129449\n",
      "[20]\tvalidation_0-error:0.120826\tvalidation_1-error:0.129449\n",
      "[21]\tvalidation_0-error:0.120826\tvalidation_1-error:0.129449\n",
      "[22]\tvalidation_0-error:0.120826\tvalidation_1-error:0.129449\n",
      "[23]\tvalidation_0-error:0.120826\tvalidation_1-error:0.129449\n",
      "[24]\tvalidation_0-error:0.120826\tvalidation_1-error:0.129449\n",
      "[25]\tvalidation_0-error:0.120826\tvalidation_1-error:0.129449\n",
      "[26]\tvalidation_0-error:0.120826\tvalidation_1-error:0.129449\n",
      "[27]\tvalidation_0-error:0.120826\tvalidation_1-error:0.129449\n",
      "[28]\tvalidation_0-error:0.120826\tvalidation_1-error:0.129449\n",
      "[29]\tvalidation_0-error:0.120826\tvalidation_1-error:0.129449\n",
      "[30]\tvalidation_0-error:0.120826\tvalidation_1-error:0.129449\n",
      "Stopping. Best iteration:\n",
      "[0]\tvalidation_0-error:0.120826\tvalidation_1-error:0.129449\n",
      "\n"
     ]
    },
    {
     "data": {
      "text/plain": [
       "XGBClassifier(base_score=0.5, booster='gbtree', colsample_bylevel=0.9,\n",
       "              colsample_bytree=0.9, gamma=0, learning_rate=0.1,\n",
       "              max_delta_step=0, max_depth=3, min_child_weight=1, missing=None,\n",
       "              n_estimators=300, n_jobs=1, nthread=None,\n",
       "              objective='binary:logistic', random_state=0, reg_alpha=0,\n",
       "              reg_lambda=1.5, scale_pos_weight=1, seed=10, silent=True,\n",
       "              subsample=0.9)"
      ]
     },
     "execution_count": 81,
     "metadata": {},
     "output_type": "execute_result"
    }
   ],
   "source": [
    "xgbstackCV_grid.fit(X_train_stack, y_train, eval_metric=['error'], eval_set=[(X_train_stack, y_train),(X_test_stack, y_test)],early_stopping_rounds=30)"
   ]
  },
  {
   "cell_type": "code",
   "execution_count": null,
   "metadata": {},
   "outputs": [
    {
     "name": "stdout",
     "output_type": "stream",
     "text": [
      "              precision    recall  f1-score   support\n",
      "\n",
      "           0       0.89      0.95      0.92      6932\n",
      "           1       0.79      0.64      0.71      2284\n",
      "\n",
      "    accuracy                           0.87      9216\n",
      "   macro avg       0.84      0.79      0.81      9216\n",
      "weighted avg       0.87      0.87      0.87      9216\n",
      "\n",
      "Accuracy on test data: 87.055122%\n",
      "Accuracy on training data: 87.917403%\n"
     ]
    }
   ],
   "source": [
    "print(metrics.classification_report(y_test, xgbstack.predict(X_test_stack)))\n",
    "print('Accuracy on test data: %f%%' % (metrics.accuracy_score(y_test, xgbstack.predict(X_test_stack))*100))\n",
    "print('Accuracy on training data: %f%%' % (metrics.accuracy_score(y_train, xgbstack.predict(X_train_stack))*100))"
   ]
  },
  {
   "cell_type": "code",
   "execution_count": null,
   "metadata": {},
   "outputs": [],
   "source": [
    "from catboost import CatBoostClassifier"
   ]
  },
  {
   "cell_type": "code",
   "execution_count": null,
   "metadata": {},
   "outputs": [],
   "source": [
    "catb = CatBoostClassifier(learning_rate=0.1,iterations=400,verbose=1,random_seed=10,eval_metric='Accuracy',rsm=0.9)"
   ]
  },
  {
   "cell_type": "code",
   "execution_count": null,
   "metadata": {},
   "outputs": [
    {
     "name": "stdout",
     "output_type": "stream",
     "text": [
      "0:\tlearn: 0.8371779\ttest: 0.8371779\ttest1: 0.8371311\tbest: 0.8371311 (0)\ttotal: 195ms\tremaining: 1m 17s\n",
      "1:\tlearn: 0.8440610\ttest: 0.8440610\ttest1: 0.8403863\tbest: 0.8403863 (1)\ttotal: 333ms\tremaining: 1m 6s\n",
      "2:\tlearn: 0.8460608\ttest: 0.8460608\ttest1: 0.8440755\tbest: 0.8440755 (2)\ttotal: 419ms\tremaining: 55.5s\n",
      "3:\tlearn: 0.8455027\ttest: 0.8455027\ttest1: 0.8446181\tbest: 0.8446181 (3)\ttotal: 467ms\tremaining: 46.3s\n",
      "4:\tlearn: 0.8466189\ttest: 0.8466189\ttest1: 0.8457031\tbest: 0.8457031 (4)\ttotal: 511ms\tremaining: 40.4s\n",
      "5:\tlearn: 0.8480606\ttest: 0.8480606\ttest1: 0.8468967\tbest: 0.8468967 (5)\ttotal: 549ms\tremaining: 36s\n",
      "6:\tlearn: 0.8477816\ttest: 0.8477816\ttest1: 0.8457031\tbest: 0.8468967 (5)\ttotal: 606ms\tremaining: 34s\n",
      "7:\tlearn: 0.8478281\ttest: 0.8478281\ttest1: 0.8464627\tbest: 0.8468967 (5)\ttotal: 678ms\tremaining: 33.2s\n",
      "8:\tlearn: 0.8476886\ttest: 0.8476886\ttest1: 0.8457031\tbest: 0.8468967 (5)\ttotal: 757ms\tremaining: 32.9s\n",
      "9:\tlearn: 0.8479211\ttest: 0.8479211\ttest1: 0.8463542\tbest: 0.8468967 (5)\ttotal: 835ms\tremaining: 32.6s\n",
      "10:\tlearn: 0.8487583\ttest: 0.8487583\ttest1: 0.8481988\tbest: 0.8481988 (10)\ttotal: 896ms\tremaining: 31.7s\n",
      "11:\tlearn: 0.8500605\ttest: 0.8500605\ttest1: 0.8483073\tbest: 0.8483073 (11)\ttotal: 1.01s\tremaining: 32.7s\n",
      "12:\tlearn: 0.8501070\ttest: 0.8501070\ttest1: 0.8486328\tbest: 0.8486328 (12)\ttotal: 1.08s\tremaining: 32.3s\n",
      "13:\tlearn: 0.8515022\ttest: 0.8515022\ttest1: 0.8488498\tbest: 0.8488498 (13)\ttotal: 1.15s\tremaining: 31.7s\n",
      "14:\tlearn: 0.8512231\ttest: 0.8512231\ttest1: 0.8505859\tbest: 0.8505859 (14)\ttotal: 1.26s\tremaining: 32.4s\n",
      "15:\tlearn: 0.8525719\ttest: 0.8525719\ttest1: 0.8495009\tbest: 0.8505859 (14)\ttotal: 1.32s\tremaining: 31.7s\n",
      "16:\tlearn: 0.8533625\ttest: 0.8533625\ttest1: 0.8503689\tbest: 0.8505859 (14)\ttotal: 1.39s\tremaining: 31.3s\n",
      "17:\tlearn: 0.8541066\ttest: 0.8541066\ttest1: 0.8505859\tbest: 0.8505859 (14)\ttotal: 1.44s\tremaining: 30.5s\n",
      "18:\tlearn: 0.8537810\ttest: 0.8537810\ttest1: 0.8505859\tbest: 0.8505859 (14)\ttotal: 1.48s\tremaining: 29.7s\n",
      "19:\tlearn: 0.8538741\ttest: 0.8538741\ttest1: 0.8508030\tbest: 0.8508030 (19)\ttotal: 1.52s\tremaining: 29s\n",
      "20:\tlearn: 0.8547577\ttest: 0.8547577\ttest1: 0.8515625\tbest: 0.8515625 (20)\ttotal: 1.62s\tremaining: 29.3s\n",
      "21:\tlearn: 0.8556413\ttest: 0.8556413\ttest1: 0.8523220\tbest: 0.8523220 (21)\ttotal: 1.76s\tremaining: 30.3s\n",
      "22:\tlearn: 0.8556878\ttest: 0.8556878\ttest1: 0.8528646\tbest: 0.8528646 (22)\ttotal: 1.86s\tremaining: 30.6s\n",
      "23:\tlearn: 0.8564320\ttest: 0.8564320\ttest1: 0.8532986\tbest: 0.8532986 (23)\ttotal: 1.91s\tremaining: 29.9s\n",
      "24:\tlearn: 0.8565250\ttest: 0.8565250\ttest1: 0.8534071\tbest: 0.8534071 (24)\ttotal: 1.96s\tremaining: 29.3s\n",
      "25:\tlearn: 0.8571296\ttest: 0.8571296\ttest1: 0.8535156\tbest: 0.8535156 (25)\ttotal: 2s\tremaining: 28.8s\n",
      "26:\tlearn: 0.8581062\ttest: 0.8581062\ttest1: 0.8541667\tbest: 0.8541667 (26)\ttotal: 2.04s\tremaining: 28.2s\n",
      "27:\tlearn: 0.8577342\ttest: 0.8577342\ttest1: 0.8534071\tbest: 0.8541667 (26)\ttotal: 2.1s\tremaining: 27.9s\n",
      "28:\tlearn: 0.8581062\ttest: 0.8581062\ttest1: 0.8540582\tbest: 0.8541667 (26)\ttotal: 2.14s\tremaining: 27.4s\n",
      "29:\tlearn: 0.8579202\ttest: 0.8579202\ttest1: 0.8542752\tbest: 0.8542752 (29)\ttotal: 2.18s\tremaining: 26.9s\n",
      "30:\tlearn: 0.8582457\ttest: 0.8582457\ttest1: 0.8541667\tbest: 0.8542752 (29)\ttotal: 2.23s\tremaining: 26.5s\n",
      "31:\tlearn: 0.8582923\ttest: 0.8582923\ttest1: 0.8544922\tbest: 0.8544922 (31)\ttotal: 2.27s\tremaining: 26.1s\n"
     ]
    }
   ],
   "source": [
    "catb.fit(X_train,y_train,eval_set=[(X_train,y_train), (X_test,y_test)],early_stopping_rounds=30)"
   ]
  },
  {
   "cell_type": "code",
   "execution_count": null,
   "metadata": {},
   "outputs": [],
   "source": [
    "show_classifier_metrics(catb)"
   ]
  },
  {
   "cell_type": "code",
   "execution_count": null,
   "metadata": {},
   "outputs": [],
   "source": [
    "from imblearn.over_sampling import RandomOverSampler"
   ]
  },
  {
   "cell_type": "code",
   "execution_count": null,
   "metadata": {},
   "outputs": [],
   "source": [
    "np.sum(y_train)/y_train.shape[0]"
   ]
  },
  {
   "cell_type": "code",
   "execution_count": null,
   "metadata": {},
   "outputs": [],
   "source": [
    "ros = RandomOverSampler(random_state=1,sampling_strategy='auto')"
   ]
  },
  {
   "cell_type": "code",
   "execution_count": null,
   "metadata": {},
   "outputs": [],
   "source": [
    "X_resampled, y_resampled = ros.fit_resample(X_train, y_train)"
   ]
  },
  {
   "cell_type": "code",
   "execution_count": null,
   "metadata": {},
   "outputs": [],
   "source": [
    "catb_ros = CatBoostClassifier(learning_rate=0.1,iterations=400,verbose=1,random_seed=10,eval_metric='Accuracy')"
   ]
  },
  {
   "cell_type": "code",
   "execution_count": null,
   "metadata": {},
   "outputs": [],
   "source": [
    "catb_ros.fit(X_resampled,y_resampled,eval_set=[(X_resampled,y_resampled), (X_test,y_test)],early_stopping_rounds=30)"
   ]
  },
  {
   "cell_type": "code",
   "execution_count": null,
   "metadata": {},
   "outputs": [],
   "source": [
    "print('Accuracy on test data: %f%%' % (metrics.accuracy_score(y_test, catb_ros.predict(X_test))*100))\n",
    "print('Accuracy on training data: %f%%' % (metrics.accuracy_score(y_resampled, catb_ros.predict(X_resampled))*100))\n",
    "print('Area under the ROC curve : %f' % (metrics.roc_auc_score(y_test, catb_ros.predict(X_test))))"
   ]
  },
  {
   "cell_type": "markdown",
   "metadata": {},
   "source": [
    "### SMOTE"
   ]
  },
  {
   "cell_type": "code",
   "execution_count": null,
   "metadata": {},
   "outputs": [],
   "source": [
    "from imblearn.over_sampling import SMOTE"
   ]
  },
  {
   "cell_type": "code",
   "execution_count": null,
   "metadata": {},
   "outputs": [],
   "source": [
    "smt = SMOTE(random_state=10,sampling_strategy=0.7)\n",
    "X_train_smt, y_train_smt = smt.fit_sample(X_train, y_train)"
   ]
  },
  {
   "cell_type": "code",
   "execution_count": null,
   "metadata": {},
   "outputs": [],
   "source": [
    "y_train.value_counts()"
   ]
  },
  {
   "cell_type": "code",
   "execution_count": null,
   "metadata": {},
   "outputs": [],
   "source": [
    "np.bincount(y_train_smt)"
   ]
  },
  {
   "cell_type": "code",
   "execution_count": null,
   "metadata": {},
   "outputs": [],
   "source": [
    "catb_smote = CatBoostClassifier(learning_rate=0.1,iterations=400,verbose=1,random_seed=10,eval_metric='Accuracy')"
   ]
  },
  {
   "cell_type": "code",
   "execution_count": null,
   "metadata": {},
   "outputs": [],
   "source": [
    "catb_smote.fit(X_train_smt,y_train_smt,eval_set=[(X_train_smt,y_train_smt), (X_test,y_test)],early_stopping_rounds=30)"
   ]
  },
  {
   "cell_type": "code",
   "execution_count": null,
   "metadata": {},
   "outputs": [],
   "source": [
    "print(metrics.classification_report(y_test, catb_smote.predict(X_test)))\n",
    "print('Accuracy on test data: %f%%' % (metrics.accuracy_score(y_test, catb_smote.predict(X_test))*100))\n",
    "print('Accuracy on training data: %f%%' % (metrics.accuracy_score(y_train_smt, catb_smote.predict(X_train_smt))*100))\n",
    "print('Area under the ROC curve : %f' % (metrics.roc_auc_score(y_test, catb_ros.predict(X_test))))"
   ]
  },
  {
   "cell_type": "code",
   "execution_count": null,
   "metadata": {},
   "outputs": [],
   "source": []
  }
 ],
 "metadata": {
  "kernelspec": {
   "display_name": "Python 3",
   "language": "python",
   "name": "python3"
  },
  "language_info": {
   "codemirror_mode": {
    "name": "ipython",
    "version": 3
   },
   "file_extension": ".py",
   "mimetype": "text/x-python",
   "name": "python",
   "nbconvert_exporter": "python",
   "pygments_lexer": "ipython3",
   "version": "3.6.8"
  }
 },
 "nbformat": 4,
 "nbformat_minor": 2
}
