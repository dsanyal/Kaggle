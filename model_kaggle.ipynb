{
 "cells": [
  {
   "cell_type": "markdown",
   "metadata": {},
   "source": [
    "# Adult Income Prediction notebook\n",
    "This data was extracted from the 1994 Census bureau database by Ronny Kohavi and Barry Becker (Data Mining and Visualization, Silicon Graphics). A set of reasonably clean records was extracted using the following conditions: ((AAGE>16) && (AGI>100) && (AFNLWGT>1) && (HRSWK>0)). *The prediction task is to determine whether a person makes over  USD 50K a year.*  \n",
    "This is a binary classification problem where we have to predict whether a person earns over $50k per year or not. The scoring function to optimize is accuracy. The notebook follows the following steps to analyse the data and build predictive models.\n",
    "- Data cleaning and preprocessing\n",
    "- Exploratory data analysis\n",
    "- Modelling: I have tried out different classification algorithms.\n",
    "  - Random forest\n",
    "  - XGBoost\n",
    "  - Naive Bayes\n",
    "  - Logistic regression\n",
    "  - CatBoost  \n",
    "These models were then optimized by tuning the hyper-parameters through Grid Search, keeping a close check on the cross-validation scores to prevent overfitting. Thereafter I also tried out stacking different models together to improve the accuracy but it didn't improve the accuracy sigificantly.\n",
    "- Finally I explored oversampling techniques including SMOTE.\n",
    "\n",
    "Please feel free to suggest/comment."
   ]
  },
  {
   "cell_type": "code",
   "execution_count": 1081,
   "metadata": {},
   "outputs": [],
   "source": [
    "import pandas as pd\n",
    "import numpy as np\n",
    "import matplotlib.pyplot as plt\n",
    "import seaborn as sns"
   ]
  },
  {
   "cell_type": "code",
   "execution_count": 1082,
   "metadata": {},
   "outputs": [],
   "source": [
    "import os\n",
    "import seaborn as sns\n",
    "os.environ['KMP_DUPLICATE_LIB_OK']='True'"
   ]
  },
  {
   "cell_type": "code",
   "execution_count": 1083,
   "metadata": {},
   "outputs": [],
   "source": [
    "sns.set() ##set defaults"
   ]
  },
  {
   "cell_type": "code",
   "execution_count": 1084,
   "metadata": {},
   "outputs": [],
   "source": [
    "%matplotlib inline"
   ]
  },
  {
   "cell_type": "code",
   "execution_count": 1085,
   "metadata": {},
   "outputs": [],
   "source": [
    "data = pd.read_csv(\"adult.csv\")"
   ]
  },
  {
   "cell_type": "code",
   "execution_count": 1086,
   "metadata": {},
   "outputs": [
    {
     "data": {
      "text/plain": [
       "(32561, 15)"
      ]
     },
     "execution_count": 1086,
     "metadata": {},
     "output_type": "execute_result"
    }
   ],
   "source": [
    "data.shape"
   ]
  },
  {
   "cell_type": "code",
   "execution_count": 1087,
   "metadata": {},
   "outputs": [
    {
     "data": {
      "text/html": [
       "<div>\n",
       "<style scoped>\n",
       "    .dataframe tbody tr th:only-of-type {\n",
       "        vertical-align: middle;\n",
       "    }\n",
       "\n",
       "    .dataframe tbody tr th {\n",
       "        vertical-align: top;\n",
       "    }\n",
       "\n",
       "    .dataframe thead th {\n",
       "        text-align: right;\n",
       "    }\n",
       "</style>\n",
       "<table border=\"1\" class=\"dataframe\">\n",
       "  <thead>\n",
       "    <tr style=\"text-align: right;\">\n",
       "      <th></th>\n",
       "      <th>age</th>\n",
       "      <th>workclass</th>\n",
       "      <th>fnlwgt</th>\n",
       "      <th>education</th>\n",
       "      <th>education.num</th>\n",
       "      <th>marital.status</th>\n",
       "      <th>occupation</th>\n",
       "      <th>relationship</th>\n",
       "      <th>race</th>\n",
       "      <th>sex</th>\n",
       "      <th>capital.gain</th>\n",
       "      <th>capital.loss</th>\n",
       "      <th>hours.per.week</th>\n",
       "      <th>native.country</th>\n",
       "      <th>income</th>\n",
       "    </tr>\n",
       "  </thead>\n",
       "  <tbody>\n",
       "    <tr>\n",
       "      <th>0</th>\n",
       "      <td>90</td>\n",
       "      <td>?</td>\n",
       "      <td>77053</td>\n",
       "      <td>HS-grad</td>\n",
       "      <td>9</td>\n",
       "      <td>Widowed</td>\n",
       "      <td>?</td>\n",
       "      <td>Not-in-family</td>\n",
       "      <td>White</td>\n",
       "      <td>Female</td>\n",
       "      <td>0</td>\n",
       "      <td>4356</td>\n",
       "      <td>40</td>\n",
       "      <td>United-States</td>\n",
       "      <td>&lt;=50K</td>\n",
       "    </tr>\n",
       "    <tr>\n",
       "      <th>1</th>\n",
       "      <td>82</td>\n",
       "      <td>Private</td>\n",
       "      <td>132870</td>\n",
       "      <td>HS-grad</td>\n",
       "      <td>9</td>\n",
       "      <td>Widowed</td>\n",
       "      <td>Exec-managerial</td>\n",
       "      <td>Not-in-family</td>\n",
       "      <td>White</td>\n",
       "      <td>Female</td>\n",
       "      <td>0</td>\n",
       "      <td>4356</td>\n",
       "      <td>18</td>\n",
       "      <td>United-States</td>\n",
       "      <td>&lt;=50K</td>\n",
       "    </tr>\n",
       "    <tr>\n",
       "      <th>2</th>\n",
       "      <td>66</td>\n",
       "      <td>?</td>\n",
       "      <td>186061</td>\n",
       "      <td>Some-college</td>\n",
       "      <td>10</td>\n",
       "      <td>Widowed</td>\n",
       "      <td>?</td>\n",
       "      <td>Unmarried</td>\n",
       "      <td>Black</td>\n",
       "      <td>Female</td>\n",
       "      <td>0</td>\n",
       "      <td>4356</td>\n",
       "      <td>40</td>\n",
       "      <td>United-States</td>\n",
       "      <td>&lt;=50K</td>\n",
       "    </tr>\n",
       "    <tr>\n",
       "      <th>3</th>\n",
       "      <td>54</td>\n",
       "      <td>Private</td>\n",
       "      <td>140359</td>\n",
       "      <td>7th-8th</td>\n",
       "      <td>4</td>\n",
       "      <td>Divorced</td>\n",
       "      <td>Machine-op-inspct</td>\n",
       "      <td>Unmarried</td>\n",
       "      <td>White</td>\n",
       "      <td>Female</td>\n",
       "      <td>0</td>\n",
       "      <td>3900</td>\n",
       "      <td>40</td>\n",
       "      <td>United-States</td>\n",
       "      <td>&lt;=50K</td>\n",
       "    </tr>\n",
       "    <tr>\n",
       "      <th>4</th>\n",
       "      <td>41</td>\n",
       "      <td>Private</td>\n",
       "      <td>264663</td>\n",
       "      <td>Some-college</td>\n",
       "      <td>10</td>\n",
       "      <td>Separated</td>\n",
       "      <td>Prof-specialty</td>\n",
       "      <td>Own-child</td>\n",
       "      <td>White</td>\n",
       "      <td>Female</td>\n",
       "      <td>0</td>\n",
       "      <td>3900</td>\n",
       "      <td>40</td>\n",
       "      <td>United-States</td>\n",
       "      <td>&lt;=50K</td>\n",
       "    </tr>\n",
       "  </tbody>\n",
       "</table>\n",
       "</div>"
      ],
      "text/plain": [
       "   age workclass  fnlwgt     education  education.num marital.status  \\\n",
       "0   90         ?   77053       HS-grad              9        Widowed   \n",
       "1   82   Private  132870       HS-grad              9        Widowed   \n",
       "2   66         ?  186061  Some-college             10        Widowed   \n",
       "3   54   Private  140359       7th-8th              4       Divorced   \n",
       "4   41   Private  264663  Some-college             10      Separated   \n",
       "\n",
       "          occupation   relationship   race     sex  capital.gain  \\\n",
       "0                  ?  Not-in-family  White  Female             0   \n",
       "1    Exec-managerial  Not-in-family  White  Female             0   \n",
       "2                  ?      Unmarried  Black  Female             0   \n",
       "3  Machine-op-inspct      Unmarried  White  Female             0   \n",
       "4     Prof-specialty      Own-child  White  Female             0   \n",
       "\n",
       "   capital.loss  hours.per.week native.country income  \n",
       "0          4356              40  United-States  <=50K  \n",
       "1          4356              18  United-States  <=50K  \n",
       "2          4356              40  United-States  <=50K  \n",
       "3          3900              40  United-States  <=50K  \n",
       "4          3900              40  United-States  <=50K  "
      ]
     },
     "execution_count": 1087,
     "metadata": {},
     "output_type": "execute_result"
    }
   ],
   "source": [
    "data.head()"
   ]
  },
  {
   "cell_type": "code",
   "execution_count": 1088,
   "metadata": {},
   "outputs": [
    {
     "name": "stdout",
     "output_type": "stream",
     "text": [
      "<class 'pandas.core.frame.DataFrame'>\n",
      "RangeIndex: 32561 entries, 0 to 32560\n",
      "Data columns (total 15 columns):\n",
      "age               32561 non-null int64\n",
      "workclass         32561 non-null object\n",
      "fnlwgt            32561 non-null int64\n",
      "education         32561 non-null object\n",
      "education.num     32561 non-null int64\n",
      "marital.status    32561 non-null object\n",
      "occupation        32561 non-null object\n",
      "relationship      32561 non-null object\n",
      "race              32561 non-null object\n",
      "sex               32561 non-null object\n",
      "capital.gain      32561 non-null int64\n",
      "capital.loss      32561 non-null int64\n",
      "hours.per.week    32561 non-null int64\n",
      "native.country    32561 non-null object\n",
      "income            32561 non-null object\n",
      "dtypes: int64(6), object(9)\n",
      "memory usage: 3.7+ MB\n"
     ]
    }
   ],
   "source": [
    "data.info()"
   ]
  },
  {
   "cell_type": "code",
   "execution_count": 1089,
   "metadata": {},
   "outputs": [
    {
     "data": {
      "text/plain": [
       "Private             22696\n",
       "Self-emp-not-inc     2541\n",
       "Local-gov            2093\n",
       "?                    1836\n",
       "State-gov            1298\n",
       "Self-emp-inc         1116\n",
       "Federal-gov           960\n",
       "Without-pay            14\n",
       "Never-worked            7\n",
       "Name: workclass, dtype: int64"
      ]
     },
     "execution_count": 1089,
     "metadata": {},
     "output_type": "execute_result"
    }
   ],
   "source": [
    "data['workclass'].value_counts()"
   ]
  },
  {
   "cell_type": "code",
   "execution_count": 1090,
   "metadata": {},
   "outputs": [
    {
     "data": {
      "text/plain": [
       "<=50K    24720\n",
       ">50K      7841\n",
       "Name: income, dtype: int64"
      ]
     },
     "execution_count": 1090,
     "metadata": {},
     "output_type": "execute_result"
    }
   ],
   "source": [
    "data['income'].value_counts()    # Is the target variable skewed?"
   ]
  },
  {
   "cell_type": "code",
   "execution_count": 1091,
   "metadata": {},
   "outputs": [
    {
     "data": {
      "text/plain": [
       "<matplotlib.axes._subplots.AxesSubplot at 0x1a1cd97ba8>"
      ]
     },
     "execution_count": 1091,
     "metadata": {},
     "output_type": "execute_result"
    },
    {
     "data": {
      "image/png": "[encoded data removed]",
      "text/plain": [
       "<Figure size 432x288 with 1 Axes>"
      ]
     },
     "metadata": {
      "needs_background": "light"
     },
     "output_type": "display_data"
    }
   ],
   "source": [
    "sns.countplot(data['income'])"
   ]
  },
  {
   "cell_type": "markdown",
   "metadata": {},
   "source": [
    "#### As one can see, there is considerable class imbalance in the target variable, i.e. income. This is also intuitively obvious as one expects fewer 'rich' people (earning>50k/annum) than 'not-so-rich' people (earning <50k/annum). Therefore we might need to consider over-sampling techniques in our ML model to improve our accuracy."
   ]
  },
  {
   "cell_type": "code",
   "execution_count": 1092,
   "metadata": {},
   "outputs": [],
   "source": [
    "data['income'] = data['income'].apply(lambda inc: 0 if inc == \"<=50K\" else 1) # Binary encoding of the target variable"
   ]
  },
  {
   "cell_type": "code",
   "execution_count": 1093,
   "metadata": {
    "scrolled": false
   },
   "outputs": [
    {
     "data": {
      "text/plain": [
       "<matplotlib.axes._subplots.AxesSubplot at 0x1a3a38c080>"
      ]
     },
     "execution_count": 1093,
     "metadata": {},
     "output_type": "execute_result"
    },
    {
     "data": {
      "image/png": "[encoded data removed]",
      "text/plain": [
       "<Figure size 1008x432 with 1 Axes>"
      ]
     },
     "metadata": {
      "needs_background": "light"
     },
     "output_type": "display_data"
    }
   ],
   "source": [
    "plt.figure(figsize=(14,6))\n",
    "sns.countplot(data['marital.status'])"
   ]
  },
  {
   "cell_type": "code",
   "execution_count": 1094,
   "metadata": {},
   "outputs": [
    {
     "data": {
      "text/plain": [
       "<matplotlib.axes._subplots.AxesSubplot at 0x1a8d0be278>"
      ]
     },
     "execution_count": 1094,
     "metadata": {},
     "output_type": "execute_result"
    },
    {
     "data": {
      "image/png": "[encoded data removed]",
      "text/plain": [
       "<Figure size 864x432 with 1 Axes>"
      ]
     },
     "metadata": {
      "needs_background": "light"
     },
     "output_type": "display_data"
    }
   ],
   "source": [
    "plt.figure(figsize=(12,6))\n",
    "sns.countplot(data['workclass'])"
   ]
  },
  {
   "cell_type": "code",
   "execution_count": 1095,
   "metadata": {},
   "outputs": [
    {
     "data": {
      "text/plain": [
       "<matplotlib.axes._subplots.AxesSubplot at 0x1a8d1f5198>"
      ]
     },
     "execution_count": 1095,
     "metadata": {},
     "output_type": "execute_result"
    },
    {
     "data": {
      "image/png": "[encoded data removed]",
      "text/plain": [
       "<Figure size 720x576 with 2 Axes>"
      ]
     },
     "metadata": {
      "needs_background": "light"
     },
     "output_type": "display_data"
    }
   ],
   "source": [
    "plt.figure(figsize=(10,8))  \n",
    "sns.heatmap(data.corr(),cmap='Accent',annot=True)\n",
    "#data.corr()"
   ]
  },
  {
   "cell_type": "code",
   "execution_count": 1119,
   "metadata": {},
   "outputs": [
    {
     "data": {
      "text/plain": [
       "<matplotlib.axes._subplots.AxesSubplot at 0x1aa4a53b70>"
      ]
     },
     "execution_count": 1119,
     "metadata": {},
     "output_type": "execute_result"
    },
    {
     "data": {
      "image/png": "[encoded data removed]",
      "text/plain": [
       "<Figure size 864x432 with 1 Axes>"
      ]
     },
     "metadata": {
      "needs_background": "light"
     },
     "output_type": "display_data"
    }
   ],
   "source": [
    "plt.figure(figsize=(12,6))\n",
    "sns.boxplot(x=\"income\", y=\"age\", data=data, hue='sex')\n",
    "#data[data['income']==0]['age'].mean()"
   ]
  },
  {
   "cell_type": "markdown",
   "metadata": {},
   "source": [
    "The mean age of people earning more than 50k per annum is around 44 whereas the mean age of of those earning less than 50k per annum is 36."
   ]
  },
  {
   "cell_type": "code",
   "execution_count": 1097,
   "metadata": {
    "scrolled": true
   },
   "outputs": [
    {
     "data": {
      "text/plain": [
       "<matplotlib.axes._subplots.AxesSubplot at 0x1a918f3128>"
      ]
     },
     "execution_count": 1097,
     "metadata": {},
     "output_type": "execute_result"
    },
    {
     "data": {
      "image/png": "[encoded data removed]",
      "text/plain": [
       "<Figure size 864x432 with 1 Axes>"
      ]
     },
     "metadata": {
      "needs_background": "light"
     },
     "output_type": "display_data"
    }
   ],
   "source": [
    "norm_fnl = (data[\"fnlwgt\"] - data['fnlwgt'].mean())/data['fnlwgt'].std()\n",
    "plt.figure(figsize=(12,6))\n",
    "sns.boxplot(x=\"income\", y=norm_fnl, data=data)"
   ]
  },
  {
   "cell_type": "markdown",
   "metadata": {},
   "source": [
    "As evident from the plot above, there are many outliers in the `fnlwgt` column and this feature is uncorrelated with `income`, our target variable. The correlation coefficient (which one can read from the heatmap) is -0.0095. The number of outliers, i.e. the number of records which are more than 2 s.d's away from the mean, is 1249."
   ]
  },
  {
   "cell_type": "code",
   "execution_count": 947,
   "metadata": {},
   "outputs": [
    {
     "data": {
      "text/plain": [
       "(1249, 15)"
      ]
     },
     "execution_count": 947,
     "metadata": {},
     "output_type": "execute_result"
    }
   ],
   "source": [
    "data[norm_fnl>2].shape"
   ]
  },
  {
   "cell_type": "code",
   "execution_count": 1113,
   "metadata": {},
   "outputs": [
    {
     "data": {
      "text/plain": [
       "[Text(0, 0.5, 'Income %age > $50k')]"
      ]
     },
     "execution_count": 1113,
     "metadata": {},
     "output_type": "execute_result"
    },
    {
     "data": {
      "image/png": "[encoded data removed]",
      "text/plain": [
       "<Figure size 1080x432 with 1 Axes>"
      ]
     },
     "metadata": {
      "needs_background": "light"
     },
     "output_type": "display_data"
    }
   ],
   "source": [
    "plt.figure(figsize=(15,6))\n",
    "ax=sns.barplot(x='marital.status',y='income',data=data,hue='sex')\n",
    "ax.set(ylabel='Income %age > $50k')"
   ]
  },
  {
   "cell_type": "markdown",
   "metadata": {},
   "source": [
    "The above plot shows the the fraction of people earning more than $50k per annum, grouped by their marital status and gender. The data shows that married people have a higher %age of high-earners. The black lines indicate the standard deviation in the data set. The married spouses of armed forces personnel have a much higher variation in their income compared to civil spouses."
   ]
  },
  {
   "cell_type": "code",
   "execution_count": 1109,
   "metadata": {},
   "outputs": [
    {
     "data": {
      "text/plain": [
       "<matplotlib.axes._subplots.AxesSubplot at 0x1a9b799940>"
      ]
     },
     "execution_count": 1109,
     "metadata": {},
     "output_type": "execute_result"
    },
    {
     "data": {
      "image/png": "[encoded data removed]",
      "text/plain": [
       "<Figure size 720x360 with 1 Axes>"
      ]
     },
     "metadata": {
      "needs_background": "light"
     },
     "output_type": "display_data"
    }
   ],
   "source": [
    "plt.figure(figsize=(10,5))\n",
    "sns.barplot(x='sex',y='income',data=data)"
   ]
  },
  {
   "cell_type": "code",
   "execution_count": 1106,
   "metadata": {},
   "outputs": [
    {
     "data": {
      "text/html": [
       "<div>\n",
       "<style scoped>\n",
       "    .dataframe tbody tr th:only-of-type {\n",
       "        vertical-align: middle;\n",
       "    }\n",
       "\n",
       "    .dataframe tbody tr th {\n",
       "        vertical-align: top;\n",
       "    }\n",
       "\n",
       "    .dataframe thead th {\n",
       "        text-align: right;\n",
       "    }\n",
       "</style>\n",
       "<table border=\"1\" class=\"dataframe\">\n",
       "  <thead>\n",
       "    <tr style=\"text-align: right;\">\n",
       "      <th></th>\n",
       "      <th>workclass</th>\n",
       "      <th>education</th>\n",
       "      <th>marital.status</th>\n",
       "      <th>occupation</th>\n",
       "      <th>relationship</th>\n",
       "      <th>race</th>\n",
       "      <th>sex</th>\n",
       "      <th>native.country</th>\n",
       "    </tr>\n",
       "  </thead>\n",
       "  <tbody>\n",
       "    <tr>\n",
       "      <th>0</th>\n",
       "      <td>?</td>\n",
       "      <td>HS-grad</td>\n",
       "      <td>Widowed</td>\n",
       "      <td>?</td>\n",
       "      <td>Not-in-family</td>\n",
       "      <td>White</td>\n",
       "      <td>Female</td>\n",
       "      <td>United-States</td>\n",
       "    </tr>\n",
       "    <tr>\n",
       "      <th>1</th>\n",
       "      <td>Private</td>\n",
       "      <td>HS-grad</td>\n",
       "      <td>Widowed</td>\n",
       "      <td>Exec-managerial</td>\n",
       "      <td>Not-in-family</td>\n",
       "      <td>White</td>\n",
       "      <td>Female</td>\n",
       "      <td>United-States</td>\n",
       "    </tr>\n",
       "    <tr>\n",
       "      <th>2</th>\n",
       "      <td>?</td>\n",
       "      <td>Some-college</td>\n",
       "      <td>Widowed</td>\n",
       "      <td>?</td>\n",
       "      <td>Unmarried</td>\n",
       "      <td>Black</td>\n",
       "      <td>Female</td>\n",
       "      <td>United-States</td>\n",
       "    </tr>\n",
       "    <tr>\n",
       "      <th>3</th>\n",
       "      <td>Private</td>\n",
       "      <td>7th-8th</td>\n",
       "      <td>Divorced</td>\n",
       "      <td>Machine-op-inspct</td>\n",
       "      <td>Unmarried</td>\n",
       "      <td>White</td>\n",
       "      <td>Female</td>\n",
       "      <td>United-States</td>\n",
       "    </tr>\n",
       "    <tr>\n",
       "      <th>4</th>\n",
       "      <td>Private</td>\n",
       "      <td>Some-college</td>\n",
       "      <td>Separated</td>\n",
       "      <td>Prof-specialty</td>\n",
       "      <td>Own-child</td>\n",
       "      <td>White</td>\n",
       "      <td>Female</td>\n",
       "      <td>United-States</td>\n",
       "    </tr>\n",
       "  </tbody>\n",
       "</table>\n",
       "</div>"
      ],
      "text/plain": [
       "  workclass     education marital.status         occupation   relationship  \\\n",
       "0         ?       HS-grad        Widowed                  ?  Not-in-family   \n",
       "1   Private       HS-grad        Widowed    Exec-managerial  Not-in-family   \n",
       "2         ?  Some-college        Widowed                  ?      Unmarried   \n",
       "3   Private       7th-8th       Divorced  Machine-op-inspct      Unmarried   \n",
       "4   Private  Some-college      Separated     Prof-specialty      Own-child   \n",
       "\n",
       "    race     sex native.country  \n",
       "0  White  Female  United-States  \n",
       "1  White  Female  United-States  \n",
       "2  Black  Female  United-States  \n",
       "3  White  Female  United-States  \n",
       "4  White  Female  United-States  "
      ]
     },
     "execution_count": 1106,
     "metadata": {},
     "output_type": "execute_result"
    }
   ],
   "source": [
    "data.select_dtypes(exclude=[np.number]).head()"
   ]
  },
  {
   "cell_type": "code",
   "execution_count": 948,
   "metadata": {},
   "outputs": [],
   "source": [
    "data = data.applymap(lambda x: np.nan if x=='?' else x) #Replace all '?'s with NaNs."
   ]
  },
  {
   "cell_type": "code",
   "execution_count": 949,
   "metadata": {},
   "outputs": [
    {
     "data": {
      "text/plain": [
       "age                  0\n",
       "workclass         1836\n",
       "fnlwgt               0\n",
       "education            0\n",
       "education.num        0\n",
       "marital.status       0\n",
       "occupation        1843\n",
       "relationship         0\n",
       "race                 0\n",
       "sex                  0\n",
       "capital.gain         0\n",
       "capital.loss         0\n",
       "hours.per.week       0\n",
       "native.country     583\n",
       "income               0\n",
       "dtype: int64"
      ]
     },
     "execution_count": 949,
     "metadata": {},
     "output_type": "execute_result"
    }
   ],
   "source": [
    "data.isnull().sum(axis=0)"
   ]
  },
  {
   "cell_type": "code",
   "execution_count": 950,
   "metadata": {},
   "outputs": [
    {
     "data": {
      "text/plain": [
       "2399"
      ]
     },
     "execution_count": 950,
     "metadata": {},
     "output_type": "execute_result"
    }
   ],
   "source": [
    "data.shape[0] - data.dropna(axis=0).shape[0]   # how many rows will be removed if I remove all the NaN's?"
   ]
  },
  {
   "cell_type": "code",
   "execution_count": 951,
   "metadata": {},
   "outputs": [],
   "source": [
    "data = data.dropna(axis=0) ## Drop all the NaNs"
   ]
  },
  {
   "cell_type": "code",
   "execution_count": 952,
   "metadata": {},
   "outputs": [
    {
     "data": {
      "text/plain": [
       "HS-grad         9840\n",
       "Some-college    6678\n",
       "Bachelors       5044\n",
       "Masters         1627\n",
       "Assoc-voc       1307\n",
       "11th            1048\n",
       "Assoc-acdm      1008\n",
       "10th             820\n",
       "7th-8th          557\n",
       "Prof-school      542\n",
       "9th              455\n",
       "12th             377\n",
       "Doctorate        375\n",
       "5th-6th          288\n",
       "1st-4th          151\n",
       "Preschool         45\n",
       "Name: education, dtype: int64"
      ]
     },
     "execution_count": 952,
     "metadata": {},
     "output_type": "execute_result"
    }
   ],
   "source": [
    "data.education.value_counts()  # I will label-encode the education column since it is an ordinal categorical variable"
   ]
  },
  {
   "cell_type": "code",
   "execution_count": 953,
   "metadata": {},
   "outputs": [],
   "source": [
    "## This computes the fraction of people by country who earn >50k per annum\n",
    "mean_income_bycountry_df = data[['native.country','income']].groupby(['native.country']).mean().reset_index()"
   ]
  },
  {
   "cell_type": "code",
   "execution_count": 954,
   "metadata": {},
   "outputs": [],
   "source": [
    "edu_encode_dict = {'Preschool':0,'1st-4th':1, '5th-6th':2, '7th-8th':3, '9th':4, '10th':5,\n",
    "                  '11th':6, '12th':7, 'HS-grad':8, 'Some-college':9, 'Bachelors':10, 'Masters':11, 'Assoc-voc':12, \n",
    "                   'Assoc-acdm':13, 'Doctorate':14, 'Prof-school':15}\n",
    "\n",
    "data['education'] = data['education'].apply(lambda ed_level: edu_encode_dict[ed_level])"
   ]
  },
  {
   "cell_type": "markdown",
   "metadata": {},
   "source": [
    "### One-hot encoding of the categorical columns"
   ]
  },
  {
   "cell_type": "code",
   "execution_count": 955,
   "metadata": {},
   "outputs": [],
   "source": [
    "data = pd.get_dummies(data,columns=['workclass','sex', 'marital.status',\n",
    "                                    'race','relationship','occupation'],\n",
    "               prefix=['workclass', 'is', 'is', 'race_is', 'relation', 'is'], drop_first=True)\n",
    "### native country is ignored because that feature will be dropped later"
   ]
  },
  {
   "cell_type": "code",
   "execution_count": 956,
   "metadata": {},
   "outputs": [
    {
     "data": {
      "text/plain": [
       "<matplotlib.axes._subplots.AxesSubplot at 0x1a9d250f60>"
      ]
     },
     "execution_count": 956,
     "metadata": {},
     "output_type": "execute_result"
    },
    {
     "data": {
      "image/png": "[encoded data removed]",
      "text/plain": [
       "<Figure size 1440x864 with 2 Axes>"
      ]
     },
     "metadata": {},
     "output_type": "display_data"
    }
   ],
   "source": [
    "plt.figure(figsize=(20,12))\n",
    "sns.heatmap(data.corr())"
   ]
  },
  {
   "cell_type": "code",
   "execution_count": 957,
   "metadata": {},
   "outputs": [
    {
     "data": {
      "text/plain": [
       "(30162, 1)"
      ]
     },
     "execution_count": 957,
     "metadata": {},
     "output_type": "execute_result"
    }
   ],
   "source": [
    "data.select_dtypes(exclude=[np.number]).shape"
   ]
  },
  {
   "cell_type": "code",
   "execution_count": 958,
   "metadata": {},
   "outputs": [],
   "source": [
    "#data['foo']=np.where(data['native.country']=='United-States',1,0)"
   ]
  },
  {
   "cell_type": "code",
   "execution_count": 959,
   "metadata": {},
   "outputs": [
    {
     "data": {
      "text/html": [
       "<div>\n",
       "<style scoped>\n",
       "    .dataframe tbody tr th:only-of-type {\n",
       "        vertical-align: middle;\n",
       "    }\n",
       "\n",
       "    .dataframe tbody tr th {\n",
       "        vertical-align: top;\n",
       "    }\n",
       "\n",
       "    .dataframe thead th {\n",
       "        text-align: right;\n",
       "    }\n",
       "</style>\n",
       "<table border=\"1\" class=\"dataframe\">\n",
       "  <thead>\n",
       "    <tr style=\"text-align: right;\">\n",
       "      <th></th>\n",
       "      <th>age</th>\n",
       "      <th>fnlwgt</th>\n",
       "      <th>education</th>\n",
       "      <th>education.num</th>\n",
       "      <th>capital.gain</th>\n",
       "      <th>capital.loss</th>\n",
       "      <th>hours.per.week</th>\n",
       "      <th>workclass_Local-gov</th>\n",
       "      <th>workclass_Private</th>\n",
       "      <th>workclass_Self-emp-inc</th>\n",
       "      <th>...</th>\n",
       "      <th>is_Farming-fishing</th>\n",
       "      <th>is_Handlers-cleaners</th>\n",
       "      <th>is_Machine-op-inspct</th>\n",
       "      <th>is_Other-service</th>\n",
       "      <th>is_Priv-house-serv</th>\n",
       "      <th>is_Prof-specialty</th>\n",
       "      <th>is_Protective-serv</th>\n",
       "      <th>is_Sales</th>\n",
       "      <th>is_Tech-support</th>\n",
       "      <th>is_Transport-moving</th>\n",
       "    </tr>\n",
       "    <tr>\n",
       "      <th>income</th>\n",
       "      <th></th>\n",
       "      <th></th>\n",
       "      <th></th>\n",
       "      <th></th>\n",
       "      <th></th>\n",
       "      <th></th>\n",
       "      <th></th>\n",
       "      <th></th>\n",
       "      <th></th>\n",
       "      <th></th>\n",
       "      <th></th>\n",
       "      <th></th>\n",
       "      <th></th>\n",
       "      <th></th>\n",
       "      <th></th>\n",
       "      <th></th>\n",
       "      <th></th>\n",
       "      <th></th>\n",
       "      <th></th>\n",
       "      <th></th>\n",
       "      <th></th>\n",
       "    </tr>\n",
       "  </thead>\n",
       "  <tbody>\n",
       "    <tr>\n",
       "      <th>0</th>\n",
       "      <td>36.60806</td>\n",
       "      <td>190338.646729</td>\n",
       "      <td>8.462126</td>\n",
       "      <td>9.629116</td>\n",
       "      <td>148.893838</td>\n",
       "      <td>53.448000</td>\n",
       "      <td>39.348592</td>\n",
       "      <td>0.064359</td>\n",
       "      <td>0.768518</td>\n",
       "      <td>0.020923</td>\n",
       "      <td>...</td>\n",
       "      <td>0.038580</td>\n",
       "      <td>0.055928</td>\n",
       "      <td>0.075969</td>\n",
       "      <td>0.135958</td>\n",
       "      <td>0.006268</td>\n",
       "      <td>0.098305</td>\n",
       "      <td>0.019158</td>\n",
       "      <td>0.115388</td>\n",
       "      <td>0.027986</td>\n",
       "      <td>0.055310</td>\n",
       "    </tr>\n",
       "    <tr>\n",
       "      <th>1</th>\n",
       "      <td>43.95911</td>\n",
       "      <td>188149.962174</td>\n",
       "      <td>9.972163</td>\n",
       "      <td>11.606420</td>\n",
       "      <td>3937.679808</td>\n",
       "      <td>193.750666</td>\n",
       "      <td>45.706580</td>\n",
       "      <td>0.081113</td>\n",
       "      <td>0.649441</td>\n",
       "      <td>0.079915</td>\n",
       "      <td>...</td>\n",
       "      <td>0.015317</td>\n",
       "      <td>0.011055</td>\n",
       "      <td>0.032632</td>\n",
       "      <td>0.017581</td>\n",
       "      <td>0.000133</td>\n",
       "      <td>0.241209</td>\n",
       "      <td>0.027970</td>\n",
       "      <td>0.129196</td>\n",
       "      <td>0.037027</td>\n",
       "      <td>0.042488</td>\n",
       "    </tr>\n",
       "  </tbody>\n",
       "</table>\n",
       "<p>2 rows × 42 columns</p>\n",
       "</div>"
      ],
      "text/plain": [
       "             age         fnlwgt  education  education.num  capital.gain  \\\n",
       "income                                                                    \n",
       "0       36.60806  190338.646729   8.462126       9.629116    148.893838   \n",
       "1       43.95911  188149.962174   9.972163      11.606420   3937.679808   \n",
       "\n",
       "        capital.loss  hours.per.week  workclass_Local-gov  workclass_Private  \\\n",
       "income                                                                         \n",
       "0          53.448000       39.348592             0.064359           0.768518   \n",
       "1         193.750666       45.706580             0.081113           0.649441   \n",
       "\n",
       "        workclass_Self-emp-inc  ...  is_Farming-fishing  is_Handlers-cleaners  \\\n",
       "income                          ...                                             \n",
       "0                     0.020923  ...            0.038580              0.055928   \n",
       "1                     0.079915  ...            0.015317              0.011055   \n",
       "\n",
       "        is_Machine-op-inspct  is_Other-service  is_Priv-house-serv  \\\n",
       "income                                                               \n",
       "0                   0.075969          0.135958            0.006268   \n",
       "1                   0.032632          0.017581            0.000133   \n",
       "\n",
       "        is_Prof-specialty  is_Protective-serv  is_Sales  is_Tech-support  \\\n",
       "income                                                                     \n",
       "0                0.098305            0.019158  0.115388         0.027986   \n",
       "1                0.241209            0.027970  0.129196         0.037027   \n",
       "\n",
       "        is_Transport-moving  \n",
       "income                       \n",
       "0                  0.055310  \n",
       "1                  0.042488  \n",
       "\n",
       "[2 rows x 42 columns]"
      ]
     },
     "execution_count": 959,
     "metadata": {},
     "output_type": "execute_result"
    }
   ],
   "source": [
    "data.groupby('income').mean()"
   ]
  },
  {
   "cell_type": "code",
   "execution_count": 960,
   "metadata": {},
   "outputs": [
    {
     "data": {
      "text/plain": [
       "(30162, 44)"
      ]
     },
     "execution_count": 960,
     "metadata": {},
     "output_type": "execute_result"
    }
   ],
   "source": [
    "data.shape"
   ]
  },
  {
   "cell_type": "code",
   "execution_count": 988,
   "metadata": {},
   "outputs": [],
   "source": [
    "y = data.income\n",
    "X = data.drop(['income', 'education', 'native.country', 'fnlwgt'],axis=1)"
   ]
  },
  {
   "cell_type": "markdown",
   "metadata": {},
   "source": [
    "The `income` column is dropped because it is the target variable.\n",
    "`Education` is dropped because `education.num` is the coded variable for it. One can notice the high correlation between `education` and `education.num` in the heatmap.\n",
    "`native country` is dropped because it showed very little feature importance in random forest"
   ]
  },
  {
   "cell_type": "markdown",
   "metadata": {},
   "source": [
    "## Modelling"
   ]
  },
  {
   "cell_type": "code",
   "execution_count": 989,
   "metadata": {},
   "outputs": [],
   "source": [
    "from sklearn.model_selection import train_test_split"
   ]
  },
  {
   "cell_type": "code",
   "execution_count": 990,
   "metadata": {},
   "outputs": [],
   "source": [
    "X_train, X_test, y_train, y_test = train_test_split(X, y, test_size=0.3, random_state=42)"
   ]
  },
  {
   "cell_type": "code",
   "execution_count": 991,
   "metadata": {},
   "outputs": [],
   "source": [
    "from sklearn.ensemble import RandomForestClassifier\n",
    "from sklearn.ensemble import ExtraTreesClassifier\n",
    "from xgboost import XGBClassifier as xgb\n",
    "from sklearn import metrics"
   ]
  },
  {
   "cell_type": "markdown",
   "metadata": {},
   "source": [
    "### Baseline model\n",
    "In the baseline model, we predict the minority class for all our train and test (or validation) examples. The resulting accuracy will serve as a benchmark for the ML models. In other words, the sophisticated ML models should have an accuracy which should at least better the baseline one."
   ]
  },
  {
   "cell_type": "code",
   "execution_count": 992,
   "metadata": {},
   "outputs": [
    {
     "name": "stdout",
     "output_type": "stream",
     "text": [
      "Accuracy on train data: 0.753091%\n",
      "Accuracy on test data: 0.746381%\n"
     ]
    }
   ],
   "source": [
    "baseline_train = np.zeros(y_train.shape[0])\n",
    "baseline_test = np.zeros(y_test.shape[0])\n",
    "print('Accuracy on train data: %f%%' % (metrics.accuracy_score(y_train, baseline_train)))\n",
    "print('Accuracy on test data: %f%%' %  (metrics.accuracy_score(y_test, baseline_test)))"
   ]
  },
  {
   "cell_type": "markdown",
   "metadata": {},
   "source": [
    "### Random Forest classifier"
   ]
  },
  {
   "cell_type": "code",
   "execution_count": 993,
   "metadata": {},
   "outputs": [
    {
     "name": "stdout",
     "output_type": "stream",
     "text": [
      "RandomForestClassifier(bootstrap=True, class_weight=None, criterion='gini',\n",
      "            max_depth=10, max_features='auto', max_leaf_nodes=None,\n",
      "            min_impurity_decrease=0.0, min_impurity_split=None,\n",
      "            min_samples_leaf=1, min_samples_split=5,\n",
      "            min_weight_fraction_leaf=0.0, n_estimators=300, n_jobs=None,\n",
      "            oob_score=True, random_state=10, verbose=0, warm_start=False)\n"
     ]
    }
   ],
   "source": [
    "rfmodel = RandomForestClassifier(n_estimators=300,oob_score=True,min_samples_split=5, max_depth=10,random_state=10)\n",
    "rfmodel.fit(X_train,y_train)\n",
    "print(rfmodel)"
   ]
  },
  {
   "cell_type": "code",
   "execution_count": 994,
   "metadata": {},
   "outputs": [],
   "source": [
    "def show_classifier_metrics(clf, y_train=y_train,y_test=y_test, print_classification_report=True, print_confusion_matrix=True):\n",
    "    print(clf)\n",
    "    if print_confusion_matrix:\n",
    "        print('confusion matrix of training data')\n",
    "        print(metrics.confusion_matrix(y_train, clf.predict(X_train)))\n",
    "        print('confusion matrix of test data')\n",
    "        print(metrics.confusion_matrix(y_test, clf.predict(X_test)))\n",
    "    if print_classification_report:\n",
    "        print('classification report of test data')\n",
    "        print(metrics.classification_report(y_test, clf.predict(X_test)))\n",
    "    print('Accuracy on test data: %f%%' % (metrics.accuracy_score(y_test, clf.predict(X_test))*100))\n",
    "    print('Accuracy on training data: %f%%' % (metrics.accuracy_score(y_train, clf.predict(X_train))*100))\n",
    "    print('Area under the ROC curve : %f' % (metrics.roc_auc_score(y_test, clf.predict(X_test))))"
   ]
  },
  {
   "cell_type": "code",
   "execution_count": 995,
   "metadata": {},
   "outputs": [
    {
     "name": "stdout",
     "output_type": "stream",
     "text": [
      "RandomForestClassifier(bootstrap=True, class_weight=None, criterion='gini',\n",
      "            max_depth=10, max_features='auto', max_leaf_nodes=None,\n",
      "            min_impurity_decrease=0.0, min_impurity_split=None,\n",
      "            min_samples_leaf=1, min_samples_split=5,\n",
      "            min_weight_fraction_leaf=0.0, n_estimators=300, n_jobs=None,\n",
      "            oob_score=True, random_state=10, verbose=0, warm_start=False)\n",
      "confusion matrix of training data\n",
      "[[15280   620]\n",
      " [ 2250  2963]]\n",
      "confusion matrix of test data\n",
      "[[6440  314]\n",
      " [1007 1288]]\n",
      "classification report of test data\n",
      "              precision    recall  f1-score   support\n",
      "\n",
      "           0       0.86      0.95      0.91      6754\n",
      "           1       0.80      0.56      0.66      2295\n",
      "\n",
      "   micro avg       0.85      0.85      0.85      9049\n",
      "   macro avg       0.83      0.76      0.78      9049\n",
      "weighted avg       0.85      0.85      0.84      9049\n",
      "\n",
      "Accuracy on test data: 85.401702%\n",
      "Accuracy on training data: 86.406479%\n",
      "Area under the ROC curve : 0.757365\n",
      "oob score = 0.856534\n"
     ]
    }
   ],
   "source": [
    "show_classifier_metrics(rfmodel,y_train)\n",
    "print('oob score = %f'% rfmodel.oob_score_)"
   ]
  },
  {
   "cell_type": "code",
   "execution_count": 996,
   "metadata": {},
   "outputs": [
    {
     "data": {
      "image/png": "[encoded data removed]",
      "text/plain": [
       "<Figure size 1440x720 with 1 Axes>"
      ]
     },
     "metadata": {},
     "output_type": "display_data"
    }
   ],
   "source": [
    "importance_list = rfmodel.feature_importances_\n",
    "name_list = X_train.columns\n",
    "importance_list, name_list = zip(*sorted(zip(importance_list, name_list)))\n",
    "plt.figure(figsize=(20,10))\n",
    "plt.barh(range(len(name_list)),importance_list,align='center')\n",
    "plt.yticks(range(len(name_list)),name_list)\n",
    "plt.xlabel('Relative Importance in the Random Forest')\n",
    "plt.ylabel('Features')\n",
    "plt.title('Relative importance of Each Feature')\n",
    "plt.show()"
   ]
  },
  {
   "cell_type": "markdown",
   "metadata": {},
   "source": [
    "### Random forest: Grid Search and cross-validation"
   ]
  },
  {
   "cell_type": "code",
   "execution_count": 997,
   "metadata": {},
   "outputs": [],
   "source": [
    "from sklearn.model_selection import cross_val_score, GridSearchCV"
   ]
  },
  {
   "cell_type": "code",
   "execution_count": 998,
   "metadata": {},
   "outputs": [],
   "source": [
    "def grid_search(clf, parameters, X, y, n_jobs= -1, n_folds=4, score_func=None):\n",
    "    if score_func:\n",
    "        gs = GridSearchCV(clf, param_grid=parameters, cv=n_folds, n_jobs=n_jobs, scoring=score_func,verbose =2)\n",
    "    else:\n",
    "        print('Doing grid search')\n",
    "        gs = GridSearchCV(clf, param_grid=parameters, n_jobs=n_jobs, cv=n_folds, verbose =2)\n",
    "    gs.fit(X, y)\n",
    "    print(\"mean test score (weighted by split size) of CV rounds: \",gs.cv_results_['mean_test_score'] )\n",
    "    print (\"Best parameter set\", gs.best_params_, \"Corresponding mean CV score\",gs.best_score_)\n",
    "    best = gs.best_estimator_\n",
    "    return best"
   ]
  },
  {
   "cell_type": "code",
   "execution_count": 999,
   "metadata": {},
   "outputs": [
    {
     "name": "stdout",
     "output_type": "stream",
     "text": [
      "Doing grid search\n",
      "Fitting 4 folds for each of 12 candidates, totalling 48 fits\n"
     ]
    },
    {
     "name": "stderr",
     "output_type": "stream",
     "text": [
      "[Parallel(n_jobs=-1)]: Using backend LokyBackend with 4 concurrent workers.\n",
      "[Parallel(n_jobs=-1)]: Done  33 tasks      | elapsed:   54.9s\n",
      "[Parallel(n_jobs=-1)]: Done  48 out of  48 | elapsed:  1.3min finished\n"
     ]
    },
    {
     "name": "stdout",
     "output_type": "stream",
     "text": [
      "mean test score (weighted by split size) of CV rounds:  [0.85610761 0.85563397 0.85587079 0.85501824 0.85672335 0.85643916\n",
      " 0.85653389 0.85767063 0.85710226 0.85596552 0.85525506 0.85516033]\n",
      "Best parameter set {'max_depth': 15, 'n_estimators': 200} Corresponding mean CV score 0.8576706294699948\n"
     ]
    }
   ],
   "source": [
    "rfmodel2 = RandomForestClassifier(min_samples_split=5,oob_score=True, n_jobs=-1,random_state=10)\n",
    "parameters = {'n_estimators': [100,200,300], 'max_depth': [10,13,15,20]}\n",
    "rfmodelCV = grid_search(rfmodel2, parameters,X_train,y_train)"
   ]
  },
  {
   "cell_type": "code",
   "execution_count": 1000,
   "metadata": {},
   "outputs": [
    {
     "name": "stdout",
     "output_type": "stream",
     "text": [
      "RandomForestClassifier(bootstrap=True, class_weight=None, criterion='gini',\n",
      "            max_depth=15, max_features='auto', max_leaf_nodes=None,\n",
      "            min_impurity_decrease=0.0, min_impurity_split=None,\n",
      "            min_samples_leaf=1, min_samples_split=5,\n",
      "            min_weight_fraction_leaf=0.0, n_estimators=200, n_jobs=-1,\n",
      "            oob_score=True, random_state=10, verbose=0, warm_start=False)\n",
      "confusion matrix of training data\n",
      "[[15301   599]\n",
      " [ 1848  3365]]\n",
      "confusion matrix of test data\n",
      "[[6396  358]\n",
      " [ 926 1369]]\n",
      "classification report of test data\n",
      "              precision    recall  f1-score   support\n",
      "\n",
      "           0       0.87      0.95      0.91      6754\n",
      "           1       0.79      0.60      0.68      2295\n",
      "\n",
      "   micro avg       0.86      0.86      0.86      9049\n",
      "   macro avg       0.83      0.77      0.79      9049\n",
      "weighted avg       0.85      0.86      0.85      9049\n",
      "\n",
      "Accuracy on test data: 85.810587%\n",
      "Accuracy on training data: 88.409984%\n",
      "Area under the ROC curve : 0.771754\n",
      "oob score = 0.859991\n"
     ]
    }
   ],
   "source": [
    "rfmodelCV.fit(X_train,y_train)\n",
    "show_classifier_metrics(rfmodelCV,y_train)\n",
    "print('oob score = %f'% rfmodelCV.oob_score_)"
   ]
  },
  {
   "cell_type": "markdown",
   "metadata": {},
   "source": [
    "## XGBoost "
   ]
  },
  {
   "cell_type": "code",
   "execution_count": 1001,
   "metadata": {},
   "outputs": [],
   "source": [
    "from xgboost.sklearn import XGBClassifier"
   ]
  },
  {
   "cell_type": "code",
   "execution_count": 1002,
   "metadata": {},
   "outputs": [
    {
     "name": "stdout",
     "output_type": "stream",
     "text": [
      "[0]\tvalidation_0-error:0.155212\tvalidation_1-error:0.159797\n",
      "Multiple eval metrics have been passed: 'validation_1-error' will be used for early stopping.\n",
      "\n",
      "Will train until validation_1-error hasn't improved in 30 rounds.\n",
      "[1]\tvalidation_0-error:0.15436\tvalidation_1-error:0.158692\n",
      "[2]\tvalidation_0-error:0.154644\tvalidation_1-error:0.158471\n",
      "[3]\tvalidation_0-error:0.149576\tvalidation_1-error:0.154382\n",
      "[4]\tvalidation_0-error:0.147918\tvalidation_1-error:0.153277\n",
      "[5]\tvalidation_0-error:0.147018\tvalidation_1-error:0.151398\n",
      "[6]\tvalidation_0-error:0.147113\tvalidation_1-error:0.152061\n",
      "[7]\tvalidation_0-error:0.147066\tvalidation_1-error:0.151508\n",
      "[8]\tvalidation_0-error:0.146924\tvalidation_1-error:0.151287\n",
      "[9]\tvalidation_0-error:0.146782\tvalidation_1-error:0.151619\n",
      "[10]\tvalidation_0-error:0.14664\tvalidation_1-error:0.151619\n",
      "[11]\tvalidation_0-error:0.146829\tvalidation_1-error:0.151177\n",
      "[12]\tvalidation_0-error:0.145598\tvalidation_1-error:0.149519\n",
      "[13]\tvalidation_0-error:0.145219\tvalidation_1-error:0.149188\n",
      "[14]\tvalidation_0-error:0.145313\tvalidation_1-error:0.149077\n",
      "[15]\tvalidation_0-error:0.142803\tvalidation_1-error:0.147751\n",
      "[16]\tvalidation_0-error:0.142566\tvalidation_1-error:0.148414\n",
      "[17]\tvalidation_0-error:0.142945\tvalidation_1-error:0.148193\n",
      "[18]\tvalidation_0-error:0.142424\tvalidation_1-error:0.148304\n",
      "[19]\tvalidation_0-error:0.142187\tvalidation_1-error:0.147309\n",
      "[20]\tvalidation_0-error:0.141998\tvalidation_1-error:0.146978\n",
      "[21]\tvalidation_0-error:0.142282\tvalidation_1-error:0.146204\n",
      "[22]\tvalidation_0-error:0.141666\tvalidation_1-error:0.146757\n",
      "[23]\tvalidation_0-error:0.141429\tvalidation_1-error:0.146315\n",
      "[24]\tvalidation_0-error:0.140956\tvalidation_1-error:0.145762\n",
      "[25]\tvalidation_0-error:0.140956\tvalidation_1-error:0.145541\n",
      "[26]\tvalidation_0-error:0.140293\tvalidation_1-error:0.14543\n",
      "[27]\tvalidation_0-error:0.13963\tvalidation_1-error:0.145209\n",
      "[28]\tvalidation_0-error:0.139298\tvalidation_1-error:0.144878\n",
      "[29]\tvalidation_0-error:0.139014\tvalidation_1-error:0.144215\n",
      "[30]\tvalidation_0-error:0.138872\tvalidation_1-error:0.144215\n",
      "[31]\tvalidation_0-error:0.138682\tvalidation_1-error:0.144215\n",
      "[32]\tvalidation_0-error:0.138256\tvalidation_1-error:0.143883\n",
      "[33]\tvalidation_0-error:0.13783\tvalidation_1-error:0.143662\n",
      "[34]\tvalidation_0-error:0.137119\tvalidation_1-error:0.143662\n",
      "[35]\tvalidation_0-error:0.137119\tvalidation_1-error:0.144104\n",
      "[36]\tvalidation_0-error:0.137167\tvalidation_1-error:0.143994\n",
      "[37]\tvalidation_0-error:0.136551\tvalidation_1-error:0.143662\n",
      "[38]\tvalidation_0-error:0.136267\tvalidation_1-error:0.143773\n",
      "[39]\tvalidation_0-error:0.135793\tvalidation_1-error:0.142447\n",
      "[40]\tvalidation_0-error:0.135367\tvalidation_1-error:0.142115\n",
      "[41]\tvalidation_0-error:0.134988\tvalidation_1-error:0.142778\n",
      "[42]\tvalidation_0-error:0.134656\tvalidation_1-error:0.142668\n",
      "[43]\tvalidation_0-error:0.134467\tvalidation_1-error:0.142005\n",
      "[44]\tvalidation_0-error:0.134467\tvalidation_1-error:0.141784\n",
      "[45]\tvalidation_0-error:0.134088\tvalidation_1-error:0.141121\n",
      "[46]\tvalidation_0-error:0.133993\tvalidation_1-error:0.1409\n",
      "[47]\tvalidation_0-error:0.133899\tvalidation_1-error:0.141342\n",
      "[48]\tvalidation_0-error:0.133662\tvalidation_1-error:0.141563\n",
      "[49]\tvalidation_0-error:0.133283\tvalidation_1-error:0.14101\n",
      "[50]\tvalidation_0-error:0.132809\tvalidation_1-error:0.140568\n",
      "[51]\tvalidation_0-error:0.132336\tvalidation_1-error:0.139684\n",
      "[52]\tvalidation_0-error:0.132051\tvalidation_1-error:0.139352\n",
      "[53]\tvalidation_0-error:0.132004\tvalidation_1-error:0.138689\n",
      "[54]\tvalidation_0-error:0.13153\tvalidation_1-error:0.138358\n",
      "[55]\tvalidation_0-error:0.131578\tvalidation_1-error:0.137584\n",
      "[56]\tvalidation_0-error:0.131341\tvalidation_1-error:0.137474\n",
      "[57]\tvalidation_0-error:0.131341\tvalidation_1-error:0.137363\n",
      "[58]\tvalidation_0-error:0.131199\tvalidation_1-error:0.137584\n",
      "[59]\tvalidation_0-error:0.130251\tvalidation_1-error:0.1367\n",
      "[60]\tvalidation_0-error:0.130299\tvalidation_1-error:0.136479\n",
      "[61]\tvalidation_0-error:0.130441\tvalidation_1-error:0.136369\n",
      "[62]\tvalidation_0-error:0.130062\tvalidation_1-error:0.135816\n",
      "[63]\tvalidation_0-error:0.12973\tvalidation_1-error:0.135485\n",
      "[64]\tvalidation_0-error:0.129352\tvalidation_1-error:0.135374\n",
      "[65]\tvalidation_0-error:0.128783\tvalidation_1-error:0.134932\n",
      "[66]\tvalidation_0-error:0.128878\tvalidation_1-error:0.134932\n",
      "[67]\tvalidation_0-error:0.12902\tvalidation_1-error:0.135043\n",
      "[68]\tvalidation_0-error:0.129067\tvalidation_1-error:0.135153\n",
      "[69]\tvalidation_0-error:0.128736\tvalidation_1-error:0.134822\n",
      "[70]\tvalidation_0-error:0.128688\tvalidation_1-error:0.134601\n",
      "[71]\tvalidation_0-error:0.128546\tvalidation_1-error:0.134269\n",
      "[72]\tvalidation_0-error:0.128215\tvalidation_1-error:0.134269\n",
      "[73]\tvalidation_0-error:0.128167\tvalidation_1-error:0.134379\n",
      "[74]\tvalidation_0-error:0.128073\tvalidation_1-error:0.134932\n",
      "[75]\tvalidation_0-error:0.127883\tvalidation_1-error:0.134601\n",
      "[76]\tvalidation_0-error:0.127741\tvalidation_1-error:0.133716\n",
      "[77]\tvalidation_0-error:0.127599\tvalidation_1-error:0.133716\n",
      "[78]\tvalidation_0-error:0.127362\tvalidation_1-error:0.133606\n",
      "[79]\tvalidation_0-error:0.12722\tvalidation_1-error:0.133274\n",
      "[80]\tvalidation_0-error:0.126794\tvalidation_1-error:0.133164\n",
      "[81]\tvalidation_0-error:0.126889\tvalidation_1-error:0.133164\n",
      "[82]\tvalidation_0-error:0.126557\tvalidation_1-error:0.132943\n",
      "[83]\tvalidation_0-error:0.12651\tvalidation_1-error:0.132611\n",
      "[84]\tvalidation_0-error:0.126273\tvalidation_1-error:0.132611\n",
      "[85]\tvalidation_0-error:0.125468\tvalidation_1-error:0.13239\n",
      "[86]\tvalidation_0-error:0.126036\tvalidation_1-error:0.132611\n",
      "[87]\tvalidation_0-error:0.126036\tvalidation_1-error:0.132722\n",
      "[88]\tvalidation_0-error:0.125752\tvalidation_1-error:0.132501\n",
      "[89]\tvalidation_0-error:0.12561\tvalidation_1-error:0.132501\n",
      "[90]\tvalidation_0-error:0.125752\tvalidation_1-error:0.132501\n",
      "[91]\tvalidation_0-error:0.12561\tvalidation_1-error:0.132169\n",
      "[92]\tvalidation_0-error:0.125515\tvalidation_1-error:0.132501\n",
      "[93]\tvalidation_0-error:0.12542\tvalidation_1-error:0.132501\n",
      "[94]\tvalidation_0-error:0.124899\tvalidation_1-error:0.131948\n",
      "[95]\tvalidation_0-error:0.124852\tvalidation_1-error:0.131617\n",
      "[96]\tvalidation_0-error:0.12471\tvalidation_1-error:0.131838\n",
      "[97]\tvalidation_0-error:0.12452\tvalidation_1-error:0.131617\n",
      "[98]\tvalidation_0-error:0.124236\tvalidation_1-error:0.131175\n",
      "[99]\tvalidation_0-error:0.124094\tvalidation_1-error:0.131285\n",
      "[100]\tvalidation_0-error:0.123668\tvalidation_1-error:0.131064\n",
      "[101]\tvalidation_0-error:0.123526\tvalidation_1-error:0.130843\n",
      "[102]\tvalidation_0-error:0.123431\tvalidation_1-error:0.130733\n",
      "[103]\tvalidation_0-error:0.123621\tvalidation_1-error:0.130622\n",
      "[104]\tvalidation_0-error:0.123526\tvalidation_1-error:0.130622\n",
      "[105]\tvalidation_0-error:0.123478\tvalidation_1-error:0.130512\n",
      "[106]\tvalidation_0-error:0.123431\tvalidation_1-error:0.130843\n",
      "[107]\tvalidation_0-error:0.123431\tvalidation_1-error:0.130954\n",
      "[108]\tvalidation_0-error:0.123431\tvalidation_1-error:0.130843\n",
      "[109]\tvalidation_0-error:0.123289\tvalidation_1-error:0.130954\n",
      "[110]\tvalidation_0-error:0.123336\tvalidation_1-error:0.130954\n",
      "[111]\tvalidation_0-error:0.123194\tvalidation_1-error:0.130622\n",
      "[112]\tvalidation_0-error:0.123052\tvalidation_1-error:0.130291\n",
      "[113]\tvalidation_0-error:0.122768\tvalidation_1-error:0.130512\n",
      "[114]\tvalidation_0-error:0.122673\tvalidation_1-error:0.130733\n",
      "[115]\tvalidation_0-error:0.122863\tvalidation_1-error:0.130622\n",
      "[116]\tvalidation_0-error:0.122721\tvalidation_1-error:0.130733\n",
      "[117]\tvalidation_0-error:0.122863\tvalidation_1-error:0.130733\n",
      "[118]\tvalidation_0-error:0.122673\tvalidation_1-error:0.130401\n",
      "[119]\tvalidation_0-error:0.122342\tvalidation_1-error:0.130401\n",
      "[120]\tvalidation_0-error:0.121963\tvalidation_1-error:0.130622\n",
      "[121]\tvalidation_0-error:0.121773\tvalidation_1-error:0.130954\n",
      "[122]\tvalidation_0-error:0.121773\tvalidation_1-error:0.130843\n",
      "[123]\tvalidation_0-error:0.121679\tvalidation_1-error:0.131064\n",
      "[124]\tvalidation_0-error:0.121631\tvalidation_1-error:0.131396\n",
      "[125]\tvalidation_0-error:0.121631\tvalidation_1-error:0.131064\n",
      "[126]\tvalidation_0-error:0.121679\tvalidation_1-error:0.130954\n",
      "[127]\tvalidation_0-error:0.121726\tvalidation_1-error:0.131064\n",
      "[128]\tvalidation_0-error:0.121726\tvalidation_1-error:0.131064\n",
      "[129]\tvalidation_0-error:0.121584\tvalidation_1-error:0.131175\n",
      "[130]\tvalidation_0-error:0.121536\tvalidation_1-error:0.131285\n",
      "[131]\tvalidation_0-error:0.121536\tvalidation_1-error:0.131064\n"
     ]
    },
    {
     "name": "stdout",
     "output_type": "stream",
     "text": [
      "[132]\tvalidation_0-error:0.121584\tvalidation_1-error:0.131175\n",
      "[133]\tvalidation_0-error:0.121726\tvalidation_1-error:0.131175\n",
      "[134]\tvalidation_0-error:0.121726\tvalidation_1-error:0.131285\n",
      "[135]\tvalidation_0-error:0.121584\tvalidation_1-error:0.130843\n",
      "[136]\tvalidation_0-error:0.121631\tvalidation_1-error:0.130843\n",
      "[137]\tvalidation_0-error:0.121584\tvalidation_1-error:0.130843\n",
      "[138]\tvalidation_0-error:0.1213\tvalidation_1-error:0.130512\n",
      "[139]\tvalidation_0-error:0.1213\tvalidation_1-error:0.130512\n",
      "[140]\tvalidation_0-error:0.1213\tvalidation_1-error:0.13007\n",
      "[141]\tvalidation_0-error:0.121347\tvalidation_1-error:0.129959\n",
      "[142]\tvalidation_0-error:0.121394\tvalidation_1-error:0.129849\n",
      "[143]\tvalidation_0-error:0.121063\tvalidation_1-error:0.130401\n",
      "[144]\tvalidation_0-error:0.12111\tvalidation_1-error:0.130622\n",
      "[145]\tvalidation_0-error:0.120779\tvalidation_1-error:0.130401\n",
      "[146]\tvalidation_0-error:0.120589\tvalidation_1-error:0.130622\n",
      "[147]\tvalidation_0-error:0.120447\tvalidation_1-error:0.130954\n",
      "[148]\tvalidation_0-error:0.1204\tvalidation_1-error:0.130954\n",
      "[149]\tvalidation_0-error:0.120637\tvalidation_1-error:0.131064\n",
      "[150]\tvalidation_0-error:0.120542\tvalidation_1-error:0.131175\n",
      "[151]\tvalidation_0-error:0.120542\tvalidation_1-error:0.130954\n",
      "[152]\tvalidation_0-error:0.120494\tvalidation_1-error:0.130954\n",
      "[153]\tvalidation_0-error:0.120542\tvalidation_1-error:0.130954\n",
      "[154]\tvalidation_0-error:0.12021\tvalidation_1-error:0.130954\n",
      "[155]\tvalidation_0-error:0.120021\tvalidation_1-error:0.130733\n",
      "[156]\tvalidation_0-error:0.119784\tvalidation_1-error:0.131064\n",
      "[157]\tvalidation_0-error:0.120163\tvalidation_1-error:0.130843\n",
      "[158]\tvalidation_0-error:0.120068\tvalidation_1-error:0.130733\n",
      "[159]\tvalidation_0-error:0.119737\tvalidation_1-error:0.130622\n",
      "[160]\tvalidation_0-error:0.119784\tvalidation_1-error:0.130622\n",
      "[161]\tvalidation_0-error:0.119642\tvalidation_1-error:0.130622\n",
      "[162]\tvalidation_0-error:0.119595\tvalidation_1-error:0.130843\n",
      "[163]\tvalidation_0-error:0.119642\tvalidation_1-error:0.130843\n",
      "[164]\tvalidation_0-error:0.1195\tvalidation_1-error:0.130622\n",
      "[165]\tvalidation_0-error:0.119452\tvalidation_1-error:0.130622\n",
      "[166]\tvalidation_0-error:0.119358\tvalidation_1-error:0.130733\n",
      "[167]\tvalidation_0-error:0.119405\tvalidation_1-error:0.130954\n",
      "[168]\tvalidation_0-error:0.119168\tvalidation_1-error:0.130954\n",
      "[169]\tvalidation_0-error:0.119216\tvalidation_1-error:0.130843\n",
      "[170]\tvalidation_0-error:0.118979\tvalidation_1-error:0.130954\n",
      "[171]\tvalidation_0-error:0.119026\tvalidation_1-error:0.130954\n",
      "[172]\tvalidation_0-error:0.118979\tvalidation_1-error:0.131064\n",
      "Stopping. Best iteration:\n",
      "[142]\tvalidation_0-error:0.121394\tvalidation_1-error:0.129849\n",
      "\n"
     ]
    },
    {
     "data": {
      "text/plain": [
       "XGBClassifier(base_score=0.5, booster='gbtree', colsample_bylevel=0.9,\n",
       "       colsample_bytree=0.9, gamma=0, learning_rate=0.1, max_delta_step=0,\n",
       "       max_depth=5, min_child_weight=1, missing=None, n_estimators=400,\n",
       "       n_jobs=1, nthread=None, objective='binary:logistic', random_state=0,\n",
       "       reg_alpha=0, reg_lambda=1.5, scale_pos_weight=1, seed=10,\n",
       "       silent=True, subsample=0.9, verbosity=1)"
      ]
     },
     "execution_count": 1002,
     "metadata": {},
     "output_type": "execute_result"
    }
   ],
   "source": [
    "param = {}\n",
    "param['learning_rate'] = 0.1\n",
    "param['verbosity'] = 1\n",
    "param['colsample_bylevel'] = 0.9\n",
    "param['colsample_bytree'] = 0.9\n",
    "param['subsample'] = 0.9\n",
    "param['reg_lambda']= 1.5\n",
    "param['max_depth'] = 5\n",
    "param['n_estimators'] = 400\n",
    "param['seed']=10\n",
    "xgb= XGBClassifier(**param)\n",
    "xgb.fit(X_train, y_train, eval_metric=['error'], eval_set=[(X_train, y_train),(X_test, y_test)],early_stopping_rounds=30)"
   ]
  },
  {
   "cell_type": "code",
   "execution_count": 1003,
   "metadata": {},
   "outputs": [
    {
     "name": "stdout",
     "output_type": "stream",
     "text": [
      "XGBClassifier(base_score=0.5, booster='gbtree', colsample_bylevel=0.9,\n",
      "       colsample_bytree=0.9, gamma=0, learning_rate=0.1, max_delta_step=0,\n",
      "       max_depth=5, min_child_weight=1, missing=None, n_estimators=400,\n",
      "       n_jobs=1, nthread=None, objective='binary:logistic', random_state=0,\n",
      "       reg_alpha=0, reg_lambda=1.5, scale_pos_weight=1, seed=10,\n",
      "       silent=True, subsample=0.9, verbosity=1)\n",
      "confusion matrix of training data\n",
      "[[15070   830]\n",
      " [ 1733  3480]]\n",
      "confusion matrix of test data\n",
      "[[6361  393]\n",
      " [ 782 1513]]\n",
      "classification report of test data\n",
      "              precision    recall  f1-score   support\n",
      "\n",
      "           0       0.89      0.94      0.92      6754\n",
      "           1       0.79      0.66      0.72      2295\n",
      "\n",
      "   micro avg       0.87      0.87      0.87      9049\n",
      "   macro avg       0.84      0.80      0.82      9049\n",
      "weighted avg       0.87      0.87      0.87      9049\n",
      "\n",
      "Accuracy on test data: 87.015140%\n",
      "Accuracy on training data: 87.860560%\n",
      "Area under the ROC curve : 0.800536\n"
     ]
    }
   ],
   "source": [
    "show_classifier_metrics(xgb,y_train)"
   ]
  },
  {
   "cell_type": "code",
   "execution_count": 1004,
   "metadata": {},
   "outputs": [
    {
     "data": {
      "image/png": "[encoded data removed]",
      "text/plain": [
       "<Figure size 1440x720 with 1 Axes>"
      ]
     },
     "metadata": {},
     "output_type": "display_data"
    }
   ],
   "source": [
    "importance_list = xgb.feature_importances_\n",
    "name_list = X_train.columns\n",
    "importance_list, name_list = zip(*sorted(zip(importance_list, name_list)))\n",
    "plt.figure(figsize=(20,10))\n",
    "plt.barh(range(len(name_list)),importance_list,align='center')\n",
    "plt.yticks(range(len(name_list)),name_list)\n",
    "plt.xlabel('Relative Importance in XGBoost')\n",
    "plt.ylabel('Features')\n",
    "plt.title('Relative importance of Each Feature')\n",
    "plt.show()"
   ]
  },
  {
   "cell_type": "markdown",
   "metadata": {},
   "source": [
    "### Grid search with cross validation: XGBoost model"
   ]
  },
  {
   "cell_type": "code",
   "execution_count": 1032,
   "metadata": {},
   "outputs": [
    {
     "name": "stdout",
     "output_type": "stream",
     "text": [
      "Doing grid search\n",
      "Fitting 4 folds for each of 6 candidates, totalling 24 fits\n"
     ]
    },
    {
     "name": "stderr",
     "output_type": "stream",
     "text": [
      "[Parallel(n_jobs=-1)]: Using backend LokyBackend with 4 concurrent workers.\n",
      "[Parallel(n_jobs=-1)]: Done  24 out of  24 | elapsed:  1.4min finished\n"
     ]
    },
    {
     "name": "stdout",
     "output_type": "stream",
     "text": [
      "mean test score (weighted by split size) of CV rounds:  [0.865912   0.86624355 0.86780656 0.86723819 0.86212286 0.86278596]\n",
      "Best parameter set {'colsample_bylevel': 0.9, 'colsample_bytree': 0.9, 'learning_rate': 0.1, 'max_depth': 5, 'n_estimators': 300, 'reg_lambda': 1.5, 'seed': 10, 'subsample': 0.9} Corresponding mean CV score 0.8678065646757922\n"
     ]
    }
   ],
   "source": [
    "xgbmodel2 = XGBClassifier(seed=42)\n",
    "param = {\n",
    "'learning_rate': [0.1],\n",
    "#'verbosity': [1],\n",
    "'colsample_bylevel': [0.9],\n",
    "'colsample_bytree': [0.9],\n",
    "'subsample' : [0.9],\n",
    "'n_estimators': [300],\n",
    "'reg_lambda': [1.5,2],\n",
    "'max_depth': [3,5,7],\n",
    " 'seed': [10]   \n",
    "}\n",
    "xgbCV = grid_search(xgbmodel2, param,X_train,y_train)"
   ]
  },
  {
   "cell_type": "code",
   "execution_count": 1033,
   "metadata": {},
   "outputs": [
    {
     "name": "stdout",
     "output_type": "stream",
     "text": [
      "[0]\tvalidation_0-error:0.155212\tvalidation_1-error:0.159797\n",
      "Multiple eval metrics have been passed: 'validation_1-error' will be used for early stopping.\n",
      "\n",
      "Will train until validation_1-error hasn't improved in 30 rounds.\n",
      "[1]\tvalidation_0-error:0.15436\tvalidation_1-error:0.158692\n",
      "[2]\tvalidation_0-error:0.154644\tvalidation_1-error:0.158471\n",
      "[3]\tvalidation_0-error:0.149576\tvalidation_1-error:0.154382\n",
      "[4]\tvalidation_0-error:0.147918\tvalidation_1-error:0.153277\n",
      "[5]\tvalidation_0-error:0.147018\tvalidation_1-error:0.151398\n",
      "[6]\tvalidation_0-error:0.147113\tvalidation_1-error:0.152061\n",
      "[7]\tvalidation_0-error:0.147066\tvalidation_1-error:0.151508\n",
      "[8]\tvalidation_0-error:0.146924\tvalidation_1-error:0.151287\n",
      "[9]\tvalidation_0-error:0.146782\tvalidation_1-error:0.151619\n",
      "[10]\tvalidation_0-error:0.14664\tvalidation_1-error:0.151619\n",
      "[11]\tvalidation_0-error:0.146829\tvalidation_1-error:0.151177\n",
      "[12]\tvalidation_0-error:0.145598\tvalidation_1-error:0.149519\n",
      "[13]\tvalidation_0-error:0.145219\tvalidation_1-error:0.149188\n",
      "[14]\tvalidation_0-error:0.145313\tvalidation_1-error:0.149077\n",
      "[15]\tvalidation_0-error:0.142803\tvalidation_1-error:0.147751\n",
      "[16]\tvalidation_0-error:0.142566\tvalidation_1-error:0.148414\n",
      "[17]\tvalidation_0-error:0.142945\tvalidation_1-error:0.148193\n",
      "[18]\tvalidation_0-error:0.142424\tvalidation_1-error:0.148304\n",
      "[19]\tvalidation_0-error:0.142187\tvalidation_1-error:0.147309\n",
      "[20]\tvalidation_0-error:0.141998\tvalidation_1-error:0.146978\n",
      "[21]\tvalidation_0-error:0.142282\tvalidation_1-error:0.146204\n",
      "[22]\tvalidation_0-error:0.141666\tvalidation_1-error:0.146757\n",
      "[23]\tvalidation_0-error:0.141429\tvalidation_1-error:0.146315\n",
      "[24]\tvalidation_0-error:0.140956\tvalidation_1-error:0.145762\n",
      "[25]\tvalidation_0-error:0.140956\tvalidation_1-error:0.145541\n",
      "[26]\tvalidation_0-error:0.140293\tvalidation_1-error:0.14543\n",
      "[27]\tvalidation_0-error:0.13963\tvalidation_1-error:0.145209\n",
      "[28]\tvalidation_0-error:0.139298\tvalidation_1-error:0.144878\n",
      "[29]\tvalidation_0-error:0.139014\tvalidation_1-error:0.144215\n",
      "[30]\tvalidation_0-error:0.138872\tvalidation_1-error:0.144215\n",
      "[31]\tvalidation_0-error:0.138682\tvalidation_1-error:0.144215\n",
      "[32]\tvalidation_0-error:0.138256\tvalidation_1-error:0.143883\n",
      "[33]\tvalidation_0-error:0.13783\tvalidation_1-error:0.143662\n",
      "[34]\tvalidation_0-error:0.137119\tvalidation_1-error:0.143662\n",
      "[35]\tvalidation_0-error:0.137119\tvalidation_1-error:0.144104\n",
      "[36]\tvalidation_0-error:0.137167\tvalidation_1-error:0.143994\n",
      "[37]\tvalidation_0-error:0.136551\tvalidation_1-error:0.143662\n",
      "[38]\tvalidation_0-error:0.136267\tvalidation_1-error:0.143773\n",
      "[39]\tvalidation_0-error:0.135793\tvalidation_1-error:0.142447\n",
      "[40]\tvalidation_0-error:0.135367\tvalidation_1-error:0.142115\n",
      "[41]\tvalidation_0-error:0.134988\tvalidation_1-error:0.142778\n",
      "[42]\tvalidation_0-error:0.134656\tvalidation_1-error:0.142668\n",
      "[43]\tvalidation_0-error:0.134467\tvalidation_1-error:0.142005\n",
      "[44]\tvalidation_0-error:0.134467\tvalidation_1-error:0.141784\n",
      "[45]\tvalidation_0-error:0.134088\tvalidation_1-error:0.141121\n",
      "[46]\tvalidation_0-error:0.133993\tvalidation_1-error:0.1409\n",
      "[47]\tvalidation_0-error:0.133899\tvalidation_1-error:0.141342\n",
      "[48]\tvalidation_0-error:0.133662\tvalidation_1-error:0.141563\n",
      "[49]\tvalidation_0-error:0.133283\tvalidation_1-error:0.14101\n",
      "[50]\tvalidation_0-error:0.132809\tvalidation_1-error:0.140568\n",
      "[51]\tvalidation_0-error:0.132336\tvalidation_1-error:0.139684\n",
      "[52]\tvalidation_0-error:0.132051\tvalidation_1-error:0.139352\n",
      "[53]\tvalidation_0-error:0.132004\tvalidation_1-error:0.138689\n",
      "[54]\tvalidation_0-error:0.13153\tvalidation_1-error:0.138358\n",
      "[55]\tvalidation_0-error:0.131578\tvalidation_1-error:0.137584\n",
      "[56]\tvalidation_0-error:0.131341\tvalidation_1-error:0.137474\n",
      "[57]\tvalidation_0-error:0.131341\tvalidation_1-error:0.137363\n",
      "[58]\tvalidation_0-error:0.131199\tvalidation_1-error:0.137584\n",
      "[59]\tvalidation_0-error:0.130251\tvalidation_1-error:0.1367\n",
      "[60]\tvalidation_0-error:0.130299\tvalidation_1-error:0.136479\n",
      "[61]\tvalidation_0-error:0.130441\tvalidation_1-error:0.136369\n",
      "[62]\tvalidation_0-error:0.130062\tvalidation_1-error:0.135816\n",
      "[63]\tvalidation_0-error:0.12973\tvalidation_1-error:0.135485\n",
      "[64]\tvalidation_0-error:0.129352\tvalidation_1-error:0.135374\n",
      "[65]\tvalidation_0-error:0.128783\tvalidation_1-error:0.134932\n",
      "[66]\tvalidation_0-error:0.128878\tvalidation_1-error:0.134932\n",
      "[67]\tvalidation_0-error:0.12902\tvalidation_1-error:0.135043\n",
      "[68]\tvalidation_0-error:0.129067\tvalidation_1-error:0.135153\n",
      "[69]\tvalidation_0-error:0.128736\tvalidation_1-error:0.134822\n",
      "[70]\tvalidation_0-error:0.128688\tvalidation_1-error:0.134601\n",
      "[71]\tvalidation_0-error:0.128546\tvalidation_1-error:0.134269\n",
      "[72]\tvalidation_0-error:0.128215\tvalidation_1-error:0.134269\n",
      "[73]\tvalidation_0-error:0.128167\tvalidation_1-error:0.134379\n",
      "[74]\tvalidation_0-error:0.128073\tvalidation_1-error:0.134932\n",
      "[75]\tvalidation_0-error:0.127883\tvalidation_1-error:0.134601\n",
      "[76]\tvalidation_0-error:0.127741\tvalidation_1-error:0.133716\n",
      "[77]\tvalidation_0-error:0.127599\tvalidation_1-error:0.133716\n",
      "[78]\tvalidation_0-error:0.127362\tvalidation_1-error:0.133606\n",
      "[79]\tvalidation_0-error:0.12722\tvalidation_1-error:0.133274\n",
      "[80]\tvalidation_0-error:0.126794\tvalidation_1-error:0.133164\n",
      "[81]\tvalidation_0-error:0.126889\tvalidation_1-error:0.133164\n",
      "[82]\tvalidation_0-error:0.126557\tvalidation_1-error:0.132943\n",
      "[83]\tvalidation_0-error:0.12651\tvalidation_1-error:0.132611\n",
      "[84]\tvalidation_0-error:0.126273\tvalidation_1-error:0.132611\n",
      "[85]\tvalidation_0-error:0.125468\tvalidation_1-error:0.13239\n",
      "[86]\tvalidation_0-error:0.126036\tvalidation_1-error:0.132611\n",
      "[87]\tvalidation_0-error:0.126036\tvalidation_1-error:0.132722\n",
      "[88]\tvalidation_0-error:0.125752\tvalidation_1-error:0.132501\n",
      "[89]\tvalidation_0-error:0.12561\tvalidation_1-error:0.132501\n",
      "[90]\tvalidation_0-error:0.125752\tvalidation_1-error:0.132501\n",
      "[91]\tvalidation_0-error:0.12561\tvalidation_1-error:0.132169\n",
      "[92]\tvalidation_0-error:0.125515\tvalidation_1-error:0.132501\n",
      "[93]\tvalidation_0-error:0.12542\tvalidation_1-error:0.132501\n",
      "[94]\tvalidation_0-error:0.124899\tvalidation_1-error:0.131948\n",
      "[95]\tvalidation_0-error:0.124852\tvalidation_1-error:0.131617\n",
      "[96]\tvalidation_0-error:0.12471\tvalidation_1-error:0.131838\n",
      "[97]\tvalidation_0-error:0.12452\tvalidation_1-error:0.131617\n",
      "[98]\tvalidation_0-error:0.124236\tvalidation_1-error:0.131175\n",
      "[99]\tvalidation_0-error:0.124094\tvalidation_1-error:0.131285\n",
      "[100]\tvalidation_0-error:0.123668\tvalidation_1-error:0.131064\n",
      "[101]\tvalidation_0-error:0.123526\tvalidation_1-error:0.130843\n",
      "[102]\tvalidation_0-error:0.123431\tvalidation_1-error:0.130733\n",
      "[103]\tvalidation_0-error:0.123621\tvalidation_1-error:0.130622\n",
      "[104]\tvalidation_0-error:0.123526\tvalidation_1-error:0.130622\n",
      "[105]\tvalidation_0-error:0.123478\tvalidation_1-error:0.130512\n",
      "[106]\tvalidation_0-error:0.123431\tvalidation_1-error:0.130843\n",
      "[107]\tvalidation_0-error:0.123431\tvalidation_1-error:0.130954\n",
      "[108]\tvalidation_0-error:0.123431\tvalidation_1-error:0.130843\n",
      "[109]\tvalidation_0-error:0.123289\tvalidation_1-error:0.130954\n",
      "[110]\tvalidation_0-error:0.123336\tvalidation_1-error:0.130954\n",
      "[111]\tvalidation_0-error:0.123194\tvalidation_1-error:0.130622\n",
      "[112]\tvalidation_0-error:0.123052\tvalidation_1-error:0.130291\n",
      "[113]\tvalidation_0-error:0.122768\tvalidation_1-error:0.130512\n",
      "[114]\tvalidation_0-error:0.122673\tvalidation_1-error:0.130733\n",
      "[115]\tvalidation_0-error:0.122863\tvalidation_1-error:0.130622\n",
      "[116]\tvalidation_0-error:0.122721\tvalidation_1-error:0.130733\n",
      "[117]\tvalidation_0-error:0.122863\tvalidation_1-error:0.130733\n",
      "[118]\tvalidation_0-error:0.122673\tvalidation_1-error:0.130401\n",
      "[119]\tvalidation_0-error:0.122342\tvalidation_1-error:0.130401\n",
      "[120]\tvalidation_0-error:0.121963\tvalidation_1-error:0.130622\n",
      "[121]\tvalidation_0-error:0.121773\tvalidation_1-error:0.130954\n",
      "[122]\tvalidation_0-error:0.121773\tvalidation_1-error:0.130843\n",
      "[123]\tvalidation_0-error:0.121679\tvalidation_1-error:0.131064\n",
      "[124]\tvalidation_0-error:0.121631\tvalidation_1-error:0.131396\n",
      "[125]\tvalidation_0-error:0.121631\tvalidation_1-error:0.131064\n",
      "[126]\tvalidation_0-error:0.121679\tvalidation_1-error:0.130954\n",
      "[127]\tvalidation_0-error:0.121726\tvalidation_1-error:0.131064\n",
      "[128]\tvalidation_0-error:0.121726\tvalidation_1-error:0.131064\n",
      "[129]\tvalidation_0-error:0.121584\tvalidation_1-error:0.131175\n",
      "[130]\tvalidation_0-error:0.121536\tvalidation_1-error:0.131285\n",
      "[131]\tvalidation_0-error:0.121536\tvalidation_1-error:0.131064\n"
     ]
    },
    {
     "name": "stdout",
     "output_type": "stream",
     "text": [
      "[132]\tvalidation_0-error:0.121584\tvalidation_1-error:0.131175\n",
      "[133]\tvalidation_0-error:0.121726\tvalidation_1-error:0.131175\n",
      "[134]\tvalidation_0-error:0.121726\tvalidation_1-error:0.131285\n",
      "[135]\tvalidation_0-error:0.121584\tvalidation_1-error:0.130843\n",
      "[136]\tvalidation_0-error:0.121631\tvalidation_1-error:0.130843\n",
      "[137]\tvalidation_0-error:0.121584\tvalidation_1-error:0.130843\n",
      "[138]\tvalidation_0-error:0.1213\tvalidation_1-error:0.130512\n",
      "[139]\tvalidation_0-error:0.1213\tvalidation_1-error:0.130512\n",
      "[140]\tvalidation_0-error:0.1213\tvalidation_1-error:0.13007\n",
      "[141]\tvalidation_0-error:0.121347\tvalidation_1-error:0.129959\n",
      "[142]\tvalidation_0-error:0.121394\tvalidation_1-error:0.129849\n",
      "[143]\tvalidation_0-error:0.121063\tvalidation_1-error:0.130401\n",
      "[144]\tvalidation_0-error:0.12111\tvalidation_1-error:0.130622\n",
      "[145]\tvalidation_0-error:0.120779\tvalidation_1-error:0.130401\n",
      "[146]\tvalidation_0-error:0.120589\tvalidation_1-error:0.130622\n",
      "[147]\tvalidation_0-error:0.120447\tvalidation_1-error:0.130954\n",
      "[148]\tvalidation_0-error:0.1204\tvalidation_1-error:0.130954\n",
      "[149]\tvalidation_0-error:0.120637\tvalidation_1-error:0.131064\n",
      "[150]\tvalidation_0-error:0.120542\tvalidation_1-error:0.131175\n",
      "[151]\tvalidation_0-error:0.120542\tvalidation_1-error:0.130954\n",
      "[152]\tvalidation_0-error:0.120494\tvalidation_1-error:0.130954\n",
      "[153]\tvalidation_0-error:0.120542\tvalidation_1-error:0.130954\n",
      "[154]\tvalidation_0-error:0.12021\tvalidation_1-error:0.130954\n",
      "[155]\tvalidation_0-error:0.120021\tvalidation_1-error:0.130733\n",
      "[156]\tvalidation_0-error:0.119784\tvalidation_1-error:0.131064\n",
      "[157]\tvalidation_0-error:0.120163\tvalidation_1-error:0.130843\n",
      "[158]\tvalidation_0-error:0.120068\tvalidation_1-error:0.130733\n",
      "[159]\tvalidation_0-error:0.119737\tvalidation_1-error:0.130622\n",
      "[160]\tvalidation_0-error:0.119784\tvalidation_1-error:0.130622\n",
      "[161]\tvalidation_0-error:0.119642\tvalidation_1-error:0.130622\n",
      "[162]\tvalidation_0-error:0.119595\tvalidation_1-error:0.130843\n",
      "[163]\tvalidation_0-error:0.119642\tvalidation_1-error:0.130843\n",
      "[164]\tvalidation_0-error:0.1195\tvalidation_1-error:0.130622\n",
      "[165]\tvalidation_0-error:0.119452\tvalidation_1-error:0.130622\n",
      "[166]\tvalidation_0-error:0.119358\tvalidation_1-error:0.130733\n",
      "[167]\tvalidation_0-error:0.119405\tvalidation_1-error:0.130954\n",
      "[168]\tvalidation_0-error:0.119168\tvalidation_1-error:0.130954\n",
      "[169]\tvalidation_0-error:0.119216\tvalidation_1-error:0.130843\n",
      "[170]\tvalidation_0-error:0.118979\tvalidation_1-error:0.130954\n",
      "[171]\tvalidation_0-error:0.119026\tvalidation_1-error:0.130954\n",
      "[172]\tvalidation_0-error:0.118979\tvalidation_1-error:0.131064\n",
      "Stopping. Best iteration:\n",
      "[142]\tvalidation_0-error:0.121394\tvalidation_1-error:0.129849\n",
      "\n"
     ]
    },
    {
     "data": {
      "text/plain": [
       "XGBClassifier(base_score=0.5, booster='gbtree', colsample_bylevel=0.9,\n",
       "       colsample_bytree=0.9, gamma=0, learning_rate=0.1, max_delta_step=0,\n",
       "       max_depth=5, min_child_weight=1, missing=None, n_estimators=300,\n",
       "       n_jobs=1, nthread=None, objective='binary:logistic', random_state=0,\n",
       "       reg_alpha=0, reg_lambda=1.5, scale_pos_weight=1, seed=10,\n",
       "       silent=True, subsample=0.9)"
      ]
     },
     "execution_count": 1033,
     "metadata": {},
     "output_type": "execute_result"
    }
   ],
   "source": [
    "xgbCV.fit(X_train, y_train, eval_metric=['error'], eval_set=[(X_train, y_train),(X_test, y_test)],early_stopping_rounds=30)"
   ]
  },
  {
   "cell_type": "code",
   "execution_count": 1034,
   "metadata": {},
   "outputs": [
    {
     "name": "stdout",
     "output_type": "stream",
     "text": [
      "XGBClassifier(base_score=0.5, booster='gbtree', colsample_bylevel=0.9,\n",
      "       colsample_bytree=0.9, gamma=0, learning_rate=0.1, max_delta_step=0,\n",
      "       max_depth=5, min_child_weight=1, missing=None, n_estimators=300,\n",
      "       n_jobs=1, nthread=None, objective='binary:logistic', random_state=0,\n",
      "       reg_alpha=0, reg_lambda=1.5, scale_pos_weight=1, seed=10,\n",
      "       silent=True, subsample=0.9)\n",
      "confusion matrix of training data\n",
      "[[15070   830]\n",
      " [ 1733  3480]]\n",
      "confusion matrix of test data\n",
      "[[6361  393]\n",
      " [ 782 1513]]\n",
      "classification report of test data\n",
      "              precision    recall  f1-score   support\n",
      "\n",
      "           0       0.89      0.94      0.92      6754\n",
      "           1       0.79      0.66      0.72      2295\n",
      "\n",
      "   micro avg       0.87      0.87      0.87      9049\n",
      "   macro avg       0.84      0.80      0.82      9049\n",
      "weighted avg       0.87      0.87      0.87      9049\n",
      "\n",
      "Accuracy on test data: 87.015140%\n",
      "Accuracy on training data: 87.860560%\n",
      "Area under the ROC curve : 0.800536\n"
     ]
    }
   ],
   "source": [
    "show_classifier_metrics(xgbCV,y_train)"
   ]
  },
  {
   "cell_type": "code",
   "execution_count": 167,
   "metadata": {},
   "outputs": [],
   "source": [
    "#X_test.iloc[np.where(y_test != xgbCV.predict(X_test))]"
   ]
  },
  {
   "cell_type": "markdown",
   "metadata": {},
   "source": [
    "## Logistic regression"
   ]
  },
  {
   "cell_type": "code",
   "execution_count": 1006,
   "metadata": {},
   "outputs": [],
   "source": [
    "from sklearn.linear_model import LogisticRegression"
   ]
  },
  {
   "cell_type": "code",
   "execution_count": 1007,
   "metadata": {},
   "outputs": [
    {
     "name": "stderr",
     "output_type": "stream",
     "text": [
      "/Users/debashis/anaconda3/lib/python3.6/site-packages/sklearn/linear_model/logistic.py:433: FutureWarning: Default solver will be changed to 'lbfgs' in 0.22. Specify a solver to silence this warning.\n",
      "  FutureWarning)\n"
     ]
    },
    {
     "data": {
      "text/plain": [
       "LogisticRegression(C=0.8, class_weight=None, dual=False, fit_intercept=True,\n",
       "          intercept_scaling=1, max_iter=200, multi_class='warn',\n",
       "          n_jobs=None, penalty='l2', random_state=42, solver='warn',\n",
       "          tol=0.0001, verbose=0, warm_start=False)"
      ]
     },
     "execution_count": 1007,
     "metadata": {},
     "output_type": "execute_result"
    }
   ],
   "source": [
    "logreg = LogisticRegression(C=0.8,random_state=42,max_iter=200)\n",
    "logreg.fit(X_train, y_train)"
   ]
  },
  {
   "cell_type": "code",
   "execution_count": 1008,
   "metadata": {},
   "outputs": [
    {
     "name": "stdout",
     "output_type": "stream",
     "text": [
      "LogisticRegression(C=0.8, class_weight=None, dual=False, fit_intercept=True,\n",
      "          intercept_scaling=1, max_iter=200, multi_class='warn',\n",
      "          n_jobs=None, penalty='l2', random_state=42, solver='warn',\n",
      "          tol=0.0001, verbose=0, warm_start=False)\n",
      "confusion matrix of training data\n",
      "[[14776  1124]\n",
      " [ 2050  3163]]\n",
      "confusion matrix of test data\n",
      "[[6226  528]\n",
      " [ 905 1390]]\n",
      "classification report of test data\n",
      "              precision    recall  f1-score   support\n",
      "\n",
      "           0       0.87      0.92      0.90      6754\n",
      "           1       0.72      0.61      0.66      2295\n",
      "\n",
      "   micro avg       0.84      0.84      0.84      9049\n",
      "   macro avg       0.80      0.76      0.78      9049\n",
      "weighted avg       0.84      0.84      0.84      9049\n",
      "\n",
      "Accuracy on test data: 84.163996%\n",
      "Accuracy on training data: 84.966608%\n",
      "Area under the ROC curve : 0.763744\n"
     ]
    }
   ],
   "source": [
    "show_classifier_metrics(logreg)"
   ]
  },
  {
   "cell_type": "markdown",
   "metadata": {},
   "source": [
    "## Naive Bayes"
   ]
  },
  {
   "cell_type": "code",
   "execution_count": 977,
   "metadata": {},
   "outputs": [],
   "source": [
    "from sklearn.naive_bayes import GaussianNB"
   ]
  },
  {
   "cell_type": "code",
   "execution_count": 1009,
   "metadata": {},
   "outputs": [],
   "source": [
    "NBmodel = GaussianNB()"
   ]
  },
  {
   "cell_type": "code",
   "execution_count": 1010,
   "metadata": {},
   "outputs": [
    {
     "data": {
      "text/plain": [
       "GaussianNB(priors=None, var_smoothing=1e-09)"
      ]
     },
     "execution_count": 1010,
     "metadata": {},
     "output_type": "execute_result"
    }
   ],
   "source": [
    "NBmodel.fit(X_train, y_train)"
   ]
  },
  {
   "cell_type": "code",
   "execution_count": 1011,
   "metadata": {},
   "outputs": [
    {
     "data": {
      "text/plain": [
       "array([1, 0, 0, ..., 0, 0, 0])"
      ]
     },
     "execution_count": 1011,
     "metadata": {},
     "output_type": "execute_result"
    }
   ],
   "source": [
    "NBmodel.predict(X_test)"
   ]
  },
  {
   "cell_type": "code",
   "execution_count": 1012,
   "metadata": {},
   "outputs": [
    {
     "name": "stdout",
     "output_type": "stream",
     "text": [
      "GaussianNB(priors=None, var_smoothing=1e-09)\n",
      "confusion matrix of training data\n",
      "[[13445  2455]\n",
      " [ 1309  3904]]\n",
      "confusion matrix of test data\n",
      "[[5694 1060]\n",
      " [ 588 1707]]\n",
      "classification report of test data\n",
      "              precision    recall  f1-score   support\n",
      "\n",
      "           0       0.91      0.84      0.87      6754\n",
      "           1       0.62      0.74      0.67      2295\n",
      "\n",
      "   micro avg       0.82      0.82      0.82      9049\n",
      "   macro avg       0.76      0.79      0.77      9049\n",
      "weighted avg       0.83      0.82      0.82      9049\n",
      "\n",
      "Accuracy on test data: 81.788043%\n",
      "Accuracy on training data: 82.172121%\n",
      "Area under the ROC curve : 0.793423\n"
     ]
    }
   ],
   "source": [
    "show_classifier_metrics(NBmodel,y_train)"
   ]
  },
  {
   "cell_type": "markdown",
   "metadata": {},
   "source": [
    "### Stacked model"
   ]
  },
  {
   "cell_type": "code",
   "execution_count": 1013,
   "metadata": {},
   "outputs": [],
   "source": [
    "def create_stacked_dataset(clfs,modelnames, X_train=X_train,X_test=X_test):\n",
    "    X_train_stack, X_test_stack = X_train, X_test\n",
    "    for clf,modelname in zip(clfs,modelnames):\n",
    "        temptrain = pd.DataFrame(clf.predict(X_train),index = X_train.index,columns=[modelname+'_prediction'])\n",
    "        temptest  = pd.DataFrame(clf.predict(X_test),index = X_test.index,columns=[modelname+'_prediction'])\n",
    "        X_train_stack = pd.concat([X_train_stack, temptrain], axis=1)\n",
    "        X_test_stack = pd.concat([X_test_stack, temptest], axis=1)\n",
    "    return (X_train_stack,X_test_stack)"
   ]
  },
  {
   "cell_type": "code",
   "execution_count": 1014,
   "metadata": {},
   "outputs": [],
   "source": [
    "X_train_stack,X_test_stack = create_stacked_dataset([NBmodel,rfmodel,logreg,xgb],modelnames=['NBmodel','rfmodel','logreg','xgb'])"
   ]
  },
  {
   "cell_type": "code",
   "execution_count": 1015,
   "metadata": {},
   "outputs": [
    {
     "data": {
      "text/html": [
       "<div>\n",
       "<style scoped>\n",
       "    .dataframe tbody tr th:only-of-type {\n",
       "        vertical-align: middle;\n",
       "    }\n",
       "\n",
       "    .dataframe tbody tr th {\n",
       "        vertical-align: top;\n",
       "    }\n",
       "\n",
       "    .dataframe thead th {\n",
       "        text-align: right;\n",
       "    }\n",
       "</style>\n",
       "<table border=\"1\" class=\"dataframe\">\n",
       "  <thead>\n",
       "    <tr style=\"text-align: right;\">\n",
       "      <th></th>\n",
       "      <th>age</th>\n",
       "      <th>education.num</th>\n",
       "      <th>capital.gain</th>\n",
       "      <th>capital.loss</th>\n",
       "      <th>hours.per.week</th>\n",
       "      <th>workclass_Local-gov</th>\n",
       "      <th>workclass_Private</th>\n",
       "      <th>workclass_Self-emp-inc</th>\n",
       "      <th>workclass_Self-emp-not-inc</th>\n",
       "      <th>workclass_State-gov</th>\n",
       "      <th>...</th>\n",
       "      <th>is_Priv-house-serv</th>\n",
       "      <th>is_Prof-specialty</th>\n",
       "      <th>is_Protective-serv</th>\n",
       "      <th>is_Sales</th>\n",
       "      <th>is_Tech-support</th>\n",
       "      <th>is_Transport-moving</th>\n",
       "      <th>NBmodel_prediction</th>\n",
       "      <th>rfmodel_prediction</th>\n",
       "      <th>logreg_prediction</th>\n",
       "      <th>xgb_prediction</th>\n",
       "    </tr>\n",
       "  </thead>\n",
       "  <tbody>\n",
       "    <tr>\n",
       "      <th>29235</th>\n",
       "      <td>59</td>\n",
       "      <td>9</td>\n",
       "      <td>0</td>\n",
       "      <td>0</td>\n",
       "      <td>40</td>\n",
       "      <td>0</td>\n",
       "      <td>1</td>\n",
       "      <td>0</td>\n",
       "      <td>0</td>\n",
       "      <td>0</td>\n",
       "      <td>...</td>\n",
       "      <td>0</td>\n",
       "      <td>0</td>\n",
       "      <td>0</td>\n",
       "      <td>0</td>\n",
       "      <td>0</td>\n",
       "      <td>0</td>\n",
       "      <td>0</td>\n",
       "      <td>0</td>\n",
       "      <td>0</td>\n",
       "      <td>0</td>\n",
       "    </tr>\n",
       "    <tr>\n",
       "      <th>14256</th>\n",
       "      <td>27</td>\n",
       "      <td>9</td>\n",
       "      <td>0</td>\n",
       "      <td>0</td>\n",
       "      <td>45</td>\n",
       "      <td>0</td>\n",
       "      <td>0</td>\n",
       "      <td>1</td>\n",
       "      <td>0</td>\n",
       "      <td>0</td>\n",
       "      <td>...</td>\n",
       "      <td>0</td>\n",
       "      <td>0</td>\n",
       "      <td>0</td>\n",
       "      <td>1</td>\n",
       "      <td>0</td>\n",
       "      <td>0</td>\n",
       "      <td>0</td>\n",
       "      <td>0</td>\n",
       "      <td>0</td>\n",
       "      <td>0</td>\n",
       "    </tr>\n",
       "  </tbody>\n",
       "</table>\n",
       "<p>2 rows × 44 columns</p>\n",
       "</div>"
      ],
      "text/plain": [
       "       age  education.num  capital.gain  capital.loss  hours.per.week  \\\n",
       "29235   59              9             0             0              40   \n",
       "14256   27              9             0             0              45   \n",
       "\n",
       "       workclass_Local-gov  workclass_Private  workclass_Self-emp-inc  \\\n",
       "29235                    0                  1                       0   \n",
       "14256                    0                  0                       1   \n",
       "\n",
       "       workclass_Self-emp-not-inc  workclass_State-gov  ...  \\\n",
       "29235                           0                    0  ...   \n",
       "14256                           0                    0  ...   \n",
       "\n",
       "       is_Priv-house-serv  is_Prof-specialty  is_Protective-serv  is_Sales  \\\n",
       "29235                   0                  0                   0         0   \n",
       "14256                   0                  0                   0         1   \n",
       "\n",
       "       is_Tech-support  is_Transport-moving  NBmodel_prediction  \\\n",
       "29235                0                    0                   0   \n",
       "14256                0                    0                   0   \n",
       "\n",
       "       rfmodel_prediction  logreg_prediction  xgb_prediction  \n",
       "29235                   0                  0               0  \n",
       "14256                   0                  0               0  \n",
       "\n",
       "[2 rows x 44 columns]"
      ]
     },
     "execution_count": 1015,
     "metadata": {},
     "output_type": "execute_result"
    }
   ],
   "source": [
    "X_train_stack.head(2)"
   ]
  },
  {
   "cell_type": "code",
   "execution_count": 1016,
   "metadata": {},
   "outputs": [
    {
     "name": "stdout",
     "output_type": "stream",
     "text": [
      "[0]\tvalidation_0-error:0.121158\tvalidation_1-error:0.129517\n",
      "Multiple eval metrics have been passed: 'validation_1-error' will be used for early stopping.\n",
      "\n",
      "Will train until validation_1-error hasn't improved in 30 rounds.\n",
      "[1]\tvalidation_0-error:0.123431\tvalidation_1-error:0.133827\n",
      "[2]\tvalidation_0-error:0.122768\tvalidation_1-error:0.130954\n",
      "[3]\tvalidation_0-error:0.122768\tvalidation_1-error:0.132169\n",
      "[4]\tvalidation_0-error:0.122247\tvalidation_1-error:0.130401\n",
      "[5]\tvalidation_0-error:0.121726\tvalidation_1-error:0.130512\n",
      "[6]\tvalidation_0-error:0.121205\tvalidation_1-error:0.129738\n",
      "[7]\tvalidation_0-error:0.1213\tvalidation_1-error:0.129959\n",
      "[8]\tvalidation_0-error:0.121252\tvalidation_1-error:0.129959\n",
      "[9]\tvalidation_0-error:0.1213\tvalidation_1-error:0.129849\n",
      "[10]\tvalidation_0-error:0.121347\tvalidation_1-error:0.129849\n",
      "[11]\tvalidation_0-error:0.121347\tvalidation_1-error:0.129849\n",
      "[12]\tvalidation_0-error:0.121394\tvalidation_1-error:0.129849\n",
      "[13]\tvalidation_0-error:0.121394\tvalidation_1-error:0.129959\n",
      "[14]\tvalidation_0-error:0.121205\tvalidation_1-error:0.129849\n",
      "[15]\tvalidation_0-error:0.121442\tvalidation_1-error:0.129959\n",
      "[16]\tvalidation_0-error:0.121347\tvalidation_1-error:0.129849\n",
      "[17]\tvalidation_0-error:0.1213\tvalidation_1-error:0.129849\n",
      "[18]\tvalidation_0-error:0.121394\tvalidation_1-error:0.129849\n",
      "[19]\tvalidation_0-error:0.121394\tvalidation_1-error:0.129849\n",
      "[20]\tvalidation_0-error:0.121394\tvalidation_1-error:0.129849\n",
      "[21]\tvalidation_0-error:0.121394\tvalidation_1-error:0.129849\n",
      "[22]\tvalidation_0-error:0.121394\tvalidation_1-error:0.129849\n",
      "[23]\tvalidation_0-error:0.121347\tvalidation_1-error:0.129849\n",
      "[24]\tvalidation_0-error:0.121347\tvalidation_1-error:0.129849\n",
      "[25]\tvalidation_0-error:0.121347\tvalidation_1-error:0.129849\n",
      "[26]\tvalidation_0-error:0.1213\tvalidation_1-error:0.129849\n",
      "[27]\tvalidation_0-error:0.1213\tvalidation_1-error:0.129849\n",
      "[28]\tvalidation_0-error:0.1213\tvalidation_1-error:0.129849\n",
      "[29]\tvalidation_0-error:0.121347\tvalidation_1-error:0.129738\n",
      "[30]\tvalidation_0-error:0.121347\tvalidation_1-error:0.129738\n",
      "Stopping. Best iteration:\n",
      "[0]\tvalidation_0-error:0.121158\tvalidation_1-error:0.129517\n",
      "\n"
     ]
    },
    {
     "data": {
      "text/plain": [
       "XGBClassifier(base_score=0.5, booster='gbtree', colsample_bylevel=0.9,\n",
       "       colsample_bytree=0.9, gamma=0, learning_rate=0.1, max_delta_step=0,\n",
       "       max_depth=5, min_child_weight=1, missing=None, n_estimators=400,\n",
       "       n_jobs=1, nthread=None, objective='binary:logistic', random_state=0,\n",
       "       reg_alpha=0, reg_lambda=1.5, scale_pos_weight=1, seed=10,\n",
       "       silent=True, subsample=0.9, verbosity=1)"
      ]
     },
     "execution_count": 1016,
     "metadata": {},
     "output_type": "execute_result"
    }
   ],
   "source": [
    "param = {}\n",
    "param['learning_rate'] = 0.1\n",
    "param['verbosity'] = 1\n",
    "param['colsample_bylevel'] = 0.9\n",
    "param['colsample_bytree'] = 0.9\n",
    "param['subsample'] = 0.9\n",
    "param['reg_lambda']= 1.5\n",
    "param['max_depth'] = 5#10\n",
    "param['n_estimators'] = 400\n",
    "param['seed']=10\n",
    "xgbstack= XGBClassifier(**param)\n",
    "xgbstack.fit(X_train_stack, y_train, eval_metric=['error'], eval_set=[(X_train_stack, y_train),(X_test_stack, y_test)],early_stopping_rounds=30)\n"
   ]
  },
  {
   "cell_type": "code",
   "execution_count": 1017,
   "metadata": {},
   "outputs": [
    {
     "name": "stdout",
     "output_type": "stream",
     "text": [
      "              precision    recall  f1-score   support\n",
      "\n",
      "           0       0.89      0.94      0.92      6754\n",
      "           1       0.80      0.66      0.72      2295\n",
      "\n",
      "   micro avg       0.87      0.87      0.87      9049\n",
      "   macro avg       0.84      0.80      0.82      9049\n",
      "weighted avg       0.87      0.87      0.87      9049\n",
      "\n",
      "Accuracy on test data: 87.048293%\n",
      "Accuracy on training data: 87.884242%\n"
     ]
    }
   ],
   "source": [
    "print(metrics.classification_report(y_test, xgbstack.predict(X_test_stack)))\n",
    "print('Accuracy on test data: %f%%' % (metrics.accuracy_score(y_test, xgbstack.predict(X_test_stack))*100))\n",
    "print('Accuracy on training data: %f%%' % (metrics.accuracy_score(y_train, xgbstack.predict(X_train_stack))*100))"
   ]
  },
  {
   "cell_type": "markdown",
   "metadata": {},
   "source": [
    "### Stacked model Grid Search"
   ]
  },
  {
   "cell_type": "code",
   "execution_count": 1018,
   "metadata": {},
   "outputs": [
    {
     "name": "stdout",
     "output_type": "stream",
     "text": [
      "Doing grid search\n",
      "Fitting 4 folds for each of 4 candidates, totalling 16 fits\n"
     ]
    },
    {
     "name": "stderr",
     "output_type": "stream",
     "text": [
      "[Parallel(n_jobs=-1)]: Using backend LokyBackend with 4 concurrent workers.\n",
      "[Parallel(n_jobs=-1)]: Done  16 out of  16 | elapsed:  1.6min finished\n"
     ]
    },
    {
     "name": "stdout",
     "output_type": "stream",
     "text": [
      "mean test score (weighted by split size) of CV rounds:  [0.87761095 0.87339554 0.86558045 0.86202813]\n",
      "Best parameter set {'colsample_bylevel': 0.9, 'colsample_bytree': 0.9, 'learning_rate': 0.1, 'max_depth': 3, 'n_estimators': 300, 'reg_lambda': 1.5, 'seed': 10, 'subsample': 0.9} Corresponding mean CV score 0.877610950599157\n"
     ]
    }
   ],
   "source": [
    "xgbstackCV = XGBClassifier(seed=10)\n",
    "param_grid = {}\n",
    "param_grid['learning_rate'] = [0.1]\n",
    "param_grid['colsample_bylevel'] = [0.9]\n",
    "param_grid['colsample_bytree'] = [0.9]\n",
    "param_grid['subsample'] = [0.9]\n",
    "param_grid['n_estimators'] = [300]\n",
    "param_grid['reg_lambda']= [1.5]\n",
    "param_grid['seed'] =[10]\n",
    "param_grid['max_depth'] = [3,5,8,10]\n",
    "xgbstackCV_grid = grid_search(xgbstackCV, param_grid,X_train_stack,y_train)"
   ]
  },
  {
   "cell_type": "code",
   "execution_count": 1019,
   "metadata": {},
   "outputs": [
    {
     "name": "stdout",
     "output_type": "stream",
     "text": [
      "[0]\tvalidation_0-error:0.121394\tvalidation_1-error:0.129849\n",
      "Multiple eval metrics have been passed: 'validation_1-error' will be used for early stopping.\n",
      "\n",
      "Will train until validation_1-error hasn't improved in 30 rounds.\n",
      "[1]\tvalidation_0-error:0.121394\tvalidation_1-error:0.129849\n",
      "[2]\tvalidation_0-error:0.121394\tvalidation_1-error:0.129849\n",
      "[3]\tvalidation_0-error:0.121394\tvalidation_1-error:0.129849\n",
      "[4]\tvalidation_0-error:0.121394\tvalidation_1-error:0.129849\n",
      "[5]\tvalidation_0-error:0.121394\tvalidation_1-error:0.129849\n",
      "[6]\tvalidation_0-error:0.121394\tvalidation_1-error:0.129849\n",
      "[7]\tvalidation_0-error:0.121394\tvalidation_1-error:0.129849\n",
      "[8]\tvalidation_0-error:0.121394\tvalidation_1-error:0.129849\n",
      "[9]\tvalidation_0-error:0.121394\tvalidation_1-error:0.129849\n",
      "[10]\tvalidation_0-error:0.121394\tvalidation_1-error:0.129849\n",
      "[11]\tvalidation_0-error:0.121394\tvalidation_1-error:0.129849\n",
      "[12]\tvalidation_0-error:0.121394\tvalidation_1-error:0.129849\n",
      "[13]\tvalidation_0-error:0.121394\tvalidation_1-error:0.129849\n",
      "[14]\tvalidation_0-error:0.121394\tvalidation_1-error:0.129849\n",
      "[15]\tvalidation_0-error:0.121394\tvalidation_1-error:0.129849\n",
      "[16]\tvalidation_0-error:0.121394\tvalidation_1-error:0.129849\n",
      "[17]\tvalidation_0-error:0.121394\tvalidation_1-error:0.129849\n",
      "[18]\tvalidation_0-error:0.121394\tvalidation_1-error:0.129849\n",
      "[19]\tvalidation_0-error:0.121394\tvalidation_1-error:0.129849\n",
      "[20]\tvalidation_0-error:0.121394\tvalidation_1-error:0.129849\n",
      "[21]\tvalidation_0-error:0.121394\tvalidation_1-error:0.129849\n",
      "[22]\tvalidation_0-error:0.121394\tvalidation_1-error:0.129849\n",
      "[23]\tvalidation_0-error:0.121394\tvalidation_1-error:0.129849\n",
      "[24]\tvalidation_0-error:0.121394\tvalidation_1-error:0.129849\n",
      "[25]\tvalidation_0-error:0.121394\tvalidation_1-error:0.129849\n",
      "[26]\tvalidation_0-error:0.121394\tvalidation_1-error:0.129849\n",
      "[27]\tvalidation_0-error:0.121394\tvalidation_1-error:0.129849\n",
      "[28]\tvalidation_0-error:0.121394\tvalidation_1-error:0.129849\n",
      "[29]\tvalidation_0-error:0.121394\tvalidation_1-error:0.129849\n",
      "[30]\tvalidation_0-error:0.121394\tvalidation_1-error:0.129849\n",
      "Stopping. Best iteration:\n",
      "[0]\tvalidation_0-error:0.121394\tvalidation_1-error:0.129849\n",
      "\n"
     ]
    },
    {
     "data": {
      "text/plain": [
       "XGBClassifier(base_score=0.5, booster='gbtree', colsample_bylevel=0.9,\n",
       "       colsample_bytree=0.9, gamma=0, learning_rate=0.1, max_delta_step=0,\n",
       "       max_depth=3, min_child_weight=1, missing=None, n_estimators=300,\n",
       "       n_jobs=1, nthread=None, objective='binary:logistic', random_state=0,\n",
       "       reg_alpha=0, reg_lambda=1.5, scale_pos_weight=1, seed=10,\n",
       "       silent=True, subsample=0.9)"
      ]
     },
     "execution_count": 1019,
     "metadata": {},
     "output_type": "execute_result"
    }
   ],
   "source": [
    "xgbstackCV_grid.fit(X_train_stack, y_train, eval_metric=['error'], eval_set=[(X_train_stack, y_train),(X_test_stack, y_test)],early_stopping_rounds=30)"
   ]
  },
  {
   "cell_type": "code",
   "execution_count": 1020,
   "metadata": {},
   "outputs": [
    {
     "name": "stdout",
     "output_type": "stream",
     "text": [
      "              precision    recall  f1-score   support\n",
      "\n",
      "           0       0.89      0.94      0.92      6754\n",
      "           1       0.80      0.66      0.72      2295\n",
      "\n",
      "   micro avg       0.87      0.87      0.87      9049\n",
      "   macro avg       0.84      0.80      0.82      9049\n",
      "weighted avg       0.87      0.87      0.87      9049\n",
      "\n",
      "Accuracy on test data: 87.048293%\n",
      "Accuracy on training data: 87.884242%\n"
     ]
    }
   ],
   "source": [
    "print(metrics.classification_report(y_test, xgbstack.predict(X_test_stack)))\n",
    "print('Accuracy on test data: %f%%' % (metrics.accuracy_score(y_test, xgbstack.predict(X_test_stack))*100))\n",
    "print('Accuracy on training data: %f%%' % (metrics.accuracy_score(y_train, xgbstack.predict(X_train_stack))*100))"
   ]
  },
  {
   "cell_type": "code",
   "execution_count": 1021,
   "metadata": {},
   "outputs": [],
   "source": [
    "from catboost import CatBoostClassifier"
   ]
  },
  {
   "cell_type": "code",
   "execution_count": 1022,
   "metadata": {},
   "outputs": [],
   "source": [
    "catb = CatBoostClassifier(learning_rate=0.1,iterations=400,verbose=1,random_seed=10,eval_metric='Accuracy',rsm=0.9)"
   ]
  },
  {
   "cell_type": "code",
   "execution_count": 1023,
   "metadata": {},
   "outputs": [
    {
     "name": "stdout",
     "output_type": "stream",
     "text": [
      "0:\tlearn: 0.8211055\ttest: 0.8211055\ttest1: 0.8155597\tbest: 0.8155597 (0)\ttotal: 45.8ms\tremaining: 18.3s\n",
      "1:\tlearn: 0.8436508\ttest: 0.8436508\ttest1: 0.8384352\tbest: 0.8384352 (1)\ttotal: 90.1ms\tremaining: 17.9s\n",
      "2:\tlearn: 0.8455928\ttest: 0.8455928\ttest1: 0.8428556\tbest: 0.8428556 (2)\ttotal: 134ms\tremaining: 17.7s\n",
      "3:\tlearn: 0.8468716\ttest: 0.8468716\ttest1: 0.8459498\tbest: 0.8459498 (3)\ttotal: 176ms\tremaining: 17.4s\n",
      "4:\tlearn: 0.8467295\ttest: 0.8467295\ttest1: 0.8439607\tbest: 0.8459498 (3)\ttotal: 218ms\tremaining: 17.2s\n",
      "5:\tlearn: 0.8467295\ttest: 0.8467295\ttest1: 0.8449552\tbest: 0.8459498 (3)\ttotal: 260ms\tremaining: 17.1s\n",
      "6:\tlearn: 0.8485293\ttest: 0.8485293\ttest1: 0.8460603\tbest: 0.8460603 (6)\ttotal: 308ms\tremaining: 17.3s\n",
      "7:\tlearn: 0.8500924\ttest: 0.8500924\ttest1: 0.8466129\tbest: 0.8466129 (7)\ttotal: 350ms\tremaining: 17.2s\n",
      "8:\tlearn: 0.8515606\ttest: 0.8515606\ttest1: 0.8471654\tbest: 0.8471654 (8)\ttotal: 396ms\tremaining: 17.2s\n",
      "9:\tlearn: 0.8524606\ttest: 0.8524606\ttest1: 0.8474970\tbest: 0.8474970 (9)\ttotal: 437ms\tremaining: 17s\n",
      "10:\tlearn: 0.8522237\ttest: 0.8522237\ttest1: 0.8471654\tbest: 0.8474970 (9)\ttotal: 501ms\tremaining: 17.7s\n",
      "11:\tlearn: 0.8527448\ttest: 0.8527448\ttest1: 0.8474970\tbest: 0.8474970 (9)\ttotal: 542ms\tremaining: 17.5s\n",
      "12:\tlearn: 0.8535026\ttest: 0.8535026\ttest1: 0.8478285\tbest: 0.8478285 (12)\ttotal: 599ms\tremaining: 17.8s\n",
      "13:\tlearn: 0.8533605\ttest: 0.8533605\ttest1: 0.8488231\tbest: 0.8488231 (13)\ttotal: 645ms\tremaining: 17.8s\n",
      "14:\tlearn: 0.8536447\ttest: 0.8536447\ttest1: 0.8473865\tbest: 0.8488231 (13)\ttotal: 690ms\tremaining: 17.7s\n",
      "15:\tlearn: 0.8546867\ttest: 0.8546867\ttest1: 0.8492651\tbest: 0.8492651 (15)\ttotal: 749ms\tremaining: 18s\n",
      "16:\tlearn: 0.8542130\ttest: 0.8542130\ttest1: 0.8490441\tbest: 0.8492651 (15)\ttotal: 797ms\tremaining: 18s\n",
      "17:\tlearn: 0.8546867\ttest: 0.8546867\ttest1: 0.8493756\tbest: 0.8493756 (17)\ttotal: 883ms\tremaining: 18.7s\n",
      "18:\tlearn: 0.8542604\ttest: 0.8542604\ttest1: 0.8498177\tbest: 0.8498177 (18)\ttotal: 933ms\tremaining: 18.7s\n",
      "19:\tlearn: 0.8543551\ttest: 0.8543551\ttest1: 0.8495966\tbest: 0.8498177 (18)\ttotal: 1s\tremaining: 19.1s\n",
      "20:\tlearn: 0.8558234\ttest: 0.8558234\ttest1: 0.8509228\tbest: 0.8509228 (20)\ttotal: 1.05s\tremaining: 19s\n",
      "21:\tlearn: 0.8561076\ttest: 0.8561076\ttest1: 0.8519173\tbest: 0.8519173 (21)\ttotal: 1.1s\tremaining: 19s\n",
      "22:\tlearn: 0.8566760\ttest: 0.8566760\ttest1: 0.8515858\tbest: 0.8519173 (21)\ttotal: 1.15s\tremaining: 18.9s\n",
      "23:\tlearn: 0.8567233\ttest: 0.8567233\ttest1: 0.8522489\tbest: 0.8522489 (23)\ttotal: 1.19s\tremaining: 18.7s\n",
      "24:\tlearn: 0.8572917\ttest: 0.8572917\ttest1: 0.8520278\tbest: 0.8522489 (23)\ttotal: 1.25s\tremaining: 18.8s\n",
      "25:\tlearn: 0.8577180\ttest: 0.8577180\ttest1: 0.8516963\tbest: 0.8522489 (23)\ttotal: 1.3s\tremaining: 18.6s\n",
      "26:\tlearn: 0.8577654\ttest: 0.8577654\ttest1: 0.8531329\tbest: 0.8531329 (26)\ttotal: 1.37s\tremaining: 18.9s\n",
      "27:\tlearn: 0.8573391\ttest: 0.8573391\ttest1: 0.8525804\tbest: 0.8531329 (26)\ttotal: 1.46s\tremaining: 19.4s\n",
      "28:\tlearn: 0.8571496\ttest: 0.8571496\ttest1: 0.8525804\tbest: 0.8531329 (26)\ttotal: 1.51s\tremaining: 19.4s\n",
      "29:\tlearn: 0.8572917\ttest: 0.8572917\ttest1: 0.8520278\tbest: 0.8531329 (26)\ttotal: 1.57s\tremaining: 19.4s\n",
      "30:\tlearn: 0.8570549\ttest: 0.8570549\ttest1: 0.8526909\tbest: 0.8531329 (26)\ttotal: 1.62s\tremaining: 19.3s\n",
      "31:\tlearn: 0.8572444\ttest: 0.8572444\ttest1: 0.8530224\tbest: 0.8531329 (26)\ttotal: 1.68s\tremaining: 19.3s\n",
      "32:\tlearn: 0.8573391\ttest: 0.8573391\ttest1: 0.8534645\tbest: 0.8534645 (32)\ttotal: 1.73s\tremaining: 19.2s\n",
      "33:\tlearn: 0.8580022\ttest: 0.8580022\ttest1: 0.8531329\tbest: 0.8534645 (32)\ttotal: 1.77s\tremaining: 19s\n",
      "34:\tlearn: 0.8578601\ttest: 0.8578601\ttest1: 0.8532435\tbest: 0.8534645 (32)\ttotal: 1.81s\tremaining: 18.8s\n",
      "35:\tlearn: 0.8580495\ttest: 0.8580495\ttest1: 0.8534645\tbest: 0.8534645 (32)\ttotal: 1.85s\tremaining: 18.7s\n",
      "36:\tlearn: 0.8580495\ttest: 0.8580495\ttest1: 0.8534645\tbest: 0.8534645 (32)\ttotal: 1.89s\tremaining: 18.6s\n",
      "37:\tlearn: 0.8579075\ttest: 0.8579075\ttest1: 0.8534645\tbest: 0.8534645 (32)\ttotal: 1.94s\tremaining: 18.5s\n",
      "38:\tlearn: 0.8580495\ttest: 0.8580495\ttest1: 0.8535750\tbest: 0.8535750 (38)\ttotal: 1.98s\tremaining: 18.3s\n",
      "39:\tlearn: 0.8586179\ttest: 0.8586179\ttest1: 0.8535750\tbest: 0.8535750 (38)\ttotal: 2.02s\tremaining: 18.1s\n",
      "40:\tlearn: 0.8586179\ttest: 0.8586179\ttest1: 0.8536855\tbest: 0.8536855 (40)\ttotal: 2.06s\tremaining: 18s\n",
      "41:\tlearn: 0.8589968\ttest: 0.8589968\ttest1: 0.8540170\tbest: 0.8540170 (41)\ttotal: 2.1s\tremaining: 17.9s\n",
      "42:\tlearn: 0.8591389\ttest: 0.8591389\ttest1: 0.8539065\tbest: 0.8540170 (41)\ttotal: 2.15s\tremaining: 17.8s\n",
      "43:\tlearn: 0.8587600\ttest: 0.8587600\ttest1: 0.8537960\tbest: 0.8540170 (41)\ttotal: 2.19s\tremaining: 17.7s\n",
      "44:\tlearn: 0.8591389\ttest: 0.8591389\ttest1: 0.8535750\tbest: 0.8540170 (41)\ttotal: 2.24s\tremaining: 17.6s\n",
      "45:\tlearn: 0.8597073\ttest: 0.8597073\ttest1: 0.8545696\tbest: 0.8545696 (45)\ttotal: 2.28s\tremaining: 17.6s\n",
      "46:\tlearn: 0.8598020\ttest: 0.8598020\ttest1: 0.8550116\tbest: 0.8550116 (46)\ttotal: 2.34s\tremaining: 17.6s\n",
      "47:\tlearn: 0.8601336\ttest: 0.8601336\ttest1: 0.8547906\tbest: 0.8550116 (46)\ttotal: 2.39s\tremaining: 17.5s\n",
      "48:\tlearn: 0.8605125\ttest: 0.8605125\ttest1: 0.8552326\tbest: 0.8552326 (48)\ttotal: 2.43s\tremaining: 17.4s\n",
      "49:\tlearn: 0.8607019\ttest: 0.8607019\ttest1: 0.8550116\tbest: 0.8552326 (48)\ttotal: 2.47s\tremaining: 17.3s\n",
      "50:\tlearn: 0.8606546\ttest: 0.8606546\ttest1: 0.8553431\tbest: 0.8553431 (50)\ttotal: 2.51s\tremaining: 17.2s\n",
      "51:\tlearn: 0.8613177\ttest: 0.8613177\ttest1: 0.8556747\tbest: 0.8556747 (51)\ttotal: 2.55s\tremaining: 17.1s\n",
      "52:\tlearn: 0.8615071\ttest: 0.8615071\ttest1: 0.8564482\tbest: 0.8564482 (52)\ttotal: 2.6s\tremaining: 17s\n",
      "53:\tlearn: 0.8616492\ttest: 0.8616492\ttest1: 0.8564482\tbest: 0.8564482 (52)\ttotal: 2.65s\tremaining: 17s\n",
      "54:\tlearn: 0.8615545\ttest: 0.8615545\ttest1: 0.8572218\tbest: 0.8572218 (54)\ttotal: 2.69s\tremaining: 16.9s\n",
      "55:\tlearn: 0.8617439\ttest: 0.8617439\ttest1: 0.8572218\tbest: 0.8572218 (54)\ttotal: 2.73s\tremaining: 16.8s\n",
      "56:\tlearn: 0.8621702\ttest: 0.8621702\ttest1: 0.8573323\tbest: 0.8573323 (56)\ttotal: 2.78s\tremaining: 16.7s\n",
      "57:\tlearn: 0.8626439\ttest: 0.8626439\ttest1: 0.8578848\tbest: 0.8578848 (57)\ttotal: 2.83s\tremaining: 16.7s\n",
      "58:\tlearn: 0.8627860\ttest: 0.8627860\ttest1: 0.8583269\tbest: 0.8583269 (58)\ttotal: 2.87s\tremaining: 16.6s\n",
      "59:\tlearn: 0.8629281\ttest: 0.8629281\ttest1: 0.8579954\tbest: 0.8583269 (58)\ttotal: 2.92s\tremaining: 16.5s\n",
      "60:\tlearn: 0.8629281\ttest: 0.8629281\ttest1: 0.8578848\tbest: 0.8583269 (58)\ttotal: 2.96s\tremaining: 16.5s\n",
      "61:\tlearn: 0.8627860\ttest: 0.8627860\ttest1: 0.8576638\tbest: 0.8583269 (58)\ttotal: 3.02s\tremaining: 16.5s\n",
      "62:\tlearn: 0.8628333\ttest: 0.8628333\ttest1: 0.8575533\tbest: 0.8583269 (58)\ttotal: 3.06s\tremaining: 16.4s\n",
      "63:\tlearn: 0.8628333\ttest: 0.8628333\ttest1: 0.8581059\tbest: 0.8583269 (58)\ttotal: 3.1s\tremaining: 16.3s\n",
      "64:\tlearn: 0.8629754\ttest: 0.8629754\ttest1: 0.8583269\tbest: 0.8583269 (58)\ttotal: 3.14s\tremaining: 16.2s\n",
      "65:\tlearn: 0.8626912\ttest: 0.8626912\ttest1: 0.8589899\tbest: 0.8589899 (65)\ttotal: 3.19s\tremaining: 16.2s\n",
      "66:\tlearn: 0.8631175\ttest: 0.8631175\ttest1: 0.8591005\tbest: 0.8591005 (66)\ttotal: 3.25s\tremaining: 16.2s\n",
      "67:\tlearn: 0.8634017\ttest: 0.8634017\ttest1: 0.8593215\tbest: 0.8593215 (67)\ttotal: 3.29s\tremaining: 16.1s\n",
      "68:\tlearn: 0.8632122\ttest: 0.8632122\ttest1: 0.8597635\tbest: 0.8597635 (68)\ttotal: 3.34s\tremaining: 16s\n",
      "69:\tlearn: 0.8630701\ttest: 0.8630701\ttest1: 0.8599845\tbest: 0.8599845 (69)\ttotal: 3.38s\tremaining: 15.9s\n",
      "70:\tlearn: 0.8630228\ttest: 0.8630228\ttest1: 0.8603161\tbest: 0.8603161 (70)\ttotal: 3.42s\tremaining: 15.9s\n",
      "71:\tlearn: 0.8634017\ttest: 0.8634017\ttest1: 0.8605371\tbest: 0.8605371 (71)\ttotal: 3.47s\tremaining: 15.8s\n",
      "72:\tlearn: 0.8634491\ttest: 0.8634491\ttest1: 0.8605371\tbest: 0.8605371 (71)\ttotal: 3.51s\tremaining: 15.7s\n",
      "73:\tlearn: 0.8635438\ttest: 0.8635438\ttest1: 0.8607581\tbest: 0.8607581 (73)\ttotal: 3.56s\tremaining: 15.7s\n",
      "74:\tlearn: 0.8636385\ttest: 0.8636385\ttest1: 0.8607581\tbest: 0.8607581 (73)\ttotal: 3.59s\tremaining: 15.6s\n",
      "75:\tlearn: 0.8637806\ttest: 0.8637806\ttest1: 0.8613106\tbest: 0.8613106 (75)\ttotal: 3.63s\tremaining: 15.5s\n",
      "76:\tlearn: 0.8638280\ttest: 0.8638280\ttest1: 0.8614212\tbest: 0.8614212 (76)\ttotal: 3.68s\tremaining: 15.4s\n",
      "77:\tlearn: 0.8640648\ttest: 0.8640648\ttest1: 0.8614212\tbest: 0.8614212 (76)\ttotal: 3.73s\tremaining: 15.4s\n",
      "78:\tlearn: 0.8641595\ttest: 0.8641595\ttest1: 0.8613106\tbest: 0.8614212 (76)\ttotal: 3.77s\tremaining: 15.3s\n",
      "79:\tlearn: 0.8642543\ttest: 0.8642543\ttest1: 0.8613106\tbest: 0.8614212 (76)\ttotal: 3.81s\tremaining: 15.2s\n",
      "80:\tlearn: 0.8643016\ttest: 0.8643016\ttest1: 0.8613106\tbest: 0.8614212 (76)\ttotal: 3.85s\tremaining: 15.2s\n"
     ]
    },
    {
     "name": "stdout",
     "output_type": "stream",
     "text": [
      "81:\tlearn: 0.8644437\ttest: 0.8644437\ttest1: 0.8615317\tbest: 0.8615317 (81)\ttotal: 3.9s\tremaining: 15.1s\n",
      "82:\tlearn: 0.8645858\ttest: 0.8645858\ttest1: 0.8616422\tbest: 0.8616422 (82)\ttotal: 3.94s\tremaining: 15s\n",
      "83:\tlearn: 0.8647753\ttest: 0.8647753\ttest1: 0.8618632\tbest: 0.8618632 (83)\ttotal: 3.98s\tremaining: 15s\n",
      "84:\tlearn: 0.8648226\ttest: 0.8648226\ttest1: 0.8623052\tbest: 0.8623052 (84)\ttotal: 4.03s\tremaining: 14.9s\n",
      "85:\tlearn: 0.8649173\ttest: 0.8649173\ttest1: 0.8625262\tbest: 0.8625262 (85)\ttotal: 4.06s\tremaining: 14.8s\n",
      "86:\tlearn: 0.8651068\ttest: 0.8651068\ttest1: 0.8621947\tbest: 0.8625262 (85)\ttotal: 4.12s\tremaining: 14.8s\n",
      "87:\tlearn: 0.8650594\ttest: 0.8650594\ttest1: 0.8620842\tbest: 0.8625262 (85)\ttotal: 4.16s\tremaining: 14.7s\n",
      "88:\tlearn: 0.8653436\ttest: 0.8653436\ttest1: 0.8620842\tbest: 0.8625262 (85)\ttotal: 4.2s\tremaining: 14.7s\n",
      "89:\tlearn: 0.8655331\ttest: 0.8655331\ttest1: 0.8620842\tbest: 0.8625262 (85)\ttotal: 4.23s\tremaining: 14.6s\n",
      "90:\tlearn: 0.8657225\ttest: 0.8657225\ttest1: 0.8623052\tbest: 0.8625262 (85)\ttotal: 4.27s\tremaining: 14.5s\n",
      "91:\tlearn: 0.8658646\ttest: 0.8658646\ttest1: 0.8623052\tbest: 0.8625262 (85)\ttotal: 4.31s\tremaining: 14.4s\n",
      "92:\tlearn: 0.8661015\ttest: 0.8661015\ttest1: 0.8626368\tbest: 0.8626368 (92)\ttotal: 4.37s\tremaining: 14.4s\n",
      "93:\tlearn: 0.8661488\ttest: 0.8661488\ttest1: 0.8625262\tbest: 0.8626368 (92)\ttotal: 4.41s\tremaining: 14.3s\n",
      "94:\tlearn: 0.8659120\ttest: 0.8659120\ttest1: 0.8627473\tbest: 0.8627473 (94)\ttotal: 4.45s\tremaining: 14.3s\n",
      "95:\tlearn: 0.8658646\ttest: 0.8658646\ttest1: 0.8628578\tbest: 0.8628578 (95)\ttotal: 4.49s\tremaining: 14.2s\n",
      "96:\tlearn: 0.8661015\ttest: 0.8661015\ttest1: 0.8630788\tbest: 0.8630788 (96)\ttotal: 4.53s\tremaining: 14.2s\n",
      "97:\tlearn: 0.8659594\ttest: 0.8659594\ttest1: 0.8629683\tbest: 0.8630788 (96)\ttotal: 4.57s\tremaining: 14.1s\n",
      "98:\tlearn: 0.8661015\ttest: 0.8661015\ttest1: 0.8628578\tbest: 0.8630788 (96)\ttotal: 4.62s\tremaining: 14s\n",
      "99:\tlearn: 0.8664804\ttest: 0.8664804\ttest1: 0.8626368\tbest: 0.8630788 (96)\ttotal: 4.67s\tremaining: 14s\n",
      "100:\tlearn: 0.8664804\ttest: 0.8664804\ttest1: 0.8627473\tbest: 0.8630788 (96)\ttotal: 4.7s\tremaining: 13.9s\n",
      "101:\tlearn: 0.8665277\ttest: 0.8665277\ttest1: 0.8628578\tbest: 0.8630788 (96)\ttotal: 4.74s\tremaining: 13.9s\n",
      "102:\tlearn: 0.8663383\ttest: 0.8663383\ttest1: 0.8625262\tbest: 0.8630788 (96)\ttotal: 4.79s\tremaining: 13.8s\n",
      "103:\tlearn: 0.8665277\ttest: 0.8665277\ttest1: 0.8626368\tbest: 0.8630788 (96)\ttotal: 4.83s\tremaining: 13.8s\n",
      "104:\tlearn: 0.8664804\ttest: 0.8664804\ttest1: 0.8626368\tbest: 0.8630788 (96)\ttotal: 4.88s\tremaining: 13.7s\n",
      "105:\tlearn: 0.8664804\ttest: 0.8664804\ttest1: 0.8625262\tbest: 0.8630788 (96)\ttotal: 4.92s\tremaining: 13.6s\n",
      "106:\tlearn: 0.8666225\ttest: 0.8666225\ttest1: 0.8629683\tbest: 0.8630788 (96)\ttotal: 4.96s\tremaining: 13.6s\n",
      "107:\tlearn: 0.8663383\ttest: 0.8663383\ttest1: 0.8632998\tbest: 0.8632998 (107)\ttotal: 5.01s\tremaining: 13.6s\n",
      "108:\tlearn: 0.8665277\ttest: 0.8665277\ttest1: 0.8635208\tbest: 0.8635208 (108)\ttotal: 5.06s\tremaining: 13.5s\n",
      "109:\tlearn: 0.8665277\ttest: 0.8665277\ttest1: 0.8634103\tbest: 0.8635208 (108)\ttotal: 5.09s\tremaining: 13.4s\n",
      "110:\tlearn: 0.8666698\ttest: 0.8666698\ttest1: 0.8634103\tbest: 0.8635208 (108)\ttotal: 5.14s\tremaining: 13.4s\n",
      "111:\tlearn: 0.8669066\ttest: 0.8669066\ttest1: 0.8637418\tbest: 0.8637418 (111)\ttotal: 5.17s\tremaining: 13.3s\n",
      "112:\tlearn: 0.8670014\ttest: 0.8670014\ttest1: 0.8632998\tbest: 0.8637418 (111)\ttotal: 5.21s\tremaining: 13.2s\n",
      "113:\tlearn: 0.8669066\ttest: 0.8669066\ttest1: 0.8629683\tbest: 0.8637418 (111)\ttotal: 5.26s\tremaining: 13.2s\n",
      "114:\tlearn: 0.8669066\ttest: 0.8669066\ttest1: 0.8629683\tbest: 0.8637418 (111)\ttotal: 5.31s\tremaining: 13.2s\n",
      "115:\tlearn: 0.8671435\ttest: 0.8671435\ttest1: 0.8635208\tbest: 0.8637418 (111)\ttotal: 5.35s\tremaining: 13.1s\n",
      "116:\tlearn: 0.8673803\ttest: 0.8673803\ttest1: 0.8636313\tbest: 0.8637418 (111)\ttotal: 5.39s\tremaining: 13s\n",
      "117:\tlearn: 0.8672856\ttest: 0.8672856\ttest1: 0.8637418\tbest: 0.8637418 (111)\ttotal: 5.43s\tremaining: 13s\n",
      "118:\tlearn: 0.8671908\ttest: 0.8671908\ttest1: 0.8637418\tbest: 0.8637418 (111)\ttotal: 5.48s\tremaining: 12.9s\n",
      "119:\tlearn: 0.8671908\ttest: 0.8671908\ttest1: 0.8637418\tbest: 0.8637418 (111)\ttotal: 5.52s\tremaining: 12.9s\n",
      "120:\tlearn: 0.8674277\ttest: 0.8674277\ttest1: 0.8647364\tbest: 0.8647364 (120)\ttotal: 5.57s\tremaining: 12.8s\n",
      "121:\tlearn: 0.8678539\ttest: 0.8678539\ttest1: 0.8648469\tbest: 0.8648469 (121)\ttotal: 5.61s\tremaining: 12.8s\n",
      "122:\tlearn: 0.8679013\ttest: 0.8679013\ttest1: 0.8646259\tbest: 0.8648469 (121)\ttotal: 5.65s\tremaining: 12.7s\n",
      "123:\tlearn: 0.8679013\ttest: 0.8679013\ttest1: 0.8645154\tbest: 0.8648469 (121)\ttotal: 5.71s\tremaining: 12.7s\n",
      "124:\tlearn: 0.8679013\ttest: 0.8679013\ttest1: 0.8648469\tbest: 0.8648469 (121)\ttotal: 5.75s\tremaining: 12.6s\n",
      "125:\tlearn: 0.8679960\ttest: 0.8679960\ttest1: 0.8651785\tbest: 0.8651785 (125)\ttotal: 5.79s\tremaining: 12.6s\n",
      "126:\tlearn: 0.8681855\ttest: 0.8681855\ttest1: 0.8655100\tbest: 0.8655100 (126)\ttotal: 5.83s\tremaining: 12.5s\n",
      "127:\tlearn: 0.8682328\ttest: 0.8682328\ttest1: 0.8653995\tbest: 0.8655100 (126)\ttotal: 5.87s\tremaining: 12.5s\n",
      "128:\tlearn: 0.8683276\ttest: 0.8683276\ttest1: 0.8651785\tbest: 0.8655100 (126)\ttotal: 5.91s\tremaining: 12.4s\n",
      "129:\tlearn: 0.8682328\ttest: 0.8682328\ttest1: 0.8649575\tbest: 0.8655100 (126)\ttotal: 5.96s\tremaining: 12.4s\n",
      "130:\tlearn: 0.8682802\ttest: 0.8682802\ttest1: 0.8650680\tbest: 0.8655100 (126)\ttotal: 6s\tremaining: 12.3s\n",
      "131:\tlearn: 0.8683749\ttest: 0.8683749\ttest1: 0.8650680\tbest: 0.8655100 (126)\ttotal: 6.05s\tremaining: 12.3s\n",
      "132:\tlearn: 0.8684223\ttest: 0.8684223\ttest1: 0.8652890\tbest: 0.8655100 (126)\ttotal: 6.09s\tremaining: 12.2s\n",
      "133:\tlearn: 0.8684697\ttest: 0.8684697\ttest1: 0.8652890\tbest: 0.8655100 (126)\ttotal: 6.13s\tremaining: 12.2s\n",
      "134:\tlearn: 0.8684697\ttest: 0.8684697\ttest1: 0.8651785\tbest: 0.8655100 (126)\ttotal: 6.17s\tremaining: 12.1s\n",
      "135:\tlearn: 0.8683276\ttest: 0.8683276\ttest1: 0.8651785\tbest: 0.8655100 (126)\ttotal: 6.21s\tremaining: 12.1s\n",
      "136:\tlearn: 0.8685644\ttest: 0.8685644\ttest1: 0.8651785\tbest: 0.8655100 (126)\ttotal: 6.26s\tremaining: 12s\n",
      "137:\tlearn: 0.8687538\ttest: 0.8687538\ttest1: 0.8656205\tbest: 0.8656205 (137)\ttotal: 6.3s\tremaining: 12s\n",
      "138:\tlearn: 0.8687065\ttest: 0.8687065\ttest1: 0.8652890\tbest: 0.8656205 (137)\ttotal: 6.35s\tremaining: 11.9s\n",
      "139:\tlearn: 0.8686118\ttest: 0.8686118\ttest1: 0.8655100\tbest: 0.8656205 (137)\ttotal: 6.39s\tremaining: 11.9s\n",
      "140:\tlearn: 0.8696064\ttest: 0.8696064\ttest1: 0.8666151\tbest: 0.8666151 (140)\ttotal: 6.44s\tremaining: 11.8s\n",
      "141:\tlearn: 0.8696538\ttest: 0.8696538\ttest1: 0.8665046\tbest: 0.8666151 (140)\ttotal: 6.48s\tremaining: 11.8s\n",
      "142:\tlearn: 0.8697011\ttest: 0.8697011\ttest1: 0.8665046\tbest: 0.8666151 (140)\ttotal: 6.52s\tremaining: 11.7s\n",
      "143:\tlearn: 0.8695590\ttest: 0.8695590\ttest1: 0.8668361\tbest: 0.8668361 (143)\ttotal: 6.57s\tremaining: 11.7s\n",
      "144:\tlearn: 0.8696064\ttest: 0.8696064\ttest1: 0.8667256\tbest: 0.8668361 (143)\ttotal: 6.61s\tremaining: 11.6s\n",
      "145:\tlearn: 0.8695117\ttest: 0.8695117\ttest1: 0.8667256\tbest: 0.8668361 (143)\ttotal: 6.65s\tremaining: 11.6s\n",
      "146:\tlearn: 0.8697485\ttest: 0.8697485\ttest1: 0.8665046\tbest: 0.8668361 (143)\ttotal: 6.69s\tremaining: 11.5s\n",
      "147:\tlearn: 0.8698432\ttest: 0.8698432\ttest1: 0.8665046\tbest: 0.8668361 (143)\ttotal: 6.73s\tremaining: 11.5s\n",
      "148:\tlearn: 0.8698906\ttest: 0.8698906\ttest1: 0.8666151\tbest: 0.8668361 (143)\ttotal: 6.77s\tremaining: 11.4s\n",
      "149:\tlearn: 0.8698906\ttest: 0.8698906\ttest1: 0.8667256\tbest: 0.8668361 (143)\ttotal: 6.82s\tremaining: 11.4s\n",
      "150:\tlearn: 0.8698432\ttest: 0.8698432\ttest1: 0.8667256\tbest: 0.8668361 (143)\ttotal: 6.88s\tremaining: 11.3s\n",
      "151:\tlearn: 0.8698906\ttest: 0.8698906\ttest1: 0.8667256\tbest: 0.8668361 (143)\ttotal: 6.92s\tremaining: 11.3s\n",
      "152:\tlearn: 0.8699380\ttest: 0.8699380\ttest1: 0.8666151\tbest: 0.8668361 (143)\ttotal: 6.96s\tremaining: 11.2s\n",
      "153:\tlearn: 0.8699853\ttest: 0.8699853\ttest1: 0.8668361\tbest: 0.8668361 (143)\ttotal: 7.02s\tremaining: 11.2s\n",
      "154:\tlearn: 0.8699853\ttest: 0.8699853\ttest1: 0.8667256\tbest: 0.8668361 (143)\ttotal: 7.06s\tremaining: 11.2s\n",
      "155:\tlearn: 0.8698432\ttest: 0.8698432\ttest1: 0.8673887\tbest: 0.8673887 (155)\ttotal: 7.11s\tremaining: 11.1s\n",
      "156:\tlearn: 0.8699853\ttest: 0.8699853\ttest1: 0.8674992\tbest: 0.8674992 (156)\ttotal: 7.15s\tremaining: 11.1s\n",
      "157:\tlearn: 0.8699853\ttest: 0.8699853\ttest1: 0.8676097\tbest: 0.8676097 (157)\ttotal: 7.19s\tremaining: 11s\n",
      "158:\tlearn: 0.8699853\ttest: 0.8699853\ttest1: 0.8674992\tbest: 0.8676097 (157)\ttotal: 7.24s\tremaining: 11s\n",
      "159:\tlearn: 0.8701274\ttest: 0.8701274\ttest1: 0.8677202\tbest: 0.8677202 (159)\ttotal: 7.28s\tremaining: 10.9s\n",
      "160:\tlearn: 0.8700800\ttest: 0.8700800\ttest1: 0.8676097\tbest: 0.8677202 (159)\ttotal: 7.33s\tremaining: 10.9s\n",
      "161:\tlearn: 0.8705537\ttest: 0.8705537\ttest1: 0.8680517\tbest: 0.8680517 (161)\ttotal: 7.37s\tremaining: 10.8s\n",
      "162:\tlearn: 0.8706484\ttest: 0.8706484\ttest1: 0.8678307\tbest: 0.8680517 (161)\ttotal: 7.42s\tremaining: 10.8s\n"
     ]
    },
    {
     "name": "stdout",
     "output_type": "stream",
     "text": [
      "163:\tlearn: 0.8708852\ttest: 0.8708852\ttest1: 0.8678307\tbest: 0.8680517 (161)\ttotal: 7.47s\tremaining: 10.7s\n",
      "164:\tlearn: 0.8708379\ttest: 0.8708379\ttest1: 0.8679412\tbest: 0.8680517 (161)\ttotal: 7.51s\tremaining: 10.7s\n",
      "165:\tlearn: 0.8706958\ttest: 0.8706958\ttest1: 0.8682727\tbest: 0.8682727 (165)\ttotal: 7.55s\tremaining: 10.6s\n",
      "166:\tlearn: 0.8707431\ttest: 0.8707431\ttest1: 0.8684938\tbest: 0.8684938 (166)\ttotal: 7.59s\tremaining: 10.6s\n",
      "167:\tlearn: 0.8708852\ttest: 0.8708852\ttest1: 0.8686043\tbest: 0.8686043 (167)\ttotal: 7.63s\tremaining: 10.5s\n",
      "168:\tlearn: 0.8708379\ttest: 0.8708379\ttest1: 0.8686043\tbest: 0.8686043 (167)\ttotal: 7.68s\tremaining: 10.5s\n",
      "169:\tlearn: 0.8710747\ttest: 0.8710747\ttest1: 0.8682727\tbest: 0.8686043 (167)\ttotal: 7.72s\tremaining: 10.4s\n",
      "170:\tlearn: 0.8709800\ttest: 0.8709800\ttest1: 0.8682727\tbest: 0.8686043 (167)\ttotal: 7.76s\tremaining: 10.4s\n",
      "171:\tlearn: 0.8709326\ttest: 0.8709326\ttest1: 0.8674992\tbest: 0.8686043 (167)\ttotal: 7.81s\tremaining: 10.4s\n",
      "172:\tlearn: 0.8711694\ttest: 0.8711694\ttest1: 0.8677202\tbest: 0.8686043 (167)\ttotal: 7.85s\tremaining: 10.3s\n",
      "173:\tlearn: 0.8712168\ttest: 0.8712168\ttest1: 0.8677202\tbest: 0.8686043 (167)\ttotal: 7.9s\tremaining: 10.3s\n",
      "174:\tlearn: 0.8714536\ttest: 0.8714536\ttest1: 0.8678307\tbest: 0.8686043 (167)\ttotal: 7.94s\tremaining: 10.2s\n",
      "175:\tlearn: 0.8715483\ttest: 0.8715483\ttest1: 0.8680517\tbest: 0.8686043 (167)\ttotal: 7.98s\tremaining: 10.2s\n",
      "176:\tlearn: 0.8715957\ttest: 0.8715957\ttest1: 0.8680517\tbest: 0.8686043 (167)\ttotal: 8.02s\tremaining: 10.1s\n",
      "177:\tlearn: 0.8716431\ttest: 0.8716431\ttest1: 0.8679412\tbest: 0.8686043 (167)\ttotal: 8.06s\tremaining: 10.1s\n",
      "178:\tlearn: 0.8716431\ttest: 0.8716431\ttest1: 0.8679412\tbest: 0.8686043 (167)\ttotal: 8.1s\tremaining: 10s\n",
      "179:\tlearn: 0.8716904\ttest: 0.8716904\ttest1: 0.8684938\tbest: 0.8686043 (167)\ttotal: 8.15s\tremaining: 9.96s\n",
      "180:\tlearn: 0.8716904\ttest: 0.8716904\ttest1: 0.8686043\tbest: 0.8686043 (167)\ttotal: 8.2s\tremaining: 9.92s\n",
      "181:\tlearn: 0.8717378\ttest: 0.8717378\ttest1: 0.8688253\tbest: 0.8688253 (181)\ttotal: 8.24s\tremaining: 9.87s\n",
      "182:\tlearn: 0.8717852\ttest: 0.8717852\ttest1: 0.8690463\tbest: 0.8690463 (182)\ttotal: 8.29s\tremaining: 9.82s\n",
      "183:\tlearn: 0.8718325\ttest: 0.8718325\ttest1: 0.8691568\tbest: 0.8691568 (183)\ttotal: 8.34s\tremaining: 9.79s\n",
      "184:\tlearn: 0.8721167\ttest: 0.8721167\ttest1: 0.8690463\tbest: 0.8691568 (183)\ttotal: 8.38s\tremaining: 9.74s\n",
      "185:\tlearn: 0.8721641\ttest: 0.8721641\ttest1: 0.8690463\tbest: 0.8691568 (183)\ttotal: 8.42s\tremaining: 9.69s\n",
      "186:\tlearn: 0.8722588\ttest: 0.8722588\ttest1: 0.8690463\tbest: 0.8691568 (183)\ttotal: 8.46s\tremaining: 9.64s\n",
      "187:\tlearn: 0.8723535\ttest: 0.8723535\ttest1: 0.8692673\tbest: 0.8692673 (187)\ttotal: 8.5s\tremaining: 9.59s\n",
      "188:\tlearn: 0.8723535\ttest: 0.8723535\ttest1: 0.8692673\tbest: 0.8692673 (187)\ttotal: 8.55s\tremaining: 9.54s\n",
      "189:\tlearn: 0.8722588\ttest: 0.8722588\ttest1: 0.8692673\tbest: 0.8692673 (187)\ttotal: 8.59s\tremaining: 9.49s\n",
      "190:\tlearn: 0.8724009\ttest: 0.8724009\ttest1: 0.8692673\tbest: 0.8692673 (187)\ttotal: 8.63s\tremaining: 9.44s\n",
      "191:\tlearn: 0.8722588\ttest: 0.8722588\ttest1: 0.8692673\tbest: 0.8692673 (187)\ttotal: 8.67s\tremaining: 9.39s\n",
      "192:\tlearn: 0.8723062\ttest: 0.8723062\ttest1: 0.8692673\tbest: 0.8692673 (187)\ttotal: 8.71s\tremaining: 9.34s\n",
      "193:\tlearn: 0.8724483\ttest: 0.8724483\ttest1: 0.8692673\tbest: 0.8692673 (187)\ttotal: 8.76s\tremaining: 9.3s\n",
      "194:\tlearn: 0.8725903\ttest: 0.8725903\ttest1: 0.8690463\tbest: 0.8692673 (187)\ttotal: 8.8s\tremaining: 9.25s\n",
      "195:\tlearn: 0.8726377\ttest: 0.8726377\ttest1: 0.8690463\tbest: 0.8692673 (187)\ttotal: 8.84s\tremaining: 9.2s\n",
      "196:\tlearn: 0.8726377\ttest: 0.8726377\ttest1: 0.8689358\tbest: 0.8692673 (187)\ttotal: 8.95s\tremaining: 9.22s\n",
      "197:\tlearn: 0.8726851\ttest: 0.8726851\ttest1: 0.8690463\tbest: 0.8692673 (187)\ttotal: 9.01s\tremaining: 9.19s\n",
      "198:\tlearn: 0.8726851\ttest: 0.8726851\ttest1: 0.8690463\tbest: 0.8692673 (187)\ttotal: 9.05s\tremaining: 9.14s\n",
      "199:\tlearn: 0.8727324\ttest: 0.8727324\ttest1: 0.8691568\tbest: 0.8692673 (187)\ttotal: 9.09s\tremaining: 9.09s\n",
      "200:\tlearn: 0.8726377\ttest: 0.8726377\ttest1: 0.8691568\tbest: 0.8692673 (187)\ttotal: 9.12s\tremaining: 9.03s\n",
      "201:\tlearn: 0.8725903\ttest: 0.8725903\ttest1: 0.8690463\tbest: 0.8692673 (187)\ttotal: 9.17s\tremaining: 8.99s\n",
      "202:\tlearn: 0.8727324\ttest: 0.8727324\ttest1: 0.8688253\tbest: 0.8692673 (187)\ttotal: 9.21s\tremaining: 8.94s\n",
      "203:\tlearn: 0.8727324\ttest: 0.8727324\ttest1: 0.8687148\tbest: 0.8692673 (187)\ttotal: 9.26s\tremaining: 8.89s\n",
      "204:\tlearn: 0.8729219\ttest: 0.8729219\ttest1: 0.8686043\tbest: 0.8692673 (187)\ttotal: 9.31s\tremaining: 8.86s\n",
      "205:\tlearn: 0.8729219\ttest: 0.8729219\ttest1: 0.8684938\tbest: 0.8692673 (187)\ttotal: 9.35s\tremaining: 8.81s\n",
      "206:\tlearn: 0.8732534\ttest: 0.8732534\ttest1: 0.8682727\tbest: 0.8692673 (187)\ttotal: 9.39s\tremaining: 8.76s\n",
      "207:\tlearn: 0.8731587\ttest: 0.8731587\ttest1: 0.8682727\tbest: 0.8692673 (187)\ttotal: 9.45s\tremaining: 8.72s\n",
      "208:\tlearn: 0.8734429\ttest: 0.8734429\ttest1: 0.8684938\tbest: 0.8692673 (187)\ttotal: 9.5s\tremaining: 8.68s\n",
      "209:\tlearn: 0.8733482\ttest: 0.8733482\ttest1: 0.8684938\tbest: 0.8692673 (187)\ttotal: 9.55s\tremaining: 8.64s\n",
      "210:\tlearn: 0.8733482\ttest: 0.8733482\ttest1: 0.8684938\tbest: 0.8692673 (187)\ttotal: 9.59s\tremaining: 8.59s\n",
      "211:\tlearn: 0.8732534\ttest: 0.8732534\ttest1: 0.8688253\tbest: 0.8692673 (187)\ttotal: 9.63s\tremaining: 8.54s\n",
      "212:\tlearn: 0.8732534\ttest: 0.8732534\ttest1: 0.8688253\tbest: 0.8692673 (187)\ttotal: 9.68s\tremaining: 8.5s\n",
      "213:\tlearn: 0.8733008\ttest: 0.8733008\ttest1: 0.8687148\tbest: 0.8692673 (187)\ttotal: 9.72s\tremaining: 8.45s\n",
      "214:\tlearn: 0.8733008\ttest: 0.8733008\ttest1: 0.8687148\tbest: 0.8692673 (187)\ttotal: 9.77s\tremaining: 8.4s\n",
      "215:\tlearn: 0.8734429\ttest: 0.8734429\ttest1: 0.8686043\tbest: 0.8692673 (187)\ttotal: 9.81s\tremaining: 8.35s\n",
      "216:\tlearn: 0.8734429\ttest: 0.8734429\ttest1: 0.8688253\tbest: 0.8692673 (187)\ttotal: 9.85s\tremaining: 8.3s\n",
      "217:\tlearn: 0.8735850\ttest: 0.8735850\ttest1: 0.8687148\tbest: 0.8692673 (187)\ttotal: 9.89s\tremaining: 8.26s\n",
      "Stopped by overfitting detector  (30 iterations wait)\n",
      "\n",
      "bestTest = 0.8692673224\n",
      "bestIteration = 187\n",
      "\n",
      "Shrink model to first 188 iterations.\n"
     ]
    },
    {
     "data": {
      "text/plain": [
       "<catboost.core.CatBoostClassifier at 0x1a7888d668>"
      ]
     },
     "execution_count": 1023,
     "metadata": {},
     "output_type": "execute_result"
    }
   ],
   "source": [
    "catb.fit(X_train,y_train,eval_set=[(X_train,y_train), (X_test,y_test)],early_stopping_rounds=30)"
   ]
  },
  {
   "cell_type": "code",
   "execution_count": 1024,
   "metadata": {},
   "outputs": [
    {
     "name": "stdout",
     "output_type": "stream",
     "text": [
      "<catboost.core.CatBoostClassifier object at 0x1a7888d668>\n",
      "confusion matrix of training data\n",
      "[[15059   841]\n",
      " [ 1854  3359]]\n",
      "confusion matrix of test data\n",
      "[[6376  378]\n",
      " [ 805 1490]]\n",
      "classification report of test data\n",
      "              precision    recall  f1-score   support\n",
      "\n",
      "           0       0.89      0.94      0.92      6754\n",
      "           1       0.80      0.65      0.72      2295\n",
      "\n",
      "   micro avg       0.87      0.87      0.87      9049\n",
      "   macro avg       0.84      0.80      0.82      9049\n",
      "weighted avg       0.87      0.87      0.86      9049\n",
      "\n",
      "Accuracy on test data: 86.926732%\n",
      "Accuracy on training data: 87.235353%\n",
      "Area under the ROC curve : 0.796635\n"
     ]
    }
   ],
   "source": [
    "show_classifier_metrics(catb)"
   ]
  },
  {
   "cell_type": "code",
   "execution_count": 1025,
   "metadata": {},
   "outputs": [],
   "source": [
    "from imblearn.over_sampling import RandomOverSampler"
   ]
  },
  {
   "cell_type": "code",
   "execution_count": 1026,
   "metadata": {},
   "outputs": [
    {
     "data": {
      "text/plain": [
       "0.24690948704589588"
      ]
     },
     "execution_count": 1026,
     "metadata": {},
     "output_type": "execute_result"
    }
   ],
   "source": [
    "np.sum(y_train)/y_train.shape[0]"
   ]
  },
  {
   "cell_type": "code",
   "execution_count": 1027,
   "metadata": {},
   "outputs": [],
   "source": [
    "ros = RandomOverSampler(random_state=1,sampling_strategy='auto')"
   ]
  },
  {
   "cell_type": "code",
   "execution_count": 1028,
   "metadata": {},
   "outputs": [],
   "source": [
    "X_resampled, y_resampled = ros.fit_resample(X_train, y_train)"
   ]
  },
  {
   "cell_type": "code",
   "execution_count": 1029,
   "metadata": {},
   "outputs": [],
   "source": [
    "catb_ros = CatBoostClassifier(learning_rate=0.1,iterations=400,verbose=1,random_seed=10,eval_metric='Accuracy')"
   ]
  },
  {
   "cell_type": "code",
   "execution_count": 1030,
   "metadata": {},
   "outputs": [
    {
     "name": "stdout",
     "output_type": "stream",
     "text": [
      "0:\tlearn: 0.7950629\ttest: 0.7950629\ttest1: 0.7417394\tbest: 0.7417394 (0)\ttotal: 64.5ms\tremaining: 25.7s\n",
      "1:\tlearn: 0.8116667\ttest: 0.8116667\ttest1: 0.7788706\tbest: 0.7788706 (1)\ttotal: 132ms\tremaining: 26.2s\n",
      "2:\tlearn: 0.8114465\ttest: 0.8114465\ttest1: 0.7806387\tbest: 0.7806387 (2)\ttotal: 190ms\tremaining: 25.1s\n",
      "3:\tlearn: 0.8078302\ttest: 0.8078302\ttest1: 0.7753343\tbest: 0.7806387 (2)\ttotal: 252ms\tremaining: 24.9s\n",
      "4:\tlearn: 0.8092138\ttest: 0.8092138\ttest1: 0.7748923\tbest: 0.7806387 (2)\ttotal: 334ms\tremaining: 26.4s\n",
      "5:\tlearn: 0.8133019\ttest: 0.8133019\ttest1: 0.7767709\tbest: 0.7806387 (2)\ttotal: 412ms\tremaining: 27.1s\n",
      "6:\tlearn: 0.8129560\ttest: 0.8129560\ttest1: 0.7780970\tbest: 0.7806387 (2)\ttotal: 468ms\tremaining: 26.3s\n",
      "7:\tlearn: 0.8135220\ttest: 0.8135220\ttest1: 0.7790916\tbest: 0.7806387 (2)\ttotal: 528ms\tremaining: 25.9s\n",
      "8:\tlearn: 0.8157233\ttest: 0.8157233\ttest1: 0.7787601\tbest: 0.7806387 (2)\ttotal: 600ms\tremaining: 26.1s\n",
      "9:\tlearn: 0.8169497\ttest: 0.8169497\ttest1: 0.7814123\tbest: 0.7814123 (9)\ttotal: 663ms\tremaining: 25.8s\n",
      "10:\tlearn: 0.8166667\ttest: 0.8166667\ttest1: 0.7804177\tbest: 0.7814123 (9)\ttotal: 731ms\tremaining: 25.8s\n",
      "11:\tlearn: 0.8165723\ttest: 0.8165723\ttest1: 0.7822964\tbest: 0.7822964 (11)\ttotal: 789ms\tremaining: 25.5s\n",
      "12:\tlearn: 0.8184277\ttest: 0.8184277\ttest1: 0.7845066\tbest: 0.7845066 (12)\ttotal: 862ms\tremaining: 25.7s\n",
      "13:\tlearn: 0.8195283\ttest: 0.8195283\ttest1: 0.7852801\tbest: 0.7852801 (13)\ttotal: 920ms\tremaining: 25.4s\n",
      "14:\tlearn: 0.8200629\ttest: 0.8200629\ttest1: 0.7872693\tbest: 0.7872693 (14)\ttotal: 984ms\tremaining: 25.3s\n",
      "15:\tlearn: 0.8214465\ttest: 0.8214465\ttest1: 0.7909161\tbest: 0.7909161 (15)\ttotal: 1.04s\tremaining: 25.1s\n",
      "16:\tlearn: 0.8230503\ttest: 0.8230503\ttest1: 0.7924633\tbest: 0.7924633 (16)\ttotal: 1.12s\tremaining: 25.2s\n",
      "17:\tlearn: 0.8220440\ttest: 0.8220440\ttest1: 0.7914687\tbest: 0.7924633 (16)\ttotal: 1.17s\tremaining: 24.9s\n",
      "18:\tlearn: 0.8240566\ttest: 0.8240566\ttest1: 0.7936789\tbest: 0.7936789 (18)\ttotal: 1.24s\tremaining: 24.9s\n",
      "19:\tlearn: 0.8255031\ttest: 0.8255031\ttest1: 0.7948945\tbest: 0.7948945 (19)\ttotal: 1.3s\tremaining: 24.7s\n",
      "20:\tlearn: 0.8285535\ttest: 0.8285535\ttest1: 0.7994254\tbest: 0.7994254 (20)\ttotal: 1.37s\tremaining: 24.8s\n",
      "21:\tlearn: 0.8285535\ttest: 0.8285535\ttest1: 0.7999779\tbest: 0.7999779 (21)\ttotal: 1.44s\tremaining: 24.7s\n",
      "22:\tlearn: 0.8282390\ttest: 0.8282390\ttest1: 0.7998674\tbest: 0.7999779 (21)\ttotal: 1.5s\tremaining: 24.5s\n",
      "23:\tlearn: 0.8287107\ttest: 0.8287107\ttest1: 0.8009725\tbest: 0.8009725 (23)\ttotal: 1.55s\tremaining: 24.4s\n",
      "24:\tlearn: 0.8296855\ttest: 0.8296855\ttest1: 0.8014145\tbest: 0.8014145 (24)\ttotal: 1.63s\tremaining: 24.5s\n",
      "25:\tlearn: 0.8304403\ttest: 0.8304403\ttest1: 0.8026301\tbest: 0.8026301 (25)\ttotal: 1.69s\tremaining: 24.3s\n",
      "26:\tlearn: 0.8306604\ttest: 0.8306604\ttest1: 0.8040667\tbest: 0.8040667 (26)\ttotal: 1.74s\tremaining: 24.1s\n",
      "27:\tlearn: 0.8318239\ttest: 0.8318239\ttest1: 0.8052824\tbest: 0.8052824 (27)\ttotal: 1.8s\tremaining: 24s\n",
      "28:\tlearn: 0.8321069\ttest: 0.8321069\ttest1: 0.8050613\tbest: 0.8052824 (27)\ttotal: 1.87s\tremaining: 23.9s\n",
      "29:\tlearn: 0.8326730\ttest: 0.8326730\ttest1: 0.8051718\tbest: 0.8052824 (27)\ttotal: 1.93s\tremaining: 23.8s\n",
      "30:\tlearn: 0.8324214\ttest: 0.8324214\ttest1: 0.8056139\tbest: 0.8056139 (30)\ttotal: 1.99s\tremaining: 23.6s\n",
      "31:\tlearn: 0.8333648\ttest: 0.8333648\ttest1: 0.8055034\tbest: 0.8056139 (30)\ttotal: 2.04s\tremaining: 23.5s\n",
      "32:\tlearn: 0.8337736\ttest: 0.8337736\ttest1: 0.8066085\tbest: 0.8066085 (32)\ttotal: 2.11s\tremaining: 23.5s\n",
      "33:\tlearn: 0.8346541\ttest: 0.8346541\ttest1: 0.8064980\tbest: 0.8066085 (32)\ttotal: 2.17s\tremaining: 23.4s\n",
      "34:\tlearn: 0.8352201\ttest: 0.8352201\ttest1: 0.8068295\tbest: 0.8068295 (34)\ttotal: 2.23s\tremaining: 23.3s\n",
      "35:\tlearn: 0.8354717\ttest: 0.8354717\ttest1: 0.8064980\tbest: 0.8068295 (34)\ttotal: 2.29s\tremaining: 23.1s\n",
      "36:\tlearn: 0.8359748\ttest: 0.8359748\ttest1: 0.8074925\tbest: 0.8074925 (36)\ttotal: 2.36s\tremaining: 23.1s\n",
      "37:\tlearn: 0.8362579\ttest: 0.8362579\ttest1: 0.8072715\tbest: 0.8074925 (36)\ttotal: 2.41s\tremaining: 23s\n",
      "38:\tlearn: 0.8367610\ttest: 0.8367610\ttest1: 0.8066085\tbest: 0.8074925 (36)\ttotal: 2.47s\tremaining: 22.9s\n",
      "39:\tlearn: 0.8376730\ttest: 0.8376730\ttest1: 0.8073820\tbest: 0.8074925 (36)\ttotal: 2.52s\tremaining: 22.7s\n",
      "40:\tlearn: 0.8382704\ttest: 0.8382704\ttest1: 0.8084871\tbest: 0.8084871 (40)\ttotal: 2.59s\tremaining: 22.7s\n",
      "41:\tlearn: 0.8389623\ttest: 0.8389623\ttest1: 0.8088187\tbest: 0.8088187 (41)\ttotal: 2.65s\tremaining: 22.6s\n",
      "42:\tlearn: 0.8387421\ttest: 0.8387421\ttest1: 0.8100343\tbest: 0.8100343 (42)\ttotal: 2.71s\tremaining: 22.5s\n",
      "43:\tlearn: 0.8390566\ttest: 0.8390566\ttest1: 0.8105868\tbest: 0.8105868 (43)\ttotal: 2.76s\tremaining: 22.3s\n",
      "44:\tlearn: 0.8393396\ttest: 0.8393396\ttest1: 0.8106973\tbest: 0.8106973 (44)\ttotal: 2.83s\tremaining: 22.3s\n",
      "45:\tlearn: 0.8402830\ttest: 0.8402830\ttest1: 0.8112499\tbest: 0.8112499 (45)\ttotal: 2.88s\tremaining: 22.2s\n",
      "46:\tlearn: 0.8407862\ttest: 0.8407862\ttest1: 0.8123550\tbest: 0.8123550 (46)\ttotal: 2.94s\tremaining: 22.1s\n",
      "47:\tlearn: 0.8410377\ttest: 0.8410377\ttest1: 0.8127970\tbest: 0.8127970 (47)\ttotal: 3s\tremaining: 22s\n",
      "48:\tlearn: 0.8414465\ttest: 0.8414465\ttest1: 0.8129075\tbest: 0.8129075 (48)\ttotal: 3.07s\tremaining: 22s\n",
      "49:\tlearn: 0.8415409\ttest: 0.8415409\ttest1: 0.8135706\tbest: 0.8135706 (49)\ttotal: 3.13s\tremaining: 21.9s\n",
      "50:\tlearn: 0.8411006\ttest: 0.8411006\ttest1: 0.8141231\tbest: 0.8141231 (50)\ttotal: 3.18s\tremaining: 21.8s\n",
      "51:\tlearn: 0.8409748\ttest: 0.8409748\ttest1: 0.8144546\tbest: 0.8144546 (51)\ttotal: 3.23s\tremaining: 21.6s\n",
      "52:\tlearn: 0.8413522\ttest: 0.8413522\ttest1: 0.8146757\tbest: 0.8146757 (52)\ttotal: 3.3s\tremaining: 21.6s\n",
      "53:\tlearn: 0.8419182\ttest: 0.8419182\ttest1: 0.8148967\tbest: 0.8148967 (53)\ttotal: 3.36s\tremaining: 21.5s\n",
      "54:\tlearn: 0.8419811\ttest: 0.8419811\ttest1: 0.8157807\tbest: 0.8157807 (54)\ttotal: 3.41s\tremaining: 21.4s\n",
      "55:\tlearn: 0.8416667\ttest: 0.8416667\ttest1: 0.8154492\tbest: 0.8157807 (54)\ttotal: 3.49s\tremaining: 21.4s\n",
      "56:\tlearn: 0.8423270\ttest: 0.8423270\ttest1: 0.8156702\tbest: 0.8157807 (54)\ttotal: 3.57s\tremaining: 21.5s\n",
      "57:\tlearn: 0.8437107\ttest: 0.8437107\ttest1: 0.8175489\tbest: 0.8175489 (57)\ttotal: 3.63s\tremaining: 21.4s\n",
      "58:\tlearn: 0.8442138\ttest: 0.8442138\ttest1: 0.8185435\tbest: 0.8185435 (58)\ttotal: 3.68s\tremaining: 21.3s\n",
      "59:\tlearn: 0.8442138\ttest: 0.8442138\ttest1: 0.8185435\tbest: 0.8185435 (58)\ttotal: 3.74s\tremaining: 21.2s\n",
      "60:\tlearn: 0.8449371\ttest: 0.8449371\ttest1: 0.8194276\tbest: 0.8194276 (60)\ttotal: 3.8s\tremaining: 21.1s\n",
      "61:\tlearn: 0.8454403\ttest: 0.8454403\ttest1: 0.8195381\tbest: 0.8195381 (61)\ttotal: 3.86s\tremaining: 21s\n",
      "62:\tlearn: 0.8456918\ttest: 0.8456918\ttest1: 0.8196486\tbest: 0.8196486 (62)\ttotal: 3.92s\tremaining: 20.9s\n",
      "63:\tlearn: 0.8455660\ttest: 0.8455660\ttest1: 0.8200906\tbest: 0.8200906 (63)\ttotal: 3.97s\tremaining: 20.8s\n",
      "64:\tlearn: 0.8456918\ttest: 0.8456918\ttest1: 0.8217483\tbest: 0.8217483 (64)\ttotal: 4.03s\tremaining: 20.8s\n",
      "65:\tlearn: 0.8457547\ttest: 0.8457547\ttest1: 0.8219693\tbest: 0.8219693 (65)\ttotal: 4.09s\tremaining: 20.7s\n",
      "66:\tlearn: 0.8460377\ttest: 0.8460377\ttest1: 0.8218588\tbest: 0.8219693 (65)\ttotal: 4.14s\tremaining: 20.6s\n",
      "67:\tlearn: 0.8459119\ttest: 0.8459119\ttest1: 0.8221903\tbest: 0.8221903 (67)\ttotal: 4.19s\tremaining: 20.5s\n",
      "68:\tlearn: 0.8462579\ttest: 0.8462579\ttest1: 0.8226323\tbest: 0.8226323 (68)\ttotal: 4.26s\tremaining: 20.4s\n",
      "69:\tlearn: 0.8466667\ttest: 0.8466667\ttest1: 0.8229639\tbest: 0.8229639 (69)\ttotal: 4.31s\tremaining: 20.3s\n",
      "70:\tlearn: 0.8471698\ttest: 0.8471698\ttest1: 0.8226323\tbest: 0.8229639 (69)\ttotal: 4.36s\tremaining: 20.2s\n",
      "71:\tlearn: 0.8462579\ttest: 0.8462579\ttest1: 0.8218588\tbest: 0.8229639 (69)\ttotal: 4.42s\tremaining: 20.1s\n",
      "72:\tlearn: 0.8460377\ttest: 0.8460377\ttest1: 0.8220798\tbest: 0.8229639 (69)\ttotal: 4.45s\tremaining: 19.9s\n",
      "73:\tlearn: 0.8461950\ttest: 0.8461950\ttest1: 0.8226323\tbest: 0.8229639 (69)\ttotal: 4.52s\tremaining: 19.9s\n",
      "74:\tlearn: 0.8469497\ttest: 0.8469497\ttest1: 0.8230744\tbest: 0.8230744 (74)\ttotal: 4.58s\tremaining: 19.9s\n",
      "75:\tlearn: 0.8473899\ttest: 0.8473899\ttest1: 0.8238479\tbest: 0.8238479 (75)\ttotal: 4.63s\tremaining: 19.8s\n",
      "76:\tlearn: 0.8478616\ttest: 0.8478616\ttest1: 0.8246215\tbest: 0.8246215 (76)\ttotal: 4.69s\tremaining: 19.7s\n",
      "77:\tlearn: 0.8482075\ttest: 0.8482075\ttest1: 0.8248425\tbest: 0.8248425 (77)\ttotal: 4.75s\tremaining: 19.6s\n",
      "78:\tlearn: 0.8479874\ttest: 0.8479874\ttest1: 0.8242900\tbest: 0.8248425 (77)\ttotal: 4.8s\tremaining: 19.5s\n",
      "79:\tlearn: 0.8478616\ttest: 0.8478616\ttest1: 0.8242900\tbest: 0.8248425 (77)\ttotal: 4.86s\tremaining: 19.4s\n",
      "80:\tlearn: 0.8478302\ttest: 0.8478302\ttest1: 0.8245110\tbest: 0.8248425 (77)\ttotal: 4.92s\tremaining: 19.4s\n"
     ]
    },
    {
     "name": "stdout",
     "output_type": "stream",
     "text": [
      "81:\tlearn: 0.8478616\ttest: 0.8478616\ttest1: 0.8244005\tbest: 0.8248425 (77)\ttotal: 4.99s\tremaining: 19.4s\n",
      "82:\tlearn: 0.8480818\ttest: 0.8480818\ttest1: 0.8249530\tbest: 0.8249530 (82)\ttotal: 5.05s\tremaining: 19.3s\n",
      "83:\tlearn: 0.8482704\ttest: 0.8482704\ttest1: 0.8255056\tbest: 0.8255056 (83)\ttotal: 5.11s\tremaining: 19.2s\n",
      "84:\tlearn: 0.8485535\ttest: 0.8485535\ttest1: 0.8250635\tbest: 0.8255056 (83)\ttotal: 5.17s\tremaining: 19.1s\n",
      "85:\tlearn: 0.8484591\ttest: 0.8484591\ttest1: 0.8251741\tbest: 0.8255056 (83)\ttotal: 5.23s\tremaining: 19.1s\n",
      "86:\tlearn: 0.8494340\ttest: 0.8494340\ttest1: 0.8267212\tbest: 0.8267212 (86)\ttotal: 5.28s\tremaining: 19s\n",
      "87:\tlearn: 0.8494025\ttest: 0.8494025\ttest1: 0.8268317\tbest: 0.8268317 (87)\ttotal: 5.34s\tremaining: 18.9s\n",
      "88:\tlearn: 0.8493711\ttest: 0.8493711\ttest1: 0.8266107\tbest: 0.8268317 (87)\ttotal: 5.39s\tremaining: 18.9s\n",
      "89:\tlearn: 0.8494654\ttest: 0.8494654\ttest1: 0.8266107\tbest: 0.8268317 (87)\ttotal: 5.45s\tremaining: 18.8s\n",
      "90:\tlearn: 0.8503459\ttest: 0.8503459\ttest1: 0.8271632\tbest: 0.8271632 (90)\ttotal: 5.52s\tremaining: 18.8s\n",
      "91:\tlearn: 0.8498742\ttest: 0.8498742\ttest1: 0.8259476\tbest: 0.8271632 (90)\ttotal: 5.58s\tremaining: 18.7s\n",
      "92:\tlearn: 0.8500314\ttest: 0.8500314\ttest1: 0.8257266\tbest: 0.8271632 (90)\ttotal: 5.64s\tremaining: 18.6s\n",
      "93:\tlearn: 0.8499686\ttest: 0.8499686\ttest1: 0.8257266\tbest: 0.8271632 (90)\ttotal: 5.71s\tremaining: 18.6s\n",
      "94:\tlearn: 0.8497484\ttest: 0.8497484\ttest1: 0.8260581\tbest: 0.8271632 (90)\ttotal: 5.76s\tremaining: 18.5s\n",
      "95:\tlearn: 0.8499686\ttest: 0.8499686\ttest1: 0.8258371\tbest: 0.8271632 (90)\ttotal: 5.82s\tremaining: 18.4s\n",
      "96:\tlearn: 0.8498428\ttest: 0.8498428\ttest1: 0.8263897\tbest: 0.8271632 (90)\ttotal: 5.88s\tremaining: 18.4s\n",
      "97:\tlearn: 0.8498113\ttest: 0.8498113\ttest1: 0.8268317\tbest: 0.8271632 (90)\ttotal: 5.94s\tremaining: 18.3s\n",
      "98:\tlearn: 0.8498113\ttest: 0.8498113\ttest1: 0.8267212\tbest: 0.8271632 (90)\ttotal: 6s\tremaining: 18.2s\n",
      "99:\tlearn: 0.8499371\ttest: 0.8499371\ttest1: 0.8268317\tbest: 0.8271632 (90)\ttotal: 6.06s\tremaining: 18.2s\n",
      "100:\tlearn: 0.8500314\ttest: 0.8500314\ttest1: 0.8263897\tbest: 0.8271632 (90)\ttotal: 6.11s\tremaining: 18.1s\n",
      "101:\tlearn: 0.8502830\ttest: 0.8502830\ttest1: 0.8265002\tbest: 0.8271632 (90)\ttotal: 6.17s\tremaining: 18s\n",
      "102:\tlearn: 0.8506918\ttest: 0.8506918\ttest1: 0.8266107\tbest: 0.8271632 (90)\ttotal: 6.23s\tremaining: 18s\n",
      "103:\tlearn: 0.8514780\ttest: 0.8514780\ttest1: 0.8263897\tbest: 0.8271632 (90)\ttotal: 6.28s\tremaining: 17.9s\n",
      "104:\tlearn: 0.8517925\ttest: 0.8517925\ttest1: 0.8262791\tbest: 0.8271632 (90)\ttotal: 6.33s\tremaining: 17.8s\n",
      "105:\tlearn: 0.8520755\ttest: 0.8520755\ttest1: 0.8272737\tbest: 0.8272737 (105)\ttotal: 6.39s\tremaining: 17.7s\n",
      "106:\tlearn: 0.8515094\ttest: 0.8515094\ttest1: 0.8271632\tbest: 0.8272737 (105)\ttotal: 6.46s\tremaining: 17.7s\n",
      "107:\tlearn: 0.8516352\ttest: 0.8516352\ttest1: 0.8270527\tbest: 0.8272737 (105)\ttotal: 6.51s\tremaining: 17.6s\n",
      "108:\tlearn: 0.8516352\ttest: 0.8516352\ttest1: 0.8277158\tbest: 0.8277158 (108)\ttotal: 6.56s\tremaining: 17.5s\n",
      "109:\tlearn: 0.8512579\ttest: 0.8512579\ttest1: 0.8269422\tbest: 0.8277158 (108)\ttotal: 6.62s\tremaining: 17.5s\n",
      "110:\tlearn: 0.8512264\ttest: 0.8512264\ttest1: 0.8274948\tbest: 0.8277158 (108)\ttotal: 6.68s\tremaining: 17.4s\n",
      "111:\tlearn: 0.8516981\ttest: 0.8516981\ttest1: 0.8263897\tbest: 0.8277158 (108)\ttotal: 6.74s\tremaining: 17.3s\n",
      "112:\tlearn: 0.8519182\ttest: 0.8519182\ttest1: 0.8276053\tbest: 0.8277158 (108)\ttotal: 6.79s\tremaining: 17.3s\n",
      "113:\tlearn: 0.8521069\ttest: 0.8521069\ttest1: 0.8278263\tbest: 0.8278263 (113)\ttotal: 6.86s\tremaining: 17.2s\n",
      "114:\tlearn: 0.8521384\ttest: 0.8521384\ttest1: 0.8277158\tbest: 0.8278263 (113)\ttotal: 6.91s\tremaining: 17.1s\n",
      "115:\tlearn: 0.8522956\ttest: 0.8522956\ttest1: 0.8269422\tbest: 0.8278263 (113)\ttotal: 6.97s\tremaining: 17.1s\n",
      "116:\tlearn: 0.8524528\ttest: 0.8524528\ttest1: 0.8271632\tbest: 0.8278263 (113)\ttotal: 7.02s\tremaining: 17s\n",
      "117:\tlearn: 0.8524528\ttest: 0.8524528\ttest1: 0.8272737\tbest: 0.8278263 (113)\ttotal: 7.09s\tremaining: 16.9s\n",
      "118:\tlearn: 0.8522013\ttest: 0.8522013\ttest1: 0.8272737\tbest: 0.8278263 (113)\ttotal: 7.14s\tremaining: 16.9s\n",
      "119:\tlearn: 0.8520126\ttest: 0.8520126\ttest1: 0.8273842\tbest: 0.8278263 (113)\ttotal: 7.2s\tremaining: 16.8s\n",
      "120:\tlearn: 0.8520126\ttest: 0.8520126\ttest1: 0.8278263\tbest: 0.8278263 (113)\ttotal: 7.26s\tremaining: 16.7s\n",
      "121:\tlearn: 0.8521698\ttest: 0.8521698\ttest1: 0.8281578\tbest: 0.8281578 (121)\ttotal: 7.33s\tremaining: 16.7s\n",
      "122:\tlearn: 0.8522327\ttest: 0.8522327\ttest1: 0.8287104\tbest: 0.8287104 (122)\ttotal: 7.38s\tremaining: 16.6s\n",
      "123:\tlearn: 0.8522642\ttest: 0.8522642\ttest1: 0.8288209\tbest: 0.8288209 (123)\ttotal: 7.43s\tremaining: 16.6s\n",
      "124:\tlearn: 0.8525786\ttest: 0.8525786\ttest1: 0.8294839\tbest: 0.8294839 (124)\ttotal: 7.49s\tremaining: 16.5s\n",
      "125:\tlearn: 0.8526415\ttest: 0.8526415\ttest1: 0.8301470\tbest: 0.8301470 (125)\ttotal: 7.55s\tremaining: 16.4s\n",
      "126:\tlearn: 0.8527673\ttest: 0.8527673\ttest1: 0.8299260\tbest: 0.8301470 (125)\ttotal: 7.6s\tremaining: 16.3s\n",
      "127:\tlearn: 0.8527044\ttest: 0.8527044\ttest1: 0.8300365\tbest: 0.8301470 (125)\ttotal: 7.67s\tremaining: 16.3s\n",
      "128:\tlearn: 0.8527673\ttest: 0.8527673\ttest1: 0.8302575\tbest: 0.8302575 (128)\ttotal: 7.72s\tremaining: 16.2s\n",
      "129:\tlearn: 0.8527987\ttest: 0.8527987\ttest1: 0.8301470\tbest: 0.8302575 (128)\ttotal: 7.78s\tremaining: 16.2s\n",
      "130:\tlearn: 0.8529560\ttest: 0.8529560\ttest1: 0.8306995\tbest: 0.8306995 (130)\ttotal: 7.84s\tremaining: 16.1s\n",
      "131:\tlearn: 0.8531132\ttest: 0.8531132\ttest1: 0.8306995\tbest: 0.8306995 (130)\ttotal: 7.89s\tremaining: 16s\n",
      "132:\tlearn: 0.8529874\ttest: 0.8529874\ttest1: 0.8309205\tbest: 0.8309205 (132)\ttotal: 7.94s\tremaining: 15.9s\n",
      "133:\tlearn: 0.8530818\ttest: 0.8530818\ttest1: 0.8310311\tbest: 0.8310311 (133)\ttotal: 8s\tremaining: 15.9s\n",
      "134:\tlearn: 0.8531447\ttest: 0.8531447\ttest1: 0.8309205\tbest: 0.8310311 (133)\ttotal: 8.06s\tremaining: 15.8s\n",
      "135:\tlearn: 0.8532704\ttest: 0.8532704\ttest1: 0.8311416\tbest: 0.8311416 (135)\ttotal: 8.12s\tremaining: 15.8s\n",
      "136:\tlearn: 0.8533962\ttest: 0.8533962\ttest1: 0.8312521\tbest: 0.8312521 (136)\ttotal: 8.18s\tremaining: 15.7s\n",
      "137:\tlearn: 0.8536164\ttest: 0.8536164\ttest1: 0.8314731\tbest: 0.8314731 (137)\ttotal: 8.24s\tremaining: 15.6s\n",
      "138:\tlearn: 0.8536164\ttest: 0.8536164\ttest1: 0.8314731\tbest: 0.8314731 (137)\ttotal: 8.29s\tremaining: 15.6s\n",
      "139:\tlearn: 0.8536164\ttest: 0.8536164\ttest1: 0.8314731\tbest: 0.8314731 (137)\ttotal: 8.32s\tremaining: 15.5s\n",
      "140:\tlearn: 0.8538050\ttest: 0.8538050\ttest1: 0.8314731\tbest: 0.8314731 (137)\ttotal: 8.38s\tremaining: 15.4s\n",
      "141:\tlearn: 0.8542138\ttest: 0.8542138\ttest1: 0.8316941\tbest: 0.8316941 (141)\ttotal: 8.43s\tremaining: 15.3s\n",
      "142:\tlearn: 0.8538994\ttest: 0.8538994\ttest1: 0.8320256\tbest: 0.8320256 (142)\ttotal: 8.5s\tremaining: 15.3s\n",
      "143:\tlearn: 0.8538994\ttest: 0.8538994\ttest1: 0.8324677\tbest: 0.8324677 (143)\ttotal: 8.56s\tremaining: 15.2s\n",
      "144:\tlearn: 0.8538365\ttest: 0.8538365\ttest1: 0.8319151\tbest: 0.8324677 (143)\ttotal: 8.62s\tremaining: 15.2s\n",
      "145:\tlearn: 0.8544340\ttest: 0.8544340\ttest1: 0.8319151\tbest: 0.8324677 (143)\ttotal: 8.67s\tremaining: 15.1s\n",
      "146:\tlearn: 0.8545283\ttest: 0.8545283\ttest1: 0.8319151\tbest: 0.8324677 (143)\ttotal: 8.73s\tremaining: 15s\n",
      "147:\tlearn: 0.8547170\ttest: 0.8547170\ttest1: 0.8315836\tbest: 0.8324677 (143)\ttotal: 8.79s\tremaining: 15s\n",
      "148:\tlearn: 0.8548428\ttest: 0.8548428\ttest1: 0.8320256\tbest: 0.8324677 (143)\ttotal: 8.84s\tremaining: 14.9s\n",
      "149:\tlearn: 0.8552201\ttest: 0.8552201\ttest1: 0.8323572\tbest: 0.8324677 (143)\ttotal: 8.9s\tremaining: 14.8s\n",
      "150:\tlearn: 0.8552830\ttest: 0.8552830\ttest1: 0.8323572\tbest: 0.8324677 (143)\ttotal: 8.96s\tremaining: 14.8s\n",
      "151:\tlearn: 0.8552516\ttest: 0.8552516\ttest1: 0.8327992\tbest: 0.8327992 (151)\ttotal: 9.02s\tremaining: 14.7s\n",
      "152:\tlearn: 0.8553145\ttest: 0.8553145\ttest1: 0.8327992\tbest: 0.8327992 (151)\ttotal: 9.07s\tremaining: 14.7s\n",
      "153:\tlearn: 0.8555346\ttest: 0.8555346\ttest1: 0.8324677\tbest: 0.8327992 (151)\ttotal: 9.13s\tremaining: 14.6s\n",
      "154:\tlearn: 0.8556918\ttest: 0.8556918\ttest1: 0.8324677\tbest: 0.8327992 (151)\ttotal: 9.19s\tremaining: 14.5s\n",
      "155:\tlearn: 0.8555031\ttest: 0.8555031\ttest1: 0.8325782\tbest: 0.8327992 (151)\ttotal: 9.25s\tremaining: 14.5s\n",
      "156:\tlearn: 0.8554403\ttest: 0.8554403\ttest1: 0.8324677\tbest: 0.8327992 (151)\ttotal: 9.3s\tremaining: 14.4s\n",
      "157:\tlearn: 0.8560692\ttest: 0.8560692\ttest1: 0.8325782\tbest: 0.8327992 (151)\ttotal: 9.36s\tremaining: 14.3s\n",
      "158:\tlearn: 0.8561321\ttest: 0.8561321\ttest1: 0.8327992\tbest: 0.8327992 (151)\ttotal: 9.42s\tremaining: 14.3s\n",
      "159:\tlearn: 0.8561321\ttest: 0.8561321\ttest1: 0.8329097\tbest: 0.8329097 (159)\ttotal: 9.48s\tremaining: 14.2s\n",
      "160:\tlearn: 0.8561006\ttest: 0.8561006\ttest1: 0.8330202\tbest: 0.8330202 (160)\ttotal: 9.53s\tremaining: 14.2s\n",
      "161:\tlearn: 0.8561321\ttest: 0.8561321\ttest1: 0.8329097\tbest: 0.8330202 (160)\ttotal: 9.59s\tremaining: 14.1s\n"
     ]
    },
    {
     "name": "stdout",
     "output_type": "stream",
     "text": [
      "162:\tlearn: 0.8560063\ttest: 0.8560063\ttest1: 0.8327992\tbest: 0.8330202 (160)\ttotal: 9.65s\tremaining: 14s\n",
      "163:\tlearn: 0.8563522\ttest: 0.8563522\ttest1: 0.8329097\tbest: 0.8330202 (160)\ttotal: 9.71s\tremaining: 14s\n",
      "164:\tlearn: 0.8563836\ttest: 0.8563836\ttest1: 0.8329097\tbest: 0.8330202 (160)\ttotal: 9.77s\tremaining: 13.9s\n",
      "165:\tlearn: 0.8564465\ttest: 0.8564465\ttest1: 0.8329097\tbest: 0.8330202 (160)\ttotal: 9.82s\tremaining: 13.8s\n",
      "166:\tlearn: 0.8566352\ttest: 0.8566352\ttest1: 0.8330202\tbest: 0.8330202 (160)\ttotal: 9.89s\tremaining: 13.8s\n",
      "167:\tlearn: 0.8568868\ttest: 0.8568868\ttest1: 0.8330202\tbest: 0.8330202 (160)\ttotal: 9.95s\tremaining: 13.7s\n",
      "168:\tlearn: 0.8566667\ttest: 0.8566667\ttest1: 0.8333518\tbest: 0.8333518 (168)\ttotal: 10s\tremaining: 13.7s\n",
      "169:\tlearn: 0.8566667\ttest: 0.8566667\ttest1: 0.8334623\tbest: 0.8334623 (169)\ttotal: 10.1s\tremaining: 13.6s\n",
      "170:\tlearn: 0.8566981\ttest: 0.8566981\ttest1: 0.8335728\tbest: 0.8335728 (170)\ttotal: 10.1s\tremaining: 13.6s\n",
      "171:\tlearn: 0.8567296\ttest: 0.8567296\ttest1: 0.8336833\tbest: 0.8336833 (171)\ttotal: 10.2s\tremaining: 13.5s\n",
      "172:\tlearn: 0.8568868\ttest: 0.8568868\ttest1: 0.8334623\tbest: 0.8336833 (171)\ttotal: 10.2s\tremaining: 13.4s\n",
      "173:\tlearn: 0.8572013\ttest: 0.8572013\ttest1: 0.8333518\tbest: 0.8336833 (171)\ttotal: 10.3s\tremaining: 13.4s\n",
      "174:\tlearn: 0.8571384\ttest: 0.8571384\ttest1: 0.8335728\tbest: 0.8336833 (171)\ttotal: 10.4s\tremaining: 13.3s\n",
      "175:\tlearn: 0.8571384\ttest: 0.8571384\ttest1: 0.8335728\tbest: 0.8336833 (171)\ttotal: 10.4s\tremaining: 13.3s\n",
      "176:\tlearn: 0.8571069\ttest: 0.8571069\ttest1: 0.8329097\tbest: 0.8336833 (171)\ttotal: 10.5s\tremaining: 13.2s\n",
      "177:\tlearn: 0.8572327\ttest: 0.8572327\ttest1: 0.8331307\tbest: 0.8336833 (171)\ttotal: 10.5s\tremaining: 13.1s\n",
      "178:\tlearn: 0.8569497\ttest: 0.8569497\ttest1: 0.8326887\tbest: 0.8336833 (171)\ttotal: 10.6s\tremaining: 13.1s\n",
      "179:\tlearn: 0.8571698\ttest: 0.8571698\ttest1: 0.8326887\tbest: 0.8336833 (171)\ttotal: 10.7s\tremaining: 13s\n",
      "180:\tlearn: 0.8572013\ttest: 0.8572013\ttest1: 0.8326887\tbest: 0.8336833 (171)\ttotal: 10.7s\tremaining: 13s\n",
      "181:\tlearn: 0.8572013\ttest: 0.8572013\ttest1: 0.8326887\tbest: 0.8336833 (171)\ttotal: 10.7s\tremaining: 12.9s\n",
      "182:\tlearn: 0.8572642\ttest: 0.8572642\ttest1: 0.8325782\tbest: 0.8336833 (171)\ttotal: 10.8s\tremaining: 12.8s\n",
      "183:\tlearn: 0.8573899\ttest: 0.8573899\ttest1: 0.8327992\tbest: 0.8336833 (171)\ttotal: 10.9s\tremaining: 12.8s\n",
      "184:\tlearn: 0.8573270\ttest: 0.8573270\ttest1: 0.8325782\tbest: 0.8336833 (171)\ttotal: 10.9s\tremaining: 12.7s\n",
      "185:\tlearn: 0.8573899\ttest: 0.8573899\ttest1: 0.8325782\tbest: 0.8336833 (171)\ttotal: 11s\tremaining: 12.6s\n",
      "186:\tlearn: 0.8574214\ttest: 0.8574214\ttest1: 0.8330202\tbest: 0.8336833 (171)\ttotal: 11s\tremaining: 12.6s\n",
      "187:\tlearn: 0.8574843\ttest: 0.8574843\ttest1: 0.8330202\tbest: 0.8336833 (171)\ttotal: 11.1s\tremaining: 12.5s\n",
      "188:\tlearn: 0.8574843\ttest: 0.8574843\ttest1: 0.8330202\tbest: 0.8336833 (171)\ttotal: 11.1s\tremaining: 12.4s\n",
      "189:\tlearn: 0.8575157\ttest: 0.8575157\ttest1: 0.8331307\tbest: 0.8336833 (171)\ttotal: 11.2s\tremaining: 12.3s\n",
      "190:\tlearn: 0.8571698\ttest: 0.8571698\ttest1: 0.8334623\tbest: 0.8336833 (171)\ttotal: 11.2s\tremaining: 12.3s\n",
      "191:\tlearn: 0.8571384\ttest: 0.8571384\ttest1: 0.8334623\tbest: 0.8336833 (171)\ttotal: 11.3s\tremaining: 12.2s\n",
      "192:\tlearn: 0.8574528\ttest: 0.8574528\ttest1: 0.8334623\tbest: 0.8336833 (171)\ttotal: 11.4s\tremaining: 12.2s\n",
      "193:\tlearn: 0.8574843\ttest: 0.8574843\ttest1: 0.8336833\tbest: 0.8336833 (171)\ttotal: 11.4s\tremaining: 12.1s\n",
      "194:\tlearn: 0.8575157\ttest: 0.8575157\ttest1: 0.8336833\tbest: 0.8336833 (171)\ttotal: 11.5s\tremaining: 12.1s\n",
      "195:\tlearn: 0.8576415\ttest: 0.8576415\ttest1: 0.8337938\tbest: 0.8337938 (195)\ttotal: 11.5s\tremaining: 12s\n",
      "196:\tlearn: 0.8576730\ttest: 0.8576730\ttest1: 0.8337938\tbest: 0.8337938 (195)\ttotal: 11.6s\tremaining: 11.9s\n",
      "197:\tlearn: 0.8577044\ttest: 0.8577044\ttest1: 0.8340148\tbest: 0.8340148 (197)\ttotal: 11.6s\tremaining: 11.9s\n",
      "198:\tlearn: 0.8576415\ttest: 0.8576415\ttest1: 0.8336833\tbest: 0.8340148 (197)\ttotal: 11.7s\tremaining: 11.8s\n",
      "199:\tlearn: 0.8576415\ttest: 0.8576415\ttest1: 0.8335728\tbest: 0.8340148 (197)\ttotal: 11.8s\tremaining: 11.8s\n",
      "200:\tlearn: 0.8576415\ttest: 0.8576415\ttest1: 0.8335728\tbest: 0.8340148 (197)\ttotal: 11.8s\tremaining: 11.7s\n",
      "201:\tlearn: 0.8577987\ttest: 0.8577987\ttest1: 0.8336833\tbest: 0.8340148 (197)\ttotal: 11.9s\tremaining: 11.6s\n",
      "202:\tlearn: 0.8577673\ttest: 0.8577673\ttest1: 0.8339043\tbest: 0.8340148 (197)\ttotal: 12s\tremaining: 11.6s\n",
      "203:\tlearn: 0.8577358\ttest: 0.8577358\ttest1: 0.8344568\tbest: 0.8344568 (203)\ttotal: 12s\tremaining: 11.5s\n",
      "204:\tlearn: 0.8578931\ttest: 0.8578931\ttest1: 0.8342358\tbest: 0.8344568 (203)\ttotal: 12.1s\tremaining: 11.5s\n",
      "205:\tlearn: 0.8581761\ttest: 0.8581761\ttest1: 0.8340148\tbest: 0.8344568 (203)\ttotal: 12.1s\tremaining: 11.4s\n",
      "206:\tlearn: 0.8582075\ttest: 0.8582075\ttest1: 0.8340148\tbest: 0.8344568 (203)\ttotal: 12.2s\tremaining: 11.4s\n",
      "207:\tlearn: 0.8582075\ttest: 0.8582075\ttest1: 0.8341253\tbest: 0.8344568 (203)\ttotal: 12.2s\tremaining: 11.3s\n",
      "208:\tlearn: 0.8582704\ttest: 0.8582704\ttest1: 0.8341253\tbest: 0.8344568 (203)\ttotal: 12.3s\tremaining: 11.2s\n",
      "209:\tlearn: 0.8585220\ttest: 0.8585220\ttest1: 0.8341253\tbest: 0.8344568 (203)\ttotal: 12.3s\tremaining: 11.2s\n",
      "210:\tlearn: 0.8585220\ttest: 0.8585220\ttest1: 0.8342358\tbest: 0.8344568 (203)\ttotal: 12.4s\tremaining: 11.1s\n",
      "211:\tlearn: 0.8583019\ttest: 0.8583019\ttest1: 0.8341253\tbest: 0.8344568 (203)\ttotal: 12.4s\tremaining: 11s\n",
      "212:\tlearn: 0.8584591\ttest: 0.8584591\ttest1: 0.8341253\tbest: 0.8344568 (203)\ttotal: 12.5s\tremaining: 11s\n",
      "213:\tlearn: 0.8584591\ttest: 0.8584591\ttest1: 0.8341253\tbest: 0.8344568 (203)\ttotal: 12.5s\tremaining: 10.9s\n",
      "214:\tlearn: 0.8583648\ttest: 0.8583648\ttest1: 0.8341253\tbest: 0.8344568 (203)\ttotal: 12.6s\tremaining: 10.8s\n",
      "215:\tlearn: 0.8586164\ttest: 0.8586164\ttest1: 0.8341253\tbest: 0.8344568 (203)\ttotal: 12.7s\tremaining: 10.8s\n",
      "216:\tlearn: 0.8588994\ttest: 0.8588994\ttest1: 0.8337938\tbest: 0.8344568 (203)\ttotal: 12.7s\tremaining: 10.7s\n",
      "217:\tlearn: 0.8588050\ttest: 0.8588050\ttest1: 0.8340148\tbest: 0.8344568 (203)\ttotal: 12.8s\tremaining: 10.7s\n",
      "218:\tlearn: 0.8591195\ttest: 0.8591195\ttest1: 0.8336833\tbest: 0.8344568 (203)\ttotal: 12.8s\tremaining: 10.6s\n",
      "219:\tlearn: 0.8593082\ttest: 0.8593082\ttest1: 0.8336833\tbest: 0.8344568 (203)\ttotal: 12.9s\tremaining: 10.6s\n",
      "220:\tlearn: 0.8593396\ttest: 0.8593396\ttest1: 0.8341253\tbest: 0.8344568 (203)\ttotal: 13s\tremaining: 10.5s\n",
      "221:\tlearn: 0.8593396\ttest: 0.8593396\ttest1: 0.8341253\tbest: 0.8344568 (203)\ttotal: 13s\tremaining: 10.4s\n",
      "222:\tlearn: 0.8594969\ttest: 0.8594969\ttest1: 0.8342358\tbest: 0.8344568 (203)\ttotal: 13.1s\tremaining: 10.4s\n",
      "223:\tlearn: 0.8594340\ttest: 0.8594340\ttest1: 0.8340148\tbest: 0.8344568 (203)\ttotal: 13.1s\tremaining: 10.3s\n",
      "224:\tlearn: 0.8592767\ttest: 0.8592767\ttest1: 0.8340148\tbest: 0.8344568 (203)\ttotal: 13.2s\tremaining: 10.3s\n",
      "225:\tlearn: 0.8594340\ttest: 0.8594340\ttest1: 0.8341253\tbest: 0.8344568 (203)\ttotal: 13.3s\tremaining: 10.2s\n",
      "226:\tlearn: 0.8600314\ttest: 0.8600314\ttest1: 0.8344568\tbest: 0.8344568 (203)\ttotal: 13.3s\tremaining: 10.1s\n",
      "227:\tlearn: 0.8602201\ttest: 0.8602201\ttest1: 0.8343463\tbest: 0.8344568 (203)\ttotal: 13.4s\tremaining: 10.1s\n",
      "228:\tlearn: 0.8607862\ttest: 0.8607862\ttest1: 0.8350094\tbest: 0.8350094 (228)\ttotal: 13.4s\tremaining: 10s\n",
      "229:\tlearn: 0.8610692\ttest: 0.8610692\ttest1: 0.8350094\tbest: 0.8350094 (228)\ttotal: 13.5s\tremaining: 9.97s\n",
      "230:\tlearn: 0.8605660\ttest: 0.8605660\ttest1: 0.8353409\tbest: 0.8353409 (230)\ttotal: 13.6s\tremaining: 9.91s\n",
      "231:\tlearn: 0.8606604\ttest: 0.8606604\ttest1: 0.8356724\tbest: 0.8356724 (231)\ttotal: 13.6s\tremaining: 9.86s\n",
      "232:\tlearn: 0.8608176\ttest: 0.8608176\ttest1: 0.8354514\tbest: 0.8356724 (231)\ttotal: 13.7s\tremaining: 9.8s\n",
      "233:\tlearn: 0.8608176\ttest: 0.8608176\ttest1: 0.8354514\tbest: 0.8356724 (231)\ttotal: 13.7s\tremaining: 9.74s\n",
      "234:\tlearn: 0.8608176\ttest: 0.8608176\ttest1: 0.8354514\tbest: 0.8356724 (231)\ttotal: 13.8s\tremaining: 9.68s\n",
      "235:\tlearn: 0.8606604\ttest: 0.8606604\ttest1: 0.8353409\tbest: 0.8356724 (231)\ttotal: 13.9s\tremaining: 9.63s\n",
      "236:\tlearn: 0.8607547\ttest: 0.8607547\ttest1: 0.8354514\tbest: 0.8356724 (231)\ttotal: 13.9s\tremaining: 9.57s\n",
      "237:\tlearn: 0.8606289\ttest: 0.8606289\ttest1: 0.8354514\tbest: 0.8356724 (231)\ttotal: 14s\tremaining: 9.52s\n",
      "238:\tlearn: 0.8605975\ttest: 0.8605975\ttest1: 0.8353409\tbest: 0.8356724 (231)\ttotal: 14s\tremaining: 9.45s\n"
     ]
    },
    {
     "name": "stdout",
     "output_type": "stream",
     "text": [
      "239:\tlearn: 0.8608491\ttest: 0.8608491\ttest1: 0.8353409\tbest: 0.8356724 (231)\ttotal: 14.1s\tremaining: 9.39s\n",
      "240:\tlearn: 0.8607233\ttest: 0.8607233\ttest1: 0.8346779\tbest: 0.8356724 (231)\ttotal: 14.2s\tremaining: 9.34s\n",
      "241:\tlearn: 0.8606918\ttest: 0.8606918\ttest1: 0.8350094\tbest: 0.8356724 (231)\ttotal: 14.2s\tremaining: 9.27s\n",
      "242:\tlearn: 0.8608176\ttest: 0.8608176\ttest1: 0.8351199\tbest: 0.8356724 (231)\ttotal: 14.3s\tremaining: 9.21s\n",
      "243:\tlearn: 0.8608176\ttest: 0.8608176\ttest1: 0.8351199\tbest: 0.8356724 (231)\ttotal: 14.3s\tremaining: 9.14s\n",
      "244:\tlearn: 0.8608176\ttest: 0.8608176\ttest1: 0.8350094\tbest: 0.8356724 (231)\ttotal: 14.4s\tremaining: 9.08s\n",
      "245:\tlearn: 0.8611321\ttest: 0.8611321\ttest1: 0.8351199\tbest: 0.8356724 (231)\ttotal: 14.4s\tremaining: 9.03s\n",
      "246:\tlearn: 0.8611950\ttest: 0.8611950\ttest1: 0.8350094\tbest: 0.8356724 (231)\ttotal: 14.5s\tremaining: 9s\n",
      "247:\tlearn: 0.8611635\ttest: 0.8611635\ttest1: 0.8351199\tbest: 0.8356724 (231)\ttotal: 14.6s\tremaining: 8.98s\n",
      "248:\tlearn: 0.8610377\ttest: 0.8610377\ttest1: 0.8352304\tbest: 0.8356724 (231)\ttotal: 14.8s\tremaining: 8.95s\n",
      "249:\tlearn: 0.8610692\ttest: 0.8610692\ttest1: 0.8347884\tbest: 0.8356724 (231)\ttotal: 14.9s\tremaining: 8.93s\n",
      "250:\tlearn: 0.8610692\ttest: 0.8610692\ttest1: 0.8345674\tbest: 0.8356724 (231)\ttotal: 15s\tremaining: 8.9s\n",
      "251:\tlearn: 0.8611321\ttest: 0.8611321\ttest1: 0.8348989\tbest: 0.8356724 (231)\ttotal: 15.1s\tremaining: 8.87s\n",
      "252:\tlearn: 0.8611321\ttest: 0.8611321\ttest1: 0.8348989\tbest: 0.8356724 (231)\ttotal: 15.2s\tremaining: 8.84s\n",
      "253:\tlearn: 0.8611006\ttest: 0.8611006\ttest1: 0.8347884\tbest: 0.8356724 (231)\ttotal: 15.3s\tremaining: 8.81s\n",
      "254:\tlearn: 0.8611006\ttest: 0.8611006\ttest1: 0.8347884\tbest: 0.8356724 (231)\ttotal: 15.4s\tremaining: 8.74s\n",
      "255:\tlearn: 0.8611635\ttest: 0.8611635\ttest1: 0.8347884\tbest: 0.8356724 (231)\ttotal: 15.5s\tremaining: 8.71s\n",
      "256:\tlearn: 0.8611635\ttest: 0.8611635\ttest1: 0.8348989\tbest: 0.8356724 (231)\ttotal: 15.6s\tremaining: 8.68s\n",
      "257:\tlearn: 0.8611950\ttest: 0.8611950\ttest1: 0.8348989\tbest: 0.8356724 (231)\ttotal: 15.7s\tremaining: 8.64s\n",
      "258:\tlearn: 0.8610692\ttest: 0.8610692\ttest1: 0.8346779\tbest: 0.8356724 (231)\ttotal: 15.8s\tremaining: 8.61s\n",
      "259:\tlearn: 0.8610692\ttest: 0.8610692\ttest1: 0.8347884\tbest: 0.8356724 (231)\ttotal: 15.9s\tremaining: 8.58s\n",
      "260:\tlearn: 0.8611635\ttest: 0.8611635\ttest1: 0.8348989\tbest: 0.8356724 (231)\ttotal: 16.1s\tremaining: 8.55s\n",
      "261:\tlearn: 0.8614151\ttest: 0.8614151\ttest1: 0.8347884\tbest: 0.8356724 (231)\ttotal: 16.2s\tremaining: 8.51s\n",
      "Stopped by overfitting detector  (30 iterations wait)\n",
      "\n",
      "bestTest = 0.83567245\n",
      "bestIteration = 231\n",
      "\n",
      "Shrink model to first 232 iterations.\n"
     ]
    },
    {
     "data": {
      "text/plain": [
       "<catboost.core.CatBoostClassifier at 0x1a7888d358>"
      ]
     },
     "execution_count": 1030,
     "metadata": {},
     "output_type": "execute_result"
    }
   ],
   "source": [
    "catb_ros.fit(X_resampled,y_resampled,eval_set=[(X_resampled,y_resampled), (X_test,y_test)],early_stopping_rounds=30)"
   ]
  },
  {
   "cell_type": "code",
   "execution_count": 1031,
   "metadata": {},
   "outputs": [
    {
     "name": "stdout",
     "output_type": "stream",
     "text": [
      "Accuracy on test data: 83.567245%\n",
      "Accuracy on training data: 86.066038%\n",
      "Area under the ROC curve : 0.844897\n"
     ]
    }
   ],
   "source": [
    "print('Accuracy on test data: %f%%' % (metrics.accuracy_score(y_test, catb_ros.predict(X_test))*100))\n",
    "print('Accuracy on training data: %f%%' % (metrics.accuracy_score(y_resampled, catb_ros.predict(X_resampled))*100))\n",
    "print('Area under the ROC curve : %f' % (metrics.roc_auc_score(y_test, catb_ros.predict(X_test))))"
   ]
  },
  {
   "cell_type": "markdown",
   "metadata": {},
   "source": [
    "### SMOTE"
   ]
  },
  {
   "cell_type": "code",
   "execution_count": 1035,
   "metadata": {},
   "outputs": [],
   "source": [
    "from imblearn.over_sampling import SMOTE"
   ]
  },
  {
   "cell_type": "code",
   "execution_count": 1061,
   "metadata": {},
   "outputs": [],
   "source": [
    "smt = SMOTE(random_state=10,sampling_strategy=0.7)\n",
    "X_train_smt, y_train_smt = smt.fit_sample(X_train, y_train)"
   ]
  },
  {
   "cell_type": "code",
   "execution_count": 1062,
   "metadata": {},
   "outputs": [
    {
     "data": {
      "text/plain": [
       "0    15900\n",
       "1     5213\n",
       "Name: income, dtype: int64"
      ]
     },
     "execution_count": 1062,
     "metadata": {},
     "output_type": "execute_result"
    }
   ],
   "source": [
    "y_train.value_counts()"
   ]
  },
  {
   "cell_type": "code",
   "execution_count": 1063,
   "metadata": {},
   "outputs": [
    {
     "data": {
      "text/plain": [
       "array([15900, 11130])"
      ]
     },
     "execution_count": 1063,
     "metadata": {},
     "output_type": "execute_result"
    }
   ],
   "source": [
    "np.bincount(y_train_smt)"
   ]
  },
  {
   "cell_type": "code",
   "execution_count": 1064,
   "metadata": {},
   "outputs": [],
   "source": [
    "catb_smote = CatBoostClassifier(learning_rate=0.1,iterations=400,verbose=1,random_seed=10,eval_metric='Accuracy')"
   ]
  },
  {
   "cell_type": "code",
   "execution_count": 1065,
   "metadata": {},
   "outputs": [
    {
     "name": "stdout",
     "output_type": "stream",
     "text": [
      "0:\tlearn: 0.7903071\ttest: 0.7903071\ttest1: 0.7648359\tbest: 0.7648359 (0)\ttotal: 60.5ms\tremaining: 24.2s\n",
      "1:\tlearn: 0.8045875\ttest: 0.8045875\ttest1: 0.7898110\tbest: 0.7898110 (1)\ttotal: 121ms\tremaining: 24.1s\n",
      "2:\tlearn: 0.8081391\ttest: 0.8081391\ttest1: 0.8255056\tbest: 0.8255056 (2)\ttotal: 178ms\tremaining: 23.6s\n",
      "3:\tlearn: 0.8144654\ttest: 0.8144654\ttest1: 0.8228534\tbest: 0.8255056 (2)\ttotal: 232ms\tremaining: 23s\n",
      "4:\tlearn: 0.8145394\ttest: 0.8145394\ttest1: 0.8246215\tbest: 0.8255056 (2)\ttotal: 309ms\tremaining: 24.4s\n",
      "5:\tlearn: 0.8156493\ttest: 0.8156493\ttest1: 0.8077136\tbest: 0.8255056 (2)\ttotal: 372ms\tremaining: 24.5s\n",
      "6:\tlearn: 0.8164632\ttest: 0.8164632\ttest1: 0.8093712\tbest: 0.8255056 (2)\ttotal: 446ms\tremaining: 25.1s\n",
      "7:\tlearn: 0.8172771\ttest: 0.8172771\ttest1: 0.8113604\tbest: 0.8255056 (2)\ttotal: 513ms\tremaining: 25.1s\n",
      "8:\tlearn: 0.8187199\ttest: 0.8187199\ttest1: 0.8123550\tbest: 0.8255056 (2)\ttotal: 621ms\tremaining: 27s\n",
      "9:\tlearn: 0.8183870\ttest: 0.8183870\ttest1: 0.8097027\tbest: 0.8255056 (2)\ttotal: 679ms\tremaining: 26.5s\n",
      "10:\tlearn: 0.8217536\ttest: 0.8217536\ttest1: 0.8165543\tbest: 0.8255056 (2)\ttotal: 745ms\tremaining: 26.4s\n",
      "11:\tlearn: 0.8246393\ttest: 0.8246393\ttest1: 0.8230744\tbest: 0.8255056 (2)\ttotal: 806ms\tremaining: 26.1s\n",
      "12:\tlearn: 0.8283019\ttest: 0.8283019\ttest1: 0.8279368\tbest: 0.8279368 (12)\ttotal: 864ms\tremaining: 25.7s\n",
      "13:\tlearn: 0.8269700\ttest: 0.8269700\ttest1: 0.8181014\tbest: 0.8279368 (12)\ttotal: 928ms\tremaining: 25.6s\n",
      "14:\tlearn: 0.8288938\ttest: 0.8288938\ttest1: 0.8279368\tbest: 0.8279368 (12)\ttotal: 1.04s\tremaining: 26.7s\n",
      "15:\tlearn: 0.8307806\ttest: 0.8307806\ttest1: 0.8288209\tbest: 0.8288209 (15)\ttotal: 1.11s\tremaining: 26.8s\n",
      "16:\tlearn: 0.8343322\ttest: 0.8343322\ttest1: 0.8316941\tbest: 0.8316941 (16)\ttotal: 1.17s\tremaining: 26.4s\n",
      "17:\tlearn: 0.8395856\ttest: 0.8395856\ttest1: 0.8304785\tbest: 0.8316941 (16)\ttotal: 1.24s\tremaining: 26.3s\n",
      "18:\tlearn: 0.8396226\ttest: 0.8396226\ttest1: 0.8300365\tbest: 0.8316941 (16)\ttotal: 1.32s\tremaining: 26.5s\n",
      "19:\tlearn: 0.8420644\ttest: 0.8420644\ttest1: 0.8287104\tbest: 0.8316941 (16)\ttotal: 1.38s\tremaining: 26.2s\n",
      "20:\tlearn: 0.8433222\ttest: 0.8433222\ttest1: 0.8290419\tbest: 0.8316941 (16)\ttotal: 1.43s\tremaining: 25.9s\n",
      "21:\tlearn: 0.8445801\ttest: 0.8445801\ttest1: 0.8299260\tbest: 0.8316941 (16)\ttotal: 1.49s\tremaining: 25.5s\n",
      "22:\tlearn: 0.8450980\ttest: 0.8450980\ttest1: 0.8297049\tbest: 0.8316941 (16)\ttotal: 1.55s\tremaining: 25.5s\n",
      "23:\tlearn: 0.8462449\ttest: 0.8462449\ttest1: 0.8311416\tbest: 0.8316941 (16)\ttotal: 1.61s\tremaining: 25.3s\n",
      "24:\tlearn: 0.8463929\ttest: 0.8463929\ttest1: 0.8320256\tbest: 0.8320256 (24)\ttotal: 1.67s\tremaining: 25s\n",
      "25:\tlearn: 0.8468368\ttest: 0.8468368\ttest1: 0.8320256\tbest: 0.8320256 (24)\ttotal: 1.72s\tremaining: 24.8s\n",
      "26:\tlearn: 0.8473178\ttest: 0.8473178\ttest1: 0.8320256\tbest: 0.8320256 (24)\ttotal: 1.8s\tremaining: 24.9s\n",
      "27:\tlearn: 0.8475398\ttest: 0.8475398\ttest1: 0.8329097\tbest: 0.8329097 (27)\ttotal: 1.86s\tremaining: 24.7s\n",
      "28:\tlearn: 0.8475398\ttest: 0.8475398\ttest1: 0.8330202\tbest: 0.8330202 (28)\ttotal: 1.93s\tremaining: 24.7s\n",
      "29:\tlearn: 0.8486127\ttest: 0.8486127\ttest1: 0.8342358\tbest: 0.8342358 (29)\ttotal: 2.09s\tremaining: 25.8s\n",
      "30:\tlearn: 0.8489086\ttest: 0.8489086\ttest1: 0.8332412\tbest: 0.8342358 (29)\ttotal: 2.25s\tremaining: 26.8s\n",
      "31:\tlearn: 0.8497225\ttest: 0.8497225\ttest1: 0.8340148\tbest: 0.8342358 (29)\ttotal: 2.37s\tremaining: 27.3s\n",
      "32:\tlearn: 0.8499445\ttest: 0.8499445\ttest1: 0.8346779\tbest: 0.8346779 (32)\ttotal: 2.44s\tremaining: 27.1s\n",
      "33:\tlearn: 0.8508694\ttest: 0.8508694\ttest1: 0.8357830\tbest: 0.8357830 (33)\ttotal: 2.5s\tremaining: 27s\n",
      "34:\tlearn: 0.8514613\ttest: 0.8514613\ttest1: 0.8348989\tbest: 0.8357830 (33)\ttotal: 2.56s\tremaining: 26.8s\n",
      "35:\tlearn: 0.8523492\ttest: 0.8523492\ttest1: 0.8364460\tbest: 0.8364460 (35)\ttotal: 2.65s\tremaining: 26.8s\n",
      "36:\tlearn: 0.8531632\ttest: 0.8531632\ttest1: 0.8364460\tbest: 0.8364460 (35)\ttotal: 2.72s\tremaining: 26.6s\n",
      "37:\tlearn: 0.8537921\ttest: 0.8537921\ttest1: 0.8361145\tbest: 0.8364460 (35)\ttotal: 2.77s\tremaining: 26.4s\n",
      "38:\tlearn: 0.8546060\ttest: 0.8546060\ttest1: 0.8367775\tbest: 0.8367775 (38)\ttotal: 2.83s\tremaining: 26.2s\n",
      "39:\tlearn: 0.8560118\ttest: 0.8560118\ttest1: 0.8398718\tbest: 0.8398718 (39)\ttotal: 2.9s\tremaining: 26.1s\n",
      "40:\tlearn: 0.8560118\ttest: 0.8560118\ttest1: 0.8399823\tbest: 0.8399823 (40)\ttotal: 2.97s\tremaining: 26s\n",
      "41:\tlearn: 0.8556789\ttest: 0.8556789\ttest1: 0.8387667\tbest: 0.8399823 (40)\ttotal: 3.02s\tremaining: 25.8s\n",
      "42:\tlearn: 0.8563448\ttest: 0.8563448\ttest1: 0.8385457\tbest: 0.8399823 (40)\ttotal: 3.08s\tremaining: 25.6s\n",
      "43:\tlearn: 0.8568627\ttest: 0.8568627\ttest1: 0.8389877\tbest: 0.8399823 (40)\ttotal: 3.15s\tremaining: 25.5s\n",
      "44:\tlearn: 0.8572697\ttest: 0.8572697\ttest1: 0.8393193\tbest: 0.8399823 (40)\ttotal: 3.21s\tremaining: 25.3s\n",
      "45:\tlearn: 0.8575287\ttest: 0.8575287\ttest1: 0.8390982\tbest: 0.8399823 (40)\ttotal: 3.26s\tremaining: 25.1s\n",
      "46:\tlearn: 0.8581206\ttest: 0.8581206\ttest1: 0.8407559\tbest: 0.8407559 (46)\ttotal: 3.32s\tremaining: 24.9s\n",
      "47:\tlearn: 0.8589715\ttest: 0.8589715\ttest1: 0.8413084\tbest: 0.8413084 (47)\ttotal: 3.39s\tremaining: 24.9s\n",
      "48:\tlearn: 0.8595634\ttest: 0.8595634\ttest1: 0.8426345\tbest: 0.8426345 (48)\ttotal: 3.46s\tremaining: 24.8s\n",
      "49:\tlearn: 0.8605623\ttest: 0.8605623\ttest1: 0.8435186\tbest: 0.8435186 (49)\ttotal: 3.55s\tremaining: 24.8s\n",
      "50:\tlearn: 0.8611913\ttest: 0.8611913\ttest1: 0.8427451\tbest: 0.8435186 (49)\ttotal: 3.63s\tremaining: 24.8s\n",
      "51:\tlearn: 0.8617092\ttest: 0.8617092\ttest1: 0.8432976\tbest: 0.8435186 (49)\ttotal: 3.69s\tremaining: 24.7s\n",
      "52:\tlearn: 0.8625971\ttest: 0.8625971\ttest1: 0.8429661\tbest: 0.8435186 (49)\ttotal: 3.77s\tremaining: 24.7s\n",
      "53:\tlearn: 0.8627821\ttest: 0.8627821\ttest1: 0.8428556\tbest: 0.8435186 (49)\ttotal: 3.94s\tremaining: 25.3s\n",
      "54:\tlearn: 0.8630411\ttest: 0.8630411\ttest1: 0.8431871\tbest: 0.8435186 (49)\ttotal: 4.09s\tremaining: 25.7s\n",
      "55:\tlearn: 0.8631890\ttest: 0.8631890\ttest1: 0.8436291\tbest: 0.8436291 (55)\ttotal: 4.24s\tremaining: 26.1s\n",
      "56:\tlearn: 0.8633370\ttest: 0.8633370\ttest1: 0.8432976\tbest: 0.8436291 (55)\ttotal: 4.33s\tremaining: 26.1s\n",
      "57:\tlearn: 0.8633740\ttest: 0.8633740\ttest1: 0.8439607\tbest: 0.8439607 (57)\ttotal: 4.39s\tremaining: 25.9s\n",
      "58:\tlearn: 0.8642619\ttest: 0.8642619\ttest1: 0.8445132\tbest: 0.8445132 (58)\ttotal: 4.48s\tremaining: 25.9s\n",
      "59:\tlearn: 0.8645949\ttest: 0.8645949\ttest1: 0.8446237\tbest: 0.8446237 (59)\ttotal: 4.54s\tremaining: 25.8s\n",
      "60:\tlearn: 0.8644469\ttest: 0.8644469\ttest1: 0.8441817\tbest: 0.8446237 (59)\ttotal: 4.61s\tremaining: 25.6s\n",
      "61:\tlearn: 0.8643729\ttest: 0.8643729\ttest1: 0.8450658\tbest: 0.8450658 (61)\ttotal: 4.68s\tremaining: 25.5s\n",
      "62:\tlearn: 0.8647799\ttest: 0.8647799\ttest1: 0.8453973\tbest: 0.8453973 (62)\ttotal: 4.76s\tremaining: 25.5s\n",
      "63:\tlearn: 0.8647429\ttest: 0.8647429\ttest1: 0.8451763\tbest: 0.8453973 (62)\ttotal: 4.82s\tremaining: 25.3s\n",
      "64:\tlearn: 0.8647429\ttest: 0.8647429\ttest1: 0.8449552\tbest: 0.8453973 (62)\ttotal: 4.88s\tremaining: 25.1s\n",
      "65:\tlearn: 0.8655568\ttest: 0.8655568\ttest1: 0.8458393\tbest: 0.8458393 (65)\ttotal: 4.93s\tremaining: 25s\n",
      "66:\tlearn: 0.8656678\ttest: 0.8656678\ttest1: 0.8456183\tbest: 0.8458393 (65)\ttotal: 5s\tremaining: 24.9s\n",
      "67:\tlearn: 0.8658158\ttest: 0.8658158\ttest1: 0.8452868\tbest: 0.8458393 (65)\ttotal: 5.06s\tremaining: 24.7s\n",
      "68:\tlearn: 0.8657788\ttest: 0.8657788\ttest1: 0.8455078\tbest: 0.8458393 (65)\ttotal: 5.11s\tremaining: 24.5s\n",
      "69:\tlearn: 0.8662967\ttest: 0.8662967\ttest1: 0.8453973\tbest: 0.8458393 (65)\ttotal: 5.17s\tremaining: 24.4s\n",
      "70:\tlearn: 0.8660007\ttest: 0.8660007\ttest1: 0.8450658\tbest: 0.8458393 (65)\ttotal: 5.23s\tremaining: 24.3s\n",
      "71:\tlearn: 0.8664077\ttest: 0.8664077\ttest1: 0.8453973\tbest: 0.8458393 (65)\ttotal: 5.3s\tremaining: 24.1s\n",
      "72:\tlearn: 0.8662967\ttest: 0.8662967\ttest1: 0.8459498\tbest: 0.8459498 (72)\ttotal: 5.39s\tremaining: 24.1s\n",
      "73:\tlearn: 0.8667407\ttest: 0.8667407\ttest1: 0.8452868\tbest: 0.8459498 (72)\ttotal: 5.46s\tremaining: 24s\n",
      "74:\tlearn: 0.8664817\ttest: 0.8664817\ttest1: 0.8455078\tbest: 0.8459498 (72)\ttotal: 5.52s\tremaining: 23.9s\n",
      "75:\tlearn: 0.8667037\ttest: 0.8667037\ttest1: 0.8456183\tbest: 0.8459498 (72)\ttotal: 5.57s\tremaining: 23.8s\n",
      "76:\tlearn: 0.8669626\ttest: 0.8669626\ttest1: 0.8463919\tbest: 0.8463919 (76)\ttotal: 5.63s\tremaining: 23.6s\n",
      "77:\tlearn: 0.8671106\ttest: 0.8671106\ttest1: 0.8469444\tbest: 0.8469444 (77)\ttotal: 5.75s\tremaining: 23.7s\n",
      "78:\tlearn: 0.8675546\ttest: 0.8675546\ttest1: 0.8473865\tbest: 0.8473865 (78)\ttotal: 5.91s\tremaining: 24s\n"
     ]
    },
    {
     "name": "stdout",
     "output_type": "stream",
     "text": [
      "79:\tlearn: 0.8672586\ttest: 0.8672586\ttest1: 0.8470549\tbest: 0.8473865 (78)\ttotal: 6.05s\tremaining: 24.2s\n",
      "80:\tlearn: 0.8672586\ttest: 0.8672586\ttest1: 0.8469444\tbest: 0.8473865 (78)\ttotal: 6.1s\tremaining: 24s\n",
      "81:\tlearn: 0.8676656\ttest: 0.8676656\ttest1: 0.8476075\tbest: 0.8476075 (81)\ttotal: 6.16s\tremaining: 23.9s\n",
      "82:\tlearn: 0.8677026\ttest: 0.8677026\ttest1: 0.8479390\tbest: 0.8479390 (82)\ttotal: 6.22s\tremaining: 23.7s\n",
      "83:\tlearn: 0.8679615\ttest: 0.8679615\ttest1: 0.8478285\tbest: 0.8479390 (82)\ttotal: 6.31s\tremaining: 23.7s\n",
      "84:\tlearn: 0.8682945\ttest: 0.8682945\ttest1: 0.8479390\tbest: 0.8479390 (82)\ttotal: 6.37s\tremaining: 23.6s\n",
      "85:\tlearn: 0.8684425\ttest: 0.8684425\ttest1: 0.8478285\tbest: 0.8479390 (82)\ttotal: 6.42s\tremaining: 23.4s\n",
      "86:\tlearn: 0.8679985\ttest: 0.8679985\ttest1: 0.8474970\tbest: 0.8479390 (82)\ttotal: 6.48s\tremaining: 23.3s\n",
      "87:\tlearn: 0.8684055\ttest: 0.8684055\ttest1: 0.8476075\tbest: 0.8479390 (82)\ttotal: 6.55s\tremaining: 23.2s\n",
      "88:\tlearn: 0.8687384\ttest: 0.8687384\ttest1: 0.8476075\tbest: 0.8479390 (82)\ttotal: 6.69s\tremaining: 23.4s\n",
      "89:\tlearn: 0.8687384\ttest: 0.8687384\ttest1: 0.8479390\tbest: 0.8479390 (82)\ttotal: 6.82s\tremaining: 23.5s\n",
      "90:\tlearn: 0.8689604\ttest: 0.8689604\ttest1: 0.8481600\tbest: 0.8481600 (90)\ttotal: 6.94s\tremaining: 23.6s\n",
      "91:\tlearn: 0.8703293\ttest: 0.8703293\ttest1: 0.8478285\tbest: 0.8481600 (90)\ttotal: 7.11s\tremaining: 23.8s\n",
      "92:\tlearn: 0.8708102\ttest: 0.8708102\ttest1: 0.8474970\tbest: 0.8481600 (90)\ttotal: 7.37s\tremaining: 24.3s\n",
      "93:\tlearn: 0.8709952\ttest: 0.8709952\ttest1: 0.8480495\tbest: 0.8481600 (90)\ttotal: 7.63s\tremaining: 24.8s\n",
      "94:\tlearn: 0.8715501\ttest: 0.8715501\ttest1: 0.8480495\tbest: 0.8481600 (90)\ttotal: 7.7s\tremaining: 24.7s\n",
      "95:\tlearn: 0.8718831\ttest: 0.8718831\ttest1: 0.8482705\tbest: 0.8482705 (95)\ttotal: 7.82s\tremaining: 24.8s\n",
      "96:\tlearn: 0.8715131\ttest: 0.8715131\ttest1: 0.8484915\tbest: 0.8484915 (96)\ttotal: 7.99s\tremaining: 24.9s\n",
      "97:\tlearn: 0.8717351\ttest: 0.8717351\ttest1: 0.8488231\tbest: 0.8488231 (97)\ttotal: 8.16s\tremaining: 25.1s\n",
      "98:\tlearn: 0.8713651\ttest: 0.8713651\ttest1: 0.8486021\tbest: 0.8488231 (97)\ttotal: 8.29s\tremaining: 25.2s\n",
      "99:\tlearn: 0.8711802\ttest: 0.8711802\ttest1: 0.8489336\tbest: 0.8489336 (99)\ttotal: 8.37s\tremaining: 25.1s\n",
      "100:\tlearn: 0.8715871\ttest: 0.8715871\ttest1: 0.8495966\tbest: 0.8495966 (100)\ttotal: 8.42s\tremaining: 24.9s\n",
      "101:\tlearn: 0.8714761\ttest: 0.8714761\ttest1: 0.8494861\tbest: 0.8495966 (100)\ttotal: 8.48s\tremaining: 24.8s\n",
      "102:\tlearn: 0.8716611\ttest: 0.8716611\ttest1: 0.8495966\tbest: 0.8495966 (100)\ttotal: 8.58s\tremaining: 24.8s\n",
      "103:\tlearn: 0.8716611\ttest: 0.8716611\ttest1: 0.8491546\tbest: 0.8495966 (100)\ttotal: 8.73s\tremaining: 24.8s\n",
      "104:\tlearn: 0.8717351\ttest: 0.8717351\ttest1: 0.8489336\tbest: 0.8495966 (100)\ttotal: 8.95s\tremaining: 25.1s\n",
      "105:\tlearn: 0.8719941\ttest: 0.8719941\ttest1: 0.8489336\tbest: 0.8495966 (100)\ttotal: 9.12s\tremaining: 25.3s\n",
      "106:\tlearn: 0.8723640\ttest: 0.8723640\ttest1: 0.8493756\tbest: 0.8495966 (100)\ttotal: 9.26s\tremaining: 25.3s\n",
      "107:\tlearn: 0.8726600\ttest: 0.8726600\ttest1: 0.8500387\tbest: 0.8500387 (107)\ttotal: 9.32s\tremaining: 25.2s\n",
      "108:\tlearn: 0.8731410\ttest: 0.8731410\ttest1: 0.8503702\tbest: 0.8503702 (108)\ttotal: 9.4s\tremaining: 25.1s\n",
      "109:\tlearn: 0.8731040\ttest: 0.8731040\ttest1: 0.8497071\tbest: 0.8503702 (108)\ttotal: 9.51s\tremaining: 25.1s\n",
      "110:\tlearn: 0.8732889\ttest: 0.8732889\ttest1: 0.8504807\tbest: 0.8504807 (110)\ttotal: 9.57s\tremaining: 24.9s\n",
      "111:\tlearn: 0.8735109\ttest: 0.8735109\ttest1: 0.8503702\tbest: 0.8504807 (110)\ttotal: 9.63s\tremaining: 24.8s\n",
      "112:\tlearn: 0.8735479\ttest: 0.8735479\ttest1: 0.8490441\tbest: 0.8504807 (110)\ttotal: 9.68s\tremaining: 24.6s\n",
      "113:\tlearn: 0.8735849\ttest: 0.8735849\ttest1: 0.8490441\tbest: 0.8504807 (110)\ttotal: 9.75s\tremaining: 24.5s\n",
      "114:\tlearn: 0.8740289\ttest: 0.8740289\ttest1: 0.8497071\tbest: 0.8504807 (110)\ttotal: 9.95s\tremaining: 24.7s\n",
      "115:\tlearn: 0.8738439\ttest: 0.8738439\ttest1: 0.8497071\tbest: 0.8504807 (110)\ttotal: 10.1s\tremaining: 24.8s\n",
      "116:\tlearn: 0.8739549\ttest: 0.8739549\ttest1: 0.8501492\tbest: 0.8504807 (110)\ttotal: 10.2s\tremaining: 24.7s\n",
      "117:\tlearn: 0.8738069\ttest: 0.8738069\ttest1: 0.8502597\tbest: 0.8504807 (110)\ttotal: 10.3s\tremaining: 24.6s\n",
      "118:\tlearn: 0.8735479\ttest: 0.8735479\ttest1: 0.8503702\tbest: 0.8504807 (110)\ttotal: 10.4s\tremaining: 24.5s\n",
      "119:\tlearn: 0.8738439\ttest: 0.8738439\ttest1: 0.8501492\tbest: 0.8504807 (110)\ttotal: 10.4s\tremaining: 24.4s\n",
      "120:\tlearn: 0.8739179\ttest: 0.8739179\ttest1: 0.8503702\tbest: 0.8504807 (110)\ttotal: 10.5s\tremaining: 24.2s\n",
      "121:\tlearn: 0.8741768\ttest: 0.8741768\ttest1: 0.8504807\tbest: 0.8504807 (110)\ttotal: 10.6s\tremaining: 24s\n",
      "122:\tlearn: 0.8744358\ttest: 0.8744358\ttest1: 0.8501492\tbest: 0.8504807 (110)\ttotal: 10.7s\tremaining: 24.1s\n",
      "123:\tlearn: 0.8745838\ttest: 0.8745838\ttest1: 0.8501492\tbest: 0.8504807 (110)\ttotal: 10.8s\tremaining: 24.1s\n",
      "124:\tlearn: 0.8749168\ttest: 0.8749168\ttest1: 0.8505912\tbest: 0.8505912 (124)\ttotal: 11s\tremaining: 24.2s\n",
      "125:\tlearn: 0.8750277\ttest: 0.8750277\ttest1: 0.8507017\tbest: 0.8507017 (125)\ttotal: 11.1s\tremaining: 24.2s\n",
      "126:\tlearn: 0.8752127\ttest: 0.8752127\ttest1: 0.8509228\tbest: 0.8509228 (126)\ttotal: 11.2s\tremaining: 24.1s\n",
      "127:\tlearn: 0.8753237\ttest: 0.8753237\ttest1: 0.8508122\tbest: 0.8509228 (126)\ttotal: 11.3s\tremaining: 24s\n",
      "128:\tlearn: 0.8753237\ttest: 0.8753237\ttest1: 0.8508122\tbest: 0.8509228 (126)\ttotal: 11.4s\tremaining: 23.9s\n",
      "129:\tlearn: 0.8754347\ttest: 0.8754347\ttest1: 0.8509228\tbest: 0.8509228 (126)\ttotal: 11.4s\tremaining: 23.8s\n",
      "130:\tlearn: 0.8754717\ttest: 0.8754717\ttest1: 0.8509228\tbest: 0.8509228 (126)\ttotal: 11.5s\tremaining: 23.6s\n",
      "131:\tlearn: 0.8753977\ttest: 0.8753977\ttest1: 0.8511438\tbest: 0.8511438 (131)\ttotal: 11.6s\tremaining: 23.5s\n",
      "132:\tlearn: 0.8751757\ttest: 0.8751757\ttest1: 0.8518068\tbest: 0.8518068 (132)\ttotal: 11.6s\tremaining: 23.3s\n",
      "133:\tlearn: 0.8752127\ttest: 0.8752127\ttest1: 0.8516963\tbest: 0.8518068 (132)\ttotal: 11.7s\tremaining: 23.3s\n",
      "134:\tlearn: 0.8753977\ttest: 0.8753977\ttest1: 0.8518068\tbest: 0.8518068 (132)\ttotal: 11.9s\tremaining: 23.4s\n",
      "135:\tlearn: 0.8755457\ttest: 0.8755457\ttest1: 0.8519173\tbest: 0.8519173 (135)\ttotal: 12.1s\tremaining: 23.5s\n",
      "136:\tlearn: 0.8757677\ttest: 0.8757677\ttest1: 0.8511438\tbest: 0.8519173 (135)\ttotal: 12.3s\tremaining: 23.5s\n",
      "137:\tlearn: 0.8756937\ttest: 0.8756937\ttest1: 0.8516963\tbest: 0.8519173 (135)\ttotal: 12.4s\tremaining: 23.5s\n",
      "138:\tlearn: 0.8758417\ttest: 0.8758417\ttest1: 0.8513648\tbest: 0.8519173 (135)\ttotal: 12.4s\tremaining: 23.4s\n",
      "139:\tlearn: 0.8759156\ttest: 0.8759156\ttest1: 0.8514753\tbest: 0.8519173 (135)\ttotal: 12.5s\tremaining: 23.2s\n",
      "140:\tlearn: 0.8762116\ttest: 0.8762116\ttest1: 0.8512543\tbest: 0.8519173 (135)\ttotal: 12.6s\tremaining: 23.1s\n",
      "141:\tlearn: 0.8761376\ttest: 0.8761376\ttest1: 0.8509228\tbest: 0.8519173 (135)\ttotal: 12.7s\tremaining: 23s\n",
      "142:\tlearn: 0.8762486\ttest: 0.8762486\ttest1: 0.8512543\tbest: 0.8519173 (135)\ttotal: 12.8s\tremaining: 23s\n",
      "143:\tlearn: 0.8761746\ttest: 0.8761746\ttest1: 0.8515858\tbest: 0.8519173 (135)\ttotal: 12.9s\tremaining: 23s\n",
      "144:\tlearn: 0.8762856\ttest: 0.8762856\ttest1: 0.8516963\tbest: 0.8519173 (135)\ttotal: 13s\tremaining: 22.9s\n",
      "145:\tlearn: 0.8762856\ttest: 0.8762856\ttest1: 0.8515858\tbest: 0.8519173 (135)\ttotal: 13.2s\tremaining: 22.9s\n",
      "146:\tlearn: 0.8767666\ttest: 0.8767666\ttest1: 0.8516963\tbest: 0.8519173 (135)\ttotal: 13.3s\tremaining: 22.9s\n",
      "147:\tlearn: 0.8769515\ttest: 0.8769515\ttest1: 0.8516963\tbest: 0.8519173 (135)\ttotal: 13.4s\tremaining: 22.9s\n",
      "148:\tlearn: 0.8772105\ttest: 0.8772105\ttest1: 0.8521384\tbest: 0.8521384 (148)\ttotal: 13.5s\tremaining: 22.7s\n",
      "149:\tlearn: 0.8775435\ttest: 0.8775435\ttest1: 0.8523594\tbest: 0.8523594 (149)\ttotal: 13.6s\tremaining: 22.6s\n",
      "150:\tlearn: 0.8774325\ttest: 0.8774325\ttest1: 0.8521384\tbest: 0.8523594 (149)\ttotal: 13.7s\tremaining: 22.7s\n",
      "151:\tlearn: 0.8773585\ttest: 0.8773585\ttest1: 0.8519173\tbest: 0.8523594 (149)\ttotal: 13.9s\tremaining: 22.6s\n",
      "152:\tlearn: 0.8773955\ttest: 0.8773955\ttest1: 0.8521384\tbest: 0.8523594 (149)\ttotal: 14s\tremaining: 22.6s\n",
      "153:\tlearn: 0.8775805\ttest: 0.8775805\ttest1: 0.8523594\tbest: 0.8523594 (149)\ttotal: 14.1s\tremaining: 22.5s\n",
      "154:\tlearn: 0.8775805\ttest: 0.8775805\ttest1: 0.8521384\tbest: 0.8523594 (149)\ttotal: 14.2s\tremaining: 22.5s\n",
      "155:\tlearn: 0.8779134\ttest: 0.8779134\ttest1: 0.8523594\tbest: 0.8523594 (149)\ttotal: 14.4s\tremaining: 22.4s\n",
      "156:\tlearn: 0.8776915\ttest: 0.8776915\ttest1: 0.8524699\tbest: 0.8524699 (156)\ttotal: 14.5s\tremaining: 22.4s\n",
      "157:\tlearn: 0.8774325\ttest: 0.8774325\ttest1: 0.8523594\tbest: 0.8524699 (156)\ttotal: 14.6s\tremaining: 22.4s\n"
     ]
    },
    {
     "name": "stdout",
     "output_type": "stream",
     "text": [
      "158:\tlearn: 0.8775435\ttest: 0.8775435\ttest1: 0.8525804\tbest: 0.8525804 (158)\ttotal: 14.8s\tremaining: 22.4s\n",
      "159:\tlearn: 0.8775065\ttest: 0.8775065\ttest1: 0.8526909\tbest: 0.8526909 (159)\ttotal: 14.9s\tremaining: 22.3s\n",
      "160:\tlearn: 0.8776175\ttest: 0.8776175\ttest1: 0.8529119\tbest: 0.8529119 (160)\ttotal: 15s\tremaining: 22.3s\n",
      "161:\tlearn: 0.8777654\ttest: 0.8777654\ttest1: 0.8526909\tbest: 0.8529119 (160)\ttotal: 15.1s\tremaining: 22.2s\n",
      "162:\tlearn: 0.8778394\ttest: 0.8778394\ttest1: 0.8523594\tbest: 0.8529119 (160)\ttotal: 15.2s\tremaining: 22s\n",
      "163:\tlearn: 0.8782094\ttest: 0.8782094\ttest1: 0.8528014\tbest: 0.8529119 (160)\ttotal: 15.2s\tremaining: 21.9s\n",
      "164:\tlearn: 0.8782094\ttest: 0.8782094\ttest1: 0.8524699\tbest: 0.8529119 (160)\ttotal: 15.3s\tremaining: 21.8s\n",
      "165:\tlearn: 0.8780244\ttest: 0.8780244\ttest1: 0.8523594\tbest: 0.8529119 (160)\ttotal: 15.3s\tremaining: 21.6s\n",
      "166:\tlearn: 0.8780614\ttest: 0.8780614\ttest1: 0.8523594\tbest: 0.8529119 (160)\ttotal: 15.4s\tremaining: 21.4s\n",
      "167:\tlearn: 0.8780614\ttest: 0.8780614\ttest1: 0.8526909\tbest: 0.8529119 (160)\ttotal: 15.4s\tremaining: 21.3s\n",
      "168:\tlearn: 0.8782464\ttest: 0.8782464\ttest1: 0.8526909\tbest: 0.8529119 (160)\ttotal: 15.5s\tremaining: 21.2s\n",
      "169:\tlearn: 0.8782094\ttest: 0.8782094\ttest1: 0.8526909\tbest: 0.8529119 (160)\ttotal: 15.5s\tremaining: 21s\n",
      "170:\tlearn: 0.8782094\ttest: 0.8782094\ttest1: 0.8528014\tbest: 0.8529119 (160)\ttotal: 15.6s\tremaining: 20.9s\n",
      "171:\tlearn: 0.8782094\ttest: 0.8782094\ttest1: 0.8528014\tbest: 0.8529119 (160)\ttotal: 15.7s\tremaining: 20.8s\n",
      "172:\tlearn: 0.8779874\ttest: 0.8779874\ttest1: 0.8533540\tbest: 0.8533540 (172)\ttotal: 15.8s\tremaining: 20.7s\n",
      "173:\tlearn: 0.8784684\ttest: 0.8784684\ttest1: 0.8524699\tbest: 0.8533540 (172)\ttotal: 15.9s\tremaining: 20.7s\n",
      "174:\tlearn: 0.8786903\ttest: 0.8786903\ttest1: 0.8525804\tbest: 0.8533540 (172)\ttotal: 16.1s\tremaining: 20.6s\n",
      "175:\tlearn: 0.8786533\ttest: 0.8786533\ttest1: 0.8523594\tbest: 0.8533540 (172)\ttotal: 16.2s\tremaining: 20.6s\n",
      "176:\tlearn: 0.8786164\ttest: 0.8786164\ttest1: 0.8522489\tbest: 0.8533540 (172)\ttotal: 16.3s\tremaining: 20.5s\n",
      "177:\tlearn: 0.8786903\ttest: 0.8786903\ttest1: 0.8524699\tbest: 0.8533540 (172)\ttotal: 16.4s\tremaining: 20.5s\n",
      "178:\tlearn: 0.8786164\ttest: 0.8786164\ttest1: 0.8526909\tbest: 0.8533540 (172)\ttotal: 16.5s\tremaining: 20.4s\n",
      "179:\tlearn: 0.8787273\ttest: 0.8787273\ttest1: 0.8526909\tbest: 0.8533540 (172)\ttotal: 16.6s\tremaining: 20.3s\n",
      "180:\tlearn: 0.8789493\ttest: 0.8789493\ttest1: 0.8525804\tbest: 0.8533540 (172)\ttotal: 16.7s\tremaining: 20.2s\n",
      "181:\tlearn: 0.8788383\ttest: 0.8788383\ttest1: 0.8528014\tbest: 0.8533540 (172)\ttotal: 16.8s\tremaining: 20.1s\n",
      "182:\tlearn: 0.8790603\ttest: 0.8790603\ttest1: 0.8534645\tbest: 0.8534645 (182)\ttotal: 16.9s\tremaining: 20.1s\n",
      "183:\tlearn: 0.8792083\ttest: 0.8792083\ttest1: 0.8530224\tbest: 0.8534645 (182)\ttotal: 17.1s\tremaining: 20s\n",
      "184:\tlearn: 0.8793933\ttest: 0.8793933\ttest1: 0.8529119\tbest: 0.8534645 (182)\ttotal: 17.2s\tremaining: 20s\n",
      "185:\tlearn: 0.8794673\ttest: 0.8794673\ttest1: 0.8534645\tbest: 0.8534645 (182)\ttotal: 17.4s\tremaining: 20s\n",
      "186:\tlearn: 0.8794303\ttest: 0.8794303\ttest1: 0.8534645\tbest: 0.8534645 (182)\ttotal: 17.5s\tremaining: 19.9s\n",
      "187:\tlearn: 0.8793933\ttest: 0.8793933\ttest1: 0.8533540\tbest: 0.8534645 (182)\ttotal: 17.6s\tremaining: 19.9s\n",
      "188:\tlearn: 0.8793193\ttest: 0.8793193\ttest1: 0.8535750\tbest: 0.8535750 (188)\ttotal: 17.7s\tremaining: 19.7s\n",
      "189:\tlearn: 0.8793193\ttest: 0.8793193\ttest1: 0.8535750\tbest: 0.8535750 (188)\ttotal: 17.7s\tremaining: 19.6s\n",
      "190:\tlearn: 0.8792083\ttest: 0.8792083\ttest1: 0.8537960\tbest: 0.8537960 (190)\ttotal: 17.8s\tremaining: 19.5s\n",
      "191:\tlearn: 0.8792083\ttest: 0.8792083\ttest1: 0.8539065\tbest: 0.8539065 (191)\ttotal: 17.8s\tremaining: 19.3s\n",
      "192:\tlearn: 0.8792083\ttest: 0.8792083\ttest1: 0.8536855\tbest: 0.8539065 (191)\ttotal: 17.9s\tremaining: 19.2s\n",
      "193:\tlearn: 0.8791713\ttest: 0.8791713\ttest1: 0.8537960\tbest: 0.8539065 (191)\ttotal: 18s\tremaining: 19.1s\n",
      "194:\tlearn: 0.8791343\ttest: 0.8791343\ttest1: 0.8540170\tbest: 0.8540170 (194)\ttotal: 18.1s\tremaining: 19s\n",
      "195:\tlearn: 0.8791343\ttest: 0.8791343\ttest1: 0.8539065\tbest: 0.8540170 (194)\ttotal: 18.2s\tremaining: 18.9s\n",
      "196:\tlearn: 0.8792083\ttest: 0.8792083\ttest1: 0.8542380\tbest: 0.8542380 (196)\ttotal: 18.2s\tremaining: 18.8s\n",
      "197:\tlearn: 0.8791713\ttest: 0.8791713\ttest1: 0.8541275\tbest: 0.8542380 (196)\ttotal: 18.3s\tremaining: 18.7s\n",
      "198:\tlearn: 0.8792823\ttest: 0.8792823\ttest1: 0.8541275\tbest: 0.8542380 (196)\ttotal: 18.4s\tremaining: 18.6s\n",
      "199:\tlearn: 0.8798372\ttest: 0.8798372\ttest1: 0.8539065\tbest: 0.8542380 (196)\ttotal: 18.5s\tremaining: 18.5s\n",
      "200:\tlearn: 0.8797262\ttest: 0.8797262\ttest1: 0.8543485\tbest: 0.8543485 (200)\ttotal: 18.6s\tremaining: 18.4s\n",
      "201:\tlearn: 0.8798372\ttest: 0.8798372\ttest1: 0.8540170\tbest: 0.8543485 (200)\ttotal: 18.7s\tremaining: 18.3s\n",
      "202:\tlearn: 0.8798372\ttest: 0.8798372\ttest1: 0.8539065\tbest: 0.8543485 (200)\ttotal: 18.8s\tremaining: 18.2s\n",
      "203:\tlearn: 0.8798742\ttest: 0.8798742\ttest1: 0.8536855\tbest: 0.8543485 (200)\ttotal: 18.8s\tremaining: 18.1s\n",
      "204:\tlearn: 0.8797632\ttest: 0.8797632\ttest1: 0.8537960\tbest: 0.8543485 (200)\ttotal: 18.9s\tremaining: 18s\n",
      "205:\tlearn: 0.8799482\ttest: 0.8799482\ttest1: 0.8540170\tbest: 0.8543485 (200)\ttotal: 19s\tremaining: 17.9s\n",
      "206:\tlearn: 0.8800592\ttest: 0.8800592\ttest1: 0.8536855\tbest: 0.8543485 (200)\ttotal: 19s\tremaining: 17.7s\n",
      "207:\tlearn: 0.8800592\ttest: 0.8800592\ttest1: 0.8539065\tbest: 0.8543485 (200)\ttotal: 19.1s\tremaining: 17.6s\n",
      "208:\tlearn: 0.8800592\ttest: 0.8800592\ttest1: 0.8535750\tbest: 0.8543485 (200)\ttotal: 19.2s\tremaining: 17.5s\n",
      "209:\tlearn: 0.8804292\ttest: 0.8804292\ttest1: 0.8539065\tbest: 0.8543485 (200)\ttotal: 19.2s\tremaining: 17.4s\n",
      "210:\tlearn: 0.8804661\ttest: 0.8804661\ttest1: 0.8539065\tbest: 0.8543485 (200)\ttotal: 19.4s\tremaining: 17.3s\n",
      "211:\tlearn: 0.8805771\ttest: 0.8805771\ttest1: 0.8537960\tbest: 0.8543485 (200)\ttotal: 19.5s\tremaining: 17.3s\n",
      "212:\tlearn: 0.8805031\ttest: 0.8805031\ttest1: 0.8537960\tbest: 0.8543485 (200)\ttotal: 19.5s\tremaining: 17.1s\n",
      "213:\tlearn: 0.8805401\ttest: 0.8805401\ttest1: 0.8540170\tbest: 0.8543485 (200)\ttotal: 19.6s\tremaining: 17.1s\n",
      "214:\tlearn: 0.8804292\ttest: 0.8804292\ttest1: 0.8545696\tbest: 0.8545696 (214)\ttotal: 19.7s\tremaining: 16.9s\n",
      "215:\tlearn: 0.8803922\ttest: 0.8803922\ttest1: 0.8543485\tbest: 0.8545696 (214)\ttotal: 19.8s\tremaining: 16.8s\n",
      "216:\tlearn: 0.8807991\ttest: 0.8807991\ttest1: 0.8542380\tbest: 0.8545696 (214)\ttotal: 19.8s\tremaining: 16.7s\n",
      "217:\tlearn: 0.8808361\ttest: 0.8808361\ttest1: 0.8542380\tbest: 0.8545696 (214)\ttotal: 19.9s\tremaining: 16.6s\n",
      "218:\tlearn: 0.8808361\ttest: 0.8808361\ttest1: 0.8542380\tbest: 0.8545696 (214)\ttotal: 19.9s\tremaining: 16.5s\n",
      "219:\tlearn: 0.8809471\ttest: 0.8809471\ttest1: 0.8544591\tbest: 0.8545696 (214)\ttotal: 20s\tremaining: 16.4s\n",
      "220:\tlearn: 0.8809471\ttest: 0.8809471\ttest1: 0.8544591\tbest: 0.8545696 (214)\ttotal: 20.1s\tremaining: 16.2s\n",
      "221:\tlearn: 0.8806881\ttest: 0.8806881\ttest1: 0.8544591\tbest: 0.8545696 (214)\ttotal: 20.1s\tremaining: 16.1s\n",
      "222:\tlearn: 0.8810211\ttest: 0.8810211\ttest1: 0.8543485\tbest: 0.8545696 (214)\ttotal: 20.2s\tremaining: 16s\n",
      "223:\tlearn: 0.8811691\ttest: 0.8811691\ttest1: 0.8549011\tbest: 0.8549011 (223)\ttotal: 20.3s\tremaining: 15.9s\n",
      "224:\tlearn: 0.8815760\ttest: 0.8815760\ttest1: 0.8545696\tbest: 0.8549011 (223)\ttotal: 20.3s\tremaining: 15.8s\n",
      "225:\tlearn: 0.8816870\ttest: 0.8816870\ttest1: 0.8547906\tbest: 0.8549011 (223)\ttotal: 20.4s\tremaining: 15.7s\n",
      "226:\tlearn: 0.8816870\ttest: 0.8816870\ttest1: 0.8547906\tbest: 0.8549011 (223)\ttotal: 20.5s\tremaining: 15.6s\n",
      "227:\tlearn: 0.8817610\ttest: 0.8817610\ttest1: 0.8547906\tbest: 0.8549011 (223)\ttotal: 20.5s\tremaining: 15.5s\n",
      "228:\tlearn: 0.8822050\ttest: 0.8822050\ttest1: 0.8551221\tbest: 0.8551221 (228)\ttotal: 20.6s\tremaining: 15.4s\n",
      "229:\tlearn: 0.8821680\ttest: 0.8821680\ttest1: 0.8551221\tbest: 0.8551221 (228)\ttotal: 20.6s\tremaining: 15.2s\n",
      "230:\tlearn: 0.8820570\ttest: 0.8820570\ttest1: 0.8556747\tbest: 0.8556747 (230)\ttotal: 20.7s\tremaining: 15.1s\n",
      "231:\tlearn: 0.8820570\ttest: 0.8820570\ttest1: 0.8556747\tbest: 0.8556747 (230)\ttotal: 20.8s\tremaining: 15s\n",
      "232:\tlearn: 0.8822420\ttest: 0.8822420\ttest1: 0.8556747\tbest: 0.8556747 (230)\ttotal: 20.9s\tremaining: 15s\n",
      "233:\tlearn: 0.8822420\ttest: 0.8822420\ttest1: 0.8554536\tbest: 0.8556747 (230)\ttotal: 20.9s\tremaining: 14.9s\n",
      "234:\tlearn: 0.8823159\ttest: 0.8823159\ttest1: 0.8552326\tbest: 0.8556747 (230)\ttotal: 21s\tremaining: 14.8s\n"
     ]
    },
    {
     "name": "stdout",
     "output_type": "stream",
     "text": [
      "235:\tlearn: 0.8824269\ttest: 0.8824269\ttest1: 0.8552326\tbest: 0.8556747 (230)\ttotal: 21.1s\tremaining: 14.7s\n",
      "236:\tlearn: 0.8829079\ttest: 0.8829079\ttest1: 0.8557852\tbest: 0.8557852 (236)\ttotal: 21.2s\tremaining: 14.6s\n",
      "237:\tlearn: 0.8827969\ttest: 0.8827969\ttest1: 0.8555642\tbest: 0.8557852 (236)\ttotal: 21.3s\tremaining: 14.5s\n",
      "238:\tlearn: 0.8829449\ttest: 0.8829449\ttest1: 0.8555642\tbest: 0.8557852 (236)\ttotal: 21.4s\tremaining: 14.4s\n",
      "239:\tlearn: 0.8827229\ttest: 0.8827229\ttest1: 0.8560062\tbest: 0.8560062 (239)\ttotal: 21.5s\tremaining: 14.3s\n",
      "240:\tlearn: 0.8828709\ttest: 0.8828709\ttest1: 0.8554536\tbest: 0.8560062 (239)\ttotal: 21.5s\tremaining: 14.2s\n",
      "241:\tlearn: 0.8829819\ttest: 0.8829819\ttest1: 0.8554536\tbest: 0.8560062 (239)\ttotal: 21.6s\tremaining: 14.1s\n",
      "242:\tlearn: 0.8829079\ttest: 0.8829079\ttest1: 0.8555642\tbest: 0.8560062 (239)\ttotal: 21.7s\tremaining: 14s\n",
      "243:\tlearn: 0.8829819\ttest: 0.8829819\ttest1: 0.8557852\tbest: 0.8560062 (239)\ttotal: 21.8s\tremaining: 13.9s\n",
      "244:\tlearn: 0.8830189\ttest: 0.8830189\ttest1: 0.8558957\tbest: 0.8560062 (239)\ttotal: 21.8s\tremaining: 13.8s\n",
      "245:\tlearn: 0.8829819\ttest: 0.8829819\ttest1: 0.8558957\tbest: 0.8560062 (239)\ttotal: 21.9s\tremaining: 13.7s\n",
      "246:\tlearn: 0.8832038\ttest: 0.8832038\ttest1: 0.8563377\tbest: 0.8563377 (246)\ttotal: 22s\tremaining: 13.6s\n",
      "247:\tlearn: 0.8832038\ttest: 0.8832038\ttest1: 0.8563377\tbest: 0.8563377 (246)\ttotal: 22s\tremaining: 13.5s\n",
      "248:\tlearn: 0.8831669\ttest: 0.8831669\ttest1: 0.8562272\tbest: 0.8563377 (246)\ttotal: 22.2s\tremaining: 13.5s\n",
      "249:\tlearn: 0.8830929\ttest: 0.8830929\ttest1: 0.8565587\tbest: 0.8565587 (249)\ttotal: 22.3s\tremaining: 13.4s\n",
      "250:\tlearn: 0.8830929\ttest: 0.8830929\ttest1: 0.8565587\tbest: 0.8565587 (249)\ttotal: 22.3s\tremaining: 13.3s\n",
      "251:\tlearn: 0.8833518\ttest: 0.8833518\ttest1: 0.8565587\tbest: 0.8565587 (249)\ttotal: 22.4s\tremaining: 13.2s\n",
      "252:\tlearn: 0.8833148\ttest: 0.8833148\ttest1: 0.8568903\tbest: 0.8568903 (252)\ttotal: 22.4s\tremaining: 13s\n",
      "253:\tlearn: 0.8832408\ttest: 0.8832408\ttest1: 0.8568903\tbest: 0.8568903 (252)\ttotal: 22.5s\tremaining: 12.9s\n",
      "254:\tlearn: 0.8832778\ttest: 0.8832778\ttest1: 0.8568903\tbest: 0.8568903 (252)\ttotal: 22.6s\tremaining: 12.8s\n",
      "255:\tlearn: 0.8834998\ttest: 0.8834998\ttest1: 0.8565587\tbest: 0.8568903 (252)\ttotal: 22.6s\tremaining: 12.7s\n",
      "256:\tlearn: 0.8834258\ttest: 0.8834258\ttest1: 0.8566692\tbest: 0.8568903 (252)\ttotal: 22.7s\tremaining: 12.6s\n",
      "257:\tlearn: 0.8835368\ttest: 0.8835368\ttest1: 0.8570008\tbest: 0.8570008 (257)\ttotal: 22.7s\tremaining: 12.5s\n",
      "258:\tlearn: 0.8836108\ttest: 0.8836108\ttest1: 0.8568903\tbest: 0.8570008 (257)\ttotal: 22.8s\tremaining: 12.4s\n",
      "259:\tlearn: 0.8834628\ttest: 0.8834628\ttest1: 0.8568903\tbest: 0.8570008 (257)\ttotal: 22.8s\tremaining: 12.3s\n",
      "260:\tlearn: 0.8834998\ttest: 0.8834998\ttest1: 0.8570008\tbest: 0.8570008 (257)\ttotal: 22.9s\tremaining: 12.2s\n",
      "261:\tlearn: 0.8834998\ttest: 0.8834998\ttest1: 0.8570008\tbest: 0.8570008 (257)\ttotal: 22.9s\tremaining: 12.1s\n",
      "262:\tlearn: 0.8833888\ttest: 0.8833888\ttest1: 0.8572218\tbest: 0.8572218 (262)\ttotal: 23s\tremaining: 12s\n",
      "263:\tlearn: 0.8833888\ttest: 0.8833888\ttest1: 0.8572218\tbest: 0.8572218 (262)\ttotal: 23s\tremaining: 11.9s\n",
      "264:\tlearn: 0.8833518\ttest: 0.8833518\ttest1: 0.8572218\tbest: 0.8572218 (262)\ttotal: 23.1s\tremaining: 11.8s\n",
      "265:\tlearn: 0.8833888\ttest: 0.8833888\ttest1: 0.8572218\tbest: 0.8572218 (262)\ttotal: 23.2s\tremaining: 11.7s\n",
      "266:\tlearn: 0.8834628\ttest: 0.8834628\ttest1: 0.8570008\tbest: 0.8572218 (262)\ttotal: 23.3s\tremaining: 11.6s\n",
      "267:\tlearn: 0.8837588\ttest: 0.8837588\ttest1: 0.8564482\tbest: 0.8572218 (262)\ttotal: 23.4s\tremaining: 11.5s\n",
      "268:\tlearn: 0.8838328\ttest: 0.8838328\ttest1: 0.8566692\tbest: 0.8572218 (262)\ttotal: 23.5s\tremaining: 11.4s\n",
      "269:\tlearn: 0.8838698\ttest: 0.8838698\ttest1: 0.8567798\tbest: 0.8572218 (262)\ttotal: 23.6s\tremaining: 11.4s\n",
      "270:\tlearn: 0.8840548\ttest: 0.8840548\ttest1: 0.8570008\tbest: 0.8572218 (262)\ttotal: 23.7s\tremaining: 11.3s\n",
      "271:\tlearn: 0.8840178\ttest: 0.8840178\ttest1: 0.8570008\tbest: 0.8572218 (262)\ttotal: 23.8s\tremaining: 11.2s\n",
      "272:\tlearn: 0.8840548\ttest: 0.8840548\ttest1: 0.8570008\tbest: 0.8572218 (262)\ttotal: 23.9s\tremaining: 11.1s\n",
      "273:\tlearn: 0.8840178\ttest: 0.8840178\ttest1: 0.8571113\tbest: 0.8572218 (262)\ttotal: 24s\tremaining: 11s\n",
      "274:\tlearn: 0.8840548\ttest: 0.8840548\ttest1: 0.8566692\tbest: 0.8572218 (262)\ttotal: 24.1s\tremaining: 10.9s\n",
      "275:\tlearn: 0.8843137\ttest: 0.8843137\ttest1: 0.8572218\tbest: 0.8572218 (262)\ttotal: 24.2s\tremaining: 10.9s\n",
      "276:\tlearn: 0.8841287\ttest: 0.8841287\ttest1: 0.8572218\tbest: 0.8572218 (262)\ttotal: 24.2s\tremaining: 10.8s\n",
      "277:\tlearn: 0.8841657\ttest: 0.8841657\ttest1: 0.8570008\tbest: 0.8572218 (262)\ttotal: 24.3s\tremaining: 10.7s\n",
      "278:\tlearn: 0.8843507\ttest: 0.8843507\ttest1: 0.8567798\tbest: 0.8572218 (262)\ttotal: 24.4s\tremaining: 10.6s\n",
      "279:\tlearn: 0.8843137\ttest: 0.8843137\ttest1: 0.8570008\tbest: 0.8572218 (262)\ttotal: 24.5s\tremaining: 10.5s\n",
      "280:\tlearn: 0.8842767\ttest: 0.8842767\ttest1: 0.8573323\tbest: 0.8573323 (280)\ttotal: 24.6s\tremaining: 10.4s\n",
      "281:\tlearn: 0.8843137\ttest: 0.8843137\ttest1: 0.8573323\tbest: 0.8573323 (280)\ttotal: 24.7s\tremaining: 10.3s\n",
      "282:\tlearn: 0.8843507\ttest: 0.8843507\ttest1: 0.8573323\tbest: 0.8573323 (280)\ttotal: 24.7s\tremaining: 10.2s\n",
      "283:\tlearn: 0.8843877\ttest: 0.8843877\ttest1: 0.8573323\tbest: 0.8573323 (280)\ttotal: 24.8s\tremaining: 10.1s\n",
      "284:\tlearn: 0.8842397\ttest: 0.8842397\ttest1: 0.8578848\tbest: 0.8578848 (284)\ttotal: 24.8s\tremaining: 10s\n",
      "285:\tlearn: 0.8843507\ttest: 0.8843507\ttest1: 0.8581059\tbest: 0.8581059 (285)\ttotal: 24.9s\tremaining: 9.92s\n",
      "286:\tlearn: 0.8843877\ttest: 0.8843877\ttest1: 0.8579954\tbest: 0.8581059 (285)\ttotal: 24.9s\tremaining: 9.82s\n",
      "287:\tlearn: 0.8843877\ttest: 0.8843877\ttest1: 0.8581059\tbest: 0.8581059 (285)\ttotal: 25s\tremaining: 9.72s\n",
      "288:\tlearn: 0.8845727\ttest: 0.8845727\ttest1: 0.8577743\tbest: 0.8581059 (285)\ttotal: 25.1s\tremaining: 9.63s\n",
      "289:\tlearn: 0.8845727\ttest: 0.8845727\ttest1: 0.8577743\tbest: 0.8581059 (285)\ttotal: 25.1s\tremaining: 9.53s\n",
      "290:\tlearn: 0.8847207\ttest: 0.8847207\ttest1: 0.8576638\tbest: 0.8581059 (285)\ttotal: 25.2s\tremaining: 9.43s\n",
      "291:\tlearn: 0.8847207\ttest: 0.8847207\ttest1: 0.8576638\tbest: 0.8581059 (285)\ttotal: 25.2s\tremaining: 9.33s\n",
      "292:\tlearn: 0.8847207\ttest: 0.8847207\ttest1: 0.8579954\tbest: 0.8581059 (285)\ttotal: 25.3s\tremaining: 9.25s\n",
      "293:\tlearn: 0.8846467\ttest: 0.8846467\ttest1: 0.8576638\tbest: 0.8581059 (285)\ttotal: 25.4s\tremaining: 9.15s\n",
      "294:\tlearn: 0.8846097\ttest: 0.8846097\ttest1: 0.8577743\tbest: 0.8581059 (285)\ttotal: 25.4s\tremaining: 9.05s\n",
      "295:\tlearn: 0.8846837\ttest: 0.8846837\ttest1: 0.8579954\tbest: 0.8581059 (285)\ttotal: 25.5s\tremaining: 8.96s\n",
      "296:\tlearn: 0.8846837\ttest: 0.8846837\ttest1: 0.8578848\tbest: 0.8581059 (285)\ttotal: 25.6s\tremaining: 8.87s\n",
      "297:\tlearn: 0.8848687\ttest: 0.8848687\ttest1: 0.8579954\tbest: 0.8581059 (285)\ttotal: 25.7s\tremaining: 8.78s\n",
      "298:\tlearn: 0.8847207\ttest: 0.8847207\ttest1: 0.8581059\tbest: 0.8581059 (285)\ttotal: 25.7s\tremaining: 8.69s\n",
      "299:\tlearn: 0.8847577\ttest: 0.8847577\ttest1: 0.8579954\tbest: 0.8581059 (285)\ttotal: 25.8s\tremaining: 8.61s\n",
      "300:\tlearn: 0.8846837\ttest: 0.8846837\ttest1: 0.8579954\tbest: 0.8581059 (285)\ttotal: 25.9s\tremaining: 8.52s\n",
      "301:\tlearn: 0.8847207\ttest: 0.8847207\ttest1: 0.8582164\tbest: 0.8582164 (301)\ttotal: 26s\tremaining: 8.43s\n",
      "302:\tlearn: 0.8848687\ttest: 0.8848687\ttest1: 0.8578848\tbest: 0.8582164 (301)\ttotal: 26s\tremaining: 8.33s\n",
      "303:\tlearn: 0.8849057\ttest: 0.8849057\ttest1: 0.8577743\tbest: 0.8582164 (301)\ttotal: 26.1s\tremaining: 8.25s\n",
      "304:\tlearn: 0.8849427\ttest: 0.8849427\ttest1: 0.8577743\tbest: 0.8582164 (301)\ttotal: 26.2s\tremaining: 8.17s\n",
      "305:\tlearn: 0.8850166\ttest: 0.8850166\ttest1: 0.8578848\tbest: 0.8582164 (301)\ttotal: 26.3s\tremaining: 8.08s\n",
      "306:\tlearn: 0.8848317\ttest: 0.8848317\ttest1: 0.8578848\tbest: 0.8582164 (301)\ttotal: 26.4s\tremaining: 7.99s\n",
      "307:\tlearn: 0.8851276\ttest: 0.8851276\ttest1: 0.8575533\tbest: 0.8582164 (301)\ttotal: 26.5s\tremaining: 7.91s\n",
      "308:\tlearn: 0.8851276\ttest: 0.8851276\ttest1: 0.8575533\tbest: 0.8582164 (301)\ttotal: 26.5s\tremaining: 7.81s\n",
      "309:\tlearn: 0.8851276\ttest: 0.8851276\ttest1: 0.8577743\tbest: 0.8582164 (301)\ttotal: 26.6s\tremaining: 7.72s\n",
      "310:\tlearn: 0.8852016\ttest: 0.8852016\ttest1: 0.8581059\tbest: 0.8582164 (301)\ttotal: 26.7s\tremaining: 7.63s\n",
      "311:\tlearn: 0.8852756\ttest: 0.8852756\ttest1: 0.8582164\tbest: 0.8582164 (301)\ttotal: 26.7s\tremaining: 7.54s\n"
     ]
    },
    {
     "name": "stdout",
     "output_type": "stream",
     "text": [
      "312:\tlearn: 0.8852386\ttest: 0.8852386\ttest1: 0.8581059\tbest: 0.8582164 (301)\ttotal: 26.8s\tremaining: 7.45s\n",
      "313:\tlearn: 0.8852386\ttest: 0.8852386\ttest1: 0.8581059\tbest: 0.8582164 (301)\ttotal: 26.9s\tremaining: 7.36s\n",
      "314:\tlearn: 0.8852756\ttest: 0.8852756\ttest1: 0.8581059\tbest: 0.8582164 (301)\ttotal: 26.9s\tremaining: 7.27s\n",
      "315:\tlearn: 0.8852756\ttest: 0.8852756\ttest1: 0.8581059\tbest: 0.8582164 (301)\ttotal: 27.1s\tremaining: 7.2s\n",
      "316:\tlearn: 0.8852756\ttest: 0.8852756\ttest1: 0.8581059\tbest: 0.8582164 (301)\ttotal: 27.2s\tremaining: 7.12s\n",
      "317:\tlearn: 0.8851646\ttest: 0.8851646\ttest1: 0.8579954\tbest: 0.8582164 (301)\ttotal: 27.2s\tremaining: 7.03s\n",
      "318:\tlearn: 0.8851646\ttest: 0.8851646\ttest1: 0.8578848\tbest: 0.8582164 (301)\ttotal: 27.3s\tremaining: 6.94s\n",
      "319:\tlearn: 0.8854236\ttest: 0.8854236\ttest1: 0.8575533\tbest: 0.8582164 (301)\ttotal: 27.4s\tremaining: 6.85s\n",
      "320:\tlearn: 0.8855716\ttest: 0.8855716\ttest1: 0.8575533\tbest: 0.8582164 (301)\ttotal: 27.4s\tremaining: 6.75s\n",
      "321:\tlearn: 0.8854606\ttest: 0.8854606\ttest1: 0.8574428\tbest: 0.8582164 (301)\ttotal: 27.5s\tremaining: 6.66s\n",
      "322:\tlearn: 0.8856086\ttest: 0.8856086\ttest1: 0.8575533\tbest: 0.8582164 (301)\ttotal: 27.6s\tremaining: 6.57s\n",
      "323:\tlearn: 0.8855346\ttest: 0.8855346\ttest1: 0.8576638\tbest: 0.8582164 (301)\ttotal: 27.6s\tremaining: 6.48s\n",
      "324:\tlearn: 0.8854236\ttest: 0.8854236\ttest1: 0.8574428\tbest: 0.8582164 (301)\ttotal: 27.7s\tremaining: 6.39s\n",
      "325:\tlearn: 0.8854236\ttest: 0.8854236\ttest1: 0.8575533\tbest: 0.8582164 (301)\ttotal: 27.7s\tremaining: 6.29s\n",
      "326:\tlearn: 0.8853126\ttest: 0.8853126\ttest1: 0.8574428\tbest: 0.8582164 (301)\ttotal: 27.8s\tremaining: 6.21s\n",
      "327:\tlearn: 0.8856456\ttest: 0.8856456\ttest1: 0.8573323\tbest: 0.8582164 (301)\ttotal: 27.9s\tremaining: 6.12s\n",
      "328:\tlearn: 0.8856086\ttest: 0.8856086\ttest1: 0.8575533\tbest: 0.8582164 (301)\ttotal: 27.9s\tremaining: 6.02s\n",
      "329:\tlearn: 0.8856086\ttest: 0.8856086\ttest1: 0.8576638\tbest: 0.8582164 (301)\ttotal: 28s\tremaining: 5.93s\n",
      "330:\tlearn: 0.8856086\ttest: 0.8856086\ttest1: 0.8576638\tbest: 0.8582164 (301)\ttotal: 28s\tremaining: 5.84s\n",
      "331:\tlearn: 0.8856086\ttest: 0.8856086\ttest1: 0.8575533\tbest: 0.8582164 (301)\ttotal: 28.1s\tremaining: 5.75s\n",
      "Stopped by overfitting detector  (30 iterations wait)\n",
      "\n",
      "bestTest = 0.8582163775\n",
      "bestIteration = 301\n",
      "\n",
      "Shrink model to first 302 iterations.\n"
     ]
    },
    {
     "data": {
      "text/plain": [
       "<catboost.core.CatBoostClassifier at 0x1a1cdd2668>"
      ]
     },
     "execution_count": 1065,
     "metadata": {},
     "output_type": "execute_result"
    }
   ],
   "source": [
    "catb_smote.fit(X_train_smt,y_train_smt,eval_set=[(X_train_smt,y_train_smt), (X_test,y_test)],early_stopping_rounds=30)"
   ]
  },
  {
   "cell_type": "code",
   "execution_count": 1067,
   "metadata": {},
   "outputs": [
    {
     "name": "stdout",
     "output_type": "stream",
     "text": [
      "Accuracy on test data: 85.821638%\n",
      "Accuracy on training data: 88.472068%\n",
      "Area under the ROC curve : 0.844897\n"
     ]
    }
   ],
   "source": [
    "print('Accuracy on test data: %f%%' % (metrics.accuracy_score(y_test, catb_smote.predict(X_test))*100))\n",
    "print('Accuracy on training data: %f%%' % (metrics.accuracy_score(y_train_smt, catb_smote.predict(X_train_smt))*100))\n",
    "print('Area under the ROC curve : %f' % (metrics.roc_auc_score(y_test, catb_ros.predict(X_test))))"
   ]
  },
  {
   "cell_type": "code",
   "execution_count": 1045,
   "metadata": {},
   "outputs": [
    {
     "name": "stdout",
     "output_type": "stream",
     "text": [
      "              precision    recall  f1-score   support\n",
      "\n",
      "           0       0.92      0.87      0.89      6754\n",
      "           1       0.67      0.78      0.72      2295\n",
      "\n",
      "   micro avg       0.85      0.85      0.85      9049\n",
      "   macro avg       0.80      0.83      0.81      9049\n",
      "weighted avg       0.86      0.85      0.85      9049\n",
      "\n"
     ]
    }
   ],
   "source": [
    "print(metrics.classification_report(y_test, catb_smote.predict(X_test)))"
   ]
  },
  {
   "cell_type": "code",
   "execution_count": null,
   "metadata": {},
   "outputs": [],
   "source": []
  }
 ],
 "metadata": {
  "kernelspec": {
   "display_name": "Python 3",
   "language": "python",
   "name": "python3"
  },
  "language_info": {
   "codemirror_mode": {
    "name": "ipython",
    "version": 3
   },
   "file_extension": ".py",
   "mimetype": "text/x-python",
   "name": "python",
   "nbconvert_exporter": "python",
   "pygments_lexer": "ipython3",
   "version": "3.6.8"
  }
 },
 "nbformat": 4,
 "nbformat_minor": 2
}
