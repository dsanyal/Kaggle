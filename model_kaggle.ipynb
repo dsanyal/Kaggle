{
 "cells": [
  {
   "cell_type": "markdown",
   "metadata": {},
   "source": [
    "# Adult Income Prediction notebook\n",
    "This data was extracted from the 1994 Census bureau database by Ronny Kohavi and Barry Becker (Data Mining and Visualization, Silicon Graphics). A set of reasonably clean records was extracted using the following conditions: ((AAGE>16) && (AGI>100) && (AFNLWGT>1) && (HRSWK>0)). *The prediction task is to determine whether a person makes over  USD 50K a year.*  \n",
    "This is a binary classification problem where we have to predict whether a person earns over $50k per year or not. The scoring function to optimize is accuracy. The notebook follows the following steps to analyse the data and build predictive models.\n",
    "- Data cleaning and preprocessing\n",
    "- Exploratory data analysis\n",
    "- Modelling: I have tried out different classification algorithms.\n",
    "  - Random forest\n",
    "  - XGBoost\n",
    "  - Naive Bayes\n",
    "  - Logistic regression\n",
    "  - CatBoost  \n",
    "These models were then optimized by tuning the hyper-parameters through Grid Search, keeping a close check on the cross-validation scores to prevent overfitting. Thereafter I also tried out stacking different models together to improve the accuracy but it didn't improve the accuracy sigificantly.\n",
    "- Finally I explored oversampling techniques including SMOTE (in progress).\n",
    "\n",
    "Please feel free to suggest/comment.\n",
    "\n",
    "<img src=\"money.jpg\" style=\"width: 700px;\"/>\n"
   ]
  },
  {
   "cell_type": "code",
   "execution_count": 1,
   "metadata": {},
   "outputs": [],
   "source": [
    "import pandas as pd\n",
    "import numpy as np\n",
    "import matplotlib.pyplot as plt\n",
    "import seaborn as sns"
   ]
  },
  {
   "cell_type": "code",
   "execution_count": 2,
   "metadata": {},
   "outputs": [],
   "source": [
    "import os\n",
    "import seaborn as sns\n",
    "os.environ['KMP_DUPLICATE_LIB_OK']='True'"
   ]
  },
  {
   "cell_type": "code",
   "execution_count": 3,
   "metadata": {},
   "outputs": [],
   "source": [
    "sns.set() ##set defaults"
   ]
  },
  {
   "cell_type": "code",
   "execution_count": 4,
   "metadata": {},
   "outputs": [],
   "source": [
    "%matplotlib inline"
   ]
  },
  {
   "cell_type": "code",
   "execution_count": 5,
   "metadata": {},
   "outputs": [],
   "source": [
    "data = pd.read_csv(\"adult.csv\")"
   ]
  },
  {
   "cell_type": "code",
   "execution_count": 6,
   "metadata": {},
   "outputs": [
    {
     "data": {
      "text/plain": [
       "(32561, 15)"
      ]
     },
     "execution_count": 6,
     "metadata": {},
     "output_type": "execute_result"
    }
   ],
   "source": [
    "data.shape"
   ]
  },
  {
   "cell_type": "code",
   "execution_count": 7,
   "metadata": {},
   "outputs": [
    {
     "data": {
      "text/html": [
       "<div>\n",
       "<style scoped>\n",
       "    .dataframe tbody tr th:only-of-type {\n",
       "        vertical-align: middle;\n",
       "    }\n",
       "\n",
       "    .dataframe tbody tr th {\n",
       "        vertical-align: top;\n",
       "    }\n",
       "\n",
       "    .dataframe thead th {\n",
       "        text-align: right;\n",
       "    }\n",
       "</style>\n",
       "<table border=\"1\" class=\"dataframe\">\n",
       "  <thead>\n",
       "    <tr style=\"text-align: right;\">\n",
       "      <th></th>\n",
       "      <th>age</th>\n",
       "      <th>workclass</th>\n",
       "      <th>fnlwgt</th>\n",
       "      <th>education</th>\n",
       "      <th>education.num</th>\n",
       "      <th>marital.status</th>\n",
       "      <th>occupation</th>\n",
       "      <th>relationship</th>\n",
       "      <th>race</th>\n",
       "      <th>sex</th>\n",
       "      <th>capital.gain</th>\n",
       "      <th>capital.loss</th>\n",
       "      <th>hours.per.week</th>\n",
       "      <th>native.country</th>\n",
       "      <th>income</th>\n",
       "    </tr>\n",
       "  </thead>\n",
       "  <tbody>\n",
       "    <tr>\n",
       "      <th>0</th>\n",
       "      <td>90</td>\n",
       "      <td>?</td>\n",
       "      <td>77053</td>\n",
       "      <td>HS-grad</td>\n",
       "      <td>9</td>\n",
       "      <td>Widowed</td>\n",
       "      <td>?</td>\n",
       "      <td>Not-in-family</td>\n",
       "      <td>White</td>\n",
       "      <td>Female</td>\n",
       "      <td>0</td>\n",
       "      <td>4356</td>\n",
       "      <td>40</td>\n",
       "      <td>United-States</td>\n",
       "      <td>&lt;=50K</td>\n",
       "    </tr>\n",
       "    <tr>\n",
       "      <th>1</th>\n",
       "      <td>82</td>\n",
       "      <td>Private</td>\n",
       "      <td>132870</td>\n",
       "      <td>HS-grad</td>\n",
       "      <td>9</td>\n",
       "      <td>Widowed</td>\n",
       "      <td>Exec-managerial</td>\n",
       "      <td>Not-in-family</td>\n",
       "      <td>White</td>\n",
       "      <td>Female</td>\n",
       "      <td>0</td>\n",
       "      <td>4356</td>\n",
       "      <td>18</td>\n",
       "      <td>United-States</td>\n",
       "      <td>&lt;=50K</td>\n",
       "    </tr>\n",
       "    <tr>\n",
       "      <th>2</th>\n",
       "      <td>66</td>\n",
       "      <td>?</td>\n",
       "      <td>186061</td>\n",
       "      <td>Some-college</td>\n",
       "      <td>10</td>\n",
       "      <td>Widowed</td>\n",
       "      <td>?</td>\n",
       "      <td>Unmarried</td>\n",
       "      <td>Black</td>\n",
       "      <td>Female</td>\n",
       "      <td>0</td>\n",
       "      <td>4356</td>\n",
       "      <td>40</td>\n",
       "      <td>United-States</td>\n",
       "      <td>&lt;=50K</td>\n",
       "    </tr>\n",
       "    <tr>\n",
       "      <th>3</th>\n",
       "      <td>54</td>\n",
       "      <td>Private</td>\n",
       "      <td>140359</td>\n",
       "      <td>7th-8th</td>\n",
       "      <td>4</td>\n",
       "      <td>Divorced</td>\n",
       "      <td>Machine-op-inspct</td>\n",
       "      <td>Unmarried</td>\n",
       "      <td>White</td>\n",
       "      <td>Female</td>\n",
       "      <td>0</td>\n",
       "      <td>3900</td>\n",
       "      <td>40</td>\n",
       "      <td>United-States</td>\n",
       "      <td>&lt;=50K</td>\n",
       "    </tr>\n",
       "    <tr>\n",
       "      <th>4</th>\n",
       "      <td>41</td>\n",
       "      <td>Private</td>\n",
       "      <td>264663</td>\n",
       "      <td>Some-college</td>\n",
       "      <td>10</td>\n",
       "      <td>Separated</td>\n",
       "      <td>Prof-specialty</td>\n",
       "      <td>Own-child</td>\n",
       "      <td>White</td>\n",
       "      <td>Female</td>\n",
       "      <td>0</td>\n",
       "      <td>3900</td>\n",
       "      <td>40</td>\n",
       "      <td>United-States</td>\n",
       "      <td>&lt;=50K</td>\n",
       "    </tr>\n",
       "  </tbody>\n",
       "</table>\n",
       "</div>"
      ],
      "text/plain": [
       "   age workclass  fnlwgt     education  education.num marital.status  \\\n",
       "0   90         ?   77053       HS-grad              9        Widowed   \n",
       "1   82   Private  132870       HS-grad              9        Widowed   \n",
       "2   66         ?  186061  Some-college             10        Widowed   \n",
       "3   54   Private  140359       7th-8th              4       Divorced   \n",
       "4   41   Private  264663  Some-college             10      Separated   \n",
       "\n",
       "          occupation   relationship   race     sex  capital.gain  \\\n",
       "0                  ?  Not-in-family  White  Female             0   \n",
       "1    Exec-managerial  Not-in-family  White  Female             0   \n",
       "2                  ?      Unmarried  Black  Female             0   \n",
       "3  Machine-op-inspct      Unmarried  White  Female             0   \n",
       "4     Prof-specialty      Own-child  White  Female             0   \n",
       "\n",
       "   capital.loss  hours.per.week native.country income  \n",
       "0          4356              40  United-States  <=50K  \n",
       "1          4356              18  United-States  <=50K  \n",
       "2          4356              40  United-States  <=50K  \n",
       "3          3900              40  United-States  <=50K  \n",
       "4          3900              40  United-States  <=50K  "
      ]
     },
     "execution_count": 7,
     "metadata": {},
     "output_type": "execute_result"
    }
   ],
   "source": [
    "data.head()"
   ]
  },
  {
   "cell_type": "code",
   "execution_count": 8,
   "metadata": {},
   "outputs": [
    {
     "name": "stdout",
     "output_type": "stream",
     "text": [
      "<class 'pandas.core.frame.DataFrame'>\n",
      "RangeIndex: 32561 entries, 0 to 32560\n",
      "Data columns (total 15 columns):\n",
      "age               32561 non-null int64\n",
      "workclass         32561 non-null object\n",
      "fnlwgt            32561 non-null int64\n",
      "education         32561 non-null object\n",
      "education.num     32561 non-null int64\n",
      "marital.status    32561 non-null object\n",
      "occupation        32561 non-null object\n",
      "relationship      32561 non-null object\n",
      "race              32561 non-null object\n",
      "sex               32561 non-null object\n",
      "capital.gain      32561 non-null int64\n",
      "capital.loss      32561 non-null int64\n",
      "hours.per.week    32561 non-null int64\n",
      "native.country    32561 non-null object\n",
      "income            32561 non-null object\n",
      "dtypes: int64(6), object(9)\n",
      "memory usage: 3.7+ MB\n"
     ]
    }
   ],
   "source": [
    "data.info()"
   ]
  },
  {
   "cell_type": "code",
   "execution_count": 9,
   "metadata": {},
   "outputs": [
    {
     "data": {
      "text/plain": [
       "Private             22696\n",
       "Self-emp-not-inc     2541\n",
       "Local-gov            2093\n",
       "?                    1836\n",
       "State-gov            1298\n",
       "Self-emp-inc         1116\n",
       "Federal-gov           960\n",
       "Without-pay            14\n",
       "Never-worked            7\n",
       "Name: workclass, dtype: int64"
      ]
     },
     "execution_count": 9,
     "metadata": {},
     "output_type": "execute_result"
    }
   ],
   "source": [
    "data['workclass'].value_counts()"
   ]
  },
  {
   "cell_type": "code",
   "execution_count": 10,
   "metadata": {},
   "outputs": [
    {
     "data": {
      "text/plain": [
       "<=50K    24720\n",
       ">50K      7841\n",
       "Name: income, dtype: int64"
      ]
     },
     "execution_count": 10,
     "metadata": {},
     "output_type": "execute_result"
    }
   ],
   "source": [
    "data['income'].value_counts()    "
   ]
  },
  {
   "cell_type": "markdown",
   "metadata": {},
   "source": [
    "#### Encode the target variable to binary"
   ]
  },
  {
   "cell_type": "code",
   "execution_count": 11,
   "metadata": {},
   "outputs": [],
   "source": [
    "data['income'] = data['income'].apply(lambda inc: 0 if inc == \"<=50K\" else 1) # Binary encoding of the target variable"
   ]
  },
  {
   "cell_type": "markdown",
   "metadata": {},
   "source": [
    "## Exploratory analysis"
   ]
  },
  {
   "cell_type": "code",
   "execution_count": 14,
   "metadata": {},
   "outputs": [
    {
     "data": {
      "text/plain": [
       "<matplotlib.axes._subplots.AxesSubplot at 0x1a23ae94a8>"
      ]
     },
     "execution_count": 14,
     "metadata": {},
     "output_type": "execute_result"
    },
    {
     "data": {
      "image/png": "[encoded data removed]",
      "text/plain": [
       "<Figure size 720x360 with 1 Axes>"
      ]
     },
     "metadata": {
      "needs_background": "light"
     },
     "output_type": "display_data"
    }
   ],
   "source": [
    "plt.figure(figsize=(10,5))\n",
    "sns.countplot(data['income'])"
   ]
  },
  {
   "cell_type": "markdown",
   "metadata": {},
   "source": [
    "As one can see, there is considerable class imbalance in the target variable, i.e. income. This is also intuitively obvious as one expects fewer 'rich' people (earning>50k/annum) than 'not-so-rich' people (earning <50k/annum). Therefore we might need to consider over-sampling techniques in our ML model to improve our accuracy."
   ]
  },
  {
   "cell_type": "code",
   "execution_count": 13,
   "metadata": {
    "scrolled": false
   },
   "outputs": [
    {
     "data": {
      "text/plain": [
       "<matplotlib.axes._subplots.AxesSubplot at 0x1a21ae5f98>"
      ]
     },
     "execution_count": 13,
     "metadata": {},
     "output_type": "execute_result"
    },
    {
     "data": {
      "image/png": "[encoded data removed]",
      "text/plain": [
       "<Figure size 1008x432 with 1 Axes>"
      ]
     },
     "metadata": {
      "needs_background": "light"
     },
     "output_type": "display_data"
    }
   ],
   "source": [
    "plt.figure(figsize=(14,6))\n",
    "sns.countplot(data['marital.status'])"
   ]
  },
  {
   "cell_type": "markdown",
   "metadata": {},
   "source": [
    "Those with `Never-married` and `Married-civ-spouse` labels dominate the dataset."
   ]
  },
  {
   "cell_type": "code",
   "execution_count": 15,
   "metadata": {},
   "outputs": [
    {
     "data": {
      "text/plain": [
       "Married-civ-spouse       14976\n",
       "Never-married            10683\n",
       "Divorced                  4443\n",
       "Separated                 1025\n",
       "Widowed                    993\n",
       "Married-spouse-absent      418\n",
       "Married-AF-spouse           23\n",
       "Name: marital.status, dtype: int64"
      ]
     },
     "execution_count": 15,
     "metadata": {},
     "output_type": "execute_result"
    },
    {
     "data": {
      "image/png": "[encoded data removed]",
      "text/plain": [
       "<Figure size 1080x432 with 1 Axes>"
      ]
     },
     "metadata": {
      "needs_background": "light"
     },
     "output_type": "display_data"
    }
   ],
   "source": [
    "plt.figure(figsize=(15,6))\n",
    "ax=sns.barplot(x='marital.status',y='income',data=data,hue='sex')\n",
    "ax.set(ylabel='Fraction of people with income > $50k')\n",
    "data['marital.status'].value_counts()"
   ]
  },
  {
   "cell_type": "markdown",
   "metadata": {},
   "source": [
    "The above plot shows the the fraction of people earning more than $50k per annum, grouped by their marital status and gender. The data shows that married people have a higher %age of high-earners, compared to those who either never married or are widowed/divorced/separated. The black lines indicate 2 standard deviations (or 95\\% confidence interval) in the data set. The married spouses of armed forces personnel have a much higher variation in their income compared to civil spouses because of low-number statistics."
   ]
  },
  {
   "cell_type": "code",
   "execution_count": 16,
   "metadata": {},
   "outputs": [
    {
     "data": {
      "text/plain": [
       "<matplotlib.axes._subplots.AxesSubplot at 0x10dcc30b8>"
      ]
     },
     "execution_count": 16,
     "metadata": {},
     "output_type": "execute_result"
    },
    {
     "data": {
      "image/png": "[encoded data removed]",
      "text/plain": [
       "<Figure size 864x432 with 1 Axes>"
      ]
     },
     "metadata": {
      "needs_background": "light"
     },
     "output_type": "display_data"
    }
   ],
   "source": [
    "plt.figure(figsize=(12,6))\n",
    "sns.countplot(data['workclass'])"
   ]
  },
  {
   "cell_type": "code",
   "execution_count": 17,
   "metadata": {},
   "outputs": [
    {
     "data": {
      "text/plain": [
       "[Text(0, 0.5, 'Fraction of people with income > $50k')]"
      ]
     },
     "execution_count": 17,
     "metadata": {},
     "output_type": "execute_result"
    },
    {
     "data": {
      "image/png": "[encoded data removed]",
      "text/plain": [
       "<Figure size 864x432 with 1 Axes>"
      ]
     },
     "metadata": {
      "needs_background": "light"
     },
     "output_type": "display_data"
    }
   ],
   "source": [
    "plt.figure(figsize=(12,6))\n",
    "ax=sns.barplot('workclass', y='income', data=data, hue='sex')\n",
    "ax.set(ylabel='Fraction of people with income > $50k')"
   ]
  },
  {
   "cell_type": "code",
   "execution_count": 20,
   "metadata": {},
   "outputs": [
    {
     "data": {
      "text/plain": [
       "Text(0.5, 1.0, 'Heatmap showing correlations between numerical data')"
      ]
     },
     "execution_count": 20,
     "metadata": {},
     "output_type": "execute_result"
    },
    {
     "data": {
      "image/png": "[encoded data removed]",
      "text/plain": [
       "<Figure size 720x576 with 2 Axes>"
      ]
     },
     "metadata": {
      "needs_background": "light"
     },
     "output_type": "display_data"
    }
   ],
   "source": [
    "plt.figure(figsize=(10,8))  \n",
    "sns.heatmap(data.corr(),cmap='Accent',annot=True)\n",
    "#data.corr()\n",
    "plt.title('Heatmap showing correlations between numerical data')"
   ]
  },
  {
   "cell_type": "code",
   "execution_count": 21,
   "metadata": {},
   "outputs": [
    {
     "data": {
      "text/plain": [
       "<matplotlib.axes._subplots.AxesSubplot at 0x1a23a9b518>"
      ]
     },
     "execution_count": 21,
     "metadata": {},
     "output_type": "execute_result"
    },
    {
     "data": {
      "image/png": "[encoded data removed]",
      "text/plain": [
       "<Figure size 864x432 with 1 Axes>"
      ]
     },
     "metadata": {
      "needs_background": "light"
     },
     "output_type": "display_data"
    }
   ],
   "source": [
    "plt.figure(figsize=(12,6))\n",
    "sns.boxplot(x=\"income\", y=\"age\", data=data, hue='sex')\n",
    "#data[data['income']==0]['age'].mean()"
   ]
  },
  {
   "cell_type": "markdown",
   "metadata": {},
   "source": [
    "The mean age of people earning more than 50k per annum is around 44 whereas the mean age of of those earning less than 50k per annum is 36."
   ]
  },
  {
   "cell_type": "code",
   "execution_count": 27,
   "metadata": {
    "scrolled": true
   },
   "outputs": [
    {
     "data": {
      "text/plain": [
       "<matplotlib.axes._subplots.AxesSubplot at 0x1a2321a358>"
      ]
     },
     "execution_count": 27,
     "metadata": {},
     "output_type": "execute_result"
    },
    {
     "data": {
      "image/png": "[encoded data removed]",
      "text/plain": [
       "<Figure size 576x432 with 1 Axes>"
      ]
     },
     "metadata": {
      "needs_background": "light"
     },
     "output_type": "display_data"
    }
   ],
   "source": [
    "norm_fnl = (data[\"fnlwgt\"] - data['fnlwgt'].mean())/data['fnlwgt'].std()\n",
    "plt.figure(figsize=(8,6))\n",
    "sns.boxplot(x=\"income\", y=norm_fnl, data=data)"
   ]
  },
  {
   "cell_type": "markdown",
   "metadata": {},
   "source": [
    "As evident from the plot above, there are many outliers in the `fnlwgt` column and this feature is uncorrelated with `income`, our target variable. The correlation coefficient (which one can read from the heatmap) is -0.0095. The number of outliers, i.e. the number of records which are more than 2 s.d's away from the mean, is 1249."
   ]
  },
  {
   "cell_type": "code",
   "execution_count": 23,
   "metadata": {},
   "outputs": [
    {
     "data": {
      "text/plain": [
       "(1249, 15)"
      ]
     },
     "execution_count": 23,
     "metadata": {},
     "output_type": "execute_result"
    }
   ],
   "source": [
    "data[norm_fnl>2].shape"
   ]
  },
  {
   "cell_type": "code",
   "execution_count": 39,
   "metadata": {},
   "outputs": [
    {
     "data": {
      "text/plain": [
       "[Text(0, 0.5, 'Fraction of people with income > $50k')]"
      ]
     },
     "execution_count": 39,
     "metadata": {},
     "output_type": "execute_result"
    },
    {
     "data": {
      "image/png": "[encoded data removed]",
      "text/plain": [
       "<Figure size 720x360 with 1 Axes>"
      ]
     },
     "metadata": {
      "needs_background": "light"
     },
     "output_type": "display_data"
    }
   ],
   "source": [
    "plt.figure(figsize=(10,5))\n",
    "ax = sns.barplot(x='sex',y='income',data=data)\n",
    "ax.set(ylabel='Fraction of people with income > $50k')"
   ]
  },
  {
   "cell_type": "markdown",
   "metadata": {},
   "source": [
    "The fraction of rich among men is significantly higher than that among women."
   ]
  },
  {
   "cell_type": "code",
   "execution_count": 28,
   "metadata": {},
   "outputs": [
    {
     "data": {
      "text/plain": [
       "<matplotlib.axes._subplots.AxesSubplot at 0x1a23f06160>"
      ]
     },
     "execution_count": 28,
     "metadata": {},
     "output_type": "execute_result"
    },
    {
     "data": {
      "image/png": "[encoded data removed]",
      "text/plain": [
       "<Figure size 864x432 with 1 Axes>"
      ]
     },
     "metadata": {
      "needs_background": "light"
     },
     "output_type": "display_data"
    }
   ],
   "source": [
    "plt.figure(figsize=(12,6))\n",
    "sns.boxplot(x='income',y ='hours.per.week', hue='sex',data=data)"
   ]
  },
  {
   "cell_type": "markdown",
   "metadata": {},
   "source": [
    "On the basis of the above plot, we can only conclude that males put in slightly more hours per week than women on an average."
   ]
  },
  {
   "cell_type": "code",
   "execution_count": 29,
   "metadata": {},
   "outputs": [
    {
     "data": {
      "text/plain": [
       "[Text(0, 0.5, 'mean hours per week')]"
      ]
     },
     "execution_count": 29,
     "metadata": {},
     "output_type": "execute_result"
    },
    {
     "data": {
      "image/png": "[encoded data removed]",
      "text/plain": [
       "<Figure size 1080x432 with 1 Axes>"
      ]
     },
     "metadata": {
      "needs_background": "light"
     },
     "output_type": "display_data"
    }
   ],
   "source": [
    "plt.figure(figsize=(15,6))\n",
    "ax = sns.barplot(x='marital.status',y='hours.per.week',data=data,hue='sex')\n",
    "ax.set(ylabel='mean hours per week')"
   ]
  },
  {
   "cell_type": "code",
   "execution_count": 30,
   "metadata": {},
   "outputs": [
    {
     "data": {
      "text/plain": [
       "[Text(0, 0.5, 'Mean education')]"
      ]
     },
     "execution_count": 30,
     "metadata": {},
     "output_type": "execute_result"
    },
    {
     "data": {
      "image/png": "[encoded data removed]",
      "text/plain": [
       "<Figure size 720x432 with 1 Axes>"
      ]
     },
     "metadata": {
      "needs_background": "light"
     },
     "output_type": "display_data"
    }
   ],
   "source": [
    "plt.figure(figsize=(10,6))\n",
    "ax = sns.barplot(x='income', y='education.num',hue='sex', data=data)\n",
    "ax.set(ylabel='Mean education')"
   ]
  },
  {
   "cell_type": "markdown",
   "metadata": {},
   "source": [
    "The `education.num` is label encoded such that a higher number corresponds to a higher level of education. As on would naïvely expect, people who earn more (>50k per annum) are also highly educated. The mean education level for `income=1` class is between 11 (Assoc-voc) and 12 (Assoc-acdm) whereas that for the `income=0` class is between 9 (HS-grad) and 10 (Some-college)."
   ]
  },
  {
   "cell_type": "code",
   "execution_count": 31,
   "metadata": {},
   "outputs": [
    {
     "name": "stdout",
     "output_type": "stream",
     "text": [
      "White                 27816\n",
      "Black                  3124\n",
      "Asian-Pac-Islander     1039\n",
      "Amer-Indian-Eskimo      311\n",
      "Other                   271\n",
      "Name: race, dtype: int64\n"
     ]
    },
    {
     "data": {
      "text/plain": [
       "[Text(0, 0.5, 'Fraction of people with income > $50k')]"
      ]
     },
     "execution_count": 31,
     "metadata": {},
     "output_type": "execute_result"
    },
    {
     "data": {
      "image/png": "[encoded data removed]",
      "text/plain": [
       "<Figure size 864x432 with 1 Axes>"
      ]
     },
     "metadata": {
      "needs_background": "light"
     },
     "output_type": "display_data"
    }
   ],
   "source": [
    "print(data['race'].value_counts())\n",
    "plt.figure(figsize=(12,6))\n",
    "ax=sns.barplot(x='race',y='income',data=data)\n",
    "ax.set(ylabel='Fraction of people with income > $50k')"
   ]
  },
  {
   "cell_type": "code",
   "execution_count": 32,
   "metadata": {},
   "outputs": [
    {
     "data": {
      "text/plain": [
       "<seaborn.axisgrid.JointGrid at 0x1a235b7898>"
      ]
     },
     "execution_count": 32,
     "metadata": {},
     "output_type": "execute_result"
    },
    {
     "data": {
      "text/plain": [
       "<Figure size 864x432 with 0 Axes>"
      ]
     },
     "metadata": {},
     "output_type": "display_data"
    },
    {
     "data": {
      "image/png": "[encoded data removed]",
      "text/plain": [
       "<Figure size 432x432 with 3 Axes>"
      ]
     },
     "metadata": {
      "needs_background": "light"
     },
     "output_type": "display_data"
    }
   ],
   "source": [
    "plt.figure(figsize=(12,6))\n",
    "sns.jointplot(x=data['capital.gain'], y=data['capital.loss'])\n",
    "#print(data[((data['capital.gain']!=0) & (data['capital.loss']!=0))].shape)"
   ]
  },
  {
   "cell_type": "code",
   "execution_count": 33,
   "metadata": {},
   "outputs": [
    {
     "data": {
      "text/plain": [
       "<matplotlib.axes._subplots.AxesSubplot at 0x1a249c9940>"
      ]
     },
     "execution_count": 33,
     "metadata": {},
     "output_type": "execute_result"
    },
    {
     "data": {
      "image/png": "[encoded data removed]",
      "text/plain": [
       "<Figure size 864x576 with 1 Axes>"
      ]
     },
     "metadata": {
      "needs_background": "light"
     },
     "output_type": "display_data"
    }
   ],
   "source": [
    "plt.figure(figsize=(12,8))\n",
    "sns.distplot(data[(data['capital.gain']!=0)]['capital.gain'],kde=False, rug=True)"
   ]
  },
  {
   "cell_type": "code",
   "execution_count": 34,
   "metadata": {},
   "outputs": [
    {
     "data": {
      "text/plain": [
       "<matplotlib.axes._subplots.AxesSubplot at 0x1a24bab898>"
      ]
     },
     "execution_count": 34,
     "metadata": {},
     "output_type": "execute_result"
    },
    {
     "data": {
      "image/png": "[encoded data removed]",
      "text/plain": [
       "<Figure size 864x576 with 1 Axes>"
      ]
     },
     "metadata": {
      "needs_background": "light"
     },
     "output_type": "display_data"
    }
   ],
   "source": [
    "plt.figure(figsize=(12,8))\n",
    "sns.distplot(data[(data['capital.loss']!=0)]['capital.loss'], kde=False,rug=True)"
   ]
  },
  {
   "cell_type": "code",
   "execution_count": 35,
   "metadata": {},
   "outputs": [
    {
     "data": {
      "text/plain": [
       "[Text(0, 0.5, 'Fraction of people with income > $50k')]"
      ]
     },
     "execution_count": 35,
     "metadata": {},
     "output_type": "execute_result"
    },
    {
     "data": {
      "image/png": "[encoded data removed]",
      "text/plain": [
       "<Figure size 1440x432 with 1 Axes>"
      ]
     },
     "metadata": {
      "needs_background": "light"
     },
     "output_type": "display_data"
    }
   ],
   "source": [
    "plt.figure(figsize=(20,6))\n",
    "ax=sns.barplot(x='occupation', y='income', data=data)\n",
    "ax.set(ylabel='Fraction of people with income > $50k')"
   ]
  },
  {
   "cell_type": "code",
   "execution_count": 36,
   "metadata": {},
   "outputs": [
    {
     "name": "stdout",
     "output_type": "stream",
     "text": [
      "United-States                 29170\n",
      "Mexico                          643\n",
      "?                               583\n",
      "Philippines                     198\n",
      "Germany                         137\n",
      "Canada                          121\n",
      "Puerto-Rico                     114\n",
      "El-Salvador                     106\n",
      "India                           100\n",
      "Cuba                             95\n",
      "England                          90\n",
      "Jamaica                          81\n",
      "South                            80\n",
      "China                            75\n",
      "Italy                            73\n",
      "Dominican-Republic               70\n",
      "Vietnam                          67\n",
      "Guatemala                        64\n",
      "Japan                            62\n",
      "Poland                           60\n",
      "Columbia                         59\n",
      "Taiwan                           51\n",
      "Haiti                            44\n",
      "Iran                             43\n",
      "Portugal                         37\n",
      "Nicaragua                        34\n",
      "Peru                             31\n",
      "Greece                           29\n",
      "France                           29\n",
      "Ecuador                          28\n",
      "Ireland                          24\n",
      "Hong                             20\n",
      "Cambodia                         19\n",
      "Trinadad&Tobago                  19\n",
      "Thailand                         18\n",
      "Laos                             18\n",
      "Yugoslavia                       16\n",
      "Outlying-US(Guam-USVI-etc)       14\n",
      "Honduras                         13\n",
      "Hungary                          13\n",
      "Scotland                         12\n",
      "Holand-Netherlands                1\n",
      "Name: native.country, dtype: int64\n",
      "3391 people are not from the United States\n"
     ]
    }
   ],
   "source": [
    "print(data['native.country'].value_counts())\n",
    "not_from_US = np.sum(data['native.country']!='United-States')\n",
    "print(not_from_US, 'people are not from the United States')"
   ]
  },
  {
   "cell_type": "markdown",
   "metadata": {},
   "source": [
    "#### Convert the `native.country` feature to binary since there is a huge imbalance in this feature"
   ]
  },
  {
   "cell_type": "code",
   "execution_count": 37,
   "metadata": {},
   "outputs": [],
   "source": [
    "data['native.country'] = (data['native.country']=='United-States')*1\n",
    "#data['US_or_not']=np.where(data['native.country']=='United-States',1,0)"
   ]
  },
  {
   "cell_type": "code",
   "execution_count": 38,
   "metadata": {},
   "outputs": [
    {
     "data": {
      "text/html": [
       "<div>\n",
       "<style scoped>\n",
       "    .dataframe tbody tr th:only-of-type {\n",
       "        vertical-align: middle;\n",
       "    }\n",
       "\n",
       "    .dataframe tbody tr th {\n",
       "        vertical-align: top;\n",
       "    }\n",
       "\n",
       "    .dataframe thead th {\n",
       "        text-align: right;\n",
       "    }\n",
       "</style>\n",
       "<table border=\"1\" class=\"dataframe\">\n",
       "  <thead>\n",
       "    <tr style=\"text-align: right;\">\n",
       "      <th></th>\n",
       "      <th>workclass</th>\n",
       "      <th>education</th>\n",
       "      <th>marital.status</th>\n",
       "      <th>occupation</th>\n",
       "      <th>relationship</th>\n",
       "      <th>race</th>\n",
       "      <th>sex</th>\n",
       "    </tr>\n",
       "  </thead>\n",
       "  <tbody>\n",
       "    <tr>\n",
       "      <th>0</th>\n",
       "      <td>?</td>\n",
       "      <td>HS-grad</td>\n",
       "      <td>Widowed</td>\n",
       "      <td>?</td>\n",
       "      <td>Not-in-family</td>\n",
       "      <td>White</td>\n",
       "      <td>Female</td>\n",
       "    </tr>\n",
       "    <tr>\n",
       "      <th>1</th>\n",
       "      <td>Private</td>\n",
       "      <td>HS-grad</td>\n",
       "      <td>Widowed</td>\n",
       "      <td>Exec-managerial</td>\n",
       "      <td>Not-in-family</td>\n",
       "      <td>White</td>\n",
       "      <td>Female</td>\n",
       "    </tr>\n",
       "    <tr>\n",
       "      <th>2</th>\n",
       "      <td>?</td>\n",
       "      <td>Some-college</td>\n",
       "      <td>Widowed</td>\n",
       "      <td>?</td>\n",
       "      <td>Unmarried</td>\n",
       "      <td>Black</td>\n",
       "      <td>Female</td>\n",
       "    </tr>\n",
       "    <tr>\n",
       "      <th>3</th>\n",
       "      <td>Private</td>\n",
       "      <td>7th-8th</td>\n",
       "      <td>Divorced</td>\n",
       "      <td>Machine-op-inspct</td>\n",
       "      <td>Unmarried</td>\n",
       "      <td>White</td>\n",
       "      <td>Female</td>\n",
       "    </tr>\n",
       "    <tr>\n",
       "      <th>4</th>\n",
       "      <td>Private</td>\n",
       "      <td>Some-college</td>\n",
       "      <td>Separated</td>\n",
       "      <td>Prof-specialty</td>\n",
       "      <td>Own-child</td>\n",
       "      <td>White</td>\n",
       "      <td>Female</td>\n",
       "    </tr>\n",
       "  </tbody>\n",
       "</table>\n",
       "</div>"
      ],
      "text/plain": [
       "  workclass     education marital.status         occupation   relationship  \\\n",
       "0         ?       HS-grad        Widowed                  ?  Not-in-family   \n",
       "1   Private       HS-grad        Widowed    Exec-managerial  Not-in-family   \n",
       "2         ?  Some-college        Widowed                  ?      Unmarried   \n",
       "3   Private       7th-8th       Divorced  Machine-op-inspct      Unmarried   \n",
       "4   Private  Some-college      Separated     Prof-specialty      Own-child   \n",
       "\n",
       "    race     sex  \n",
       "0  White  Female  \n",
       "1  White  Female  \n",
       "2  Black  Female  \n",
       "3  White  Female  \n",
       "4  White  Female  "
      ]
     },
     "execution_count": 38,
     "metadata": {},
     "output_type": "execute_result"
    }
   ],
   "source": [
    "data.select_dtypes(exclude=[np.number]).head()"
   ]
  },
  {
   "cell_type": "code",
   "execution_count": 40,
   "metadata": {},
   "outputs": [],
   "source": [
    "#Replace all '?'s with NaNs.\n",
    "data = data.applymap(lambda x: np.nan if x=='?' else x)"
   ]
  },
  {
   "cell_type": "code",
   "execution_count": null,
   "metadata": {},
   "outputs": [],
   "source": [
    "data.isnull().sum(axis=0) # How many issing values are there in the dataset?"
   ]
  },
  {
   "cell_type": "code",
   "execution_count": null,
   "metadata": {},
   "outputs": [],
   "source": [
    "data.shape[0] - data.dropna(axis=0).shape[0]   # how many rows will be removed if I remove all the NaN's?"
   ]
  },
  {
   "cell_type": "code",
   "execution_count": null,
   "metadata": {},
   "outputs": [],
   "source": [
    "data = data.dropna(axis=0) ## Drop all the NaNs"
   ]
  },
  {
   "cell_type": "code",
   "execution_count": null,
   "metadata": {},
   "outputs": [],
   "source": [
    "#data.education.value_counts()  # I will label-encode the education column since it is an ordinal categorical variable"
   ]
  },
  {
   "cell_type": "code",
   "execution_count": null,
   "metadata": {},
   "outputs": [],
   "source": [
    "## This computes the fraction of people by country who earn >50k per annum\n",
    "#mean_income_bycountry_df = data[['native.country','income']].groupby(['native.country']).mean().reset_index()"
   ]
  },
  {
   "cell_type": "code",
   "execution_count": null,
   "metadata": {},
   "outputs": [],
   "source": [
    "#edu_encode_dict = {'Preschool':0,'1st-4th':1, '5th-6th':2, '7th-8th':3, '9th':4, '10th':5,\n",
    "#                  '11th':6, '12th':7, 'HS-grad':8, 'Some-college':9, 'Bachelors':10, 'Masters':11, 'Assoc-voc':12, \n",
    "#                   'Assoc-acdm':13, 'Doctorate':14, 'Prof-school':15}\n",
    "\n",
    "#data['education'] = data['education'].apply(lambda ed_level: edu_encode_dict[ed_level])"
   ]
  },
  {
   "cell_type": "markdown",
   "metadata": {},
   "source": [
    "### One-hot encoding of the categorical columns"
   ]
  },
  {
   "cell_type": "code",
   "execution_count": 41,
   "metadata": {},
   "outputs": [],
   "source": [
    "data = pd.get_dummies(data,columns=['workclass','sex', 'marital.status',\n",
    "                                    'race','relationship','occupation'],\n",
    "               prefix=['workclass', 'is', 'is', 'race_is', 'relation', 'is'], drop_first=True)\n",
    "### native country is ignored because that feature will be dropped later"
   ]
  },
  {
   "cell_type": "code",
   "execution_count": 42,
   "metadata": {},
   "outputs": [
    {
     "data": {
      "text/plain": [
       "<matplotlib.axes._subplots.AxesSubplot at 0x1a25433c18>"
      ]
     },
     "execution_count": 42,
     "metadata": {},
     "output_type": "execute_result"
    },
    {
     "data": {
      "image/png": "[encoded data removed]",
      "text/plain": [
       "<Figure size 1440x864 with 2 Axes>"
      ]
     },
     "metadata": {
      "needs_background": "light"
     },
     "output_type": "display_data"
    }
   ],
   "source": [
    "plt.figure(figsize=(20,12))\n",
    "sns.heatmap(data.corr())"
   ]
  },
  {
   "cell_type": "code",
   "execution_count": 43,
   "metadata": {},
   "outputs": [
    {
     "data": {
      "text/plain": [
       "(32561, 1)"
      ]
     },
     "execution_count": 43,
     "metadata": {},
     "output_type": "execute_result"
    }
   ],
   "source": [
    "data.select_dtypes(exclude=[np.number]).shape"
   ]
  },
  {
   "cell_type": "code",
   "execution_count": 44,
   "metadata": {},
   "outputs": [
    {
     "data": {
      "text/html": [
       "<div>\n",
       "<style scoped>\n",
       "    .dataframe tbody tr th:only-of-type {\n",
       "        vertical-align: middle;\n",
       "    }\n",
       "\n",
       "    .dataframe tbody tr th {\n",
       "        vertical-align: top;\n",
       "    }\n",
       "\n",
       "    .dataframe thead th {\n",
       "        text-align: right;\n",
       "    }\n",
       "</style>\n",
       "<table border=\"1\" class=\"dataframe\">\n",
       "  <thead>\n",
       "    <tr style=\"text-align: right;\">\n",
       "      <th></th>\n",
       "      <th>age</th>\n",
       "      <th>fnlwgt</th>\n",
       "      <th>education.num</th>\n",
       "      <th>capital.gain</th>\n",
       "      <th>capital.loss</th>\n",
       "      <th>hours.per.week</th>\n",
       "      <th>native.country</th>\n",
       "      <th>workclass_Local-gov</th>\n",
       "      <th>workclass_Never-worked</th>\n",
       "      <th>workclass_Private</th>\n",
       "      <th>...</th>\n",
       "      <th>is_Farming-fishing</th>\n",
       "      <th>is_Handlers-cleaners</th>\n",
       "      <th>is_Machine-op-inspct</th>\n",
       "      <th>is_Other-service</th>\n",
       "      <th>is_Priv-house-serv</th>\n",
       "      <th>is_Prof-specialty</th>\n",
       "      <th>is_Protective-serv</th>\n",
       "      <th>is_Sales</th>\n",
       "      <th>is_Tech-support</th>\n",
       "      <th>is_Transport-moving</th>\n",
       "    </tr>\n",
       "    <tr>\n",
       "      <th>income</th>\n",
       "      <th></th>\n",
       "      <th></th>\n",
       "      <th></th>\n",
       "      <th></th>\n",
       "      <th></th>\n",
       "      <th></th>\n",
       "      <th></th>\n",
       "      <th></th>\n",
       "      <th></th>\n",
       "      <th></th>\n",
       "      <th></th>\n",
       "      <th></th>\n",
       "      <th></th>\n",
       "      <th></th>\n",
       "      <th></th>\n",
       "      <th></th>\n",
       "      <th></th>\n",
       "      <th></th>\n",
       "      <th></th>\n",
       "      <th></th>\n",
       "      <th></th>\n",
       "    </tr>\n",
       "  </thead>\n",
       "  <tbody>\n",
       "    <tr>\n",
       "      <th>0</th>\n",
       "      <td>36.783738</td>\n",
       "      <td>190340.86517</td>\n",
       "      <td>9.595065</td>\n",
       "      <td>148.752468</td>\n",
       "      <td>53.142921</td>\n",
       "      <td>38.840210</td>\n",
       "      <td>0.889927</td>\n",
       "      <td>0.059709</td>\n",
       "      <td>0.000283</td>\n",
       "      <td>0.717354</td>\n",
       "      <td>...</td>\n",
       "      <td>0.035558</td>\n",
       "      <td>0.051942</td>\n",
       "      <td>0.070874</td>\n",
       "      <td>0.127751</td>\n",
       "      <td>0.005987</td>\n",
       "      <td>0.092273</td>\n",
       "      <td>0.017718</td>\n",
       "      <td>0.107888</td>\n",
       "      <td>0.026092</td>\n",
       "      <td>0.051659</td>\n",
       "    </tr>\n",
       "    <tr>\n",
       "      <th>1</th>\n",
       "      <td>44.249841</td>\n",
       "      <td>188005.00000</td>\n",
       "      <td>11.611657</td>\n",
       "      <td>4006.142456</td>\n",
       "      <td>195.001530</td>\n",
       "      <td>45.473026</td>\n",
       "      <td>0.914552</td>\n",
       "      <td>0.078689</td>\n",
       "      <td>0.000000</td>\n",
       "      <td>0.632955</td>\n",
       "      <td>...</td>\n",
       "      <td>0.014666</td>\n",
       "      <td>0.010968</td>\n",
       "      <td>0.031884</td>\n",
       "      <td>0.017472</td>\n",
       "      <td>0.000128</td>\n",
       "      <td>0.237087</td>\n",
       "      <td>0.026910</td>\n",
       "      <td>0.125367</td>\n",
       "      <td>0.036092</td>\n",
       "      <td>0.040811</td>\n",
       "    </tr>\n",
       "  </tbody>\n",
       "</table>\n",
       "<p>2 rows × 43 columns</p>\n",
       "</div>"
      ],
      "text/plain": [
       "              age        fnlwgt  education.num  capital.gain  capital.loss  \\\n",
       "income                                                                       \n",
       "0       36.783738  190340.86517       9.595065    148.752468     53.142921   \n",
       "1       44.249841  188005.00000      11.611657   4006.142456    195.001530   \n",
       "\n",
       "        hours.per.week  native.country  workclass_Local-gov  \\\n",
       "income                                                        \n",
       "0            38.840210        0.889927             0.059709   \n",
       "1            45.473026        0.914552             0.078689   \n",
       "\n",
       "        workclass_Never-worked  workclass_Private  ...  is_Farming-fishing  \\\n",
       "income                                             ...                       \n",
       "0                     0.000283           0.717354  ...            0.035558   \n",
       "1                     0.000000           0.632955  ...            0.014666   \n",
       "\n",
       "        is_Handlers-cleaners  is_Machine-op-inspct  is_Other-service  \\\n",
       "income                                                                 \n",
       "0                   0.051942              0.070874          0.127751   \n",
       "1                   0.010968              0.031884          0.017472   \n",
       "\n",
       "        is_Priv-house-serv  is_Prof-specialty  is_Protective-serv  is_Sales  \\\n",
       "income                                                                        \n",
       "0                 0.005987           0.092273            0.017718  0.107888   \n",
       "1                 0.000128           0.237087            0.026910  0.125367   \n",
       "\n",
       "        is_Tech-support  is_Transport-moving  \n",
       "income                                        \n",
       "0              0.026092             0.051659  \n",
       "1              0.036092             0.040811  \n",
       "\n",
       "[2 rows x 43 columns]"
      ]
     },
     "execution_count": 44,
     "metadata": {},
     "output_type": "execute_result"
    }
   ],
   "source": [
    "data.groupby('income').mean()"
   ]
  },
  {
   "cell_type": "code",
   "execution_count": 45,
   "metadata": {},
   "outputs": [
    {
     "data": {
      "text/plain": [
       "(32561, 45)"
      ]
     },
     "execution_count": 45,
     "metadata": {},
     "output_type": "execute_result"
    }
   ],
   "source": [
    "data.shape"
   ]
  },
  {
   "cell_type": "code",
   "execution_count": 46,
   "metadata": {},
   "outputs": [],
   "source": [
    "y = data.income\n",
    "X = data.drop(['income', 'education', 'native.country', 'fnlwgt'],axis=1)"
   ]
  },
  {
   "cell_type": "markdown",
   "metadata": {},
   "source": [
    "- `income` is dropped from X because it is the target variable.\n",
    "- `Education` is dropped because it is already label-encoded in `education.num`. One can notice the high correlation between `education` and `education.num` in the heatmap.\n",
    "- `native country` is dropped because it showed very little feature importance in random forest classifer.\n",
    "- `fnlwgt` is dropped because it has no correlation with `income`."
   ]
  },
  {
   "cell_type": "markdown",
   "metadata": {},
   "source": [
    "## Modelling\n",
    "This section explores different classification algorithms to maximise the accuracy for predicting income of a person (> 50k/yr or < 50k/yr)."
   ]
  },
  {
   "cell_type": "code",
   "execution_count": 47,
   "metadata": {},
   "outputs": [],
   "source": [
    "from sklearn.model_selection import train_test_split"
   ]
  },
  {
   "cell_type": "code",
   "execution_count": 48,
   "metadata": {},
   "outputs": [],
   "source": [
    "# Split the dataset into training and testing set\n",
    "X_train, X_test, y_train, y_test = train_test_split(X, y, test_size=0.3, random_state=42)"
   ]
  },
  {
   "cell_type": "code",
   "execution_count": 49,
   "metadata": {},
   "outputs": [],
   "source": [
    "from sklearn.ensemble import RandomForestClassifier\n",
    "from sklearn.ensemble import ExtraTreesClassifier\n",
    "from xgboost import XGBClassifier as xgb\n",
    "from sklearn import metrics"
   ]
  },
  {
   "cell_type": "markdown",
   "metadata": {},
   "source": [
    "### Baseline model\n",
    "In the baseline model, we predict the minority class for all our train and test (or validation) examples. The resulting accuracy will serve as a benchmark for the ML models. In other words, the sophisticated ML models should have an accuracy which should at least better the baseline one."
   ]
  },
  {
   "cell_type": "code",
   "execution_count": 50,
   "metadata": {},
   "outputs": [
    {
     "name": "stdout",
     "output_type": "stream",
     "text": [
      "Accuracy on train data: 0.758643%\n",
      "Accuracy on test data: 0.760467%\n"
     ]
    }
   ],
   "source": [
    "baseline_train = np.zeros(y_train.shape[0])\n",
    "baseline_test = np.zeros(y_test.shape[0])\n",
    "print('Accuracy on train data: %f%%' % (metrics.accuracy_score(y_train, baseline_train)))\n",
    "print('Accuracy on test data: %f%%' %  (metrics.accuracy_score(y_test, baseline_test)))"
   ]
  },
  {
   "cell_type": "markdown",
   "metadata": {},
   "source": [
    "### Random Forest classifier"
   ]
  },
  {
   "cell_type": "code",
   "execution_count": 51,
   "metadata": {},
   "outputs": [
    {
     "name": "stdout",
     "output_type": "stream",
     "text": [
      "RandomForestClassifier(bootstrap=True, class_weight=None, criterion='gini',\n",
      "                       max_depth=10, max_features='auto', max_leaf_nodes=None,\n",
      "                       min_impurity_decrease=0.0, min_impurity_split=None,\n",
      "                       min_samples_leaf=1, min_samples_split=5,\n",
      "                       min_weight_fraction_leaf=0.0, n_estimators=300,\n",
      "                       n_jobs=None, oob_score=True, random_state=10, verbose=0,\n",
      "                       warm_start=False)\n"
     ]
    }
   ],
   "source": [
    "rfmodel = RandomForestClassifier(n_estimators=300,oob_score=True,min_samples_split=5, max_depth=10,random_state=10)\n",
    "rfmodel.fit(X_train,y_train)\n",
    "print(rfmodel)"
   ]
  },
  {
   "cell_type": "code",
   "execution_count": 52,
   "metadata": {},
   "outputs": [],
   "source": [
    "def show_classifier_metrics(clf, y_train=y_train,y_test=y_test, print_classification_report=True, print_confusion_matrix=True):\n",
    "    print(clf)\n",
    "    if print_confusion_matrix:\n",
    "        print('confusion matrix of training data')\n",
    "        print(metrics.confusion_matrix(y_train, clf.predict(X_train)))\n",
    "        print('confusion matrix of test data')\n",
    "        print(metrics.confusion_matrix(y_test, clf.predict(X_test)))\n",
    "    if print_classification_report:\n",
    "        print('classification report of test data')\n",
    "        print(metrics.classification_report(y_test, clf.predict(X_test)))\n",
    "    print('Accuracy on test data: %f%%' % (metrics.accuracy_score(y_test, clf.predict(X_test))*100))\n",
    "    print('Accuracy on training data: %f%%' % (metrics.accuracy_score(y_train, clf.predict(X_train))*100))\n",
    "    print('Area under the ROC curve : %f' % (metrics.roc_auc_score(y_test, clf.predict(X_test))))"
   ]
  },
  {
   "cell_type": "code",
   "execution_count": 53,
   "metadata": {},
   "outputs": [
    {
     "name": "stdout",
     "output_type": "stream",
     "text": [
      "RandomForestClassifier(bootstrap=True, class_weight=None, criterion='gini',\n",
      "                       max_depth=10, max_features='auto', max_leaf_nodes=None,\n",
      "                       min_impurity_decrease=0.0, min_impurity_split=None,\n",
      "                       min_samples_leaf=1, min_samples_split=5,\n",
      "                       min_weight_fraction_leaf=0.0, n_estimators=300,\n",
      "                       n_jobs=None, oob_score=True, random_state=10, verbose=0,\n",
      "                       warm_start=False)\n",
      "confusion matrix of training data\n",
      "[[16610   681]\n",
      " [ 2333  3168]]\n",
      "confusion matrix of test data\n",
      "[[7125  304]\n",
      " [1072 1268]]\n",
      "classification report of test data\n",
      "              precision    recall  f1-score   support\n",
      "\n",
      "           0       0.87      0.96      0.91      7429\n",
      "           1       0.81      0.54      0.65      2340\n",
      "\n",
      "    accuracy                           0.86      9769\n",
      "   macro avg       0.84      0.75      0.78      9769\n",
      "weighted avg       0.85      0.86      0.85      9769\n",
      "\n",
      "Accuracy on test data: 85.914628%\n",
      "Accuracy on training data: 86.776062%\n",
      "Area under the ROC curve : 0.750480\n",
      "oob score = 0.859907\n"
     ]
    }
   ],
   "source": [
    "show_classifier_metrics(rfmodel,y_train)\n",
    "print('oob score = %f'% rfmodel.oob_score_)"
   ]
  },
  {
   "cell_type": "code",
   "execution_count": 54,
   "metadata": {},
   "outputs": [
    {
     "data": {
      "image/png": "[encoded data removed]",
      "text/plain": [
       "<Figure size 1440x720 with 1 Axes>"
      ]
     },
     "metadata": {
      "needs_background": "light"
     },
     "output_type": "display_data"
    }
   ],
   "source": [
    "importance_list = rfmodel.feature_importances_\n",
    "name_list = X_train.columns\n",
    "importance_list, name_list = zip(*sorted(zip(importance_list, name_list)))\n",
    "plt.figure(figsize=(20,10))\n",
    "plt.barh(range(len(name_list)),importance_list,align='center')\n",
    "plt.yticks(range(len(name_list)),name_list)\n",
    "plt.xlabel('Relative Importance in the Random Forest')\n",
    "plt.ylabel('Features')\n",
    "plt.title('Relative importance of Each Feature')\n",
    "plt.show()"
   ]
  },
  {
   "cell_type": "markdown",
   "metadata": {},
   "source": [
    "### Random forest: Grid Search and cross-validation"
   ]
  },
  {
   "cell_type": "code",
   "execution_count": 55,
   "metadata": {},
   "outputs": [],
   "source": [
    "from sklearn.model_selection import cross_val_score, GridSearchCV"
   ]
  },
  {
   "cell_type": "code",
   "execution_count": 56,
   "metadata": {},
   "outputs": [],
   "source": [
    "def grid_search(clf, parameters, X, y, n_jobs= -1, n_folds=4, score_func=None):\n",
    "    if score_func:\n",
    "        gs = GridSearchCV(clf, param_grid=parameters, cv=n_folds, n_jobs=n_jobs, scoring=score_func,verbose =2)\n",
    "    else:\n",
    "        print('Doing grid search')\n",
    "        gs = GridSearchCV(clf, param_grid=parameters, n_jobs=n_jobs, cv=n_folds, verbose =2)\n",
    "    gs.fit(X, y)\n",
    "    print(\"mean test score (weighted by split size) of CV rounds: \",gs.cv_results_['mean_test_score'] )\n",
    "    print (\"Best parameter set\", gs.best_params_, \"Corresponding mean CV score\",gs.best_score_)\n",
    "    best = gs.best_estimator_\n",
    "    return best"
   ]
  },
  {
   "cell_type": "code",
   "execution_count": 57,
   "metadata": {},
   "outputs": [
    {
     "name": "stdout",
     "output_type": "stream",
     "text": [
      "Doing grid search\n",
      "Fitting 4 folds for each of 12 candidates, totalling 48 fits\n"
     ]
    },
    {
     "name": "stderr",
     "output_type": "stream",
     "text": [
      "[Parallel(n_jobs=-1)]: Using backend LokyBackend with 4 concurrent workers.\n",
      "[Parallel(n_jobs=-1)]: Done  33 tasks      | elapsed:   45.1s\n",
      "[Parallel(n_jobs=-1)]: Done  48 out of  48 | elapsed:  1.1min finished\n"
     ]
    },
    {
     "name": "stdout",
     "output_type": "stream",
     "text": [
      "mean test score (weighted by split size) of CV rounds:  [0.85990698 0.85995086 0.85968761 0.86113549 0.86157424 0.86104774\n",
      " 0.86161811 0.86205686 0.86267111 0.86038961 0.86188136 0.86166199]\n",
      "Best parameter set {'max_depth': 15, 'n_estimators': 300} Corresponding mean CV score 0.8626711126711126\n"
     ]
    }
   ],
   "source": [
    "rfmodel2 = RandomForestClassifier(min_samples_split=5,oob_score=True, n_jobs=-1,random_state=10)\n",
    "parameters = {'n_estimators': [100,200,300], 'max_depth': [10,13,15,20]}\n",
    "rfmodelCV = grid_search(rfmodel2, parameters,X_train,y_train)"
   ]
  },
  {
   "cell_type": "code",
   "execution_count": 58,
   "metadata": {},
   "outputs": [
    {
     "name": "stdout",
     "output_type": "stream",
     "text": [
      "RandomForestClassifier(bootstrap=True, class_weight=None, criterion='gini',\n",
      "                       max_depth=15, max_features='auto', max_leaf_nodes=None,\n",
      "                       min_impurity_decrease=0.0, min_impurity_split=None,\n",
      "                       min_samples_leaf=1, min_samples_split=5,\n",
      "                       min_weight_fraction_leaf=0.0, n_estimators=300,\n",
      "                       n_jobs=-1, oob_score=True, random_state=10, verbose=0,\n",
      "                       warm_start=False)\n",
      "confusion matrix of training data\n",
      "[[16686   605]\n",
      " [ 1995  3506]]\n",
      "confusion matrix of test data\n",
      "[[7103  326]\n",
      " [1017 1323]]\n",
      "classification report of test data\n",
      "              precision    recall  f1-score   support\n",
      "\n",
      "           0       0.87      0.96      0.91      7429\n",
      "           1       0.80      0.57      0.66      2340\n",
      "\n",
      "    accuracy                           0.86      9769\n",
      "   macro avg       0.84      0.76      0.79      9769\n",
      "weighted avg       0.86      0.86      0.85      9769\n",
      "\n",
      "Accuracy on test data: 86.252431%\n",
      "Accuracy on training data: 88.592489%\n",
      "Area under the ROC curve : 0.760751\n",
      "oob score = 0.863285\n"
     ]
    }
   ],
   "source": [
    "rfmodelCV.fit(X_train,y_train)\n",
    "show_classifier_metrics(rfmodelCV,y_train)\n",
    "print('oob score = %f'% rfmodelCV.oob_score_)"
   ]
  },
  {
   "cell_type": "markdown",
   "metadata": {},
   "source": [
    "## XGBoost "
   ]
  },
  {
   "cell_type": "code",
   "execution_count": 59,
   "metadata": {},
   "outputs": [],
   "source": [
    "from xgboost.sklearn import XGBClassifier"
   ]
  },
  {
   "cell_type": "code",
   "execution_count": 61,
   "metadata": {},
   "outputs": [
    {
     "name": "stdout",
     "output_type": "stream",
     "text": [
      "[0]\tvalidation_0-error:0.175325\tvalidation_1-error:0.178831\n",
      "Multiple eval metrics have been passed: 'validation_1-error' will be used for early stopping.\n",
      "\n",
      "Will train until validation_1-error hasn't improved in 30 rounds.\n",
      "[1]\tvalidation_0-error:0.144963\tvalidation_1-error:0.145665\n",
      "[2]\tvalidation_0-error:0.150623\tvalidation_1-error:0.152523\n",
      "[3]\tvalidation_0-error:0.144568\tvalidation_1-error:0.146074\n",
      "[4]\tvalidation_0-error:0.143384\tvalidation_1-error:0.143618\n",
      "[5]\tvalidation_0-error:0.143384\tvalidation_1-error:0.144334\n",
      "[6]\tvalidation_0-error:0.14334\tvalidation_1-error:0.143822\n",
      "[7]\tvalidation_0-error:0.143077\tvalidation_1-error:0.144334\n",
      "[8]\tvalidation_0-error:0.143164\tvalidation_1-error:0.144436\n",
      "[9]\tvalidation_0-error:0.14334\tvalidation_1-error:0.144641\n",
      "[10]\tvalidation_0-error:0.143252\tvalidation_1-error:0.144436\n",
      "[11]\tvalidation_0-error:0.14391\tvalidation_1-error:0.144948\n",
      "[12]\tvalidation_0-error:0.142857\tvalidation_1-error:0.144232\n",
      "[13]\tvalidation_0-error:0.142682\tvalidation_1-error:0.144334\n",
      "[14]\tvalidation_0-error:0.140444\tvalidation_1-error:0.143106\n",
      "[15]\tvalidation_0-error:0.140049\tvalidation_1-error:0.142901\n",
      "[16]\tvalidation_0-error:0.139391\tvalidation_1-error:0.143003\n",
      "[17]\tvalidation_0-error:0.139259\tvalidation_1-error:0.142799\n",
      "[18]\tvalidation_0-error:0.139303\tvalidation_1-error:0.142594\n",
      "[19]\tvalidation_0-error:0.139259\tvalidation_1-error:0.142799\n",
      "[20]\tvalidation_0-error:0.138996\tvalidation_1-error:0.142696\n",
      "[21]\tvalidation_0-error:0.139347\tvalidation_1-error:0.142696\n",
      "[22]\tvalidation_0-error:0.138996\tvalidation_1-error:0.142492\n",
      "[23]\tvalidation_0-error:0.138996\tvalidation_1-error:0.142696\n",
      "[24]\tvalidation_0-error:0.138294\tvalidation_1-error:0.142184\n",
      "[25]\tvalidation_0-error:0.137461\tvalidation_1-error:0.141673\n",
      "[26]\tvalidation_0-error:0.137724\tvalidation_1-error:0.14198\n",
      "[27]\tvalidation_0-error:0.137724\tvalidation_1-error:0.141877\n",
      "[28]\tvalidation_0-error:0.136802\tvalidation_1-error:0.141468\n",
      "[29]\tvalidation_0-error:0.136978\tvalidation_1-error:0.141263\n",
      "[30]\tvalidation_0-error:0.136539\tvalidation_1-error:0.141468\n",
      "[31]\tvalidation_0-error:0.136188\tvalidation_1-error:0.141161\n",
      "[32]\tvalidation_0-error:0.136057\tvalidation_1-error:0.141263\n",
      "[33]\tvalidation_0-error:0.136232\tvalidation_1-error:0.141161\n",
      "[34]\tvalidation_0-error:0.135662\tvalidation_1-error:0.141058\n",
      "[35]\tvalidation_0-error:0.135486\tvalidation_1-error:0.140751\n",
      "[36]\tvalidation_0-error:0.135267\tvalidation_1-error:0.141058\n",
      "[37]\tvalidation_0-error:0.135311\tvalidation_1-error:0.140956\n",
      "[38]\tvalidation_0-error:0.135179\tvalidation_1-error:0.140649\n",
      "[39]\tvalidation_0-error:0.135398\tvalidation_1-error:0.140137\n",
      "[40]\tvalidation_0-error:0.134345\tvalidation_1-error:0.139625\n",
      "[41]\tvalidation_0-error:0.134038\tvalidation_1-error:0.139932\n",
      "[42]\tvalidation_0-error:0.133819\tvalidation_1-error:0.139523\n",
      "[43]\tvalidation_0-error:0.134038\tvalidation_1-error:0.139421\n",
      "[44]\tvalidation_0-error:0.133994\tvalidation_1-error:0.139523\n",
      "[45]\tvalidation_0-error:0.133643\tvalidation_1-error:0.139318\n",
      "[46]\tvalidation_0-error:0.133468\tvalidation_1-error:0.139318\n",
      "[47]\tvalidation_0-error:0.133292\tvalidation_1-error:0.139114\n",
      "[48]\tvalidation_0-error:0.132985\tvalidation_1-error:0.138704\n",
      "[49]\tvalidation_0-error:0.132854\tvalidation_1-error:0.138602\n",
      "[50]\tvalidation_0-error:0.13259\tvalidation_1-error:0.138499\n",
      "[51]\tvalidation_0-error:0.131976\tvalidation_1-error:0.137988\n",
      "[52]\tvalidation_0-error:0.131581\tvalidation_1-error:0.137783\n",
      "[53]\tvalidation_0-error:0.131713\tvalidation_1-error:0.137578\n",
      "[54]\tvalidation_0-error:0.131274\tvalidation_1-error:0.136862\n",
      "[55]\tvalidation_0-error:0.130923\tvalidation_1-error:0.136554\n",
      "[56]\tvalidation_0-error:0.130704\tvalidation_1-error:0.136657\n",
      "[57]\tvalidation_0-error:0.130309\tvalidation_1-error:0.137169\n",
      "[58]\tvalidation_0-error:0.130265\tvalidation_1-error:0.137271\n",
      "[59]\tvalidation_0-error:0.130397\tvalidation_1-error:0.136554\n",
      "[60]\tvalidation_0-error:0.130265\tvalidation_1-error:0.135633\n",
      "[61]\tvalidation_0-error:0.129739\tvalidation_1-error:0.135531\n",
      "[62]\tvalidation_0-error:0.1293\tvalidation_1-error:0.135633\n",
      "[63]\tvalidation_0-error:0.128861\tvalidation_1-error:0.135428\n",
      "[64]\tvalidation_0-error:0.128993\tvalidation_1-error:0.135326\n",
      "[65]\tvalidation_0-error:0.128905\tvalidation_1-error:0.135326\n",
      "[66]\tvalidation_0-error:0.128642\tvalidation_1-error:0.135531\n",
      "[67]\tvalidation_0-error:0.128598\tvalidation_1-error:0.135224\n",
      "[68]\tvalidation_0-error:0.127764\tvalidation_1-error:0.134814\n",
      "[69]\tvalidation_0-error:0.12772\tvalidation_1-error:0.134405\n",
      "[70]\tvalidation_0-error:0.127632\tvalidation_1-error:0.134302\n",
      "[71]\tvalidation_0-error:0.127457\tvalidation_1-error:0.133176\n",
      "[72]\tvalidation_0-error:0.12715\tvalidation_1-error:0.133074\n",
      "[73]\tvalidation_0-error:0.126623\tvalidation_1-error:0.132767\n",
      "[74]\tvalidation_0-error:0.126536\tvalidation_1-error:0.132153\n",
      "[75]\tvalidation_0-error:0.126141\tvalidation_1-error:0.131641\n",
      "[76]\tvalidation_0-error:0.125877\tvalidation_1-error:0.131641\n",
      "[77]\tvalidation_0-error:0.125921\tvalidation_1-error:0.130208\n",
      "[78]\tvalidation_0-error:0.125877\tvalidation_1-error:0.131231\n",
      "[79]\tvalidation_0-error:0.125483\tvalidation_1-error:0.13072\n",
      "[80]\tvalidation_0-error:0.125483\tvalidation_1-error:0.130515\n",
      "[81]\tvalidation_0-error:0.125395\tvalidation_1-error:0.130515\n",
      "[82]\tvalidation_0-error:0.124956\tvalidation_1-error:0.129798\n",
      "[83]\tvalidation_0-error:0.125\tvalidation_1-error:0.129287\n",
      "[84]\tvalidation_0-error:0.125088\tvalidation_1-error:0.129594\n",
      "[85]\tvalidation_0-error:0.124868\tvalidation_1-error:0.129594\n",
      "[86]\tvalidation_0-error:0.124825\tvalidation_1-error:0.129184\n",
      "[87]\tvalidation_0-error:0.124605\tvalidation_1-error:0.129184\n",
      "[88]\tvalidation_0-error:0.124693\tvalidation_1-error:0.128775\n",
      "[89]\tvalidation_0-error:0.124386\tvalidation_1-error:0.128775\n",
      "[90]\tvalidation_0-error:0.124386\tvalidation_1-error:0.128775\n",
      "[91]\tvalidation_0-error:0.123903\tvalidation_1-error:0.12857\n",
      "[92]\tvalidation_0-error:0.123815\tvalidation_1-error:0.128468\n",
      "[93]\tvalidation_0-error:0.123771\tvalidation_1-error:0.128365\n",
      "[94]\tvalidation_0-error:0.123508\tvalidation_1-error:0.128365\n",
      "[95]\tvalidation_0-error:0.123377\tvalidation_1-error:0.128263\n",
      "[96]\tvalidation_0-error:0.123289\tvalidation_1-error:0.128263\n",
      "[97]\tvalidation_0-error:0.123157\tvalidation_1-error:0.128161\n",
      "[98]\tvalidation_0-error:0.122938\tvalidation_1-error:0.127444\n",
      "[99]\tvalidation_0-error:0.122762\tvalidation_1-error:0.127649\n",
      "[100]\tvalidation_0-error:0.122894\tvalidation_1-error:0.127342\n",
      "[101]\tvalidation_0-error:0.122631\tvalidation_1-error:0.127035\n",
      "[102]\tvalidation_0-error:0.122631\tvalidation_1-error:0.127239\n",
      "[103]\tvalidation_0-error:0.122455\tvalidation_1-error:0.127239\n",
      "[104]\tvalidation_0-error:0.122499\tvalidation_1-error:0.127137\n",
      "[105]\tvalidation_0-error:0.122587\tvalidation_1-error:0.127035\n",
      "[106]\tvalidation_0-error:0.122367\tvalidation_1-error:0.127239\n",
      "[107]\tvalidation_0-error:0.122367\tvalidation_1-error:0.127342\n",
      "[108]\tvalidation_0-error:0.122192\tvalidation_1-error:0.127035\n",
      "[109]\tvalidation_0-error:0.122104\tvalidation_1-error:0.127137\n",
      "[110]\tvalidation_0-error:0.122016\tvalidation_1-error:0.127035\n",
      "[111]\tvalidation_0-error:0.122192\tvalidation_1-error:0.127035\n",
      "[112]\tvalidation_0-error:0.12206\tvalidation_1-error:0.126932\n",
      "[113]\tvalidation_0-error:0.121973\tvalidation_1-error:0.126727\n",
      "[114]\tvalidation_0-error:0.121885\tvalidation_1-error:0.126625\n",
      "[115]\tvalidation_0-error:0.121885\tvalidation_1-error:0.126625\n",
      "[116]\tvalidation_0-error:0.121841\tvalidation_1-error:0.12642\n",
      "[117]\tvalidation_0-error:0.121578\tvalidation_1-error:0.126318\n",
      "[118]\tvalidation_0-error:0.121622\tvalidation_1-error:0.12642\n",
      "[119]\tvalidation_0-error:0.121666\tvalidation_1-error:0.125908\n",
      "[120]\tvalidation_0-error:0.121753\tvalidation_1-error:0.125908\n",
      "[121]\tvalidation_0-error:0.121578\tvalidation_1-error:0.125704\n",
      "[122]\tvalidation_0-error:0.121622\tvalidation_1-error:0.125601\n",
      "[123]\tvalidation_0-error:0.12092\tvalidation_1-error:0.126216\n",
      "[124]\tvalidation_0-error:0.120963\tvalidation_1-error:0.126216\n",
      "[125]\tvalidation_0-error:0.120876\tvalidation_1-error:0.12642\n",
      "[126]\tvalidation_0-error:0.1207\tvalidation_1-error:0.126523\n",
      "[127]\tvalidation_0-error:0.120569\tvalidation_1-error:0.12642\n",
      "[128]\tvalidation_0-error:0.120525\tvalidation_1-error:0.126216\n",
      "[129]\tvalidation_0-error:0.120481\tvalidation_1-error:0.126216\n",
      "[130]\tvalidation_0-error:0.120525\tvalidation_1-error:0.126113\n",
      "[131]\tvalidation_0-error:0.120437\tvalidation_1-error:0.126113\n"
     ]
    },
    {
     "name": "stdout",
     "output_type": "stream",
     "text": [
      "[132]\tvalidation_0-error:0.120349\tvalidation_1-error:0.126113\n",
      "[133]\tvalidation_0-error:0.120305\tvalidation_1-error:0.126011\n",
      "[134]\tvalidation_0-error:0.120218\tvalidation_1-error:0.126113\n",
      "[135]\tvalidation_0-error:0.120174\tvalidation_1-error:0.126216\n",
      "[136]\tvalidation_0-error:0.120042\tvalidation_1-error:0.126523\n",
      "[137]\tvalidation_0-error:0.119779\tvalidation_1-error:0.12642\n",
      "[138]\tvalidation_0-error:0.119998\tvalidation_1-error:0.126318\n",
      "[139]\tvalidation_0-error:0.120086\tvalidation_1-error:0.12642\n",
      "[140]\tvalidation_0-error:0.119998\tvalidation_1-error:0.126932\n",
      "[141]\tvalidation_0-error:0.119691\tvalidation_1-error:0.12683\n",
      "[142]\tvalidation_0-error:0.119867\tvalidation_1-error:0.126523\n",
      "[143]\tvalidation_0-error:0.119691\tvalidation_1-error:0.126216\n",
      "[144]\tvalidation_0-error:0.119735\tvalidation_1-error:0.126318\n",
      "[145]\tvalidation_0-error:0.119472\tvalidation_1-error:0.126318\n",
      "[146]\tvalidation_0-error:0.119472\tvalidation_1-error:0.126318\n",
      "[147]\tvalidation_0-error:0.119428\tvalidation_1-error:0.126625\n",
      "[148]\tvalidation_0-error:0.119077\tvalidation_1-error:0.126625\n",
      "[149]\tvalidation_0-error:0.118814\tvalidation_1-error:0.127342\n",
      "[150]\tvalidation_0-error:0.118594\tvalidation_1-error:0.127342\n",
      "[151]\tvalidation_0-error:0.11855\tvalidation_1-error:0.127035\n",
      "[152]\tvalidation_0-error:0.11855\tvalidation_1-error:0.126932\n",
      "Stopping. Best iteration:\n",
      "[122]\tvalidation_0-error:0.121622\tvalidation_1-error:0.125601\n",
      "\n"
     ]
    },
    {
     "data": {
      "text/plain": [
       "XGBClassifier(base_score=0.5, booster='gbtree', colsample_bylevel=0.9,\n",
       "              colsample_bytree=0.9, gamma=0, learning_rate=0.1,\n",
       "              max_delta_step=0, max_depth=5, min_child_weight=1, missing=None,\n",
       "              n_estimators=400, n_jobs=1, nthread=None,\n",
       "              objective='binary:logistic', random_state=0, reg_alpha=0,\n",
       "              reg_lambda=1.5, scale_pos_weight=1, seed=10, silent=True,\n",
       "              subsample=0.9, verbosity=1)"
      ]
     },
     "execution_count": 61,
     "metadata": {},
     "output_type": "execute_result"
    }
   ],
   "source": [
    "param = {}\n",
    "param['learning_rate'] = 0.1\n",
    "param['verbosity'] = 1\n",
    "param['colsample_bylevel'] = 0.9\n",
    "param['colsample_bytree'] = 0.9\n",
    "param['subsample'] = 0.9\n",
    "param['reg_lambda']= 1.5\n",
    "param['max_depth'] = 5\n",
    "param['n_estimators'] = 400\n",
    "param['seed']=10\n",
    "xgb= XGBClassifier(**param)\n",
    "xgb.fit(X_train, y_train, eval_metric=['error'], eval_set=[(X_train, y_train),(X_test, y_test)],early_stopping_rounds=30)"
   ]
  },
  {
   "cell_type": "code",
   "execution_count": 62,
   "metadata": {},
   "outputs": [
    {
     "name": "stdout",
     "output_type": "stream",
     "text": [
      "XGBClassifier(base_score=0.5, booster='gbtree', colsample_bylevel=0.9,\n",
      "              colsample_bytree=0.9, gamma=0, learning_rate=0.1,\n",
      "              max_delta_step=0, max_depth=5, min_child_weight=1, missing=None,\n",
      "              n_estimators=400, n_jobs=1, nthread=None,\n",
      "              objective='binary:logistic', random_state=0, reg_alpha=0,\n",
      "              reg_lambda=1.5, scale_pos_weight=1, seed=10, silent=True,\n",
      "              subsample=0.9, verbosity=1)\n",
      "confusion matrix of training data\n",
      "[[16408   883]\n",
      " [ 1889  3612]]\n",
      "confusion matrix of test data\n",
      "[[7054  375]\n",
      " [ 852 1488]]\n",
      "classification report of test data\n",
      "              precision    recall  f1-score   support\n",
      "\n",
      "           0       0.89      0.95      0.92      7429\n",
      "           1       0.80      0.64      0.71      2340\n",
      "\n",
      "    accuracy                           0.87      9769\n",
      "   macro avg       0.85      0.79      0.81      9769\n",
      "weighted avg       0.87      0.87      0.87      9769\n",
      "\n",
      "Accuracy on test data: 87.439861%\n",
      "Accuracy on training data: 87.837838%\n",
      "Area under the ROC curve : 0.792710\n"
     ]
    }
   ],
   "source": [
    "show_classifier_metrics(xgb,y_train)"
   ]
  },
  {
   "cell_type": "code",
   "execution_count": 63,
   "metadata": {},
   "outputs": [
    {
     "data": {
      "image/png": "[encoded data removed]",
      "text/plain": [
       "<Figure size 1440x720 with 1 Axes>"
      ]
     },
     "metadata": {
      "needs_background": "light"
     },
     "output_type": "display_data"
    }
   ],
   "source": [
    "importance_list = xgb.feature_importances_\n",
    "name_list = X_train.columns\n",
    "importance_list, name_list = zip(*sorted(zip(importance_list, name_list)))\n",
    "plt.figure(figsize=(20,10))\n",
    "plt.barh(range(len(name_list)),importance_list,align='center')\n",
    "plt.yticks(range(len(name_list)),name_list)\n",
    "plt.xlabel('Relative Importance in XGBoost')\n",
    "plt.ylabel('Features')\n",
    "plt.title('Relative importance of Each Feature')\n",
    "plt.show()"
   ]
  },
  {
   "cell_type": "markdown",
   "metadata": {},
   "source": [
    "### Grid search with cross validation: XGBoost model"
   ]
  },
  {
   "cell_type": "code",
   "execution_count": 64,
   "metadata": {},
   "outputs": [
    {
     "name": "stdout",
     "output_type": "stream",
     "text": [
      "Doing grid search\n",
      "Fitting 4 folds for each of 9 candidates, totalling 36 fits\n"
     ]
    },
    {
     "name": "stderr",
     "output_type": "stream",
     "text": [
      "[Parallel(n_jobs=-1)]: Using backend LokyBackend with 4 concurrent workers.\n",
      "[Parallel(n_jobs=-1)]: Done  36 out of  36 | elapsed:  2.4min finished\n"
     ]
    },
    {
     "name": "stdout",
     "output_type": "stream",
     "text": [
      "mean test score (weighted by split size) of CV rounds:  [0.86982274 0.86938399 0.86876974 0.86938399 0.87017375 0.870788\n",
      " 0.86565462 0.86587399 0.86565462]\n",
      "Best parameter set {'colsample_bylevel': 0.9, 'colsample_bytree': 0.9, 'learning_rate': 0.1, 'max_depth': 5, 'n_estimators': 300, 'reg_lambda': 2.5, 'seed': 10, 'subsample': 0.9} Corresponding mean CV score 0.8707879957879958\n"
     ]
    }
   ],
   "source": [
    "xgbmodel2 = XGBClassifier(seed=42)\n",
    "param = {\n",
    "'learning_rate': [0.1],#[0.1,0.2],\n",
    "#'verbosity': [1],\n",
    "'colsample_bylevel': [0.9],\n",
    "'colsample_bytree': [0.9],\n",
    "'subsample' : [0.9],\n",
    "'n_estimators': [300],\n",
    "'reg_lambda': [1.5,2,2.5],\n",
    "'max_depth': [3,5,7],\n",
    " 'seed': [10]   \n",
    "}\n",
    "xgbCV = grid_search(xgbmodel2, param,X_train,y_train)"
   ]
  },
  {
   "cell_type": "code",
   "execution_count": 65,
   "metadata": {},
   "outputs": [
    {
     "name": "stdout",
     "output_type": "stream",
     "text": [
      "[0]\tvalidation_0-error:0.174316\tvalidation_1-error:0.178831\n",
      "Multiple eval metrics have been passed: 'validation_1-error' will be used for early stopping.\n",
      "\n",
      "Will train until validation_1-error hasn't improved in 30 rounds.\n",
      "[1]\tvalidation_0-error:0.144086\tvalidation_1-error:0.145358\n",
      "[2]\tvalidation_0-error:0.151501\tvalidation_1-error:0.153854\n",
      "[3]\tvalidation_0-error:0.14413\tvalidation_1-error:0.145665\n",
      "[4]\tvalidation_0-error:0.144612\tvalidation_1-error:0.145767\n",
      "[5]\tvalidation_0-error:0.144437\tvalidation_1-error:0.145255\n",
      "[6]\tvalidation_0-error:0.143954\tvalidation_1-error:0.144641\n",
      "[7]\tvalidation_0-error:0.143735\tvalidation_1-error:0.144744\n",
      "[8]\tvalidation_0-error:0.143559\tvalidation_1-error:0.144744\n",
      "[9]\tvalidation_0-error:0.14119\tvalidation_1-error:0.143618\n",
      "[10]\tvalidation_0-error:0.143252\tvalidation_1-error:0.144641\n",
      "[11]\tvalidation_0-error:0.14255\tvalidation_1-error:0.144129\n",
      "[12]\tvalidation_0-error:0.142287\tvalidation_1-error:0.143618\n",
      "[13]\tvalidation_0-error:0.140883\tvalidation_1-error:0.142901\n",
      "[14]\tvalidation_0-error:0.14062\tvalidation_1-error:0.143515\n",
      "[15]\tvalidation_0-error:0.139874\tvalidation_1-error:0.142799\n",
      "[16]\tvalidation_0-error:0.13961\tvalidation_1-error:0.142901\n",
      "[17]\tvalidation_0-error:0.139567\tvalidation_1-error:0.142799\n",
      "[18]\tvalidation_0-error:0.139479\tvalidation_1-error:0.142696\n",
      "[19]\tvalidation_0-error:0.139391\tvalidation_1-error:0.143106\n",
      "[20]\tvalidation_0-error:0.139523\tvalidation_1-error:0.142594\n",
      "[21]\tvalidation_0-error:0.139786\tvalidation_1-error:0.142492\n",
      "[22]\tvalidation_0-error:0.139479\tvalidation_1-error:0.14198\n",
      "[23]\tvalidation_0-error:0.139259\tvalidation_1-error:0.142082\n",
      "[24]\tvalidation_0-error:0.138865\tvalidation_1-error:0.142082\n",
      "[25]\tvalidation_0-error:0.137548\tvalidation_1-error:0.141366\n",
      "[26]\tvalidation_0-error:0.138163\tvalidation_1-error:0.141366\n",
      "[27]\tvalidation_0-error:0.13768\tvalidation_1-error:0.140956\n",
      "[28]\tvalidation_0-error:0.137373\tvalidation_1-error:0.140854\n",
      "[29]\tvalidation_0-error:0.13711\tvalidation_1-error:0.140751\n",
      "[30]\tvalidation_0-error:0.136715\tvalidation_1-error:0.140547\n",
      "[31]\tvalidation_0-error:0.136276\tvalidation_1-error:0.140444\n",
      "[32]\tvalidation_0-error:0.136144\tvalidation_1-error:0.140547\n",
      "[33]\tvalidation_0-error:0.135749\tvalidation_1-error:0.140137\n",
      "[34]\tvalidation_0-error:0.135311\tvalidation_1-error:0.139932\n",
      "[35]\tvalidation_0-error:0.135267\tvalidation_1-error:0.13983\n",
      "[36]\tvalidation_0-error:0.135135\tvalidation_1-error:0.139625\n",
      "[37]\tvalidation_0-error:0.135267\tvalidation_1-error:0.139625\n",
      "[38]\tvalidation_0-error:0.134828\tvalidation_1-error:0.139625\n",
      "[39]\tvalidation_0-error:0.134653\tvalidation_1-error:0.139728\n",
      "[40]\tvalidation_0-error:0.134258\tvalidation_1-error:0.138602\n",
      "[41]\tvalidation_0-error:0.133994\tvalidation_1-error:0.139114\n",
      "[42]\tvalidation_0-error:0.133336\tvalidation_1-error:0.138602\n",
      "[43]\tvalidation_0-error:0.13338\tvalidation_1-error:0.139114\n",
      "[44]\tvalidation_0-error:0.133073\tvalidation_1-error:0.139011\n",
      "[45]\tvalidation_0-error:0.133073\tvalidation_1-error:0.138909\n",
      "[46]\tvalidation_0-error:0.132371\tvalidation_1-error:0.139011\n",
      "[47]\tvalidation_0-error:0.132327\tvalidation_1-error:0.139216\n",
      "[48]\tvalidation_0-error:0.132941\tvalidation_1-error:0.138602\n",
      "[49]\tvalidation_0-error:0.131976\tvalidation_1-error:0.138295\n",
      "[50]\tvalidation_0-error:0.131845\tvalidation_1-error:0.137988\n",
      "[51]\tvalidation_0-error:0.131494\tvalidation_1-error:0.137373\n",
      "[52]\tvalidation_0-error:0.130879\tvalidation_1-error:0.136964\n",
      "[53]\tvalidation_0-error:0.130835\tvalidation_1-error:0.137169\n",
      "[54]\tvalidation_0-error:0.130528\tvalidation_1-error:0.137066\n",
      "[55]\tvalidation_0-error:0.130528\tvalidation_1-error:0.137271\n",
      "[56]\tvalidation_0-error:0.13066\tvalidation_1-error:0.136862\n",
      "[57]\tvalidation_0-error:0.130353\tvalidation_1-error:0.136759\n",
      "[58]\tvalidation_0-error:0.130177\tvalidation_1-error:0.136657\n",
      "[59]\tvalidation_0-error:0.129563\tvalidation_1-error:0.136247\n",
      "[60]\tvalidation_0-error:0.129387\tvalidation_1-error:0.13594\n",
      "[61]\tvalidation_0-error:0.129212\tvalidation_1-error:0.135428\n",
      "[62]\tvalidation_0-error:0.129124\tvalidation_1-error:0.135224\n",
      "[63]\tvalidation_0-error:0.129212\tvalidation_1-error:0.135224\n",
      "[64]\tvalidation_0-error:0.128817\tvalidation_1-error:0.134712\n",
      "[65]\tvalidation_0-error:0.127983\tvalidation_1-error:0.1342\n",
      "[66]\tvalidation_0-error:0.128071\tvalidation_1-error:0.134507\n",
      "[67]\tvalidation_0-error:0.128159\tvalidation_1-error:0.134405\n",
      "[68]\tvalidation_0-error:0.12794\tvalidation_1-error:0.134098\n",
      "[69]\tvalidation_0-error:0.127764\tvalidation_1-error:0.134098\n",
      "[70]\tvalidation_0-error:0.127676\tvalidation_1-error:0.134098\n",
      "[71]\tvalidation_0-error:0.127983\tvalidation_1-error:0.133176\n",
      "[72]\tvalidation_0-error:0.127238\tvalidation_1-error:0.132255\n",
      "[73]\tvalidation_0-error:0.127194\tvalidation_1-error:0.13205\n",
      "[74]\tvalidation_0-error:0.126887\tvalidation_1-error:0.132153\n",
      "[75]\tvalidation_0-error:0.126931\tvalidation_1-error:0.132255\n",
      "[76]\tvalidation_0-error:0.126887\tvalidation_1-error:0.131948\n",
      "[77]\tvalidation_0-error:0.12658\tvalidation_1-error:0.131641\n",
      "[78]\tvalidation_0-error:0.126536\tvalidation_1-error:0.131641\n",
      "[79]\tvalidation_0-error:0.126228\tvalidation_1-error:0.131231\n",
      "[80]\tvalidation_0-error:0.126272\tvalidation_1-error:0.131436\n",
      "[81]\tvalidation_0-error:0.125921\tvalidation_1-error:0.130924\n",
      "[82]\tvalidation_0-error:0.125527\tvalidation_1-error:0.130617\n",
      "[83]\tvalidation_0-error:0.125351\tvalidation_1-error:0.13072\n",
      "[84]\tvalidation_0-error:0.125132\tvalidation_1-error:0.130822\n",
      "[85]\tvalidation_0-error:0.125044\tvalidation_1-error:0.130617\n",
      "[86]\tvalidation_0-error:0.125176\tvalidation_1-error:0.130515\n",
      "[87]\tvalidation_0-error:0.125219\tvalidation_1-error:0.13031\n",
      "[88]\tvalidation_0-error:0.125132\tvalidation_1-error:0.13031\n",
      "[89]\tvalidation_0-error:0.124956\tvalidation_1-error:0.130208\n",
      "[90]\tvalidation_0-error:0.124386\tvalidation_1-error:0.129696\n",
      "[91]\tvalidation_0-error:0.124386\tvalidation_1-error:0.129287\n",
      "[92]\tvalidation_0-error:0.124254\tvalidation_1-error:0.128672\n",
      "[93]\tvalidation_0-error:0.124166\tvalidation_1-error:0.128672\n",
      "[94]\tvalidation_0-error:0.124079\tvalidation_1-error:0.12857\n",
      "[95]\tvalidation_0-error:0.123859\tvalidation_1-error:0.128877\n",
      "[96]\tvalidation_0-error:0.123464\tvalidation_1-error:0.128672\n",
      "[97]\tvalidation_0-error:0.123377\tvalidation_1-error:0.128775\n",
      "[98]\tvalidation_0-error:0.123377\tvalidation_1-error:0.128979\n",
      "[99]\tvalidation_0-error:0.123069\tvalidation_1-error:0.128877\n",
      "[100]\tvalidation_0-error:0.123245\tvalidation_1-error:0.12857\n",
      "[101]\tvalidation_0-error:0.123201\tvalidation_1-error:0.128877\n",
      "[102]\tvalidation_0-error:0.122982\tvalidation_1-error:0.128877\n",
      "[103]\tvalidation_0-error:0.122982\tvalidation_1-error:0.128877\n",
      "[104]\tvalidation_0-error:0.122762\tvalidation_1-error:0.128468\n",
      "[105]\tvalidation_0-error:0.123069\tvalidation_1-error:0.128263\n",
      "[106]\tvalidation_0-error:0.122938\tvalidation_1-error:0.128468\n",
      "[107]\tvalidation_0-error:0.12285\tvalidation_1-error:0.128161\n",
      "[108]\tvalidation_0-error:0.122587\tvalidation_1-error:0.127956\n",
      "[109]\tvalidation_0-error:0.122587\tvalidation_1-error:0.127546\n",
      "[110]\tvalidation_0-error:0.122543\tvalidation_1-error:0.127546\n",
      "[111]\tvalidation_0-error:0.122236\tvalidation_1-error:0.127853\n",
      "[112]\tvalidation_0-error:0.121973\tvalidation_1-error:0.127649\n",
      "[113]\tvalidation_0-error:0.122104\tvalidation_1-error:0.127546\n",
      "[114]\tvalidation_0-error:0.122148\tvalidation_1-error:0.127649\n",
      "[115]\tvalidation_0-error:0.122016\tvalidation_1-error:0.127649\n",
      "[116]\tvalidation_0-error:0.121929\tvalidation_1-error:0.12683\n",
      "[117]\tvalidation_0-error:0.121973\tvalidation_1-error:0.126932\n",
      "[118]\tvalidation_0-error:0.121841\tvalidation_1-error:0.127342\n",
      "[119]\tvalidation_0-error:0.121753\tvalidation_1-error:0.127035\n",
      "[120]\tvalidation_0-error:0.121753\tvalidation_1-error:0.12683\n",
      "[121]\tvalidation_0-error:0.121666\tvalidation_1-error:0.12683\n",
      "[122]\tvalidation_0-error:0.121666\tvalidation_1-error:0.126727\n",
      "[123]\tvalidation_0-error:0.121622\tvalidation_1-error:0.126625\n",
      "[124]\tvalidation_0-error:0.12149\tvalidation_1-error:0.126523\n",
      "[125]\tvalidation_0-error:0.121446\tvalidation_1-error:0.12642\n",
      "[126]\tvalidation_0-error:0.121358\tvalidation_1-error:0.12642\n",
      "[127]\tvalidation_0-error:0.121314\tvalidation_1-error:0.126318\n",
      "[128]\tvalidation_0-error:0.121271\tvalidation_1-error:0.12642\n",
      "[129]\tvalidation_0-error:0.121314\tvalidation_1-error:0.126523\n",
      "[130]\tvalidation_0-error:0.121183\tvalidation_1-error:0.12642\n",
      "[131]\tvalidation_0-error:0.120963\tvalidation_1-error:0.12642\n"
     ]
    },
    {
     "name": "stdout",
     "output_type": "stream",
     "text": [
      "[132]\tvalidation_0-error:0.12092\tvalidation_1-error:0.126113\n",
      "[133]\tvalidation_0-error:0.120876\tvalidation_1-error:0.126318\n",
      "[134]\tvalidation_0-error:0.120876\tvalidation_1-error:0.126318\n",
      "[135]\tvalidation_0-error:0.120876\tvalidation_1-error:0.126318\n",
      "[136]\tvalidation_0-error:0.120612\tvalidation_1-error:0.126011\n",
      "[137]\tvalidation_0-error:0.120656\tvalidation_1-error:0.126216\n",
      "[138]\tvalidation_0-error:0.120788\tvalidation_1-error:0.126011\n",
      "[139]\tvalidation_0-error:0.120744\tvalidation_1-error:0.12642\n",
      "[140]\tvalidation_0-error:0.120656\tvalidation_1-error:0.12642\n",
      "[141]\tvalidation_0-error:0.120744\tvalidation_1-error:0.12642\n",
      "[142]\tvalidation_0-error:0.120612\tvalidation_1-error:0.126113\n",
      "[143]\tvalidation_0-error:0.120481\tvalidation_1-error:0.126011\n",
      "[144]\tvalidation_0-error:0.12013\tvalidation_1-error:0.126011\n",
      "[145]\tvalidation_0-error:0.119954\tvalidation_1-error:0.125908\n",
      "[146]\tvalidation_0-error:0.119998\tvalidation_1-error:0.125806\n",
      "[147]\tvalidation_0-error:0.120086\tvalidation_1-error:0.126216\n",
      "[148]\tvalidation_0-error:0.120086\tvalidation_1-error:0.126216\n",
      "[149]\tvalidation_0-error:0.120042\tvalidation_1-error:0.126523\n",
      "[150]\tvalidation_0-error:0.120042\tvalidation_1-error:0.12642\n",
      "[151]\tvalidation_0-error:0.119998\tvalidation_1-error:0.126216\n",
      "[152]\tvalidation_0-error:0.119954\tvalidation_1-error:0.126216\n",
      "[153]\tvalidation_0-error:0.119691\tvalidation_1-error:0.126113\n",
      "[154]\tvalidation_0-error:0.119779\tvalidation_1-error:0.126113\n",
      "[155]\tvalidation_0-error:0.119735\tvalidation_1-error:0.126216\n",
      "[156]\tvalidation_0-error:0.119603\tvalidation_1-error:0.126113\n",
      "[157]\tvalidation_0-error:0.119472\tvalidation_1-error:0.126011\n",
      "[158]\tvalidation_0-error:0.119559\tvalidation_1-error:0.126216\n",
      "[159]\tvalidation_0-error:0.119472\tvalidation_1-error:0.126216\n",
      "[160]\tvalidation_0-error:0.119516\tvalidation_1-error:0.126113\n",
      "[161]\tvalidation_0-error:0.119559\tvalidation_1-error:0.126216\n",
      "[162]\tvalidation_0-error:0.119516\tvalidation_1-error:0.126216\n",
      "[163]\tvalidation_0-error:0.11934\tvalidation_1-error:0.126523\n",
      "[164]\tvalidation_0-error:0.119384\tvalidation_1-error:0.126216\n",
      "[165]\tvalidation_0-error:0.119165\tvalidation_1-error:0.126318\n",
      "[166]\tvalidation_0-error:0.119252\tvalidation_1-error:0.12642\n",
      "[167]\tvalidation_0-error:0.11934\tvalidation_1-error:0.126318\n",
      "[168]\tvalidation_0-error:0.119252\tvalidation_1-error:0.126011\n",
      "[169]\tvalidation_0-error:0.119208\tvalidation_1-error:0.126113\n",
      "[170]\tvalidation_0-error:0.119033\tvalidation_1-error:0.126318\n",
      "[171]\tvalidation_0-error:0.118989\tvalidation_1-error:0.126216\n",
      "[172]\tvalidation_0-error:0.11877\tvalidation_1-error:0.126011\n",
      "[173]\tvalidation_0-error:0.118726\tvalidation_1-error:0.126011\n",
      "[174]\tvalidation_0-error:0.118594\tvalidation_1-error:0.126318\n",
      "[175]\tvalidation_0-error:0.118814\tvalidation_1-error:0.126216\n",
      "[176]\tvalidation_0-error:0.118857\tvalidation_1-error:0.125806\n",
      "Stopping. Best iteration:\n",
      "[146]\tvalidation_0-error:0.119998\tvalidation_1-error:0.125806\n",
      "\n"
     ]
    },
    {
     "data": {
      "text/plain": [
       "XGBClassifier(base_score=0.5, booster='gbtree', colsample_bylevel=0.9,\n",
       "              colsample_bytree=0.9, gamma=0, learning_rate=0.1,\n",
       "              max_delta_step=0, max_depth=5, min_child_weight=1, missing=None,\n",
       "              n_estimators=300, n_jobs=1, nthread=None,\n",
       "              objective='binary:logistic', random_state=0, reg_alpha=0,\n",
       "              reg_lambda=2.5, scale_pos_weight=1, seed=10, silent=True,\n",
       "              subsample=0.9)"
      ]
     },
     "execution_count": 65,
     "metadata": {},
     "output_type": "execute_result"
    }
   ],
   "source": [
    "xgbCV.fit(X_train, y_train, eval_metric=['error'], eval_set=[(X_train, y_train),(X_test, y_test)],early_stopping_rounds=30)"
   ]
  },
  {
   "cell_type": "code",
   "execution_count": 66,
   "metadata": {},
   "outputs": [
    {
     "name": "stdout",
     "output_type": "stream",
     "text": [
      "XGBClassifier(base_score=0.5, booster='gbtree', colsample_bylevel=0.9,\n",
      "              colsample_bytree=0.9, gamma=0, learning_rate=0.1,\n",
      "              max_delta_step=0, max_depth=5, min_child_weight=1, missing=None,\n",
      "              n_estimators=300, n_jobs=1, nthread=None,\n",
      "              objective='binary:logistic', random_state=0, reg_alpha=0,\n",
      "              reg_lambda=2.5, scale_pos_weight=1, seed=10, silent=True,\n",
      "              subsample=0.9)\n",
      "confusion matrix of training data\n",
      "[[16413   878]\n",
      " [ 1857  3644]]\n",
      "confusion matrix of test data\n",
      "[[7046  383]\n",
      " [ 846 1494]]\n",
      "classification report of test data\n",
      "              precision    recall  f1-score   support\n",
      "\n",
      "           0       0.89      0.95      0.92      7429\n",
      "           1       0.80      0.64      0.71      2340\n",
      "\n",
      "    accuracy                           0.87      9769\n",
      "   macro avg       0.84      0.79      0.81      9769\n",
      "weighted avg       0.87      0.87      0.87      9769\n",
      "\n",
      "Accuracy on test data: 87.419388%\n",
      "Accuracy on training data: 88.000176%\n",
      "Area under the ROC curve : 0.793453\n"
     ]
    }
   ],
   "source": [
    "show_classifier_metrics(xgbCV,y_train)"
   ]
  },
  {
   "cell_type": "code",
   "execution_count": null,
   "metadata": {},
   "outputs": [],
   "source": [
    "#X_test.iloc[np.where(y_test != xgbCV.predict(X_test))]"
   ]
  },
  {
   "cell_type": "markdown",
   "metadata": {},
   "source": [
    "## Logistic regression"
   ]
  },
  {
   "cell_type": "code",
   "execution_count": 98,
   "metadata": {},
   "outputs": [],
   "source": [
    "from sklearn.linear_model import LogisticRegression"
   ]
  },
  {
   "cell_type": "code",
   "execution_count": 99,
   "metadata": {},
   "outputs": [
    {
     "name": "stdout",
     "output_type": "stream",
     "text": [
      "Doing grid search\n",
      "Fitting 3 folds for each of 12 candidates, totalling 36 fits\n"
     ]
    },
    {
     "name": "stderr",
     "output_type": "stream",
     "text": [
      "[Parallel(n_jobs=-1)]: Using backend LokyBackend with 4 concurrent workers.\n",
      "[Parallel(n_jobs=-1)]: Done  36 out of  36 | elapsed:    3.7s finished\n",
      "/Users/debashis/anaconda3/lib/python3.6/site-packages/sklearn/linear_model/logistic.py:432: FutureWarning: Default solver will be changed to 'lbfgs' in 0.22. Specify a solver to silence this warning.\n",
      "  FutureWarning)\n"
     ]
    },
    {
     "name": "stdout",
     "output_type": "stream",
     "text": [
      "[LibLinear]mean test score (weighted by split size) of CV rounds:  [0.8498596 0.8498596 0.8498596 0.8498596 0.8502106 0.8502106 0.8502106\n",
      " 0.8502106 0.8495086 0.8495086 0.8495086 0.8495086]\n",
      "Best parameter set {'C': 5, 'max_iter': 100, 'verbose': 1} Corresponding mean CV score 0.8502106002106002\n"
     ]
    }
   ],
   "source": [
    "param = {\n",
    "'C': [3,5,10], \n",
    "'verbose': [1],\n",
    "    'max_iter': [100,200,500,700]\n",
    "}   \n",
    "logreg = LogisticRegression(random_state=10)\n",
    "logreg_grid = grid_search(logreg, param, X_train,y_train, n_folds=3)"
   ]
  },
  {
   "cell_type": "code",
   "execution_count": 100,
   "metadata": {},
   "outputs": [
    {
     "name": "stdout",
     "output_type": "stream",
     "text": [
      "[LibLinear]"
     ]
    },
    {
     "name": "stderr",
     "output_type": "stream",
     "text": [
      "/Users/debashis/anaconda3/lib/python3.6/site-packages/sklearn/linear_model/logistic.py:432: FutureWarning: Default solver will be changed to 'lbfgs' in 0.22. Specify a solver to silence this warning.\n",
      "  FutureWarning)\n"
     ]
    },
    {
     "data": {
      "text/plain": [
       "LogisticRegression(C=5, class_weight=None, dual=False, fit_intercept=True,\n",
       "                   intercept_scaling=1, l1_ratio=None, max_iter=100,\n",
       "                   multi_class='warn', n_jobs=None, penalty='l2',\n",
       "                   random_state=10, solver='warn', tol=0.0001, verbose=1,\n",
       "                   warm_start=False)"
      ]
     },
     "execution_count": 100,
     "metadata": {},
     "output_type": "execute_result"
    }
   ],
   "source": [
    "logreg_grid.fit(X_train, y_train)"
   ]
  },
  {
   "cell_type": "code",
   "execution_count": 101,
   "metadata": {},
   "outputs": [
    {
     "name": "stdout",
     "output_type": "stream",
     "text": [
      "LogisticRegression(C=5, class_weight=None, dual=False, fit_intercept=True,\n",
      "                   intercept_scaling=1, l1_ratio=None, max_iter=100,\n",
      "                   multi_class='warn', n_jobs=None, penalty='l2',\n",
      "                   random_state=10, solver='warn', tol=0.0001, verbose=1,\n",
      "                   warm_start=False)\n",
      "confusion matrix of training data\n",
      "[[16110  1181]\n",
      " [ 2213  3288]]\n",
      "confusion matrix of test data\n",
      "[[6929  500]\n",
      " [ 990 1350]]\n",
      "classification report of test data\n",
      "              precision    recall  f1-score   support\n",
      "\n",
      "           0       0.87      0.93      0.90      7429\n",
      "           1       0.73      0.58      0.64      2340\n",
      "\n",
      "    accuracy                           0.85      9769\n",
      "   macro avg       0.80      0.75      0.77      9769\n",
      "weighted avg       0.84      0.85      0.84      9769\n",
      "\n",
      "Accuracy on test data: 84.747671%\n",
      "Accuracy on training data: 85.108810%\n",
      "Area under the ROC curve : 0.754810\n"
     ]
    }
   ],
   "source": [
    "show_classifier_metrics(logreg_grid)"
   ]
  },
  {
   "cell_type": "markdown",
   "metadata": {},
   "source": [
    "## Naive Bayes"
   ]
  },
  {
   "cell_type": "code",
   "execution_count": 102,
   "metadata": {},
   "outputs": [],
   "source": [
    "from sklearn.naive_bayes import GaussianNB"
   ]
  },
  {
   "cell_type": "code",
   "execution_count": 103,
   "metadata": {},
   "outputs": [],
   "source": [
    "NBmodel = GaussianNB()"
   ]
  },
  {
   "cell_type": "code",
   "execution_count": 104,
   "metadata": {},
   "outputs": [
    {
     "data": {
      "text/plain": [
       "GaussianNB(priors=None, var_smoothing=1e-09)"
      ]
     },
     "execution_count": 104,
     "metadata": {},
     "output_type": "execute_result"
    }
   ],
   "source": [
    "NBmodel.fit(X_train, y_train)"
   ]
  },
  {
   "cell_type": "code",
   "execution_count": 105,
   "metadata": {},
   "outputs": [
    {
     "data": {
      "text/plain": [
       "array([0, 0, 1, ..., 0, 0, 0])"
      ]
     },
     "execution_count": 105,
     "metadata": {},
     "output_type": "execute_result"
    }
   ],
   "source": [
    "NBmodel.predict(X_test)"
   ]
  },
  {
   "cell_type": "code",
   "execution_count": 106,
   "metadata": {},
   "outputs": [
    {
     "name": "stdout",
     "output_type": "stream",
     "text": [
      "GaussianNB(priors=None, var_smoothing=1e-09)\n",
      "confusion matrix of training data\n",
      "[[14764  2527]\n",
      " [ 1443  4058]]\n",
      "confusion matrix of test data\n",
      "[[6394 1035]\n",
      " [ 640 1700]]\n",
      "classification report of test data\n",
      "              precision    recall  f1-score   support\n",
      "\n",
      "           0       0.91      0.86      0.88      7429\n",
      "           1       0.62      0.73      0.67      2340\n",
      "\n",
      "    accuracy                           0.83      9769\n",
      "   macro avg       0.77      0.79      0.78      9769\n",
      "weighted avg       0.84      0.83      0.83      9769\n",
      "\n",
      "Accuracy on test data: 82.853926%\n",
      "Accuracy on training data: 82.581608%\n",
      "Area under the ROC curve : 0.793588\n"
     ]
    }
   ],
   "source": [
    "show_classifier_metrics(NBmodel,y_train)"
   ]
  },
  {
   "cell_type": "markdown",
   "metadata": {},
   "source": [
    "### Stacked model"
   ]
  },
  {
   "cell_type": "code",
   "execution_count": 111,
   "metadata": {},
   "outputs": [],
   "source": [
    "def create_stacked_dataset(clfs,modelnames, X_train=X_train,X_test=X_test):\n",
    "    X_train_stack, X_test_stack = X_train, X_test\n",
    "    for clf,modelname in zip(clfs,modelnames):\n",
    "        temptrain = pd.DataFrame(clf.predict(X_train),index = X_train.index,columns=[modelname+'_prediction'])\n",
    "        temptest  = pd.DataFrame(clf.predict(X_test),index = X_test.index,columns=[modelname+'_prediction'])\n",
    "        X_train_stack = pd.concat([X_train_stack, temptrain], axis=1)\n",
    "        X_test_stack = pd.concat([X_test_stack, temptest], axis=1)\n",
    "    return (X_train_stack,X_test_stack)"
   ]
  },
  {
   "cell_type": "code",
   "execution_count": 113,
   "metadata": {},
   "outputs": [],
   "source": [
    "X_train_stack,X_test_stack = create_stacked_dataset([NBmodel,rfmodelCV,logreg_grid,xgb],modelnames=['NBmodel','rfmodelCV','logreg', 'xgb'])"
   ]
  },
  {
   "cell_type": "code",
   "execution_count": 114,
   "metadata": {},
   "outputs": [
    {
     "data": {
      "text/html": [
       "<div>\n",
       "<style scoped>\n",
       "    .dataframe tbody tr th:only-of-type {\n",
       "        vertical-align: middle;\n",
       "    }\n",
       "\n",
       "    .dataframe tbody tr th {\n",
       "        vertical-align: top;\n",
       "    }\n",
       "\n",
       "    .dataframe thead th {\n",
       "        text-align: right;\n",
       "    }\n",
       "</style>\n",
       "<table border=\"1\" class=\"dataframe\">\n",
       "  <thead>\n",
       "    <tr style=\"text-align: right;\">\n",
       "      <th></th>\n",
       "      <th>age</th>\n",
       "      <th>education.num</th>\n",
       "      <th>capital.gain</th>\n",
       "      <th>capital.loss</th>\n",
       "      <th>hours.per.week</th>\n",
       "      <th>workclass_Local-gov</th>\n",
       "      <th>workclass_Never-worked</th>\n",
       "      <th>workclass_Private</th>\n",
       "      <th>workclass_Self-emp-inc</th>\n",
       "      <th>workclass_Self-emp-not-inc</th>\n",
       "      <th>...</th>\n",
       "      <th>is_Priv-house-serv</th>\n",
       "      <th>is_Prof-specialty</th>\n",
       "      <th>is_Protective-serv</th>\n",
       "      <th>is_Sales</th>\n",
       "      <th>is_Tech-support</th>\n",
       "      <th>is_Transport-moving</th>\n",
       "      <th>NBmodel_prediction</th>\n",
       "      <th>rfmodelCV_prediction</th>\n",
       "      <th>logreg_prediction</th>\n",
       "      <th>xgb_prediction</th>\n",
       "    </tr>\n",
       "  </thead>\n",
       "  <tbody>\n",
       "    <tr>\n",
       "      <th>19749</th>\n",
       "      <td>58</td>\n",
       "      <td>9</td>\n",
       "      <td>0</td>\n",
       "      <td>0</td>\n",
       "      <td>40</td>\n",
       "      <td>0</td>\n",
       "      <td>0</td>\n",
       "      <td>1</td>\n",
       "      <td>0</td>\n",
       "      <td>0</td>\n",
       "      <td>...</td>\n",
       "      <td>0</td>\n",
       "      <td>0</td>\n",
       "      <td>0</td>\n",
       "      <td>0</td>\n",
       "      <td>0</td>\n",
       "      <td>0</td>\n",
       "      <td>0</td>\n",
       "      <td>0</td>\n",
       "      <td>0</td>\n",
       "      <td>0</td>\n",
       "    </tr>\n",
       "    <tr>\n",
       "      <th>1216</th>\n",
       "      <td>62</td>\n",
       "      <td>10</td>\n",
       "      <td>0</td>\n",
       "      <td>1617</td>\n",
       "      <td>33</td>\n",
       "      <td>0</td>\n",
       "      <td>0</td>\n",
       "      <td>1</td>\n",
       "      <td>0</td>\n",
       "      <td>0</td>\n",
       "      <td>...</td>\n",
       "      <td>0</td>\n",
       "      <td>0</td>\n",
       "      <td>0</td>\n",
       "      <td>1</td>\n",
       "      <td>0</td>\n",
       "      <td>0</td>\n",
       "      <td>0</td>\n",
       "      <td>0</td>\n",
       "      <td>0</td>\n",
       "      <td>0</td>\n",
       "    </tr>\n",
       "  </tbody>\n",
       "</table>\n",
       "<p>2 rows × 45 columns</p>\n",
       "</div>"
      ],
      "text/plain": [
       "       age  education.num  capital.gain  capital.loss  hours.per.week  \\\n",
       "19749   58              9             0             0              40   \n",
       "1216    62             10             0          1617              33   \n",
       "\n",
       "       workclass_Local-gov  workclass_Never-worked  workclass_Private  \\\n",
       "19749                    0                       0                  1   \n",
       "1216                     0                       0                  1   \n",
       "\n",
       "       workclass_Self-emp-inc  workclass_Self-emp-not-inc  ...  \\\n",
       "19749                       0                           0  ...   \n",
       "1216                        0                           0  ...   \n",
       "\n",
       "       is_Priv-house-serv  is_Prof-specialty  is_Protective-serv  is_Sales  \\\n",
       "19749                   0                  0                   0         0   \n",
       "1216                    0                  0                   0         1   \n",
       "\n",
       "       is_Tech-support  is_Transport-moving  NBmodel_prediction  \\\n",
       "19749                0                    0                   0   \n",
       "1216                 0                    0                   0   \n",
       "\n",
       "       rfmodelCV_prediction  logreg_prediction  xgb_prediction  \n",
       "19749                     0                  0               0  \n",
       "1216                      0                  0               0  \n",
       "\n",
       "[2 rows x 45 columns]"
      ]
     },
     "execution_count": 114,
     "metadata": {},
     "output_type": "execute_result"
    }
   ],
   "source": [
    "X_train_stack.head(2)"
   ]
  },
  {
   "cell_type": "code",
   "execution_count": 115,
   "metadata": {},
   "outputs": [
    {
     "name": "stdout",
     "output_type": "stream",
     "text": [
      "[0]\tvalidation_0-error:0.114075\tvalidation_1-error:0.137476\n",
      "Multiple eval metrics have been passed: 'validation_1-error' will be used for early stopping.\n",
      "\n",
      "Will train until validation_1-error hasn't improved in 30 rounds.\n",
      "[1]\tvalidation_0-error:0.112759\tvalidation_1-error:0.13594\n",
      "[2]\tvalidation_0-error:0.111794\tvalidation_1-error:0.132665\n",
      "[3]\tvalidation_0-error:0.111969\tvalidation_1-error:0.132767\n",
      "[4]\tvalidation_0-error:0.111837\tvalidation_1-error:0.132665\n",
      "[5]\tvalidation_0-error:0.111881\tvalidation_1-error:0.133176\n",
      "[6]\tvalidation_0-error:0.112145\tvalidation_1-error:0.133586\n",
      "[7]\tvalidation_0-error:0.112364\tvalidation_1-error:0.133893\n",
      "[8]\tvalidation_0-error:0.112188\tvalidation_1-error:0.133688\n",
      "[9]\tvalidation_0-error:0.112232\tvalidation_1-error:0.133688\n",
      "[10]\tvalidation_0-error:0.111837\tvalidation_1-error:0.133279\n",
      "[11]\tvalidation_0-error:0.112013\tvalidation_1-error:0.133483\n",
      "[12]\tvalidation_0-error:0.112057\tvalidation_1-error:0.133381\n",
      "[13]\tvalidation_0-error:0.11175\tvalidation_1-error:0.133074\n",
      "[14]\tvalidation_0-error:0.111969\tvalidation_1-error:0.133176\n",
      "[15]\tvalidation_0-error:0.112057\tvalidation_1-error:0.133381\n",
      "[16]\tvalidation_0-error:0.112013\tvalidation_1-error:0.133381\n",
      "[17]\tvalidation_0-error:0.111837\tvalidation_1-error:0.132972\n",
      "[18]\tvalidation_0-error:0.111969\tvalidation_1-error:0.133279\n",
      "[19]\tvalidation_0-error:0.111969\tvalidation_1-error:0.133381\n",
      "[20]\tvalidation_0-error:0.111837\tvalidation_1-error:0.132972\n",
      "[21]\tvalidation_0-error:0.111881\tvalidation_1-error:0.132972\n",
      "[22]\tvalidation_0-error:0.111794\tvalidation_1-error:0.133381\n",
      "[23]\tvalidation_0-error:0.11175\tvalidation_1-error:0.133074\n",
      "[24]\tvalidation_0-error:0.111706\tvalidation_1-error:0.133279\n",
      "[25]\tvalidation_0-error:0.111706\tvalidation_1-error:0.133074\n",
      "[26]\tvalidation_0-error:0.111443\tvalidation_1-error:0.132153\n",
      "[27]\tvalidation_0-error:0.111443\tvalidation_1-error:0.132153\n",
      "[28]\tvalidation_0-error:0.111399\tvalidation_1-error:0.132255\n",
      "[29]\tvalidation_0-error:0.111399\tvalidation_1-error:0.132562\n",
      "[30]\tvalidation_0-error:0.111267\tvalidation_1-error:0.132357\n",
      "[31]\tvalidation_0-error:0.111135\tvalidation_1-error:0.132255\n",
      "[32]\tvalidation_0-error:0.111179\tvalidation_1-error:0.132357\n",
      "[33]\tvalidation_0-error:0.111092\tvalidation_1-error:0.132255\n",
      "[34]\tvalidation_0-error:0.111004\tvalidation_1-error:0.132255\n",
      "[35]\tvalidation_0-error:0.111004\tvalidation_1-error:0.132255\n",
      "[36]\tvalidation_0-error:0.111004\tvalidation_1-error:0.132255\n",
      "[37]\tvalidation_0-error:0.111004\tvalidation_1-error:0.132153\n",
      "[38]\tvalidation_0-error:0.111004\tvalidation_1-error:0.132153\n",
      "[39]\tvalidation_0-error:0.11096\tvalidation_1-error:0.132153\n",
      "[40]\tvalidation_0-error:0.111004\tvalidation_1-error:0.132153\n",
      "[41]\tvalidation_0-error:0.11096\tvalidation_1-error:0.131948\n",
      "[42]\tvalidation_0-error:0.111004\tvalidation_1-error:0.131948\n",
      "[43]\tvalidation_0-error:0.111004\tvalidation_1-error:0.131948\n",
      "[44]\tvalidation_0-error:0.111004\tvalidation_1-error:0.131948\n",
      "[45]\tvalidation_0-error:0.111004\tvalidation_1-error:0.131948\n",
      "[46]\tvalidation_0-error:0.110741\tvalidation_1-error:0.131846\n",
      "[47]\tvalidation_0-error:0.110916\tvalidation_1-error:0.130822\n",
      "[48]\tvalidation_0-error:0.111092\tvalidation_1-error:0.131027\n",
      "[49]\tvalidation_0-error:0.111135\tvalidation_1-error:0.131129\n",
      "[50]\tvalidation_0-error:0.111004\tvalidation_1-error:0.131027\n",
      "[51]\tvalidation_0-error:0.111048\tvalidation_1-error:0.130924\n",
      "[52]\tvalidation_0-error:0.111092\tvalidation_1-error:0.130822\n",
      "[53]\tvalidation_0-error:0.11096\tvalidation_1-error:0.130822\n",
      "[54]\tvalidation_0-error:0.11096\tvalidation_1-error:0.130413\n",
      "[55]\tvalidation_0-error:0.110828\tvalidation_1-error:0.130003\n",
      "[56]\tvalidation_0-error:0.110872\tvalidation_1-error:0.130003\n",
      "[57]\tvalidation_0-error:0.111048\tvalidation_1-error:0.13031\n",
      "[58]\tvalidation_0-error:0.110916\tvalidation_1-error:0.129901\n",
      "[59]\tvalidation_0-error:0.110741\tvalidation_1-error:0.129491\n",
      "[60]\tvalidation_0-error:0.110477\tvalidation_1-error:0.129389\n",
      "[61]\tvalidation_0-error:0.110609\tvalidation_1-error:0.129594\n",
      "[62]\tvalidation_0-error:0.110653\tvalidation_1-error:0.129594\n",
      "[63]\tvalidation_0-error:0.110653\tvalidation_1-error:0.129491\n",
      "[64]\tvalidation_0-error:0.110433\tvalidation_1-error:0.129389\n",
      "[65]\tvalidation_0-error:0.110346\tvalidation_1-error:0.129389\n",
      "[66]\tvalidation_0-error:0.110258\tvalidation_1-error:0.128877\n",
      "[67]\tvalidation_0-error:0.110258\tvalidation_1-error:0.128775\n",
      "[68]\tvalidation_0-error:0.110039\tvalidation_1-error:0.128877\n",
      "[69]\tvalidation_0-error:0.109951\tvalidation_1-error:0.128877\n",
      "[70]\tvalidation_0-error:0.109951\tvalidation_1-error:0.128877\n",
      "[71]\tvalidation_0-error:0.110039\tvalidation_1-error:0.128775\n",
      "[72]\tvalidation_0-error:0.110082\tvalidation_1-error:0.128672\n",
      "[73]\tvalidation_0-error:0.110039\tvalidation_1-error:0.128672\n",
      "[74]\tvalidation_0-error:0.110082\tvalidation_1-error:0.128672\n",
      "[75]\tvalidation_0-error:0.109951\tvalidation_1-error:0.128775\n",
      "[76]\tvalidation_0-error:0.109907\tvalidation_1-error:0.128775\n",
      "[77]\tvalidation_0-error:0.109951\tvalidation_1-error:0.128775\n",
      "[78]\tvalidation_0-error:0.109951\tvalidation_1-error:0.128775\n",
      "[79]\tvalidation_0-error:0.109863\tvalidation_1-error:0.128775\n",
      "[80]\tvalidation_0-error:0.109775\tvalidation_1-error:0.12857\n",
      "[81]\tvalidation_0-error:0.109731\tvalidation_1-error:0.128775\n",
      "[82]\tvalidation_0-error:0.109731\tvalidation_1-error:0.128775\n",
      "[83]\tvalidation_0-error:0.109775\tvalidation_1-error:0.12857\n",
      "[84]\tvalidation_0-error:0.109688\tvalidation_1-error:0.12857\n",
      "[85]\tvalidation_0-error:0.109819\tvalidation_1-error:0.128468\n",
      "[86]\tvalidation_0-error:0.109644\tvalidation_1-error:0.12857\n",
      "[87]\tvalidation_0-error:0.109644\tvalidation_1-error:0.128672\n",
      "[88]\tvalidation_0-error:0.109644\tvalidation_1-error:0.128672\n",
      "[89]\tvalidation_0-error:0.109644\tvalidation_1-error:0.128672\n",
      "[90]\tvalidation_0-error:0.109644\tvalidation_1-error:0.128468\n",
      "[91]\tvalidation_0-error:0.109644\tvalidation_1-error:0.12857\n",
      "[92]\tvalidation_0-error:0.109644\tvalidation_1-error:0.128672\n",
      "[93]\tvalidation_0-error:0.109644\tvalidation_1-error:0.12857\n",
      "[94]\tvalidation_0-error:0.109644\tvalidation_1-error:0.12857\n",
      "[95]\tvalidation_0-error:0.109556\tvalidation_1-error:0.12857\n",
      "[96]\tvalidation_0-error:0.109512\tvalidation_1-error:0.12857\n",
      "[97]\tvalidation_0-error:0.109512\tvalidation_1-error:0.128672\n",
      "[98]\tvalidation_0-error:0.109556\tvalidation_1-error:0.12857\n",
      "[99]\tvalidation_0-error:0.1096\tvalidation_1-error:0.12857\n",
      "[100]\tvalidation_0-error:0.1096\tvalidation_1-error:0.128468\n",
      "[101]\tvalidation_0-error:0.109424\tvalidation_1-error:0.128468\n",
      "[102]\tvalidation_0-error:0.109468\tvalidation_1-error:0.128468\n",
      "[103]\tvalidation_0-error:0.109424\tvalidation_1-error:0.128468\n",
      "[104]\tvalidation_0-error:0.109468\tvalidation_1-error:0.128468\n",
      "[105]\tvalidation_0-error:0.109468\tvalidation_1-error:0.128468\n",
      "[106]\tvalidation_0-error:0.109468\tvalidation_1-error:0.128365\n",
      "[107]\tvalidation_0-error:0.109468\tvalidation_1-error:0.128365\n",
      "[108]\tvalidation_0-error:0.109424\tvalidation_1-error:0.128365\n",
      "[109]\tvalidation_0-error:0.109468\tvalidation_1-error:0.128263\n",
      "[110]\tvalidation_0-error:0.109468\tvalidation_1-error:0.128263\n",
      "[111]\tvalidation_0-error:0.109468\tvalidation_1-error:0.128263\n",
      "[112]\tvalidation_0-error:0.109424\tvalidation_1-error:0.128263\n",
      "[113]\tvalidation_0-error:0.109512\tvalidation_1-error:0.128365\n",
      "[114]\tvalidation_0-error:0.109117\tvalidation_1-error:0.128468\n",
      "[115]\tvalidation_0-error:0.109117\tvalidation_1-error:0.128263\n",
      "[116]\tvalidation_0-error:0.109073\tvalidation_1-error:0.128263\n",
      "[117]\tvalidation_0-error:0.109073\tvalidation_1-error:0.128058\n",
      "[118]\tvalidation_0-error:0.109161\tvalidation_1-error:0.128058\n",
      "[119]\tvalidation_0-error:0.109161\tvalidation_1-error:0.128058\n",
      "[120]\tvalidation_0-error:0.108986\tvalidation_1-error:0.128263\n",
      "[121]\tvalidation_0-error:0.108722\tvalidation_1-error:0.128263\n",
      "[122]\tvalidation_0-error:0.108722\tvalidation_1-error:0.128161\n",
      "[123]\tvalidation_0-error:0.108678\tvalidation_1-error:0.128263\n",
      "[124]\tvalidation_0-error:0.108678\tvalidation_1-error:0.128058\n",
      "[125]\tvalidation_0-error:0.108678\tvalidation_1-error:0.128058\n",
      "[126]\tvalidation_0-error:0.108722\tvalidation_1-error:0.128058\n",
      "[127]\tvalidation_0-error:0.108722\tvalidation_1-error:0.128161\n",
      "[128]\tvalidation_0-error:0.108722\tvalidation_1-error:0.128161\n",
      "[129]\tvalidation_0-error:0.108722\tvalidation_1-error:0.128161\n",
      "[130]\tvalidation_0-error:0.108766\tvalidation_1-error:0.128161\n",
      "[131]\tvalidation_0-error:0.108766\tvalidation_1-error:0.128161\n"
     ]
    },
    {
     "name": "stdout",
     "output_type": "stream",
     "text": [
      "[132]\tvalidation_0-error:0.108942\tvalidation_1-error:0.128161\n",
      "[133]\tvalidation_0-error:0.108942\tvalidation_1-error:0.128161\n",
      "[134]\tvalidation_0-error:0.108898\tvalidation_1-error:0.128263\n",
      "[135]\tvalidation_0-error:0.108898\tvalidation_1-error:0.128263\n",
      "[136]\tvalidation_0-error:0.108898\tvalidation_1-error:0.128263\n",
      "[137]\tvalidation_0-error:0.108898\tvalidation_1-error:0.128161\n",
      "[138]\tvalidation_0-error:0.108898\tvalidation_1-error:0.127956\n",
      "[139]\tvalidation_0-error:0.108854\tvalidation_1-error:0.127956\n",
      "[140]\tvalidation_0-error:0.10881\tvalidation_1-error:0.128058\n",
      "[141]\tvalidation_0-error:0.108854\tvalidation_1-error:0.128058\n",
      "[142]\tvalidation_0-error:0.108854\tvalidation_1-error:0.128058\n",
      "[143]\tvalidation_0-error:0.108854\tvalidation_1-error:0.128058\n",
      "[144]\tvalidation_0-error:0.108766\tvalidation_1-error:0.128161\n",
      "[145]\tvalidation_0-error:0.108678\tvalidation_1-error:0.128058\n",
      "[146]\tvalidation_0-error:0.108635\tvalidation_1-error:0.128058\n",
      "[147]\tvalidation_0-error:0.108635\tvalidation_1-error:0.128263\n",
      "[148]\tvalidation_0-error:0.108591\tvalidation_1-error:0.128263\n",
      "[149]\tvalidation_0-error:0.108591\tvalidation_1-error:0.128263\n",
      "[150]\tvalidation_0-error:0.108591\tvalidation_1-error:0.128263\n",
      "[151]\tvalidation_0-error:0.108327\tvalidation_1-error:0.12857\n",
      "[152]\tvalidation_0-error:0.108196\tvalidation_1-error:0.12857\n",
      "[153]\tvalidation_0-error:0.10824\tvalidation_1-error:0.128672\n",
      "[154]\tvalidation_0-error:0.108196\tvalidation_1-error:0.128672\n",
      "[155]\tvalidation_0-error:0.108284\tvalidation_1-error:0.128672\n",
      "[156]\tvalidation_0-error:0.108196\tvalidation_1-error:0.12857\n",
      "[157]\tvalidation_0-error:0.108196\tvalidation_1-error:0.128365\n",
      "[158]\tvalidation_0-error:0.108064\tvalidation_1-error:0.128263\n",
      "[159]\tvalidation_0-error:0.10802\tvalidation_1-error:0.128263\n",
      "[160]\tvalidation_0-error:0.107976\tvalidation_1-error:0.128672\n",
      "[161]\tvalidation_0-error:0.107757\tvalidation_1-error:0.128877\n",
      "[162]\tvalidation_0-error:0.107801\tvalidation_1-error:0.128775\n",
      "[163]\tvalidation_0-error:0.107713\tvalidation_1-error:0.128672\n",
      "[164]\tvalidation_0-error:0.107669\tvalidation_1-error:0.128979\n",
      "[165]\tvalidation_0-error:0.107713\tvalidation_1-error:0.128979\n",
      "[166]\tvalidation_0-error:0.107713\tvalidation_1-error:0.128877\n",
      "[167]\tvalidation_0-error:0.107582\tvalidation_1-error:0.128877\n",
      "[168]\tvalidation_0-error:0.107582\tvalidation_1-error:0.128877\n",
      "Stopping. Best iteration:\n",
      "[138]\tvalidation_0-error:0.108898\tvalidation_1-error:0.127956\n",
      "\n"
     ]
    },
    {
     "data": {
      "text/plain": [
       "XGBClassifier(base_score=0.5, booster='gbtree', colsample_bylevel=0.9,\n",
       "              colsample_bytree=0.9, gamma=0, learning_rate=0.1,\n",
       "              max_delta_step=0, max_depth=5, min_child_weight=1, missing=None,\n",
       "              n_estimators=400, n_jobs=1, nthread=None,\n",
       "              objective='binary:logistic', random_state=0, reg_alpha=0,\n",
       "              reg_lambda=1.5, scale_pos_weight=1, seed=10, silent=True,\n",
       "              subsample=0.9, verbosity=1)"
      ]
     },
     "execution_count": 115,
     "metadata": {},
     "output_type": "execute_result"
    }
   ],
   "source": [
    "param = {}\n",
    "param['learning_rate'] = 0.1\n",
    "param['verbosity'] = 1\n",
    "param['colsample_bylevel'] = 0.9\n",
    "param['colsample_bytree'] = 0.9\n",
    "param['subsample'] = 0.9\n",
    "param['reg_lambda']= 1.5\n",
    "param['max_depth'] = 5#10\n",
    "param['n_estimators'] = 400\n",
    "param['seed']=10\n",
    "xgbstack= XGBClassifier(**param)\n",
    "xgbstack.fit(X_train_stack, y_train, eval_metric=['error'], eval_set=[(X_train_stack, y_train),(X_test_stack, y_test)],early_stopping_rounds=30)\n"
   ]
  },
  {
   "cell_type": "code",
   "execution_count": 116,
   "metadata": {},
   "outputs": [
    {
     "name": "stdout",
     "output_type": "stream",
     "text": [
      "              precision    recall  f1-score   support\n",
      "\n",
      "           0       0.89      0.95      0.92      7429\n",
      "           1       0.81      0.61      0.70      2340\n",
      "\n",
      "    accuracy                           0.87      9769\n",
      "   macro avg       0.85      0.78      0.81      9769\n",
      "weighted avg       0.87      0.87      0.87      9769\n",
      "\n",
      "Accuracy on test data: 87.204422%\n",
      "Accuracy on training data: 89.110214%\n"
     ]
    }
   ],
   "source": [
    "print(metrics.classification_report(y_test, xgbstack.predict(X_test_stack)))\n",
    "print('Accuracy on test data: %f%%' % (metrics.accuracy_score(y_test, xgbstack.predict(X_test_stack))*100))\n",
    "print('Accuracy on training data: %f%%' % (metrics.accuracy_score(y_train, xgbstack.predict(X_train_stack))*100))"
   ]
  },
  {
   "cell_type": "markdown",
   "metadata": {},
   "source": [
    "### Stacked model Grid Search"
   ]
  },
  {
   "cell_type": "code",
   "execution_count": 117,
   "metadata": {},
   "outputs": [
    {
     "name": "stdout",
     "output_type": "stream",
     "text": [
      "Doing grid search\n",
      "Fitting 4 folds for each of 4 candidates, totalling 16 fits\n"
     ]
    },
    {
     "name": "stderr",
     "output_type": "stream",
     "text": [
      "[Parallel(n_jobs=-1)]: Using backend LokyBackend with 4 concurrent workers.\n",
      "[Parallel(n_jobs=-1)]: Done  16 out of  16 | elapsed:  1.5min finished\n"
     ]
    },
    {
     "name": "stdout",
     "output_type": "stream",
     "text": [
      "mean test score (weighted by split size) of CV rounds:  [0.88842576 0.88566164 0.87802738 0.87285012]\n",
      "Best parameter set {'colsample_bylevel': 0.9, 'colsample_bytree': 0.9, 'learning_rate': 0.1, 'max_depth': 3, 'n_estimators': 300, 'reg_lambda': 1.5, 'seed': 10, 'subsample': 0.9} Corresponding mean CV score 0.8884257634257634\n"
     ]
    }
   ],
   "source": [
    "xgbstackCV = XGBClassifier(seed=10)\n",
    "param_grid = {}\n",
    "param_grid['learning_rate'] = [0.1]\n",
    "param_grid['colsample_bylevel'] = [0.9]\n",
    "param_grid['colsample_bytree'] = [0.9]\n",
    "param_grid['subsample'] = [0.9]\n",
    "param_grid['n_estimators'] = [300]\n",
    "param_grid['reg_lambda']= [1.5]\n",
    "param_grid['seed'] =[10]\n",
    "param_grid['max_depth'] = [3,5,8,10]\n",
    "xgbstackCV_grid = grid_search(xgbstackCV, param_grid,X_train_stack,y_train)"
   ]
  },
  {
   "cell_type": "code",
   "execution_count": 118,
   "metadata": {},
   "outputs": [
    {
     "name": "stdout",
     "output_type": "stream",
     "text": [
      "[0]\tvalidation_0-error:0.114075\tvalidation_1-error:0.137476\n",
      "Multiple eval metrics have been passed: 'validation_1-error' will be used for early stopping.\n",
      "\n",
      "Will train until validation_1-error hasn't improved in 30 rounds.\n",
      "[1]\tvalidation_0-error:0.114075\tvalidation_1-error:0.137476\n",
      "[2]\tvalidation_0-error:0.114075\tvalidation_1-error:0.137476\n",
      "[3]\tvalidation_0-error:0.114075\tvalidation_1-error:0.137476\n",
      "[4]\tvalidation_0-error:0.114075\tvalidation_1-error:0.137476\n",
      "[5]\tvalidation_0-error:0.114075\tvalidation_1-error:0.137476\n",
      "[6]\tvalidation_0-error:0.114075\tvalidation_1-error:0.137476\n",
      "[7]\tvalidation_0-error:0.114075\tvalidation_1-error:0.137476\n",
      "[8]\tvalidation_0-error:0.114075\tvalidation_1-error:0.137476\n",
      "[9]\tvalidation_0-error:0.114075\tvalidation_1-error:0.137476\n",
      "[10]\tvalidation_0-error:0.114075\tvalidation_1-error:0.137476\n",
      "[11]\tvalidation_0-error:0.114075\tvalidation_1-error:0.137476\n",
      "[12]\tvalidation_0-error:0.114075\tvalidation_1-error:0.137476\n",
      "[13]\tvalidation_0-error:0.114075\tvalidation_1-error:0.137476\n",
      "[14]\tvalidation_0-error:0.114075\tvalidation_1-error:0.137476\n",
      "[15]\tvalidation_0-error:0.112803\tvalidation_1-error:0.135019\n",
      "[16]\tvalidation_0-error:0.112803\tvalidation_1-error:0.135019\n",
      "[17]\tvalidation_0-error:0.112847\tvalidation_1-error:0.135121\n",
      "[18]\tvalidation_0-error:0.112847\tvalidation_1-error:0.135121\n",
      "[19]\tvalidation_0-error:0.112671\tvalidation_1-error:0.134405\n",
      "[20]\tvalidation_0-error:0.112759\tvalidation_1-error:0.134609\n",
      "[21]\tvalidation_0-error:0.112715\tvalidation_1-error:0.134814\n",
      "[22]\tvalidation_0-error:0.112715\tvalidation_1-error:0.134814\n",
      "[23]\tvalidation_0-error:0.112759\tvalidation_1-error:0.134814\n",
      "[24]\tvalidation_0-error:0.112759\tvalidation_1-error:0.134917\n",
      "[25]\tvalidation_0-error:0.11289\tvalidation_1-error:0.134917\n",
      "[26]\tvalidation_0-error:0.11289\tvalidation_1-error:0.134917\n",
      "[27]\tvalidation_0-error:0.11289\tvalidation_1-error:0.134917\n",
      "[28]\tvalidation_0-error:0.112803\tvalidation_1-error:0.134917\n",
      "[29]\tvalidation_0-error:0.112803\tvalidation_1-error:0.134917\n",
      "[30]\tvalidation_0-error:0.112803\tvalidation_1-error:0.134917\n",
      "[31]\tvalidation_0-error:0.112803\tvalidation_1-error:0.134917\n",
      "[32]\tvalidation_0-error:0.112759\tvalidation_1-error:0.134917\n",
      "[33]\tvalidation_0-error:0.112759\tvalidation_1-error:0.134917\n",
      "[34]\tvalidation_0-error:0.112847\tvalidation_1-error:0.135224\n",
      "[35]\tvalidation_0-error:0.11289\tvalidation_1-error:0.135224\n",
      "[36]\tvalidation_0-error:0.11289\tvalidation_1-error:0.135224\n",
      "[37]\tvalidation_0-error:0.11289\tvalidation_1-error:0.135224\n",
      "[38]\tvalidation_0-error:0.112847\tvalidation_1-error:0.135224\n",
      "[39]\tvalidation_0-error:0.112847\tvalidation_1-error:0.135224\n",
      "[40]\tvalidation_0-error:0.112847\tvalidation_1-error:0.135224\n",
      "[41]\tvalidation_0-error:0.112847\tvalidation_1-error:0.135121\n",
      "[42]\tvalidation_0-error:0.112847\tvalidation_1-error:0.135121\n",
      "[43]\tvalidation_0-error:0.11289\tvalidation_1-error:0.135224\n",
      "[44]\tvalidation_0-error:0.11289\tvalidation_1-error:0.135224\n",
      "[45]\tvalidation_0-error:0.11289\tvalidation_1-error:0.135224\n",
      "[46]\tvalidation_0-error:0.112847\tvalidation_1-error:0.135224\n",
      "[47]\tvalidation_0-error:0.112847\tvalidation_1-error:0.135224\n",
      "[48]\tvalidation_0-error:0.112847\tvalidation_1-error:0.135121\n",
      "[49]\tvalidation_0-error:0.112847\tvalidation_1-error:0.134712\n",
      "Stopping. Best iteration:\n",
      "[19]\tvalidation_0-error:0.112671\tvalidation_1-error:0.134405\n",
      "\n"
     ]
    },
    {
     "data": {
      "text/plain": [
       "XGBClassifier(base_score=0.5, booster='gbtree', colsample_bylevel=0.9,\n",
       "              colsample_bytree=0.9, gamma=0, learning_rate=0.1,\n",
       "              max_delta_step=0, max_depth=3, min_child_weight=1, missing=None,\n",
       "              n_estimators=300, n_jobs=1, nthread=None,\n",
       "              objective='binary:logistic', random_state=0, reg_alpha=0,\n",
       "              reg_lambda=1.5, scale_pos_weight=1, seed=10, silent=True,\n",
       "              subsample=0.9)"
      ]
     },
     "execution_count": 118,
     "metadata": {},
     "output_type": "execute_result"
    }
   ],
   "source": [
    "xgbstackCV_grid.fit(X_train_stack, y_train, eval_metric=['error'], eval_set=[(X_train_stack, y_train),(X_test_stack, y_test)],early_stopping_rounds=30)"
   ]
  },
  {
   "cell_type": "code",
   "execution_count": 119,
   "metadata": {},
   "outputs": [
    {
     "name": "stdout",
     "output_type": "stream",
     "text": [
      "              precision    recall  f1-score   support\n",
      "\n",
      "           0       0.89      0.95      0.92      7429\n",
      "           1       0.81      0.61      0.70      2340\n",
      "\n",
      "    accuracy                           0.87      9769\n",
      "   macro avg       0.85      0.78      0.81      9769\n",
      "weighted avg       0.87      0.87      0.87      9769\n",
      "\n",
      "Accuracy on test data: 87.204422%\n",
      "Accuracy on training data: 89.110214%\n"
     ]
    }
   ],
   "source": [
    "print(metrics.classification_report(y_test, xgbstack.predict(X_test_stack)))\n",
    "print('Accuracy on test data: %f%%' % (metrics.accuracy_score(y_test, xgbstack.predict(X_test_stack))*100))\n",
    "print('Accuracy on training data: %f%%' % (metrics.accuracy_score(y_train, xgbstack.predict(X_train_stack))*100))"
   ]
  },
  {
   "cell_type": "code",
   "execution_count": 120,
   "metadata": {},
   "outputs": [],
   "source": [
    "from catboost import CatBoostClassifier"
   ]
  },
  {
   "cell_type": "code",
   "execution_count": 121,
   "metadata": {},
   "outputs": [],
   "source": [
    "catb = CatBoostClassifier(learning_rate=0.3,iterations=400,verbose=1,random_seed=10,eval_metric='Accuracy',rsm=0.9)"
   ]
  },
  {
   "cell_type": "code",
   "execution_count": 122,
   "metadata": {},
   "outputs": [
    {
     "name": "stdout",
     "output_type": "stream",
     "text": [
      "0:\tlearn: 0.8477536\ttest: 0.8477536\ttest1: 0.8453271\tbest: 0.8453271 (0)\ttotal: 112ms\tremaining: 44.8s\n",
      "1:\tlearn: 0.8512197\ttest: 0.8512197\ttest1: 0.8458389\tbest: 0.8458389 (1)\ttotal: 162ms\tremaining: 32.2s\n",
      "2:\tlearn: 0.8495525\ttest: 0.8495525\ttest1: 0.8480909\tbest: 0.8480909 (2)\ttotal: 217ms\tremaining: 28.7s\n",
      "3:\tlearn: 0.8508687\ttest: 0.8508687\ttest1: 0.8507524\tbest: 0.8507524 (3)\ttotal: 384ms\tremaining: 38.1s\n",
      "4:\tlearn: 0.8545981\ttest: 0.8545981\ttest1: 0.8536186\tbest: 0.8536186 (4)\ttotal: 488ms\tremaining: 38.5s\n",
      "5:\tlearn: 0.8566602\ttest: 0.8566602\ttest1: 0.8543351\tbest: 0.8543351 (5)\ttotal: 550ms\tremaining: 36.1s\n",
      "6:\tlearn: 0.8561776\ttest: 0.8561776\ttest1: 0.8539257\tbest: 0.8543351 (5)\ttotal: 613ms\tremaining: 34.4s\n",
      "7:\tlearn: 0.8590734\ttest: 0.8590734\ttest1: 0.8540280\tbest: 0.8543351 (5)\ttotal: 687ms\tremaining: 33.7s\n",
      "8:\tlearn: 0.8589856\ttest: 0.8589856\ttest1: 0.8542328\tbest: 0.8543351 (5)\ttotal: 750ms\tremaining: 32.6s\n",
      "9:\tlearn: 0.8588540\ttest: 0.8588540\ttest1: 0.8539257\tbest: 0.8543351 (5)\ttotal: 864ms\tremaining: 33.7s\n",
      "10:\tlearn: 0.8600386\ttest: 0.8600386\ttest1: 0.8547446\tbest: 0.8547446 (10)\ttotal: 1.06s\tremaining: 37.5s\n",
      "11:\tlearn: 0.8622762\ttest: 0.8622762\ttest1: 0.8563824\tbest: 0.8563824 (11)\ttotal: 1.13s\tremaining: 36.6s\n",
      "12:\tlearn: 0.8636802\ttest: 0.8636802\ttest1: 0.8569966\tbest: 0.8569966 (12)\ttotal: 1.28s\tremaining: 38.1s\n",
      "13:\tlearn: 0.8643384\ttest: 0.8643384\ttest1: 0.8581226\tbest: 0.8581226 (13)\ttotal: 1.36s\tremaining: 37.4s\n",
      "14:\tlearn: 0.8633292\ttest: 0.8633292\ttest1: 0.8581226\tbest: 0.8581226 (13)\ttotal: 1.44s\tremaining: 36.9s\n",
      "15:\tlearn: 0.8650842\ttest: 0.8650842\ttest1: 0.8598628\tbest: 0.8598628 (15)\ttotal: 1.57s\tremaining: 37.7s\n",
      "16:\tlearn: 0.8651281\ttest: 0.8651281\ttest1: 0.8594534\tbest: 0.8598628 (15)\ttotal: 1.64s\tremaining: 37s\n",
      "17:\tlearn: 0.8654352\ttest: 0.8654352\ttest1: 0.8602723\tbest: 0.8602723 (17)\ttotal: 1.69s\tremaining: 36s\n",
      "18:\tlearn: 0.8658301\ttest: 0.8658301\ttest1: 0.8612959\tbest: 0.8612959 (18)\ttotal: 1.75s\tremaining: 35.1s\n",
      "19:\tlearn: 0.8664005\ttest: 0.8664005\ttest1: 0.8621149\tbest: 0.8621149 (19)\ttotal: 1.83s\tremaining: 34.9s\n",
      "20:\tlearn: 0.8664882\ttest: 0.8664882\ttest1: 0.8618078\tbest: 0.8621149 (19)\ttotal: 1.91s\tremaining: 34.5s\n",
      "21:\tlearn: 0.8668392\ttest: 0.8668392\ttest1: 0.8627290\tbest: 0.8627290 (21)\ttotal: 1.97s\tremaining: 33.9s\n",
      "22:\tlearn: 0.8667076\ttest: 0.8667076\ttest1: 0.8624219\tbest: 0.8627290 (21)\ttotal: 2.02s\tremaining: 33.2s\n",
      "23:\tlearn: 0.8671464\ttest: 0.8671464\ttest1: 0.8625243\tbest: 0.8627290 (21)\ttotal: 2.1s\tremaining: 32.9s\n",
      "24:\tlearn: 0.8674096\ttest: 0.8674096\ttest1: 0.8635480\tbest: 0.8635480 (24)\ttotal: 2.17s\tremaining: 32.5s\n",
      "25:\tlearn: 0.8674096\ttest: 0.8674096\ttest1: 0.8639574\tbest: 0.8639574 (25)\ttotal: 2.22s\tremaining: 31.9s\n",
      "26:\tlearn: 0.8674974\ttest: 0.8674974\ttest1: 0.8635480\tbest: 0.8639574 (25)\ttotal: 2.26s\tremaining: 31.3s\n",
      "27:\tlearn: 0.8677167\ttest: 0.8677167\ttest1: 0.8641621\tbest: 0.8641621 (27)\ttotal: 2.31s\tremaining: 30.7s\n",
      "28:\tlearn: 0.8681555\ttest: 0.8681555\ttest1: 0.8645716\tbest: 0.8645716 (28)\ttotal: 2.36s\tremaining: 30.3s\n",
      "29:\tlearn: 0.8680677\ttest: 0.8680677\ttest1: 0.8647763\tbest: 0.8647763 (29)\ttotal: 2.42s\tremaining: 29.9s\n",
      "30:\tlearn: 0.8682871\ttest: 0.8682871\ttest1: 0.8649811\tbest: 0.8649811 (30)\ttotal: 2.49s\tremaining: 29.6s\n",
      "31:\tlearn: 0.8682871\ttest: 0.8682871\ttest1: 0.8648787\tbest: 0.8649811 (30)\ttotal: 2.56s\tremaining: 29.5s\n",
      "32:\tlearn: 0.8684187\ttest: 0.8684187\ttest1: 0.8645716\tbest: 0.8649811 (30)\ttotal: 2.62s\tremaining: 29.2s\n",
      "33:\tlearn: 0.8697789\ttest: 0.8697789\ttest1: 0.8659023\tbest: 0.8659023 (33)\ttotal: 2.68s\tremaining: 28.8s\n",
      "34:\tlearn: 0.8700421\ttest: 0.8700421\ttest1: 0.8661071\tbest: 0.8661071 (34)\ttotal: 2.73s\tremaining: 28.4s\n",
      "35:\tlearn: 0.8707441\ttest: 0.8707441\ttest1: 0.8665165\tbest: 0.8665165 (35)\ttotal: 2.78s\tremaining: 28.1s\n",
      "36:\tlearn: 0.8711390\ttest: 0.8711390\ttest1: 0.8668236\tbest: 0.8668236 (36)\ttotal: 2.83s\tremaining: 27.7s\n",
      "37:\tlearn: 0.8717094\ttest: 0.8717094\ttest1: 0.8679496\tbest: 0.8679496 (37)\ttotal: 2.94s\tremaining: 28s\n",
      "38:\tlearn: 0.8718849\ttest: 0.8718849\ttest1: 0.8679496\tbest: 0.8679496 (37)\ttotal: 3.11s\tremaining: 28.8s\n",
      "39:\tlearn: 0.8719726\ttest: 0.8719726\ttest1: 0.8679496\tbest: 0.8679496 (37)\ttotal: 3.24s\tremaining: 29.2s\n",
      "40:\tlearn: 0.8721920\ttest: 0.8721920\ttest1: 0.8681544\tbest: 0.8681544 (40)\ttotal: 3.3s\tremaining: 28.9s\n",
      "41:\tlearn: 0.8722359\ttest: 0.8722359\ttest1: 0.8682567\tbest: 0.8682567 (41)\ttotal: 3.37s\tremaining: 28.7s\n",
      "42:\tlearn: 0.8723236\ttest: 0.8723236\ttest1: 0.8684615\tbest: 0.8684615 (42)\ttotal: 3.42s\tremaining: 28.4s\n",
      "43:\tlearn: 0.8724114\ttest: 0.8724114\ttest1: 0.8686662\tbest: 0.8686662 (43)\ttotal: 3.47s\tremaining: 28s\n",
      "44:\tlearn: 0.8728062\ttest: 0.8728062\ttest1: 0.8689733\tbest: 0.8689733 (44)\ttotal: 3.51s\tremaining: 27.7s\n",
      "45:\tlearn: 0.8730695\ttest: 0.8730695\ttest1: 0.8693827\tbest: 0.8693827 (45)\ttotal: 3.57s\tremaining: 27.5s\n",
      "46:\tlearn: 0.8728940\ttest: 0.8728940\ttest1: 0.8698946\tbest: 0.8698946 (46)\ttotal: 3.71s\tremaining: 27.9s\n",
      "47:\tlearn: 0.8736399\ttest: 0.8736399\ttest1: 0.8695875\tbest: 0.8698946 (46)\ttotal: 3.9s\tremaining: 28.6s\n",
      "48:\tlearn: 0.8742541\ttest: 0.8742541\ttest1: 0.8710206\tbest: 0.8710206 (48)\ttotal: 4.01s\tremaining: 28.7s\n",
      "49:\tlearn: 0.8742980\ttest: 0.8742980\ttest1: 0.8708158\tbest: 0.8710206 (48)\ttotal: 4.12s\tremaining: 28.9s\n",
      "50:\tlearn: 0.8743857\ttest: 0.8743857\ttest1: 0.8708158\tbest: 0.8710206 (48)\ttotal: 4.29s\tremaining: 29.3s\n",
      "51:\tlearn: 0.8743857\ttest: 0.8743857\ttest1: 0.8710206\tbest: 0.8710206 (48)\ttotal: 4.4s\tremaining: 29.5s\n",
      "52:\tlearn: 0.8744296\ttest: 0.8744296\ttest1: 0.8708158\tbest: 0.8710206 (48)\ttotal: 4.49s\tremaining: 29.4s\n",
      "53:\tlearn: 0.8746490\ttest: 0.8746490\ttest1: 0.8712253\tbest: 0.8712253 (53)\ttotal: 4.59s\tremaining: 29.4s\n",
      "54:\tlearn: 0.8746051\ttest: 0.8746051\ttest1: 0.8718395\tbest: 0.8718395 (54)\ttotal: 4.7s\tremaining: 29.5s\n",
      "55:\tlearn: 0.8750000\ttest: 0.8750000\ttest1: 0.8721466\tbest: 0.8721466 (55)\ttotal: 4.85s\tremaining: 29.8s\n",
      "56:\tlearn: 0.8753949\ttest: 0.8753949\ttest1: 0.8720442\tbest: 0.8721466 (55)\ttotal: 4.97s\tremaining: 29.9s\n",
      "57:\tlearn: 0.8754826\ttest: 0.8754826\ttest1: 0.8724537\tbest: 0.8724537 (57)\ttotal: 5.02s\tremaining: 29.6s\n",
      "58:\tlearn: 0.8754826\ttest: 0.8754826\ttest1: 0.8726584\tbest: 0.8726584 (58)\ttotal: 5.08s\tremaining: 29.3s\n",
      "59:\tlearn: 0.8759214\ttest: 0.8759214\ttest1: 0.8717371\tbest: 0.8726584 (58)\ttotal: 5.16s\tremaining: 29.3s\n",
      "60:\tlearn: 0.8758775\ttest: 0.8758775\ttest1: 0.8717371\tbest: 0.8726584 (58)\ttotal: 5.22s\tremaining: 29s\n",
      "61:\tlearn: 0.8760091\ttest: 0.8760091\ttest1: 0.8716348\tbest: 0.8726584 (58)\ttotal: 5.3s\tremaining: 28.9s\n",
      "62:\tlearn: 0.8755704\ttest: 0.8755704\ttest1: 0.8716348\tbest: 0.8726584 (58)\ttotal: 5.35s\tremaining: 28.6s\n",
      "63:\tlearn: 0.8758336\ttest: 0.8758336\ttest1: 0.8716348\tbest: 0.8726584 (58)\ttotal: 5.4s\tremaining: 28.4s\n",
      "64:\tlearn: 0.8759214\ttest: 0.8759214\ttest1: 0.8719419\tbest: 0.8726584 (58)\ttotal: 5.47s\tremaining: 28.2s\n",
      "65:\tlearn: 0.8759653\ttest: 0.8759653\ttest1: 0.8719419\tbest: 0.8726584 (58)\ttotal: 5.52s\tremaining: 27.9s\n",
      "66:\tlearn: 0.8760969\ttest: 0.8760969\ttest1: 0.8720442\tbest: 0.8726584 (58)\ttotal: 5.57s\tremaining: 27.7s\n",
      "67:\tlearn: 0.8763601\ttest: 0.8763601\ttest1: 0.8717371\tbest: 0.8726584 (58)\ttotal: 5.61s\tremaining: 27.4s\n",
      "68:\tlearn: 0.8764918\ttest: 0.8764918\ttest1: 0.8718395\tbest: 0.8726584 (58)\ttotal: 5.66s\tremaining: 27.2s\n",
      "69:\tlearn: 0.8768866\ttest: 0.8768866\ttest1: 0.8718395\tbest: 0.8726584 (58)\ttotal: 5.72s\tremaining: 27s\n",
      "70:\tlearn: 0.8768428\ttest: 0.8768428\ttest1: 0.8720442\tbest: 0.8726584 (58)\ttotal: 5.77s\tremaining: 26.7s\n",
      "71:\tlearn: 0.8767989\ttest: 0.8767989\ttest1: 0.8721466\tbest: 0.8726584 (58)\ttotal: 5.82s\tremaining: 26.5s\n",
      "72:\tlearn: 0.8768428\ttest: 0.8768428\ttest1: 0.8719419\tbest: 0.8726584 (58)\ttotal: 5.87s\tremaining: 26.3s\n",
      "73:\tlearn: 0.8768866\ttest: 0.8768866\ttest1: 0.8722490\tbest: 0.8726584 (58)\ttotal: 5.92s\tremaining: 26.1s\n",
      "74:\tlearn: 0.8772815\ttest: 0.8772815\ttest1: 0.8724537\tbest: 0.8726584 (58)\ttotal: 5.98s\tremaining: 25.9s\n",
      "75:\tlearn: 0.8774131\ttest: 0.8774131\ttest1: 0.8725560\tbest: 0.8726584 (58)\ttotal: 6.05s\tremaining: 25.8s\n",
      "76:\tlearn: 0.8771499\ttest: 0.8771499\ttest1: 0.8727608\tbest: 0.8727608 (76)\ttotal: 6.18s\tremaining: 25.9s\n",
      "77:\tlearn: 0.8771499\ttest: 0.8771499\ttest1: 0.8725560\tbest: 0.8727608 (76)\ttotal: 6.25s\tremaining: 25.8s\n",
      "78:\tlearn: 0.8772376\ttest: 0.8772376\ttest1: 0.8730679\tbest: 0.8730679 (78)\ttotal: 6.3s\tremaining: 25.6s\n",
      "79:\tlearn: 0.8773693\ttest: 0.8773693\ttest1: 0.8730679\tbest: 0.8730679 (78)\ttotal: 6.35s\tremaining: 25.4s\n",
      "80:\tlearn: 0.8776325\ttest: 0.8776325\ttest1: 0.8723513\tbest: 0.8730679 (78)\ttotal: 6.4s\tremaining: 25.2s\n"
     ]
    },
    {
     "name": "stdout",
     "output_type": "stream",
     "text": [
      "81:\tlearn: 0.8777641\ttest: 0.8777641\ttest1: 0.8723513\tbest: 0.8730679 (78)\ttotal: 6.45s\tremaining: 25s\n",
      "82:\tlearn: 0.8777203\ttest: 0.8777203\ttest1: 0.8724537\tbest: 0.8730679 (78)\ttotal: 6.5s\tremaining: 24.8s\n",
      "83:\tlearn: 0.8777641\ttest: 0.8777641\ttest1: 0.8725560\tbest: 0.8730679 (78)\ttotal: 6.55s\tremaining: 24.6s\n",
      "84:\tlearn: 0.8777641\ttest: 0.8777641\ttest1: 0.8725560\tbest: 0.8730679 (78)\ttotal: 6.6s\tremaining: 24.4s\n",
      "85:\tlearn: 0.8778958\ttest: 0.8778958\ttest1: 0.8724537\tbest: 0.8730679 (78)\ttotal: 6.65s\tremaining: 24.3s\n",
      "86:\tlearn: 0.8780274\ttest: 0.8780274\ttest1: 0.8726584\tbest: 0.8730679 (78)\ttotal: 6.79s\tremaining: 24.4s\n",
      "87:\tlearn: 0.8782906\ttest: 0.8782906\ttest1: 0.8729655\tbest: 0.8730679 (78)\ttotal: 6.89s\tremaining: 24.4s\n",
      "88:\tlearn: 0.8782468\ttest: 0.8782468\ttest1: 0.8729655\tbest: 0.8730679 (78)\ttotal: 7.04s\tremaining: 24.6s\n",
      "89:\tlearn: 0.8786416\ttest: 0.8786416\ttest1: 0.8730679\tbest: 0.8730679 (78)\ttotal: 7.14s\tremaining: 24.6s\n",
      "90:\tlearn: 0.8786416\ttest: 0.8786416\ttest1: 0.8727608\tbest: 0.8730679 (78)\ttotal: 7.26s\tremaining: 24.7s\n",
      "91:\tlearn: 0.8786855\ttest: 0.8786855\ttest1: 0.8727608\tbest: 0.8730679 (78)\ttotal: 7.34s\tremaining: 24.6s\n",
      "92:\tlearn: 0.8785539\ttest: 0.8785539\ttest1: 0.8729655\tbest: 0.8730679 (78)\ttotal: 7.41s\tremaining: 24.5s\n",
      "93:\tlearn: 0.8786416\ttest: 0.8786416\ttest1: 0.8729655\tbest: 0.8730679 (78)\ttotal: 7.46s\tremaining: 24.3s\n",
      "94:\tlearn: 0.8785978\ttest: 0.8785978\ttest1: 0.8728631\tbest: 0.8730679 (78)\ttotal: 7.51s\tremaining: 24.1s\n",
      "95:\tlearn: 0.8788610\ttest: 0.8788610\ttest1: 0.8729655\tbest: 0.8730679 (78)\ttotal: 7.56s\tremaining: 23.9s\n",
      "96:\tlearn: 0.8788610\ttest: 0.8788610\ttest1: 0.8732726\tbest: 0.8732726 (96)\ttotal: 7.62s\tremaining: 23.8s\n",
      "97:\tlearn: 0.8789049\ttest: 0.8789049\ttest1: 0.8732726\tbest: 0.8732726 (96)\ttotal: 7.67s\tremaining: 23.6s\n",
      "98:\tlearn: 0.8789926\ttest: 0.8789926\ttest1: 0.8730679\tbest: 0.8732726 (96)\ttotal: 7.72s\tremaining: 23.5s\n",
      "99:\tlearn: 0.8789488\ttest: 0.8789488\ttest1: 0.8729655\tbest: 0.8732726 (96)\ttotal: 7.76s\tremaining: 23.3s\n",
      "100:\tlearn: 0.8790365\ttest: 0.8790365\ttest1: 0.8733750\tbest: 0.8733750 (100)\ttotal: 7.81s\tremaining: 23.1s\n",
      "101:\tlearn: 0.8792120\ttest: 0.8792120\ttest1: 0.8733750\tbest: 0.8733750 (100)\ttotal: 7.86s\tremaining: 22.9s\n",
      "102:\tlearn: 0.8792120\ttest: 0.8792120\ttest1: 0.8734773\tbest: 0.8734773 (102)\ttotal: 7.9s\tremaining: 22.8s\n",
      "103:\tlearn: 0.8790365\ttest: 0.8790365\ttest1: 0.8735797\tbest: 0.8735797 (103)\ttotal: 7.96s\tremaining: 22.6s\n",
      "104:\tlearn: 0.8790365\ttest: 0.8790365\ttest1: 0.8736821\tbest: 0.8736821 (104)\ttotal: 8s\tremaining: 22.5s\n",
      "105:\tlearn: 0.8790365\ttest: 0.8790365\ttest1: 0.8737844\tbest: 0.8737844 (105)\ttotal: 8.05s\tremaining: 22.3s\n",
      "106:\tlearn: 0.8791243\ttest: 0.8791243\ttest1: 0.8739891\tbest: 0.8739891 (106)\ttotal: 8.12s\tremaining: 22.2s\n",
      "107:\tlearn: 0.8792120\ttest: 0.8792120\ttest1: 0.8735797\tbest: 0.8739891 (106)\ttotal: 8.17s\tremaining: 22.1s\n",
      "108:\tlearn: 0.8792559\ttest: 0.8792559\ttest1: 0.8733750\tbest: 0.8739891 (106)\ttotal: 8.22s\tremaining: 22s\n",
      "109:\tlearn: 0.8792998\ttest: 0.8792998\ttest1: 0.8732726\tbest: 0.8739891 (106)\ttotal: 8.27s\tremaining: 21.8s\n",
      "110:\tlearn: 0.8792120\ttest: 0.8792120\ttest1: 0.8733750\tbest: 0.8739891 (106)\ttotal: 8.31s\tremaining: 21.6s\n",
      "111:\tlearn: 0.8792120\ttest: 0.8792120\ttest1: 0.8732726\tbest: 0.8739891 (106)\ttotal: 8.36s\tremaining: 21.5s\n",
      "112:\tlearn: 0.8791243\ttest: 0.8791243\ttest1: 0.8730679\tbest: 0.8739891 (106)\ttotal: 8.41s\tremaining: 21.4s\n",
      "113:\tlearn: 0.8791243\ttest: 0.8791243\ttest1: 0.8730679\tbest: 0.8739891 (106)\ttotal: 8.46s\tremaining: 21.2s\n",
      "114:\tlearn: 0.8792998\ttest: 0.8792998\ttest1: 0.8733750\tbest: 0.8739891 (106)\ttotal: 8.53s\tremaining: 21.1s\n",
      "115:\tlearn: 0.8792998\ttest: 0.8792998\ttest1: 0.8734773\tbest: 0.8739891 (106)\ttotal: 8.59s\tremaining: 21s\n",
      "116:\tlearn: 0.8792120\ttest: 0.8792120\ttest1: 0.8733750\tbest: 0.8739891 (106)\ttotal: 8.68s\tremaining: 21s\n",
      "117:\tlearn: 0.8794314\ttest: 0.8794314\ttest1: 0.8733750\tbest: 0.8739891 (106)\ttotal: 8.82s\tremaining: 21.1s\n",
      "118:\tlearn: 0.8792120\ttest: 0.8792120\ttest1: 0.8738868\tbest: 0.8739891 (106)\ttotal: 9s\tremaining: 21.2s\n",
      "119:\tlearn: 0.8792998\ttest: 0.8792998\ttest1: 0.8736821\tbest: 0.8739891 (106)\ttotal: 9.13s\tremaining: 21.3s\n",
      "120:\tlearn: 0.8793436\ttest: 0.8793436\ttest1: 0.8737844\tbest: 0.8739891 (106)\ttotal: 9.23s\tremaining: 21.3s\n",
      "121:\tlearn: 0.8792120\ttest: 0.8792120\ttest1: 0.8735797\tbest: 0.8739891 (106)\ttotal: 9.28s\tremaining: 21.1s\n",
      "122:\tlearn: 0.8796508\ttest: 0.8796508\ttest1: 0.8734773\tbest: 0.8739891 (106)\ttotal: 9.33s\tremaining: 21s\n",
      "123:\tlearn: 0.8796069\ttest: 0.8796069\ttest1: 0.8734773\tbest: 0.8739891 (106)\ttotal: 9.38s\tremaining: 20.9s\n",
      "124:\tlearn: 0.8795630\ttest: 0.8795630\ttest1: 0.8736821\tbest: 0.8739891 (106)\ttotal: 9.43s\tremaining: 20.7s\n",
      "125:\tlearn: 0.8800456\ttest: 0.8800456\ttest1: 0.8731702\tbest: 0.8739891 (106)\ttotal: 9.49s\tremaining: 20.6s\n",
      "126:\tlearn: 0.8800456\ttest: 0.8800456\ttest1: 0.8732726\tbest: 0.8739891 (106)\ttotal: 9.54s\tremaining: 20.5s\n",
      "127:\tlearn: 0.8800456\ttest: 0.8800456\ttest1: 0.8733750\tbest: 0.8739891 (106)\ttotal: 9.6s\tremaining: 20.4s\n",
      "128:\tlearn: 0.8800456\ttest: 0.8800456\ttest1: 0.8730679\tbest: 0.8739891 (106)\ttotal: 9.65s\tremaining: 20.3s\n",
      "129:\tlearn: 0.8798263\ttest: 0.8798263\ttest1: 0.8732726\tbest: 0.8739891 (106)\ttotal: 9.7s\tremaining: 20.1s\n",
      "130:\tlearn: 0.8799140\ttest: 0.8799140\ttest1: 0.8733750\tbest: 0.8739891 (106)\ttotal: 9.75s\tremaining: 20s\n",
      "131:\tlearn: 0.8799579\ttest: 0.8799579\ttest1: 0.8731702\tbest: 0.8739891 (106)\ttotal: 9.8s\tremaining: 19.9s\n",
      "132:\tlearn: 0.8799579\ttest: 0.8799579\ttest1: 0.8731702\tbest: 0.8739891 (106)\ttotal: 9.88s\tremaining: 19.8s\n",
      "133:\tlearn: 0.8804844\ttest: 0.8804844\ttest1: 0.8735797\tbest: 0.8739891 (106)\ttotal: 10s\tremaining: 19.9s\n",
      "134:\tlearn: 0.8805283\ttest: 0.8805283\ttest1: 0.8735797\tbest: 0.8739891 (106)\ttotal: 10.1s\tremaining: 19.8s\n",
      "135:\tlearn: 0.8806160\ttest: 0.8806160\ttest1: 0.8737844\tbest: 0.8739891 (106)\ttotal: 10.2s\tremaining: 19.7s\n",
      "136:\tlearn: 0.8805721\ttest: 0.8805721\ttest1: 0.8737844\tbest: 0.8739891 (106)\ttotal: 10.2s\tremaining: 19.6s\n",
      "137:\tlearn: 0.8804844\ttest: 0.8804844\ttest1: 0.8737844\tbest: 0.8739891 (106)\ttotal: 10.3s\tremaining: 19.5s\n",
      "138:\tlearn: 0.8806160\ttest: 0.8806160\ttest1: 0.8738868\tbest: 0.8739891 (106)\ttotal: 10.3s\tremaining: 19.3s\n",
      "139:\tlearn: 0.8807915\ttest: 0.8807915\ttest1: 0.8742962\tbest: 0.8742962 (139)\ttotal: 10.4s\tremaining: 19.2s\n",
      "140:\tlearn: 0.8808354\ttest: 0.8808354\ttest1: 0.8741939\tbest: 0.8742962 (139)\ttotal: 10.4s\tremaining: 19.1s\n",
      "141:\tlearn: 0.8808793\ttest: 0.8808793\ttest1: 0.8739891\tbest: 0.8742962 (139)\ttotal: 10.5s\tremaining: 19s\n",
      "142:\tlearn: 0.8809670\ttest: 0.8809670\ttest1: 0.8739891\tbest: 0.8742962 (139)\ttotal: 10.5s\tremaining: 18.9s\n",
      "143:\tlearn: 0.8810548\ttest: 0.8810548\ttest1: 0.8742962\tbest: 0.8742962 (139)\ttotal: 10.6s\tremaining: 18.8s\n",
      "144:\tlearn: 0.8808793\ttest: 0.8808793\ttest1: 0.8741939\tbest: 0.8742962 (139)\ttotal: 10.6s\tremaining: 18.7s\n",
      "145:\tlearn: 0.8810109\ttest: 0.8810109\ttest1: 0.8741939\tbest: 0.8742962 (139)\ttotal: 10.7s\tremaining: 18.5s\n",
      "146:\tlearn: 0.8810109\ttest: 0.8810109\ttest1: 0.8745010\tbest: 0.8745010 (146)\ttotal: 10.7s\tremaining: 18.4s\n",
      "147:\tlearn: 0.8810109\ttest: 0.8810109\ttest1: 0.8743986\tbest: 0.8745010 (146)\ttotal: 10.8s\tremaining: 18.3s\n",
      "148:\tlearn: 0.8810548\ttest: 0.8810548\ttest1: 0.8745010\tbest: 0.8745010 (146)\ttotal: 10.8s\tremaining: 18.2s\n",
      "149:\tlearn: 0.8810548\ttest: 0.8810548\ttest1: 0.8746033\tbest: 0.8746033 (149)\ttotal: 10.9s\tremaining: 18.1s\n",
      "150:\tlearn: 0.8810986\ttest: 0.8810986\ttest1: 0.8746033\tbest: 0.8746033 (149)\ttotal: 10.9s\tremaining: 18s\n",
      "151:\tlearn: 0.8811425\ttest: 0.8811425\ttest1: 0.8743986\tbest: 0.8746033 (149)\ttotal: 11s\tremaining: 17.9s\n",
      "152:\tlearn: 0.8809670\ttest: 0.8809670\ttest1: 0.8749104\tbest: 0.8749104 (152)\ttotal: 11.1s\tremaining: 17.9s\n",
      "153:\tlearn: 0.8809231\ttest: 0.8809231\ttest1: 0.8748081\tbest: 0.8749104 (152)\ttotal: 11.1s\tremaining: 17.8s\n",
      "154:\tlearn: 0.8808793\ttest: 0.8808793\ttest1: 0.8747057\tbest: 0.8749104 (152)\ttotal: 11.2s\tremaining: 17.7s\n",
      "155:\tlearn: 0.8809231\ttest: 0.8809231\ttest1: 0.8749104\tbest: 0.8749104 (152)\ttotal: 11.2s\tremaining: 17.6s\n",
      "156:\tlearn: 0.8809231\ttest: 0.8809231\ttest1: 0.8748081\tbest: 0.8749104 (152)\ttotal: 11.3s\tremaining: 17.4s\n",
      "157:\tlearn: 0.8808354\ttest: 0.8808354\ttest1: 0.8748081\tbest: 0.8749104 (152)\ttotal: 11.3s\tremaining: 17.3s\n",
      "158:\tlearn: 0.8808793\ttest: 0.8808793\ttest1: 0.8749104\tbest: 0.8749104 (152)\ttotal: 11.4s\tremaining: 17.2s\n",
      "159:\tlearn: 0.8808354\ttest: 0.8808354\ttest1: 0.8741939\tbest: 0.8749104 (152)\ttotal: 11.4s\tremaining: 17.1s\n",
      "160:\tlearn: 0.8809670\ttest: 0.8809670\ttest1: 0.8741939\tbest: 0.8749104 (152)\ttotal: 11.5s\tremaining: 17s\n",
      "161:\tlearn: 0.8815813\ttest: 0.8815813\ttest1: 0.8740915\tbest: 0.8749104 (152)\ttotal: 11.5s\tremaining: 16.9s\n"
     ]
    },
    {
     "name": "stdout",
     "output_type": "stream",
     "text": [
      "162:\tlearn: 0.8815813\ttest: 0.8815813\ttest1: 0.8740915\tbest: 0.8749104 (152)\ttotal: 11.6s\tremaining: 16.8s\n",
      "163:\tlearn: 0.8813619\ttest: 0.8813619\ttest1: 0.8734773\tbest: 0.8749104 (152)\ttotal: 11.6s\tremaining: 16.7s\n",
      "164:\tlearn: 0.8814058\ttest: 0.8814058\ttest1: 0.8734773\tbest: 0.8749104 (152)\ttotal: 11.7s\tremaining: 16.6s\n",
      "165:\tlearn: 0.8817568\ttest: 0.8817568\ttest1: 0.8738868\tbest: 0.8749104 (152)\ttotal: 11.7s\tremaining: 16.5s\n",
      "166:\tlearn: 0.8816251\ttest: 0.8816251\ttest1: 0.8741939\tbest: 0.8749104 (152)\ttotal: 11.8s\tremaining: 16.4s\n",
      "167:\tlearn: 0.8815374\ttest: 0.8815374\ttest1: 0.8741939\tbest: 0.8749104 (152)\ttotal: 11.8s\tremaining: 16.3s\n",
      "168:\tlearn: 0.8814935\ttest: 0.8814935\ttest1: 0.8742962\tbest: 0.8749104 (152)\ttotal: 11.9s\tremaining: 16.2s\n",
      "169:\tlearn: 0.8814496\ttest: 0.8814496\ttest1: 0.8743986\tbest: 0.8749104 (152)\ttotal: 11.9s\tremaining: 16.1s\n",
      "170:\tlearn: 0.8814496\ttest: 0.8814496\ttest1: 0.8743986\tbest: 0.8749104 (152)\ttotal: 12s\tremaining: 16s\n",
      "171:\tlearn: 0.8814058\ttest: 0.8814058\ttest1: 0.8743986\tbest: 0.8749104 (152)\ttotal: 12s\tremaining: 16s\n",
      "172:\tlearn: 0.8814496\ttest: 0.8814496\ttest1: 0.8742962\tbest: 0.8749104 (152)\ttotal: 12.1s\tremaining: 15.8s\n",
      "173:\tlearn: 0.8814058\ttest: 0.8814058\ttest1: 0.8743986\tbest: 0.8749104 (152)\ttotal: 12.1s\tremaining: 15.8s\n",
      "174:\tlearn: 0.8815374\ttest: 0.8815374\ttest1: 0.8743986\tbest: 0.8749104 (152)\ttotal: 12.2s\tremaining: 15.7s\n",
      "175:\tlearn: 0.8815813\ttest: 0.8815813\ttest1: 0.8743986\tbest: 0.8749104 (152)\ttotal: 12.2s\tremaining: 15.6s\n",
      "176:\tlearn: 0.8813180\ttest: 0.8813180\ttest1: 0.8742962\tbest: 0.8749104 (152)\ttotal: 12.3s\tremaining: 15.5s\n",
      "177:\tlearn: 0.8813180\ttest: 0.8813180\ttest1: 0.8743986\tbest: 0.8749104 (152)\ttotal: 12.3s\tremaining: 15.4s\n",
      "178:\tlearn: 0.8813180\ttest: 0.8813180\ttest1: 0.8743986\tbest: 0.8749104 (152)\ttotal: 12.4s\tremaining: 15.3s\n",
      "179:\tlearn: 0.8813180\ttest: 0.8813180\ttest1: 0.8743986\tbest: 0.8749104 (152)\ttotal: 12.4s\tremaining: 15.2s\n",
      "180:\tlearn: 0.8813619\ttest: 0.8813619\ttest1: 0.8742962\tbest: 0.8749104 (152)\ttotal: 12.4s\tremaining: 15s\n",
      "181:\tlearn: 0.8815374\ttest: 0.8815374\ttest1: 0.8743986\tbest: 0.8749104 (152)\ttotal: 12.5s\tremaining: 14.9s\n",
      "182:\tlearn: 0.8816690\ttest: 0.8816690\ttest1: 0.8741939\tbest: 0.8749104 (152)\ttotal: 12.5s\tremaining: 14.9s\n",
      "183:\tlearn: 0.8815813\ttest: 0.8815813\ttest1: 0.8742962\tbest: 0.8749104 (152)\ttotal: 12.6s\tremaining: 14.8s\n",
      "184:\tlearn: 0.8816251\ttest: 0.8816251\ttest1: 0.8742962\tbest: 0.8749104 (152)\ttotal: 12.6s\tremaining: 14.7s\n",
      "185:\tlearn: 0.8816251\ttest: 0.8816251\ttest1: 0.8742962\tbest: 0.8749104 (152)\ttotal: 12.7s\tremaining: 14.6s\n",
      "186:\tlearn: 0.8815813\ttest: 0.8815813\ttest1: 0.8743986\tbest: 0.8749104 (152)\ttotal: 12.7s\tremaining: 14.5s\n",
      "187:\tlearn: 0.8815813\ttest: 0.8815813\ttest1: 0.8743986\tbest: 0.8749104 (152)\ttotal: 12.7s\tremaining: 14.4s\n",
      "188:\tlearn: 0.8815813\ttest: 0.8815813\ttest1: 0.8743986\tbest: 0.8749104 (152)\ttotal: 12.8s\tremaining: 14.3s\n",
      "189:\tlearn: 0.8815813\ttest: 0.8815813\ttest1: 0.8743986\tbest: 0.8749104 (152)\ttotal: 12.9s\tremaining: 14.3s\n",
      "190:\tlearn: 0.8815813\ttest: 0.8815813\ttest1: 0.8743986\tbest: 0.8749104 (152)\ttotal: 13s\tremaining: 14.3s\n",
      "191:\tlearn: 0.8816251\ttest: 0.8816251\ttest1: 0.8743986\tbest: 0.8749104 (152)\ttotal: 13.2s\tremaining: 14.3s\n",
      "192:\tlearn: 0.8816690\ttest: 0.8816690\ttest1: 0.8743986\tbest: 0.8749104 (152)\ttotal: 13.2s\tremaining: 14.2s\n",
      "193:\tlearn: 0.8817129\ttest: 0.8817129\ttest1: 0.8742962\tbest: 0.8749104 (152)\ttotal: 13.3s\tremaining: 14.1s\n",
      "194:\tlearn: 0.8816690\ttest: 0.8816690\ttest1: 0.8743986\tbest: 0.8749104 (152)\ttotal: 13.4s\tremaining: 14.1s\n",
      "195:\tlearn: 0.8815813\ttest: 0.8815813\ttest1: 0.8743986\tbest: 0.8749104 (152)\ttotal: 13.5s\tremaining: 14.1s\n",
      "196:\tlearn: 0.8816251\ttest: 0.8816251\ttest1: 0.8746033\tbest: 0.8749104 (152)\ttotal: 13.7s\tremaining: 14.1s\n",
      "197:\tlearn: 0.8816251\ttest: 0.8816251\ttest1: 0.8745010\tbest: 0.8749104 (152)\ttotal: 13.7s\tremaining: 14s\n",
      "198:\tlearn: 0.8816251\ttest: 0.8816251\ttest1: 0.8746033\tbest: 0.8749104 (152)\ttotal: 13.8s\tremaining: 13.9s\n",
      "199:\tlearn: 0.8818884\ttest: 0.8818884\ttest1: 0.8741939\tbest: 0.8749104 (152)\ttotal: 14s\tremaining: 14s\n",
      "200:\tlearn: 0.8817129\ttest: 0.8817129\ttest1: 0.8741939\tbest: 0.8749104 (152)\ttotal: 14.2s\tremaining: 14s\n",
      "201:\tlearn: 0.8818445\ttest: 0.8818445\ttest1: 0.8740915\tbest: 0.8749104 (152)\ttotal: 14.2s\tremaining: 14s\n",
      "202:\tlearn: 0.8819323\ttest: 0.8819323\ttest1: 0.8740915\tbest: 0.8749104 (152)\ttotal: 14.3s\tremaining: 13.9s\n",
      "Stopped by overfitting detector  (50 iterations wait)\n",
      "\n",
      "bestTest = 0.874910431\n",
      "bestIteration = 152\n",
      "\n",
      "Shrink model to first 153 iterations.\n"
     ]
    },
    {
     "data": {
      "text/plain": [
       "<catboost.core.CatBoostClassifier at 0x1a267732b0>"
      ]
     },
     "execution_count": 122,
     "metadata": {},
     "output_type": "execute_result"
    }
   ],
   "source": [
    "catb.fit(X_train,y_train,eval_set=[(X_train,y_train), (X_test,y_test)],early_stopping_rounds=50)"
   ]
  },
  {
   "cell_type": "code",
   "execution_count": 123,
   "metadata": {},
   "outputs": [
    {
     "name": "stdout",
     "output_type": "stream",
     "text": [
      "<catboost.core.CatBoostClassifier object at 0x1a267732b0>\n",
      "confusion matrix of training data\n",
      "[[16420   871]\n",
      " [ 1842  3659]]\n",
      "confusion matrix of test data\n",
      "[[7058  371]\n",
      " [ 851 1489]]\n",
      "classification report of test data\n",
      "              precision    recall  f1-score   support\n",
      "\n",
      "           0       0.89      0.95      0.92      7429\n",
      "           1       0.80      0.64      0.71      2340\n",
      "\n",
      "    accuracy                           0.87      9769\n",
      "   macro avg       0.85      0.79      0.81      9769\n",
      "weighted avg       0.87      0.87      0.87      9769\n",
      "\n",
      "Accuracy on test data: 87.491043%\n",
      "Accuracy on training data: 88.096701%\n",
      "Area under the ROC curve : 0.793193\n"
     ]
    }
   ],
   "source": [
    "show_classifier_metrics(catb)"
   ]
  },
  {
   "cell_type": "code",
   "execution_count": 167,
   "metadata": {},
   "outputs": [
    {
     "name": "stdout",
     "output_type": "stream",
     "text": [
      "Doing grid search\n",
      "Fitting 4 folds for each of 4 candidates, totalling 16 fits\n"
     ]
    },
    {
     "name": "stderr",
     "output_type": "stream",
     "text": [
      "[Parallel(n_jobs=-1)]: Using backend LokyBackend with 4 concurrent workers.\n",
      "[Parallel(n_jobs=-1)]: Done  16 out of  16 | elapsed: 11.4min finished\n"
     ]
    },
    {
     "name": "stdout",
     "output_type": "stream",
     "text": [
      "0:\tlearn: 0.8489382\ttotal: 302ms\tremaining: 1m 30s\n",
      "1:\tlearn: 0.8508687\ttotal: 555ms\tremaining: 1m 22s\n",
      "2:\tlearn: 0.8531064\ttotal: 816ms\tremaining: 1m 20s\n",
      "3:\tlearn: 0.8520534\ttotal: 1.06s\tremaining: 1m 18s\n",
      "4:\tlearn: 0.8542471\ttotal: 1.31s\tremaining: 1m 17s\n",
      "5:\tlearn: 0.8554756\ttotal: 1.4s\tremaining: 1m 8s\n",
      "6:\tlearn: 0.8550369\ttotal: 1.65s\tremaining: 1m 8s\n",
      "7:\tlearn: 0.8545981\ttotal: 1.74s\tremaining: 1m 3s\n",
      "8:\tlearn: 0.8567041\ttotal: 1.98s\tremaining: 1m 3s\n",
      "9:\tlearn: 0.8580204\ttotal: 2.23s\tremaining: 1m 4s\n",
      "10:\tlearn: 0.8585030\ttotal: 2.48s\tremaining: 1m 5s\n",
      "11:\tlearn: 0.8596437\ttotal: 2.73s\tremaining: 1m 5s\n",
      "12:\tlearn: 0.8604335\ttotal: 2.96s\tremaining: 1m 5s\n",
      "13:\tlearn: 0.8607845\ttotal: 3.2s\tremaining: 1m 5s\n",
      "14:\tlearn: 0.8604774\ttotal: 3.44s\tremaining: 1m 5s\n",
      "15:\tlearn: 0.8617497\ttotal: 3.67s\tremaining: 1m 5s\n",
      "16:\tlearn: 0.8622762\ttotal: 3.77s\tremaining: 1m 2s\n",
      "17:\tlearn: 0.8623640\ttotal: 4.01s\tremaining: 1m 2s\n",
      "18:\tlearn: 0.8632415\ttotal: 4.23s\tremaining: 1m 2s\n",
      "19:\tlearn: 0.8636802\ttotal: 4.46s\tremaining: 1m 2s\n",
      "20:\tlearn: 0.8637241\ttotal: 4.71s\tremaining: 1m 2s\n",
      "21:\tlearn: 0.8637680\ttotal: 4.95s\tremaining: 1m 2s\n",
      "22:\tlearn: 0.8648649\ttotal: 5.17s\tremaining: 1m 2s\n",
      "23:\tlearn: 0.8652159\ttotal: 5.38s\tremaining: 1m 1s\n",
      "24:\tlearn: 0.8651720\ttotal: 5.45s\tremaining: 59.9s\n",
      "25:\tlearn: 0.8652159\ttotal: 5.67s\tremaining: 59.8s\n",
      "26:\tlearn: 0.8657862\ttotal: 5.89s\tremaining: 59.5s\n",
      "27:\tlearn: 0.8662689\ttotal: 6.11s\tremaining: 59.4s\n",
      "28:\tlearn: 0.8667076\ttotal: 6.33s\tremaining: 59.2s\n",
      "29:\tlearn: 0.8670147\ttotal: 6.5s\tremaining: 58.5s\n",
      "30:\tlearn: 0.8674535\ttotal: 6.74s\tremaining: 58.4s\n",
      "31:\tlearn: 0.8677167\ttotal: 6.97s\tremaining: 58.4s\n",
      "32:\tlearn: 0.8675851\ttotal: 7.03s\tremaining: 56.9s\n",
      "33:\tlearn: 0.8674974\ttotal: 7.26s\tremaining: 56.8s\n",
      "34:\tlearn: 0.8682871\ttotal: 7.43s\tremaining: 56.3s\n",
      "35:\tlearn: 0.8681994\ttotal: 7.54s\tremaining: 55.3s\n",
      "36:\tlearn: 0.8682432\ttotal: 7.78s\tremaining: 55.3s\n",
      "37:\tlearn: 0.8684626\ttotal: 7.94s\tremaining: 54.8s\n",
      "38:\tlearn: 0.8689014\ttotal: 8.01s\tremaining: 53.6s\n",
      "39:\tlearn: 0.8689014\ttotal: 8.24s\tremaining: 53.6s\n",
      "40:\tlearn: 0.8689014\ttotal: 8.46s\tremaining: 53.5s\n",
      "41:\tlearn: 0.8686381\ttotal: 8.7s\tremaining: 53.5s\n",
      "42:\tlearn: 0.8692524\ttotal: 8.93s\tremaining: 53.4s\n",
      "43:\tlearn: 0.8692524\ttotal: 8.97s\tremaining: 52.2s\n",
      "44:\tlearn: 0.8695595\ttotal: 9.22s\tremaining: 52.2s\n",
      "45:\tlearn: 0.8696034\ttotal: 9.28s\tremaining: 51.2s\n",
      "46:\tlearn: 0.8699982\ttotal: 9.51s\tremaining: 51.2s\n",
      "47:\tlearn: 0.8707002\ttotal: 9.74s\tremaining: 51.2s\n",
      "48:\tlearn: 0.8707441\ttotal: 9.96s\tremaining: 51s\n",
      "49:\tlearn: 0.8707880\ttotal: 10.1s\tremaining: 50.3s\n",
      "50:\tlearn: 0.8709196\ttotal: 10.2s\tremaining: 50s\n",
      "51:\tlearn: 0.8710074\ttotal: 10.5s\tremaining: 50s\n",
      "52:\tlearn: 0.8712706\ttotal: 10.7s\tremaining: 49.7s\n",
      "53:\tlearn: 0.8714022\ttotal: 10.8s\tremaining: 49s\n",
      "54:\tlearn: 0.8715777\ttotal: 10.8s\tremaining: 48.2s\n",
      "55:\tlearn: 0.8715777\ttotal: 10.9s\tremaining: 47.4s\n",
      "56:\tlearn: 0.8716655\ttotal: 10.9s\tremaining: 46.5s\n",
      "57:\tlearn: 0.8718410\ttotal: 11s\tremaining: 46s\n",
      "58:\tlearn: 0.8718849\ttotal: 11.1s\tremaining: 45.2s\n",
      "59:\tlearn: 0.8722359\ttotal: 11.3s\tremaining: 45.4s\n",
      "60:\tlearn: 0.8724552\ttotal: 11.6s\tremaining: 45.5s\n",
      "61:\tlearn: 0.8724552\ttotal: 11.7s\tremaining: 44.7s\n",
      "62:\tlearn: 0.8725430\ttotal: 11.9s\tremaining: 44.9s\n",
      "63:\tlearn: 0.8726746\ttotal: 12.1s\tremaining: 44.7s\n",
      "64:\tlearn: 0.8726746\ttotal: 12.2s\tremaining: 44.1s\n",
      "65:\tlearn: 0.8728062\ttotal: 12.4s\tremaining: 44.1s\n",
      "66:\tlearn: 0.8731134\ttotal: 12.7s\tremaining: 44.1s\n",
      "67:\tlearn: 0.8728062\ttotal: 12.9s\tremaining: 44.1s\n",
      "68:\tlearn: 0.8732889\ttotal: 13.2s\tremaining: 44s\n",
      "69:\tlearn: 0.8732450\ttotal: 13.2s\tremaining: 43.4s\n",
      "70:\tlearn: 0.8734205\ttotal: 13.4s\tremaining: 43.3s\n",
      "71:\tlearn: 0.8739470\ttotal: 13.5s\tremaining: 42.7s\n",
      "72:\tlearn: 0.8737276\ttotal: 13.7s\tremaining: 42.7s\n",
      "73:\tlearn: 0.8742980\ttotal: 14s\tremaining: 42.8s\n",
      "74:\tlearn: 0.8742980\ttotal: 14.2s\tremaining: 42.5s\n",
      "75:\tlearn: 0.8741225\ttotal: 14.4s\tremaining: 42.5s\n",
      "76:\tlearn: 0.8741225\ttotal: 14.7s\tremaining: 42.5s\n",
      "77:\tlearn: 0.8745174\ttotal: 14.8s\tremaining: 42s\n",
      "78:\tlearn: 0.8746929\ttotal: 15s\tremaining: 41.9s\n",
      "79:\tlearn: 0.8748684\ttotal: 15.2s\tremaining: 41.8s\n",
      "80:\tlearn: 0.8753071\ttotal: 15.5s\tremaining: 41.8s\n",
      "81:\tlearn: 0.8753071\ttotal: 15.5s\tremaining: 41.2s\n",
      "82:\tlearn: 0.8753071\ttotal: 15.7s\tremaining: 41s\n",
      "83:\tlearn: 0.8755265\ttotal: 16s\tremaining: 41s\n",
      "84:\tlearn: 0.8754388\ttotal: 16.3s\tremaining: 41.2s\n",
      "85:\tlearn: 0.8752633\ttotal: 16.6s\tremaining: 41.2s\n",
      "86:\tlearn: 0.8752633\ttotal: 16.6s\tremaining: 40.7s\n",
      "87:\tlearn: 0.8753510\ttotal: 16.9s\tremaining: 40.8s\n",
      "88:\tlearn: 0.8753949\ttotal: 17.2s\tremaining: 40.8s\n",
      "89:\tlearn: 0.8753510\ttotal: 17.4s\tremaining: 40.6s\n",
      "90:\tlearn: 0.8755704\ttotal: 17.6s\tremaining: 40.5s\n",
      "91:\tlearn: 0.8757020\ttotal: 17.7s\tremaining: 39.9s\n",
      "92:\tlearn: 0.8754388\ttotal: 17.7s\tremaining: 39.5s\n",
      "93:\tlearn: 0.8754388\ttotal: 17.8s\tremaining: 38.9s\n",
      "94:\tlearn: 0.8753949\ttotal: 18s\tremaining: 38.8s\n",
      "95:\tlearn: 0.8755704\ttotal: 18.2s\tremaining: 38.7s\n",
      "96:\tlearn: 0.8760530\ttotal: 18.5s\tremaining: 38.6s\n",
      "97:\tlearn: 0.8759214\ttotal: 18.6s\tremaining: 38.2s\n",
      "98:\tlearn: 0.8756581\ttotal: 18.8s\tremaining: 38.2s\n",
      "99:\tlearn: 0.8756581\ttotal: 18.8s\tremaining: 37.7s\n",
      "100:\tlearn: 0.8759653\ttotal: 18.9s\tremaining: 37.2s\n",
      "101:\tlearn: 0.8760530\ttotal: 19s\tremaining: 36.8s\n",
      "102:\tlearn: 0.8758775\ttotal: 19.2s\tremaining: 36.7s\n",
      "103:\tlearn: 0.8760969\ttotal: 19.3s\tremaining: 36.3s\n",
      "104:\tlearn: 0.8761408\ttotal: 19.4s\tremaining: 36.1s\n",
      "105:\tlearn: 0.8761408\ttotal: 19.7s\tremaining: 36.1s\n",
      "106:\tlearn: 0.8761408\ttotal: 20s\tremaining: 36s\n",
      "107:\tlearn: 0.8760969\ttotal: 20.1s\tremaining: 35.8s\n",
      "108:\tlearn: 0.8763601\ttotal: 20.5s\tremaining: 35.8s\n",
      "109:\tlearn: 0.8766673\ttotal: 20.8s\tremaining: 35.8s\n",
      "110:\tlearn: 0.8768866\ttotal: 21.1s\tremaining: 35.8s\n",
      "111:\tlearn: 0.8769305\ttotal: 21.1s\tremaining: 35.5s\n",
      "112:\tlearn: 0.8770621\ttotal: 21.4s\tremaining: 35.5s\n",
      "113:\tlearn: 0.8771938\ttotal: 21.7s\tremaining: 35.3s\n",
      "114:\tlearn: 0.8772376\ttotal: 21.9s\tremaining: 35.2s\n",
      "115:\tlearn: 0.8772815\ttotal: 22.1s\tremaining: 35.1s\n",
      "116:\tlearn: 0.8772376\ttotal: 22.4s\tremaining: 35s\n",
      "117:\tlearn: 0.8773693\ttotal: 22.6s\tremaining: 34.9s\n",
      "118:\tlearn: 0.8772376\ttotal: 22.9s\tremaining: 34.8s\n",
      "119:\tlearn: 0.8774570\ttotal: 23.1s\tremaining: 34.7s\n",
      "120:\tlearn: 0.8774570\ttotal: 23.1s\tremaining: 34.2s\n",
      "121:\tlearn: 0.8776325\ttotal: 23.4s\tremaining: 34.1s\n",
      "122:\tlearn: 0.8778958\ttotal: 23.6s\tremaining: 34s\n",
      "123:\tlearn: 0.8778958\ttotal: 23.9s\tremaining: 33.9s\n",
      "124:\tlearn: 0.8779396\ttotal: 24.1s\tremaining: 33.7s\n",
      "125:\tlearn: 0.8780274\ttotal: 24.3s\tremaining: 33.6s\n",
      "126:\tlearn: 0.8778958\ttotal: 24.6s\tremaining: 33.5s\n",
      "127:\tlearn: 0.8778958\ttotal: 24.9s\tremaining: 33.4s\n",
      "128:\tlearn: 0.8780713\ttotal: 25.1s\tremaining: 33.3s\n",
      "129:\tlearn: 0.8779835\ttotal: 25.3s\tremaining: 33.1s\n",
      "130:\tlearn: 0.8781151\ttotal: 25.6s\tremaining: 33s\n",
      "131:\tlearn: 0.8781590\ttotal: 25.8s\tremaining: 32.9s\n",
      "132:\tlearn: 0.8781590\ttotal: 26.1s\tremaining: 32.7s\n",
      "133:\tlearn: 0.8782029\ttotal: 26.3s\tremaining: 32.6s\n",
      "134:\tlearn: 0.8783345\ttotal: 26.5s\tremaining: 32.4s\n",
      "135:\tlearn: 0.8782468\ttotal: 26.7s\tremaining: 32.2s\n",
      "136:\tlearn: 0.8782468\ttotal: 27s\tremaining: 32.1s\n",
      "137:\tlearn: 0.8784223\ttotal: 27.2s\tremaining: 32s\n",
      "138:\tlearn: 0.8783784\ttotal: 27.5s\tremaining: 31.8s\n",
      "139:\tlearn: 0.8784223\ttotal: 27.7s\tremaining: 31.7s\n",
      "140:\tlearn: 0.8786416\ttotal: 27.9s\tremaining: 31.5s\n",
      "141:\tlearn: 0.8785978\ttotal: 28.2s\tremaining: 31.4s\n",
      "142:\tlearn: 0.8785539\ttotal: 28.4s\tremaining: 31.2s\n",
      "143:\tlearn: 0.8785539\ttotal: 28.6s\tremaining: 31s\n",
      "144:\tlearn: 0.8784223\ttotal: 28.9s\tremaining: 30.9s\n",
      "145:\tlearn: 0.8785100\ttotal: 29s\tremaining: 30.5s\n",
      "146:\tlearn: 0.8784661\ttotal: 29.2s\tremaining: 30.4s\n",
      "147:\tlearn: 0.8785539\ttotal: 29.4s\tremaining: 30.2s\n",
      "148:\tlearn: 0.8791243\ttotal: 29.7s\tremaining: 30.1s\n",
      "149:\tlearn: 0.8792998\ttotal: 29.9s\tremaining: 29.9s\n",
      "150:\tlearn: 0.8792998\ttotal: 30.2s\tremaining: 29.8s\n",
      "151:\tlearn: 0.8792998\ttotal: 30.4s\tremaining: 29.6s\n",
      "152:\tlearn: 0.8792998\ttotal: 30.6s\tremaining: 29.4s\n",
      "153:\tlearn: 0.8797824\ttotal: 30.9s\tremaining: 29.3s\n",
      "154:\tlearn: 0.8798701\ttotal: 31.1s\tremaining: 29.1s\n",
      "155:\tlearn: 0.8800018\ttotal: 31.3s\tremaining: 28.9s\n",
      "156:\tlearn: 0.8798701\ttotal: 31.6s\tremaining: 28.8s\n",
      "157:\tlearn: 0.8799140\ttotal: 31.8s\tremaining: 28.6s\n",
      "158:\tlearn: 0.8799140\ttotal: 32s\tremaining: 28.4s\n",
      "159:\tlearn: 0.8799140\ttotal: 32.2s\tremaining: 28.2s\n",
      "160:\tlearn: 0.8800018\ttotal: 32.5s\tremaining: 28.1s\n"
     ]
    },
    {
     "name": "stdout",
     "output_type": "stream",
     "text": [
      "161:\tlearn: 0.8801334\ttotal: 32.7s\tremaining: 27.9s\n",
      "162:\tlearn: 0.8801334\ttotal: 33s\tremaining: 27.7s\n",
      "163:\tlearn: 0.8801334\ttotal: 33.2s\tremaining: 27.5s\n",
      "164:\tlearn: 0.8800456\ttotal: 33.4s\tremaining: 27.3s\n",
      "165:\tlearn: 0.8801773\ttotal: 33.7s\tremaining: 27.2s\n",
      "166:\tlearn: 0.8802211\ttotal: 33.9s\tremaining: 27s\n",
      "167:\tlearn: 0.8800456\ttotal: 34.1s\tremaining: 26.8s\n",
      "168:\tlearn: 0.8800018\ttotal: 34.4s\tremaining: 26.6s\n",
      "169:\tlearn: 0.8800018\ttotal: 34.6s\tremaining: 26.5s\n",
      "170:\tlearn: 0.8803089\ttotal: 34.8s\tremaining: 26.3s\n",
      "171:\tlearn: 0.8803089\ttotal: 34.9s\tremaining: 26s\n",
      "172:\tlearn: 0.8803089\ttotal: 35.1s\tremaining: 25.8s\n",
      "173:\tlearn: 0.8803089\ttotal: 35.2s\tremaining: 25.5s\n",
      "174:\tlearn: 0.8802650\ttotal: 35.4s\tremaining: 25.3s\n",
      "175:\tlearn: 0.8803089\ttotal: 35.6s\tremaining: 25.1s\n",
      "176:\tlearn: 0.8803089\ttotal: 35.9s\tremaining: 24.9s\n",
      "177:\tlearn: 0.8802211\ttotal: 36.1s\tremaining: 24.7s\n",
      "178:\tlearn: 0.8801773\ttotal: 36.3s\tremaining: 24.6s\n",
      "179:\tlearn: 0.8801773\ttotal: 36.4s\tremaining: 24.3s\n",
      "180:\tlearn: 0.8802211\ttotal: 36.6s\tremaining: 24.1s\n",
      "181:\tlearn: 0.8803089\ttotal: 36.9s\tremaining: 23.9s\n",
      "182:\tlearn: 0.8804405\ttotal: 37.1s\tremaining: 23.7s\n",
      "183:\tlearn: 0.8804844\ttotal: 37.3s\tremaining: 23.5s\n",
      "184:\tlearn: 0.8807476\ttotal: 37.5s\tremaining: 23.3s\n",
      "185:\tlearn: 0.8807476\ttotal: 37.7s\tremaining: 23.1s\n",
      "186:\tlearn: 0.8807476\ttotal: 37.8s\tremaining: 22.8s\n",
      "187:\tlearn: 0.8808354\ttotal: 38s\tremaining: 22.6s\n",
      "188:\tlearn: 0.8808354\ttotal: 38.2s\tremaining: 22.4s\n",
      "189:\tlearn: 0.8810986\ttotal: 38.4s\tremaining: 22.3s\n",
      "190:\tlearn: 0.8811425\ttotal: 38.7s\tremaining: 22.1s\n",
      "191:\tlearn: 0.8810109\ttotal: 38.9s\tremaining: 21.9s\n",
      "192:\tlearn: 0.8810109\ttotal: 39.1s\tremaining: 21.7s\n",
      "193:\tlearn: 0.8810986\ttotal: 39.3s\tremaining: 21.5s\n",
      "194:\tlearn: 0.8811425\ttotal: 39.6s\tremaining: 21.3s\n",
      "195:\tlearn: 0.8815813\ttotal: 39.8s\tremaining: 21.1s\n",
      "196:\tlearn: 0.8815813\ttotal: 40s\tremaining: 20.9s\n",
      "197:\tlearn: 0.8815813\ttotal: 40.2s\tremaining: 20.7s\n",
      "198:\tlearn: 0.8817129\ttotal: 40.4s\tremaining: 20.5s\n",
      "199:\tlearn: 0.8821516\ttotal: 40.7s\tremaining: 20.3s\n",
      "200:\tlearn: 0.8821516\ttotal: 40.9s\tremaining: 20.2s\n",
      "201:\tlearn: 0.8823710\ttotal: 41.1s\tremaining: 20s\n",
      "202:\tlearn: 0.8823271\ttotal: 41.4s\tremaining: 19.8s\n",
      "203:\tlearn: 0.8821955\ttotal: 41.6s\tremaining: 19.6s\n",
      "204:\tlearn: 0.8822833\ttotal: 41.9s\tremaining: 19.4s\n",
      "205:\tlearn: 0.8822833\ttotal: 42.1s\tremaining: 19.2s\n",
      "206:\tlearn: 0.8825026\ttotal: 42.3s\tremaining: 19s\n",
      "207:\tlearn: 0.8826781\ttotal: 42.5s\tremaining: 18.8s\n",
      "208:\tlearn: 0.8825026\ttotal: 42.8s\tremaining: 18.6s\n",
      "209:\tlearn: 0.8824588\ttotal: 43s\tremaining: 18.4s\n",
      "210:\tlearn: 0.8825904\ttotal: 43.2s\tremaining: 18.2s\n",
      "211:\tlearn: 0.8827220\ttotal: 43.4s\tremaining: 18s\n",
      "212:\tlearn: 0.8828536\ttotal: 43.7s\tremaining: 17.8s\n",
      "213:\tlearn: 0.8828975\ttotal: 43.9s\tremaining: 17.6s\n",
      "214:\tlearn: 0.8830730\ttotal: 44.1s\tremaining: 17.4s\n",
      "215:\tlearn: 0.8829414\ttotal: 44.3s\tremaining: 17.2s\n",
      "216:\tlearn: 0.8828536\ttotal: 44.6s\tremaining: 17s\n",
      "217:\tlearn: 0.8828536\ttotal: 44.8s\tremaining: 16.9s\n",
      "218:\tlearn: 0.8828975\ttotal: 45s\tremaining: 16.7s\n",
      "219:\tlearn: 0.8828098\ttotal: 45.3s\tremaining: 16.5s\n",
      "220:\tlearn: 0.8828098\ttotal: 45.5s\tremaining: 16.3s\n",
      "221:\tlearn: 0.8828975\ttotal: 45.7s\tremaining: 16.1s\n",
      "222:\tlearn: 0.8828975\ttotal: 46s\tremaining: 15.9s\n",
      "223:\tlearn: 0.8830730\ttotal: 46.2s\tremaining: 15.7s\n",
      "224:\tlearn: 0.8830730\ttotal: 46.4s\tremaining: 15.5s\n",
      "225:\tlearn: 0.8830291\ttotal: 46.6s\tremaining: 15.3s\n",
      "226:\tlearn: 0.8830730\ttotal: 46.9s\tremaining: 15.1s\n",
      "227:\tlearn: 0.8831169\ttotal: 47.1s\tremaining: 14.9s\n",
      "228:\tlearn: 0.8831608\ttotal: 47.4s\tremaining: 14.7s\n",
      "229:\tlearn: 0.8831169\ttotal: 47.6s\tremaining: 14.5s\n",
      "230:\tlearn: 0.8831169\ttotal: 47.9s\tremaining: 14.3s\n",
      "231:\tlearn: 0.8830730\ttotal: 47.9s\tremaining: 14.1s\n",
      "232:\tlearn: 0.8830730\ttotal: 48.2s\tremaining: 13.9s\n",
      "233:\tlearn: 0.8830730\ttotal: 48.4s\tremaining: 13.6s\n",
      "234:\tlearn: 0.8831169\ttotal: 48.6s\tremaining: 13.4s\n",
      "235:\tlearn: 0.8831169\ttotal: 48.7s\tremaining: 13.2s\n",
      "236:\tlearn: 0.8830730\ttotal: 48.9s\tremaining: 13s\n",
      "237:\tlearn: 0.8831169\ttotal: 49.1s\tremaining: 12.8s\n",
      "238:\tlearn: 0.8832046\ttotal: 49.4s\tremaining: 12.6s\n",
      "239:\tlearn: 0.8831608\ttotal: 49.6s\tremaining: 12.4s\n",
      "240:\tlearn: 0.8832046\ttotal: 49.7s\tremaining: 12.2s\n",
      "241:\tlearn: 0.8831608\ttotal: 50s\tremaining: 12s\n",
      "242:\tlearn: 0.8833363\ttotal: 50.2s\tremaining: 11.8s\n",
      "243:\tlearn: 0.8833363\ttotal: 50.4s\tremaining: 11.6s\n",
      "244:\tlearn: 0.8833363\ttotal: 50.7s\tremaining: 11.4s\n",
      "245:\tlearn: 0.8834240\ttotal: 50.9s\tremaining: 11.2s\n",
      "246:\tlearn: 0.8834240\ttotal: 51.1s\tremaining: 11s\n",
      "247:\tlearn: 0.8833801\ttotal: 51.3s\tremaining: 10.8s\n",
      "248:\tlearn: 0.8833801\ttotal: 51.5s\tremaining: 10.6s\n",
      "249:\tlearn: 0.8833801\ttotal: 51.7s\tremaining: 10.3s\n",
      "250:\tlearn: 0.8833801\ttotal: 52s\tremaining: 10.1s\n",
      "251:\tlearn: 0.8833801\ttotal: 52.2s\tremaining: 9.94s\n",
      "252:\tlearn: 0.8833801\ttotal: 52.4s\tremaining: 9.74s\n",
      "253:\tlearn: 0.8833801\ttotal: 52.7s\tremaining: 9.54s\n",
      "254:\tlearn: 0.8833801\ttotal: 52.8s\tremaining: 9.32s\n",
      "255:\tlearn: 0.8833801\ttotal: 53s\tremaining: 9.12s\n",
      "256:\tlearn: 0.8834240\ttotal: 53.3s\tremaining: 8.91s\n",
      "257:\tlearn: 0.8833363\ttotal: 53.5s\tremaining: 8.71s\n",
      "258:\tlearn: 0.8833363\ttotal: 53.7s\tremaining: 8.51s\n",
      "259:\tlearn: 0.8834240\ttotal: 54s\tremaining: 8.3s\n",
      "260:\tlearn: 0.8833363\ttotal: 54.2s\tremaining: 8.1s\n",
      "261:\tlearn: 0.8833801\ttotal: 54.4s\tremaining: 7.89s\n",
      "262:\tlearn: 0.8833801\ttotal: 54.7s\tremaining: 7.69s\n",
      "263:\tlearn: 0.8834240\ttotal: 54.9s\tremaining: 7.49s\n",
      "264:\tlearn: 0.8833801\ttotal: 55.1s\tremaining: 7.28s\n",
      "265:\tlearn: 0.8834240\ttotal: 55.2s\tremaining: 7.06s\n",
      "266:\tlearn: 0.8834240\ttotal: 55.4s\tremaining: 6.85s\n",
      "267:\tlearn: 0.8834240\ttotal: 55.7s\tremaining: 6.64s\n",
      "268:\tlearn: 0.8832924\ttotal: 55.9s\tremaining: 6.44s\n",
      "269:\tlearn: 0.8832485\ttotal: 56.1s\tremaining: 6.23s\n",
      "270:\tlearn: 0.8832485\ttotal: 56.3s\tremaining: 6.03s\n",
      "271:\tlearn: 0.8832485\ttotal: 56.4s\tremaining: 5.8s\n",
      "272:\tlearn: 0.8832924\ttotal: 56.6s\tremaining: 5.6s\n",
      "273:\tlearn: 0.8832924\ttotal: 56.8s\tremaining: 5.39s\n",
      "274:\tlearn: 0.8833363\ttotal: 56.9s\tremaining: 5.17s\n",
      "275:\tlearn: 0.8833363\ttotal: 57.1s\tremaining: 4.96s\n",
      "276:\tlearn: 0.8833801\ttotal: 57.3s\tremaining: 4.76s\n",
      "277:\tlearn: 0.8833363\ttotal: 57.5s\tremaining: 4.55s\n",
      "278:\tlearn: 0.8833363\ttotal: 57.6s\tremaining: 4.33s\n",
      "279:\tlearn: 0.8833363\ttotal: 57.8s\tremaining: 4.13s\n",
      "280:\tlearn: 0.8833363\ttotal: 57.8s\tremaining: 3.91s\n",
      "281:\tlearn: 0.8833363\ttotal: 58s\tremaining: 3.7s\n",
      "282:\tlearn: 0.8834240\ttotal: 58.3s\tremaining: 3.5s\n",
      "283:\tlearn: 0.8834240\ttotal: 58.5s\tremaining: 3.29s\n",
      "284:\tlearn: 0.8834240\ttotal: 58.5s\tremaining: 3.08s\n",
      "285:\tlearn: 0.8835556\ttotal: 58.8s\tremaining: 2.88s\n",
      "286:\tlearn: 0.8835995\ttotal: 59s\tremaining: 2.67s\n",
      "287:\tlearn: 0.8835995\ttotal: 59.2s\tremaining: 2.47s\n",
      "288:\tlearn: 0.8835995\ttotal: 59.3s\tremaining: 2.26s\n",
      "289:\tlearn: 0.8835556\ttotal: 59.5s\tremaining: 2.05s\n",
      "290:\tlearn: 0.8835556\ttotal: 59.8s\tremaining: 1.85s\n",
      "291:\tlearn: 0.8835556\ttotal: 59.8s\tremaining: 1.64s\n",
      "292:\tlearn: 0.8835556\ttotal: 59.8s\tremaining: 1.43s\n",
      "293:\tlearn: 0.8835556\ttotal: 1m\tremaining: 1.23s\n",
      "294:\tlearn: 0.8835556\ttotal: 1m\tremaining: 1.02s\n",
      "295:\tlearn: 0.8836434\ttotal: 1m\tremaining: 818ms\n",
      "296:\tlearn: 0.8835995\ttotal: 1m\tremaining: 614ms\n",
      "297:\tlearn: 0.8835995\ttotal: 1m\tremaining: 409ms\n",
      "298:\tlearn: 0.8835995\ttotal: 1m 1s\tremaining: 205ms\n",
      "299:\tlearn: 0.8835556\ttotal: 1m 1s\tremaining: 0us\n",
      "mean test score (weighted by split size) of CV rounds:  [0.87056862 0.87030537 0.87034925 0.87091962]\n",
      "Best parameter set {'depth': 10, 'iterations': 300, 'learning_rate': 0.1, 'reg_lambda': 3, 'rsm': 0.9} Corresponding mean CV score 0.8709196209196209\n"
     ]
    }
   ],
   "source": [
    "### Catboost grid search\n",
    "\n",
    "catbCV = CatBoostClassifier(verbose=1,random_seed=10,eval_metric='Accuracy')\n",
    "param_grid = {}\n",
    "param_grid['learning_rate'] = [0.1]#, 0.3]\n",
    "param_grid['rsm'] = [0.9]\n",
    "#param_grid['subsample'] = [0.9]\n",
    "param_grid['iterations'] = [300]\n",
    "param_grid['reg_lambda']= [2,3]\n",
    "param_grid['depth'] = [8,10]#5\n",
    "catbCV_grid = grid_search(catbCV, param_grid,X_train,y_train)"
   ]
  },
  {
   "cell_type": "code",
   "execution_count": 168,
   "metadata": {},
   "outputs": [
    {
     "name": "stdout",
     "output_type": "stream",
     "text": [
      "0:\tlearn: 0.8489382\ttest: 0.8489382\ttest1: 0.8447129\tbest: 0.8447129 (0)\ttotal: 226ms\tremaining: 1m 7s\n",
      "1:\tlearn: 0.8508687\ttest: 0.8508687\ttest1: 0.8468625\tbest: 0.8468625 (1)\ttotal: 453ms\tremaining: 1m 7s\n",
      "2:\tlearn: 0.8531064\ttest: 0.8531064\ttest1: 0.8488075\tbest: 0.8488075 (2)\ttotal: 704ms\tremaining: 1m 9s\n",
      "3:\tlearn: 0.8520534\ttest: 0.8520534\ttest1: 0.8472720\tbest: 0.8488075 (2)\ttotal: 940ms\tremaining: 1m 9s\n",
      "4:\tlearn: 0.8542471\ttest: 0.8542471\ttest1: 0.8503429\tbest: 0.8503429 (4)\ttotal: 1.16s\tremaining: 1m 8s\n",
      "5:\tlearn: 0.8554756\ttest: 0.8554756\ttest1: 0.8529020\tbest: 0.8529020 (5)\ttotal: 1.27s\tremaining: 1m 2s\n",
      "6:\tlearn: 0.8550369\ttest: 0.8550369\ttest1: 0.8523902\tbest: 0.8529020 (5)\ttotal: 1.52s\tremaining: 1m 3s\n",
      "7:\tlearn: 0.8545981\ttest: 0.8545981\ttest1: 0.8523902\tbest: 0.8529020 (5)\ttotal: 1.61s\tremaining: 59s\n",
      "8:\tlearn: 0.8567041\ttest: 0.8567041\ttest1: 0.8529020\tbest: 0.8529020 (5)\ttotal: 1.85s\tremaining: 59.9s\n",
      "9:\tlearn: 0.8580204\ttest: 0.8580204\ttest1: 0.8548470\tbest: 0.8548470 (9)\ttotal: 2.13s\tremaining: 1m 1s\n",
      "10:\tlearn: 0.8585030\ttest: 0.8585030\ttest1: 0.8551541\tbest: 0.8551541 (10)\ttotal: 2.37s\tremaining: 1m 2s\n",
      "11:\tlearn: 0.8596437\ttest: 0.8596437\ttest1: 0.8560753\tbest: 0.8560753 (11)\ttotal: 2.59s\tremaining: 1m 2s\n",
      "12:\tlearn: 0.8604335\ttest: 0.8604335\ttest1: 0.8552564\tbest: 0.8560753 (11)\ttotal: 2.85s\tremaining: 1m 2s\n",
      "13:\tlearn: 0.8607845\ttest: 0.8607845\ttest1: 0.8556659\tbest: 0.8560753 (11)\ttotal: 3.09s\tremaining: 1m 3s\n",
      "14:\tlearn: 0.8604774\ttest: 0.8604774\ttest1: 0.8557682\tbest: 0.8560753 (11)\ttotal: 3.31s\tremaining: 1m 2s\n",
      "15:\tlearn: 0.8617497\ttest: 0.8617497\ttest1: 0.8560753\tbest: 0.8560753 (11)\ttotal: 3.55s\tremaining: 1m 2s\n",
      "16:\tlearn: 0.8622762\ttest: 0.8622762\ttest1: 0.8568943\tbest: 0.8568943 (16)\ttotal: 3.65s\tremaining: 1m\n",
      "17:\tlearn: 0.8623640\ttest: 0.8623640\ttest1: 0.8567919\tbest: 0.8568943 (16)\ttotal: 3.88s\tremaining: 1m\n",
      "18:\tlearn: 0.8632415\ttest: 0.8632415\ttest1: 0.8573037\tbest: 0.8573037 (18)\ttotal: 4.1s\tremaining: 1m\n",
      "19:\tlearn: 0.8636802\ttest: 0.8636802\ttest1: 0.8579179\tbest: 0.8579179 (19)\ttotal: 4.33s\tremaining: 1m\n",
      "20:\tlearn: 0.8637241\ttest: 0.8637241\ttest1: 0.8583274\tbest: 0.8583274 (20)\ttotal: 4.56s\tremaining: 1m\n",
      "21:\tlearn: 0.8637680\ttest: 0.8637680\ttest1: 0.8586345\tbest: 0.8586345 (21)\ttotal: 4.79s\tremaining: 1m\n",
      "22:\tlearn: 0.8648649\ttest: 0.8648649\ttest1: 0.8591463\tbest: 0.8591463 (22)\ttotal: 5.01s\tremaining: 1m\n",
      "23:\tlearn: 0.8652159\ttest: 0.8652159\ttest1: 0.8586345\tbest: 0.8591463 (22)\ttotal: 5.24s\tremaining: 1m\n",
      "24:\tlearn: 0.8651720\ttest: 0.8651720\ttest1: 0.8588392\tbest: 0.8591463 (22)\ttotal: 5.3s\tremaining: 58.3s\n",
      "25:\tlearn: 0.8652159\ttest: 0.8652159\ttest1: 0.8592486\tbest: 0.8592486 (25)\ttotal: 5.52s\tremaining: 58.2s\n",
      "26:\tlearn: 0.8657862\ttest: 0.8657862\ttest1: 0.8598628\tbest: 0.8598628 (26)\ttotal: 5.76s\tremaining: 58.2s\n",
      "27:\tlearn: 0.8662689\ttest: 0.8662689\ttest1: 0.8603747\tbest: 0.8603747 (27)\ttotal: 5.96s\tremaining: 58s\n",
      "28:\tlearn: 0.8667076\ttest: 0.8667076\ttest1: 0.8607841\tbest: 0.8607841 (28)\ttotal: 6.19s\tremaining: 57.8s\n",
      "29:\tlearn: 0.8670147\ttest: 0.8670147\ttest1: 0.8610912\tbest: 0.8610912 (29)\ttotal: 6.37s\tremaining: 57.3s\n",
      "30:\tlearn: 0.8674535\ttest: 0.8674535\ttest1: 0.8613983\tbest: 0.8613983 (30)\ttotal: 6.59s\tremaining: 57.2s\n",
      "31:\tlearn: 0.8677167\ttest: 0.8677167\ttest1: 0.8617054\tbest: 0.8617054 (31)\ttotal: 6.81s\tremaining: 57.1s\n",
      "32:\tlearn: 0.8675851\ttest: 0.8675851\ttest1: 0.8618078\tbest: 0.8618078 (32)\ttotal: 6.88s\tremaining: 55.6s\n",
      "33:\tlearn: 0.8674974\ttest: 0.8674974\ttest1: 0.8616030\tbest: 0.8618078 (32)\ttotal: 7.11s\tremaining: 55.6s\n",
      "34:\tlearn: 0.8682871\ttest: 0.8682871\ttest1: 0.8618078\tbest: 0.8618078 (32)\ttotal: 7.28s\tremaining: 55.1s\n",
      "35:\tlearn: 0.8681994\ttest: 0.8681994\ttest1: 0.8618078\tbest: 0.8618078 (32)\ttotal: 7.4s\tremaining: 54.2s\n",
      "36:\tlearn: 0.8682432\ttest: 0.8682432\ttest1: 0.8625243\tbest: 0.8625243 (36)\ttotal: 7.62s\tremaining: 54.2s\n",
      "37:\tlearn: 0.8684626\ttest: 0.8684626\ttest1: 0.8630361\tbest: 0.8630361 (37)\ttotal: 7.8s\tremaining: 53.8s\n",
      "38:\tlearn: 0.8689014\ttest: 0.8689014\ttest1: 0.8627290\tbest: 0.8630361 (37)\ttotal: 7.87s\tremaining: 52.7s\n",
      "39:\tlearn: 0.8689014\ttest: 0.8689014\ttest1: 0.8628314\tbest: 0.8630361 (37)\ttotal: 8.1s\tremaining: 52.6s\n",
      "40:\tlearn: 0.8689014\ttest: 0.8689014\ttest1: 0.8627290\tbest: 0.8630361 (37)\ttotal: 8.34s\tremaining: 52.7s\n",
      "41:\tlearn: 0.8686381\ttest: 0.8686381\ttest1: 0.8624219\tbest: 0.8630361 (37)\ttotal: 8.57s\tremaining: 52.6s\n",
      "42:\tlearn: 0.8692524\ttest: 0.8692524\ttest1: 0.8628314\tbest: 0.8630361 (37)\ttotal: 8.8s\tremaining: 52.6s\n",
      "43:\tlearn: 0.8692524\ttest: 0.8692524\ttest1: 0.8628314\tbest: 0.8630361 (37)\ttotal: 8.84s\tremaining: 51.4s\n",
      "44:\tlearn: 0.8695595\ttest: 0.8695595\ttest1: 0.8633432\tbest: 0.8633432 (44)\ttotal: 9.08s\tremaining: 51.4s\n",
      "45:\tlearn: 0.8696034\ttest: 0.8696034\ttest1: 0.8635480\tbest: 0.8635480 (45)\ttotal: 9.14s\tremaining: 50.5s\n",
      "46:\tlearn: 0.8699982\ttest: 0.8699982\ttest1: 0.8636503\tbest: 0.8636503 (46)\ttotal: 9.38s\tremaining: 50.5s\n",
      "47:\tlearn: 0.8707002\ttest: 0.8707002\ttest1: 0.8639574\tbest: 0.8639574 (47)\ttotal: 9.61s\tremaining: 50.5s\n",
      "48:\tlearn: 0.8707441\ttest: 0.8707441\ttest1: 0.8639574\tbest: 0.8639574 (47)\ttotal: 9.83s\tremaining: 50.3s\n",
      "49:\tlearn: 0.8707880\ttest: 0.8707880\ttest1: 0.8642645\tbest: 0.8642645 (49)\ttotal: 9.93s\tremaining: 49.7s\n",
      "50:\tlearn: 0.8709196\ttest: 0.8709196\ttest1: 0.8646740\tbest: 0.8646740 (50)\ttotal: 10.1s\tremaining: 49.4s\n",
      "51:\tlearn: 0.8710074\ttest: 0.8710074\ttest1: 0.8649811\tbest: 0.8649811 (51)\ttotal: 10.3s\tremaining: 49.3s\n",
      "52:\tlearn: 0.8712706\ttest: 0.8712706\ttest1: 0.8650834\tbest: 0.8650834 (52)\ttotal: 10.5s\tremaining: 49s\n",
      "53:\tlearn: 0.8714022\ttest: 0.8714022\ttest1: 0.8655953\tbest: 0.8655953 (53)\ttotal: 10.6s\tremaining: 48.4s\n",
      "54:\tlearn: 0.8715777\ttest: 0.8715777\ttest1: 0.8655953\tbest: 0.8655953 (53)\ttotal: 10.7s\tremaining: 47.6s\n",
      "55:\tlearn: 0.8715777\ttest: 0.8715777\ttest1: 0.8655953\tbest: 0.8655953 (53)\ttotal: 10.7s\tremaining: 46.7s\n",
      "56:\tlearn: 0.8716655\ttest: 0.8716655\ttest1: 0.8656976\tbest: 0.8656976 (56)\ttotal: 10.8s\tremaining: 45.8s\n",
      "57:\tlearn: 0.8718410\ttest: 0.8718410\ttest1: 0.8653905\tbest: 0.8656976 (56)\ttotal: 10.8s\tremaining: 45.3s\n",
      "58:\tlearn: 0.8718849\ttest: 0.8718849\ttest1: 0.8653905\tbest: 0.8656976 (56)\ttotal: 10.9s\tremaining: 44.5s\n",
      "59:\tlearn: 0.8722359\ttest: 0.8722359\ttest1: 0.8664142\tbest: 0.8664142 (59)\ttotal: 11.1s\tremaining: 44.4s\n",
      "60:\tlearn: 0.8724552\ttest: 0.8724552\ttest1: 0.8665165\tbest: 0.8665165 (60)\ttotal: 11.3s\tremaining: 44.4s\n",
      "61:\tlearn: 0.8724552\ttest: 0.8724552\ttest1: 0.8664142\tbest: 0.8665165 (60)\ttotal: 11.4s\tremaining: 43.7s\n",
      "62:\tlearn: 0.8725430\ttest: 0.8725430\ttest1: 0.8669260\tbest: 0.8669260 (62)\ttotal: 11.6s\tremaining: 43.7s\n",
      "63:\tlearn: 0.8726746\ttest: 0.8726746\ttest1: 0.8667213\tbest: 0.8669260 (62)\ttotal: 11.8s\tremaining: 43.5s\n",
      "64:\tlearn: 0.8726746\ttest: 0.8726746\ttest1: 0.8667213\tbest: 0.8669260 (62)\ttotal: 11.9s\tremaining: 42.9s\n",
      "65:\tlearn: 0.8728062\ttest: 0.8728062\ttest1: 0.8665165\tbest: 0.8669260 (62)\ttotal: 12.1s\tremaining: 43s\n",
      "66:\tlearn: 0.8731134\ttest: 0.8731134\ttest1: 0.8665165\tbest: 0.8669260 (62)\ttotal: 12.4s\tremaining: 43s\n",
      "67:\tlearn: 0.8728062\ttest: 0.8728062\ttest1: 0.8666189\tbest: 0.8669260 (62)\ttotal: 12.6s\tremaining: 43s\n",
      "68:\tlearn: 0.8732889\ttest: 0.8732889\ttest1: 0.8671307\tbest: 0.8671307 (68)\ttotal: 12.8s\tremaining: 43s\n",
      "69:\tlearn: 0.8732450\ttest: 0.8732450\ttest1: 0.8671307\tbest: 0.8671307 (68)\ttotal: 12.9s\tremaining: 42.4s\n",
      "70:\tlearn: 0.8734205\ttest: 0.8734205\ttest1: 0.8672331\tbest: 0.8672331 (70)\ttotal: 13.1s\tremaining: 42.2s\n",
      "71:\tlearn: 0.8739470\ttest: 0.8739470\ttest1: 0.8671307\tbest: 0.8672331 (70)\ttotal: 13.2s\tremaining: 41.6s\n",
      "72:\tlearn: 0.8737276\ttest: 0.8737276\ttest1: 0.8673354\tbest: 0.8673354 (72)\ttotal: 13.4s\tremaining: 41.7s\n",
      "73:\tlearn: 0.8742980\ttest: 0.8742980\ttest1: 0.8675402\tbest: 0.8675402 (73)\ttotal: 13.6s\tremaining: 41.6s\n",
      "74:\tlearn: 0.8742980\ttest: 0.8742980\ttest1: 0.8676425\tbest: 0.8676425 (74)\ttotal: 13.8s\tremaining: 41.4s\n",
      "75:\tlearn: 0.8741225\ttest: 0.8741225\ttest1: 0.8674378\tbest: 0.8676425 (74)\ttotal: 14s\tremaining: 41.3s\n",
      "76:\tlearn: 0.8741225\ttest: 0.8741225\ttest1: 0.8677449\tbest: 0.8677449 (76)\ttotal: 14.3s\tremaining: 41.3s\n",
      "77:\tlearn: 0.8745174\ttest: 0.8745174\ttest1: 0.8683591\tbest: 0.8683591 (77)\ttotal: 14.4s\tremaining: 40.9s\n",
      "78:\tlearn: 0.8746929\ttest: 0.8746929\ttest1: 0.8680520\tbest: 0.8683591 (77)\ttotal: 14.5s\tremaining: 40.7s\n"
     ]
    },
    {
     "name": "stdout",
     "output_type": "stream",
     "text": [
      "79:\tlearn: 0.8748684\ttest: 0.8748684\ttest1: 0.8679496\tbest: 0.8683591 (77)\ttotal: 14.8s\tremaining: 40.6s\n",
      "80:\tlearn: 0.8753071\ttest: 0.8753071\ttest1: 0.8685638\tbest: 0.8685638 (80)\ttotal: 15s\tremaining: 40.6s\n",
      "81:\tlearn: 0.8753071\ttest: 0.8753071\ttest1: 0.8688709\tbest: 0.8688709 (81)\ttotal: 15.1s\tremaining: 40s\n",
      "82:\tlearn: 0.8753071\ttest: 0.8753071\ttest1: 0.8687686\tbest: 0.8688709 (81)\ttotal: 15.2s\tremaining: 39.8s\n",
      "83:\tlearn: 0.8755265\ttest: 0.8755265\ttest1: 0.8684615\tbest: 0.8688709 (81)\ttotal: 15.5s\tremaining: 39.8s\n",
      "84:\tlearn: 0.8754388\ttest: 0.8754388\ttest1: 0.8686662\tbest: 0.8688709 (81)\ttotal: 15.7s\tremaining: 39.7s\n",
      "85:\tlearn: 0.8752633\ttest: 0.8752633\ttest1: 0.8686662\tbest: 0.8688709 (81)\ttotal: 15.9s\tremaining: 39.6s\n",
      "86:\tlearn: 0.8752633\ttest: 0.8752633\ttest1: 0.8686662\tbest: 0.8688709 (81)\ttotal: 16s\tremaining: 39.1s\n",
      "87:\tlearn: 0.8753510\ttest: 0.8753510\ttest1: 0.8685638\tbest: 0.8688709 (81)\ttotal: 16.2s\tremaining: 39s\n",
      "88:\tlearn: 0.8753949\ttest: 0.8753949\ttest1: 0.8687686\tbest: 0.8688709 (81)\ttotal: 16.4s\tremaining: 38.9s\n",
      "89:\tlearn: 0.8753510\ttest: 0.8753510\ttest1: 0.8689733\tbest: 0.8689733 (89)\ttotal: 16.6s\tremaining: 38.7s\n",
      "90:\tlearn: 0.8755704\ttest: 0.8755704\ttest1: 0.8691780\tbest: 0.8691780 (90)\ttotal: 16.8s\tremaining: 38.6s\n",
      "91:\tlearn: 0.8757020\ttest: 0.8757020\ttest1: 0.8691780\tbest: 0.8691780 (90)\ttotal: 16.8s\tremaining: 38.1s\n",
      "92:\tlearn: 0.8754388\ttest: 0.8754388\ttest1: 0.8694851\tbest: 0.8694851 (92)\ttotal: 16.9s\tremaining: 37.6s\n",
      "93:\tlearn: 0.8754388\ttest: 0.8754388\ttest1: 0.8693827\tbest: 0.8694851 (92)\ttotal: 17s\tremaining: 37.1s\n",
      "94:\tlearn: 0.8753949\ttest: 0.8753949\ttest1: 0.8694851\tbest: 0.8694851 (92)\ttotal: 17.2s\tremaining: 37.1s\n",
      "95:\tlearn: 0.8755704\ttest: 0.8755704\ttest1: 0.8696898\tbest: 0.8696898 (95)\ttotal: 17.4s\tremaining: 37s\n",
      "96:\tlearn: 0.8760530\ttest: 0.8760530\ttest1: 0.8694851\tbest: 0.8696898 (95)\ttotal: 17.6s\tremaining: 36.9s\n",
      "97:\tlearn: 0.8759214\ttest: 0.8759214\ttest1: 0.8694851\tbest: 0.8696898 (95)\ttotal: 17.7s\tremaining: 36.5s\n",
      "98:\tlearn: 0.8756581\ttest: 0.8756581\ttest1: 0.8693827\tbest: 0.8696898 (95)\ttotal: 18s\tremaining: 36.5s\n",
      "99:\tlearn: 0.8756581\ttest: 0.8756581\ttest1: 0.8693827\tbest: 0.8696898 (95)\ttotal: 18s\tremaining: 36s\n",
      "100:\tlearn: 0.8759653\ttest: 0.8759653\ttest1: 0.8697922\tbest: 0.8697922 (100)\ttotal: 18.1s\tremaining: 35.6s\n",
      "101:\tlearn: 0.8760530\ttest: 0.8760530\ttest1: 0.8703040\tbest: 0.8703040 (101)\ttotal: 18.1s\tremaining: 35.2s\n",
      "102:\tlearn: 0.8758775\ttest: 0.8758775\ttest1: 0.8704064\tbest: 0.8704064 (102)\ttotal: 18.3s\tremaining: 35.1s\n",
      "103:\tlearn: 0.8760969\ttest: 0.8760969\ttest1: 0.8704064\tbest: 0.8704064 (102)\ttotal: 18.4s\tremaining: 34.7s\n",
      "104:\tlearn: 0.8761408\ttest: 0.8761408\ttest1: 0.8705088\tbest: 0.8705088 (104)\ttotal: 18.6s\tremaining: 34.5s\n",
      "105:\tlearn: 0.8761408\ttest: 0.8761408\ttest1: 0.8705088\tbest: 0.8705088 (104)\ttotal: 18.8s\tremaining: 34.4s\n",
      "106:\tlearn: 0.8761408\ttest: 0.8761408\ttest1: 0.8706111\tbest: 0.8706111 (106)\ttotal: 19s\tremaining: 34.2s\n",
      "107:\tlearn: 0.8760969\ttest: 0.8760969\ttest1: 0.8706111\tbest: 0.8706111 (106)\ttotal: 19.2s\tremaining: 34s\n",
      "108:\tlearn: 0.8763601\ttest: 0.8763601\ttest1: 0.8699969\tbest: 0.8706111 (106)\ttotal: 19.4s\tremaining: 33.9s\n",
      "109:\tlearn: 0.8766673\ttest: 0.8766673\ttest1: 0.8702017\tbest: 0.8706111 (106)\ttotal: 19.6s\tremaining: 33.8s\n",
      "110:\tlearn: 0.8768866\ttest: 0.8768866\ttest1: 0.8703040\tbest: 0.8706111 (106)\ttotal: 19.8s\tremaining: 33.7s\n",
      "111:\tlearn: 0.8769305\ttest: 0.8769305\ttest1: 0.8704064\tbest: 0.8706111 (106)\ttotal: 19.9s\tremaining: 33.3s\n",
      "112:\tlearn: 0.8770621\ttest: 0.8770621\ttest1: 0.8707135\tbest: 0.8707135 (112)\ttotal: 20.1s\tremaining: 33.2s\n",
      "113:\tlearn: 0.8771938\ttest: 0.8771938\ttest1: 0.8710206\tbest: 0.8710206 (113)\ttotal: 20.3s\tremaining: 33.1s\n",
      "114:\tlearn: 0.8772376\ttest: 0.8772376\ttest1: 0.8714300\tbest: 0.8714300 (114)\ttotal: 20.5s\tremaining: 33s\n",
      "115:\tlearn: 0.8772815\ttest: 0.8772815\ttest1: 0.8717371\tbest: 0.8717371 (115)\ttotal: 20.8s\tremaining: 32.9s\n",
      "116:\tlearn: 0.8772376\ttest: 0.8772376\ttest1: 0.8717371\tbest: 0.8717371 (115)\ttotal: 21s\tremaining: 32.8s\n",
      "117:\tlearn: 0.8773693\ttest: 0.8773693\ttest1: 0.8716348\tbest: 0.8717371 (115)\ttotal: 21.2s\tremaining: 32.7s\n",
      "118:\tlearn: 0.8772376\ttest: 0.8772376\ttest1: 0.8712253\tbest: 0.8717371 (115)\ttotal: 21.5s\tremaining: 32.6s\n",
      "119:\tlearn: 0.8774570\ttest: 0.8774570\ttest1: 0.8714300\tbest: 0.8717371 (115)\ttotal: 21.7s\tremaining: 32.5s\n",
      "120:\tlearn: 0.8774570\ttest: 0.8774570\ttest1: 0.8715324\tbest: 0.8717371 (115)\ttotal: 21.7s\tremaining: 32.1s\n",
      "121:\tlearn: 0.8776325\ttest: 0.8776325\ttest1: 0.8714300\tbest: 0.8717371 (115)\ttotal: 21.9s\tremaining: 32s\n",
      "122:\tlearn: 0.8778958\ttest: 0.8778958\ttest1: 0.8717371\tbest: 0.8717371 (115)\ttotal: 22.1s\tremaining: 31.9s\n",
      "123:\tlearn: 0.8778958\ttest: 0.8778958\ttest1: 0.8718395\tbest: 0.8718395 (123)\ttotal: 22.4s\tremaining: 31.8s\n",
      "124:\tlearn: 0.8779396\ttest: 0.8779396\ttest1: 0.8717371\tbest: 0.8718395 (123)\ttotal: 22.6s\tremaining: 31.6s\n",
      "125:\tlearn: 0.8780274\ttest: 0.8780274\ttest1: 0.8719419\tbest: 0.8719419 (125)\ttotal: 22.8s\tremaining: 31.5s\n",
      "126:\tlearn: 0.8778958\ttest: 0.8778958\ttest1: 0.8720442\tbest: 0.8720442 (126)\ttotal: 23.1s\tremaining: 31.4s\n",
      "127:\tlearn: 0.8778958\ttest: 0.8778958\ttest1: 0.8720442\tbest: 0.8720442 (126)\ttotal: 23.3s\tremaining: 31.3s\n",
      "128:\tlearn: 0.8780713\ttest: 0.8780713\ttest1: 0.8720442\tbest: 0.8720442 (126)\ttotal: 23.5s\tremaining: 31.2s\n",
      "129:\tlearn: 0.8779835\ttest: 0.8779835\ttest1: 0.8721466\tbest: 0.8721466 (129)\ttotal: 23.8s\tremaining: 31.1s\n",
      "130:\tlearn: 0.8781151\ttest: 0.8781151\ttest1: 0.8721466\tbest: 0.8721466 (129)\ttotal: 24s\tremaining: 31s\n",
      "131:\tlearn: 0.8781590\ttest: 0.8781590\ttest1: 0.8722490\tbest: 0.8722490 (131)\ttotal: 24.2s\tremaining: 30.8s\n",
      "132:\tlearn: 0.8781590\ttest: 0.8781590\ttest1: 0.8723513\tbest: 0.8723513 (132)\ttotal: 24.5s\tremaining: 30.7s\n",
      "133:\tlearn: 0.8782029\ttest: 0.8782029\ttest1: 0.8723513\tbest: 0.8723513 (132)\ttotal: 24.7s\tremaining: 30.6s\n",
      "134:\tlearn: 0.8783345\ttest: 0.8783345\ttest1: 0.8728631\tbest: 0.8728631 (134)\ttotal: 24.9s\tremaining: 30.4s\n",
      "135:\tlearn: 0.8782468\ttest: 0.8782468\ttest1: 0.8731702\tbest: 0.8731702 (135)\ttotal: 25.1s\tremaining: 30.3s\n",
      "136:\tlearn: 0.8782468\ttest: 0.8782468\ttest1: 0.8732726\tbest: 0.8732726 (136)\ttotal: 25.4s\tremaining: 30.2s\n",
      "137:\tlearn: 0.8784223\ttest: 0.8784223\ttest1: 0.8733750\tbest: 0.8733750 (137)\ttotal: 25.6s\tremaining: 30.1s\n",
      "138:\tlearn: 0.8783784\ttest: 0.8783784\ttest1: 0.8733750\tbest: 0.8733750 (137)\ttotal: 25.9s\tremaining: 30s\n",
      "139:\tlearn: 0.8784223\ttest: 0.8784223\ttest1: 0.8734773\tbest: 0.8734773 (139)\ttotal: 26.1s\tremaining: 29.9s\n",
      "140:\tlearn: 0.8786416\ttest: 0.8786416\ttest1: 0.8733750\tbest: 0.8734773 (139)\ttotal: 26.4s\tremaining: 29.7s\n",
      "141:\tlearn: 0.8785978\ttest: 0.8785978\ttest1: 0.8733750\tbest: 0.8734773 (139)\ttotal: 26.7s\tremaining: 29.7s\n",
      "142:\tlearn: 0.8785539\ttest: 0.8785539\ttest1: 0.8734773\tbest: 0.8734773 (139)\ttotal: 26.9s\tremaining: 29.6s\n",
      "143:\tlearn: 0.8785539\ttest: 0.8785539\ttest1: 0.8734773\tbest: 0.8734773 (139)\ttotal: 27.2s\tremaining: 29.4s\n",
      "144:\tlearn: 0.8784223\ttest: 0.8784223\ttest1: 0.8735797\tbest: 0.8735797 (144)\ttotal: 27.5s\tremaining: 29.4s\n",
      "145:\tlearn: 0.8785100\ttest: 0.8785100\ttest1: 0.8735797\tbest: 0.8735797 (144)\ttotal: 27.6s\tremaining: 29.1s\n",
      "146:\tlearn: 0.8784661\ttest: 0.8784661\ttest1: 0.8735797\tbest: 0.8735797 (144)\ttotal: 27.9s\tremaining: 29.1s\n",
      "147:\tlearn: 0.8785539\ttest: 0.8785539\ttest1: 0.8735797\tbest: 0.8735797 (144)\ttotal: 28.2s\tremaining: 28.9s\n",
      "148:\tlearn: 0.8791243\ttest: 0.8791243\ttest1: 0.8739891\tbest: 0.8739891 (148)\ttotal: 28.4s\tremaining: 28.8s\n",
      "149:\tlearn: 0.8792998\ttest: 0.8792998\ttest1: 0.8740915\tbest: 0.8740915 (149)\ttotal: 28.7s\tremaining: 28.7s\n",
      "150:\tlearn: 0.8792998\ttest: 0.8792998\ttest1: 0.8740915\tbest: 0.8740915 (149)\ttotal: 28.9s\tremaining: 28.5s\n",
      "151:\tlearn: 0.8792998\ttest: 0.8792998\ttest1: 0.8741939\tbest: 0.8741939 (151)\ttotal: 29.1s\tremaining: 28.3s\n",
      "152:\tlearn: 0.8792998\ttest: 0.8792998\ttest1: 0.8742962\tbest: 0.8742962 (152)\ttotal: 29.3s\tremaining: 28.2s\n",
      "153:\tlearn: 0.8797824\ttest: 0.8797824\ttest1: 0.8745010\tbest: 0.8745010 (153)\ttotal: 29.6s\tremaining: 28s\n",
      "154:\tlearn: 0.8798701\ttest: 0.8798701\ttest1: 0.8745010\tbest: 0.8745010 (153)\ttotal: 29.8s\tremaining: 27.8s\n",
      "155:\tlearn: 0.8800018\ttest: 0.8800018\ttest1: 0.8745010\tbest: 0.8745010 (153)\ttotal: 30s\tremaining: 27.7s\n",
      "156:\tlearn: 0.8798701\ttest: 0.8798701\ttest1: 0.8742962\tbest: 0.8745010 (153)\ttotal: 30.2s\tremaining: 27.5s\n"
     ]
    },
    {
     "name": "stdout",
     "output_type": "stream",
     "text": [
      "157:\tlearn: 0.8799140\ttest: 0.8799140\ttest1: 0.8742962\tbest: 0.8745010 (153)\ttotal: 30.4s\tremaining: 27.4s\n",
      "158:\tlearn: 0.8799140\ttest: 0.8799140\ttest1: 0.8745010\tbest: 0.8745010 (153)\ttotal: 30.6s\tremaining: 27.2s\n",
      "159:\tlearn: 0.8799140\ttest: 0.8799140\ttest1: 0.8747057\tbest: 0.8747057 (159)\ttotal: 30.9s\tremaining: 27s\n",
      "160:\tlearn: 0.8800018\ttest: 0.8800018\ttest1: 0.8742962\tbest: 0.8747057 (159)\ttotal: 31.1s\tremaining: 26.8s\n",
      "161:\tlearn: 0.8801334\ttest: 0.8801334\ttest1: 0.8745010\tbest: 0.8747057 (159)\ttotal: 31.3s\tremaining: 26.6s\n",
      "162:\tlearn: 0.8801334\ttest: 0.8801334\ttest1: 0.8743986\tbest: 0.8747057 (159)\ttotal: 31.5s\tremaining: 26.5s\n",
      "163:\tlearn: 0.8801334\ttest: 0.8801334\ttest1: 0.8742962\tbest: 0.8747057 (159)\ttotal: 31.7s\tremaining: 26.3s\n",
      "164:\tlearn: 0.8800456\ttest: 0.8800456\ttest1: 0.8742962\tbest: 0.8747057 (159)\ttotal: 31.9s\tremaining: 26.1s\n",
      "165:\tlearn: 0.8801773\ttest: 0.8801773\ttest1: 0.8742962\tbest: 0.8747057 (159)\ttotal: 32.2s\tremaining: 26s\n",
      "166:\tlearn: 0.8802211\ttest: 0.8802211\ttest1: 0.8742962\tbest: 0.8747057 (159)\ttotal: 32.4s\tremaining: 25.8s\n",
      "167:\tlearn: 0.8800456\ttest: 0.8800456\ttest1: 0.8743986\tbest: 0.8747057 (159)\ttotal: 32.6s\tremaining: 25.6s\n",
      "168:\tlearn: 0.8800018\ttest: 0.8800018\ttest1: 0.8745010\tbest: 0.8747057 (159)\ttotal: 32.9s\tremaining: 25.5s\n",
      "169:\tlearn: 0.8800018\ttest: 0.8800018\ttest1: 0.8743986\tbest: 0.8747057 (159)\ttotal: 33.1s\tremaining: 25.3s\n",
      "170:\tlearn: 0.8803089\ttest: 0.8803089\ttest1: 0.8743986\tbest: 0.8747057 (159)\ttotal: 33.3s\tremaining: 25.1s\n",
      "171:\tlearn: 0.8803089\ttest: 0.8803089\ttest1: 0.8743986\tbest: 0.8747057 (159)\ttotal: 33.4s\tremaining: 24.8s\n",
      "172:\tlearn: 0.8803089\ttest: 0.8803089\ttest1: 0.8746033\tbest: 0.8747057 (159)\ttotal: 33.6s\tremaining: 24.7s\n",
      "173:\tlearn: 0.8803089\ttest: 0.8803089\ttest1: 0.8746033\tbest: 0.8747057 (159)\ttotal: 33.7s\tremaining: 24.4s\n",
      "174:\tlearn: 0.8802650\ttest: 0.8802650\ttest1: 0.8745010\tbest: 0.8747057 (159)\ttotal: 33.9s\tremaining: 24.2s\n",
      "175:\tlearn: 0.8803089\ttest: 0.8803089\ttest1: 0.8745010\tbest: 0.8747057 (159)\ttotal: 34.1s\tremaining: 24s\n",
      "176:\tlearn: 0.8803089\ttest: 0.8803089\ttest1: 0.8743986\tbest: 0.8747057 (159)\ttotal: 34.3s\tremaining: 23.9s\n",
      "177:\tlearn: 0.8802211\ttest: 0.8802211\ttest1: 0.8743986\tbest: 0.8747057 (159)\ttotal: 34.5s\tremaining: 23.7s\n",
      "178:\tlearn: 0.8801773\ttest: 0.8801773\ttest1: 0.8743986\tbest: 0.8747057 (159)\ttotal: 34.8s\tremaining: 23.5s\n",
      "179:\tlearn: 0.8801773\ttest: 0.8801773\ttest1: 0.8743986\tbest: 0.8747057 (159)\ttotal: 34.8s\tremaining: 23.2s\n",
      "180:\tlearn: 0.8802211\ttest: 0.8802211\ttest1: 0.8745010\tbest: 0.8747057 (159)\ttotal: 35.1s\tremaining: 23.1s\n",
      "181:\tlearn: 0.8803089\ttest: 0.8803089\ttest1: 0.8740915\tbest: 0.8747057 (159)\ttotal: 35.3s\tremaining: 22.9s\n",
      "182:\tlearn: 0.8804405\ttest: 0.8804405\ttest1: 0.8739891\tbest: 0.8747057 (159)\ttotal: 35.5s\tremaining: 22.7s\n",
      "183:\tlearn: 0.8804844\ttest: 0.8804844\ttest1: 0.8738868\tbest: 0.8747057 (159)\ttotal: 35.8s\tremaining: 22.5s\n",
      "184:\tlearn: 0.8807476\ttest: 0.8807476\ttest1: 0.8739891\tbest: 0.8747057 (159)\ttotal: 36s\tremaining: 22.4s\n",
      "185:\tlearn: 0.8807476\ttest: 0.8807476\ttest1: 0.8741939\tbest: 0.8747057 (159)\ttotal: 36.2s\tremaining: 22.2s\n",
      "186:\tlearn: 0.8807476\ttest: 0.8807476\ttest1: 0.8741939\tbest: 0.8747057 (159)\ttotal: 36.3s\tremaining: 21.9s\n",
      "187:\tlearn: 0.8808354\ttest: 0.8808354\ttest1: 0.8741939\tbest: 0.8747057 (159)\ttotal: 36.5s\tremaining: 21.7s\n",
      "188:\tlearn: 0.8808354\ttest: 0.8808354\ttest1: 0.8741939\tbest: 0.8747057 (159)\ttotal: 36.7s\tremaining: 21.6s\n",
      "189:\tlearn: 0.8810986\ttest: 0.8810986\ttest1: 0.8746033\tbest: 0.8747057 (159)\ttotal: 37s\tremaining: 21.4s\n",
      "190:\tlearn: 0.8811425\ttest: 0.8811425\ttest1: 0.8745010\tbest: 0.8747057 (159)\ttotal: 37.2s\tremaining: 21.2s\n",
      "191:\tlearn: 0.8810109\ttest: 0.8810109\ttest1: 0.8743986\tbest: 0.8747057 (159)\ttotal: 37.5s\tremaining: 21.1s\n",
      "192:\tlearn: 0.8810109\ttest: 0.8810109\ttest1: 0.8741939\tbest: 0.8747057 (159)\ttotal: 37.8s\tremaining: 20.9s\n",
      "193:\tlearn: 0.8810986\ttest: 0.8810986\ttest1: 0.8741939\tbest: 0.8747057 (159)\ttotal: 38s\tremaining: 20.8s\n",
      "194:\tlearn: 0.8811425\ttest: 0.8811425\ttest1: 0.8747057\tbest: 0.8747057 (159)\ttotal: 38.3s\tremaining: 20.6s\n",
      "195:\tlearn: 0.8815813\ttest: 0.8815813\ttest1: 0.8742962\tbest: 0.8747057 (159)\ttotal: 38.5s\tremaining: 20.4s\n",
      "196:\tlearn: 0.8815813\ttest: 0.8815813\ttest1: 0.8742962\tbest: 0.8747057 (159)\ttotal: 38.7s\tremaining: 20.2s\n",
      "197:\tlearn: 0.8815813\ttest: 0.8815813\ttest1: 0.8742962\tbest: 0.8747057 (159)\ttotal: 38.9s\tremaining: 20.1s\n",
      "198:\tlearn: 0.8817129\ttest: 0.8817129\ttest1: 0.8743986\tbest: 0.8747057 (159)\ttotal: 39.2s\tremaining: 19.9s\n",
      "199:\tlearn: 0.8821516\ttest: 0.8821516\ttest1: 0.8745010\tbest: 0.8747057 (159)\ttotal: 39.4s\tremaining: 19.7s\n",
      "200:\tlearn: 0.8821516\ttest: 0.8821516\ttest1: 0.8745010\tbest: 0.8747057 (159)\ttotal: 39.6s\tremaining: 19.5s\n",
      "201:\tlearn: 0.8823710\ttest: 0.8823710\ttest1: 0.8745010\tbest: 0.8747057 (159)\ttotal: 39.8s\tremaining: 19.3s\n",
      "202:\tlearn: 0.8823271\ttest: 0.8823271\ttest1: 0.8743986\tbest: 0.8747057 (159)\ttotal: 40s\tremaining: 19.1s\n",
      "203:\tlearn: 0.8821955\ttest: 0.8821955\ttest1: 0.8742962\tbest: 0.8747057 (159)\ttotal: 40.3s\tremaining: 19s\n",
      "204:\tlearn: 0.8822833\ttest: 0.8822833\ttest1: 0.8746033\tbest: 0.8747057 (159)\ttotal: 40.5s\tremaining: 18.8s\n",
      "205:\tlearn: 0.8822833\ttest: 0.8822833\ttest1: 0.8743986\tbest: 0.8747057 (159)\ttotal: 40.7s\tremaining: 18.6s\n",
      "206:\tlearn: 0.8825026\ttest: 0.8825026\ttest1: 0.8745010\tbest: 0.8747057 (159)\ttotal: 40.9s\tremaining: 18.4s\n",
      "207:\tlearn: 0.8826781\ttest: 0.8826781\ttest1: 0.8743986\tbest: 0.8747057 (159)\ttotal: 41.2s\tremaining: 18.2s\n",
      "208:\tlearn: 0.8825026\ttest: 0.8825026\ttest1: 0.8743986\tbest: 0.8747057 (159)\ttotal: 41.4s\tremaining: 18s\n",
      "209:\tlearn: 0.8824588\ttest: 0.8824588\ttest1: 0.8745010\tbest: 0.8747057 (159)\ttotal: 41.6s\tremaining: 17.8s\n",
      "Stopped by overfitting detector  (50 iterations wait)\n",
      "\n",
      "bestTest = 0.8747057017\n",
      "bestIteration = 159\n",
      "\n",
      "Shrink model to first 160 iterations.\n"
     ]
    },
    {
     "data": {
      "text/plain": [
       "<catboost.core.CatBoostClassifier at 0x1a28df85f8>"
      ]
     },
     "execution_count": 168,
     "metadata": {},
     "output_type": "execute_result"
    }
   ],
   "source": [
    "catbCV_grid.fit(X_train,y_train,eval_set=[(X_train,y_train), (X_test,y_test)],early_stopping_rounds=50)"
   ]
  },
  {
   "cell_type": "code",
   "execution_count": 169,
   "metadata": {},
   "outputs": [
    {
     "name": "stdout",
     "output_type": "stream",
     "text": [
      "<catboost.core.CatBoostClassifier object at 0x1a28df85f8>\n",
      "confusion matrix of training data\n",
      "[[16429   862]\n",
      " [ 1875  3626]]\n",
      "confusion matrix of test data\n",
      "[[7057  372]\n",
      " [ 852 1488]]\n",
      "classification report of test data\n",
      "              precision    recall  f1-score   support\n",
      "\n",
      "           0       0.89      0.95      0.92      7429\n",
      "           1       0.80      0.64      0.71      2340\n",
      "\n",
      "    accuracy                           0.87      9769\n",
      "   macro avg       0.85      0.79      0.81      9769\n",
      "weighted avg       0.87      0.87      0.87      9769\n",
      "\n",
      "Accuracy on test data: 87.470570%\n",
      "Accuracy on training data: 87.991400%\n",
      "Area under the ROC curve : 0.792912\n"
     ]
    }
   ],
   "source": [
    "show_classifier_metrics(catbCV_grid)"
   ]
  },
  {
   "cell_type": "code",
   "execution_count": 124,
   "metadata": {},
   "outputs": [
    {
     "name": "stderr",
     "output_type": "stream",
     "text": [
      "/Users/debashis/anaconda3/lib/python3.6/site-packages/sklearn/externals/six.py:31: DeprecationWarning: The module is deprecated in version 0.21 and will be removed in version 0.23 since we've dropped support for Python 2.7. Please rely on the official version of six (https://pypi.org/project/six/).\n",
      "  \"(https://pypi.org/project/six/).\", DeprecationWarning)\n"
     ]
    }
   ],
   "source": [
    "from imblearn.over_sampling import RandomOverSampler"
   ]
  },
  {
   "cell_type": "code",
   "execution_count": 125,
   "metadata": {},
   "outputs": [
    {
     "data": {
      "text/plain": [
       "0.24135661635661634"
      ]
     },
     "execution_count": 125,
     "metadata": {},
     "output_type": "execute_result"
    }
   ],
   "source": [
    "np.sum(y_train)/y_train.shape[0]"
   ]
  },
  {
   "cell_type": "code",
   "execution_count": 139,
   "metadata": {},
   "outputs": [],
   "source": [
    "ros = RandomOverSampler(random_state=1,sampling_strategy=0.8)"
   ]
  },
  {
   "cell_type": "code",
   "execution_count": 140,
   "metadata": {},
   "outputs": [],
   "source": [
    "X_resampled, y_resampled = ros.fit_resample(X_train, y_train)"
   ]
  },
  {
   "cell_type": "code",
   "execution_count": 150,
   "metadata": {},
   "outputs": [],
   "source": [
    "catb_ros = CatBoostClassifier(learning_rate=0.1,iterations=400,reg_lambda=2,verbose=1,random_seed=10,eval_metric='Accuracy')"
   ]
  },
  {
   "cell_type": "code",
   "execution_count": 151,
   "metadata": {},
   "outputs": [
    {
     "name": "stdout",
     "output_type": "stream",
     "text": [
      "0:\tlearn: 0.8032645\ttest: 0.8032645\ttest1: 0.7948613\tbest: 0.7948613 (0)\ttotal: 63.4ms\tremaining: 25.3s\n",
      "1:\tlearn: 0.8070559\ttest: 0.8070559\ttest1: 0.7912785\tbest: 0.7948613 (0)\ttotal: 127ms\tremaining: 25.4s\n",
      "2:\tlearn: 0.8115220\ttest: 0.8115220\ttest1: 0.7997748\tbest: 0.7997748 (2)\ttotal: 202ms\tremaining: 26.8s\n",
      "3:\tlearn: 0.8085018\ttest: 0.8085018\ttest1: 0.7948613\tbest: 0.7997748 (2)\ttotal: 261ms\tremaining: 25.9s\n",
      "4:\tlearn: 0.8138354\ttest: 0.8138354\ttest1: 0.8037670\tbest: 0.8037670 (4)\ttotal: 341ms\tremaining: 26.9s\n",
      "5:\tlearn: 0.8156990\ttest: 0.8156990\ttest1: 0.8057119\tbest: 0.8057119 (5)\ttotal: 398ms\tremaining: 26.1s\n",
      "6:\tlearn: 0.8169200\ttest: 0.8169200\ttest1: 0.8088852\tbest: 0.8088852 (6)\ttotal: 456ms\tremaining: 25.6s\n",
      "7:\tlearn: 0.8167272\ttest: 0.8167272\ttest1: 0.8075545\tbest: 0.8088852 (6)\ttotal: 514ms\tremaining: 25.2s\n",
      "8:\tlearn: 0.8186871\ttest: 0.8186871\ttest1: 0.8112396\tbest: 0.8112396 (8)\ttotal: 585ms\tremaining: 25.4s\n",
      "9:\tlearn: 0.8201009\ttest: 0.8201009\ttest1: 0.8128775\tbest: 0.8128775 (9)\ttotal: 644ms\tremaining: 25.1s\n",
      "10:\tlearn: 0.8215146\ttest: 0.8215146\ttest1: 0.8132869\tbest: 0.8132869 (10)\ttotal: 737ms\tremaining: 26.1s\n",
      "11:\tlearn: 0.8218359\ttest: 0.8218359\ttest1: 0.8142082\tbest: 0.8142082 (11)\ttotal: 801ms\tremaining: 25.9s\n",
      "12:\tlearn: 0.8235067\ttest: 0.8235067\ttest1: 0.8162555\tbest: 0.8162555 (12)\ttotal: 872ms\tremaining: 25.9s\n",
      "13:\tlearn: 0.8245028\ttest: 0.8245028\ttest1: 0.8161531\tbest: 0.8162555 (12)\ttotal: 930ms\tremaining: 25.6s\n",
      "14:\tlearn: 0.8242136\ttest: 0.8242136\ttest1: 0.8165626\tbest: 0.8165626 (14)\ttotal: 984ms\tremaining: 25.3s\n",
      "15:\tlearn: 0.8251133\ttest: 0.8251133\ttest1: 0.8168697\tbest: 0.8168697 (15)\ttotal: 1.06s\tremaining: 25.5s\n",
      "16:\tlearn: 0.8267519\ttest: 0.8267519\ttest1: 0.8202477\tbest: 0.8202477 (16)\ttotal: 1.19s\tremaining: 26.9s\n",
      "17:\tlearn: 0.8276194\ttest: 0.8276194\ttest1: 0.8217832\tbest: 0.8217832 (17)\ttotal: 1.35s\tremaining: 28.8s\n",
      "18:\tlearn: 0.8279086\ttest: 0.8279086\ttest1: 0.8234210\tbest: 0.8234210 (18)\ttotal: 1.52s\tremaining: 30.6s\n",
      "19:\tlearn: 0.8282942\ttest: 0.8282942\ttest1: 0.8246494\tbest: 0.8246494 (19)\ttotal: 1.61s\tremaining: 30.5s\n",
      "20:\tlearn: 0.8296758\ttest: 0.8296758\ttest1: 0.8253660\tbest: 0.8253660 (20)\ttotal: 1.67s\tremaining: 30.1s\n",
      "21:\tlearn: 0.8298365\ttest: 0.8298365\ttest1: 0.8251612\tbest: 0.8253660 (20)\ttotal: 1.73s\tremaining: 29.6s\n",
      "22:\tlearn: 0.8302863\ttest: 0.8302863\ttest1: 0.8258778\tbest: 0.8258778 (22)\ttotal: 1.89s\tremaining: 31s\n",
      "23:\tlearn: 0.8309289\ttest: 0.8309289\ttest1: 0.8260825\tbest: 0.8260825 (23)\ttotal: 2.01s\tremaining: 31.4s\n",
      "24:\tlearn: 0.8328889\ttest: 0.8328889\ttest1: 0.8299724\tbest: 0.8299724 (24)\ttotal: 2.08s\tremaining: 31.2s\n",
      "25:\tlearn: 0.8329210\ttest: 0.8329210\ttest1: 0.8299724\tbest: 0.8299724 (24)\ttotal: 2.16s\tremaining: 31.1s\n",
      "26:\tlearn: 0.8330495\ttest: 0.8330495\ttest1: 0.8296653\tbest: 0.8299724 (24)\ttotal: 2.22s\tremaining: 30.7s\n",
      "27:\tlearn: 0.8337885\ttest: 0.8337885\ttest1: 0.8290511\tbest: 0.8299724 (24)\ttotal: 2.28s\tremaining: 30.3s\n",
      "28:\tlearn: 0.8340777\ttest: 0.8340777\ttest1: 0.8301771\tbest: 0.8301771 (28)\ttotal: 2.46s\tremaining: 31.4s\n",
      "29:\tlearn: 0.8347524\ttest: 0.8347524\ttest1: 0.8293582\tbest: 0.8301771 (28)\ttotal: 2.63s\tremaining: 32.5s\n",
      "30:\tlearn: 0.8350737\ttest: 0.8350737\ttest1: 0.8298700\tbest: 0.8301771 (28)\ttotal: 2.8s\tremaining: 33.3s\n",
      "31:\tlearn: 0.8350095\ttest: 0.8350095\ttest1: 0.8330433\tbest: 0.8330433 (31)\ttotal: 2.94s\tremaining: 33.8s\n",
      "32:\tlearn: 0.8352023\ttest: 0.8352023\ttest1: 0.8328386\tbest: 0.8330433 (31)\ttotal: 3s\tremaining: 33.3s\n",
      "33:\tlearn: 0.8351380\ttest: 0.8351380\ttest1: 0.8331457\tbest: 0.8331457 (33)\ttotal: 3.07s\tremaining: 33.1s\n",
      "34:\tlearn: 0.8349773\ttest: 0.8349773\ttest1: 0.8339646\tbest: 0.8339646 (34)\ttotal: 3.14s\tremaining: 32.7s\n",
      "35:\tlearn: 0.8351380\ttest: 0.8351380\ttest1: 0.8342717\tbest: 0.8342717 (35)\ttotal: 3.2s\tremaining: 32.3s\n",
      "36:\tlearn: 0.8359734\ttest: 0.8359734\ttest1: 0.8343740\tbest: 0.8343740 (36)\ttotal: 3.25s\tremaining: 31.9s\n",
      "37:\tlearn: 0.8359091\ttest: 0.8359091\ttest1: 0.8338622\tbest: 0.8343740 (36)\ttotal: 3.33s\tremaining: 31.8s\n",
      "38:\tlearn: 0.8363590\ttest: 0.8363590\ttest1: 0.8348859\tbest: 0.8348859 (38)\ttotal: 3.39s\tremaining: 31.4s\n",
      "39:\tlearn: 0.8363590\ttest: 0.8363590\ttest1: 0.8337599\tbest: 0.8348859 (38)\ttotal: 3.45s\tremaining: 31s\n",
      "40:\tlearn: 0.8368409\ttest: 0.8368409\ttest1: 0.8346811\tbest: 0.8348859 (38)\ttotal: 3.51s\tremaining: 30.7s\n",
      "41:\tlearn: 0.8370980\ttest: 0.8370980\ttest1: 0.8347835\tbest: 0.8348859 (38)\ttotal: 3.58s\tremaining: 30.6s\n",
      "42:\tlearn: 0.8369052\ttest: 0.8369052\ttest1: 0.8356024\tbest: 0.8356024 (42)\ttotal: 3.64s\tremaining: 30.2s\n",
      "43:\tlearn: 0.8369052\ttest: 0.8369052\ttest1: 0.8352953\tbest: 0.8356024 (42)\ttotal: 3.7s\tremaining: 29.9s\n",
      "44:\tlearn: 0.8375157\ttest: 0.8375157\ttest1: 0.8352953\tbest: 0.8356024 (42)\ttotal: 3.76s\tremaining: 29.6s\n",
      "45:\tlearn: 0.8382547\ttest: 0.8382547\ttest1: 0.8372402\tbest: 0.8372402 (45)\ttotal: 3.83s\tremaining: 29.4s\n",
      "46:\tlearn: 0.8386724\ttest: 0.8386724\ttest1: 0.8369332\tbest: 0.8372402 (45)\ttotal: 3.88s\tremaining: 29.2s\n",
      "47:\tlearn: 0.8389615\ttest: 0.8389615\ttest1: 0.8375473\tbest: 0.8375473 (47)\ttotal: 3.94s\tremaining: 28.9s\n",
      "48:\tlearn: 0.8391543\ttest: 0.8391543\ttest1: 0.8380592\tbest: 0.8380592 (48)\ttotal: 3.99s\tremaining: 28.6s\n",
      "49:\tlearn: 0.8388973\ttest: 0.8388973\ttest1: 0.8377521\tbest: 0.8380592 (48)\ttotal: 4.06s\tremaining: 28.5s\n",
      "50:\tlearn: 0.8391222\ttest: 0.8391222\ttest1: 0.8373426\tbest: 0.8380592 (48)\ttotal: 4.12s\tremaining: 28.2s\n",
      "51:\tlearn: 0.8407287\ttest: 0.8407287\ttest1: 0.8387757\tbest: 0.8387757 (51)\ttotal: 4.17s\tremaining: 27.9s\n",
      "52:\tlearn: 0.8406966\ttest: 0.8406966\ttest1: 0.8385710\tbest: 0.8387757 (51)\ttotal: 4.23s\tremaining: 27.7s\n",
      "53:\tlearn: 0.8403432\ttest: 0.8403432\ttest1: 0.8391852\tbest: 0.8391852 (53)\ttotal: 4.29s\tremaining: 27.5s\n",
      "54:\tlearn: 0.8404717\ttest: 0.8404717\ttest1: 0.8392875\tbest: 0.8392875 (54)\ttotal: 4.37s\tremaining: 27.4s\n",
      "55:\tlearn: 0.8405681\ttest: 0.8405681\ttest1: 0.8387757\tbest: 0.8392875 (54)\ttotal: 4.43s\tremaining: 27.2s\n",
      "56:\tlearn: 0.8415962\ttest: 0.8415962\ttest1: 0.8400041\tbest: 0.8400041 (56)\ttotal: 4.48s\tremaining: 27s\n",
      "57:\tlearn: 0.8416605\ttest: 0.8416605\ttest1: 0.8405159\tbest: 0.8405159 (57)\ttotal: 4.55s\tremaining: 26.9s\n",
      "58:\tlearn: 0.8412749\ttest: 0.8412749\ttest1: 0.8412325\tbest: 0.8412325 (58)\ttotal: 4.61s\tremaining: 26.6s\n",
      "59:\tlearn: 0.8412428\ttest: 0.8412428\ttest1: 0.8416419\tbest: 0.8416419 (59)\ttotal: 4.66s\tremaining: 26.4s\n",
      "60:\tlearn: 0.8416926\ttest: 0.8416926\ttest1: 0.8416419\tbest: 0.8416419 (59)\ttotal: 4.72s\tremaining: 26.2s\n",
      "61:\tlearn: 0.8423353\ttest: 0.8423353\ttest1: 0.8410277\tbest: 0.8416419 (59)\ttotal: 4.77s\tremaining: 26s\n",
      "62:\tlearn: 0.8428493\ttest: 0.8428493\ttest1: 0.8420514\tbest: 0.8420514 (62)\ttotal: 4.83s\tremaining: 25.8s\n",
      "63:\tlearn: 0.8432670\ttest: 0.8432670\ttest1: 0.8409254\tbest: 0.8420514 (62)\ttotal: 4.89s\tremaining: 25.7s\n",
      "64:\tlearn: 0.8428815\ttest: 0.8428815\ttest1: 0.8421538\tbest: 0.8421538 (64)\ttotal: 4.95s\tremaining: 25.5s\n",
      "65:\tlearn: 0.8432028\ttest: 0.8432028\ttest1: 0.8408230\tbest: 0.8421538 (64)\ttotal: 5.04s\tremaining: 25.5s\n",
      "66:\tlearn: 0.8438133\ttest: 0.8438133\ttest1: 0.8414372\tbest: 0.8421538 (64)\ttotal: 5.09s\tremaining: 25.3s\n",
      "67:\tlearn: 0.8438454\ttest: 0.8438454\ttest1: 0.8416419\tbest: 0.8421538 (64)\ttotal: 5.29s\tremaining: 25.8s\n",
      "68:\tlearn: 0.8439739\ttest: 0.8439739\ttest1: 0.8419490\tbest: 0.8421538 (64)\ttotal: 5.46s\tremaining: 26.2s\n",
      "69:\tlearn: 0.8443595\ttest: 0.8443595\ttest1: 0.8418467\tbest: 0.8421538 (64)\ttotal: 5.62s\tremaining: 26.5s\n",
      "70:\tlearn: 0.8443273\ttest: 0.8443273\ttest1: 0.8419490\tbest: 0.8421538 (64)\ttotal: 5.79s\tremaining: 26.8s\n",
      "71:\tlearn: 0.8445523\ttest: 0.8445523\ttest1: 0.8417443\tbest: 0.8421538 (64)\ttotal: 5.96s\tremaining: 27.2s\n",
      "72:\tlearn: 0.8441667\ttest: 0.8441667\ttest1: 0.8423585\tbest: 0.8423585 (72)\ttotal: 6.14s\tremaining: 27.5s\n",
      "73:\tlearn: 0.8443595\ttest: 0.8443595\ttest1: 0.8429727\tbest: 0.8429727 (73)\ttotal: 6.26s\tremaining: 27.6s\n",
      "74:\tlearn: 0.8442952\ttest: 0.8442952\ttest1: 0.8426656\tbest: 0.8429727 (73)\ttotal: 6.32s\tremaining: 27.4s\n",
      "75:\tlearn: 0.8447772\ttest: 0.8447772\ttest1: 0.8424608\tbest: 0.8429727 (73)\ttotal: 6.38s\tremaining: 27.2s\n",
      "76:\tlearn: 0.8451949\ttest: 0.8451949\ttest1: 0.8434845\tbest: 0.8434845 (76)\ttotal: 6.43s\tremaining: 27s\n",
      "77:\tlearn: 0.8451306\ttest: 0.8451306\ttest1: 0.8435869\tbest: 0.8435869 (77)\ttotal: 6.49s\tremaining: 26.8s\n",
      "78:\tlearn: 0.8453234\ttest: 0.8453234\ttest1: 0.8440987\tbest: 0.8440987 (78)\ttotal: 6.55s\tremaining: 26.6s\n",
      "79:\tlearn: 0.8451949\ttest: 0.8451949\ttest1: 0.8439963\tbest: 0.8440987 (78)\ttotal: 6.61s\tremaining: 26.4s\n",
      "80:\tlearn: 0.8455483\ttest: 0.8455483\ttest1: 0.8437916\tbest: 0.8440987 (78)\ttotal: 6.66s\tremaining: 26.2s\n"
     ]
    },
    {
     "name": "stdout",
     "output_type": "stream",
     "text": [
      "81:\tlearn: 0.8458375\ttest: 0.8458375\ttest1: 0.8435869\tbest: 0.8440987 (78)\ttotal: 6.73s\tremaining: 26.1s\n",
      "82:\tlearn: 0.8460945\ttest: 0.8460945\ttest1: 0.8444058\tbest: 0.8444058 (82)\ttotal: 6.78s\tremaining: 25.9s\n",
      "83:\tlearn: 0.8459017\ttest: 0.8459017\ttest1: 0.8445081\tbest: 0.8445081 (83)\ttotal: 6.84s\tremaining: 25.7s\n",
      "84:\tlearn: 0.8461588\ttest: 0.8461588\ttest1: 0.8454294\tbest: 0.8454294 (84)\ttotal: 6.89s\tremaining: 25.5s\n",
      "85:\tlearn: 0.8457732\ttest: 0.8457732\ttest1: 0.8456341\tbest: 0.8456341 (85)\ttotal: 6.96s\tremaining: 25.4s\n",
      "86:\tlearn: 0.8459981\ttest: 0.8459981\ttest1: 0.8456341\tbest: 0.8456341 (85)\ttotal: 7s\tremaining: 25.2s\n",
      "87:\tlearn: 0.8462552\ttest: 0.8462552\ttest1: 0.8449176\tbest: 0.8456341 (85)\ttotal: 7.1s\tremaining: 25.2s\n",
      "88:\tlearn: 0.8465122\ttest: 0.8465122\ttest1: 0.8452247\tbest: 0.8456341 (85)\ttotal: 7.2s\tremaining: 25.1s\n",
      "89:\tlearn: 0.8464801\ttest: 0.8464801\ttest1: 0.8455318\tbest: 0.8456341 (85)\ttotal: 7.29s\tremaining: 25.1s\n",
      "90:\tlearn: 0.8464480\ttest: 0.8464480\ttest1: 0.8457365\tbest: 0.8457365 (90)\ttotal: 7.39s\tremaining: 25.1s\n",
      "91:\tlearn: 0.8466086\ttest: 0.8466086\ttest1: 0.8457365\tbest: 0.8457365 (90)\ttotal: 7.48s\tremaining: 25s\n",
      "92:\tlearn: 0.8467050\ttest: 0.8467050\ttest1: 0.8458389\tbest: 0.8458389 (92)\ttotal: 7.54s\tremaining: 24.9s\n",
      "93:\tlearn: 0.8470584\ttest: 0.8470584\ttest1: 0.8455318\tbest: 0.8458389 (92)\ttotal: 7.63s\tremaining: 24.8s\n",
      "94:\tlearn: 0.8472191\ttest: 0.8472191\ttest1: 0.8451223\tbest: 0.8458389 (92)\ttotal: 7.68s\tremaining: 24.7s\n",
      "95:\tlearn: 0.8477653\ttest: 0.8477653\ttest1: 0.8461460\tbest: 0.8461460 (95)\ttotal: 7.74s\tremaining: 24.5s\n",
      "96:\tlearn: 0.8477653\ttest: 0.8477653\ttest1: 0.8460436\tbest: 0.8461460 (95)\ttotal: 7.8s\tremaining: 24.4s\n",
      "97:\tlearn: 0.8480866\ttest: 0.8480866\ttest1: 0.8467602\tbest: 0.8467602 (97)\ttotal: 7.96s\tremaining: 24.5s\n",
      "98:\tlearn: 0.8482794\ttest: 0.8482794\ttest1: 0.8465554\tbest: 0.8467602 (97)\ttotal: 8.12s\tremaining: 24.7s\n",
      "99:\tlearn: 0.8486328\ttest: 0.8486328\ttest1: 0.8465554\tbest: 0.8467602 (97)\ttotal: 8.2s\tremaining: 24.6s\n",
      "100:\tlearn: 0.8484722\ttest: 0.8484722\ttest1: 0.8467602\tbest: 0.8467602 (97)\ttotal: 8.26s\tremaining: 24.5s\n",
      "101:\tlearn: 0.8492433\ttest: 0.8492433\ttest1: 0.8467602\tbest: 0.8467602 (97)\ttotal: 8.32s\tremaining: 24.3s\n",
      "102:\tlearn: 0.8493076\ttest: 0.8493076\ttest1: 0.8464531\tbest: 0.8467602 (97)\ttotal: 8.37s\tremaining: 24.1s\n",
      "103:\tlearn: 0.8494682\ttest: 0.8494682\ttest1: 0.8468625\tbest: 0.8468625 (103)\ttotal: 8.44s\tremaining: 24s\n",
      "104:\tlearn: 0.8493718\ttest: 0.8493718\ttest1: 0.8470673\tbest: 0.8470673 (104)\ttotal: 8.49s\tremaining: 23.9s\n",
      "105:\tlearn: 0.8494040\ttest: 0.8494040\ttest1: 0.8470673\tbest: 0.8470673 (104)\ttotal: 8.54s\tremaining: 23.7s\n",
      "106:\tlearn: 0.8495646\ttest: 0.8495646\ttest1: 0.8471696\tbest: 0.8471696 (106)\ttotal: 8.6s\tremaining: 23.5s\n",
      "107:\tlearn: 0.8497253\ttest: 0.8497253\ttest1: 0.8470673\tbest: 0.8471696 (106)\ttotal: 8.65s\tremaining: 23.4s\n",
      "108:\tlearn: 0.8500787\ttest: 0.8500787\ttest1: 0.8461460\tbest: 0.8471696 (106)\ttotal: 8.71s\tremaining: 23.3s\n",
      "109:\tlearn: 0.8500787\ttest: 0.8500787\ttest1: 0.8460436\tbest: 0.8471696 (106)\ttotal: 8.77s\tremaining: 23.1s\n",
      "110:\tlearn: 0.8501109\ttest: 0.8501109\ttest1: 0.8461460\tbest: 0.8471696 (106)\ttotal: 8.83s\tremaining: 23s\n",
      "111:\tlearn: 0.8506571\ttest: 0.8506571\ttest1: 0.8459412\tbest: 0.8471696 (106)\ttotal: 8.9s\tremaining: 22.9s\n",
      "112:\tlearn: 0.8505928\ttest: 0.8505928\ttest1: 0.8458389\tbest: 0.8471696 (106)\ttotal: 8.96s\tremaining: 22.8s\n",
      "113:\tlearn: 0.8506249\ttest: 0.8506249\ttest1: 0.8457365\tbest: 0.8471696 (106)\ttotal: 9.01s\tremaining: 22.6s\n",
      "114:\tlearn: 0.8506571\ttest: 0.8506571\ttest1: 0.8457365\tbest: 0.8471696 (106)\ttotal: 9.07s\tremaining: 22.5s\n",
      "115:\tlearn: 0.8506249\ttest: 0.8506249\ttest1: 0.8457365\tbest: 0.8471696 (106)\ttotal: 9.13s\tremaining: 22.4s\n",
      "116:\tlearn: 0.8509784\ttest: 0.8509784\ttest1: 0.8464531\tbest: 0.8471696 (106)\ttotal: 9.19s\tremaining: 22.2s\n",
      "117:\tlearn: 0.8510105\ttest: 0.8510105\ttest1: 0.8466578\tbest: 0.8471696 (106)\ttotal: 9.25s\tremaining: 22.1s\n",
      "118:\tlearn: 0.8512354\ttest: 0.8512354\ttest1: 0.8467602\tbest: 0.8471696 (106)\ttotal: 9.31s\tremaining: 22s\n",
      "119:\tlearn: 0.8514603\ttest: 0.8514603\ttest1: 0.8466578\tbest: 0.8471696 (106)\ttotal: 9.38s\tremaining: 21.9s\n",
      "120:\tlearn: 0.8516531\ttest: 0.8516531\ttest1: 0.8465554\tbest: 0.8471696 (106)\ttotal: 9.44s\tremaining: 21.8s\n",
      "121:\tlearn: 0.8517816\ttest: 0.8517816\ttest1: 0.8464531\tbest: 0.8471696 (106)\ttotal: 9.49s\tremaining: 21.6s\n",
      "122:\tlearn: 0.8517816\ttest: 0.8517816\ttest1: 0.8466578\tbest: 0.8471696 (106)\ttotal: 9.6s\tremaining: 21.6s\n",
      "123:\tlearn: 0.8518780\ttest: 0.8518780\ttest1: 0.8466578\tbest: 0.8471696 (106)\ttotal: 9.75s\tremaining: 21.7s\n",
      "124:\tlearn: 0.8520708\ttest: 0.8520708\ttest1: 0.8470673\tbest: 0.8471696 (106)\ttotal: 9.81s\tremaining: 21.6s\n",
      "125:\tlearn: 0.8518459\ttest: 0.8518459\ttest1: 0.8472720\tbest: 0.8472720 (125)\ttotal: 9.88s\tremaining: 21.5s\n",
      "126:\tlearn: 0.8516210\ttest: 0.8516210\ttest1: 0.8476814\tbest: 0.8476814 (126)\ttotal: 9.94s\tremaining: 21.4s\n",
      "127:\tlearn: 0.8516531\ttest: 0.8516531\ttest1: 0.8478862\tbest: 0.8478862 (127)\ttotal: 10.1s\tremaining: 21.4s\n",
      "128:\tlearn: 0.8519744\ttest: 0.8519744\ttest1: 0.8474767\tbest: 0.8478862 (127)\ttotal: 10.3s\tremaining: 21.5s\n",
      "129:\tlearn: 0.8520708\ttest: 0.8520708\ttest1: 0.8475791\tbest: 0.8478862 (127)\ttotal: 10.4s\tremaining: 21.5s\n",
      "130:\tlearn: 0.8520066\ttest: 0.8520066\ttest1: 0.8475791\tbest: 0.8478862 (127)\ttotal: 10.4s\tremaining: 21.4s\n",
      "131:\tlearn: 0.8516852\ttest: 0.8516852\ttest1: 0.8478862\tbest: 0.8478862 (127)\ttotal: 10.5s\tremaining: 21.3s\n",
      "132:\tlearn: 0.8517174\ttest: 0.8517174\ttest1: 0.8479885\tbest: 0.8479885 (132)\ttotal: 10.5s\tremaining: 21.2s\n",
      "133:\tlearn: 0.8517495\ttest: 0.8517495\ttest1: 0.8476814\tbest: 0.8479885 (132)\ttotal: 10.6s\tremaining: 21.1s\n",
      "134:\tlearn: 0.8517816\ttest: 0.8517816\ttest1: 0.8479885\tbest: 0.8479885 (132)\ttotal: 10.7s\tremaining: 21s\n",
      "135:\tlearn: 0.8518138\ttest: 0.8518138\ttest1: 0.8482956\tbest: 0.8482956 (135)\ttotal: 10.7s\tremaining: 20.8s\n",
      "136:\tlearn: 0.8518780\ttest: 0.8518780\ttest1: 0.8482956\tbest: 0.8482956 (135)\ttotal: 10.8s\tremaining: 20.7s\n",
      "137:\tlearn: 0.8517495\ttest: 0.8517495\ttest1: 0.8482956\tbest: 0.8482956 (135)\ttotal: 11s\tremaining: 20.8s\n",
      "138:\tlearn: 0.8523600\ttest: 0.8523600\ttest1: 0.8483980\tbest: 0.8483980 (138)\ttotal: 11.1s\tremaining: 20.9s\n",
      "139:\tlearn: 0.8525528\ttest: 0.8525528\ttest1: 0.8482956\tbest: 0.8483980 (138)\ttotal: 11.2s\tremaining: 20.8s\n",
      "140:\tlearn: 0.8529062\ttest: 0.8529062\ttest1: 0.8487051\tbest: 0.8487051 (140)\ttotal: 11.2s\tremaining: 20.7s\n",
      "141:\tlearn: 0.8530347\ttest: 0.8530347\ttest1: 0.8485004\tbest: 0.8487051 (140)\ttotal: 11.3s\tremaining: 20.5s\n",
      "142:\tlearn: 0.8529383\ttest: 0.8529383\ttest1: 0.8487051\tbest: 0.8487051 (140)\ttotal: 11.4s\tremaining: 20.4s\n",
      "143:\tlearn: 0.8531311\ttest: 0.8531311\ttest1: 0.8492169\tbest: 0.8492169 (143)\ttotal: 11.4s\tremaining: 20.4s\n",
      "144:\tlearn: 0.8530990\ttest: 0.8530990\ttest1: 0.8493193\tbest: 0.8493193 (144)\ttotal: 11.6s\tremaining: 20.3s\n",
      "145:\tlearn: 0.8530026\ttest: 0.8530026\ttest1: 0.8494216\tbest: 0.8494216 (145)\ttotal: 11.6s\tremaining: 20.2s\n",
      "146:\tlearn: 0.8530347\ttest: 0.8530347\ttest1: 0.8494216\tbest: 0.8494216 (145)\ttotal: 11.7s\tremaining: 20.2s\n",
      "147:\tlearn: 0.8530990\ttest: 0.8530990\ttest1: 0.8495240\tbest: 0.8495240 (147)\ttotal: 11.8s\tremaining: 20.1s\n",
      "148:\tlearn: 0.8532596\ttest: 0.8532596\ttest1: 0.8495240\tbest: 0.8495240 (147)\ttotal: 11.9s\tremaining: 20s\n",
      "149:\tlearn: 0.8528741\ttest: 0.8528741\ttest1: 0.8491145\tbest: 0.8495240 (147)\ttotal: 12s\tremaining: 20s\n",
      "150:\tlearn: 0.8531633\ttest: 0.8531633\ttest1: 0.8489098\tbest: 0.8495240 (147)\ttotal: 12s\tremaining: 19.8s\n",
      "151:\tlearn: 0.8530347\ttest: 0.8530347\ttest1: 0.8488075\tbest: 0.8495240 (147)\ttotal: 12.1s\tremaining: 19.7s\n",
      "152:\tlearn: 0.8531311\ttest: 0.8531311\ttest1: 0.8488075\tbest: 0.8495240 (147)\ttotal: 12.1s\tremaining: 19.6s\n",
      "153:\tlearn: 0.8533882\ttest: 0.8533882\ttest1: 0.8488075\tbest: 0.8495240 (147)\ttotal: 12.3s\tremaining: 19.6s\n",
      "154:\tlearn: 0.8535488\ttest: 0.8535488\ttest1: 0.8488075\tbest: 0.8495240 (147)\ttotal: 12.4s\tremaining: 19.6s\n",
      "155:\tlearn: 0.8535810\ttest: 0.8535810\ttest1: 0.8488075\tbest: 0.8495240 (147)\ttotal: 12.5s\tremaining: 19.5s\n",
      "156:\tlearn: 0.8541914\ttest: 0.8541914\ttest1: 0.8491145\tbest: 0.8495240 (147)\ttotal: 12.5s\tremaining: 19.4s\n",
      "157:\tlearn: 0.8543521\ttest: 0.8543521\ttest1: 0.8493193\tbest: 0.8495240 (147)\ttotal: 12.6s\tremaining: 19.3s\n",
      "158:\tlearn: 0.8541593\ttest: 0.8541593\ttest1: 0.8497287\tbest: 0.8497287 (158)\ttotal: 12.6s\tremaining: 19.2s\n",
      "159:\tlearn: 0.8544806\ttest: 0.8544806\ttest1: 0.8494216\tbest: 0.8497287 (158)\ttotal: 12.7s\tremaining: 19.1s\n"
     ]
    },
    {
     "name": "stdout",
     "output_type": "stream",
     "text": [
      "160:\tlearn: 0.8545127\ttest: 0.8545127\ttest1: 0.8494216\tbest: 0.8497287 (158)\ttotal: 12.8s\tremaining: 19s\n",
      "161:\tlearn: 0.8545449\ttest: 0.8545449\ttest1: 0.8494216\tbest: 0.8497287 (158)\ttotal: 12.9s\tremaining: 18.9s\n",
      "162:\tlearn: 0.8548983\ttest: 0.8548983\ttest1: 0.8495240\tbest: 0.8497287 (158)\ttotal: 13s\tremaining: 18.9s\n",
      "163:\tlearn: 0.8549304\ttest: 0.8549304\ttest1: 0.8497287\tbest: 0.8497287 (158)\ttotal: 13.1s\tremaining: 18.8s\n",
      "164:\tlearn: 0.8549947\ttest: 0.8549947\ttest1: 0.8495240\tbest: 0.8497287 (158)\ttotal: 13.2s\tremaining: 18.8s\n",
      "165:\tlearn: 0.8549947\ttest: 0.8549947\ttest1: 0.8495240\tbest: 0.8497287 (158)\ttotal: 13.2s\tremaining: 18.7s\n",
      "166:\tlearn: 0.8557658\ttest: 0.8557658\ttest1: 0.8494216\tbest: 0.8497287 (158)\ttotal: 13.3s\tremaining: 18.6s\n",
      "167:\tlearn: 0.8559265\ttest: 0.8559265\ttest1: 0.8498311\tbest: 0.8498311 (167)\ttotal: 13.4s\tremaining: 18.5s\n",
      "168:\tlearn: 0.8558944\ttest: 0.8558944\ttest1: 0.8498311\tbest: 0.8498311 (167)\ttotal: 13.4s\tremaining: 18.3s\n",
      "169:\tlearn: 0.8559265\ttest: 0.8559265\ttest1: 0.8498311\tbest: 0.8498311 (167)\ttotal: 13.5s\tremaining: 18.3s\n",
      "170:\tlearn: 0.8567619\ttest: 0.8567619\ttest1: 0.8497287\tbest: 0.8498311 (167)\ttotal: 13.7s\tremaining: 18.3s\n",
      "171:\tlearn: 0.8568904\ttest: 0.8568904\ttest1: 0.8498311\tbest: 0.8498311 (167)\ttotal: 13.8s\tremaining: 18.2s\n",
      "172:\tlearn: 0.8569225\ttest: 0.8569225\ttest1: 0.8499335\tbest: 0.8499335 (172)\ttotal: 13.8s\tremaining: 18.1s\n",
      "173:\tlearn: 0.8566012\ttest: 0.8566012\ttest1: 0.8496264\tbest: 0.8499335 (172)\ttotal: 13.9s\tremaining: 18.1s\n",
      "174:\tlearn: 0.8566334\ttest: 0.8566334\ttest1: 0.8495240\tbest: 0.8499335 (172)\ttotal: 14s\tremaining: 18s\n",
      "175:\tlearn: 0.8566012\ttest: 0.8566012\ttest1: 0.8496264\tbest: 0.8499335 (172)\ttotal: 14.1s\tremaining: 17.9s\n",
      "176:\tlearn: 0.8568583\ttest: 0.8568583\ttest1: 0.8498311\tbest: 0.8499335 (172)\ttotal: 14.1s\tremaining: 17.8s\n",
      "177:\tlearn: 0.8567619\ttest: 0.8567619\ttest1: 0.8497287\tbest: 0.8499335 (172)\ttotal: 14.2s\tremaining: 17.7s\n",
      "178:\tlearn: 0.8567619\ttest: 0.8567619\ttest1: 0.8497287\tbest: 0.8499335 (172)\ttotal: 14.3s\tremaining: 17.6s\n",
      "179:\tlearn: 0.8571796\ttest: 0.8571796\ttest1: 0.8497287\tbest: 0.8499335 (172)\ttotal: 14.3s\tremaining: 17.5s\n",
      "180:\tlearn: 0.8571474\ttest: 0.8571474\ttest1: 0.8499335\tbest: 0.8499335 (172)\ttotal: 14.4s\tremaining: 17.4s\n",
      "181:\tlearn: 0.8572117\ttest: 0.8572117\ttest1: 0.8499335\tbest: 0.8499335 (172)\ttotal: 14.5s\tremaining: 17.3s\n",
      "182:\tlearn: 0.8573081\ttest: 0.8573081\ttest1: 0.8498311\tbest: 0.8499335 (172)\ttotal: 14.5s\tremaining: 17.2s\n",
      "183:\tlearn: 0.8573724\ttest: 0.8573724\ttest1: 0.8498311\tbest: 0.8499335 (172)\ttotal: 14.6s\tremaining: 17.1s\n",
      "184:\tlearn: 0.8572760\ttest: 0.8572760\ttest1: 0.8498311\tbest: 0.8499335 (172)\ttotal: 14.6s\tremaining: 17s\n",
      "185:\tlearn: 0.8573402\ttest: 0.8573402\ttest1: 0.8497287\tbest: 0.8499335 (172)\ttotal: 14.7s\tremaining: 16.9s\n",
      "186:\tlearn: 0.8573402\ttest: 0.8573402\ttest1: 0.8498311\tbest: 0.8499335 (172)\ttotal: 14.7s\tremaining: 16.8s\n",
      "187:\tlearn: 0.8574366\ttest: 0.8574366\ttest1: 0.8499335\tbest: 0.8499335 (172)\ttotal: 14.8s\tremaining: 16.7s\n",
      "188:\tlearn: 0.8575009\ttest: 0.8575009\ttest1: 0.8499335\tbest: 0.8499335 (172)\ttotal: 15s\tremaining: 16.7s\n",
      "189:\tlearn: 0.8574688\ttest: 0.8574688\ttest1: 0.8501382\tbest: 0.8501382 (189)\ttotal: 15.1s\tremaining: 16.6s\n",
      "190:\tlearn: 0.8579507\ttest: 0.8579507\ttest1: 0.8496264\tbest: 0.8501382 (189)\ttotal: 15.1s\tremaining: 16.5s\n",
      "191:\tlearn: 0.8583041\ttest: 0.8583041\ttest1: 0.8497287\tbest: 0.8501382 (189)\ttotal: 15.2s\tremaining: 16.4s\n",
      "192:\tlearn: 0.8584005\ttest: 0.8584005\ttest1: 0.8496264\tbest: 0.8501382 (189)\ttotal: 15.2s\tremaining: 16.3s\n",
      "193:\tlearn: 0.8582720\ttest: 0.8582720\ttest1: 0.8497287\tbest: 0.8501382 (189)\ttotal: 15.3s\tremaining: 16.2s\n",
      "194:\tlearn: 0.8587540\ttest: 0.8587540\ttest1: 0.8497287\tbest: 0.8501382 (189)\ttotal: 15.3s\tremaining: 16.1s\n",
      "195:\tlearn: 0.8589468\ttest: 0.8589468\ttest1: 0.8496264\tbest: 0.8501382 (189)\ttotal: 15.4s\tremaining: 16s\n",
      "196:\tlearn: 0.8592038\ttest: 0.8592038\ttest1: 0.8496264\tbest: 0.8501382 (189)\ttotal: 15.5s\tremaining: 15.9s\n",
      "197:\tlearn: 0.8592359\ttest: 0.8592359\ttest1: 0.8495240\tbest: 0.8501382 (189)\ttotal: 15.5s\tremaining: 15.8s\n",
      "198:\tlearn: 0.8592681\ttest: 0.8592681\ttest1: 0.8493193\tbest: 0.8501382 (189)\ttotal: 15.6s\tremaining: 15.7s\n",
      "199:\tlearn: 0.8593645\ttest: 0.8593645\ttest1: 0.8494216\tbest: 0.8501382 (189)\ttotal: 15.6s\tremaining: 15.6s\n",
      "200:\tlearn: 0.8594287\ttest: 0.8594287\ttest1: 0.8496264\tbest: 0.8501382 (189)\ttotal: 15.7s\tremaining: 15.5s\n",
      "201:\tlearn: 0.8594608\ttest: 0.8594608\ttest1: 0.8496264\tbest: 0.8501382 (189)\ttotal: 15.8s\tremaining: 15.5s\n",
      "202:\tlearn: 0.8592359\ttest: 0.8592359\ttest1: 0.8494216\tbest: 0.8501382 (189)\ttotal: 15.8s\tremaining: 15.4s\n",
      "203:\tlearn: 0.8593323\ttest: 0.8593323\ttest1: 0.8497287\tbest: 0.8501382 (189)\ttotal: 15.9s\tremaining: 15.3s\n",
      "204:\tlearn: 0.8593323\ttest: 0.8593323\ttest1: 0.8501382\tbest: 0.8501382 (189)\ttotal: 15.9s\tremaining: 15.2s\n",
      "205:\tlearn: 0.8599107\ttest: 0.8599107\ttest1: 0.8500358\tbest: 0.8501382 (189)\ttotal: 16s\tremaining: 15.1s\n",
      "206:\tlearn: 0.8600071\ttest: 0.8600071\ttest1: 0.8500358\tbest: 0.8501382 (189)\ttotal: 16.1s\tremaining: 15s\n",
      "207:\tlearn: 0.8601356\ttest: 0.8601356\ttest1: 0.8501382\tbest: 0.8501382 (189)\ttotal: 16.2s\tremaining: 14.9s\n",
      "208:\tlearn: 0.8601035\ttest: 0.8601035\ttest1: 0.8502406\tbest: 0.8502406 (208)\ttotal: 16.3s\tremaining: 14.9s\n",
      "209:\tlearn: 0.8601035\ttest: 0.8601035\ttest1: 0.8502406\tbest: 0.8502406 (208)\ttotal: 16.4s\tremaining: 14.8s\n",
      "210:\tlearn: 0.8598464\ttest: 0.8598464\ttest1: 0.8502406\tbest: 0.8502406 (208)\ttotal: 16.5s\tremaining: 14.7s\n",
      "211:\tlearn: 0.8598464\ttest: 0.8598464\ttest1: 0.8502406\tbest: 0.8502406 (208)\ttotal: 16.5s\tremaining: 14.6s\n",
      "212:\tlearn: 0.8596858\ttest: 0.8596858\ttest1: 0.8506500\tbest: 0.8506500 (212)\ttotal: 16.6s\tremaining: 14.6s\n",
      "213:\tlearn: 0.8595894\ttest: 0.8595894\ttest1: 0.8506500\tbest: 0.8506500 (212)\ttotal: 16.6s\tremaining: 14.5s\n",
      "214:\tlearn: 0.8595251\ttest: 0.8595251\ttest1: 0.8506500\tbest: 0.8506500 (212)\ttotal: 16.7s\tremaining: 14.4s\n",
      "215:\tlearn: 0.8595894\ttest: 0.8595894\ttest1: 0.8507524\tbest: 0.8507524 (215)\ttotal: 16.7s\tremaining: 14.3s\n",
      "216:\tlearn: 0.8596215\ttest: 0.8596215\ttest1: 0.8504453\tbest: 0.8507524 (215)\ttotal: 16.8s\tremaining: 14.2s\n",
      "217:\tlearn: 0.8596858\ttest: 0.8596858\ttest1: 0.8506500\tbest: 0.8507524 (215)\ttotal: 16.9s\tremaining: 14.1s\n",
      "218:\tlearn: 0.8599428\ttest: 0.8599428\ttest1: 0.8506500\tbest: 0.8507524 (215)\ttotal: 16.9s\tremaining: 14s\n",
      "219:\tlearn: 0.8598143\ttest: 0.8598143\ttest1: 0.8504453\tbest: 0.8507524 (215)\ttotal: 17s\tremaining: 13.9s\n",
      "220:\tlearn: 0.8599749\ttest: 0.8599749\ttest1: 0.8504453\tbest: 0.8507524 (215)\ttotal: 17.1s\tremaining: 13.9s\n",
      "221:\tlearn: 0.8600713\ttest: 0.8600713\ttest1: 0.8506500\tbest: 0.8507524 (215)\ttotal: 17.2s\tremaining: 13.8s\n",
      "222:\tlearn: 0.8602641\ttest: 0.8602641\ttest1: 0.8505477\tbest: 0.8507524 (215)\ttotal: 17.3s\tremaining: 13.7s\n",
      "223:\tlearn: 0.8604890\ttest: 0.8604890\ttest1: 0.8506500\tbest: 0.8507524 (215)\ttotal: 17.3s\tremaining: 13.6s\n",
      "224:\tlearn: 0.8605212\ttest: 0.8605212\ttest1: 0.8505477\tbest: 0.8507524 (215)\ttotal: 17.4s\tremaining: 13.5s\n",
      "225:\tlearn: 0.8609067\ttest: 0.8609067\ttest1: 0.8507524\tbest: 0.8507524 (215)\ttotal: 17.5s\tremaining: 13.4s\n",
      "226:\tlearn: 0.8610352\ttest: 0.8610352\ttest1: 0.8507524\tbest: 0.8507524 (215)\ttotal: 17.5s\tremaining: 13.4s\n",
      "227:\tlearn: 0.8609389\ttest: 0.8609389\ttest1: 0.8505477\tbest: 0.8507524 (215)\ttotal: 17.6s\tremaining: 13.3s\n",
      "228:\tlearn: 0.8611316\ttest: 0.8611316\ttest1: 0.8506500\tbest: 0.8507524 (215)\ttotal: 17.6s\tremaining: 13.2s\n",
      "229:\tlearn: 0.8612280\ttest: 0.8612280\ttest1: 0.8505477\tbest: 0.8507524 (215)\ttotal: 17.7s\tremaining: 13.1s\n",
      "230:\tlearn: 0.8609389\ttest: 0.8609389\ttest1: 0.8511618\tbest: 0.8511618 (230)\ttotal: 17.8s\tremaining: 13s\n",
      "231:\tlearn: 0.8612280\ttest: 0.8612280\ttest1: 0.8511618\tbest: 0.8511618 (230)\ttotal: 17.8s\tremaining: 12.9s\n",
      "232:\tlearn: 0.8612280\ttest: 0.8612280\ttest1: 0.8510595\tbest: 0.8511618 (230)\ttotal: 17.9s\tremaining: 12.8s\n",
      "233:\tlearn: 0.8614529\ttest: 0.8614529\ttest1: 0.8507524\tbest: 0.8511618 (230)\ttotal: 17.9s\tremaining: 12.7s\n",
      "234:\tlearn: 0.8617421\ttest: 0.8617421\ttest1: 0.8509571\tbest: 0.8511618 (230)\ttotal: 18s\tremaining: 12.6s\n",
      "235:\tlearn: 0.8614851\ttest: 0.8614851\ttest1: 0.8508547\tbest: 0.8511618 (230)\ttotal: 18s\tremaining: 12.5s\n",
      "236:\tlearn: 0.8617421\ttest: 0.8617421\ttest1: 0.8505477\tbest: 0.8511618 (230)\ttotal: 18.1s\tremaining: 12.5s\n"
     ]
    },
    {
     "name": "stdout",
     "output_type": "stream",
     "text": [
      "237:\tlearn: 0.8617421\ttest: 0.8617421\ttest1: 0.8505477\tbest: 0.8511618 (230)\ttotal: 18.2s\tremaining: 12.4s\n",
      "238:\tlearn: 0.8619028\ttest: 0.8619028\ttest1: 0.8502406\tbest: 0.8511618 (230)\ttotal: 18.3s\tremaining: 12.3s\n",
      "239:\tlearn: 0.8615815\ttest: 0.8615815\ttest1: 0.8504453\tbest: 0.8511618 (230)\ttotal: 18.4s\tremaining: 12.2s\n",
      "240:\tlearn: 0.8614529\ttest: 0.8614529\ttest1: 0.8503429\tbest: 0.8511618 (230)\ttotal: 18.5s\tremaining: 12.2s\n",
      "241:\tlearn: 0.8614529\ttest: 0.8614529\ttest1: 0.8505477\tbest: 0.8511618 (230)\ttotal: 18.6s\tremaining: 12.2s\n",
      "242:\tlearn: 0.8614529\ttest: 0.8614529\ttest1: 0.8502406\tbest: 0.8511618 (230)\ttotal: 18.7s\tremaining: 12.1s\n",
      "243:\tlearn: 0.8616136\ttest: 0.8616136\ttest1: 0.8503429\tbest: 0.8511618 (230)\ttotal: 18.8s\tremaining: 12s\n",
      "244:\tlearn: 0.8618706\ttest: 0.8618706\ttest1: 0.8507524\tbest: 0.8511618 (230)\ttotal: 18.8s\tremaining: 11.9s\n",
      "245:\tlearn: 0.8620313\ttest: 0.8620313\ttest1: 0.8511618\tbest: 0.8511618 (230)\ttotal: 18.9s\tremaining: 11.8s\n",
      "246:\tlearn: 0.8620313\ttest: 0.8620313\ttest1: 0.8513666\tbest: 0.8513666 (246)\ttotal: 19s\tremaining: 11.8s\n",
      "247:\tlearn: 0.8620956\ttest: 0.8620956\ttest1: 0.8511618\tbest: 0.8513666 (246)\ttotal: 19.1s\tremaining: 11.7s\n",
      "248:\tlearn: 0.8617100\ttest: 0.8617100\ttest1: 0.8512642\tbest: 0.8513666 (246)\ttotal: 19.3s\tremaining: 11.7s\n",
      "249:\tlearn: 0.8619670\ttest: 0.8619670\ttest1: 0.8513666\tbest: 0.8513666 (246)\ttotal: 19.5s\tremaining: 11.7s\n",
      "250:\tlearn: 0.8618385\ttest: 0.8618385\ttest1: 0.8518784\tbest: 0.8518784 (250)\ttotal: 19.6s\tremaining: 11.6s\n",
      "251:\tlearn: 0.8619992\ttest: 0.8619992\ttest1: 0.8518784\tbest: 0.8518784 (250)\ttotal: 19.6s\tremaining: 11.5s\n",
      "252:\tlearn: 0.8619349\ttest: 0.8619349\ttest1: 0.8515713\tbest: 0.8518784 (250)\ttotal: 19.7s\tremaining: 11.4s\n",
      "253:\tlearn: 0.8621277\ttest: 0.8621277\ttest1: 0.8515713\tbest: 0.8518784 (250)\ttotal: 19.8s\tremaining: 11.4s\n",
      "254:\tlearn: 0.8624169\ttest: 0.8624169\ttest1: 0.8515713\tbest: 0.8518784 (250)\ttotal: 19.9s\tremaining: 11.3s\n",
      "255:\tlearn: 0.8624490\ttest: 0.8624490\ttest1: 0.8516737\tbest: 0.8518784 (250)\ttotal: 19.9s\tremaining: 11.2s\n",
      "256:\tlearn: 0.8624490\ttest: 0.8624490\ttest1: 0.8517760\tbest: 0.8518784 (250)\ttotal: 20s\tremaining: 11.1s\n",
      "257:\tlearn: 0.8624811\ttest: 0.8624811\ttest1: 0.8517760\tbest: 0.8518784 (250)\ttotal: 20s\tremaining: 11s\n",
      "258:\tlearn: 0.8624490\ttest: 0.8624490\ttest1: 0.8517760\tbest: 0.8518784 (250)\ttotal: 20.1s\tremaining: 10.9s\n",
      "259:\tlearn: 0.8623526\ttest: 0.8623526\ttest1: 0.8515713\tbest: 0.8518784 (250)\ttotal: 20.3s\tremaining: 10.9s\n",
      "260:\tlearn: 0.8623847\ttest: 0.8623847\ttest1: 0.8513666\tbest: 0.8518784 (250)\ttotal: 20.6s\tremaining: 11s\n",
      "261:\tlearn: 0.8624169\ttest: 0.8624169\ttest1: 0.8512642\tbest: 0.8518784 (250)\ttotal: 20.7s\tremaining: 10.9s\n",
      "262:\tlearn: 0.8625133\ttest: 0.8625133\ttest1: 0.8518784\tbest: 0.8518784 (250)\ttotal: 20.8s\tremaining: 10.9s\n",
      "263:\tlearn: 0.8626418\ttest: 0.8626418\ttest1: 0.8518784\tbest: 0.8518784 (250)\ttotal: 20.9s\tremaining: 10.8s\n",
      "264:\tlearn: 0.8628988\ttest: 0.8628988\ttest1: 0.8516737\tbest: 0.8518784 (250)\ttotal: 21s\tremaining: 10.7s\n",
      "265:\tlearn: 0.8630273\ttest: 0.8630273\ttest1: 0.8516737\tbest: 0.8518784 (250)\ttotal: 21.1s\tremaining: 10.6s\n",
      "266:\tlearn: 0.8629952\ttest: 0.8629952\ttest1: 0.8516737\tbest: 0.8518784 (250)\ttotal: 21.1s\tremaining: 10.5s\n",
      "267:\tlearn: 0.8629952\ttest: 0.8629952\ttest1: 0.8516737\tbest: 0.8518784 (250)\ttotal: 21.2s\tremaining: 10.4s\n",
      "268:\tlearn: 0.8630595\ttest: 0.8630595\ttest1: 0.8516737\tbest: 0.8518784 (250)\ttotal: 21.3s\tremaining: 10.4s\n",
      "269:\tlearn: 0.8631237\ttest: 0.8631237\ttest1: 0.8517760\tbest: 0.8518784 (250)\ttotal: 21.3s\tremaining: 10.3s\n",
      "270:\tlearn: 0.8631559\ttest: 0.8631559\ttest1: 0.8517760\tbest: 0.8518784 (250)\ttotal: 21.4s\tremaining: 10.2s\n",
      "271:\tlearn: 0.8631559\ttest: 0.8631559\ttest1: 0.8516737\tbest: 0.8518784 (250)\ttotal: 21.5s\tremaining: 10.1s\n",
      "272:\tlearn: 0.8631237\ttest: 0.8631237\ttest1: 0.8516737\tbest: 0.8518784 (250)\ttotal: 21.6s\tremaining: 10s\n",
      "273:\tlearn: 0.8631559\ttest: 0.8631559\ttest1: 0.8515713\tbest: 0.8518784 (250)\ttotal: 21.6s\tremaining: 9.95s\n",
      "274:\tlearn: 0.8628667\ttest: 0.8628667\ttest1: 0.8517760\tbest: 0.8518784 (250)\ttotal: 21.7s\tremaining: 9.86s\n",
      "275:\tlearn: 0.8629310\ttest: 0.8629310\ttest1: 0.8517760\tbest: 0.8518784 (250)\ttotal: 21.8s\tremaining: 9.79s\n",
      "276:\tlearn: 0.8629952\ttest: 0.8629952\ttest1: 0.8515713\tbest: 0.8518784 (250)\ttotal: 21.8s\tremaining: 9.7s\n",
      "277:\tlearn: 0.8629952\ttest: 0.8629952\ttest1: 0.8518784\tbest: 0.8518784 (250)\ttotal: 21.9s\tremaining: 9.62s\n",
      "278:\tlearn: 0.8630273\ttest: 0.8630273\ttest1: 0.8518784\tbest: 0.8518784 (250)\ttotal: 22s\tremaining: 9.54s\n",
      "279:\tlearn: 0.8630273\ttest: 0.8630273\ttest1: 0.8518784\tbest: 0.8518784 (250)\ttotal: 22s\tremaining: 9.45s\n",
      "280:\tlearn: 0.8629952\ttest: 0.8629952\ttest1: 0.8519808\tbest: 0.8519808 (280)\ttotal: 22.1s\tremaining: 9.37s\n",
      "281:\tlearn: 0.8631559\ttest: 0.8631559\ttest1: 0.8517760\tbest: 0.8519808 (280)\ttotal: 22.2s\tremaining: 9.29s\n",
      "282:\tlearn: 0.8631559\ttest: 0.8631559\ttest1: 0.8513666\tbest: 0.8519808 (280)\ttotal: 22.3s\tremaining: 9.21s\n",
      "283:\tlearn: 0.8632844\ttest: 0.8632844\ttest1: 0.8513666\tbest: 0.8519808 (280)\ttotal: 22.4s\tremaining: 9.14s\n",
      "284:\tlearn: 0.8632844\ttest: 0.8632844\ttest1: 0.8511618\tbest: 0.8519808 (280)\ttotal: 22.5s\tremaining: 9.08s\n",
      "285:\tlearn: 0.8632844\ttest: 0.8632844\ttest1: 0.8512642\tbest: 0.8519808 (280)\ttotal: 22.6s\tremaining: 9.02s\n",
      "286:\tlearn: 0.8631880\ttest: 0.8631880\ttest1: 0.8512642\tbest: 0.8519808 (280)\ttotal: 22.7s\tremaining: 8.94s\n",
      "287:\tlearn: 0.8633486\ttest: 0.8633486\ttest1: 0.8512642\tbest: 0.8519808 (280)\ttotal: 22.8s\tremaining: 8.87s\n",
      "288:\tlearn: 0.8635093\ttest: 0.8635093\ttest1: 0.8515713\tbest: 0.8519808 (280)\ttotal: 22.9s\tremaining: 8.79s\n",
      "289:\tlearn: 0.8635093\ttest: 0.8635093\ttest1: 0.8516737\tbest: 0.8519808 (280)\ttotal: 23s\tremaining: 8.72s\n",
      "290:\tlearn: 0.8640877\ttest: 0.8640877\ttest1: 0.8515713\tbest: 0.8519808 (280)\ttotal: 23.1s\tremaining: 8.65s\n",
      "291:\tlearn: 0.8643447\ttest: 0.8643447\ttest1: 0.8515713\tbest: 0.8519808 (280)\ttotal: 23.2s\tremaining: 8.58s\n",
      "292:\tlearn: 0.8644411\ttest: 0.8644411\ttest1: 0.8516737\tbest: 0.8519808 (280)\ttotal: 23.3s\tremaining: 8.51s\n",
      "293:\tlearn: 0.8644411\ttest: 0.8644411\ttest1: 0.8516737\tbest: 0.8519808 (280)\ttotal: 23.4s\tremaining: 8.43s\n",
      "294:\tlearn: 0.8646339\ttest: 0.8646339\ttest1: 0.8517760\tbest: 0.8519808 (280)\ttotal: 23.5s\tremaining: 8.35s\n",
      "295:\tlearn: 0.8646660\ttest: 0.8646660\ttest1: 0.8520831\tbest: 0.8520831 (295)\ttotal: 23.6s\tremaining: 8.28s\n",
      "296:\tlearn: 0.8646981\ttest: 0.8646981\ttest1: 0.8519808\tbest: 0.8520831 (295)\ttotal: 23.6s\tremaining: 8.19s\n",
      "297:\tlearn: 0.8646017\ttest: 0.8646017\ttest1: 0.8518784\tbest: 0.8520831 (295)\ttotal: 23.7s\tremaining: 8.13s\n",
      "298:\tlearn: 0.8645375\ttest: 0.8645375\ttest1: 0.8521855\tbest: 0.8521855 (298)\ttotal: 23.9s\tremaining: 8.08s\n",
      "299:\tlearn: 0.8647303\ttest: 0.8647303\ttest1: 0.8521855\tbest: 0.8521855 (298)\ttotal: 24.1s\tremaining: 8.02s\n",
      "300:\tlearn: 0.8647945\ttest: 0.8647945\ttest1: 0.8520831\tbest: 0.8521855 (298)\ttotal: 24.2s\tremaining: 7.95s\n",
      "301:\tlearn: 0.8648267\ttest: 0.8648267\ttest1: 0.8519808\tbest: 0.8521855 (298)\ttotal: 24.3s\tremaining: 7.87s\n",
      "302:\tlearn: 0.8647945\ttest: 0.8647945\ttest1: 0.8518784\tbest: 0.8521855 (298)\ttotal: 24.3s\tremaining: 7.79s\n",
      "303:\tlearn: 0.8648909\ttest: 0.8648909\ttest1: 0.8521855\tbest: 0.8521855 (298)\ttotal: 24.4s\tremaining: 7.71s\n",
      "304:\tlearn: 0.8648909\ttest: 0.8648909\ttest1: 0.8521855\tbest: 0.8521855 (298)\ttotal: 24.5s\tremaining: 7.62s\n",
      "305:\tlearn: 0.8646981\ttest: 0.8646981\ttest1: 0.8521855\tbest: 0.8521855 (298)\ttotal: 24.5s\tremaining: 7.53s\n",
      "306:\tlearn: 0.8648909\ttest: 0.8648909\ttest1: 0.8519808\tbest: 0.8521855 (298)\ttotal: 24.6s\tremaining: 7.45s\n",
      "307:\tlearn: 0.8646339\ttest: 0.8646339\ttest1: 0.8520831\tbest: 0.8521855 (298)\ttotal: 24.7s\tremaining: 7.37s\n",
      "308:\tlearn: 0.8646339\ttest: 0.8646339\ttest1: 0.8520831\tbest: 0.8521855 (298)\ttotal: 24.7s\tremaining: 7.29s\n",
      "309:\tlearn: 0.8649230\ttest: 0.8649230\ttest1: 0.8520831\tbest: 0.8521855 (298)\ttotal: 24.8s\tremaining: 7.2s\n",
      "310:\tlearn: 0.8649230\ttest: 0.8649230\ttest1: 0.8520831\tbest: 0.8521855 (298)\ttotal: 24.9s\tremaining: 7.12s\n",
      "311:\tlearn: 0.8649230\ttest: 0.8649230\ttest1: 0.8521855\tbest: 0.8521855 (298)\ttotal: 25s\tremaining: 7.04s\n",
      "312:\tlearn: 0.8649230\ttest: 0.8649230\ttest1: 0.8521855\tbest: 0.8521855 (298)\ttotal: 25.1s\tremaining: 6.97s\n",
      "313:\tlearn: 0.8649552\ttest: 0.8649552\ttest1: 0.8521855\tbest: 0.8521855 (298)\ttotal: 25.2s\tremaining: 6.89s\n"
     ]
    },
    {
     "name": "stdout",
     "output_type": "stream",
     "text": [
      "314:\tlearn: 0.8650837\ttest: 0.8650837\ttest1: 0.8521855\tbest: 0.8521855 (298)\ttotal: 25.3s\tremaining: 6.84s\n",
      "315:\tlearn: 0.8649552\ttest: 0.8649552\ttest1: 0.8526973\tbest: 0.8526973 (315)\ttotal: 25.4s\tremaining: 6.75s\n",
      "316:\tlearn: 0.8649552\ttest: 0.8649552\ttest1: 0.8527997\tbest: 0.8527997 (316)\ttotal: 25.5s\tremaining: 6.67s\n",
      "317:\tlearn: 0.8649552\ttest: 0.8649552\ttest1: 0.8527997\tbest: 0.8527997 (316)\ttotal: 25.6s\tremaining: 6.59s\n",
      "318:\tlearn: 0.8651801\ttest: 0.8651801\ttest1: 0.8526973\tbest: 0.8527997 (316)\ttotal: 25.6s\tremaining: 6.51s\n",
      "319:\tlearn: 0.8651801\ttest: 0.8651801\ttest1: 0.8526973\tbest: 0.8527997 (316)\ttotal: 25.7s\tremaining: 6.43s\n",
      "320:\tlearn: 0.8654693\ttest: 0.8654693\ttest1: 0.8527997\tbest: 0.8527997 (316)\ttotal: 25.8s\tremaining: 6.34s\n",
      "321:\tlearn: 0.8654371\ttest: 0.8654371\ttest1: 0.8529020\tbest: 0.8529020 (321)\ttotal: 25.8s\tremaining: 6.26s\n",
      "322:\tlearn: 0.8653729\ttest: 0.8653729\ttest1: 0.8529020\tbest: 0.8529020 (321)\ttotal: 25.9s\tremaining: 6.17s\n",
      "323:\tlearn: 0.8654050\ttest: 0.8654050\ttest1: 0.8530044\tbest: 0.8530044 (323)\ttotal: 25.9s\tremaining: 6.08s\n",
      "324:\tlearn: 0.8651801\ttest: 0.8651801\ttest1: 0.8524926\tbest: 0.8530044 (323)\ttotal: 26s\tremaining: 6s\n",
      "325:\tlearn: 0.8651801\ttest: 0.8651801\ttest1: 0.8524926\tbest: 0.8530044 (323)\ttotal: 26.1s\tremaining: 5.92s\n",
      "326:\tlearn: 0.8649873\ttest: 0.8649873\ttest1: 0.8533115\tbest: 0.8533115 (326)\ttotal: 26.2s\tremaining: 5.84s\n",
      "327:\tlearn: 0.8649873\ttest: 0.8649873\ttest1: 0.8534139\tbest: 0.8534139 (327)\ttotal: 26.3s\tremaining: 5.78s\n",
      "328:\tlearn: 0.8649873\ttest: 0.8649873\ttest1: 0.8534139\tbest: 0.8534139 (327)\ttotal: 26.4s\tremaining: 5.7s\n",
      "329:\tlearn: 0.8652122\ttest: 0.8652122\ttest1: 0.8533115\tbest: 0.8534139 (327)\ttotal: 26.6s\tremaining: 5.63s\n",
      "330:\tlearn: 0.8652122\ttest: 0.8652122\ttest1: 0.8533115\tbest: 0.8534139 (327)\ttotal: 26.7s\tremaining: 5.57s\n",
      "331:\tlearn: 0.8652122\ttest: 0.8652122\ttest1: 0.8533115\tbest: 0.8534139 (327)\ttotal: 26.8s\tremaining: 5.49s\n",
      "332:\tlearn: 0.8652444\ttest: 0.8652444\ttest1: 0.8533115\tbest: 0.8534139 (327)\ttotal: 27.3s\tremaining: 5.49s\n",
      "333:\tlearn: 0.8650194\ttest: 0.8650194\ttest1: 0.8532091\tbest: 0.8534139 (327)\ttotal: 27.4s\tremaining: 5.42s\n",
      "334:\tlearn: 0.8650194\ttest: 0.8650194\ttest1: 0.8532091\tbest: 0.8534139 (327)\ttotal: 27.5s\tremaining: 5.34s\n",
      "335:\tlearn: 0.8652122\ttest: 0.8652122\ttest1: 0.8533115\tbest: 0.8534139 (327)\ttotal: 27.7s\tremaining: 5.27s\n",
      "336:\tlearn: 0.8651801\ttest: 0.8651801\ttest1: 0.8533115\tbest: 0.8534139 (327)\ttotal: 27.8s\tremaining: 5.19s\n",
      "337:\tlearn: 0.8655335\ttest: 0.8655335\ttest1: 0.8531068\tbest: 0.8534139 (327)\ttotal: 27.9s\tremaining: 5.12s\n",
      "338:\tlearn: 0.8657584\ttest: 0.8657584\ttest1: 0.8531068\tbest: 0.8534139 (327)\ttotal: 28s\tremaining: 5.04s\n",
      "339:\tlearn: 0.8657584\ttest: 0.8657584\ttest1: 0.8532091\tbest: 0.8534139 (327)\ttotal: 28.1s\tremaining: 4.96s\n",
      "340:\tlearn: 0.8657906\ttest: 0.8657906\ttest1: 0.8532091\tbest: 0.8534139 (327)\ttotal: 28.3s\tremaining: 4.89s\n",
      "341:\tlearn: 0.8657906\ttest: 0.8657906\ttest1: 0.8532091\tbest: 0.8534139 (327)\ttotal: 28.4s\tremaining: 4.81s\n",
      "342:\tlearn: 0.8653086\ttest: 0.8653086\ttest1: 0.8533115\tbest: 0.8534139 (327)\ttotal: 28.4s\tremaining: 4.73s\n",
      "343:\tlearn: 0.8653407\ttest: 0.8653407\ttest1: 0.8534139\tbest: 0.8534139 (327)\ttotal: 28.5s\tremaining: 4.64s\n",
      "344:\tlearn: 0.8653407\ttest: 0.8653407\ttest1: 0.8533115\tbest: 0.8534139 (327)\ttotal: 28.6s\tremaining: 4.56s\n",
      "345:\tlearn: 0.8653086\ttest: 0.8653086\ttest1: 0.8533115\tbest: 0.8534139 (327)\ttotal: 28.7s\tremaining: 4.48s\n",
      "346:\tlearn: 0.8653407\ttest: 0.8653407\ttest1: 0.8531068\tbest: 0.8534139 (327)\ttotal: 28.9s\tremaining: 4.42s\n",
      "347:\tlearn: 0.8653407\ttest: 0.8653407\ttest1: 0.8531068\tbest: 0.8534139 (327)\ttotal: 29.1s\tremaining: 4.35s\n",
      "348:\tlearn: 0.8653407\ttest: 0.8653407\ttest1: 0.8533115\tbest: 0.8534139 (327)\ttotal: 29.4s\tremaining: 4.29s\n",
      "349:\tlearn: 0.8656621\ttest: 0.8656621\ttest1: 0.8530044\tbest: 0.8534139 (327)\ttotal: 29.7s\tremaining: 4.24s\n",
      "350:\tlearn: 0.8656299\ttest: 0.8656299\ttest1: 0.8530044\tbest: 0.8534139 (327)\ttotal: 29.9s\tremaining: 4.18s\n",
      "351:\tlearn: 0.8658227\ttest: 0.8658227\ttest1: 0.8532091\tbest: 0.8534139 (327)\ttotal: 30.2s\tremaining: 4.11s\n",
      "352:\tlearn: 0.8658548\ttest: 0.8658548\ttest1: 0.8534139\tbest: 0.8534139 (327)\ttotal: 30.3s\tremaining: 4.04s\n",
      "353:\tlearn: 0.8658227\ttest: 0.8658227\ttest1: 0.8532091\tbest: 0.8534139 (327)\ttotal: 30.7s\tremaining: 3.99s\n",
      "354:\tlearn: 0.8657584\ttest: 0.8657584\ttest1: 0.8533115\tbest: 0.8534139 (327)\ttotal: 30.8s\tremaining: 3.9s\n",
      "355:\tlearn: 0.8657584\ttest: 0.8657584\ttest1: 0.8534139\tbest: 0.8534139 (327)\ttotal: 31s\tremaining: 3.84s\n",
      "356:\tlearn: 0.8658870\ttest: 0.8658870\ttest1: 0.8535162\tbest: 0.8535162 (356)\ttotal: 31.7s\tremaining: 3.82s\n",
      "357:\tlearn: 0.8659191\ttest: 0.8659191\ttest1: 0.8536186\tbest: 0.8536186 (357)\ttotal: 32s\tremaining: 3.76s\n",
      "358:\tlearn: 0.8661440\ttest: 0.8661440\ttest1: 0.8535162\tbest: 0.8536186 (357)\ttotal: 32.1s\tremaining: 3.67s\n",
      "359:\tlearn: 0.8662725\ttest: 0.8662725\ttest1: 0.8535162\tbest: 0.8536186 (357)\ttotal: 32.3s\tremaining: 3.59s\n",
      "360:\tlearn: 0.8669473\ttest: 0.8669473\ttest1: 0.8534139\tbest: 0.8536186 (357)\ttotal: 32.4s\tremaining: 3.5s\n",
      "361:\tlearn: 0.8669794\ttest: 0.8669794\ttest1: 0.8534139\tbest: 0.8536186 (357)\ttotal: 32.5s\tremaining: 3.41s\n",
      "362:\tlearn: 0.8664974\ttest: 0.8664974\ttest1: 0.8532091\tbest: 0.8536186 (357)\ttotal: 32.6s\tremaining: 3.32s\n",
      "363:\tlearn: 0.8666260\ttest: 0.8666260\ttest1: 0.8532091\tbest: 0.8536186 (357)\ttotal: 32.7s\tremaining: 3.23s\n",
      "364:\tlearn: 0.8665938\ttest: 0.8665938\ttest1: 0.8532091\tbest: 0.8536186 (357)\ttotal: 32.7s\tremaining: 3.14s\n",
      "365:\tlearn: 0.8665617\ttest: 0.8665617\ttest1: 0.8533115\tbest: 0.8536186 (357)\ttotal: 32.8s\tremaining: 3.05s\n",
      "366:\tlearn: 0.8666260\ttest: 0.8666260\ttest1: 0.8532091\tbest: 0.8536186 (357)\ttotal: 32.9s\tremaining: 2.96s\n",
      "367:\tlearn: 0.8666581\ttest: 0.8666581\ttest1: 0.8534139\tbest: 0.8536186 (357)\ttotal: 33s\tremaining: 2.87s\n",
      "368:\tlearn: 0.8666581\ttest: 0.8666581\ttest1: 0.8534139\tbest: 0.8536186 (357)\ttotal: 33.1s\tremaining: 2.78s\n",
      "369:\tlearn: 0.8666902\ttest: 0.8666902\ttest1: 0.8533115\tbest: 0.8536186 (357)\ttotal: 33.2s\tremaining: 2.69s\n",
      "370:\tlearn: 0.8666902\ttest: 0.8666902\ttest1: 0.8533115\tbest: 0.8536186 (357)\ttotal: 33.2s\tremaining: 2.6s\n",
      "371:\tlearn: 0.8666581\ttest: 0.8666581\ttest1: 0.8534139\tbest: 0.8536186 (357)\ttotal: 33.4s\tremaining: 2.51s\n",
      "372:\tlearn: 0.8665938\ttest: 0.8665938\ttest1: 0.8531068\tbest: 0.8536186 (357)\ttotal: 33.5s\tremaining: 2.42s\n",
      "373:\tlearn: 0.8664974\ttest: 0.8664974\ttest1: 0.8530044\tbest: 0.8536186 (357)\ttotal: 33.6s\tremaining: 2.33s\n",
      "374:\tlearn: 0.8665617\ttest: 0.8665617\ttest1: 0.8529020\tbest: 0.8536186 (357)\ttotal: 33.6s\tremaining: 2.24s\n",
      "375:\tlearn: 0.8665617\ttest: 0.8665617\ttest1: 0.8529020\tbest: 0.8536186 (357)\ttotal: 33.7s\tremaining: 2.15s\n",
      "376:\tlearn: 0.8665617\ttest: 0.8665617\ttest1: 0.8529020\tbest: 0.8536186 (357)\ttotal: 33.8s\tremaining: 2.06s\n",
      "377:\tlearn: 0.8665617\ttest: 0.8665617\ttest1: 0.8530044\tbest: 0.8536186 (357)\ttotal: 33.8s\tremaining: 1.97s\n",
      "378:\tlearn: 0.8665617\ttest: 0.8665617\ttest1: 0.8530044\tbest: 0.8536186 (357)\ttotal: 33.9s\tremaining: 1.88s\n",
      "379:\tlearn: 0.8667545\ttest: 0.8667545\ttest1: 0.8530044\tbest: 0.8536186 (357)\ttotal: 33.9s\tremaining: 1.79s\n",
      "380:\tlearn: 0.8665617\ttest: 0.8665617\ttest1: 0.8530044\tbest: 0.8536186 (357)\ttotal: 34s\tremaining: 1.7s\n",
      "381:\tlearn: 0.8668830\ttest: 0.8668830\ttest1: 0.8531068\tbest: 0.8536186 (357)\ttotal: 34.2s\tremaining: 1.61s\n",
      "382:\tlearn: 0.8668830\ttest: 0.8668830\ttest1: 0.8530044\tbest: 0.8536186 (357)\ttotal: 34.4s\tremaining: 1.52s\n",
      "383:\tlearn: 0.8672364\ttest: 0.8672364\ttest1: 0.8529020\tbest: 0.8536186 (357)\ttotal: 34.4s\tremaining: 1.43s\n",
      "384:\tlearn: 0.8672686\ttest: 0.8672686\ttest1: 0.8527997\tbest: 0.8536186 (357)\ttotal: 34.5s\tremaining: 1.34s\n",
      "385:\tlearn: 0.8672686\ttest: 0.8672686\ttest1: 0.8531068\tbest: 0.8536186 (357)\ttotal: 34.5s\tremaining: 1.25s\n",
      "386:\tlearn: 0.8673971\ttest: 0.8673971\ttest1: 0.8531068\tbest: 0.8536186 (357)\ttotal: 34.6s\tremaining: 1.16s\n",
      "387:\tlearn: 0.8674614\ttest: 0.8674614\ttest1: 0.8532091\tbest: 0.8536186 (357)\ttotal: 34.7s\tremaining: 1.07s\n",
      "388:\tlearn: 0.8677184\ttest: 0.8677184\ttest1: 0.8532091\tbest: 0.8536186 (357)\ttotal: 34.7s\tremaining: 982ms\n",
      "389:\tlearn: 0.8676541\ttest: 0.8676541\ttest1: 0.8532091\tbest: 0.8536186 (357)\ttotal: 34.8s\tremaining: 892ms\n",
      "390:\tlearn: 0.8676541\ttest: 0.8676541\ttest1: 0.8532091\tbest: 0.8536186 (357)\ttotal: 34.9s\tremaining: 802ms\n"
     ]
    },
    {
     "name": "stdout",
     "output_type": "stream",
     "text": [
      "391:\tlearn: 0.8676541\ttest: 0.8676541\ttest1: 0.8532091\tbest: 0.8536186 (357)\ttotal: 35.1s\tremaining: 716ms\n",
      "392:\tlearn: 0.8682968\ttest: 0.8682968\ttest1: 0.8532091\tbest: 0.8536186 (357)\ttotal: 35.2s\tremaining: 627ms\n",
      "393:\tlearn: 0.8683289\ttest: 0.8683289\ttest1: 0.8532091\tbest: 0.8536186 (357)\ttotal: 35.2s\tremaining: 537ms\n",
      "394:\tlearn: 0.8686823\ttest: 0.8686823\ttest1: 0.8533115\tbest: 0.8536186 (357)\ttotal: 35.3s\tremaining: 447ms\n",
      "395:\tlearn: 0.8686502\ttest: 0.8686502\ttest1: 0.8533115\tbest: 0.8536186 (357)\ttotal: 35.4s\tremaining: 357ms\n",
      "396:\tlearn: 0.8685859\ttest: 0.8685859\ttest1: 0.8533115\tbest: 0.8536186 (357)\ttotal: 35.4s\tremaining: 268ms\n",
      "397:\tlearn: 0.8685538\ttest: 0.8685538\ttest1: 0.8533115\tbest: 0.8536186 (357)\ttotal: 35.5s\tremaining: 178ms\n",
      "Stopped by overfitting detector  (40 iterations wait)\n",
      "\n",
      "bestTest = 0.8536185894\n",
      "bestIteration = 357\n",
      "\n",
      "Shrink model to first 358 iterations.\n"
     ]
    },
    {
     "data": {
      "text/plain": [
       "<catboost.core.CatBoostClassifier at 0x1a2d1e9358>"
      ]
     },
     "execution_count": 151,
     "metadata": {},
     "output_type": "execute_result"
    }
   ],
   "source": [
    "catb_ros.fit(X_resampled,y_resampled,eval_set=[(X_resampled,y_resampled), (X_test,y_test)],early_stopping_rounds=40)"
   ]
  },
  {
   "cell_type": "code",
   "execution_count": 152,
   "metadata": {},
   "outputs": [
    {
     "name": "stdout",
     "output_type": "stream",
     "text": [
      "Accuracy on test data: 85.361859%\n",
      "Accuracy on training data: 86.591910%\n",
      "Area under the ROC curve : 0.843451\n"
     ]
    }
   ],
   "source": [
    "print('Accuracy on test data: %f%%' % (metrics.accuracy_score(y_test, catb_ros.predict(X_test))*100))\n",
    "print('Accuracy on training data: %f%%' % (metrics.accuracy_score(y_resampled, catb_ros.predict(X_resampled))*100))\n",
    "print('Area under the ROC curve : %f' % (metrics.roc_auc_score(y_test, catb_ros.predict(X_test))))"
   ]
  },
  {
   "cell_type": "markdown",
   "metadata": {},
   "source": [
    "### SMOTE"
   ]
  },
  {
   "cell_type": "code",
   "execution_count": 144,
   "metadata": {},
   "outputs": [],
   "source": [
    "from imblearn.over_sampling import SMOTE"
   ]
  },
  {
   "cell_type": "code",
   "execution_count": 145,
   "metadata": {},
   "outputs": [],
   "source": [
    "smt = SMOTE(random_state=10,sampling_strategy=0.7)\n",
    "X_train_smt, y_train_smt = smt.fit_sample(X_train, y_train)"
   ]
  },
  {
   "cell_type": "code",
   "execution_count": 146,
   "metadata": {},
   "outputs": [
    {
     "data": {
      "text/plain": [
       "0    17291\n",
       "1     5501\n",
       "Name: income, dtype: int64"
      ]
     },
     "execution_count": 146,
     "metadata": {},
     "output_type": "execute_result"
    }
   ],
   "source": [
    "y_train.value_counts()"
   ]
  },
  {
   "cell_type": "code",
   "execution_count": 147,
   "metadata": {},
   "outputs": [
    {
     "data": {
      "text/plain": [
       "array([17291, 12103])"
      ]
     },
     "execution_count": 147,
     "metadata": {},
     "output_type": "execute_result"
    }
   ],
   "source": [
    "np.bincount(y_train_smt)"
   ]
  },
  {
   "cell_type": "code",
   "execution_count": 153,
   "metadata": {},
   "outputs": [],
   "source": [
    "catb_smote = CatBoostClassifier(learning_rate=0.1,iterations=400,reg_lambda=2,verbose=1,random_seed=10,eval_metric='Accuracy')"
   ]
  },
  {
   "cell_type": "code",
   "execution_count": 154,
   "metadata": {},
   "outputs": [
    {
     "name": "stdout",
     "output_type": "stream",
     "text": [
      "0:\tlearn: 0.7904334\ttest: 0.7904334\ttest1: 0.8200430\tbest: 0.8200430 (0)\ttotal: 88.1ms\tremaining: 35.2s\n",
      "1:\tlearn: 0.7959788\ttest: 0.7959788\ttest1: 0.8298700\tbest: 0.8298700 (1)\ttotal: 155ms\tremaining: 30.8s\n",
      "2:\tlearn: 0.8081921\ttest: 0.8081921\ttest1: 0.8108302\tbest: 0.8298700 (1)\ttotal: 215ms\tremaining: 28.5s\n",
      "3:\tlearn: 0.8081581\ttest: 0.8081581\ttest1: 0.8088852\tbest: 0.8298700 (1)\ttotal: 281ms\tremaining: 27.8s\n",
      "4:\tlearn: 0.8137715\ttest: 0.8137715\ttest1: 0.8182004\tbest: 0.8298700 (1)\ttotal: 378ms\tremaining: 29.9s\n",
      "5:\tlearn: 0.8138055\ttest: 0.8138055\ttest1: 0.8178933\tbest: 0.8298700 (1)\ttotal: 439ms\tremaining: 28.8s\n",
      "6:\tlearn: 0.8161189\ttest: 0.8161189\ttest1: 0.8207595\tbest: 0.8298700 (1)\ttotal: 497ms\tremaining: 27.9s\n",
      "7:\tlearn: 0.8181942\ttest: 0.8181942\ttest1: 0.8215785\tbest: 0.8298700 (1)\ttotal: 557ms\tremaining: 27.3s\n",
      "8:\tlearn: 0.8228550\ttest: 0.8228550\ttest1: 0.8218856\tbest: 0.8298700 (1)\ttotal: 638ms\tremaining: 27.7s\n",
      "9:\tlearn: 0.8243179\ttest: 0.8243179\ttest1: 0.8227045\tbest: 0.8298700 (1)\ttotal: 695ms\tremaining: 27.1s\n",
      "10:\tlearn: 0.8245901\ttest: 0.8245901\ttest1: 0.8240352\tbest: 0.8298700 (1)\ttotal: 754ms\tremaining: 26.7s\n",
      "11:\tlearn: 0.8290808\ttest: 0.8290808\ttest1: 0.8253660\tbest: 0.8298700 (1)\ttotal: 809ms\tremaining: 26.2s\n",
      "12:\tlearn: 0.8310540\ttest: 0.8310540\ttest1: 0.8303818\tbest: 0.8303818 (12)\ttotal: 906ms\tremaining: 27s\n",
      "13:\tlearn: 0.8331973\ttest: 0.8331973\ttest1: 0.8324291\tbest: 0.8324291 (13)\ttotal: 1.08s\tremaining: 29.8s\n",
      "14:\tlearn: 0.8349663\ttest: 0.8349663\ttest1: 0.8328386\tbest: 0.8328386 (14)\ttotal: 1.25s\tremaining: 32.1s\n",
      "15:\tlearn: 0.8355447\ttest: 0.8355447\ttest1: 0.8326338\tbest: 0.8328386 (14)\ttotal: 1.31s\tremaining: 31.4s\n",
      "16:\tlearn: 0.8376880\ttest: 0.8376880\ttest1: 0.8344764\tbest: 0.8344764 (16)\ttotal: 1.42s\tremaining: 32s\n",
      "17:\tlearn: 0.8384024\ttest: 0.8384024\ttest1: 0.8356024\tbest: 0.8356024 (17)\ttotal: 1.66s\tremaining: 35.3s\n",
      "18:\tlearn: 0.8402055\ttest: 0.8402055\ttest1: 0.8358071\tbest: 0.8358071 (18)\ttotal: 1.84s\tremaining: 36.9s\n",
      "19:\tlearn: 0.8427230\ttest: 0.8427230\ttest1: 0.8347835\tbest: 0.8358071 (18)\ttotal: 2.02s\tremaining: 38.4s\n",
      "20:\tlearn: 0.8427910\ttest: 0.8427910\ttest1: 0.8344764\tbest: 0.8358071 (18)\ttotal: 2.2s\tremaining: 39.7s\n",
      "21:\tlearn: 0.8433694\ttest: 0.8433694\ttest1: 0.8350906\tbest: 0.8358071 (18)\ttotal: 2.46s\tremaining: 42.4s\n",
      "22:\tlearn: 0.8442199\ttest: 0.8442199\ttest1: 0.8371379\tbest: 0.8371379 (22)\ttotal: 2.65s\tremaining: 43.5s\n",
      "23:\tlearn: 0.8445261\ttest: 0.8445261\ttest1: 0.8373426\tbest: 0.8373426 (23)\ttotal: 2.83s\tremaining: 44.4s\n",
      "24:\tlearn: 0.8453086\ttest: 0.8453086\ttest1: 0.8372402\tbest: 0.8373426 (23)\ttotal: 3.01s\tremaining: 45.1s\n",
      "25:\tlearn: 0.8467714\ttest: 0.8467714\ttest1: 0.8376497\tbest: 0.8376497 (25)\ttotal: 3.11s\tremaining: 44.7s\n",
      "26:\tlearn: 0.8460910\ttest: 0.8460910\ttest1: 0.8386734\tbest: 0.8386734 (26)\ttotal: 3.18s\tremaining: 43.9s\n",
      "27:\tlearn: 0.8468735\ttest: 0.8468735\ttest1: 0.8386734\tbest: 0.8386734 (26)\ttotal: 3.3s\tremaining: 43.8s\n",
      "28:\tlearn: 0.8475539\ttest: 0.8475539\ttest1: 0.8378544\tbest: 0.8386734 (26)\ttotal: 3.4s\tremaining: 43.5s\n",
      "29:\tlearn: 0.8480302\ttest: 0.8480302\ttest1: 0.8379568\tbest: 0.8386734 (26)\ttotal: 3.5s\tremaining: 43.2s\n",
      "30:\tlearn: 0.8482343\ttest: 0.8482343\ttest1: 0.8390828\tbest: 0.8390828 (30)\ttotal: 3.59s\tremaining: 42.7s\n",
      "31:\tlearn: 0.8494931\ttest: 0.8494931\ttest1: 0.8388781\tbest: 0.8390828 (30)\ttotal: 3.67s\tremaining: 42.2s\n",
      "32:\tlearn: 0.8504116\ttest: 0.8504116\ttest1: 0.8390828\tbest: 0.8390828 (30)\ttotal: 3.75s\tremaining: 41.6s\n",
      "33:\tlearn: 0.8515003\ttest: 0.8515003\ttest1: 0.8400041\tbest: 0.8400041 (33)\ttotal: 3.81s\tremaining: 41s\n",
      "34:\tlearn: 0.8513642\ttest: 0.8513642\ttest1: 0.8405159\tbest: 0.8405159 (34)\ttotal: 3.87s\tremaining: 40.3s\n",
      "35:\tlearn: 0.8517385\ttest: 0.8517385\ttest1: 0.8407206\tbest: 0.8407206 (35)\ttotal: 3.99s\tremaining: 40.4s\n",
      "36:\tlearn: 0.8521467\ttest: 0.8521467\ttest1: 0.8412325\tbest: 0.8412325 (36)\ttotal: 4.05s\tremaining: 39.7s\n",
      "37:\tlearn: 0.8519086\ttest: 0.8519086\ttest1: 0.8421538\tbest: 0.8421538 (37)\ttotal: 4.11s\tremaining: 39.2s\n",
      "38:\tlearn: 0.8515683\ttest: 0.8515683\ttest1: 0.8423585\tbest: 0.8423585 (38)\ttotal: 4.17s\tremaining: 38.6s\n",
      "39:\tlearn: 0.8524869\ttest: 0.8524869\ttest1: 0.8435869\tbest: 0.8435869 (39)\ttotal: 4.25s\tremaining: 38.2s\n",
      "40:\tlearn: 0.8524869\ttest: 0.8524869\ttest1: 0.8436892\tbest: 0.8436892 (40)\ttotal: 4.31s\tremaining: 37.7s\n",
      "41:\tlearn: 0.8530312\ttest: 0.8530312\ttest1: 0.8434845\tbest: 0.8436892 (40)\ttotal: 4.37s\tremaining: 37.2s\n",
      "42:\tlearn: 0.8537457\ttest: 0.8537457\ttest1: 0.8434845\tbest: 0.8436892 (40)\ttotal: 4.42s\tremaining: 36.7s\n",
      "43:\tlearn: 0.8537457\ttest: 0.8537457\ttest1: 0.8434845\tbest: 0.8436892 (40)\ttotal: 4.51s\tremaining: 36.5s\n",
      "44:\tlearn: 0.8543580\ttest: 0.8543580\ttest1: 0.8439963\tbest: 0.8439963 (44)\ttotal: 4.59s\tremaining: 36.2s\n",
      "45:\tlearn: 0.8543580\ttest: 0.8543580\ttest1: 0.8433821\tbest: 0.8439963 (44)\ttotal: 4.65s\tremaining: 35.8s\n",
      "46:\tlearn: 0.8551745\ttest: 0.8551745\ttest1: 0.8437916\tbest: 0.8439963 (44)\ttotal: 4.71s\tremaining: 35.4s\n",
      "47:\tlearn: 0.8554127\ttest: 0.8554127\ttest1: 0.8429727\tbest: 0.8439963 (44)\ttotal: 4.8s\tremaining: 35.2s\n",
      "48:\tlearn: 0.8562292\ttest: 0.8562292\ttest1: 0.8430750\tbest: 0.8439963 (44)\ttotal: 4.86s\tremaining: 34.8s\n",
      "49:\tlearn: 0.8565353\ttest: 0.8565353\ttest1: 0.8437916\tbest: 0.8439963 (44)\ttotal: 4.92s\tremaining: 34.4s\n",
      "50:\tlearn: 0.8563312\ttest: 0.8563312\ttest1: 0.8436892\tbest: 0.8439963 (44)\ttotal: 4.98s\tremaining: 34.1s\n",
      "51:\tlearn: 0.8565013\ttest: 0.8565013\ttest1: 0.8446105\tbest: 0.8446105 (51)\ttotal: 5.09s\tremaining: 34.1s\n",
      "52:\tlearn: 0.8570116\ttest: 0.8570116\ttest1: 0.8447129\tbest: 0.8447129 (52)\ttotal: 5.15s\tremaining: 33.7s\n",
      "53:\tlearn: 0.8575900\ttest: 0.8575900\ttest1: 0.8450200\tbest: 0.8450200 (53)\ttotal: 5.22s\tremaining: 33.4s\n",
      "54:\tlearn: 0.8574879\ttest: 0.8574879\ttest1: 0.8449176\tbest: 0.8450200 (53)\ttotal: 5.28s\tremaining: 33.1s\n",
      "55:\tlearn: 0.8577261\ttest: 0.8577261\ttest1: 0.8451223\tbest: 0.8451223 (55)\ttotal: 5.38s\tremaining: 33.1s\n",
      "56:\tlearn: 0.8581003\ttest: 0.8581003\ttest1: 0.8456341\tbest: 0.8456341 (56)\ttotal: 5.45s\tremaining: 32.8s\n",
      "57:\tlearn: 0.8589168\ttest: 0.8589168\ttest1: 0.8454294\tbest: 0.8456341 (56)\ttotal: 5.58s\tremaining: 32.9s\n",
      "58:\tlearn: 0.8589508\ttest: 0.8589508\ttest1: 0.8456341\tbest: 0.8456341 (56)\ttotal: 5.71s\tremaining: 33s\n",
      "59:\tlearn: 0.8595632\ttest: 0.8595632\ttest1: 0.8455318\tbest: 0.8456341 (56)\ttotal: 5.82s\tremaining: 33s\n",
      "60:\tlearn: 0.8594611\ttest: 0.8594611\ttest1: 0.8463507\tbest: 0.8463507 (60)\ttotal: 5.96s\tremaining: 33.1s\n",
      "61:\tlearn: 0.8592910\ttest: 0.8592910\ttest1: 0.8463507\tbest: 0.8463507 (60)\ttotal: 6.02s\tremaining: 32.8s\n",
      "62:\tlearn: 0.8593591\ttest: 0.8593591\ttest1: 0.8461460\tbest: 0.8463507 (60)\ttotal: 6.24s\tremaining: 33.4s\n",
      "63:\tlearn: 0.8599374\ttest: 0.8599374\ttest1: 0.8471696\tbest: 0.8471696 (63)\ttotal: 6.52s\tremaining: 34.2s\n",
      "64:\tlearn: 0.8599374\ttest: 0.8599374\ttest1: 0.8472720\tbest: 0.8472720 (64)\ttotal: 6.6s\tremaining: 34s\n",
      "65:\tlearn: 0.8606518\ttest: 0.8606518\ttest1: 0.8471696\tbest: 0.8472720 (64)\ttotal: 6.7s\tremaining: 33.9s\n",
      "66:\tlearn: 0.8602096\ttest: 0.8602096\ttest1: 0.8468625\tbest: 0.8472720 (64)\ttotal: 6.8s\tremaining: 33.8s\n",
      "67:\tlearn: 0.8601755\ttest: 0.8601755\ttest1: 0.8472720\tbest: 0.8472720 (64)\ttotal: 6.87s\tremaining: 33.5s\n",
      "68:\tlearn: 0.8601755\ttest: 0.8601755\ttest1: 0.8468625\tbest: 0.8472720 (64)\ttotal: 6.95s\tremaining: 33.3s\n",
      "69:\tlearn: 0.8602776\ttest: 0.8602776\ttest1: 0.8468625\tbest: 0.8472720 (64)\ttotal: 7.06s\tremaining: 33.3s\n",
      "70:\tlearn: 0.8615023\ttest: 0.8615023\ttest1: 0.8468625\tbest: 0.8472720 (64)\ttotal: 7.14s\tremaining: 33.1s\n",
      "71:\tlearn: 0.8618766\ttest: 0.8618766\ttest1: 0.8473743\tbest: 0.8473743 (71)\ttotal: 7.2s\tremaining: 32.8s\n",
      "72:\tlearn: 0.8617405\ttest: 0.8617405\ttest1: 0.8472720\tbest: 0.8473743 (71)\ttotal: 7.24s\tremaining: 32.5s\n",
      "73:\tlearn: 0.8625910\ttest: 0.8625910\ttest1: 0.8486027\tbest: 0.8486027 (73)\ttotal: 7.33s\tremaining: 32.3s\n",
      "74:\tlearn: 0.8628632\ttest: 0.8628632\ttest1: 0.8487051\tbest: 0.8487051 (74)\ttotal: 7.39s\tremaining: 32s\n",
      "75:\tlearn: 0.8630673\ttest: 0.8630673\ttest1: 0.8487051\tbest: 0.8487051 (74)\ttotal: 7.45s\tremaining: 31.8s\n",
      "76:\tlearn: 0.8632374\ttest: 0.8632374\ttest1: 0.8485004\tbest: 0.8487051 (74)\ttotal: 7.5s\tremaining: 31.5s\n",
      "77:\tlearn: 0.8632714\ttest: 0.8632714\ttest1: 0.8498311\tbest: 0.8498311 (77)\ttotal: 7.57s\tremaining: 31.3s\n",
      "78:\tlearn: 0.8633054\ttest: 0.8633054\ttest1: 0.8497287\tbest: 0.8498311 (77)\ttotal: 7.63s\tremaining: 31s\n",
      "79:\tlearn: 0.8637817\ttest: 0.8637817\ttest1: 0.8495240\tbest: 0.8498311 (77)\ttotal: 7.69s\tremaining: 30.8s\n",
      "80:\tlearn: 0.8643601\ttest: 0.8643601\ttest1: 0.8498311\tbest: 0.8498311 (77)\ttotal: 7.75s\tremaining: 30.5s\n"
     ]
    },
    {
     "name": "stdout",
     "output_type": "stream",
     "text": [
      "81:\tlearn: 0.8646322\ttest: 0.8646322\ttest1: 0.8500358\tbest: 0.8500358 (81)\ttotal: 7.83s\tremaining: 30.4s\n",
      "82:\tlearn: 0.8646322\ttest: 0.8646322\ttest1: 0.8500358\tbest: 0.8500358 (81)\ttotal: 7.92s\tremaining: 30.2s\n",
      "83:\tlearn: 0.8651085\ttest: 0.8651085\ttest1: 0.8499335\tbest: 0.8500358 (81)\ttotal: 8.01s\tremaining: 30.1s\n",
      "84:\tlearn: 0.8649044\ttest: 0.8649044\ttest1: 0.8496264\tbest: 0.8500358 (81)\ttotal: 8.11s\tremaining: 30.1s\n",
      "85:\tlearn: 0.8658230\ttest: 0.8658230\ttest1: 0.8495240\tbest: 0.8500358 (81)\ttotal: 8.18s\tremaining: 29.9s\n",
      "86:\tlearn: 0.8662652\ttest: 0.8662652\ttest1: 0.8494216\tbest: 0.8500358 (81)\ttotal: 8.29s\tremaining: 29.8s\n",
      "87:\tlearn: 0.8661972\ttest: 0.8661972\ttest1: 0.8494216\tbest: 0.8500358 (81)\ttotal: 8.43s\tremaining: 29.9s\n",
      "88:\tlearn: 0.8663673\ttest: 0.8663673\ttest1: 0.8494216\tbest: 0.8500358 (81)\ttotal: 8.52s\tremaining: 29.8s\n",
      "89:\tlearn: 0.8660951\ttest: 0.8660951\ttest1: 0.8492169\tbest: 0.8500358 (81)\ttotal: 8.61s\tremaining: 29.7s\n",
      "90:\tlearn: 0.8665374\ttest: 0.8665374\ttest1: 0.8493193\tbest: 0.8500358 (81)\ttotal: 8.73s\tremaining: 29.7s\n",
      "91:\tlearn: 0.8670477\ttest: 0.8670477\ttest1: 0.8499335\tbest: 0.8500358 (81)\ttotal: 8.83s\tremaining: 29.6s\n",
      "92:\tlearn: 0.8682384\ttest: 0.8682384\ttest1: 0.8513666\tbest: 0.8513666 (92)\ttotal: 8.93s\tremaining: 29.5s\n",
      "93:\tlearn: 0.8682724\ttest: 0.8682724\ttest1: 0.8522878\tbest: 0.8522878 (93)\ttotal: 9.02s\tremaining: 29.4s\n",
      "94:\tlearn: 0.8681704\ttest: 0.8681704\ttest1: 0.8526973\tbest: 0.8526973 (94)\ttotal: 9.17s\tremaining: 29.4s\n",
      "95:\tlearn: 0.8682044\ttest: 0.8682044\ttest1: 0.8523902\tbest: 0.8526973 (94)\ttotal: 9.34s\tremaining: 29.6s\n",
      "96:\tlearn: 0.8681704\ttest: 0.8681704\ttest1: 0.8523902\tbest: 0.8526973 (94)\ttotal: 9.42s\tremaining: 29.4s\n",
      "97:\tlearn: 0.8685786\ttest: 0.8685786\ttest1: 0.8526973\tbest: 0.8526973 (94)\ttotal: 9.53s\tremaining: 29.4s\n",
      "98:\tlearn: 0.8688848\ttest: 0.8688848\ttest1: 0.8533115\tbest: 0.8533115 (98)\ttotal: 9.64s\tremaining: 29.3s\n",
      "99:\tlearn: 0.8690889\ttest: 0.8690889\ttest1: 0.8530044\tbest: 0.8533115 (98)\ttotal: 9.7s\tremaining: 29.1s\n",
      "100:\tlearn: 0.8689869\ttest: 0.8689869\ttest1: 0.8532091\tbest: 0.8533115 (98)\ttotal: 9.75s\tremaining: 28.9s\n",
      "101:\tlearn: 0.8691570\ttest: 0.8691570\ttest1: 0.8526973\tbest: 0.8533115 (98)\ttotal: 9.81s\tremaining: 28.6s\n",
      "102:\tlearn: 0.8693951\ttest: 0.8693951\ttest1: 0.8532091\tbest: 0.8533115 (98)\ttotal: 9.87s\tremaining: 28.5s\n",
      "103:\tlearn: 0.8692590\ttest: 0.8692590\ttest1: 0.8532091\tbest: 0.8533115 (98)\ttotal: 9.93s\tremaining: 28.3s\n",
      "104:\tlearn: 0.8690549\ttest: 0.8690549\ttest1: 0.8529020\tbest: 0.8533115 (98)\ttotal: 10s\tremaining: 28.1s\n",
      "105:\tlearn: 0.8698034\ttest: 0.8698034\ttest1: 0.8526973\tbest: 0.8533115 (98)\ttotal: 10.1s\tremaining: 27.9s\n",
      "106:\tlearn: 0.8701436\ttest: 0.8701436\ttest1: 0.8524926\tbest: 0.8533115 (98)\ttotal: 10.1s\tremaining: 27.8s\n",
      "107:\tlearn: 0.8702796\ttest: 0.8702796\ttest1: 0.8524926\tbest: 0.8533115 (98)\ttotal: 10.2s\tremaining: 27.6s\n",
      "108:\tlearn: 0.8709601\ttest: 0.8709601\ttest1: 0.8525949\tbest: 0.8533115 (98)\ttotal: 10.3s\tremaining: 27.5s\n",
      "109:\tlearn: 0.8711642\ttest: 0.8711642\ttest1: 0.8526973\tbest: 0.8533115 (98)\ttotal: 10.4s\tremaining: 27.4s\n",
      "110:\tlearn: 0.8710281\ttest: 0.8710281\ttest1: 0.8527997\tbest: 0.8533115 (98)\ttotal: 10.5s\tremaining: 27.3s\n",
      "111:\tlearn: 0.8706539\ttest: 0.8706539\ttest1: 0.8531068\tbest: 0.8533115 (98)\ttotal: 10.6s\tremaining: 27.2s\n",
      "112:\tlearn: 0.8708580\ttest: 0.8708580\ttest1: 0.8533115\tbest: 0.8533115 (98)\ttotal: 10.7s\tremaining: 27.1s\n",
      "113:\tlearn: 0.8709601\ttest: 0.8709601\ttest1: 0.8533115\tbest: 0.8533115 (98)\ttotal: 10.8s\tremaining: 27s\n",
      "114:\tlearn: 0.8709601\ttest: 0.8709601\ttest1: 0.8533115\tbest: 0.8533115 (98)\ttotal: 10.8s\tremaining: 26.8s\n",
      "115:\tlearn: 0.8710961\ttest: 0.8710961\ttest1: 0.8527997\tbest: 0.8533115 (98)\ttotal: 10.9s\tremaining: 26.6s\n",
      "116:\tlearn: 0.8718106\ttest: 0.8718106\ttest1: 0.8530044\tbest: 0.8533115 (98)\ttotal: 10.9s\tremaining: 26.5s\n",
      "117:\tlearn: 0.8716745\ttest: 0.8716745\ttest1: 0.8531068\tbest: 0.8533115 (98)\ttotal: 11s\tremaining: 26.3s\n",
      "118:\tlearn: 0.8717425\ttest: 0.8717425\ttest1: 0.8533115\tbest: 0.8533115 (98)\ttotal: 11.1s\tremaining: 26.1s\n",
      "119:\tlearn: 0.8716405\ttest: 0.8716405\ttest1: 0.8534139\tbest: 0.8534139 (119)\ttotal: 11.1s\tremaining: 26s\n",
      "120:\tlearn: 0.8717085\ttest: 0.8717085\ttest1: 0.8534139\tbest: 0.8534139 (119)\ttotal: 11.2s\tremaining: 25.9s\n",
      "121:\tlearn: 0.8718446\ttest: 0.8718446\ttest1: 0.8531068\tbest: 0.8534139 (119)\ttotal: 11.3s\tremaining: 25.7s\n",
      "122:\tlearn: 0.8724229\ttest: 0.8724229\ttest1: 0.8532091\tbest: 0.8534139 (119)\ttotal: 11.4s\tremaining: 25.6s\n",
      "123:\tlearn: 0.8726271\ttest: 0.8726271\ttest1: 0.8535162\tbest: 0.8535162 (123)\ttotal: 11.4s\tremaining: 25.4s\n",
      "124:\tlearn: 0.8727631\ttest: 0.8727631\ttest1: 0.8534139\tbest: 0.8535162 (123)\ttotal: 11.5s\tremaining: 25.3s\n",
      "125:\tlearn: 0.8725930\ttest: 0.8725930\ttest1: 0.8533115\tbest: 0.8535162 (123)\ttotal: 11.6s\tremaining: 25.1s\n",
      "126:\tlearn: 0.8731374\ttest: 0.8731374\ttest1: 0.8535162\tbest: 0.8535162 (123)\ttotal: 11.6s\tremaining: 25s\n",
      "127:\tlearn: 0.8734095\ttest: 0.8734095\ttest1: 0.8537210\tbest: 0.8537210 (127)\ttotal: 11.7s\tremaining: 24.9s\n",
      "128:\tlearn: 0.8739198\ttest: 0.8739198\ttest1: 0.8538233\tbest: 0.8538233 (128)\ttotal: 11.8s\tremaining: 24.8s\n",
      "129:\tlearn: 0.8742601\ttest: 0.8742601\ttest1: 0.8537210\tbest: 0.8538233 (128)\ttotal: 11.9s\tremaining: 24.8s\n",
      "130:\tlearn: 0.8743621\ttest: 0.8743621\ttest1: 0.8534139\tbest: 0.8538233 (128)\ttotal: 12s\tremaining: 24.6s\n",
      "131:\tlearn: 0.8743961\ttest: 0.8743961\ttest1: 0.8534139\tbest: 0.8538233 (128)\ttotal: 12.1s\tremaining: 24.5s\n",
      "132:\tlearn: 0.8746343\ttest: 0.8746343\ttest1: 0.8535162\tbest: 0.8538233 (128)\ttotal: 12.1s\tremaining: 24.3s\n",
      "133:\tlearn: 0.8744642\ttest: 0.8744642\ttest1: 0.8532091\tbest: 0.8538233 (128)\ttotal: 12.2s\tremaining: 24.2s\n",
      "134:\tlearn: 0.8742601\ttest: 0.8742601\ttest1: 0.8538233\tbest: 0.8538233 (128)\ttotal: 12.3s\tremaining: 24.1s\n",
      "135:\tlearn: 0.8747023\ttest: 0.8747023\ttest1: 0.8537210\tbest: 0.8538233 (128)\ttotal: 12.4s\tremaining: 24.1s\n",
      "136:\tlearn: 0.8746003\ttest: 0.8746003\ttest1: 0.8539257\tbest: 0.8539257 (136)\ttotal: 12.5s\tremaining: 24s\n",
      "137:\tlearn: 0.8745322\ttest: 0.8745322\ttest1: 0.8540280\tbest: 0.8540280 (137)\ttotal: 12.6s\tremaining: 23.9s\n",
      "138:\tlearn: 0.8746003\ttest: 0.8746003\ttest1: 0.8538233\tbest: 0.8540280 (137)\ttotal: 12.6s\tremaining: 23.7s\n",
      "139:\tlearn: 0.8749064\ttest: 0.8749064\ttest1: 0.8539257\tbest: 0.8540280 (137)\ttotal: 12.7s\tremaining: 23.6s\n",
      "140:\tlearn: 0.8748724\ttest: 0.8748724\ttest1: 0.8540280\tbest: 0.8540280 (137)\ttotal: 12.8s\tremaining: 23.6s\n",
      "141:\tlearn: 0.8754848\ttest: 0.8754848\ttest1: 0.8541304\tbest: 0.8541304 (141)\ttotal: 13s\tremaining: 23.7s\n",
      "142:\tlearn: 0.8756889\ttest: 0.8756889\ttest1: 0.8537210\tbest: 0.8541304 (141)\ttotal: 13.2s\tremaining: 23.7s\n",
      "143:\tlearn: 0.8757570\ttest: 0.8757570\ttest1: 0.8534139\tbest: 0.8541304 (141)\ttotal: 13.2s\tremaining: 23.5s\n",
      "144:\tlearn: 0.8760291\ttest: 0.8760291\ttest1: 0.8535162\tbest: 0.8541304 (141)\ttotal: 13.3s\tremaining: 23.4s\n",
      "145:\tlearn: 0.8762673\ttest: 0.8762673\ttest1: 0.8536186\tbest: 0.8541304 (141)\ttotal: 13.3s\tremaining: 23.2s\n",
      "146:\tlearn: 0.8760631\ttest: 0.8760631\ttest1: 0.8535162\tbest: 0.8541304 (141)\ttotal: 13.4s\tremaining: 23.1s\n",
      "147:\tlearn: 0.8760972\ttest: 0.8760972\ttest1: 0.8534139\tbest: 0.8541304 (141)\ttotal: 13.5s\tremaining: 23s\n",
      "148:\tlearn: 0.8761652\ttest: 0.8761652\ttest1: 0.8536186\tbest: 0.8541304 (141)\ttotal: 13.5s\tremaining: 22.8s\n",
      "149:\tlearn: 0.8760631\ttest: 0.8760631\ttest1: 0.8535162\tbest: 0.8541304 (141)\ttotal: 13.6s\tremaining: 22.7s\n",
      "150:\tlearn: 0.8760972\ttest: 0.8760972\ttest1: 0.8536186\tbest: 0.8541304 (141)\ttotal: 13.7s\tremaining: 22.6s\n",
      "151:\tlearn: 0.8765735\ttest: 0.8765735\ttest1: 0.8536186\tbest: 0.8541304 (141)\ttotal: 13.7s\tremaining: 22.4s\n",
      "152:\tlearn: 0.8764374\ttest: 0.8764374\ttest1: 0.8536186\tbest: 0.8541304 (141)\ttotal: 13.8s\tremaining: 22.3s\n",
      "153:\tlearn: 0.8763693\ttest: 0.8763693\ttest1: 0.8536186\tbest: 0.8541304 (141)\ttotal: 13.9s\tremaining: 22.1s\n",
      "154:\tlearn: 0.8771858\ttest: 0.8771858\ttest1: 0.8538233\tbest: 0.8541304 (141)\ttotal: 13.9s\tremaining: 22s\n",
      "155:\tlearn: 0.8770838\ttest: 0.8770838\ttest1: 0.8529020\tbest: 0.8541304 (141)\ttotal: 14s\tremaining: 21.9s\n",
      "156:\tlearn: 0.8770838\ttest: 0.8770838\ttest1: 0.8530044\tbest: 0.8541304 (141)\ttotal: 14.1s\tremaining: 21.8s\n",
      "157:\tlearn: 0.8771858\ttest: 0.8771858\ttest1: 0.8530044\tbest: 0.8541304 (141)\ttotal: 14.1s\tremaining: 21.6s\n",
      "158:\tlearn: 0.8771518\ttest: 0.8771518\ttest1: 0.8530044\tbest: 0.8541304 (141)\ttotal: 14.2s\tremaining: 21.5s\n",
      "159:\tlearn: 0.8770497\ttest: 0.8770497\ttest1: 0.8531068\tbest: 0.8541304 (141)\ttotal: 14.2s\tremaining: 21.4s\n",
      "160:\tlearn: 0.8772539\ttest: 0.8772539\ttest1: 0.8531068\tbest: 0.8541304 (141)\ttotal: 14.3s\tremaining: 21.2s\n",
      "161:\tlearn: 0.8768796\ttest: 0.8768796\ttest1: 0.8532091\tbest: 0.8541304 (141)\ttotal: 14.3s\tremaining: 21.1s\n"
     ]
    },
    {
     "name": "stdout",
     "output_type": "stream",
     "text": [
      "162:\tlearn: 0.8773219\ttest: 0.8773219\ttest1: 0.8536186\tbest: 0.8541304 (141)\ttotal: 14.4s\tremaining: 21s\n",
      "163:\tlearn: 0.8773559\ttest: 0.8773559\ttest1: 0.8538233\tbest: 0.8541304 (141)\ttotal: 14.5s\tremaining: 20.8s\n",
      "164:\tlearn: 0.8775941\ttest: 0.8775941\ttest1: 0.8542328\tbest: 0.8542328 (164)\ttotal: 14.5s\tremaining: 20.7s\n",
      "165:\tlearn: 0.8779003\ttest: 0.8779003\ttest1: 0.8541304\tbest: 0.8542328 (164)\ttotal: 14.6s\tremaining: 20.6s\n",
      "166:\tlearn: 0.8780363\ttest: 0.8780363\ttest1: 0.8543351\tbest: 0.8543351 (166)\ttotal: 14.8s\tremaining: 20.7s\n",
      "167:\tlearn: 0.8782405\ttest: 0.8782405\ttest1: 0.8543351\tbest: 0.8543351 (166)\ttotal: 14.9s\tremaining: 20.6s\n",
      "168:\tlearn: 0.8780704\ttest: 0.8780704\ttest1: 0.8539257\tbest: 0.8543351 (166)\ttotal: 15s\tremaining: 20.5s\n",
      "169:\tlearn: 0.8782064\ttest: 0.8782064\ttest1: 0.8539257\tbest: 0.8543351 (166)\ttotal: 15.1s\tremaining: 20.4s\n",
      "170:\tlearn: 0.8782745\ttest: 0.8782745\ttest1: 0.8543351\tbest: 0.8543351 (166)\ttotal: 15.1s\tremaining: 20.2s\n",
      "171:\tlearn: 0.8783425\ttest: 0.8783425\ttest1: 0.8545399\tbest: 0.8545399 (171)\ttotal: 15.2s\tremaining: 20.1s\n",
      "172:\tlearn: 0.8785126\ttest: 0.8785126\ttest1: 0.8549493\tbest: 0.8549493 (172)\ttotal: 15.2s\tremaining: 20s\n",
      "173:\tlearn: 0.8787508\ttest: 0.8787508\ttest1: 0.8547446\tbest: 0.8549493 (172)\ttotal: 15.3s\tremaining: 19.9s\n",
      "174:\tlearn: 0.8785466\ttest: 0.8785466\ttest1: 0.8550517\tbest: 0.8550517 (174)\ttotal: 15.4s\tremaining: 19.8s\n",
      "175:\tlearn: 0.8786827\ttest: 0.8786827\ttest1: 0.8553588\tbest: 0.8553588 (175)\ttotal: 15.4s\tremaining: 19.7s\n",
      "176:\tlearn: 0.8790570\ttest: 0.8790570\ttest1: 0.8553588\tbest: 0.8553588 (175)\ttotal: 15.5s\tremaining: 19.5s\n",
      "177:\tlearn: 0.8789889\ttest: 0.8789889\ttest1: 0.8551541\tbest: 0.8553588 (175)\ttotal: 15.6s\tremaining: 19.4s\n",
      "178:\tlearn: 0.8793291\ttest: 0.8793291\ttest1: 0.8554612\tbest: 0.8554612 (178)\ttotal: 15.6s\tremaining: 19.3s\n",
      "179:\tlearn: 0.8794652\ttest: 0.8794652\ttest1: 0.8553588\tbest: 0.8554612 (178)\ttotal: 15.7s\tremaining: 19.2s\n",
      "180:\tlearn: 0.8792271\ttest: 0.8792271\ttest1: 0.8554612\tbest: 0.8554612 (178)\ttotal: 15.8s\tremaining: 19.1s\n",
      "181:\tlearn: 0.8792611\ttest: 0.8792611\ttest1: 0.8554612\tbest: 0.8554612 (178)\ttotal: 15.8s\tremaining: 18.9s\n",
      "182:\tlearn: 0.8792611\ttest: 0.8792611\ttest1: 0.8556659\tbest: 0.8556659 (182)\ttotal: 15.9s\tremaining: 18.8s\n",
      "183:\tlearn: 0.8792271\ttest: 0.8792271\ttest1: 0.8558706\tbest: 0.8558706 (183)\ttotal: 15.9s\tremaining: 18.7s\n",
      "184:\tlearn: 0.8792951\ttest: 0.8792951\ttest1: 0.8558706\tbest: 0.8558706 (183)\ttotal: 16s\tremaining: 18.6s\n",
      "185:\tlearn: 0.8792611\ttest: 0.8792611\ttest1: 0.8560753\tbest: 0.8560753 (185)\ttotal: 16.1s\tremaining: 18.5s\n",
      "186:\tlearn: 0.8792271\ttest: 0.8792271\ttest1: 0.8561777\tbest: 0.8561777 (186)\ttotal: 16.1s\tremaining: 18.4s\n",
      "187:\tlearn: 0.8796013\ttest: 0.8796013\ttest1: 0.8555635\tbest: 0.8561777 (186)\ttotal: 16.2s\tremaining: 18.2s\n",
      "188:\tlearn: 0.8796693\ttest: 0.8796693\ttest1: 0.8555635\tbest: 0.8561777 (186)\ttotal: 16.2s\tremaining: 18.1s\n",
      "189:\tlearn: 0.8798394\ttest: 0.8798394\ttest1: 0.8553588\tbest: 0.8561777 (186)\ttotal: 16.3s\tremaining: 18s\n",
      "190:\tlearn: 0.8798394\ttest: 0.8798394\ttest1: 0.8554612\tbest: 0.8561777 (186)\ttotal: 16.4s\tremaining: 17.9s\n",
      "191:\tlearn: 0.8795673\ttest: 0.8795673\ttest1: 0.8553588\tbest: 0.8561777 (186)\ttotal: 16.4s\tremaining: 17.8s\n",
      "192:\tlearn: 0.8797714\ttest: 0.8797714\ttest1: 0.8558706\tbest: 0.8561777 (186)\ttotal: 16.5s\tremaining: 17.7s\n",
      "193:\tlearn: 0.8798394\ttest: 0.8798394\ttest1: 0.8557682\tbest: 0.8561777 (186)\ttotal: 16.6s\tremaining: 17.6s\n",
      "194:\tlearn: 0.8799075\ttest: 0.8799075\ttest1: 0.8557682\tbest: 0.8561777 (186)\ttotal: 16.7s\tremaining: 17.5s\n",
      "195:\tlearn: 0.8798734\ttest: 0.8798734\ttest1: 0.8560753\tbest: 0.8561777 (186)\ttotal: 16.8s\tremaining: 17.5s\n",
      "196:\tlearn: 0.8800095\ttest: 0.8800095\ttest1: 0.8561777\tbest: 0.8561777 (186)\ttotal: 16.9s\tremaining: 17.4s\n",
      "197:\tlearn: 0.8804518\ttest: 0.8804518\ttest1: 0.8562801\tbest: 0.8562801 (197)\ttotal: 17s\tremaining: 17.3s\n",
      "198:\tlearn: 0.8804518\ttest: 0.8804518\ttest1: 0.8561777\tbest: 0.8562801 (197)\ttotal: 17.1s\tremaining: 17.2s\n",
      "199:\tlearn: 0.8805539\ttest: 0.8805539\ttest1: 0.8562801\tbest: 0.8562801 (197)\ttotal: 17.1s\tremaining: 17.1s\n",
      "200:\tlearn: 0.8802817\ttest: 0.8802817\ttest1: 0.8558706\tbest: 0.8562801 (197)\ttotal: 17.2s\tremaining: 17.1s\n",
      "201:\tlearn: 0.8807580\ttest: 0.8807580\ttest1: 0.8561777\tbest: 0.8562801 (197)\ttotal: 17.3s\tremaining: 17s\n",
      "202:\tlearn: 0.8806899\ttest: 0.8806899\ttest1: 0.8561777\tbest: 0.8562801 (197)\ttotal: 17.3s\tremaining: 16.8s\n",
      "203:\tlearn: 0.8805539\ttest: 0.8805539\ttest1: 0.8556659\tbest: 0.8562801 (197)\ttotal: 17.4s\tremaining: 16.7s\n",
      "204:\tlearn: 0.8804858\ttest: 0.8804858\ttest1: 0.8554612\tbest: 0.8562801 (197)\ttotal: 17.5s\tremaining: 16.6s\n",
      "205:\tlearn: 0.8805539\ttest: 0.8805539\ttest1: 0.8556659\tbest: 0.8562801 (197)\ttotal: 17.5s\tremaining: 16.5s\n",
      "206:\tlearn: 0.8806899\ttest: 0.8806899\ttest1: 0.8560753\tbest: 0.8562801 (197)\ttotal: 17.6s\tremaining: 16.4s\n",
      "207:\tlearn: 0.8806219\ttest: 0.8806219\ttest1: 0.8561777\tbest: 0.8562801 (197)\ttotal: 17.6s\tremaining: 16.3s\n",
      "208:\tlearn: 0.8807920\ttest: 0.8807920\ttest1: 0.8564848\tbest: 0.8564848 (208)\ttotal: 17.7s\tremaining: 16.2s\n",
      "209:\tlearn: 0.8809281\ttest: 0.8809281\ttest1: 0.8562801\tbest: 0.8564848 (208)\ttotal: 17.8s\tremaining: 16.1s\n",
      "210:\tlearn: 0.8809281\ttest: 0.8809281\ttest1: 0.8561777\tbest: 0.8564848 (208)\ttotal: 17.8s\tremaining: 16s\n",
      "211:\tlearn: 0.8812343\ttest: 0.8812343\ttest1: 0.8560753\tbest: 0.8564848 (208)\ttotal: 17.9s\tremaining: 15.8s\n",
      "212:\tlearn: 0.8812343\ttest: 0.8812343\ttest1: 0.8563824\tbest: 0.8564848 (208)\ttotal: 17.9s\tremaining: 15.7s\n",
      "213:\tlearn: 0.8812683\ttest: 0.8812683\ttest1: 0.8562801\tbest: 0.8564848 (208)\ttotal: 18s\tremaining: 15.6s\n",
      "214:\tlearn: 0.8813023\ttest: 0.8813023\ttest1: 0.8563824\tbest: 0.8564848 (208)\ttotal: 18s\tremaining: 15.5s\n",
      "215:\tlearn: 0.8812002\ttest: 0.8812002\ttest1: 0.8561777\tbest: 0.8564848 (208)\ttotal: 18.1s\tremaining: 15.4s\n",
      "216:\tlearn: 0.8814044\ttest: 0.8814044\ttest1: 0.8564848\tbest: 0.8564848 (208)\ttotal: 18.2s\tremaining: 15.3s\n",
      "217:\tlearn: 0.8813023\ttest: 0.8813023\ttest1: 0.8563824\tbest: 0.8564848 (208)\ttotal: 18.2s\tremaining: 15.2s\n",
      "218:\tlearn: 0.8813023\ttest: 0.8813023\ttest1: 0.8563824\tbest: 0.8564848 (208)\ttotal: 18.3s\tremaining: 15.1s\n",
      "219:\tlearn: 0.8814044\ttest: 0.8814044\ttest1: 0.8563824\tbest: 0.8564848 (208)\ttotal: 18.3s\tremaining: 15s\n",
      "220:\tlearn: 0.8814044\ttest: 0.8814044\ttest1: 0.8563824\tbest: 0.8564848 (208)\ttotal: 18.4s\tremaining: 14.9s\n",
      "221:\tlearn: 0.8815745\ttest: 0.8815745\ttest1: 0.8563824\tbest: 0.8564848 (208)\ttotal: 18.4s\tremaining: 14.8s\n",
      "222:\tlearn: 0.8815405\ttest: 0.8815405\ttest1: 0.8565872\tbest: 0.8565872 (222)\ttotal: 18.5s\tremaining: 14.7s\n",
      "223:\tlearn: 0.8815745\ttest: 0.8815745\ttest1: 0.8567919\tbest: 0.8567919 (223)\ttotal: 18.6s\tremaining: 14.6s\n",
      "224:\tlearn: 0.8814724\ttest: 0.8814724\ttest1: 0.8569966\tbest: 0.8569966 (224)\ttotal: 18.7s\tremaining: 14.5s\n",
      "225:\tlearn: 0.8815064\ttest: 0.8815064\ttest1: 0.8568943\tbest: 0.8569966 (224)\ttotal: 18.7s\tremaining: 14.4s\n",
      "226:\tlearn: 0.8815405\ttest: 0.8815405\ttest1: 0.8569966\tbest: 0.8569966 (224)\ttotal: 18.8s\tremaining: 14.3s\n",
      "227:\tlearn: 0.8816765\ttest: 0.8816765\ttest1: 0.8570990\tbest: 0.8570990 (227)\ttotal: 18.8s\tremaining: 14.2s\n",
      "228:\tlearn: 0.8818466\ttest: 0.8818466\ttest1: 0.8561777\tbest: 0.8570990 (227)\ttotal: 18.9s\tremaining: 14.1s\n",
      "229:\tlearn: 0.8817786\ttest: 0.8817786\ttest1: 0.8563824\tbest: 0.8570990 (227)\ttotal: 18.9s\tremaining: 14s\n",
      "230:\tlearn: 0.8819147\ttest: 0.8819147\ttest1: 0.8562801\tbest: 0.8570990 (227)\ttotal: 19s\tremaining: 13.9s\n",
      "231:\tlearn: 0.8818807\ttest: 0.8818807\ttest1: 0.8560753\tbest: 0.8570990 (227)\ttotal: 19s\tremaining: 13.8s\n",
      "232:\tlearn: 0.8818807\ttest: 0.8818807\ttest1: 0.8562801\tbest: 0.8570990 (227)\ttotal: 19.1s\tremaining: 13.7s\n",
      "233:\tlearn: 0.8819827\ttest: 0.8819827\ttest1: 0.8563824\tbest: 0.8570990 (227)\ttotal: 19.2s\tremaining: 13.6s\n",
      "234:\tlearn: 0.8821188\ttest: 0.8821188\ttest1: 0.8569966\tbest: 0.8570990 (227)\ttotal: 19.2s\tremaining: 13.5s\n",
      "235:\tlearn: 0.8821188\ttest: 0.8821188\ttest1: 0.8573037\tbest: 0.8573037 (235)\ttotal: 19.3s\tremaining: 13.4s\n",
      "236:\tlearn: 0.8820848\ttest: 0.8820848\ttest1: 0.8573037\tbest: 0.8573037 (235)\ttotal: 19.3s\tremaining: 13.3s\n",
      "237:\tlearn: 0.8822209\ttest: 0.8822209\ttest1: 0.8574061\tbest: 0.8574061 (237)\ttotal: 19.4s\tremaining: 13.2s\n",
      "238:\tlearn: 0.8822209\ttest: 0.8822209\ttest1: 0.8573037\tbest: 0.8574061 (237)\ttotal: 19.4s\tremaining: 13.1s\n",
      "239:\tlearn: 0.8824250\ttest: 0.8824250\ttest1: 0.8570990\tbest: 0.8574061 (237)\ttotal: 19.5s\tremaining: 13s\n",
      "240:\tlearn: 0.8825611\ttest: 0.8825611\ttest1: 0.8569966\tbest: 0.8574061 (237)\ttotal: 19.6s\tremaining: 12.9s\n"
     ]
    },
    {
     "name": "stdout",
     "output_type": "stream",
     "text": [
      "241:\tlearn: 0.8830374\ttest: 0.8830374\ttest1: 0.8574061\tbest: 0.8574061 (237)\ttotal: 19.6s\tremaining: 12.8s\n",
      "242:\tlearn: 0.8830033\ttest: 0.8830033\ttest1: 0.8572014\tbest: 0.8574061 (237)\ttotal: 19.7s\tremaining: 12.7s\n",
      "243:\tlearn: 0.8830374\ttest: 0.8830374\ttest1: 0.8577132\tbest: 0.8577132 (243)\ttotal: 19.7s\tremaining: 12.6s\n",
      "244:\tlearn: 0.8829013\ttest: 0.8829013\ttest1: 0.8577132\tbest: 0.8577132 (243)\ttotal: 19.8s\tremaining: 12.5s\n",
      "245:\tlearn: 0.8830033\ttest: 0.8830033\ttest1: 0.8577132\tbest: 0.8577132 (243)\ttotal: 19.8s\tremaining: 12.4s\n",
      "246:\tlearn: 0.8832755\ttest: 0.8832755\ttest1: 0.8574061\tbest: 0.8577132 (243)\ttotal: 19.9s\tremaining: 12.3s\n",
      "247:\tlearn: 0.8831054\ttest: 0.8831054\ttest1: 0.8573037\tbest: 0.8577132 (243)\ttotal: 20s\tremaining: 12.2s\n",
      "248:\tlearn: 0.8830714\ttest: 0.8830714\ttest1: 0.8574061\tbest: 0.8577132 (243)\ttotal: 20s\tremaining: 12.1s\n",
      "249:\tlearn: 0.8832755\ttest: 0.8832755\ttest1: 0.8574061\tbest: 0.8577132 (243)\ttotal: 20.1s\tremaining: 12.1s\n",
      "250:\tlearn: 0.8832755\ttest: 0.8832755\ttest1: 0.8574061\tbest: 0.8577132 (243)\ttotal: 20.1s\tremaining: 12s\n",
      "251:\tlearn: 0.8833435\ttest: 0.8833435\ttest1: 0.8574061\tbest: 0.8577132 (243)\ttotal: 20.2s\tremaining: 11.9s\n",
      "252:\tlearn: 0.8834116\ttest: 0.8834116\ttest1: 0.8573037\tbest: 0.8577132 (243)\ttotal: 20.2s\tremaining: 11.8s\n",
      "253:\tlearn: 0.8833435\ttest: 0.8833435\ttest1: 0.8575084\tbest: 0.8577132 (243)\ttotal: 20.3s\tremaining: 11.7s\n",
      "254:\tlearn: 0.8833435\ttest: 0.8833435\ttest1: 0.8576108\tbest: 0.8577132 (243)\ttotal: 20.4s\tremaining: 11.6s\n",
      "255:\tlearn: 0.8833435\ttest: 0.8833435\ttest1: 0.8575084\tbest: 0.8577132 (243)\ttotal: 20.4s\tremaining: 11.5s\n",
      "256:\tlearn: 0.8833776\ttest: 0.8833776\ttest1: 0.8576108\tbest: 0.8577132 (243)\ttotal: 20.5s\tremaining: 11.4s\n",
      "257:\tlearn: 0.8835477\ttest: 0.8835477\ttest1: 0.8576108\tbest: 0.8577132 (243)\ttotal: 20.5s\tremaining: 11.3s\n",
      "258:\tlearn: 0.8835817\ttest: 0.8835817\ttest1: 0.8575084\tbest: 0.8577132 (243)\ttotal: 20.6s\tremaining: 11.2s\n",
      "259:\tlearn: 0.8836157\ttest: 0.8836157\ttest1: 0.8572014\tbest: 0.8577132 (243)\ttotal: 20.7s\tremaining: 11.1s\n",
      "260:\tlearn: 0.8834456\ttest: 0.8834456\ttest1: 0.8573037\tbest: 0.8577132 (243)\ttotal: 20.7s\tremaining: 11s\n",
      "261:\tlearn: 0.8839219\ttest: 0.8839219\ttest1: 0.8579179\tbest: 0.8579179 (261)\ttotal: 20.8s\tremaining: 11s\n",
      "262:\tlearn: 0.8836157\ttest: 0.8836157\ttest1: 0.8574061\tbest: 0.8579179 (261)\ttotal: 20.9s\tremaining: 10.9s\n",
      "263:\tlearn: 0.8836497\ttest: 0.8836497\ttest1: 0.8574061\tbest: 0.8579179 (261)\ttotal: 21s\tremaining: 10.8s\n",
      "264:\tlearn: 0.8836837\ttest: 0.8836837\ttest1: 0.8574061\tbest: 0.8579179 (261)\ttotal: 21.1s\tremaining: 10.7s\n",
      "265:\tlearn: 0.8838198\ttest: 0.8838198\ttest1: 0.8575084\tbest: 0.8579179 (261)\ttotal: 21.1s\tremaining: 10.6s\n",
      "266:\tlearn: 0.8837858\ttest: 0.8837858\ttest1: 0.8575084\tbest: 0.8579179 (261)\ttotal: 21.1s\tremaining: 10.5s\n",
      "267:\tlearn: 0.8838198\ttest: 0.8838198\ttest1: 0.8574061\tbest: 0.8579179 (261)\ttotal: 21.2s\tremaining: 10.4s\n",
      "268:\tlearn: 0.8838198\ttest: 0.8838198\ttest1: 0.8574061\tbest: 0.8579179 (261)\ttotal: 21.2s\tremaining: 10.3s\n",
      "269:\tlearn: 0.8840580\ttest: 0.8840580\ttest1: 0.8572014\tbest: 0.8579179 (261)\ttotal: 21.3s\tremaining: 10.3s\n",
      "270:\tlearn: 0.8840240\ttest: 0.8840240\ttest1: 0.8575084\tbest: 0.8579179 (261)\ttotal: 21.4s\tremaining: 10.2s\n",
      "271:\tlearn: 0.8839219\ttest: 0.8839219\ttest1: 0.8573037\tbest: 0.8579179 (261)\ttotal: 21.4s\tremaining: 10.1s\n",
      "272:\tlearn: 0.8838879\ttest: 0.8838879\ttest1: 0.8573037\tbest: 0.8579179 (261)\ttotal: 21.5s\tremaining: 10s\n",
      "273:\tlearn: 0.8838879\ttest: 0.8838879\ttest1: 0.8575084\tbest: 0.8579179 (261)\ttotal: 21.7s\tremaining: 9.97s\n",
      "274:\tlearn: 0.8840920\ttest: 0.8840920\ttest1: 0.8575084\tbest: 0.8579179 (261)\ttotal: 21.8s\tremaining: 9.89s\n",
      "275:\tlearn: 0.8840580\ttest: 0.8840580\ttest1: 0.8576108\tbest: 0.8579179 (261)\ttotal: 21.8s\tremaining: 9.8s\n",
      "276:\tlearn: 0.8840920\ttest: 0.8840920\ttest1: 0.8575084\tbest: 0.8579179 (261)\ttotal: 21.9s\tremaining: 9.71s\n",
      "277:\tlearn: 0.8840920\ttest: 0.8840920\ttest1: 0.8574061\tbest: 0.8579179 (261)\ttotal: 22s\tremaining: 9.63s\n",
      "278:\tlearn: 0.8842621\ttest: 0.8842621\ttest1: 0.8576108\tbest: 0.8579179 (261)\ttotal: 22s\tremaining: 9.55s\n",
      "279:\tlearn: 0.8843301\ttest: 0.8843301\ttest1: 0.8577132\tbest: 0.8579179 (261)\ttotal: 22.1s\tremaining: 9.46s\n",
      "280:\tlearn: 0.8842961\ttest: 0.8842961\ttest1: 0.8576108\tbest: 0.8579179 (261)\ttotal: 22.1s\tremaining: 9.37s\n",
      "281:\tlearn: 0.8842281\ttest: 0.8842281\ttest1: 0.8576108\tbest: 0.8579179 (261)\ttotal: 22.2s\tremaining: 9.28s\n",
      "282:\tlearn: 0.8839219\ttest: 0.8839219\ttest1: 0.8577132\tbest: 0.8579179 (261)\ttotal: 22.2s\tremaining: 9.19s\n",
      "283:\tlearn: 0.8839219\ttest: 0.8839219\ttest1: 0.8579179\tbest: 0.8579179 (261)\ttotal: 22.3s\tremaining: 9.1s\n",
      "284:\tlearn: 0.8840240\ttest: 0.8840240\ttest1: 0.8576108\tbest: 0.8579179 (261)\ttotal: 22.3s\tremaining: 9.02s\n",
      "285:\tlearn: 0.8841260\ttest: 0.8841260\ttest1: 0.8578155\tbest: 0.8579179 (261)\ttotal: 22.4s\tremaining: 8.93s\n",
      "286:\tlearn: 0.8842961\ttest: 0.8842961\ttest1: 0.8579179\tbest: 0.8579179 (261)\ttotal: 22.5s\tremaining: 8.84s\n",
      "287:\tlearn: 0.8846023\ttest: 0.8846023\ttest1: 0.8584297\tbest: 0.8584297 (287)\ttotal: 22.5s\tremaining: 8.76s\n",
      "288:\tlearn: 0.8846023\ttest: 0.8846023\ttest1: 0.8581226\tbest: 0.8584297 (287)\ttotal: 22.6s\tremaining: 8.67s\n",
      "289:\tlearn: 0.8849085\ttest: 0.8849085\ttest1: 0.8584297\tbest: 0.8584297 (287)\ttotal: 22.6s\tremaining: 8.58s\n",
      "290:\tlearn: 0.8849085\ttest: 0.8849085\ttest1: 0.8584297\tbest: 0.8584297 (287)\ttotal: 22.7s\tremaining: 8.5s\n",
      "291:\tlearn: 0.8850446\ttest: 0.8850446\ttest1: 0.8581226\tbest: 0.8584297 (287)\ttotal: 22.7s\tremaining: 8.41s\n",
      "292:\tlearn: 0.8850105\ttest: 0.8850105\ttest1: 0.8582250\tbest: 0.8584297 (287)\ttotal: 22.8s\tremaining: 8.32s\n",
      "293:\tlearn: 0.8849085\ttest: 0.8849085\ttest1: 0.8582250\tbest: 0.8584297 (287)\ttotal: 22.8s\tremaining: 8.24s\n",
      "294:\tlearn: 0.8848745\ttest: 0.8848745\ttest1: 0.8583274\tbest: 0.8584297 (287)\ttotal: 22.9s\tremaining: 8.15s\n",
      "295:\tlearn: 0.8850105\ttest: 0.8850105\ttest1: 0.8584297\tbest: 0.8584297 (287)\ttotal: 23s\tremaining: 8.07s\n",
      "296:\tlearn: 0.8850786\ttest: 0.8850786\ttest1: 0.8582250\tbest: 0.8584297 (287)\ttotal: 23s\tremaining: 7.98s\n",
      "297:\tlearn: 0.8851806\ttest: 0.8851806\ttest1: 0.8582250\tbest: 0.8584297 (287)\ttotal: 23.1s\tremaining: 7.9s\n",
      "298:\tlearn: 0.8851806\ttest: 0.8851806\ttest1: 0.8583274\tbest: 0.8584297 (287)\ttotal: 23.1s\tremaining: 7.81s\n",
      "299:\tlearn: 0.8851806\ttest: 0.8851806\ttest1: 0.8582250\tbest: 0.8584297 (287)\ttotal: 23.2s\tremaining: 7.72s\n",
      "300:\tlearn: 0.8851806\ttest: 0.8851806\ttest1: 0.8581226\tbest: 0.8584297 (287)\ttotal: 23.2s\tremaining: 7.64s\n",
      "301:\tlearn: 0.8852487\ttest: 0.8852487\ttest1: 0.8583274\tbest: 0.8584297 (287)\ttotal: 23.3s\tremaining: 7.56s\n",
      "302:\tlearn: 0.8851806\ttest: 0.8851806\ttest1: 0.8582250\tbest: 0.8584297 (287)\ttotal: 23.3s\tremaining: 7.47s\n",
      "303:\tlearn: 0.8852147\ttest: 0.8852147\ttest1: 0.8584297\tbest: 0.8584297 (287)\ttotal: 23.4s\tremaining: 7.39s\n",
      "304:\tlearn: 0.8852827\ttest: 0.8852827\ttest1: 0.8580203\tbest: 0.8584297 (287)\ttotal: 23.5s\tremaining: 7.31s\n",
      "305:\tlearn: 0.8851806\ttest: 0.8851806\ttest1: 0.8577132\tbest: 0.8584297 (287)\ttotal: 23.5s\tremaining: 7.23s\n",
      "306:\tlearn: 0.8852147\ttest: 0.8852147\ttest1: 0.8578155\tbest: 0.8584297 (287)\ttotal: 23.6s\tremaining: 7.14s\n",
      "307:\tlearn: 0.8852827\ttest: 0.8852827\ttest1: 0.8578155\tbest: 0.8584297 (287)\ttotal: 23.6s\tremaining: 7.06s\n",
      "308:\tlearn: 0.8853167\ttest: 0.8853167\ttest1: 0.8578155\tbest: 0.8584297 (287)\ttotal: 23.7s\tremaining: 6.98s\n",
      "309:\tlearn: 0.8853167\ttest: 0.8853167\ttest1: 0.8579179\tbest: 0.8584297 (287)\ttotal: 23.8s\tremaining: 6.9s\n",
      "310:\tlearn: 0.8854188\ttest: 0.8854188\ttest1: 0.8577132\tbest: 0.8584297 (287)\ttotal: 23.8s\tremaining: 6.82s\n",
      "311:\tlearn: 0.8852827\ttest: 0.8852827\ttest1: 0.8579179\tbest: 0.8584297 (287)\ttotal: 23.9s\tremaining: 6.73s\n",
      "312:\tlearn: 0.8850446\ttest: 0.8850446\ttest1: 0.8577132\tbest: 0.8584297 (287)\ttotal: 23.9s\tremaining: 6.65s\n",
      "313:\tlearn: 0.8851466\ttest: 0.8851466\ttest1: 0.8578155\tbest: 0.8584297 (287)\ttotal: 24s\tremaining: 6.57s\n",
      "314:\tlearn: 0.8854868\ttest: 0.8854868\ttest1: 0.8579179\tbest: 0.8584297 (287)\ttotal: 24s\tremaining: 6.49s\n",
      "315:\tlearn: 0.8856229\ttest: 0.8856229\ttest1: 0.8576108\tbest: 0.8584297 (287)\ttotal: 24.1s\tremaining: 6.41s\n",
      "316:\tlearn: 0.8856569\ttest: 0.8856569\ttest1: 0.8577132\tbest: 0.8584297 (287)\ttotal: 24.1s\tremaining: 6.32s\n",
      "317:\tlearn: 0.8856569\ttest: 0.8856569\ttest1: 0.8579179\tbest: 0.8584297 (287)\ttotal: 24.2s\tremaining: 6.25s\n",
      "318:\tlearn: 0.8856229\ttest: 0.8856229\ttest1: 0.8578155\tbest: 0.8584297 (287)\ttotal: 24.3s\tremaining: 6.17s\n",
      "319:\tlearn: 0.8853508\ttest: 0.8853508\ttest1: 0.8577132\tbest: 0.8584297 (287)\ttotal: 24.3s\tremaining: 6.08s\n",
      "320:\tlearn: 0.8854868\ttest: 0.8854868\ttest1: 0.8577132\tbest: 0.8584297 (287)\ttotal: 24.4s\tremaining: 6s\n"
     ]
    },
    {
     "name": "stdout",
     "output_type": "stream",
     "text": [
      "321:\tlearn: 0.8853508\ttest: 0.8853508\ttest1: 0.8574061\tbest: 0.8584297 (287)\ttotal: 24.5s\tremaining: 5.92s\n",
      "322:\tlearn: 0.8852147\ttest: 0.8852147\ttest1: 0.8575084\tbest: 0.8584297 (287)\ttotal: 24.5s\tremaining: 5.84s\n",
      "323:\tlearn: 0.8851466\ttest: 0.8851466\ttest1: 0.8573037\tbest: 0.8584297 (287)\ttotal: 24.6s\tremaining: 5.76s\n",
      "324:\tlearn: 0.8851126\ttest: 0.8851126\ttest1: 0.8573037\tbest: 0.8584297 (287)\ttotal: 24.6s\tremaining: 5.68s\n",
      "325:\tlearn: 0.8853848\ttest: 0.8853848\ttest1: 0.8578155\tbest: 0.8584297 (287)\ttotal: 24.7s\tremaining: 5.61s\n",
      "326:\tlearn: 0.8853167\ttest: 0.8853167\ttest1: 0.8578155\tbest: 0.8584297 (287)\ttotal: 24.7s\tremaining: 5.52s\n",
      "327:\tlearn: 0.8853167\ttest: 0.8853167\ttest1: 0.8580203\tbest: 0.8584297 (287)\ttotal: 24.8s\tremaining: 5.44s\n",
      "Stopped by overfitting detector  (40 iterations wait)\n",
      "\n",
      "bestTest = 0.8584297267\n",
      "bestIteration = 287\n",
      "\n",
      "Shrink model to first 288 iterations.\n"
     ]
    },
    {
     "data": {
      "text/plain": [
       "<catboost.core.CatBoostClassifier at 0x1a2d1e95f8>"
      ]
     },
     "execution_count": 154,
     "metadata": {},
     "output_type": "execute_result"
    }
   ],
   "source": [
    "catb_smote.fit(X_train_smt,y_train_smt,eval_set=[(X_train_smt,y_train_smt), (X_test,y_test)],early_stopping_rounds=40)"
   ]
  },
  {
   "cell_type": "code",
   "execution_count": 155,
   "metadata": {},
   "outputs": [
    {
     "name": "stdout",
     "output_type": "stream",
     "text": [
      "              precision    recall  f1-score   support\n",
      "\n",
      "           0       0.92      0.90      0.91      7429\n",
      "           1       0.69      0.74      0.71      2340\n",
      "\n",
      "    accuracy                           0.86      9769\n",
      "   macro avg       0.80      0.82      0.81      9769\n",
      "weighted avg       0.86      0.86      0.86      9769\n",
      "\n",
      "Accuracy on test data: 85.842973%\n",
      "Accuracy on training data: 88.460230%\n",
      "Area under the ROC curve : 0.843451\n"
     ]
    }
   ],
   "source": [
    "print(metrics.classification_report(y_test, catb_smote.predict(X_test)))\n",
    "print('Accuracy on test data: %f%%' % (metrics.accuracy_score(y_test, catb_smote.predict(X_test))*100))\n",
    "print('Accuracy on training data: %f%%' % (metrics.accuracy_score(y_train_smt, catb_smote.predict(X_train_smt))*100))\n",
    "print('Area under the ROC curve : %f' % (metrics.roc_auc_score(y_test, catb_ros.predict(X_test))))"
   ]
  },
  {
   "cell_type": "markdown",
   "metadata": {},
   "source": [
    "#### SMOTE with XGBoost"
   ]
  },
  {
   "cell_type": "code",
   "execution_count": 159,
   "metadata": {},
   "outputs": [
    {
     "name": "stdout",
     "output_type": "stream",
     "text": [
      "[0]\tvalidation_0-error:0.190787\tvalidation_1-error:0.199406\n",
      "Multiple eval metrics have been passed: 'validation_1-error' will be used for early stopping.\n",
      "\n",
      "Will train until validation_1-error hasn't improved in 30 rounds.\n",
      "[1]\tvalidation_0-error:0.191468\tvalidation_1-error:0.19828\n",
      "[2]\tvalidation_0-error:0.190447\tvalidation_1-error:0.197666\n",
      "[3]\tvalidation_0-error:0.189392\tvalidation_1-error:0.198076\n",
      "[4]\tvalidation_0-error:0.188542\tvalidation_1-error:0.197052\n",
      "[5]\tvalidation_0-error:0.187113\tvalidation_1-error:0.197359\n",
      "[6]\tvalidation_0-error:0.176771\tvalidation_1-error:0.183437\n",
      "[7]\tvalidation_0-error:0.176124\tvalidation_1-error:0.178831\n",
      "[8]\tvalidation_0-error:0.174117\tvalidation_1-error:0.184052\n",
      "[9]\tvalidation_0-error:0.169082\tvalidation_1-error:0.176784\n",
      "[10]\tvalidation_0-error:0.16847\tvalidation_1-error:0.176579\n",
      "[11]\tvalidation_0-error:0.168232\tvalidation_1-error:0.176477\n",
      "[12]\tvalidation_0-error:0.169184\tvalidation_1-error:0.176886\n",
      "[13]\tvalidation_0-error:0.168096\tvalidation_1-error:0.176374\n",
      "[14]\tvalidation_0-error:0.167619\tvalidation_1-error:0.175453\n",
      "[15]\tvalidation_0-error:0.166463\tvalidation_1-error:0.174429\n",
      "[16]\tvalidation_0-error:0.166531\tvalidation_1-error:0.176374\n",
      "[17]\tvalidation_0-error:0.166565\tvalidation_1-error:0.176272\n",
      "[18]\tvalidation_0-error:0.164285\tvalidation_1-error:0.176374\n",
      "[19]\tvalidation_0-error:0.16306\tvalidation_1-error:0.174839\n",
      "[20]\tvalidation_0-error:0.1617\tvalidation_1-error:0.169618\n",
      "[21]\tvalidation_0-error:0.161393\tvalidation_1-error:0.172894\n",
      "[22]\tvalidation_0-error:0.159931\tvalidation_1-error:0.17187\n",
      "[23]\tvalidation_0-error:0.158808\tvalidation_1-error:0.17013\n",
      "[24]\tvalidation_0-error:0.15976\tvalidation_1-error:0.171154\n",
      "[25]\tvalidation_0-error:0.158502\tvalidation_1-error:0.16798\n",
      "[26]\tvalidation_0-error:0.157039\tvalidation_1-error:0.166854\n",
      "[27]\tvalidation_0-error:0.156222\tvalidation_1-error:0.165933\n",
      "[28]\tvalidation_0-error:0.15493\tvalidation_1-error:0.164295\n",
      "[29]\tvalidation_0-error:0.153365\tvalidation_1-error:0.163886\n",
      "[30]\tvalidation_0-error:0.153229\tvalidation_1-error:0.162657\n",
      "[31]\tvalidation_0-error:0.152378\tvalidation_1-error:0.161736\n",
      "[32]\tvalidation_0-error:0.153535\tvalidation_1-error:0.165217\n",
      "[33]\tvalidation_0-error:0.152548\tvalidation_1-error:0.163783\n",
      "[34]\tvalidation_0-error:0.151017\tvalidation_1-error:0.158972\n",
      "[35]\tvalidation_0-error:0.149554\tvalidation_1-error:0.159279\n",
      "[36]\tvalidation_0-error:0.149078\tvalidation_1-error:0.157949\n",
      "[37]\tvalidation_0-error:0.146492\tvalidation_1-error:0.157949\n",
      "[38]\tvalidation_0-error:0.146084\tvalidation_1-error:0.157949\n",
      "[39]\tvalidation_0-error:0.14588\tvalidation_1-error:0.157232\n",
      "[40]\tvalidation_0-error:0.145268\tvalidation_1-error:0.15672\n",
      "[41]\tvalidation_0-error:0.143567\tvalidation_1-error:0.155594\n",
      "[42]\tvalidation_0-error:0.142852\tvalidation_1-error:0.155492\n",
      "[43]\tvalidation_0-error:0.142818\tvalidation_1-error:0.15539\n",
      "[44]\tvalidation_0-error:0.14224\tvalidation_1-error:0.15539\n",
      "[45]\tvalidation_0-error:0.141832\tvalidation_1-error:0.155185\n",
      "[46]\tvalidation_0-error:0.141832\tvalidation_1-error:0.154571\n",
      "[47]\tvalidation_0-error:0.140539\tvalidation_1-error:0.153035\n",
      "[48]\tvalidation_0-error:0.141049\tvalidation_1-error:0.153752\n",
      "[49]\tvalidation_0-error:0.140233\tvalidation_1-error:0.153035\n",
      "[50]\tvalidation_0-error:0.140029\tvalidation_1-error:0.15283\n",
      "[51]\tvalidation_0-error:0.13928\tvalidation_1-error:0.151704\n",
      "[52]\tvalidation_0-error:0.139348\tvalidation_1-error:0.150885\n",
      "[53]\tvalidation_0-error:0.138736\tvalidation_1-error:0.150578\n",
      "[54]\tvalidation_0-error:0.138566\tvalidation_1-error:0.150271\n",
      "[55]\tvalidation_0-error:0.138702\tvalidation_1-error:0.150067\n",
      "[56]\tvalidation_0-error:0.137579\tvalidation_1-error:0.149555\n",
      "[57]\tvalidation_0-error:0.137613\tvalidation_1-error:0.149759\n",
      "[58]\tvalidation_0-error:0.137341\tvalidation_1-error:0.150169\n",
      "[59]\tvalidation_0-error:0.137171\tvalidation_1-error:0.150169\n",
      "[60]\tvalidation_0-error:0.136661\tvalidation_1-error:0.149452\n",
      "[61]\tvalidation_0-error:0.136627\tvalidation_1-error:0.149145\n",
      "[62]\tvalidation_0-error:0.13615\tvalidation_1-error:0.148736\n",
      "[63]\tvalidation_0-error:0.135878\tvalidation_1-error:0.148736\n",
      "[64]\tvalidation_0-error:0.135436\tvalidation_1-error:0.148122\n",
      "[65]\tvalidation_0-error:0.134891\tvalidation_1-error:0.148429\n",
      "[66]\tvalidation_0-error:0.134653\tvalidation_1-error:0.148122\n",
      "[67]\tvalidation_0-error:0.134551\tvalidation_1-error:0.148019\n",
      "[68]\tvalidation_0-error:0.134381\tvalidation_1-error:0.147098\n",
      "[69]\tvalidation_0-error:0.13319\tvalidation_1-error:0.14587\n",
      "[70]\tvalidation_0-error:0.132952\tvalidation_1-error:0.146484\n",
      "[71]\tvalidation_0-error:0.131898\tvalidation_1-error:0.146279\n",
      "[72]\tvalidation_0-error:0.131285\tvalidation_1-error:0.145767\n",
      "[73]\tvalidation_0-error:0.130877\tvalidation_1-error:0.145051\n",
      "[74]\tvalidation_0-error:0.130537\tvalidation_1-error:0.14587\n",
      "[75]\tvalidation_0-error:0.130197\tvalidation_1-error:0.146177\n",
      "[76]\tvalidation_0-error:0.130129\tvalidation_1-error:0.145665\n",
      "[77]\tvalidation_0-error:0.12972\tvalidation_1-error:0.145972\n",
      "[78]\tvalidation_0-error:0.128598\tvalidation_1-error:0.14587\n",
      "[79]\tvalidation_0-error:0.128223\tvalidation_1-error:0.146074\n",
      "[80]\tvalidation_0-error:0.127849\tvalidation_1-error:0.146279\n",
      "[81]\tvalidation_0-error:0.127713\tvalidation_1-error:0.14587\n",
      "[82]\tvalidation_0-error:0.127407\tvalidation_1-error:0.145665\n",
      "[83]\tvalidation_0-error:0.127407\tvalidation_1-error:0.145665\n",
      "[84]\tvalidation_0-error:0.127067\tvalidation_1-error:0.145358\n",
      "[85]\tvalidation_0-error:0.127237\tvalidation_1-error:0.14546\n",
      "[86]\tvalidation_0-error:0.126931\tvalidation_1-error:0.145562\n",
      "[87]\tvalidation_0-error:0.126693\tvalidation_1-error:0.146279\n",
      "[88]\tvalidation_0-error:0.126931\tvalidation_1-error:0.145767\n",
      "[89]\tvalidation_0-error:0.126556\tvalidation_1-error:0.145153\n",
      "[90]\tvalidation_0-error:0.126454\tvalidation_1-error:0.146074\n",
      "[91]\tvalidation_0-error:0.126114\tvalidation_1-error:0.146177\n",
      "[92]\tvalidation_0-error:0.12608\tvalidation_1-error:0.14546\n",
      "[93]\tvalidation_0-error:0.125842\tvalidation_1-error:0.145051\n",
      "[94]\tvalidation_0-error:0.125468\tvalidation_1-error:0.145255\n",
      "[95]\tvalidation_0-error:0.12523\tvalidation_1-error:0.14546\n",
      "[96]\tvalidation_0-error:0.124753\tvalidation_1-error:0.145153\n",
      "[97]\tvalidation_0-error:0.124617\tvalidation_1-error:0.145051\n",
      "[98]\tvalidation_0-error:0.124651\tvalidation_1-error:0.144539\n",
      "[99]\tvalidation_0-error:0.124345\tvalidation_1-error:0.144744\n",
      "[100]\tvalidation_0-error:0.124243\tvalidation_1-error:0.144232\n",
      "[101]\tvalidation_0-error:0.123801\tvalidation_1-error:0.144539\n",
      "[102]\tvalidation_0-error:0.123597\tvalidation_1-error:0.144129\n",
      "[103]\tvalidation_0-error:0.123393\tvalidation_1-error:0.144334\n",
      "[104]\tvalidation_0-error:0.122848\tvalidation_1-error:0.14372\n",
      "[105]\tvalidation_0-error:0.12261\tvalidation_1-error:0.143515\n",
      "[106]\tvalidation_0-error:0.122576\tvalidation_1-error:0.14372\n",
      "[107]\tvalidation_0-error:0.121998\tvalidation_1-error:0.14372\n",
      "[108]\tvalidation_0-error:0.121453\tvalidation_1-error:0.14372\n",
      "[109]\tvalidation_0-error:0.121249\tvalidation_1-error:0.143413\n",
      "[110]\tvalidation_0-error:0.121147\tvalidation_1-error:0.143618\n",
      "[111]\tvalidation_0-error:0.121011\tvalidation_1-error:0.143515\n",
      "[112]\tvalidation_0-error:0.120603\tvalidation_1-error:0.142901\n",
      "[113]\tvalidation_0-error:0.11999\tvalidation_1-error:0.142389\n",
      "[114]\tvalidation_0-error:0.119956\tvalidation_1-error:0.142082\n",
      "[115]\tvalidation_0-error:0.119956\tvalidation_1-error:0.142082\n",
      "[116]\tvalidation_0-error:0.119548\tvalidation_1-error:0.141877\n",
      "[117]\tvalidation_0-error:0.119412\tvalidation_1-error:0.14198\n",
      "[118]\tvalidation_0-error:0.11863\tvalidation_1-error:0.141877\n",
      "[119]\tvalidation_0-error:0.118766\tvalidation_1-error:0.141673\n",
      "[120]\tvalidation_0-error:0.118698\tvalidation_1-error:0.141673\n",
      "[121]\tvalidation_0-error:0.118187\tvalidation_1-error:0.142389\n",
      "[122]\tvalidation_0-error:0.117983\tvalidation_1-error:0.142594\n",
      "[123]\tvalidation_0-error:0.117643\tvalidation_1-error:0.142389\n",
      "[124]\tvalidation_0-error:0.117337\tvalidation_1-error:0.142082\n",
      "[125]\tvalidation_0-error:0.117235\tvalidation_1-error:0.14198\n",
      "[126]\tvalidation_0-error:0.117371\tvalidation_1-error:0.141877\n",
      "[127]\tvalidation_0-error:0.117337\tvalidation_1-error:0.141468\n",
      "[128]\tvalidation_0-error:0.116929\tvalidation_1-error:0.141673\n",
      "[129]\tvalidation_0-error:0.116895\tvalidation_1-error:0.141161\n",
      "[130]\tvalidation_0-error:0.11652\tvalidation_1-error:0.141161\n",
      "[131]\tvalidation_0-error:0.11652\tvalidation_1-error:0.140956\n"
     ]
    },
    {
     "name": "stdout",
     "output_type": "stream",
     "text": [
      "[132]\tvalidation_0-error:0.116146\tvalidation_1-error:0.141058\n",
      "[133]\tvalidation_0-error:0.115738\tvalidation_1-error:0.141058\n",
      "[134]\tvalidation_0-error:0.115568\tvalidation_1-error:0.140751\n",
      "[135]\tvalidation_0-error:0.115806\tvalidation_1-error:0.141468\n",
      "[136]\tvalidation_0-error:0.11567\tvalidation_1-error:0.141263\n",
      "[137]\tvalidation_0-error:0.1155\tvalidation_1-error:0.141366\n",
      "[138]\tvalidation_0-error:0.115296\tvalidation_1-error:0.141366\n",
      "[139]\tvalidation_0-error:0.115126\tvalidation_1-error:0.141366\n",
      "[140]\tvalidation_0-error:0.114989\tvalidation_1-error:0.141263\n",
      "[141]\tvalidation_0-error:0.115126\tvalidation_1-error:0.141161\n",
      "[142]\tvalidation_0-error:0.114887\tvalidation_1-error:0.140751\n",
      "[143]\tvalidation_0-error:0.114683\tvalidation_1-error:0.140751\n",
      "[144]\tvalidation_0-error:0.114649\tvalidation_1-error:0.140547\n",
      "[145]\tvalidation_0-error:0.114377\tvalidation_1-error:0.140751\n",
      "[146]\tvalidation_0-error:0.114547\tvalidation_1-error:0.140547\n",
      "[147]\tvalidation_0-error:0.114275\tvalidation_1-error:0.141058\n",
      "[148]\tvalidation_0-error:0.114377\tvalidation_1-error:0.140854\n",
      "[149]\tvalidation_0-error:0.114173\tvalidation_1-error:0.140854\n",
      "[150]\tvalidation_0-error:0.113901\tvalidation_1-error:0.140547\n",
      "[151]\tvalidation_0-error:0.114003\tvalidation_1-error:0.140342\n",
      "[152]\tvalidation_0-error:0.113663\tvalidation_1-error:0.140547\n",
      "[153]\tvalidation_0-error:0.113833\tvalidation_1-error:0.140649\n",
      "[154]\tvalidation_0-error:0.113901\tvalidation_1-error:0.140649\n",
      "[155]\tvalidation_0-error:0.113799\tvalidation_1-error:0.140751\n",
      "[156]\tvalidation_0-error:0.113799\tvalidation_1-error:0.140649\n",
      "[157]\tvalidation_0-error:0.113595\tvalidation_1-error:0.140649\n",
      "[158]\tvalidation_0-error:0.113561\tvalidation_1-error:0.140649\n",
      "[159]\tvalidation_0-error:0.113322\tvalidation_1-error:0.140854\n",
      "[160]\tvalidation_0-error:0.113288\tvalidation_1-error:0.140854\n",
      "[161]\tvalidation_0-error:0.11322\tvalidation_1-error:0.141058\n",
      "[162]\tvalidation_0-error:0.112982\tvalidation_1-error:0.141161\n",
      "[163]\tvalidation_0-error:0.112846\tvalidation_1-error:0.141161\n",
      "[164]\tvalidation_0-error:0.112812\tvalidation_1-error:0.140956\n",
      "[165]\tvalidation_0-error:0.112676\tvalidation_1-error:0.140751\n",
      "[166]\tvalidation_0-error:0.111621\tvalidation_1-error:0.141058\n",
      "[167]\tvalidation_0-error:0.111826\tvalidation_1-error:0.141263\n",
      "[168]\tvalidation_0-error:0.111689\tvalidation_1-error:0.141058\n",
      "[169]\tvalidation_0-error:0.111621\tvalidation_1-error:0.141058\n",
      "[170]\tvalidation_0-error:0.111315\tvalidation_1-error:0.140956\n",
      "[171]\tvalidation_0-error:0.111179\tvalidation_1-error:0.141161\n",
      "[172]\tvalidation_0-error:0.111553\tvalidation_1-error:0.140956\n",
      "[173]\tvalidation_0-error:0.111655\tvalidation_1-error:0.141058\n",
      "[174]\tvalidation_0-error:0.111349\tvalidation_1-error:0.140854\n",
      "[175]\tvalidation_0-error:0.111553\tvalidation_1-error:0.140854\n",
      "[176]\tvalidation_0-error:0.111315\tvalidation_1-error:0.140342\n",
      "[177]\tvalidation_0-error:0.111315\tvalidation_1-error:0.140649\n",
      "[178]\tvalidation_0-error:0.111315\tvalidation_1-error:0.140649\n",
      "[179]\tvalidation_0-error:0.111077\tvalidation_1-error:0.140854\n",
      "[180]\tvalidation_0-error:0.110839\tvalidation_1-error:0.140444\n",
      "[181]\tvalidation_0-error:0.110567\tvalidation_1-error:0.140751\n",
      "Stopping. Best iteration:\n",
      "[151]\tvalidation_0-error:0.114003\tvalidation_1-error:0.140342\n",
      "\n"
     ]
    },
    {
     "data": {
      "text/plain": [
       "XGBClassifier(base_score=0.5, booster='gbtree', colsample_bylevel=0.9,\n",
       "              colsample_bytree=0.9, gamma=0, learning_rate=0.1,\n",
       "              max_delta_step=0, max_depth=5, min_child_weight=1, missing=None,\n",
       "              n_estimators=400, n_jobs=1, nthread=None,\n",
       "              objective='binary:logistic', random_state=0, reg_alpha=0,\n",
       "              reg_lambda=1.5, scale_pos_weight=1, seed=10, silent=True,\n",
       "              subsample=0.9, verbosity=1)"
      ]
     },
     "execution_count": 159,
     "metadata": {},
     "output_type": "execute_result"
    }
   ],
   "source": [
    "param = {}\n",
    "param['learning_rate'] = 0.1\n",
    "param['verbosity'] = 1\n",
    "param['colsample_bylevel'] = 0.9\n",
    "param['colsample_bytree'] = 0.9\n",
    "param['subsample'] = 0.9\n",
    "param['reg_lambda']= 1.5\n",
    "param['max_depth'] = 5\n",
    "param['n_estimators'] = 400\n",
    "param['seed']=10\n",
    "xgb_smote= XGBClassifier(**param)\n",
    "xgb_smote.fit(X_train_smt, y_train_smt, eval_metric=['error'], eval_set=[(X_train_smt, y_train_smt),(X_test.values, y_test.values)],early_stopping_rounds=30)"
   ]
  },
  {
   "cell_type": "code",
   "execution_count": 166,
   "metadata": {},
   "outputs": [
    {
     "name": "stdout",
     "output_type": "stream",
     "text": [
      "              precision    recall  f1-score   support\n",
      "\n",
      "           0       0.92      0.89      0.91      7429\n",
      "           1       0.69      0.76      0.72      2340\n",
      "\n",
      "    accuracy                           0.86      9769\n",
      "   macro avg       0.80      0.83      0.81      9769\n",
      "weighted avg       0.87      0.86      0.86      9769\n",
      "\n",
      "Accuracy on test data: 85.965810%\n",
      "Accuracy on training data: 88.599714%\n",
      "Area under the ROC curve : 0.826490\n"
     ]
    }
   ],
   "source": [
    "print(metrics.classification_report(y_test, xgb_smote.predict(X_test.values)))\n",
    "print('Accuracy on test data: %f%%' % (metrics.accuracy_score(y_test, xgb_smote.predict(X_test.values))*100))\n",
    "print('Accuracy on training data: %f%%' % (metrics.accuracy_score(y_train_smt, xgb_smote.predict(X_train_smt))*100))\n",
    "print('Area under the ROC curve : %f' % (metrics.roc_auc_score(y_test, xgb_smote.predict(X_test.values))))"
   ]
  },
  {
   "cell_type": "code",
   "execution_count": null,
   "metadata": {},
   "outputs": [],
   "source": []
  }
 ],
 "metadata": {
  "kernelspec": {
   "display_name": "Python 3",
   "language": "python",
   "name": "python3"
  },
  "language_info": {
   "codemirror_mode": {
    "name": "ipython",
    "version": 3
   },
   "file_extension": ".py",
   "mimetype": "text/x-python",
   "name": "python",
   "nbconvert_exporter": "python",
   "pygments_lexer": "ipython3",
   "version": "3.6.8"
  }
 },
 "nbformat": 4,
 "nbformat_minor": 2
}
