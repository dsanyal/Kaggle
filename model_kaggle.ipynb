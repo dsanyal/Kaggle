{
 "cells": [
  {
   "cell_type": "markdown",
   "metadata": {},
   "source": [
    "# Adult Income Prediction notebook\n",
    "This data was extracted from the 1994 Census bureau database by Ronny Kohavi and Barry Becker (Data Mining and Visualization, Silicon Graphics). A set of reasonably clean records was extracted using the following conditions: ((AAGE>16) && (AGI>100) && (AFNLWGT>1) && (HRSWK>0)). *The prediction task is to determine whether a person makes over  USD 50K a year.*  \n",
    "This is a binary classification problem where we have to predict whether a person earns over $50k per year or not. The scoring function to optimize is accuracy. The notebook follows the following steps to analyse the data and build predictive models.\n",
    "- Data cleaning and preprocessing\n",
    "- Exploratory data analysis\n",
    "- Modelling: I have tried out different classification algorithms.\n",
    "  - Random forest\n",
    "  - XGBoost\n",
    "  - Naive Bayes\n",
    "  - Logistic regression\n",
    "  - CatBoost  \n",
    "These models were then optimized by tuning the hyper-parameters through Grid Search, keeping a close check on the cross-validation scores to prevent overfitting. Thereafter I also tried out stacking different models together to improve the accuracy but it didn't improve the accuracy sigificantly.\n",
    "- Finally I explored oversampling techniques including SMOTE.\n",
    "\n",
    "Please feel free to suggest/comment.\n",
    "\n",
    "<img src=\"money.jpg\" style=\"width: 600px;\"/>\n"
   ]
  },
  {
   "cell_type": "code",
   "execution_count": 76,
   "metadata": {},
   "outputs": [],
   "source": [
    "import pandas as pd\n",
    "import numpy as np\n",
    "import matplotlib.pyplot as plt\n",
    "import seaborn as sns"
   ]
  },
  {
   "cell_type": "code",
   "execution_count": 77,
   "metadata": {},
   "outputs": [],
   "source": [
    "import os\n",
    "import seaborn as sns\n",
    "os.environ['KMP_DUPLICATE_LIB_OK']='True'"
   ]
  },
  {
   "cell_type": "code",
   "execution_count": 78,
   "metadata": {},
   "outputs": [],
   "source": [
    "sns.set() ##set defaults"
   ]
  },
  {
   "cell_type": "code",
   "execution_count": 79,
   "metadata": {},
   "outputs": [],
   "source": [
    "%matplotlib inline"
   ]
  },
  {
   "cell_type": "code",
   "execution_count": 80,
   "metadata": {},
   "outputs": [],
   "source": [
    "data = pd.read_csv(\"adult.csv\")"
   ]
  },
  {
   "cell_type": "code",
   "execution_count": 81,
   "metadata": {},
   "outputs": [
    {
     "data": {
      "text/plain": [
       "(32561, 15)"
      ]
     },
     "execution_count": 81,
     "metadata": {},
     "output_type": "execute_result"
    }
   ],
   "source": [
    "data.shape"
   ]
  },
  {
   "cell_type": "code",
   "execution_count": 82,
   "metadata": {},
   "outputs": [
    {
     "data": {
      "text/html": [
       "<div>\n",
       "<style scoped>\n",
       "    .dataframe tbody tr th:only-of-type {\n",
       "        vertical-align: middle;\n",
       "    }\n",
       "\n",
       "    .dataframe tbody tr th {\n",
       "        vertical-align: top;\n",
       "    }\n",
       "\n",
       "    .dataframe thead th {\n",
       "        text-align: right;\n",
       "    }\n",
       "</style>\n",
       "<table border=\"1\" class=\"dataframe\">\n",
       "  <thead>\n",
       "    <tr style=\"text-align: right;\">\n",
       "      <th></th>\n",
       "      <th>age</th>\n",
       "      <th>workclass</th>\n",
       "      <th>fnlwgt</th>\n",
       "      <th>education</th>\n",
       "      <th>education.num</th>\n",
       "      <th>marital.status</th>\n",
       "      <th>occupation</th>\n",
       "      <th>relationship</th>\n",
       "      <th>race</th>\n",
       "      <th>sex</th>\n",
       "      <th>capital.gain</th>\n",
       "      <th>capital.loss</th>\n",
       "      <th>hours.per.week</th>\n",
       "      <th>native.country</th>\n",
       "      <th>income</th>\n",
       "    </tr>\n",
       "  </thead>\n",
       "  <tbody>\n",
       "    <tr>\n",
       "      <th>0</th>\n",
       "      <td>90</td>\n",
       "      <td>?</td>\n",
       "      <td>77053</td>\n",
       "      <td>HS-grad</td>\n",
       "      <td>9</td>\n",
       "      <td>Widowed</td>\n",
       "      <td>?</td>\n",
       "      <td>Not-in-family</td>\n",
       "      <td>White</td>\n",
       "      <td>Female</td>\n",
       "      <td>0</td>\n",
       "      <td>4356</td>\n",
       "      <td>40</td>\n",
       "      <td>United-States</td>\n",
       "      <td>&lt;=50K</td>\n",
       "    </tr>\n",
       "    <tr>\n",
       "      <th>1</th>\n",
       "      <td>82</td>\n",
       "      <td>Private</td>\n",
       "      <td>132870</td>\n",
       "      <td>HS-grad</td>\n",
       "      <td>9</td>\n",
       "      <td>Widowed</td>\n",
       "      <td>Exec-managerial</td>\n",
       "      <td>Not-in-family</td>\n",
       "      <td>White</td>\n",
       "      <td>Female</td>\n",
       "      <td>0</td>\n",
       "      <td>4356</td>\n",
       "      <td>18</td>\n",
       "      <td>United-States</td>\n",
       "      <td>&lt;=50K</td>\n",
       "    </tr>\n",
       "    <tr>\n",
       "      <th>2</th>\n",
       "      <td>66</td>\n",
       "      <td>?</td>\n",
       "      <td>186061</td>\n",
       "      <td>Some-college</td>\n",
       "      <td>10</td>\n",
       "      <td>Widowed</td>\n",
       "      <td>?</td>\n",
       "      <td>Unmarried</td>\n",
       "      <td>Black</td>\n",
       "      <td>Female</td>\n",
       "      <td>0</td>\n",
       "      <td>4356</td>\n",
       "      <td>40</td>\n",
       "      <td>United-States</td>\n",
       "      <td>&lt;=50K</td>\n",
       "    </tr>\n",
       "    <tr>\n",
       "      <th>3</th>\n",
       "      <td>54</td>\n",
       "      <td>Private</td>\n",
       "      <td>140359</td>\n",
       "      <td>7th-8th</td>\n",
       "      <td>4</td>\n",
       "      <td>Divorced</td>\n",
       "      <td>Machine-op-inspct</td>\n",
       "      <td>Unmarried</td>\n",
       "      <td>White</td>\n",
       "      <td>Female</td>\n",
       "      <td>0</td>\n",
       "      <td>3900</td>\n",
       "      <td>40</td>\n",
       "      <td>United-States</td>\n",
       "      <td>&lt;=50K</td>\n",
       "    </tr>\n",
       "    <tr>\n",
       "      <th>4</th>\n",
       "      <td>41</td>\n",
       "      <td>Private</td>\n",
       "      <td>264663</td>\n",
       "      <td>Some-college</td>\n",
       "      <td>10</td>\n",
       "      <td>Separated</td>\n",
       "      <td>Prof-specialty</td>\n",
       "      <td>Own-child</td>\n",
       "      <td>White</td>\n",
       "      <td>Female</td>\n",
       "      <td>0</td>\n",
       "      <td>3900</td>\n",
       "      <td>40</td>\n",
       "      <td>United-States</td>\n",
       "      <td>&lt;=50K</td>\n",
       "    </tr>\n",
       "  </tbody>\n",
       "</table>\n",
       "</div>"
      ],
      "text/plain": [
       "   age workclass  fnlwgt     education  education.num marital.status  \\\n",
       "0   90         ?   77053       HS-grad              9        Widowed   \n",
       "1   82   Private  132870       HS-grad              9        Widowed   \n",
       "2   66         ?  186061  Some-college             10        Widowed   \n",
       "3   54   Private  140359       7th-8th              4       Divorced   \n",
       "4   41   Private  264663  Some-college             10      Separated   \n",
       "\n",
       "          occupation   relationship   race     sex  capital.gain  \\\n",
       "0                  ?  Not-in-family  White  Female             0   \n",
       "1    Exec-managerial  Not-in-family  White  Female             0   \n",
       "2                  ?      Unmarried  Black  Female             0   \n",
       "3  Machine-op-inspct      Unmarried  White  Female             0   \n",
       "4     Prof-specialty      Own-child  White  Female             0   \n",
       "\n",
       "   capital.loss  hours.per.week native.country income  \n",
       "0          4356              40  United-States  <=50K  \n",
       "1          4356              18  United-States  <=50K  \n",
       "2          4356              40  United-States  <=50K  \n",
       "3          3900              40  United-States  <=50K  \n",
       "4          3900              40  United-States  <=50K  "
      ]
     },
     "execution_count": 82,
     "metadata": {},
     "output_type": "execute_result"
    }
   ],
   "source": [
    "data.head()"
   ]
  },
  {
   "cell_type": "code",
   "execution_count": 83,
   "metadata": {},
   "outputs": [
    {
     "name": "stdout",
     "output_type": "stream",
     "text": [
      "<class 'pandas.core.frame.DataFrame'>\n",
      "RangeIndex: 32561 entries, 0 to 32560\n",
      "Data columns (total 15 columns):\n",
      "age               32561 non-null int64\n",
      "workclass         32561 non-null object\n",
      "fnlwgt            32561 non-null int64\n",
      "education         32561 non-null object\n",
      "education.num     32561 non-null int64\n",
      "marital.status    32561 non-null object\n",
      "occupation        32561 non-null object\n",
      "relationship      32561 non-null object\n",
      "race              32561 non-null object\n",
      "sex               32561 non-null object\n",
      "capital.gain      32561 non-null int64\n",
      "capital.loss      32561 non-null int64\n",
      "hours.per.week    32561 non-null int64\n",
      "native.country    32561 non-null object\n",
      "income            32561 non-null object\n",
      "dtypes: int64(6), object(9)\n",
      "memory usage: 3.7+ MB\n"
     ]
    }
   ],
   "source": [
    "data.info()"
   ]
  },
  {
   "cell_type": "code",
   "execution_count": 84,
   "metadata": {},
   "outputs": [
    {
     "data": {
      "text/plain": [
       "Private             22696\n",
       "Self-emp-not-inc     2541\n",
       "Local-gov            2093\n",
       "?                    1836\n",
       "State-gov            1298\n",
       "Self-emp-inc         1116\n",
       "Federal-gov           960\n",
       "Without-pay            14\n",
       "Never-worked            7\n",
       "Name: workclass, dtype: int64"
      ]
     },
     "execution_count": 84,
     "metadata": {},
     "output_type": "execute_result"
    }
   ],
   "source": [
    "data['workclass'].value_counts()"
   ]
  },
  {
   "cell_type": "code",
   "execution_count": 85,
   "metadata": {},
   "outputs": [
    {
     "data": {
      "text/plain": [
       "<=50K    24720\n",
       ">50K      7841\n",
       "Name: income, dtype: int64"
      ]
     },
     "execution_count": 85,
     "metadata": {},
     "output_type": "execute_result"
    }
   ],
   "source": [
    "data['income'].value_counts()    # Is the target variable skewed?"
   ]
  },
  {
   "cell_type": "markdown",
   "metadata": {},
   "source": [
    "#### Encode the target variable to binary"
   ]
  },
  {
   "cell_type": "code",
   "execution_count": 86,
   "metadata": {},
   "outputs": [],
   "source": [
    "data['income'] = data['income'].apply(lambda inc: 0 if inc == \"<=50K\" else 1) # Binary encoding of the target variable"
   ]
  },
  {
   "cell_type": "markdown",
   "metadata": {},
   "source": [
    "## Exploratory analysis"
   ]
  },
  {
   "cell_type": "code",
   "execution_count": 87,
   "metadata": {},
   "outputs": [
    {
     "data": {
      "text/plain": [
       "<matplotlib.axes._subplots.AxesSubplot at 0x1a1f982b70>"
      ]
     },
     "execution_count": 87,
     "metadata": {},
     "output_type": "execute_result"
    },
    {
     "data": {
      "image/png": "[encoded data removed]",
      "text/plain": [
       "<Figure size 576x360 with 1 Axes>"
      ]
     },
     "metadata": {
      "needs_background": "light"
     },
     "output_type": "display_data"
    }
   ],
   "source": [
    "plt.figure(figsize=(8,5))\n",
    "sns.countplot(data['income'])"
   ]
  },
  {
   "cell_type": "markdown",
   "metadata": {},
   "source": [
    "#### As one can see, there is considerable class imbalance in the target variable, i.e. income. This is also intuitively obvious as one expects fewer 'rich' people (earning>50k/annum) than 'not-so-rich' people (earning <50k/annum). Therefore we might need to consider over-sampling techniques in our ML model to improve our accuracy."
   ]
  },
  {
   "cell_type": "code",
   "execution_count": 88,
   "metadata": {
    "scrolled": false
   },
   "outputs": [
    {
     "data": {
      "text/plain": [
       "<matplotlib.axes._subplots.AxesSubplot at 0x1a23f68828>"
      ]
     },
     "execution_count": 88,
     "metadata": {},
     "output_type": "execute_result"
    },
    {
     "data": {
      "image/png": "[encoded data removed]",
      "text/plain": [
       "<Figure size 1008x432 with 1 Axes>"
      ]
     },
     "metadata": {
      "needs_background": "light"
     },
     "output_type": "display_data"
    }
   ],
   "source": [
    "plt.figure(figsize=(14,6))\n",
    "sns.countplot(data['marital.status'])"
   ]
  },
  {
   "cell_type": "code",
   "execution_count": 89,
   "metadata": {},
   "outputs": [
    {
     "data": {
      "text/plain": [
       "<matplotlib.axes._subplots.AxesSubplot at 0x1a23e9a860>"
      ]
     },
     "execution_count": 89,
     "metadata": {},
     "output_type": "execute_result"
    },
    {
     "data": {
      "image/png": "[encoded data removed]",
      "text/plain": [
       "<Figure size 864x432 with 1 Axes>"
      ]
     },
     "metadata": {
      "needs_background": "light"
     },
     "output_type": "display_data"
    }
   ],
   "source": [
    "plt.figure(figsize=(12,6))\n",
    "sns.countplot(data['workclass'])"
   ]
  },
  {
   "cell_type": "code",
   "execution_count": 90,
   "metadata": {},
   "outputs": [
    {
     "data": {
      "text/plain": [
       "<matplotlib.axes._subplots.AxesSubplot at 0x1a23e2ca90>"
      ]
     },
     "execution_count": 90,
     "metadata": {},
     "output_type": "execute_result"
    },
    {
     "data": {
      "image/png": "[encoded data removed]",
      "text/plain": [
       "<Figure size 720x576 with 2 Axes>"
      ]
     },
     "metadata": {
      "needs_background": "light"
     },
     "output_type": "display_data"
    }
   ],
   "source": [
    "plt.figure(figsize=(10,8))  \n",
    "sns.heatmap(data.corr(),cmap='Accent',annot=True)\n",
    "#data.corr()"
   ]
  },
  {
   "cell_type": "code",
   "execution_count": 91,
   "metadata": {},
   "outputs": [
    {
     "data": {
      "text/plain": [
       "<matplotlib.axes._subplots.AxesSubplot at 0x1a23e2c0f0>"
      ]
     },
     "execution_count": 91,
     "metadata": {},
     "output_type": "execute_result"
    },
    {
     "data": {
      "image/png": "[encoded data removed]",
      "text/plain": [
       "<Figure size 864x432 with 1 Axes>"
      ]
     },
     "metadata": {
      "needs_background": "light"
     },
     "output_type": "display_data"
    }
   ],
   "source": [
    "plt.figure(figsize=(12,6))\n",
    "sns.boxplot(x=\"income\", y=\"age\", data=data, hue='sex')\n",
    "#data[data['income']==0]['age'].mean()"
   ]
  },
  {
   "cell_type": "markdown",
   "metadata": {},
   "source": [
    "The mean age of people earning more than 50k per annum is around 44 whereas the mean age of of those earning less than 50k per annum is 36."
   ]
  },
  {
   "cell_type": "code",
   "execution_count": 92,
   "metadata": {
    "scrolled": true
   },
   "outputs": [
    {
     "data": {
      "text/plain": [
       "<matplotlib.axes._subplots.AxesSubplot at 0x1a21b02128>"
      ]
     },
     "execution_count": 92,
     "metadata": {},
     "output_type": "execute_result"
    },
    {
     "data": {
      "image/png": "[encoded data removed]",
      "text/plain": [
       "<Figure size 576x360 with 1 Axes>"
      ]
     },
     "metadata": {
      "needs_background": "light"
     },
     "output_type": "display_data"
    }
   ],
   "source": [
    "norm_fnl = (data[\"fnlwgt\"] - data['fnlwgt'].mean())/data['fnlwgt'].std()\n",
    "plt.figure(figsize=(8,5))\n",
    "sns.boxplot(x=\"income\", y=norm_fnl, data=data)"
   ]
  },
  {
   "cell_type": "markdown",
   "metadata": {},
   "source": [
    "As evident from the plot above, there are many outliers in the `fnlwgt` column and this feature is uncorrelated with `income`, our target variable. The correlation coefficient (which one can read from the heatmap) is -0.0095. The number of outliers, i.e. the number of records which are more than 2 s.d's away from the mean, is 1249."
   ]
  },
  {
   "cell_type": "code",
   "execution_count": 93,
   "metadata": {},
   "outputs": [
    {
     "data": {
      "text/plain": [
       "(1249, 15)"
      ]
     },
     "execution_count": 93,
     "metadata": {},
     "output_type": "execute_result"
    }
   ],
   "source": [
    "data[norm_fnl>2].shape"
   ]
  },
  {
   "cell_type": "code",
   "execution_count": 94,
   "metadata": {},
   "outputs": [
    {
     "data": {
      "text/plain": [
       "<matplotlib.axes._subplots.AxesSubplot at 0x1a23e2c828>"
      ]
     },
     "execution_count": 94,
     "metadata": {},
     "output_type": "execute_result"
    },
    {
     "data": {
      "image/png": "[encoded data removed]",
      "text/plain": [
       "<Figure size 720x360 with 1 Axes>"
      ]
     },
     "metadata": {
      "needs_background": "light"
     },
     "output_type": "display_data"
    }
   ],
   "source": [
    "plt.figure(figsize=(10,5))\n",
    "sns.barplot(x='sex',y='income',data=data)"
   ]
  },
  {
   "cell_type": "code",
   "execution_count": 142,
   "metadata": {},
   "outputs": [
    {
     "data": {
      "text/plain": [
       "Married-civ-spouse       14976\n",
       "Never-married            10683\n",
       "Divorced                  4443\n",
       "Separated                 1025\n",
       "Widowed                    993\n",
       "Married-spouse-absent      418\n",
       "Married-AF-spouse           23\n",
       "Name: marital.status, dtype: int64"
      ]
     },
     "execution_count": 142,
     "metadata": {},
     "output_type": "execute_result"
    },
    {
     "data": {
      "image/png": "[encoded data removed]",
      "text/plain": [
       "<Figure size 1080x432 with 1 Axes>"
      ]
     },
     "metadata": {
      "needs_background": "light"
     },
     "output_type": "display_data"
    }
   ],
   "source": [
    "plt.figure(figsize=(15,6))\n",
    "ax=sns.barplot(x='marital.status',y='income',data=data,hue='sex')\n",
    "ax.set(ylabel='Income %age > $50k')\n",
    "data['marital.status'].value_counts()"
   ]
  },
  {
   "cell_type": "markdown",
   "metadata": {},
   "source": [
    "The above plot shows the the fraction of people earning more than $50k per annum, grouped by their marital status and gender. The data shows that married people have a higher %age of high-earners, compared to those who either never married or are widowed/divorced/separated. The black lines indicate the standard deviation in the data set. The married spouses of armed forces personnel have a much higher variation in their income compared to civil spouses because of low-number statistics."
   ]
  },
  {
   "cell_type": "code",
   "execution_count": 96,
   "metadata": {},
   "outputs": [
    {
     "data": {
      "text/plain": [
       "Index(['age', 'workclass', 'fnlwgt', 'education', 'education.num',\n",
       "       'marital.status', 'occupation', 'relationship', 'race', 'sex',\n",
       "       'capital.gain', 'capital.loss', 'hours.per.week', 'native.country',\n",
       "       'income'],\n",
       "      dtype='object')"
      ]
     },
     "execution_count": 96,
     "metadata": {},
     "output_type": "execute_result"
    }
   ],
   "source": [
    "data.columns"
   ]
  },
  {
   "cell_type": "code",
   "execution_count": 140,
   "metadata": {},
   "outputs": [
    {
     "data": {
      "text/plain": [
       "<matplotlib.axes._subplots.AxesSubplot at 0x1a1e5838d0>"
      ]
     },
     "execution_count": 140,
     "metadata": {},
     "output_type": "execute_result"
    },
    {
     "data": {
      "image/png": "[encoded data removed]",
      "text/plain": [
       "<Figure size 864x432 with 1 Axes>"
      ]
     },
     "metadata": {
      "needs_background": "light"
     },
     "output_type": "display_data"
    }
   ],
   "source": [
    "plt.figure(figsize=(12,6))\n",
    "sns.boxplot(x='income',y ='hours.per.week', hue='sex',data=data)"
   ]
  },
  {
   "cell_type": "code",
   "execution_count": 141,
   "metadata": {},
   "outputs": [
    {
     "data": {
      "text/plain": [
       "Married-civ-spouse       14976\n",
       "Never-married            10683\n",
       "Divorced                  4443\n",
       "Separated                 1025\n",
       "Widowed                    993\n",
       "Married-spouse-absent      418\n",
       "Married-AF-spouse           23\n",
       "Name: marital.status, dtype: int64"
      ]
     },
     "execution_count": 141,
     "metadata": {},
     "output_type": "execute_result"
    },
    {
     "data": {
      "image/png": "[encoded data removed]",
      "text/plain": [
       "<Figure size 1080x432 with 1 Axes>"
      ]
     },
     "metadata": {
      "needs_background": "light"
     },
     "output_type": "display_data"
    }
   ],
   "source": [
    "plt.figure(figsize=(15,6))\n",
    "sns.barplot(x='marital.status',y='hours.per.week',data=data)#,hue='sex')"
   ]
  },
  {
   "cell_type": "code",
   "execution_count": 98,
   "metadata": {},
   "outputs": [
    {
     "data": {
      "text/plain": [
       "<seaborn.axisgrid.FacetGrid at 0x1a21a7bc18>"
      ]
     },
     "execution_count": 98,
     "metadata": {},
     "output_type": "execute_result"
    },
    {
     "data": {
      "image/png": "[encoded data removed]",
      "text/plain": [
       "<Figure size 720x360 with 2 Axes>"
      ]
     },
     "metadata": {
      "needs_background": "light"
     },
     "output_type": "display_data"
    }
   ],
   "source": [
    "sns.catplot(x='income', y='capital.gain',col='sex',data=data)"
   ]
  },
  {
   "cell_type": "code",
   "execution_count": 70,
   "metadata": {},
   "outputs": [
    {
     "name": "stdout",
     "output_type": "stream",
     "text": [
      "1    27504\n",
      "0     3214\n",
      "Name: native.country, dtype: int64\n",
      "30718 people are not from the United States\n"
     ]
    },
    {
     "name": "stderr",
     "output_type": "stream",
     "text": [
      "/Users/debashis/anaconda3/lib/python3.6/site-packages/pandas/core/ops.py:1649: FutureWarning: elementwise comparison failed; returning scalar instead, but in the future will perform elementwise comparison\n",
      "  result = method(y)\n"
     ]
    },
    {
     "data": {
      "image/png": "[encoded data removed]",
      "text/plain": [
       "<Figure size 432x288 with 1 Axes>"
      ]
     },
     "metadata": {
      "needs_background": "light"
     },
     "output_type": "display_data"
    }
   ],
   "source": [
    "print(data['native.country'].value_counts())\n",
    "sns.countplot(data['native.country'])\n",
    "not_from_US = np.sum(data['native.country']!='United-States')\n",
    "print(not_from_US, 'people are not from the United States')"
   ]
  },
  {
   "cell_type": "code",
   "execution_count": 42,
   "metadata": {},
   "outputs": [],
   "source": [
    "data['native.country'] = (data['native.country']=='United-States')*1"
   ]
  },
  {
   "cell_type": "code",
   "execution_count": 43,
   "metadata": {},
   "outputs": [
    {
     "data": {
      "text/html": [
       "<div>\n",
       "<style scoped>\n",
       "    .dataframe tbody tr th:only-of-type {\n",
       "        vertical-align: middle;\n",
       "    }\n",
       "\n",
       "    .dataframe tbody tr th {\n",
       "        vertical-align: top;\n",
       "    }\n",
       "\n",
       "    .dataframe thead th {\n",
       "        text-align: right;\n",
       "    }\n",
       "</style>\n",
       "<table border=\"1\" class=\"dataframe\">\n",
       "  <thead>\n",
       "    <tr style=\"text-align: right;\">\n",
       "      <th></th>\n",
       "      <th>workclass</th>\n",
       "      <th>education</th>\n",
       "      <th>marital.status</th>\n",
       "      <th>occupation</th>\n",
       "      <th>relationship</th>\n",
       "      <th>race</th>\n",
       "      <th>sex</th>\n",
       "    </tr>\n",
       "  </thead>\n",
       "  <tbody>\n",
       "    <tr>\n",
       "      <th>0</th>\n",
       "      <td>?</td>\n",
       "      <td>HS-grad</td>\n",
       "      <td>Widowed</td>\n",
       "      <td>?</td>\n",
       "      <td>Not-in-family</td>\n",
       "      <td>White</td>\n",
       "      <td>Female</td>\n",
       "    </tr>\n",
       "    <tr>\n",
       "      <th>1</th>\n",
       "      <td>Private</td>\n",
       "      <td>HS-grad</td>\n",
       "      <td>Widowed</td>\n",
       "      <td>Exec-managerial</td>\n",
       "      <td>Not-in-family</td>\n",
       "      <td>White</td>\n",
       "      <td>Female</td>\n",
       "    </tr>\n",
       "    <tr>\n",
       "      <th>2</th>\n",
       "      <td>?</td>\n",
       "      <td>Some-college</td>\n",
       "      <td>Widowed</td>\n",
       "      <td>?</td>\n",
       "      <td>Unmarried</td>\n",
       "      <td>Black</td>\n",
       "      <td>Female</td>\n",
       "    </tr>\n",
       "    <tr>\n",
       "      <th>3</th>\n",
       "      <td>Private</td>\n",
       "      <td>7th-8th</td>\n",
       "      <td>Divorced</td>\n",
       "      <td>Machine-op-inspct</td>\n",
       "      <td>Unmarried</td>\n",
       "      <td>White</td>\n",
       "      <td>Female</td>\n",
       "    </tr>\n",
       "    <tr>\n",
       "      <th>4</th>\n",
       "      <td>Private</td>\n",
       "      <td>Some-college</td>\n",
       "      <td>Separated</td>\n",
       "      <td>Prof-specialty</td>\n",
       "      <td>Own-child</td>\n",
       "      <td>White</td>\n",
       "      <td>Female</td>\n",
       "    </tr>\n",
       "  </tbody>\n",
       "</table>\n",
       "</div>"
      ],
      "text/plain": [
       "  workclass     education marital.status         occupation   relationship  \\\n",
       "0         ?       HS-grad        Widowed                  ?  Not-in-family   \n",
       "1   Private       HS-grad        Widowed    Exec-managerial  Not-in-family   \n",
       "2         ?  Some-college        Widowed                  ?      Unmarried   \n",
       "3   Private       7th-8th       Divorced  Machine-op-inspct      Unmarried   \n",
       "4   Private  Some-college      Separated     Prof-specialty      Own-child   \n",
       "\n",
       "    race     sex  \n",
       "0  White  Female  \n",
       "1  White  Female  \n",
       "2  Black  Female  \n",
       "3  White  Female  \n",
       "4  White  Female  "
      ]
     },
     "execution_count": 43,
     "metadata": {},
     "output_type": "execute_result"
    }
   ],
   "source": [
    "data.select_dtypes(exclude=[np.number]).head()"
   ]
  },
  {
   "cell_type": "code",
   "execution_count": 44,
   "metadata": {},
   "outputs": [],
   "source": [
    "data = data.applymap(lambda x: np.nan if x=='?' else x) #Replace all '?'s with NaNs."
   ]
  },
  {
   "cell_type": "code",
   "execution_count": 45,
   "metadata": {},
   "outputs": [
    {
     "data": {
      "text/plain": [
       "age                         0\n",
       "workclass                1836\n",
       "fnlwgt                      0\n",
       "education                   0\n",
       "education.num               0\n",
       "marital.status              0\n",
       "occupation               1843\n",
       "relationship                0\n",
       "race                        0\n",
       "sex                         0\n",
       "capital.gain                0\n",
       "capital.loss                0\n",
       "hours.per.week              0\n",
       "native.country              0\n",
       "income                      0\n",
       "binary_native_country       0\n",
       "dtype: int64"
      ]
     },
     "execution_count": 45,
     "metadata": {},
     "output_type": "execute_result"
    }
   ],
   "source": [
    "data.isnull().sum(axis=0)"
   ]
  },
  {
   "cell_type": "code",
   "execution_count": 46,
   "metadata": {},
   "outputs": [
    {
     "data": {
      "text/plain": [
       "1843"
      ]
     },
     "execution_count": 46,
     "metadata": {},
     "output_type": "execute_result"
    }
   ],
   "source": [
    "data.shape[0] - data.dropna(axis=0).shape[0]   # how many rows will be removed if I remove all the NaN's?"
   ]
  },
  {
   "cell_type": "code",
   "execution_count": 47,
   "metadata": {},
   "outputs": [],
   "source": [
    "data = data.dropna(axis=0) ## Drop all the NaNs"
   ]
  },
  {
   "cell_type": "code",
   "execution_count": 48,
   "metadata": {},
   "outputs": [
    {
     "data": {
      "text/plain": [
       "HS-grad         9968\n",
       "Some-college    6775\n",
       "Bachelors       5182\n",
       "Masters         1675\n",
       "Assoc-voc       1321\n",
       "11th            1056\n",
       "Assoc-acdm      1020\n",
       "10th             831\n",
       "7th-8th          573\n",
       "Prof-school      558\n",
       "9th              463\n",
       "Doctorate        398\n",
       "12th             393\n",
       "5th-6th          303\n",
       "1st-4th          156\n",
       "Preschool         46\n",
       "Name: education, dtype: int64"
      ]
     },
     "execution_count": 48,
     "metadata": {},
     "output_type": "execute_result"
    }
   ],
   "source": [
    "data.education.value_counts()  # I will label-encode the education column since it is an ordinal categorical variable"
   ]
  },
  {
   "cell_type": "code",
   "execution_count": 49,
   "metadata": {},
   "outputs": [],
   "source": [
    "## This computes the fraction of people by country who earn >50k per annum\n",
    "mean_income_bycountry_df = data[['native.country','income']].groupby(['native.country']).mean().reset_index()"
   ]
  },
  {
   "cell_type": "code",
   "execution_count": 50,
   "metadata": {},
   "outputs": [],
   "source": [
    "edu_encode_dict = {'Preschool':0,'1st-4th':1, '5th-6th':2, '7th-8th':3, '9th':4, '10th':5,\n",
    "                  '11th':6, '12th':7, 'HS-grad':8, 'Some-college':9, 'Bachelors':10, 'Masters':11, 'Assoc-voc':12, \n",
    "                   'Assoc-acdm':13, 'Doctorate':14, 'Prof-school':15}\n",
    "\n",
    "data['education'] = data['education'].apply(lambda ed_level: edu_encode_dict[ed_level])"
   ]
  },
  {
   "cell_type": "markdown",
   "metadata": {},
   "source": [
    "### One-hot encoding of the categorical columns"
   ]
  },
  {
   "cell_type": "code",
   "execution_count": 51,
   "metadata": {},
   "outputs": [],
   "source": [
    "data = pd.get_dummies(data,columns=['workclass','sex', 'marital.status',\n",
    "                                    'race','relationship','occupation'],\n",
    "               prefix=['workclass', 'is', 'is', 'race_is', 'relation', 'is'], drop_first=True)\n",
    "### native country is ignored because that feature will be dropped later"
   ]
  },
  {
   "cell_type": "code",
   "execution_count": 52,
   "metadata": {},
   "outputs": [
    {
     "data": {
      "text/plain": [
       "<matplotlib.axes._subplots.AxesSubplot at 0x1a1ceafcf8>"
      ]
     },
     "execution_count": 52,
     "metadata": {},
     "output_type": "execute_result"
    },
    {
     "data": {
      "image/png": "[encoded data removed]",
      "text/plain": [
       "<Figure size 1440x864 with 2 Axes>"
      ]
     },
     "metadata": {
      "needs_background": "light"
     },
     "output_type": "display_data"
    }
   ],
   "source": [
    "plt.figure(figsize=(20,12))\n",
    "sns.heatmap(data.corr())"
   ]
  },
  {
   "cell_type": "code",
   "execution_count": 53,
   "metadata": {},
   "outputs": [
    {
     "data": {
      "text/plain": [
       "(30718, 0)"
      ]
     },
     "execution_count": 53,
     "metadata": {},
     "output_type": "execute_result"
    }
   ],
   "source": [
    "data.select_dtypes(exclude=[np.number]).shape"
   ]
  },
  {
   "cell_type": "code",
   "execution_count": 54,
   "metadata": {},
   "outputs": [],
   "source": [
    "#data['foo']=np.where(data['native.country']=='United-States',1,0)"
   ]
  },
  {
   "cell_type": "code",
   "execution_count": 55,
   "metadata": {},
   "outputs": [
    {
     "data": {
      "text/html": [
       "<div>\n",
       "<style scoped>\n",
       "    .dataframe tbody tr th:only-of-type {\n",
       "        vertical-align: middle;\n",
       "    }\n",
       "\n",
       "    .dataframe tbody tr th {\n",
       "        vertical-align: top;\n",
       "    }\n",
       "\n",
       "    .dataframe thead th {\n",
       "        text-align: right;\n",
       "    }\n",
       "</style>\n",
       "<table border=\"1\" class=\"dataframe\">\n",
       "  <thead>\n",
       "    <tr style=\"text-align: right;\">\n",
       "      <th></th>\n",
       "      <th>age</th>\n",
       "      <th>fnlwgt</th>\n",
       "      <th>education</th>\n",
       "      <th>education.num</th>\n",
       "      <th>capital.gain</th>\n",
       "      <th>capital.loss</th>\n",
       "      <th>hours.per.week</th>\n",
       "      <th>native.country</th>\n",
       "      <th>binary_native_country</th>\n",
       "      <th>workclass_Local-gov</th>\n",
       "      <th>...</th>\n",
       "      <th>is_Farming-fishing</th>\n",
       "      <th>is_Handlers-cleaners</th>\n",
       "      <th>is_Machine-op-inspct</th>\n",
       "      <th>is_Other-service</th>\n",
       "      <th>is_Priv-house-serv</th>\n",
       "      <th>is_Prof-specialty</th>\n",
       "      <th>is_Protective-serv</th>\n",
       "      <th>is_Sales</th>\n",
       "      <th>is_Tech-support</th>\n",
       "      <th>is_Transport-moving</th>\n",
       "    </tr>\n",
       "    <tr>\n",
       "      <th>income</th>\n",
       "      <th></th>\n",
       "      <th></th>\n",
       "      <th></th>\n",
       "      <th></th>\n",
       "      <th></th>\n",
       "      <th></th>\n",
       "      <th></th>\n",
       "      <th></th>\n",
       "      <th></th>\n",
       "      <th></th>\n",
       "      <th></th>\n",
       "      <th></th>\n",
       "      <th></th>\n",
       "      <th></th>\n",
       "      <th></th>\n",
       "      <th></th>\n",
       "      <th></th>\n",
       "      <th></th>\n",
       "      <th></th>\n",
       "      <th></th>\n",
       "      <th></th>\n",
       "    </tr>\n",
       "  </thead>\n",
       "  <tbody>\n",
       "    <tr>\n",
       "      <th>0</th>\n",
       "      <td>36.612190</td>\n",
       "      <td>190419.176782</td>\n",
       "      <td>8.464323</td>\n",
       "      <td>9.636509</td>\n",
       "      <td>148.055618</td>\n",
       "      <td>53.528524</td>\n",
       "      <td>39.371900</td>\n",
       "      <td>0.889067</td>\n",
       "      <td>0.889067</td>\n",
       "      <td>0.063985</td>\n",
       "      <td>...</td>\n",
       "      <td>0.038105</td>\n",
       "      <td>0.055662</td>\n",
       "      <td>0.075949</td>\n",
       "      <td>0.136900</td>\n",
       "      <td>0.006416</td>\n",
       "      <td>0.098882</td>\n",
       "      <td>0.018987</td>\n",
       "      <td>0.115615</td>\n",
       "      <td>0.027961</td>\n",
       "      <td>0.055358</td>\n",
       "    </tr>\n",
       "    <tr>\n",
       "      <th>1</th>\n",
       "      <td>43.966013</td>\n",
       "      <td>188115.803660</td>\n",
       "      <td>9.978824</td>\n",
       "      <td>11.619346</td>\n",
       "      <td>3994.758170</td>\n",
       "      <td>195.601046</td>\n",
       "      <td>45.705882</td>\n",
       "      <td>0.914379</td>\n",
       "      <td>0.914379</td>\n",
       "      <td>0.080654</td>\n",
       "      <td>...</td>\n",
       "      <td>0.015033</td>\n",
       "      <td>0.011242</td>\n",
       "      <td>0.032680</td>\n",
       "      <td>0.017908</td>\n",
       "      <td>0.000131</td>\n",
       "      <td>0.243007</td>\n",
       "      <td>0.027582</td>\n",
       "      <td>0.128497</td>\n",
       "      <td>0.036993</td>\n",
       "      <td>0.041830</td>\n",
       "    </tr>\n",
       "  </tbody>\n",
       "</table>\n",
       "<p>2 rows × 44 columns</p>\n",
       "</div>"
      ],
      "text/plain": [
       "              age         fnlwgt  education  education.num  capital.gain  \\\n",
       "income                                                                     \n",
       "0       36.612190  190419.176782   8.464323       9.636509    148.055618   \n",
       "1       43.966013  188115.803660   9.978824      11.619346   3994.758170   \n",
       "\n",
       "        capital.loss  hours.per.week  native.country  binary_native_country  \\\n",
       "income                                                                        \n",
       "0          53.528524       39.371900        0.889067               0.889067   \n",
       "1         195.601046       45.705882        0.914379               0.914379   \n",
       "\n",
       "        workclass_Local-gov  ...  is_Farming-fishing  is_Handlers-cleaners  \\\n",
       "income                       ...                                             \n",
       "0                  0.063985  ...            0.038105              0.055662   \n",
       "1                  0.080654  ...            0.015033              0.011242   \n",
       "\n",
       "        is_Machine-op-inspct  is_Other-service  is_Priv-house-serv  \\\n",
       "income                                                               \n",
       "0                   0.075949          0.136900            0.006416   \n",
       "1                   0.032680          0.017908            0.000131   \n",
       "\n",
       "        is_Prof-specialty  is_Protective-serv  is_Sales  is_Tech-support  \\\n",
       "income                                                                     \n",
       "0                0.098882            0.018987  0.115615         0.027961   \n",
       "1                0.243007            0.027582  0.128497         0.036993   \n",
       "\n",
       "        is_Transport-moving  \n",
       "income                       \n",
       "0                  0.055358  \n",
       "1                  0.041830  \n",
       "\n",
       "[2 rows x 44 columns]"
      ]
     },
     "execution_count": 55,
     "metadata": {},
     "output_type": "execute_result"
    }
   ],
   "source": [
    "data.groupby('income').mean()"
   ]
  },
  {
   "cell_type": "code",
   "execution_count": 56,
   "metadata": {},
   "outputs": [
    {
     "data": {
      "text/plain": [
       "(30718, 45)"
      ]
     },
     "execution_count": 56,
     "metadata": {},
     "output_type": "execute_result"
    }
   ],
   "source": [
    "data.shape"
   ]
  },
  {
   "cell_type": "code",
   "execution_count": 57,
   "metadata": {},
   "outputs": [],
   "source": [
    "y = data.income\n",
    "X = data.drop(['income', 'education', 'native.country', 'fnlwgt'],axis=1)"
   ]
  },
  {
   "cell_type": "markdown",
   "metadata": {},
   "source": [
    "- `income` is dropped from X because it is the target variable.\n",
    "- `Education` is dropped because it is already label-encoded in `education.num`. One can notice the high correlation between `education` and `education.num` in the heatmap.\n",
    "- `native country` is dropped because it showed very little feature importance in random forest classifer.\n",
    "- `fnlwgt` is dropped because it has no correlation with `income`."
   ]
  },
  {
   "cell_type": "markdown",
   "metadata": {},
   "source": [
    "## Modelling\n",
    "This section explores different classification algorithms to maximise the accuracy for predicting income of a person (> 50k/yr or < 50k/yr)."
   ]
  },
  {
   "cell_type": "code",
   "execution_count": 58,
   "metadata": {},
   "outputs": [],
   "source": [
    "from sklearn.model_selection import train_test_split"
   ]
  },
  {
   "cell_type": "code",
   "execution_count": 59,
   "metadata": {},
   "outputs": [],
   "source": [
    "# Split the dataset into training and testing set\n",
    "X_train, X_test, y_train, y_test = train_test_split(X, y, test_size=0.3, random_state=42)"
   ]
  },
  {
   "cell_type": "code",
   "execution_count": 60,
   "metadata": {},
   "outputs": [],
   "source": [
    "from sklearn.ensemble import RandomForestClassifier\n",
    "from sklearn.ensemble import ExtraTreesClassifier\n",
    "from xgboost import XGBClassifier as xgb\n",
    "from sklearn import metrics"
   ]
  },
  {
   "cell_type": "markdown",
   "metadata": {},
   "source": [
    "### Baseline model\n",
    "In the baseline model, we predict the minority class for all our train and test (or validation) examples. The resulting accuracy will serve as a benchmark for the ML models. In other words, the sophisticated ML models should have an accuracy which should at least better the baseline one."
   ]
  },
  {
   "cell_type": "code",
   "execution_count": 61,
   "metadata": {},
   "outputs": [
    {
     "name": "stdout",
     "output_type": "stream",
     "text": [
      "Accuracy on train data: 0.750442%\n",
      "Accuracy on test data: 0.752170%\n"
     ]
    }
   ],
   "source": [
    "baseline_train = np.zeros(y_train.shape[0])\n",
    "baseline_test = np.zeros(y_test.shape[0])\n",
    "print('Accuracy on train data: %f%%' % (metrics.accuracy_score(y_train, baseline_train)))\n",
    "print('Accuracy on test data: %f%%' %  (metrics.accuracy_score(y_test, baseline_test)))"
   ]
  },
  {
   "cell_type": "markdown",
   "metadata": {},
   "source": [
    "### Random Forest classifier"
   ]
  },
  {
   "cell_type": "code",
   "execution_count": 62,
   "metadata": {},
   "outputs": [
    {
     "name": "stdout",
     "output_type": "stream",
     "text": [
      "RandomForestClassifier(bootstrap=True, class_weight=None, criterion='gini',\n",
      "            max_depth=10, max_features='auto', max_leaf_nodes=None,\n",
      "            min_impurity_decrease=0.0, min_impurity_split=None,\n",
      "            min_samples_leaf=1, min_samples_split=5,\n",
      "            min_weight_fraction_leaf=0.0, n_estimators=300, n_jobs=None,\n",
      "            oob_score=True, random_state=10, verbose=0, warm_start=False)\n"
     ]
    }
   ],
   "source": [
    "rfmodel = RandomForestClassifier(n_estimators=300,oob_score=True,min_samples_split=5, max_depth=10,random_state=10)\n",
    "rfmodel.fit(X_train,y_train)\n",
    "print(rfmodel)"
   ]
  },
  {
   "cell_type": "code",
   "execution_count": 63,
   "metadata": {},
   "outputs": [],
   "source": [
    "def show_classifier_metrics(clf, y_train=y_train,y_test=y_test, print_classification_report=True, print_confusion_matrix=True):\n",
    "    print(clf)\n",
    "    if print_confusion_matrix:\n",
    "        print('confusion matrix of training data')\n",
    "        print(metrics.confusion_matrix(y_train, clf.predict(X_train)))\n",
    "        print('confusion matrix of test data')\n",
    "        print(metrics.confusion_matrix(y_test, clf.predict(X_test)))\n",
    "    if print_classification_report:\n",
    "        print('classification report of test data')\n",
    "        print(metrics.classification_report(y_test, clf.predict(X_test)))\n",
    "    print('Accuracy on test data: %f%%' % (metrics.accuracy_score(y_test, clf.predict(X_test))*100))\n",
    "    print('Accuracy on training data: %f%%' % (metrics.accuracy_score(y_train, clf.predict(X_train))*100))\n",
    "    print('Area under the ROC curve : %f' % (metrics.roc_auc_score(y_test, clf.predict(X_test))))"
   ]
  },
  {
   "cell_type": "code",
   "execution_count": 64,
   "metadata": {},
   "outputs": [
    {
     "name": "stdout",
     "output_type": "stream",
     "text": [
      "RandomForestClassifier(bootstrap=True, class_weight=None, criterion='gini',\n",
      "            max_depth=10, max_features='auto', max_leaf_nodes=None,\n",
      "            min_impurity_decrease=0.0, min_impurity_split=None,\n",
      "            min_samples_leaf=1, min_samples_split=5,\n",
      "            min_weight_fraction_leaf=0.0, n_estimators=300, n_jobs=None,\n",
      "            oob_score=True, random_state=10, verbose=0, warm_start=False)\n",
      "confusion matrix of training data\n",
      "[[15477   659]\n",
      " [ 2257  3109]]\n",
      "confusion matrix of test data\n",
      "[[6647  285]\n",
      " [1056 1228]]\n",
      "classification report of test data\n",
      "              precision    recall  f1-score   support\n",
      "\n",
      "           0       0.86      0.96      0.91      6932\n",
      "           1       0.81      0.54      0.65      2284\n",
      "\n",
      "   micro avg       0.85      0.85      0.85      9216\n",
      "   macro avg       0.84      0.75      0.78      9216\n",
      "weighted avg       0.85      0.85      0.84      9216\n",
      "\n",
      "Accuracy on test data: 85.449219%\n",
      "Accuracy on training data: 86.438471%\n",
      "Area under the ROC curve : 0.748270\n",
      "oob score = 0.855920\n"
     ]
    }
   ],
   "source": [
    "show_classifier_metrics(rfmodel,y_train)\n",
    "print('oob score = %f'% rfmodel.oob_score_)"
   ]
  },
  {
   "cell_type": "code",
   "execution_count": 65,
   "metadata": {},
   "outputs": [
    {
     "data": {
      "image/png": "[encoded data removed]",
      "text/plain": [
       "<Figure size 1440x720 with 1 Axes>"
      ]
     },
     "metadata": {
      "needs_background": "light"
     },
     "output_type": "display_data"
    }
   ],
   "source": [
    "importance_list = rfmodel.feature_importances_\n",
    "name_list = X_train.columns\n",
    "importance_list, name_list = zip(*sorted(zip(importance_list, name_list)))\n",
    "plt.figure(figsize=(20,10))\n",
    "plt.barh(range(len(name_list)),importance_list,align='center')\n",
    "plt.yticks(range(len(name_list)),name_list)\n",
    "plt.xlabel('Relative Importance in the Random Forest')\n",
    "plt.ylabel('Features')\n",
    "plt.title('Relative importance of Each Feature')\n",
    "plt.show()"
   ]
  },
  {
   "cell_type": "markdown",
   "metadata": {},
   "source": [
    "### Random forest: Grid Search and cross-validation"
   ]
  },
  {
   "cell_type": "code",
   "execution_count": 131,
   "metadata": {},
   "outputs": [],
   "source": [
    "from sklearn.model_selection import cross_val_score, GridSearchCV"
   ]
  },
  {
   "cell_type": "code",
   "execution_count": 132,
   "metadata": {},
   "outputs": [],
   "source": [
    "def grid_search(clf, parameters, X, y, n_jobs= -1, n_folds=4, score_func=None):\n",
    "    if score_func:\n",
    "        gs = GridSearchCV(clf, param_grid=parameters, cv=n_folds, n_jobs=n_jobs, scoring=score_func,verbose =2)\n",
    "    else:\n",
    "        print('Doing grid search')\n",
    "        gs = GridSearchCV(clf, param_grid=parameters, n_jobs=n_jobs, cv=n_folds, verbose =2)\n",
    "    gs.fit(X, y)\n",
    "    print(\"mean test score (weighted by split size) of CV rounds: \",gs.cv_results_['mean_test_score'] )\n",
    "    print (\"Best parameter set\", gs.best_params_, \"Corresponding mean CV score\",gs.best_score_)\n",
    "    best = gs.best_estimator_\n",
    "    return best"
   ]
  },
  {
   "cell_type": "code",
   "execution_count": 143,
   "metadata": {},
   "outputs": [
    {
     "name": "stdout",
     "output_type": "stream",
     "text": [
      "Doing grid search\n",
      "Fitting 4 folds for each of 12 candidates, totalling 48 fits\n"
     ]
    },
    {
     "name": "stderr",
     "output_type": "stream",
     "text": [
      "[Parallel(n_jobs=-1)]: Using backend LokyBackend with 4 concurrent workers.\n",
      "[Parallel(n_jobs=-1)]: Done  33 tasks      | elapsed:  1.1min\n",
      "[Parallel(n_jobs=-1)]: Done  48 out of  48 | elapsed:  1.5min finished\n"
     ]
    },
    {
     "name": "stdout",
     "output_type": "stream",
     "text": [
      "mean test score (weighted by split size) of CV rounds:  [0.85489722 0.85545531 0.85568784 0.85847828 0.85847828 0.85833876\n",
      " 0.85917589 0.8586178  0.85912938 0.85968747 0.85847828 0.85917589]\n",
      "Best parameter set {'max_depth': 20, 'n_estimators': 100} Corresponding mean CV score 0.8596874709329365\n"
     ]
    }
   ],
   "source": [
    "rfmodel2 = RandomForestClassifier(min_samples_split=5,oob_score=True, n_jobs=-1,random_state=10)\n",
    "parameters = {'n_estimators': [100,200,300], 'max_depth': [10,13,15,20]}\n",
    "rfmodelCV = grid_search(rfmodel2, parameters,X_train,y_train)"
   ]
  },
  {
   "cell_type": "code",
   "execution_count": 144,
   "metadata": {},
   "outputs": [
    {
     "name": "stdout",
     "output_type": "stream",
     "text": [
      "RandomForestClassifier(bootstrap=True, class_weight=None, criterion='gini',\n",
      "            max_depth=20, max_features='auto', max_leaf_nodes=None,\n",
      "            min_impurity_decrease=0.0, min_impurity_split=None,\n",
      "            min_samples_leaf=1, min_samples_split=5,\n",
      "            min_weight_fraction_leaf=0.0, n_estimators=100, n_jobs=-1,\n",
      "            oob_score=True, random_state=10, verbose=0, warm_start=False)\n",
      "confusion matrix of training data\n",
      "[[15612   524]\n",
      " [ 1471  3895]]\n",
      "confusion matrix of test data\n",
      "[[6544  388]\n",
      " [ 905 1379]]\n",
      "classification report of test data\n",
      "              precision    recall  f1-score   support\n",
      "\n",
      "           0       0.88      0.94      0.91      6932\n",
      "           1       0.78      0.60      0.68      2284\n",
      "\n",
      "   micro avg       0.86      0.86      0.86      9216\n",
      "   macro avg       0.83      0.77      0.80      9216\n",
      "weighted avg       0.85      0.86      0.85      9216\n",
      "\n",
      "Accuracy on test data: 85.970052%\n",
      "Accuracy on training data: 90.721793%\n",
      "Area under the ROC curve : 0.773897\n",
      "oob score = 0.861222\n"
     ]
    }
   ],
   "source": [
    "rfmodelCV.fit(X_train,y_train)\n",
    "show_classifier_metrics(rfmodelCV,y_train)\n",
    "print('oob score = %f'% rfmodelCV.oob_score_)"
   ]
  },
  {
   "cell_type": "markdown",
   "metadata": {},
   "source": [
    "## XGBoost "
   ]
  },
  {
   "cell_type": "code",
   "execution_count": 66,
   "metadata": {},
   "outputs": [],
   "source": [
    "from xgboost.sklearn import XGBClassifier"
   ]
  },
  {
   "cell_type": "code",
   "execution_count": 67,
   "metadata": {},
   "outputs": [
    {
     "name": "stdout",
     "output_type": "stream",
     "text": [
      "[0]\tvalidation_0-error:0.150637\tvalidation_1-error:0.152235\n",
      "Multiple eval metrics have been passed: 'validation_1-error' will be used for early stopping.\n",
      "\n",
      "Will train until validation_1-error hasn't improved in 30 rounds.\n",
      "[1]\tvalidation_0-error:0.149335\tvalidation_1-error:0.151801\n",
      "[2]\tvalidation_0-error:0.150312\tvalidation_1-error:0.151367\n",
      "[3]\tvalidation_0-error:0.149754\tvalidation_1-error:0.150825\n",
      "[4]\tvalidation_0-error:0.148172\tvalidation_1-error:0.14974\n",
      "[5]\tvalidation_0-error:0.147335\tvalidation_1-error:0.147352\n",
      "[6]\tvalidation_0-error:0.147335\tvalidation_1-error:0.148112\n",
      "[7]\tvalidation_0-error:0.146963\tvalidation_1-error:0.148112\n",
      "[8]\tvalidation_0-error:0.146963\tvalidation_1-error:0.148438\n",
      "[9]\tvalidation_0-error:0.14687\tvalidation_1-error:0.148546\n",
      "[10]\tvalidation_0-error:0.146265\tvalidation_1-error:0.148546\n",
      "[11]\tvalidation_0-error:0.146079\tvalidation_1-error:0.148438\n",
      "[12]\tvalidation_0-error:0.146265\tvalidation_1-error:0.149089\n",
      "[13]\tvalidation_0-error:0.145428\tvalidation_1-error:0.147244\n",
      "[14]\tvalidation_0-error:0.143754\tvalidation_1-error:0.146593\n",
      "[15]\tvalidation_0-error:0.143847\tvalidation_1-error:0.146593\n",
      "[16]\tvalidation_0-error:0.142963\tvalidation_1-error:0.145616\n",
      "[17]\tvalidation_0-error:0.143522\tvalidation_1-error:0.146267\n",
      "[18]\tvalidation_0-error:0.143149\tvalidation_1-error:0.146484\n",
      "[19]\tvalidation_0-error:0.143056\tvalidation_1-error:0.146267\n",
      "[20]\tvalidation_0-error:0.142963\tvalidation_1-error:0.145942\n",
      "[21]\tvalidation_0-error:0.142173\tvalidation_1-error:0.145508\n",
      "[22]\tvalidation_0-error:0.141754\tvalidation_1-error:0.145182\n",
      "[23]\tvalidation_0-error:0.141568\tvalidation_1-error:0.145291\n",
      "[24]\tvalidation_0-error:0.141429\tvalidation_1-error:0.144748\n",
      "[25]\tvalidation_0-error:0.141196\tvalidation_1-error:0.144748\n",
      "[26]\tvalidation_0-error:0.140871\tvalidation_1-error:0.144423\n",
      "[27]\tvalidation_0-error:0.140592\tvalidation_1-error:0.14464\n",
      "[28]\tvalidation_0-error:0.140871\tvalidation_1-error:0.14464\n",
      "[29]\tvalidation_0-error:0.140173\tvalidation_1-error:0.144857\n",
      "[30]\tvalidation_0-error:0.14008\tvalidation_1-error:0.145182\n",
      "[31]\tvalidation_0-error:0.139708\tvalidation_1-error:0.144965\n",
      "[32]\tvalidation_0-error:0.139801\tvalidation_1-error:0.144531\n",
      "[33]\tvalidation_0-error:0.139615\tvalidation_1-error:0.144423\n",
      "[34]\tvalidation_0-error:0.139243\tvalidation_1-error:0.143663\n",
      "[35]\tvalidation_0-error:0.138778\tvalidation_1-error:0.143772\n",
      "[36]\tvalidation_0-error:0.138313\tvalidation_1-error:0.143338\n",
      "[37]\tvalidation_0-error:0.138266\tvalidation_1-error:0.142904\n",
      "[38]\tvalidation_0-error:0.138127\tvalidation_1-error:0.143012\n",
      "[39]\tvalidation_0-error:0.137801\tvalidation_1-error:0.143338\n",
      "[40]\tvalidation_0-error:0.136918\tvalidation_1-error:0.144097\n",
      "[41]\tvalidation_0-error:0.136359\tvalidation_1-error:0.143989\n",
      "[42]\tvalidation_0-error:0.136359\tvalidation_1-error:0.143772\n",
      "[43]\tvalidation_0-error:0.136127\tvalidation_1-error:0.143121\n",
      "[44]\tvalidation_0-error:0.136034\tvalidation_1-error:0.142361\n",
      "[45]\tvalidation_0-error:0.136034\tvalidation_1-error:0.142795\n",
      "[46]\tvalidation_0-error:0.135848\tvalidation_1-error:0.142687\n",
      "[47]\tvalidation_0-error:0.135383\tvalidation_1-error:0.142361\n",
      "[48]\tvalidation_0-error:0.13515\tvalidation_1-error:0.142253\n",
      "[49]\tvalidation_0-error:0.135104\tvalidation_1-error:0.140516\n",
      "[50]\tvalidation_0-error:0.134499\tvalidation_1-error:0.138889\n",
      "[51]\tvalidation_0-error:0.134127\tvalidation_1-error:0.138997\n",
      "[52]\tvalidation_0-error:0.133011\tvalidation_1-error:0.138346\n",
      "[53]\tvalidation_0-error:0.133011\tvalidation_1-error:0.138346\n",
      "[54]\tvalidation_0-error:0.132778\tvalidation_1-error:0.138238\n",
      "[55]\tvalidation_0-error:0.132871\tvalidation_1-error:0.138346\n",
      "[56]\tvalidation_0-error:0.132313\tvalidation_1-error:0.137912\n",
      "[57]\tvalidation_0-error:0.131755\tvalidation_1-error:0.138129\n",
      "[58]\tvalidation_0-error:0.131104\tvalidation_1-error:0.137587\n",
      "[59]\tvalidation_0-error:0.131151\tvalidation_1-error:0.137153\n",
      "[60]\tvalidation_0-error:0.130639\tvalidation_1-error:0.136936\n",
      "[61]\tvalidation_0-error:0.130546\tvalidation_1-error:0.136502\n",
      "[62]\tvalidation_0-error:0.13036\tvalidation_1-error:0.13661\n",
      "[63]\tvalidation_0-error:0.130267\tvalidation_1-error:0.136176\n",
      "[64]\tvalidation_0-error:0.129941\tvalidation_1-error:0.136719\n",
      "[65]\tvalidation_0-error:0.129662\tvalidation_1-error:0.135851\n",
      "[66]\tvalidation_0-error:0.129616\tvalidation_1-error:0.135851\n",
      "[67]\tvalidation_0-error:0.129476\tvalidation_1-error:0.135959\n",
      "[68]\tvalidation_0-error:0.129104\tvalidation_1-error:0.135634\n",
      "[69]\tvalidation_0-error:0.128825\tvalidation_1-error:0.135091\n",
      "[70]\tvalidation_0-error:0.128407\tvalidation_1-error:0.134332\n",
      "[71]\tvalidation_0-error:0.128174\tvalidation_1-error:0.134332\n",
      "[72]\tvalidation_0-error:0.127523\tvalidation_1-error:0.134766\n",
      "[73]\tvalidation_0-error:0.127477\tvalidation_1-error:0.134657\n",
      "[74]\tvalidation_0-error:0.126779\tvalidation_1-error:0.134332\n",
      "[75]\tvalidation_0-error:0.126779\tvalidation_1-error:0.134657\n",
      "[76]\tvalidation_0-error:0.126314\tvalidation_1-error:0.134874\n",
      "[77]\tvalidation_0-error:0.12636\tvalidation_1-error:0.134874\n",
      "[78]\tvalidation_0-error:0.126174\tvalidation_1-error:0.134983\n",
      "[79]\tvalidation_0-error:0.125942\tvalidation_1-error:0.13444\n",
      "[80]\tvalidation_0-error:0.125988\tvalidation_1-error:0.13444\n",
      "[81]\tvalidation_0-error:0.125895\tvalidation_1-error:0.13444\n",
      "[82]\tvalidation_0-error:0.126221\tvalidation_1-error:0.134657\n",
      "[83]\tvalidation_0-error:0.125802\tvalidation_1-error:0.134874\n",
      "[84]\tvalidation_0-error:0.125802\tvalidation_1-error:0.134766\n",
      "[85]\tvalidation_0-error:0.125384\tvalidation_1-error:0.134766\n",
      "[86]\tvalidation_0-error:0.125523\tvalidation_1-error:0.134766\n",
      "[87]\tvalidation_0-error:0.125244\tvalidation_1-error:0.134766\n",
      "[88]\tvalidation_0-error:0.125058\tvalidation_1-error:0.134332\n",
      "[89]\tvalidation_0-error:0.124872\tvalidation_1-error:0.134332\n",
      "[90]\tvalidation_0-error:0.125151\tvalidation_1-error:0.134332\n",
      "[91]\tvalidation_0-error:0.125151\tvalidation_1-error:0.134006\n",
      "[92]\tvalidation_0-error:0.125012\tvalidation_1-error:0.133898\n",
      "[93]\tvalidation_0-error:0.124919\tvalidation_1-error:0.133572\n",
      "[94]\tvalidation_0-error:0.124733\tvalidation_1-error:0.133355\n",
      "[95]\tvalidation_0-error:0.124686\tvalidation_1-error:0.133681\n",
      "[96]\tvalidation_0-error:0.124454\tvalidation_1-error:0.133572\n",
      "[97]\tvalidation_0-error:0.124314\tvalidation_1-error:0.133247\n",
      "[98]\tvalidation_0-error:0.124268\tvalidation_1-error:0.132812\n",
      "[99]\tvalidation_0-error:0.123942\tvalidation_1-error:0.133355\n",
      "[100]\tvalidation_0-error:0.123802\tvalidation_1-error:0.133355\n",
      "[101]\tvalidation_0-error:0.123802\tvalidation_1-error:0.133247\n",
      "[102]\tvalidation_0-error:0.123756\tvalidation_1-error:0.133247\n",
      "[103]\tvalidation_0-error:0.123523\tvalidation_1-error:0.133138\n",
      "[104]\tvalidation_0-error:0.123523\tvalidation_1-error:0.133681\n",
      "[105]\tvalidation_0-error:0.123384\tvalidation_1-error:0.133464\n",
      "[106]\tvalidation_0-error:0.123151\tvalidation_1-error:0.133464\n",
      "[107]\tvalidation_0-error:0.123198\tvalidation_1-error:0.133247\n",
      "[108]\tvalidation_0-error:0.123291\tvalidation_1-error:0.133681\n",
      "[109]\tvalidation_0-error:0.123198\tvalidation_1-error:0.13303\n",
      "[110]\tvalidation_0-error:0.123291\tvalidation_1-error:0.13303\n",
      "[111]\tvalidation_0-error:0.123105\tvalidation_1-error:0.13303\n",
      "[112]\tvalidation_0-error:0.123151\tvalidation_1-error:0.132921\n",
      "[113]\tvalidation_0-error:0.123198\tvalidation_1-error:0.132704\n",
      "[114]\tvalidation_0-error:0.12343\tvalidation_1-error:0.132704\n",
      "[115]\tvalidation_0-error:0.123384\tvalidation_1-error:0.132704\n",
      "[116]\tvalidation_0-error:0.12343\tvalidation_1-error:0.13227\n",
      "[117]\tvalidation_0-error:0.123477\tvalidation_1-error:0.132487\n",
      "[118]\tvalidation_0-error:0.123523\tvalidation_1-error:0.132378\n",
      "[119]\tvalidation_0-error:0.123523\tvalidation_1-error:0.132161\n",
      "[120]\tvalidation_0-error:0.123105\tvalidation_1-error:0.132812\n",
      "[121]\tvalidation_0-error:0.123105\tvalidation_1-error:0.132704\n",
      "[122]\tvalidation_0-error:0.122826\tvalidation_1-error:0.132704\n",
      "[123]\tvalidation_0-error:0.12264\tvalidation_1-error:0.132812\n",
      "[124]\tvalidation_0-error:0.12264\tvalidation_1-error:0.132812\n",
      "[125]\tvalidation_0-error:0.122547\tvalidation_1-error:0.132595\n",
      "[126]\tvalidation_0-error:0.122454\tvalidation_1-error:0.132595\n",
      "[127]\tvalidation_0-error:0.122407\tvalidation_1-error:0.132378\n",
      "[128]\tvalidation_0-error:0.122268\tvalidation_1-error:0.132487\n",
      "[129]\tvalidation_0-error:0.122035\tvalidation_1-error:0.132378\n",
      "[130]\tvalidation_0-error:0.121338\tvalidation_1-error:0.13227\n",
      "[131]\tvalidation_0-error:0.121105\tvalidation_1-error:0.132487\n"
     ]
    },
    {
     "name": "stdout",
     "output_type": "stream",
     "text": [
      "[132]\tvalidation_0-error:0.121431\tvalidation_1-error:0.131944\n",
      "[133]\tvalidation_0-error:0.121384\tvalidation_1-error:0.132487\n",
      "[134]\tvalidation_0-error:0.121291\tvalidation_1-error:0.132378\n",
      "[135]\tvalidation_0-error:0.121245\tvalidation_1-error:0.132161\n",
      "[136]\tvalidation_0-error:0.121245\tvalidation_1-error:0.132053\n",
      "[137]\tvalidation_0-error:0.121152\tvalidation_1-error:0.132053\n",
      "[138]\tvalidation_0-error:0.121152\tvalidation_1-error:0.132487\n",
      "[139]\tvalidation_0-error:0.120826\tvalidation_1-error:0.132378\n",
      "[140]\tvalidation_0-error:0.120826\tvalidation_1-error:0.132487\n",
      "[141]\tvalidation_0-error:0.120826\tvalidation_1-error:0.132595\n",
      "[142]\tvalidation_0-error:0.120733\tvalidation_1-error:0.132812\n",
      "[143]\tvalidation_0-error:0.12064\tvalidation_1-error:0.132921\n",
      "[144]\tvalidation_0-error:0.12064\tvalidation_1-error:0.131944\n",
      "[145]\tvalidation_0-error:0.120314\tvalidation_1-error:0.13151\n",
      "[146]\tvalidation_0-error:0.119942\tvalidation_1-error:0.131944\n",
      "[147]\tvalidation_0-error:0.119849\tvalidation_1-error:0.131836\n",
      "[148]\tvalidation_0-error:0.119942\tvalidation_1-error:0.131836\n",
      "[149]\tvalidation_0-error:0.119896\tvalidation_1-error:0.131836\n",
      "[150]\tvalidation_0-error:0.120082\tvalidation_1-error:0.132053\n",
      "[151]\tvalidation_0-error:0.120175\tvalidation_1-error:0.132053\n",
      "[152]\tvalidation_0-error:0.120407\tvalidation_1-error:0.132161\n",
      "[153]\tvalidation_0-error:0.120314\tvalidation_1-error:0.131727\n",
      "[154]\tvalidation_0-error:0.120175\tvalidation_1-error:0.131727\n",
      "[155]\tvalidation_0-error:0.120221\tvalidation_1-error:0.131727\n",
      "[156]\tvalidation_0-error:0.120035\tvalidation_1-error:0.131944\n",
      "[157]\tvalidation_0-error:0.119756\tvalidation_1-error:0.131944\n",
      "[158]\tvalidation_0-error:0.119803\tvalidation_1-error:0.131944\n",
      "[159]\tvalidation_0-error:0.119663\tvalidation_1-error:0.132053\n",
      "[160]\tvalidation_0-error:0.119524\tvalidation_1-error:0.132161\n",
      "[161]\tvalidation_0-error:0.119524\tvalidation_1-error:0.132378\n",
      "[162]\tvalidation_0-error:0.11957\tvalidation_1-error:0.132487\n",
      "[163]\tvalidation_0-error:0.11957\tvalidation_1-error:0.132378\n",
      "[164]\tvalidation_0-error:0.11957\tvalidation_1-error:0.132161\n",
      "[165]\tvalidation_0-error:0.119431\tvalidation_1-error:0.131836\n",
      "[166]\tvalidation_0-error:0.119152\tvalidation_1-error:0.13151\n",
      "[167]\tvalidation_0-error:0.119105\tvalidation_1-error:0.13151\n",
      "[168]\tvalidation_0-error:0.119059\tvalidation_1-error:0.131076\n",
      "[169]\tvalidation_0-error:0.118966\tvalidation_1-error:0.131076\n",
      "[170]\tvalidation_0-error:0.118873\tvalidation_1-error:0.131619\n",
      "[171]\tvalidation_0-error:0.118733\tvalidation_1-error:0.131727\n",
      "[172]\tvalidation_0-error:0.118873\tvalidation_1-error:0.131619\n",
      "[173]\tvalidation_0-error:0.118687\tvalidation_1-error:0.131402\n",
      "[174]\tvalidation_0-error:0.11864\tvalidation_1-error:0.13151\n",
      "[175]\tvalidation_0-error:0.118687\tvalidation_1-error:0.131619\n",
      "[176]\tvalidation_0-error:0.11864\tvalidation_1-error:0.131402\n",
      "[177]\tvalidation_0-error:0.118454\tvalidation_1-error:0.131727\n",
      "[178]\tvalidation_0-error:0.118454\tvalidation_1-error:0.131836\n",
      "[179]\tvalidation_0-error:0.118361\tvalidation_1-error:0.131727\n",
      "[180]\tvalidation_0-error:0.118547\tvalidation_1-error:0.131727\n",
      "[181]\tvalidation_0-error:0.118361\tvalidation_1-error:0.131076\n",
      "[182]\tvalidation_0-error:0.118315\tvalidation_1-error:0.130968\n",
      "[183]\tvalidation_0-error:0.118315\tvalidation_1-error:0.131293\n",
      "[184]\tvalidation_0-error:0.118315\tvalidation_1-error:0.131402\n",
      "[185]\tvalidation_0-error:0.118175\tvalidation_1-error:0.13151\n",
      "[186]\tvalidation_0-error:0.118129\tvalidation_1-error:0.13151\n",
      "[187]\tvalidation_0-error:0.118222\tvalidation_1-error:0.130968\n",
      "[188]\tvalidation_0-error:0.118222\tvalidation_1-error:0.131076\n",
      "[189]\tvalidation_0-error:0.118222\tvalidation_1-error:0.130751\n",
      "[190]\tvalidation_0-error:0.118222\tvalidation_1-error:0.130859\n",
      "[191]\tvalidation_0-error:0.118082\tvalidation_1-error:0.130859\n",
      "[192]\tvalidation_0-error:0.118129\tvalidation_1-error:0.130425\n",
      "[193]\tvalidation_0-error:0.118222\tvalidation_1-error:0.130534\n",
      "[194]\tvalidation_0-error:0.117989\tvalidation_1-error:0.130425\n",
      "[195]\tvalidation_0-error:0.117989\tvalidation_1-error:0.130317\n",
      "[196]\tvalidation_0-error:0.118082\tvalidation_1-error:0.130968\n",
      "[197]\tvalidation_0-error:0.11771\tvalidation_1-error:0.130642\n",
      "[198]\tvalidation_0-error:0.117524\tvalidation_1-error:0.130425\n",
      "[199]\tvalidation_0-error:0.117524\tvalidation_1-error:0.130534\n",
      "[200]\tvalidation_0-error:0.117524\tvalidation_1-error:0.130208\n",
      "[201]\tvalidation_0-error:0.117384\tvalidation_1-error:0.130208\n",
      "[202]\tvalidation_0-error:0.117152\tvalidation_1-error:0.129991\n",
      "[203]\tvalidation_0-error:0.117245\tvalidation_1-error:0.129991\n",
      "[204]\tvalidation_0-error:0.11585\tvalidation_1-error:0.130208\n",
      "[205]\tvalidation_0-error:0.115803\tvalidation_1-error:0.130317\n",
      "[206]\tvalidation_0-error:0.115943\tvalidation_1-error:0.1301\n",
      "[207]\tvalidation_0-error:0.115664\tvalidation_1-error:0.129991\n",
      "[208]\tvalidation_0-error:0.115757\tvalidation_1-error:0.130317\n",
      "[209]\tvalidation_0-error:0.115803\tvalidation_1-error:0.130208\n",
      "[210]\tvalidation_0-error:0.115757\tvalidation_1-error:0.130208\n",
      "[211]\tvalidation_0-error:0.115757\tvalidation_1-error:0.1301\n",
      "[212]\tvalidation_0-error:0.115803\tvalidation_1-error:0.129774\n",
      "[213]\tvalidation_0-error:0.115524\tvalidation_1-error:0.129991\n",
      "[214]\tvalidation_0-error:0.115571\tvalidation_1-error:0.129991\n",
      "[215]\tvalidation_0-error:0.115617\tvalidation_1-error:0.129883\n",
      "[216]\tvalidation_0-error:0.115431\tvalidation_1-error:0.129883\n",
      "[217]\tvalidation_0-error:0.115478\tvalidation_1-error:0.129774\n",
      "[218]\tvalidation_0-error:0.115338\tvalidation_1-error:0.129557\n",
      "[219]\tvalidation_0-error:0.115338\tvalidation_1-error:0.129557\n",
      "[220]\tvalidation_0-error:0.115385\tvalidation_1-error:0.1301\n",
      "[221]\tvalidation_0-error:0.115478\tvalidation_1-error:0.129991\n",
      "[222]\tvalidation_0-error:0.115385\tvalidation_1-error:0.1301\n",
      "[223]\tvalidation_0-error:0.115431\tvalidation_1-error:0.130208\n",
      "[224]\tvalidation_0-error:0.115385\tvalidation_1-error:0.1301\n",
      "[225]\tvalidation_0-error:0.115245\tvalidation_1-error:0.129991\n",
      "[226]\tvalidation_0-error:0.115338\tvalidation_1-error:0.129991\n",
      "[227]\tvalidation_0-error:0.115059\tvalidation_1-error:0.129991\n",
      "[228]\tvalidation_0-error:0.115059\tvalidation_1-error:0.1301\n",
      "[229]\tvalidation_0-error:0.115106\tvalidation_1-error:0.1301\n",
      "[230]\tvalidation_0-error:0.115059\tvalidation_1-error:0.1301\n",
      "[231]\tvalidation_0-error:0.114827\tvalidation_1-error:0.130317\n",
      "[232]\tvalidation_0-error:0.115059\tvalidation_1-error:0.129991\n",
      "[233]\tvalidation_0-error:0.115013\tvalidation_1-error:0.129991\n",
      "[234]\tvalidation_0-error:0.114966\tvalidation_1-error:0.130317\n",
      "[235]\tvalidation_0-error:0.115152\tvalidation_1-error:0.129991\n",
      "[236]\tvalidation_0-error:0.115013\tvalidation_1-error:0.1301\n",
      "[237]\tvalidation_0-error:0.11492\tvalidation_1-error:0.1301\n",
      "[238]\tvalidation_0-error:0.114966\tvalidation_1-error:0.130425\n",
      "[239]\tvalidation_0-error:0.11492\tvalidation_1-error:0.130425\n",
      "[240]\tvalidation_0-error:0.11478\tvalidation_1-error:0.130317\n",
      "[241]\tvalidation_0-error:0.114734\tvalidation_1-error:0.130208\n",
      "[242]\tvalidation_0-error:0.114454\tvalidation_1-error:0.130425\n",
      "[243]\tvalidation_0-error:0.114501\tvalidation_1-error:0.130425\n",
      "[244]\tvalidation_0-error:0.114594\tvalidation_1-error:0.130534\n",
      "[245]\tvalidation_0-error:0.11464\tvalidation_1-error:0.130534\n",
      "[246]\tvalidation_0-error:0.11464\tvalidation_1-error:0.130534\n",
      "[247]\tvalidation_0-error:0.114547\tvalidation_1-error:0.130534\n",
      "[248]\tvalidation_0-error:0.114873\tvalidation_1-error:0.130425\n",
      "Stopping. Best iteration:\n",
      "[218]\tvalidation_0-error:0.115338\tvalidation_1-error:0.129557\n",
      "\n"
     ]
    },
    {
     "data": {
      "text/plain": [
       "XGBClassifier(base_score=0.5, booster='gbtree', colsample_bylevel=0.9,\n",
       "       colsample_bytree=0.9, gamma=0, learning_rate=0.1, max_delta_step=0,\n",
       "       max_depth=5, min_child_weight=1, missing=None, n_estimators=400,\n",
       "       n_jobs=1, nthread=None, objective='binary:logistic', random_state=0,\n",
       "       reg_alpha=0, reg_lambda=1.5, scale_pos_weight=1, seed=10,\n",
       "       silent=True, subsample=0.9, verbosity=1)"
      ]
     },
     "execution_count": 67,
     "metadata": {},
     "output_type": "execute_result"
    }
   ],
   "source": [
    "param = {}\n",
    "param['learning_rate'] = 0.1\n",
    "param['verbosity'] = 1\n",
    "param['colsample_bylevel'] = 0.9\n",
    "param['colsample_bytree'] = 0.9\n",
    "param['subsample'] = 0.9\n",
    "param['reg_lambda']= 1.5\n",
    "param['max_depth'] = 5\n",
    "param['n_estimators'] = 400\n",
    "param['seed']=10\n",
    "xgb= XGBClassifier(**param)\n",
    "xgb.fit(X_train, y_train, eval_metric=['error'], eval_set=[(X_train, y_train),(X_test, y_test)],early_stopping_rounds=30)"
   ]
  },
  {
   "cell_type": "code",
   "execution_count": 68,
   "metadata": {},
   "outputs": [
    {
     "name": "stdout",
     "output_type": "stream",
     "text": [
      "XGBClassifier(base_score=0.5, booster='gbtree', colsample_bylevel=0.9,\n",
      "       colsample_bytree=0.9, gamma=0, learning_rate=0.1, max_delta_step=0,\n",
      "       max_depth=5, min_child_weight=1, missing=None, n_estimators=400,\n",
      "       n_jobs=1, nthread=None, objective='binary:logistic', random_state=0,\n",
      "       reg_alpha=0, reg_lambda=1.5, scale_pos_weight=1, seed=10,\n",
      "       silent=True, subsample=0.9, verbosity=1)\n",
      "confusion matrix of training data\n",
      "[[15283   853]\n",
      " [ 1627  3739]]\n",
      "confusion matrix of test data\n",
      "[[6534  398]\n",
      " [ 796 1488]]\n",
      "classification report of test data\n",
      "              precision    recall  f1-score   support\n",
      "\n",
      "           0       0.89      0.94      0.92      6932\n",
      "           1       0.79      0.65      0.71      2284\n",
      "\n",
      "   micro avg       0.87      0.87      0.87      9216\n",
      "   macro avg       0.84      0.80      0.81      9216\n",
      "weighted avg       0.87      0.87      0.87      9216\n",
      "\n",
      "Accuracy on test data: 87.044271%\n",
      "Accuracy on training data: 88.466189%\n",
      "Area under the ROC curve : 0.797037\n"
     ]
    }
   ],
   "source": [
    "show_classifier_metrics(xgb,y_train)"
   ]
  },
  {
   "cell_type": "code",
   "execution_count": 148,
   "metadata": {},
   "outputs": [
    {
     "data": {
      "image/png": "[encoded data removed]",
      "text/plain": [
       "<Figure size 1440x720 with 1 Axes>"
      ]
     },
     "metadata": {
      "needs_background": "light"
     },
     "output_type": "display_data"
    }
   ],
   "source": [
    "importance_list = xgb.feature_importances_\n",
    "name_list = X_train.columns\n",
    "importance_list, name_list = zip(*sorted(zip(importance_list, name_list)))\n",
    "plt.figure(figsize=(20,10))\n",
    "plt.barh(range(len(name_list)),importance_list,align='center')\n",
    "plt.yticks(range(len(name_list)),name_list)\n",
    "plt.xlabel('Relative Importance in XGBoost')\n",
    "plt.ylabel('Features')\n",
    "plt.title('Relative importance of Each Feature')\n",
    "plt.show()"
   ]
  },
  {
   "cell_type": "markdown",
   "metadata": {},
   "source": [
    "### Grid search with cross validation: XGBoost model"
   ]
  },
  {
   "cell_type": "code",
   "execution_count": 145,
   "metadata": {},
   "outputs": [
    {
     "name": "stdout",
     "output_type": "stream",
     "text": [
      "Doing grid search\n",
      "Fitting 4 folds for each of 6 candidates, totalling 24 fits\n"
     ]
    },
    {
     "name": "stderr",
     "output_type": "stream",
     "text": [
      "[Parallel(n_jobs=-1)]: Using backend LokyBackend with 4 concurrent workers.\n",
      "[Parallel(n_jobs=-1)]: Done  24 out of  24 | elapsed:  1.6min finished\n"
     ]
    },
    {
     "name": "stdout",
     "output_type": "stream",
     "text": [
      "mean test score (weighted by split size) of CV rounds:  [0.86866338 0.86833783 0.86838434 0.86889592 0.8668961  0.86638452]\n",
      "Best parameter set {'colsample_bylevel': 0.9, 'colsample_bytree': 0.9, 'learning_rate': 0.1, 'max_depth': 5, 'n_estimators': 300, 'reg_lambda': 2, 'seed': 10, 'subsample': 0.9} Corresponding mean CV score 0.8688959166589154\n"
     ]
    }
   ],
   "source": [
    "xgbmodel2 = XGBClassifier(seed=42)\n",
    "param = {\n",
    "'learning_rate': [0.1],\n",
    "#'verbosity': [1],\n",
    "'colsample_bylevel': [0.9],\n",
    "'colsample_bytree': [0.9],\n",
    "'subsample' : [0.9],\n",
    "'n_estimators': [300],\n",
    "'reg_lambda': [1.5,2],\n",
    "'max_depth': [3,5,7],\n",
    " 'seed': [10]   \n",
    "}\n",
    "xgbCV = grid_search(xgbmodel2, param,X_train,y_train)"
   ]
  },
  {
   "cell_type": "code",
   "execution_count": 146,
   "metadata": {},
   "outputs": [
    {
     "name": "stdout",
     "output_type": "stream",
     "text": [
      "[0]\tvalidation_0-error:0.150637\tvalidation_1-error:0.152235\n",
      "Multiple eval metrics have been passed: 'validation_1-error' will be used for early stopping.\n",
      "\n",
      "Will train until validation_1-error hasn't improved in 30 rounds.\n",
      "[1]\tvalidation_0-error:0.149335\tvalidation_1-error:0.151801\n",
      "[2]\tvalidation_0-error:0.150172\tvalidation_1-error:0.151476\n",
      "[3]\tvalidation_0-error:0.149614\tvalidation_1-error:0.151042\n",
      "[4]\tvalidation_0-error:0.148079\tvalidation_1-error:0.149631\n",
      "[5]\tvalidation_0-error:0.147382\tvalidation_1-error:0.148003\n",
      "[6]\tvalidation_0-error:0.147428\tvalidation_1-error:0.148003\n",
      "[7]\tvalidation_0-error:0.146777\tvalidation_1-error:0.147786\n",
      "[8]\tvalidation_0-error:0.146684\tvalidation_1-error:0.148655\n",
      "[9]\tvalidation_0-error:0.146684\tvalidation_1-error:0.148546\n",
      "[10]\tvalidation_0-error:0.146033\tvalidation_1-error:0.148655\n",
      "[11]\tvalidation_0-error:0.145986\tvalidation_1-error:0.148872\n",
      "[12]\tvalidation_0-error:0.146312\tvalidation_1-error:0.148763\n",
      "[13]\tvalidation_0-error:0.143522\tvalidation_1-error:0.147244\n",
      "[14]\tvalidation_0-error:0.143894\tvalidation_1-error:0.146376\n",
      "[15]\tvalidation_0-error:0.143615\tvalidation_1-error:0.146376\n",
      "[16]\tvalidation_0-error:0.143289\tvalidation_1-error:0.146267\n",
      "[17]\tvalidation_0-error:0.143382\tvalidation_1-error:0.146484\n",
      "[18]\tvalidation_0-error:0.143103\tvalidation_1-error:0.14605\n",
      "[19]\tvalidation_0-error:0.142917\tvalidation_1-error:0.145616\n",
      "[20]\tvalidation_0-error:0.142359\tvalidation_1-error:0.14605\n",
      "[21]\tvalidation_0-error:0.142126\tvalidation_1-error:0.145725\n",
      "[22]\tvalidation_0-error:0.14194\tvalidation_1-error:0.145508\n",
      "[23]\tvalidation_0-error:0.141847\tvalidation_1-error:0.145833\n",
      "[24]\tvalidation_0-error:0.141289\tvalidation_1-error:0.145291\n",
      "[25]\tvalidation_0-error:0.140778\tvalidation_1-error:0.14464\n",
      "[26]\tvalidation_0-error:0.140452\tvalidation_1-error:0.144965\n",
      "[27]\tvalidation_0-error:0.140313\tvalidation_1-error:0.144531\n",
      "[28]\tvalidation_0-error:0.140313\tvalidation_1-error:0.14464\n",
      "[29]\tvalidation_0-error:0.140406\tvalidation_1-error:0.144206\n",
      "[30]\tvalidation_0-error:0.14008\tvalidation_1-error:0.144748\n",
      "[31]\tvalidation_0-error:0.139847\tvalidation_1-error:0.144965\n",
      "[32]\tvalidation_0-error:0.139568\tvalidation_1-error:0.144965\n",
      "[33]\tvalidation_0-error:0.139336\tvalidation_1-error:0.145182\n",
      "[34]\tvalidation_0-error:0.139243\tvalidation_1-error:0.144423\n",
      "[35]\tvalidation_0-error:0.139475\tvalidation_1-error:0.143989\n",
      "[36]\tvalidation_0-error:0.139243\tvalidation_1-error:0.14388\n",
      "[37]\tvalidation_0-error:0.138638\tvalidation_1-error:0.144423\n",
      "[38]\tvalidation_0-error:0.138359\tvalidation_1-error:0.144314\n",
      "[39]\tvalidation_0-error:0.137615\tvalidation_1-error:0.143663\n",
      "[40]\tvalidation_0-error:0.137429\tvalidation_1-error:0.143772\n",
      "[41]\tvalidation_0-error:0.137336\tvalidation_1-error:0.143555\n",
      "[42]\tvalidation_0-error:0.136778\tvalidation_1-error:0.142904\n",
      "[43]\tvalidation_0-error:0.13608\tvalidation_1-error:0.142144\n",
      "[44]\tvalidation_0-error:0.135755\tvalidation_1-error:0.142144\n",
      "[45]\tvalidation_0-error:0.135615\tvalidation_1-error:0.141927\n",
      "[46]\tvalidation_0-error:0.134778\tvalidation_1-error:0.141819\n",
      "[47]\tvalidation_0-error:0.134685\tvalidation_1-error:0.141276\n",
      "[48]\tvalidation_0-error:0.134685\tvalidation_1-error:0.141819\n",
      "[49]\tvalidation_0-error:0.134546\tvalidation_1-error:0.141927\n",
      "[50]\tvalidation_0-error:0.134639\tvalidation_1-error:0.140625\n",
      "[51]\tvalidation_0-error:0.13422\tvalidation_1-error:0.139865\n",
      "[52]\tvalidation_0-error:0.134034\tvalidation_1-error:0.139757\n",
      "[53]\tvalidation_0-error:0.133941\tvalidation_1-error:0.139757\n",
      "[54]\tvalidation_0-error:0.133708\tvalidation_1-error:0.140082\n",
      "[55]\tvalidation_0-error:0.13315\tvalidation_1-error:0.139865\n",
      "[56]\tvalidation_0-error:0.132732\tvalidation_1-error:0.139214\n",
      "[57]\tvalidation_0-error:0.132546\tvalidation_1-error:0.138672\n",
      "[58]\tvalidation_0-error:0.132034\tvalidation_1-error:0.138563\n",
      "[59]\tvalidation_0-error:0.131337\tvalidation_1-error:0.138563\n",
      "[60]\tvalidation_0-error:0.131058\tvalidation_1-error:0.138129\n",
      "[61]\tvalidation_0-error:0.130872\tvalidation_1-error:0.138346\n",
      "[62]\tvalidation_0-error:0.130546\tvalidation_1-error:0.138238\n",
      "[63]\tvalidation_0-error:0.130593\tvalidation_1-error:0.138021\n",
      "[64]\tvalidation_0-error:0.13022\tvalidation_1-error:0.138021\n",
      "[65]\tvalidation_0-error:0.129848\tvalidation_1-error:0.138021\n",
      "[66]\tvalidation_0-error:0.129662\tvalidation_1-error:0.138129\n",
      "[67]\tvalidation_0-error:0.129151\tvalidation_1-error:0.13737\n",
      "[68]\tvalidation_0-error:0.128732\tvalidation_1-error:0.136827\n",
      "[69]\tvalidation_0-error:0.128825\tvalidation_1-error:0.136827\n",
      "[70]\tvalidation_0-error:0.128267\tvalidation_1-error:0.136719\n",
      "[71]\tvalidation_0-error:0.128314\tvalidation_1-error:0.137153\n",
      "[72]\tvalidation_0-error:0.127384\tvalidation_1-error:0.136068\n",
      "[73]\tvalidation_0-error:0.127384\tvalidation_1-error:0.135851\n",
      "[74]\tvalidation_0-error:0.127011\tvalidation_1-error:0.136285\n",
      "[75]\tvalidation_0-error:0.126918\tvalidation_1-error:0.136393\n",
      "[76]\tvalidation_0-error:0.126918\tvalidation_1-error:0.135959\n",
      "[77]\tvalidation_0-error:0.126825\tvalidation_1-error:0.136176\n",
      "[78]\tvalidation_0-error:0.126686\tvalidation_1-error:0.136176\n",
      "[79]\tvalidation_0-error:0.126546\tvalidation_1-error:0.135959\n",
      "[80]\tvalidation_0-error:0.126267\tvalidation_1-error:0.135959\n",
      "[81]\tvalidation_0-error:0.126174\tvalidation_1-error:0.135742\n",
      "[82]\tvalidation_0-error:0.12636\tvalidation_1-error:0.135525\n",
      "[83]\tvalidation_0-error:0.126174\tvalidation_1-error:0.135959\n",
      "[84]\tvalidation_0-error:0.125942\tvalidation_1-error:0.135634\n",
      "[85]\tvalidation_0-error:0.125802\tvalidation_1-error:0.1352\n",
      "[86]\tvalidation_0-error:0.125616\tvalidation_1-error:0.135525\n",
      "[87]\tvalidation_0-error:0.125663\tvalidation_1-error:0.134874\n",
      "[88]\tvalidation_0-error:0.125523\tvalidation_1-error:0.134983\n",
      "[89]\tvalidation_0-error:0.125244\tvalidation_1-error:0.134983\n",
      "[90]\tvalidation_0-error:0.125058\tvalidation_1-error:0.134874\n",
      "[91]\tvalidation_0-error:0.125058\tvalidation_1-error:0.134657\n",
      "[92]\tvalidation_0-error:0.124826\tvalidation_1-error:0.134657\n",
      "[93]\tvalidation_0-error:0.12464\tvalidation_1-error:0.134766\n",
      "[94]\tvalidation_0-error:0.124872\tvalidation_1-error:0.134549\n",
      "[95]\tvalidation_0-error:0.124593\tvalidation_1-error:0.134549\n",
      "[96]\tvalidation_0-error:0.124593\tvalidation_1-error:0.134657\n",
      "[97]\tvalidation_0-error:0.124407\tvalidation_1-error:0.134874\n",
      "[98]\tvalidation_0-error:0.124174\tvalidation_1-error:0.134332\n",
      "[99]\tvalidation_0-error:0.123895\tvalidation_1-error:0.134332\n",
      "[100]\tvalidation_0-error:0.123942\tvalidation_1-error:0.134115\n",
      "[101]\tvalidation_0-error:0.123895\tvalidation_1-error:0.134006\n",
      "[102]\tvalidation_0-error:0.123291\tvalidation_1-error:0.133898\n",
      "[103]\tvalidation_0-error:0.123198\tvalidation_1-error:0.133681\n",
      "[104]\tvalidation_0-error:0.123058\tvalidation_1-error:0.133572\n",
      "[105]\tvalidation_0-error:0.122965\tvalidation_1-error:0.133355\n",
      "[106]\tvalidation_0-error:0.123151\tvalidation_1-error:0.133138\n",
      "[107]\tvalidation_0-error:0.123105\tvalidation_1-error:0.133247\n",
      "[108]\tvalidation_0-error:0.123012\tvalidation_1-error:0.133138\n",
      "[109]\tvalidation_0-error:0.122919\tvalidation_1-error:0.133138\n",
      "[110]\tvalidation_0-error:0.122919\tvalidation_1-error:0.133464\n",
      "[111]\tvalidation_0-error:0.122593\tvalidation_1-error:0.133355\n",
      "[112]\tvalidation_0-error:0.122779\tvalidation_1-error:0.133247\n",
      "[113]\tvalidation_0-error:0.122733\tvalidation_1-error:0.132921\n",
      "[114]\tvalidation_0-error:0.122733\tvalidation_1-error:0.132812\n",
      "[115]\tvalidation_0-error:0.122872\tvalidation_1-error:0.133138\n",
      "[116]\tvalidation_0-error:0.122826\tvalidation_1-error:0.133138\n",
      "[117]\tvalidation_0-error:0.12264\tvalidation_1-error:0.132812\n",
      "[118]\tvalidation_0-error:0.1225\tvalidation_1-error:0.132595\n",
      "[119]\tvalidation_0-error:0.122593\tvalidation_1-error:0.132595\n",
      "[120]\tvalidation_0-error:0.122593\tvalidation_1-error:0.132487\n",
      "[121]\tvalidation_0-error:0.1225\tvalidation_1-error:0.132595\n",
      "[122]\tvalidation_0-error:0.122593\tvalidation_1-error:0.13227\n",
      "[123]\tvalidation_0-error:0.122454\tvalidation_1-error:0.132487\n",
      "[124]\tvalidation_0-error:0.122454\tvalidation_1-error:0.13227\n",
      "[125]\tvalidation_0-error:0.122314\tvalidation_1-error:0.132053\n",
      "[126]\tvalidation_0-error:0.122593\tvalidation_1-error:0.131944\n",
      "[127]\tvalidation_0-error:0.122547\tvalidation_1-error:0.131944\n",
      "[128]\tvalidation_0-error:0.122547\tvalidation_1-error:0.131944\n",
      "[129]\tvalidation_0-error:0.122733\tvalidation_1-error:0.132595\n",
      "[130]\tvalidation_0-error:0.122454\tvalidation_1-error:0.132595\n",
      "[131]\tvalidation_0-error:0.122547\tvalidation_1-error:0.132704\n"
     ]
    },
    {
     "name": "stdout",
     "output_type": "stream",
     "text": [
      "[132]\tvalidation_0-error:0.122221\tvalidation_1-error:0.132487\n",
      "[133]\tvalidation_0-error:0.122221\tvalidation_1-error:0.132378\n",
      "[134]\tvalidation_0-error:0.122128\tvalidation_1-error:0.132378\n",
      "[135]\tvalidation_0-error:0.122035\tvalidation_1-error:0.132704\n",
      "[136]\tvalidation_0-error:0.121942\tvalidation_1-error:0.132595\n",
      "[137]\tvalidation_0-error:0.121849\tvalidation_1-error:0.132378\n",
      "[138]\tvalidation_0-error:0.12157\tvalidation_1-error:0.131836\n",
      "[139]\tvalidation_0-error:0.12157\tvalidation_1-error:0.131836\n",
      "[140]\tvalidation_0-error:0.121524\tvalidation_1-error:0.131836\n",
      "[141]\tvalidation_0-error:0.121338\tvalidation_1-error:0.132161\n",
      "[142]\tvalidation_0-error:0.121524\tvalidation_1-error:0.132053\n",
      "[143]\tvalidation_0-error:0.121524\tvalidation_1-error:0.132053\n",
      "[144]\tvalidation_0-error:0.121617\tvalidation_1-error:0.131727\n",
      "[145]\tvalidation_0-error:0.121291\tvalidation_1-error:0.131836\n",
      "[146]\tvalidation_0-error:0.121384\tvalidation_1-error:0.131293\n",
      "[147]\tvalidation_0-error:0.121198\tvalidation_1-error:0.13151\n",
      "[148]\tvalidation_0-error:0.120779\tvalidation_1-error:0.131836\n",
      "[149]\tvalidation_0-error:0.120872\tvalidation_1-error:0.131619\n",
      "[150]\tvalidation_0-error:0.120872\tvalidation_1-error:0.131619\n",
      "[151]\tvalidation_0-error:0.121059\tvalidation_1-error:0.131293\n",
      "[152]\tvalidation_0-error:0.121012\tvalidation_1-error:0.131402\n",
      "[153]\tvalidation_0-error:0.120733\tvalidation_1-error:0.131076\n",
      "[154]\tvalidation_0-error:0.120686\tvalidation_1-error:0.131076\n",
      "[155]\tvalidation_0-error:0.12064\tvalidation_1-error:0.131402\n",
      "[156]\tvalidation_0-error:0.120686\tvalidation_1-error:0.13151\n",
      "[157]\tvalidation_0-error:0.120268\tvalidation_1-error:0.131185\n",
      "[158]\tvalidation_0-error:0.120454\tvalidation_1-error:0.13151\n",
      "[159]\tvalidation_0-error:0.120361\tvalidation_1-error:0.131727\n",
      "[160]\tvalidation_0-error:0.120268\tvalidation_1-error:0.131619\n",
      "[161]\tvalidation_0-error:0.120221\tvalidation_1-error:0.131293\n",
      "[162]\tvalidation_0-error:0.120082\tvalidation_1-error:0.131293\n",
      "[163]\tvalidation_0-error:0.120082\tvalidation_1-error:0.130968\n",
      "[164]\tvalidation_0-error:0.119896\tvalidation_1-error:0.130859\n",
      "[165]\tvalidation_0-error:0.119756\tvalidation_1-error:0.131076\n",
      "[166]\tvalidation_0-error:0.11957\tvalidation_1-error:0.131293\n",
      "[167]\tvalidation_0-error:0.119524\tvalidation_1-error:0.131076\n",
      "[168]\tvalidation_0-error:0.119431\tvalidation_1-error:0.131076\n",
      "[169]\tvalidation_0-error:0.11957\tvalidation_1-error:0.131076\n",
      "[170]\tvalidation_0-error:0.119477\tvalidation_1-error:0.131185\n",
      "[171]\tvalidation_0-error:0.11957\tvalidation_1-error:0.131402\n",
      "[172]\tvalidation_0-error:0.119338\tvalidation_1-error:0.131076\n",
      "[173]\tvalidation_0-error:0.119384\tvalidation_1-error:0.131293\n",
      "[174]\tvalidation_0-error:0.119384\tvalidation_1-error:0.130751\n",
      "[175]\tvalidation_0-error:0.119384\tvalidation_1-error:0.130642\n",
      "[176]\tvalidation_0-error:0.119152\tvalidation_1-error:0.130968\n",
      "[177]\tvalidation_0-error:0.119198\tvalidation_1-error:0.131076\n",
      "[178]\tvalidation_0-error:0.119012\tvalidation_1-error:0.130859\n",
      "[179]\tvalidation_0-error:0.119012\tvalidation_1-error:0.130751\n",
      "[180]\tvalidation_0-error:0.118826\tvalidation_1-error:0.130751\n",
      "[181]\tvalidation_0-error:0.118826\tvalidation_1-error:0.130534\n",
      "[182]\tvalidation_0-error:0.118826\tvalidation_1-error:0.130534\n",
      "[183]\tvalidation_0-error:0.118594\tvalidation_1-error:0.130425\n",
      "[184]\tvalidation_0-error:0.118594\tvalidation_1-error:0.130534\n",
      "[185]\tvalidation_0-error:0.118826\tvalidation_1-error:0.130317\n",
      "[186]\tvalidation_0-error:0.11878\tvalidation_1-error:0.130425\n",
      "[187]\tvalidation_0-error:0.118733\tvalidation_1-error:0.130208\n",
      "[188]\tvalidation_0-error:0.118687\tvalidation_1-error:0.130208\n",
      "[189]\tvalidation_0-error:0.118687\tvalidation_1-error:0.130208\n",
      "[190]\tvalidation_0-error:0.118594\tvalidation_1-error:0.130208\n",
      "[191]\tvalidation_0-error:0.118501\tvalidation_1-error:0.130317\n",
      "[192]\tvalidation_0-error:0.118687\tvalidation_1-error:0.1301\n",
      "[193]\tvalidation_0-error:0.11864\tvalidation_1-error:0.1301\n",
      "[194]\tvalidation_0-error:0.118501\tvalidation_1-error:0.130317\n",
      "[195]\tvalidation_0-error:0.118501\tvalidation_1-error:0.130425\n",
      "[196]\tvalidation_0-error:0.118268\tvalidation_1-error:0.1301\n",
      "[197]\tvalidation_0-error:0.118315\tvalidation_1-error:0.1301\n",
      "[198]\tvalidation_0-error:0.118036\tvalidation_1-error:0.1301\n",
      "[199]\tvalidation_0-error:0.118129\tvalidation_1-error:0.130317\n",
      "[200]\tvalidation_0-error:0.117756\tvalidation_1-error:0.129883\n",
      "[201]\tvalidation_0-error:0.117756\tvalidation_1-error:0.129774\n",
      "[202]\tvalidation_0-error:0.117663\tvalidation_1-error:0.129557\n",
      "[203]\tvalidation_0-error:0.117663\tvalidation_1-error:0.129449\n",
      "[204]\tvalidation_0-error:0.117617\tvalidation_1-error:0.129449\n",
      "[205]\tvalidation_0-error:0.11757\tvalidation_1-error:0.129991\n",
      "[206]\tvalidation_0-error:0.117756\tvalidation_1-error:0.129883\n",
      "[207]\tvalidation_0-error:0.117617\tvalidation_1-error:0.129666\n",
      "[208]\tvalidation_0-error:0.117663\tvalidation_1-error:0.129449\n",
      "[209]\tvalidation_0-error:0.117477\tvalidation_1-error:0.129883\n",
      "[210]\tvalidation_0-error:0.117338\tvalidation_1-error:0.129883\n",
      "[211]\tvalidation_0-error:0.117431\tvalidation_1-error:0.129883\n",
      "[212]\tvalidation_0-error:0.117384\tvalidation_1-error:0.129883\n",
      "[213]\tvalidation_0-error:0.117384\tvalidation_1-error:0.1301\n",
      "[214]\tvalidation_0-error:0.117338\tvalidation_1-error:0.1301\n",
      "[215]\tvalidation_0-error:0.117338\tvalidation_1-error:0.1301\n",
      "[216]\tvalidation_0-error:0.117152\tvalidation_1-error:0.1301\n",
      "[217]\tvalidation_0-error:0.117198\tvalidation_1-error:0.130208\n",
      "[218]\tvalidation_0-error:0.117384\tvalidation_1-error:0.1301\n",
      "[219]\tvalidation_0-error:0.117291\tvalidation_1-error:0.1301\n",
      "[220]\tvalidation_0-error:0.117105\tvalidation_1-error:0.129991\n",
      "[221]\tvalidation_0-error:0.117245\tvalidation_1-error:0.129774\n",
      "[222]\tvalidation_0-error:0.116966\tvalidation_1-error:0.129883\n",
      "[223]\tvalidation_0-error:0.117152\tvalidation_1-error:0.130317\n",
      "[224]\tvalidation_0-error:0.116919\tvalidation_1-error:0.130317\n",
      "[225]\tvalidation_0-error:0.116826\tvalidation_1-error:0.130425\n",
      "[226]\tvalidation_0-error:0.116966\tvalidation_1-error:0.130425\n",
      "[227]\tvalidation_0-error:0.116826\tvalidation_1-error:0.130317\n",
      "[228]\tvalidation_0-error:0.11678\tvalidation_1-error:0.130317\n",
      "[229]\tvalidation_0-error:0.116826\tvalidation_1-error:0.130208\n",
      "[230]\tvalidation_0-error:0.116826\tvalidation_1-error:0.130317\n",
      "[231]\tvalidation_0-error:0.11678\tvalidation_1-error:0.130317\n",
      "[232]\tvalidation_0-error:0.116594\tvalidation_1-error:0.130208\n",
      "[233]\tvalidation_0-error:0.116408\tvalidation_1-error:0.129883\n",
      "Stopping. Best iteration:\n",
      "[203]\tvalidation_0-error:0.117663\tvalidation_1-error:0.129449\n",
      "\n"
     ]
    },
    {
     "data": {
      "text/plain": [
       "XGBClassifier(base_score=0.5, booster='gbtree', colsample_bylevel=0.9,\n",
       "       colsample_bytree=0.9, gamma=0, learning_rate=0.1, max_delta_step=0,\n",
       "       max_depth=5, min_child_weight=1, missing=None, n_estimators=300,\n",
       "       n_jobs=1, nthread=None, objective='binary:logistic', random_state=0,\n",
       "       reg_alpha=0, reg_lambda=2, scale_pos_weight=1, seed=10, silent=True,\n",
       "       subsample=0.9)"
      ]
     },
     "execution_count": 146,
     "metadata": {},
     "output_type": "execute_result"
    }
   ],
   "source": [
    "xgbCV.fit(X_train, y_train, eval_metric=['error'], eval_set=[(X_train, y_train),(X_test, y_test)],early_stopping_rounds=30)"
   ]
  },
  {
   "cell_type": "code",
   "execution_count": 147,
   "metadata": {},
   "outputs": [
    {
     "name": "stdout",
     "output_type": "stream",
     "text": [
      "XGBClassifier(base_score=0.5, booster='gbtree', colsample_bylevel=0.9,\n",
      "       colsample_bytree=0.9, gamma=0, learning_rate=0.1, max_delta_step=0,\n",
      "       max_depth=5, min_child_weight=1, missing=None, n_estimators=300,\n",
      "       n_jobs=1, nthread=None, objective='binary:logistic', random_state=0,\n",
      "       reg_alpha=0, reg_lambda=2, scale_pos_weight=1, seed=10, silent=True,\n",
      "       subsample=0.9)\n",
      "confusion matrix of training data\n",
      "[[15272   864]\n",
      " [ 1666  3700]]\n",
      "confusion matrix of test data\n",
      "[[6533  399]\n",
      " [ 794 1490]]\n",
      "classification report of test data\n",
      "              precision    recall  f1-score   support\n",
      "\n",
      "           0       0.89      0.94      0.92      6932\n",
      "           1       0.79      0.65      0.71      2284\n",
      "\n",
      "   micro avg       0.87      0.87      0.87      9216\n",
      "   macro avg       0.84      0.80      0.82      9216\n",
      "weighted avg       0.87      0.87      0.87      9216\n",
      "\n",
      "Accuracy on test data: 87.055122%\n",
      "Accuracy on training data: 88.233653%\n",
      "Area under the ROC curve : 0.797403\n"
     ]
    }
   ],
   "source": [
    "show_classifier_metrics(xgbCV,y_train)"
   ]
  },
  {
   "cell_type": "code",
   "execution_count": 167,
   "metadata": {},
   "outputs": [],
   "source": [
    "#X_test.iloc[np.where(y_test != xgbCV.predict(X_test))]"
   ]
  },
  {
   "cell_type": "markdown",
   "metadata": {},
   "source": [
    "## Logistic regression"
   ]
  },
  {
   "cell_type": "code",
   "execution_count": 99,
   "metadata": {},
   "outputs": [],
   "source": [
    "from sklearn.linear_model import LogisticRegression"
   ]
  },
  {
   "cell_type": "code",
   "execution_count": 100,
   "metadata": {},
   "outputs": [
    {
     "name": "stderr",
     "output_type": "stream",
     "text": [
      "/Users/debashis/anaconda3/lib/python3.6/site-packages/sklearn/linear_model/logistic.py:433: FutureWarning: Default solver will be changed to 'lbfgs' in 0.22. Specify a solver to silence this warning.\n",
      "  FutureWarning)\n"
     ]
    },
    {
     "data": {
      "text/plain": [
       "LogisticRegression(C=0.8, class_weight=None, dual=False, fit_intercept=True,\n",
       "          intercept_scaling=1, max_iter=200, multi_class='warn',\n",
       "          n_jobs=None, penalty='l2', random_state=42, solver='warn',\n",
       "          tol=0.0001, verbose=0, warm_start=False)"
      ]
     },
     "execution_count": 100,
     "metadata": {},
     "output_type": "execute_result"
    }
   ],
   "source": [
    "logreg = LogisticRegression(C=0.8,random_state=42,max_iter=200)\n",
    "logreg.fit(X_train, y_train)"
   ]
  },
  {
   "cell_type": "code",
   "execution_count": 101,
   "metadata": {},
   "outputs": [
    {
     "name": "stdout",
     "output_type": "stream",
     "text": [
      "LogisticRegression(C=0.8, class_weight=None, dual=False, fit_intercept=True,\n",
      "          intercept_scaling=1, max_iter=200, multi_class='warn',\n",
      "          n_jobs=None, penalty='l2', random_state=42, solver='warn',\n",
      "          tol=0.0001, verbose=0, warm_start=False)\n",
      "confusion matrix of training data\n",
      "[[14956  1180]\n",
      " [ 2074  3292]]\n",
      "confusion matrix of test data\n",
      "[[6418  514]\n",
      " [ 918 1366]]\n",
      "classification report of test data\n",
      "              precision    recall  f1-score   support\n",
      "\n",
      "           0       0.87      0.93      0.90      6932\n",
      "           1       0.73      0.60      0.66      2284\n",
      "\n",
      "   micro avg       0.84      0.84      0.84      9216\n",
      "   macro avg       0.80      0.76      0.78      9216\n",
      "weighted avg       0.84      0.84      0.84      9216\n",
      "\n",
      "Accuracy on test data: 84.461806%\n",
      "Accuracy on training data: 84.866524%\n",
      "Area under the ROC curve : 0.761962\n"
     ]
    }
   ],
   "source": [
    "show_classifier_metrics(logreg)"
   ]
  },
  {
   "cell_type": "markdown",
   "metadata": {},
   "source": [
    "## Naive Bayes"
   ]
  },
  {
   "cell_type": "code",
   "execution_count": 102,
   "metadata": {},
   "outputs": [],
   "source": [
    "from sklearn.naive_bayes import GaussianNB"
   ]
  },
  {
   "cell_type": "code",
   "execution_count": 103,
   "metadata": {},
   "outputs": [],
   "source": [
    "NBmodel = GaussianNB()"
   ]
  },
  {
   "cell_type": "code",
   "execution_count": 104,
   "metadata": {},
   "outputs": [
    {
     "data": {
      "text/plain": [
       "GaussianNB(priors=None, var_smoothing=1e-09)"
      ]
     },
     "execution_count": 104,
     "metadata": {},
     "output_type": "execute_result"
    }
   ],
   "source": [
    "NBmodel.fit(X_train, y_train)"
   ]
  },
  {
   "cell_type": "code",
   "execution_count": 105,
   "metadata": {},
   "outputs": [
    {
     "data": {
      "text/plain": [
       "array([0, 0, 0, ..., 0, 0, 0])"
      ]
     },
     "execution_count": 105,
     "metadata": {},
     "output_type": "execute_result"
    }
   ],
   "source": [
    "NBmodel.predict(X_test)"
   ]
  },
  {
   "cell_type": "code",
   "execution_count": 106,
   "metadata": {},
   "outputs": [
    {
     "name": "stdout",
     "output_type": "stream",
     "text": [
      "GaussianNB(priors=None, var_smoothing=1e-09)\n",
      "confusion matrix of training data\n",
      "[[13724  2412]\n",
      " [ 1390  3976]]\n",
      "confusion matrix of test data\n",
      "[[5919 1013]\n",
      " [ 631 1653]]\n",
      "classification report of test data\n",
      "              precision    recall  f1-score   support\n",
      "\n",
      "           0       0.90      0.85      0.88      6932\n",
      "           1       0.62      0.72      0.67      2284\n",
      "\n",
      "   micro avg       0.82      0.82      0.82      9216\n",
      "   macro avg       0.76      0.79      0.77      9216\n",
      "weighted avg       0.83      0.82      0.83      9216\n",
      "\n",
      "Accuracy on test data: 82.161458%\n",
      "Accuracy on training data: 82.317924%\n",
      "Area under the ROC curve : 0.788798\n"
     ]
    }
   ],
   "source": [
    "show_classifier_metrics(NBmodel,y_train)"
   ]
  },
  {
   "cell_type": "markdown",
   "metadata": {},
   "source": [
    "### Stacked model"
   ]
  },
  {
   "cell_type": "code",
   "execution_count": 149,
   "metadata": {},
   "outputs": [],
   "source": [
    "def create_stacked_dataset(clfs,modelnames, X_train=X_train,X_test=X_test):\n",
    "    X_train_stack, X_test_stack = X_train, X_test\n",
    "    for clf,modelname in zip(clfs,modelnames):\n",
    "        temptrain = pd.DataFrame(clf.predict(X_train),index = X_train.index,columns=[modelname+'_prediction'])\n",
    "        temptest  = pd.DataFrame(clf.predict(X_test),index = X_test.index,columns=[modelname+'_prediction'])\n",
    "        X_train_stack = pd.concat([X_train_stack, temptrain], axis=1)\n",
    "        X_test_stack = pd.concat([X_test_stack, temptest], axis=1)\n",
    "    return (X_train_stack,X_test_stack)"
   ]
  },
  {
   "cell_type": "code",
   "execution_count": 150,
   "metadata": {},
   "outputs": [],
   "source": [
    "X_train_stack,X_test_stack = create_stacked_dataset([NBmodel,rfmodel,logreg,xgb],modelnames=['NBmodel','rfmodel','logreg','xgb'])"
   ]
  },
  {
   "cell_type": "code",
   "execution_count": 151,
   "metadata": {},
   "outputs": [
    {
     "data": {
      "text/html": [
       "<div>\n",
       "<style scoped>\n",
       "    .dataframe tbody tr th:only-of-type {\n",
       "        vertical-align: middle;\n",
       "    }\n",
       "\n",
       "    .dataframe tbody tr th {\n",
       "        vertical-align: top;\n",
       "    }\n",
       "\n",
       "    .dataframe thead th {\n",
       "        text-align: right;\n",
       "    }\n",
       "</style>\n",
       "<table border=\"1\" class=\"dataframe\">\n",
       "  <thead>\n",
       "    <tr style=\"text-align: right;\">\n",
       "      <th></th>\n",
       "      <th>age</th>\n",
       "      <th>education.num</th>\n",
       "      <th>capital.gain</th>\n",
       "      <th>capital.loss</th>\n",
       "      <th>hours.per.week</th>\n",
       "      <th>binary_native_country</th>\n",
       "      <th>workclass_Local-gov</th>\n",
       "      <th>workclass_Private</th>\n",
       "      <th>workclass_Self-emp-inc</th>\n",
       "      <th>workclass_Self-emp-not-inc</th>\n",
       "      <th>...</th>\n",
       "      <th>is_Priv-house-serv</th>\n",
       "      <th>is_Prof-specialty</th>\n",
       "      <th>is_Protective-serv</th>\n",
       "      <th>is_Sales</th>\n",
       "      <th>is_Tech-support</th>\n",
       "      <th>is_Transport-moving</th>\n",
       "      <th>NBmodel_prediction</th>\n",
       "      <th>rfmodel_prediction</th>\n",
       "      <th>logreg_prediction</th>\n",
       "      <th>xgb_prediction</th>\n",
       "    </tr>\n",
       "  </thead>\n",
       "  <tbody>\n",
       "    <tr>\n",
       "      <th>31369</th>\n",
       "      <td>36</td>\n",
       "      <td>10</td>\n",
       "      <td>0</td>\n",
       "      <td>0</td>\n",
       "      <td>60</td>\n",
       "      <td>1</td>\n",
       "      <td>0</td>\n",
       "      <td>1</td>\n",
       "      <td>0</td>\n",
       "      <td>0</td>\n",
       "      <td>...</td>\n",
       "      <td>0</td>\n",
       "      <td>0</td>\n",
       "      <td>0</td>\n",
       "      <td>0</td>\n",
       "      <td>0</td>\n",
       "      <td>0</td>\n",
       "      <td>0</td>\n",
       "      <td>0</td>\n",
       "      <td>0</td>\n",
       "      <td>0</td>\n",
       "    </tr>\n",
       "    <tr>\n",
       "      <th>31013</th>\n",
       "      <td>20</td>\n",
       "      <td>6</td>\n",
       "      <td>0</td>\n",
       "      <td>0</td>\n",
       "      <td>40</td>\n",
       "      <td>1</td>\n",
       "      <td>0</td>\n",
       "      <td>1</td>\n",
       "      <td>0</td>\n",
       "      <td>0</td>\n",
       "      <td>...</td>\n",
       "      <td>0</td>\n",
       "      <td>0</td>\n",
       "      <td>0</td>\n",
       "      <td>0</td>\n",
       "      <td>0</td>\n",
       "      <td>0</td>\n",
       "      <td>0</td>\n",
       "      <td>0</td>\n",
       "      <td>0</td>\n",
       "      <td>0</td>\n",
       "    </tr>\n",
       "  </tbody>\n",
       "</table>\n",
       "<p>2 rows × 45 columns</p>\n",
       "</div>"
      ],
      "text/plain": [
       "       age  education.num  capital.gain  capital.loss  hours.per.week  \\\n",
       "31369   36             10             0             0              60   \n",
       "31013   20              6             0             0              40   \n",
       "\n",
       "       binary_native_country  workclass_Local-gov  workclass_Private  \\\n",
       "31369                      1                    0                  1   \n",
       "31013                      1                    0                  1   \n",
       "\n",
       "       workclass_Self-emp-inc  workclass_Self-emp-not-inc  ...  \\\n",
       "31369                       0                           0  ...   \n",
       "31013                       0                           0  ...   \n",
       "\n",
       "       is_Priv-house-serv  is_Prof-specialty  is_Protective-serv  is_Sales  \\\n",
       "31369                   0                  0                   0         0   \n",
       "31013                   0                  0                   0         0   \n",
       "\n",
       "       is_Tech-support  is_Transport-moving  NBmodel_prediction  \\\n",
       "31369                0                    0                   0   \n",
       "31013                0                    0                   0   \n",
       "\n",
       "       rfmodel_prediction  logreg_prediction  xgb_prediction  \n",
       "31369                   0                  0               0  \n",
       "31013                   0                  0               0  \n",
       "\n",
       "[2 rows x 45 columns]"
      ]
     },
     "execution_count": 151,
     "metadata": {},
     "output_type": "execute_result"
    }
   ],
   "source": [
    "X_train_stack.head(2)"
   ]
  },
  {
   "cell_type": "code",
   "execution_count": 152,
   "metadata": {},
   "outputs": [
    {
     "name": "stdout",
     "output_type": "stream",
     "text": [
      "[0]\tvalidation_0-error:0.115106\tvalidation_1-error:0.129774\n",
      "Multiple eval metrics have been passed: 'validation_1-error' will be used for early stopping.\n",
      "\n",
      "Will train until validation_1-error hasn't improved in 30 rounds.\n",
      "[1]\tvalidation_0-error:0.115431\tvalidation_1-error:0.129883\n",
      "[2]\tvalidation_0-error:0.115199\tvalidation_1-error:0.129883\n",
      "[3]\tvalidation_0-error:0.115338\tvalidation_1-error:0.129557\n",
      "[4]\tvalidation_0-error:0.115338\tvalidation_1-error:0.129557\n",
      "[5]\tvalidation_0-error:0.115338\tvalidation_1-error:0.129557\n",
      "[6]\tvalidation_0-error:0.115338\tvalidation_1-error:0.129557\n",
      "[7]\tvalidation_0-error:0.115338\tvalidation_1-error:0.129557\n",
      "[8]\tvalidation_0-error:0.115338\tvalidation_1-error:0.129557\n",
      "[9]\tvalidation_0-error:0.115338\tvalidation_1-error:0.129557\n",
      "[10]\tvalidation_0-error:0.115338\tvalidation_1-error:0.129557\n",
      "[11]\tvalidation_0-error:0.115338\tvalidation_1-error:0.129557\n",
      "[12]\tvalidation_0-error:0.115338\tvalidation_1-error:0.129557\n",
      "[13]\tvalidation_0-error:0.115338\tvalidation_1-error:0.129557\n",
      "[14]\tvalidation_0-error:0.115338\tvalidation_1-error:0.129557\n",
      "[15]\tvalidation_0-error:0.115338\tvalidation_1-error:0.129557\n",
      "[16]\tvalidation_0-error:0.115338\tvalidation_1-error:0.129557\n",
      "[17]\tvalidation_0-error:0.115338\tvalidation_1-error:0.129557\n",
      "[18]\tvalidation_0-error:0.115338\tvalidation_1-error:0.129557\n",
      "[19]\tvalidation_0-error:0.115338\tvalidation_1-error:0.129557\n",
      "[20]\tvalidation_0-error:0.115338\tvalidation_1-error:0.129557\n",
      "[21]\tvalidation_0-error:0.115338\tvalidation_1-error:0.129557\n",
      "[22]\tvalidation_0-error:0.115338\tvalidation_1-error:0.129557\n",
      "[23]\tvalidation_0-error:0.115338\tvalidation_1-error:0.129557\n",
      "[24]\tvalidation_0-error:0.115338\tvalidation_1-error:0.129557\n",
      "[25]\tvalidation_0-error:0.115338\tvalidation_1-error:0.129557\n",
      "[26]\tvalidation_0-error:0.115338\tvalidation_1-error:0.129557\n",
      "[27]\tvalidation_0-error:0.115338\tvalidation_1-error:0.129557\n",
      "[28]\tvalidation_0-error:0.115338\tvalidation_1-error:0.129557\n",
      "[29]\tvalidation_0-error:0.115338\tvalidation_1-error:0.129557\n",
      "[30]\tvalidation_0-error:0.115338\tvalidation_1-error:0.129557\n",
      "[31]\tvalidation_0-error:0.115338\tvalidation_1-error:0.129557\n",
      "[32]\tvalidation_0-error:0.115338\tvalidation_1-error:0.129557\n",
      "[33]\tvalidation_0-error:0.115338\tvalidation_1-error:0.129557\n",
      "Stopping. Best iteration:\n",
      "[3]\tvalidation_0-error:0.115338\tvalidation_1-error:0.129557\n",
      "\n"
     ]
    },
    {
     "data": {
      "text/plain": [
       "XGBClassifier(base_score=0.5, booster='gbtree', colsample_bylevel=0.9,\n",
       "       colsample_bytree=0.9, gamma=0, learning_rate=0.1, max_delta_step=0,\n",
       "       max_depth=5, min_child_weight=1, missing=None, n_estimators=400,\n",
       "       n_jobs=1, nthread=None, objective='binary:logistic', random_state=0,\n",
       "       reg_alpha=0, reg_lambda=1.5, scale_pos_weight=1, seed=10,\n",
       "       silent=True, subsample=0.9, verbosity=1)"
      ]
     },
     "execution_count": 152,
     "metadata": {},
     "output_type": "execute_result"
    }
   ],
   "source": [
    "param = {}\n",
    "param['learning_rate'] = 0.1\n",
    "param['verbosity'] = 1\n",
    "param['colsample_bylevel'] = 0.9\n",
    "param['colsample_bytree'] = 0.9\n",
    "param['subsample'] = 0.9\n",
    "param['reg_lambda']= 1.5\n",
    "param['max_depth'] = 5#10\n",
    "param['n_estimators'] = 400\n",
    "param['seed']=10\n",
    "xgbstack= XGBClassifier(**param)\n",
    "xgbstack.fit(X_train_stack, y_train, eval_metric=['error'], eval_set=[(X_train_stack, y_train),(X_test_stack, y_test)],early_stopping_rounds=30)\n"
   ]
  },
  {
   "cell_type": "code",
   "execution_count": 153,
   "metadata": {},
   "outputs": [
    {
     "name": "stdout",
     "output_type": "stream",
     "text": [
      "              precision    recall  f1-score   support\n",
      "\n",
      "           0       0.89      0.94      0.92      6932\n",
      "           1       0.79      0.65      0.71      2284\n",
      "\n",
      "   micro avg       0.87      0.87      0.87      9216\n",
      "   macro avg       0.84      0.80      0.81      9216\n",
      "weighted avg       0.87      0.87      0.87      9216\n",
      "\n",
      "Accuracy on test data: 87.044271%\n",
      "Accuracy on training data: 88.466189%\n"
     ]
    }
   ],
   "source": [
    "print(metrics.classification_report(y_test, xgbstack.predict(X_test_stack)))\n",
    "print('Accuracy on test data: %f%%' % (metrics.accuracy_score(y_test, xgbstack.predict(X_test_stack))*100))\n",
    "print('Accuracy on training data: %f%%' % (metrics.accuracy_score(y_train, xgbstack.predict(X_train_stack))*100))"
   ]
  },
  {
   "cell_type": "markdown",
   "metadata": {},
   "source": [
    "### Stacked model Grid Search"
   ]
  },
  {
   "cell_type": "code",
   "execution_count": 154,
   "metadata": {},
   "outputs": [
    {
     "name": "stdout",
     "output_type": "stream",
     "text": [
      "Doing grid search\n",
      "Fitting 4 folds for each of 4 candidates, totalling 16 fits\n"
     ]
    },
    {
     "name": "stderr",
     "output_type": "stream",
     "text": [
      "[Parallel(n_jobs=-1)]: Using backend LokyBackend with 4 concurrent workers.\n",
      "[Parallel(n_jobs=-1)]: Done  16 out of  16 | elapsed:  1.6min finished\n"
     ]
    },
    {
     "name": "stdout",
     "output_type": "stream",
     "text": [
      "mean test score (weighted by split size) of CV rounds:  [0.88415031 0.88075528 0.87201191 0.86722165]\n",
      "Best parameter set {'colsample_bylevel': 0.9, 'colsample_bytree': 0.9, 'learning_rate': 0.1, 'max_depth': 3, 'n_estimators': 300, 'reg_lambda': 1.5, 'seed': 10, 'subsample': 0.9} Corresponding mean CV score 0.884150311598921\n"
     ]
    }
   ],
   "source": [
    "xgbstackCV = XGBClassifier(seed=10)\n",
    "param_grid = {}\n",
    "param_grid['learning_rate'] = [0.1]\n",
    "param_grid['colsample_bylevel'] = [0.9]\n",
    "param_grid['colsample_bytree'] = [0.9]\n",
    "param_grid['subsample'] = [0.9]\n",
    "param_grid['n_estimators'] = [300]\n",
    "param_grid['reg_lambda']= [1.5]\n",
    "param_grid['seed'] =[10]\n",
    "param_grid['max_depth'] = [3,5,8,10]\n",
    "xgbstackCV_grid = grid_search(xgbstackCV, param_grid,X_train_stack,y_train)"
   ]
  },
  {
   "cell_type": "code",
   "execution_count": 155,
   "metadata": {},
   "outputs": [
    {
     "name": "stdout",
     "output_type": "stream",
     "text": [
      "[0]\tvalidation_0-error:0.115338\tvalidation_1-error:0.129557\n",
      "Multiple eval metrics have been passed: 'validation_1-error' will be used for early stopping.\n",
      "\n",
      "Will train until validation_1-error hasn't improved in 30 rounds.\n",
      "[1]\tvalidation_0-error:0.115338\tvalidation_1-error:0.129557\n",
      "[2]\tvalidation_0-error:0.115338\tvalidation_1-error:0.129557\n",
      "[3]\tvalidation_0-error:0.115338\tvalidation_1-error:0.129557\n",
      "[4]\tvalidation_0-error:0.115338\tvalidation_1-error:0.129557\n",
      "[5]\tvalidation_0-error:0.115338\tvalidation_1-error:0.129557\n",
      "[6]\tvalidation_0-error:0.115338\tvalidation_1-error:0.129557\n",
      "[7]\tvalidation_0-error:0.115338\tvalidation_1-error:0.129557\n",
      "[8]\tvalidation_0-error:0.115338\tvalidation_1-error:0.129557\n",
      "[9]\tvalidation_0-error:0.115338\tvalidation_1-error:0.129557\n",
      "[10]\tvalidation_0-error:0.115338\tvalidation_1-error:0.129557\n",
      "[11]\tvalidation_0-error:0.115338\tvalidation_1-error:0.129557\n",
      "[12]\tvalidation_0-error:0.115338\tvalidation_1-error:0.129557\n",
      "[13]\tvalidation_0-error:0.115338\tvalidation_1-error:0.129557\n",
      "[14]\tvalidation_0-error:0.115338\tvalidation_1-error:0.129557\n",
      "[15]\tvalidation_0-error:0.115338\tvalidation_1-error:0.129557\n",
      "[16]\tvalidation_0-error:0.115338\tvalidation_1-error:0.129557\n",
      "[17]\tvalidation_0-error:0.115338\tvalidation_1-error:0.129557\n",
      "[18]\tvalidation_0-error:0.115338\tvalidation_1-error:0.129557\n",
      "[19]\tvalidation_0-error:0.115338\tvalidation_1-error:0.129557\n",
      "[20]\tvalidation_0-error:0.115338\tvalidation_1-error:0.129557\n",
      "[21]\tvalidation_0-error:0.115338\tvalidation_1-error:0.129557\n",
      "[22]\tvalidation_0-error:0.115338\tvalidation_1-error:0.129557\n",
      "[23]\tvalidation_0-error:0.115338\tvalidation_1-error:0.129557\n",
      "[24]\tvalidation_0-error:0.115338\tvalidation_1-error:0.129557\n",
      "[25]\tvalidation_0-error:0.115338\tvalidation_1-error:0.129557\n",
      "[26]\tvalidation_0-error:0.115338\tvalidation_1-error:0.129557\n",
      "[27]\tvalidation_0-error:0.115338\tvalidation_1-error:0.129557\n",
      "[28]\tvalidation_0-error:0.115338\tvalidation_1-error:0.129557\n",
      "[29]\tvalidation_0-error:0.115338\tvalidation_1-error:0.129557\n",
      "[30]\tvalidation_0-error:0.115338\tvalidation_1-error:0.129557\n",
      "Stopping. Best iteration:\n",
      "[0]\tvalidation_0-error:0.115338\tvalidation_1-error:0.129557\n",
      "\n"
     ]
    },
    {
     "data": {
      "text/plain": [
       "XGBClassifier(base_score=0.5, booster='gbtree', colsample_bylevel=0.9,\n",
       "       colsample_bytree=0.9, gamma=0, learning_rate=0.1, max_delta_step=0,\n",
       "       max_depth=3, min_child_weight=1, missing=None, n_estimators=300,\n",
       "       n_jobs=1, nthread=None, objective='binary:logistic', random_state=0,\n",
       "       reg_alpha=0, reg_lambda=1.5, scale_pos_weight=1, seed=10,\n",
       "       silent=True, subsample=0.9)"
      ]
     },
     "execution_count": 155,
     "metadata": {},
     "output_type": "execute_result"
    }
   ],
   "source": [
    "xgbstackCV_grid.fit(X_train_stack, y_train, eval_metric=['error'], eval_set=[(X_train_stack, y_train),(X_test_stack, y_test)],early_stopping_rounds=30)"
   ]
  },
  {
   "cell_type": "code",
   "execution_count": 156,
   "metadata": {},
   "outputs": [
    {
     "name": "stdout",
     "output_type": "stream",
     "text": [
      "              precision    recall  f1-score   support\n",
      "\n",
      "           0       0.89      0.94      0.92      6932\n",
      "           1       0.79      0.65      0.71      2284\n",
      "\n",
      "   micro avg       0.87      0.87      0.87      9216\n",
      "   macro avg       0.84      0.80      0.81      9216\n",
      "weighted avg       0.87      0.87      0.87      9216\n",
      "\n",
      "Accuracy on test data: 87.044271%\n",
      "Accuracy on training data: 88.466189%\n"
     ]
    }
   ],
   "source": [
    "print(metrics.classification_report(y_test, xgbstack.predict(X_test_stack)))\n",
    "print('Accuracy on test data: %f%%' % (metrics.accuracy_score(y_test, xgbstack.predict(X_test_stack))*100))\n",
    "print('Accuracy on training data: %f%%' % (metrics.accuracy_score(y_train, xgbstack.predict(X_train_stack))*100))"
   ]
  },
  {
   "cell_type": "code",
   "execution_count": 113,
   "metadata": {},
   "outputs": [],
   "source": [
    "from catboost import CatBoostClassifier"
   ]
  },
  {
   "cell_type": "code",
   "execution_count": 114,
   "metadata": {},
   "outputs": [],
   "source": [
    "catb = CatBoostClassifier(learning_rate=0.1,iterations=400,verbose=1,random_seed=10,eval_metric='Accuracy',rsm=0.9)"
   ]
  },
  {
   "cell_type": "code",
   "execution_count": 115,
   "metadata": {},
   "outputs": [
    {
     "name": "stdout",
     "output_type": "stream",
     "text": [
      "0:\tlearn: 0.8388057\ttest: 0.8388057\ttest1: 0.8360460\tbest: 0.8360460 (0)\ttotal: 107ms\tremaining: 42.5s\n",
      "1:\tlearn: 0.8393638\ttest: 0.8393638\ttest1: 0.8370226\tbest: 0.8370226 (1)\ttotal: 151ms\tremaining: 30s\n",
      "2:\tlearn: 0.8422472\ttest: 0.8422472\ttest1: 0.8385417\tbest: 0.8385417 (2)\ttotal: 196ms\tremaining: 26s\n",
      "3:\tlearn: 0.8419217\ttest: 0.8419217\ttest1: 0.8394097\tbest: 0.8394097 (3)\ttotal: 239ms\tremaining: 23.7s\n",
      "4:\tlearn: 0.8462004\ttest: 0.8462004\ttest1: 0.8430990\tbest: 0.8430990 (4)\ttotal: 284ms\tremaining: 22.5s\n",
      "5:\tlearn: 0.8461073\ttest: 0.8461073\ttest1: 0.8434245\tbest: 0.8434245 (5)\ttotal: 342ms\tremaining: 22.4s\n",
      "6:\tlearn: 0.8470840\ttest: 0.8470840\ttest1: 0.8440755\tbest: 0.8440755 (6)\ttotal: 386ms\tremaining: 21.7s\n",
      "7:\tlearn: 0.8469445\ttest: 0.8469445\ttest1: 0.8433160\tbest: 0.8440755 (6)\ttotal: 432ms\tremaining: 21.2s\n",
      "8:\tlearn: 0.8481072\ttest: 0.8481072\ttest1: 0.8453776\tbest: 0.8453776 (8)\ttotal: 497ms\tremaining: 21.6s\n",
      "9:\tlearn: 0.8476886\ttest: 0.8476886\ttest1: 0.8457031\tbest: 0.8457031 (9)\ttotal: 553ms\tremaining: 21.6s\n",
      "10:\tlearn: 0.8480606\ttest: 0.8480606\ttest1: 0.8455946\tbest: 0.8457031 (9)\ttotal: 610ms\tremaining: 21.6s\n",
      "11:\tlearn: 0.8483397\ttest: 0.8483397\ttest1: 0.8463542\tbest: 0.8463542 (11)\ttotal: 653ms\tremaining: 21.1s\n",
      "12:\tlearn: 0.8484327\ttest: 0.8484327\ttest1: 0.8459201\tbest: 0.8463542 (11)\ttotal: 702ms\tremaining: 20.9s\n",
      "13:\tlearn: 0.8493628\ttest: 0.8493628\ttest1: 0.8470052\tbest: 0.8470052 (13)\ttotal: 747ms\tremaining: 20.6s\n",
      "14:\tlearn: 0.8492233\ttest: 0.8492233\ttest1: 0.8467882\tbest: 0.8470052 (13)\ttotal: 816ms\tremaining: 20.9s\n",
      "15:\tlearn: 0.8514092\ttest: 0.8514092\ttest1: 0.8472222\tbest: 0.8472222 (15)\ttotal: 863ms\tremaining: 20.7s\n",
      "16:\tlearn: 0.8521998\ttest: 0.8521998\ttest1: 0.8478733\tbest: 0.8478733 (16)\ttotal: 909ms\tremaining: 20.5s\n",
      "17:\tlearn: 0.8524323\ttest: 0.8524323\ttest1: 0.8495009\tbest: 0.8495009 (17)\ttotal: 996ms\tremaining: 21.1s\n",
      "18:\tlearn: 0.8523393\ttest: 0.8523393\ttest1: 0.8491753\tbest: 0.8495009 (17)\ttotal: 1.14s\tremaining: 22.9s\n",
      "19:\tlearn: 0.8522928\ttest: 0.8522928\ttest1: 0.8493924\tbest: 0.8495009 (17)\ttotal: 1.27s\tremaining: 24.2s\n",
      "20:\tlearn: 0.8529439\ttest: 0.8529439\ttest1: 0.8492839\tbest: 0.8495009 (17)\ttotal: 1.52s\tremaining: 27.5s\n",
      "21:\tlearn: 0.8533625\ttest: 0.8533625\ttest1: 0.8497179\tbest: 0.8497179 (21)\ttotal: 1.7s\tremaining: 29.2s\n",
      "22:\tlearn: 0.8531299\ttest: 0.8531299\ttest1: 0.8499349\tbest: 0.8499349 (22)\ttotal: 1.83s\tremaining: 30.1s\n",
      "23:\tlearn: 0.8539206\ttest: 0.8539206\ttest1: 0.8510200\tbest: 0.8510200 (23)\ttotal: 1.93s\tremaining: 30.3s\n",
      "24:\tlearn: 0.8538276\ttest: 0.8538276\ttest1: 0.8513455\tbest: 0.8513455 (24)\ttotal: 1.97s\tremaining: 29.6s\n",
      "25:\tlearn: 0.8538741\ttest: 0.8538741\ttest1: 0.8511285\tbest: 0.8513455 (24)\ttotal: 2.02s\tremaining: 29.1s\n",
      "26:\tlearn: 0.8541066\ttest: 0.8541066\ttest1: 0.8511285\tbest: 0.8513455 (24)\ttotal: 2.09s\tremaining: 28.8s\n",
      "27:\tlearn: 0.8550832\ttest: 0.8550832\ttest1: 0.8510200\tbest: 0.8513455 (24)\ttotal: 2.13s\tremaining: 28.3s\n",
      "28:\tlearn: 0.8560599\ttest: 0.8560599\ttest1: 0.8515625\tbest: 0.8515625 (28)\ttotal: 2.17s\tremaining: 27.8s\n",
      "29:\tlearn: 0.8560599\ttest: 0.8560599\ttest1: 0.8527561\tbest: 0.8527561 (29)\ttotal: 2.22s\tremaining: 27.4s\n",
      "30:\tlearn: 0.8564785\ttest: 0.8564785\ttest1: 0.8529731\tbest: 0.8529731 (30)\ttotal: 2.26s\tremaining: 27s\n",
      "31:\tlearn: 0.8571296\ttest: 0.8571296\ttest1: 0.8531901\tbest: 0.8531901 (31)\ttotal: 2.32s\tremaining: 26.7s\n",
      "32:\tlearn: 0.8573156\ttest: 0.8573156\ttest1: 0.8537326\tbest: 0.8537326 (32)\ttotal: 2.37s\tremaining: 26.4s\n",
      "33:\tlearn: 0.8578272\ttest: 0.8578272\ttest1: 0.8540582\tbest: 0.8540582 (33)\ttotal: 2.45s\tremaining: 26.3s\n",
      "34:\tlearn: 0.8583388\ttest: 0.8583388\ttest1: 0.8544922\tbest: 0.8544922 (34)\ttotal: 2.49s\tremaining: 26s\n",
      "35:\tlearn: 0.8587573\ttest: 0.8587573\ttest1: 0.8554688\tbest: 0.8554688 (35)\ttotal: 2.54s\tremaining: 25.6s\n",
      "36:\tlearn: 0.8588038\ttest: 0.8588038\ttest1: 0.8548177\tbest: 0.8554688 (35)\ttotal: 2.58s\tremaining: 25.4s\n",
      "37:\tlearn: 0.8597340\ttest: 0.8597340\ttest1: 0.8549262\tbest: 0.8554688 (35)\ttotal: 2.63s\tremaining: 25s\n",
      "38:\tlearn: 0.8597805\ttest: 0.8597805\ttest1: 0.8553602\tbest: 0.8554688 (35)\ttotal: 2.67s\tremaining: 24.7s\n",
      "39:\tlearn: 0.8600130\ttest: 0.8600130\ttest1: 0.8559028\tbest: 0.8559028 (39)\ttotal: 2.71s\tremaining: 24.4s\n",
      "40:\tlearn: 0.8603851\ttest: 0.8603851\ttest1: 0.8553602\tbest: 0.8559028 (39)\ttotal: 2.83s\tremaining: 24.8s\n",
      "41:\tlearn: 0.8608036\ttest: 0.8608036\ttest1: 0.8555773\tbest: 0.8559028 (39)\ttotal: 2.96s\tremaining: 25.3s\n",
      "42:\tlearn: 0.8608967\ttest: 0.8608967\ttest1: 0.8555773\tbest: 0.8559028 (39)\ttotal: 3.09s\tremaining: 25.7s\n",
      "43:\tlearn: 0.8612687\ttest: 0.8612687\ttest1: 0.8555773\tbest: 0.8559028 (39)\ttotal: 3.14s\tremaining: 25.4s\n",
      "44:\tlearn: 0.8610827\ttest: 0.8610827\ttest1: 0.8561198\tbest: 0.8561198 (44)\ttotal: 3.2s\tremaining: 25.3s\n",
      "45:\tlearn: 0.8610362\ttest: 0.8610362\ttest1: 0.8557943\tbest: 0.8561198 (44)\ttotal: 3.36s\tremaining: 25.8s\n",
      "46:\tlearn: 0.8614547\ttest: 0.8614547\ttest1: 0.8551432\tbest: 0.8561198 (44)\ttotal: 3.47s\tremaining: 26.1s\n",
      "47:\tlearn: 0.8614082\ttest: 0.8614082\ttest1: 0.8553602\tbest: 0.8561198 (44)\ttotal: 3.58s\tremaining: 26.2s\n",
      "48:\tlearn: 0.8615943\ttest: 0.8615943\ttest1: 0.8563368\tbest: 0.8563368 (48)\ttotal: 3.71s\tremaining: 26.6s\n",
      "49:\tlearn: 0.8615943\ttest: 0.8615943\ttest1: 0.8562283\tbest: 0.8563368 (48)\ttotal: 3.76s\tremaining: 26.3s\n",
      "50:\tlearn: 0.8622919\ttest: 0.8622919\ttest1: 0.8568793\tbest: 0.8568793 (50)\ttotal: 3.83s\tremaining: 26.2s\n",
      "51:\tlearn: 0.8624779\ttest: 0.8624779\ttest1: 0.8568793\tbest: 0.8568793 (50)\ttotal: 3.88s\tremaining: 26s\n",
      "52:\tlearn: 0.8629430\ttest: 0.8629430\ttest1: 0.8567708\tbest: 0.8568793 (50)\ttotal: 3.92s\tremaining: 25.7s\n",
      "53:\tlearn: 0.8629895\ttest: 0.8629895\ttest1: 0.8570964\tbest: 0.8570964 (53)\ttotal: 3.97s\tremaining: 25.4s\n",
      "54:\tlearn: 0.8630360\ttest: 0.8630360\ttest1: 0.8574219\tbest: 0.8574219 (54)\ttotal: 4.01s\tremaining: 25.2s\n",
      "55:\tlearn: 0.8631755\ttest: 0.8631755\ttest1: 0.8581814\tbest: 0.8581814 (55)\ttotal: 4.09s\tremaining: 25.1s\n",
      "56:\tlearn: 0.8635941\ttest: 0.8635941\ttest1: 0.8586155\tbest: 0.8586155 (56)\ttotal: 4.14s\tremaining: 24.9s\n",
      "57:\tlearn: 0.8636871\ttest: 0.8636871\ttest1: 0.8594835\tbest: 0.8594835 (57)\ttotal: 4.18s\tremaining: 24.6s\n",
      "58:\tlearn: 0.8634081\ttest: 0.8634081\ttest1: 0.8595920\tbest: 0.8595920 (58)\ttotal: 4.22s\tremaining: 24.4s\n",
      "59:\tlearn: 0.8637801\ttest: 0.8637801\ttest1: 0.8591580\tbest: 0.8595920 (58)\ttotal: 4.36s\tremaining: 24.7s\n",
      "60:\tlearn: 0.8639661\ttest: 0.8639661\ttest1: 0.8607856\tbest: 0.8607856 (60)\ttotal: 4.46s\tremaining: 24.8s\n",
      "61:\tlearn: 0.8642917\ttest: 0.8642917\ttest1: 0.8607856\tbest: 0.8607856 (60)\ttotal: 4.55s\tremaining: 24.8s\n",
      "62:\tlearn: 0.8641522\ttest: 0.8641522\ttest1: 0.8608941\tbest: 0.8608941 (62)\ttotal: 4.67s\tremaining: 25s\n",
      "63:\tlearn: 0.8646172\ttest: 0.8646172\ttest1: 0.8604601\tbest: 0.8608941 (62)\ttotal: 4.78s\tremaining: 25.1s\n",
      "64:\tlearn: 0.8646172\ttest: 0.8646172\ttest1: 0.8604601\tbest: 0.8608941 (62)\ttotal: 4.87s\tremaining: 25.1s\n",
      "65:\tlearn: 0.8645707\ttest: 0.8645707\ttest1: 0.8608941\tbest: 0.8608941 (62)\ttotal: 5s\tremaining: 25.3s\n",
      "66:\tlearn: 0.8646172\ttest: 0.8646172\ttest1: 0.8612196\tbest: 0.8612196 (66)\ttotal: 5.06s\tremaining: 25.1s\n",
      "67:\tlearn: 0.8651288\ttest: 0.8651288\ttest1: 0.8612196\tbest: 0.8612196 (66)\ttotal: 5.13s\tremaining: 25s\n",
      "68:\tlearn: 0.8652683\ttest: 0.8652683\ttest1: 0.8607856\tbest: 0.8612196 (66)\ttotal: 5.22s\tremaining: 25s\n",
      "69:\tlearn: 0.8656404\ttest: 0.8656404\ttest1: 0.8611111\tbest: 0.8612196 (66)\ttotal: 5.29s\tremaining: 24.9s\n",
      "70:\tlearn: 0.8658264\ttest: 0.8658264\ttest1: 0.8614366\tbest: 0.8614366 (70)\ttotal: 5.36s\tremaining: 24.8s\n",
      "71:\tlearn: 0.8660125\ttest: 0.8660125\ttest1: 0.8617622\tbest: 0.8617622 (71)\ttotal: 5.42s\tremaining: 24.7s\n",
      "72:\tlearn: 0.8665240\ttest: 0.8665240\ttest1: 0.8615451\tbest: 0.8617622 (71)\ttotal: 5.47s\tremaining: 24.5s\n",
      "73:\tlearn: 0.8666171\ttest: 0.8666171\ttest1: 0.8617622\tbest: 0.8617622 (71)\ttotal: 5.52s\tremaining: 24.3s\n",
      "74:\tlearn: 0.8667101\ttest: 0.8667101\ttest1: 0.8620877\tbest: 0.8620877 (74)\ttotal: 5.57s\tremaining: 24.1s\n",
      "75:\tlearn: 0.8662450\ttest: 0.8662450\ttest1: 0.8614366\tbest: 0.8620877 (74)\ttotal: 5.71s\tremaining: 24.3s\n",
      "76:\tlearn: 0.8666636\ttest: 0.8666636\ttest1: 0.8618707\tbest: 0.8620877 (74)\ttotal: 5.84s\tremaining: 24.5s\n",
      "77:\tlearn: 0.8664775\ttest: 0.8664775\ttest1: 0.8615451\tbest: 0.8620877 (74)\ttotal: 5.98s\tremaining: 24.7s\n",
      "78:\tlearn: 0.8668031\ttest: 0.8668031\ttest1: 0.8618707\tbest: 0.8620877 (74)\ttotal: 6.11s\tremaining: 24.8s\n"
     ]
    },
    {
     "name": "stdout",
     "output_type": "stream",
     "text": [
      "79:\tlearn: 0.8667101\ttest: 0.8667101\ttest1: 0.8619792\tbest: 0.8620877 (74)\ttotal: 6.18s\tremaining: 24.7s\n",
      "80:\tlearn: 0.8666636\ttest: 0.8666636\ttest1: 0.8623047\tbest: 0.8623047 (80)\ttotal: 6.28s\tremaining: 24.7s\n",
      "81:\tlearn: 0.8667566\ttest: 0.8667566\ttest1: 0.8623047\tbest: 0.8623047 (80)\ttotal: 6.34s\tremaining: 24.6s\n",
      "82:\tlearn: 0.8668031\ttest: 0.8668031\ttest1: 0.8619792\tbest: 0.8623047 (80)\ttotal: 6.43s\tremaining: 24.6s\n",
      "83:\tlearn: 0.8670356\ttest: 0.8670356\ttest1: 0.8618707\tbest: 0.8623047 (80)\ttotal: 6.48s\tremaining: 24.4s\n",
      "84:\tlearn: 0.8669891\ttest: 0.8669891\ttest1: 0.8620877\tbest: 0.8623047 (80)\ttotal: 6.53s\tremaining: 24.2s\n",
      "85:\tlearn: 0.8668961\ttest: 0.8668961\ttest1: 0.8623047\tbest: 0.8623047 (80)\ttotal: 6.57s\tremaining: 24s\n",
      "86:\tlearn: 0.8670356\ttest: 0.8670356\ttest1: 0.8620877\tbest: 0.8623047 (80)\ttotal: 6.62s\tremaining: 23.8s\n",
      "87:\tlearn: 0.8669891\ttest: 0.8669891\ttest1: 0.8619792\tbest: 0.8623047 (80)\ttotal: 6.7s\tremaining: 23.7s\n",
      "88:\tlearn: 0.8671751\ttest: 0.8671751\ttest1: 0.8617622\tbest: 0.8623047 (80)\ttotal: 6.84s\tremaining: 23.9s\n",
      "89:\tlearn: 0.8671751\ttest: 0.8671751\ttest1: 0.8618707\tbest: 0.8623047 (80)\ttotal: 6.93s\tremaining: 23.9s\n",
      "90:\tlearn: 0.8670821\ttest: 0.8670821\ttest1: 0.8617622\tbest: 0.8623047 (80)\ttotal: 7.04s\tremaining: 23.9s\n",
      "91:\tlearn: 0.8674077\ttest: 0.8674077\ttest1: 0.8618707\tbest: 0.8623047 (80)\ttotal: 7.08s\tremaining: 23.7s\n",
      "92:\tlearn: 0.8675007\ttest: 0.8675007\ttest1: 0.8616536\tbest: 0.8623047 (80)\ttotal: 7.13s\tremaining: 23.5s\n",
      "93:\tlearn: 0.8676402\ttest: 0.8676402\ttest1: 0.8619792\tbest: 0.8623047 (80)\ttotal: 7.19s\tremaining: 23.4s\n",
      "94:\tlearn: 0.8676402\ttest: 0.8676402\ttest1: 0.8620877\tbest: 0.8623047 (80)\ttotal: 7.22s\tremaining: 23.2s\n",
      "95:\tlearn: 0.8679193\ttest: 0.8679193\ttest1: 0.8618707\tbest: 0.8623047 (80)\ttotal: 7.27s\tremaining: 23s\n",
      "96:\tlearn: 0.8683378\ttest: 0.8683378\ttest1: 0.8621962\tbest: 0.8623047 (80)\ttotal: 7.31s\tremaining: 22.8s\n",
      "97:\tlearn: 0.8687099\ttest: 0.8687099\ttest1: 0.8627387\tbest: 0.8627387 (97)\ttotal: 7.35s\tremaining: 22.7s\n",
      "98:\tlearn: 0.8687099\ttest: 0.8687099\ttest1: 0.8628472\tbest: 0.8628472 (98)\ttotal: 7.41s\tremaining: 22.5s\n",
      "99:\tlearn: 0.8687099\ttest: 0.8687099\ttest1: 0.8627387\tbest: 0.8628472 (98)\ttotal: 7.45s\tremaining: 22.4s\n",
      "100:\tlearn: 0.8687564\ttest: 0.8687564\ttest1: 0.8626302\tbest: 0.8628472 (98)\ttotal: 7.49s\tremaining: 22.2s\n",
      "101:\tlearn: 0.8689424\ttest: 0.8689424\ttest1: 0.8629557\tbest: 0.8629557 (101)\ttotal: 7.53s\tremaining: 22s\n",
      "102:\tlearn: 0.8689889\ttest: 0.8689889\ttest1: 0.8629557\tbest: 0.8629557 (101)\ttotal: 7.58s\tremaining: 21.8s\n",
      "103:\tlearn: 0.8691285\ttest: 0.8691285\ttest1: 0.8628472\tbest: 0.8629557 (101)\ttotal: 7.62s\tremaining: 21.7s\n",
      "104:\tlearn: 0.8694540\ttest: 0.8694540\ttest1: 0.8631727\tbest: 0.8631727 (104)\ttotal: 7.67s\tremaining: 21.5s\n",
      "105:\tlearn: 0.8697330\ttest: 0.8697330\ttest1: 0.8632813\tbest: 0.8632813 (105)\ttotal: 7.71s\tremaining: 21.4s\n",
      "106:\tlearn: 0.8697330\ttest: 0.8697330\ttest1: 0.8631727\tbest: 0.8632813 (105)\ttotal: 7.74s\tremaining: 21.2s\n",
      "107:\tlearn: 0.8699191\ttest: 0.8699191\ttest1: 0.8630642\tbest: 0.8632813 (105)\ttotal: 7.79s\tremaining: 21.1s\n",
      "108:\tlearn: 0.8701981\ttest: 0.8701981\ttest1: 0.8631727\tbest: 0.8632813 (105)\ttotal: 7.83s\tremaining: 20.9s\n",
      "109:\tlearn: 0.8702446\ttest: 0.8702446\ttest1: 0.8629557\tbest: 0.8632813 (105)\ttotal: 7.88s\tremaining: 20.8s\n",
      "110:\tlearn: 0.8706632\ttest: 0.8706632\ttest1: 0.8633898\tbest: 0.8633898 (110)\ttotal: 7.92s\tremaining: 20.6s\n",
      "111:\tlearn: 0.8707097\ttest: 0.8707097\ttest1: 0.8638238\tbest: 0.8638238 (111)\ttotal: 7.97s\tremaining: 20.5s\n",
      "112:\tlearn: 0.8705702\ttest: 0.8705702\ttest1: 0.8639323\tbest: 0.8639323 (112)\ttotal: 8.01s\tremaining: 20.3s\n",
      "113:\tlearn: 0.8708957\ttest: 0.8708957\ttest1: 0.8642578\tbest: 0.8642578 (113)\ttotal: 8.07s\tremaining: 20.2s\n",
      "114:\tlearn: 0.8710353\ttest: 0.8710353\ttest1: 0.8648003\tbest: 0.8648003 (114)\ttotal: 8.11s\tremaining: 20.1s\n",
      "115:\tlearn: 0.8708957\ttest: 0.8708957\ttest1: 0.8648003\tbest: 0.8648003 (114)\ttotal: 8.15s\tremaining: 20s\n",
      "116:\tlearn: 0.8710818\ttest: 0.8710818\ttest1: 0.8653429\tbest: 0.8653429 (116)\ttotal: 8.2s\tremaining: 19.8s\n",
      "117:\tlearn: 0.8711748\ttest: 0.8711748\ttest1: 0.8654514\tbest: 0.8654514 (117)\ttotal: 8.24s\tremaining: 19.7s\n",
      "118:\tlearn: 0.8712213\ttest: 0.8712213\ttest1: 0.8655599\tbest: 0.8655599 (118)\ttotal: 8.29s\tremaining: 19.6s\n",
      "119:\tlearn: 0.8715933\ttest: 0.8715933\ttest1: 0.8661024\tbest: 0.8661024 (119)\ttotal: 8.34s\tremaining: 19.5s\n",
      "120:\tlearn: 0.8715933\ttest: 0.8715933\ttest1: 0.8661024\tbest: 0.8661024 (119)\ttotal: 8.38s\tremaining: 19.3s\n",
      "121:\tlearn: 0.8715468\ttest: 0.8715468\ttest1: 0.8661024\tbest: 0.8661024 (119)\ttotal: 8.41s\tremaining: 19.2s\n",
      "122:\tlearn: 0.8717794\ttest: 0.8717794\ttest1: 0.8659939\tbest: 0.8661024 (119)\ttotal: 8.45s\tremaining: 19s\n",
      "123:\tlearn: 0.8719189\ttest: 0.8719189\ttest1: 0.8661024\tbest: 0.8661024 (119)\ttotal: 8.49s\tremaining: 18.9s\n",
      "124:\tlearn: 0.8721514\ttest: 0.8721514\ttest1: 0.8661024\tbest: 0.8661024 (119)\ttotal: 8.55s\tremaining: 18.8s\n",
      "125:\tlearn: 0.8720584\ttest: 0.8720584\ttest1: 0.8667535\tbest: 0.8667535 (125)\ttotal: 8.69s\tremaining: 18.9s\n",
      "126:\tlearn: 0.8721514\ttest: 0.8721514\ttest1: 0.8667535\tbest: 0.8667535 (125)\ttotal: 8.86s\tremaining: 19s\n",
      "127:\tlearn: 0.8722909\ttest: 0.8722909\ttest1: 0.8668620\tbest: 0.8668620 (127)\ttotal: 8.92s\tremaining: 19s\n",
      "128:\tlearn: 0.8722909\ttest: 0.8722909\ttest1: 0.8667535\tbest: 0.8668620 (127)\ttotal: 8.99s\tremaining: 18.9s\n",
      "129:\tlearn: 0.8723375\ttest: 0.8723375\ttest1: 0.8668620\tbest: 0.8668620 (127)\ttotal: 9.04s\tremaining: 18.8s\n",
      "130:\tlearn: 0.8723840\ttest: 0.8723840\ttest1: 0.8667535\tbest: 0.8668620 (127)\ttotal: 9.13s\tremaining: 18.7s\n",
      "131:\tlearn: 0.8723840\ttest: 0.8723840\ttest1: 0.8669705\tbest: 0.8669705 (131)\ttotal: 9.17s\tremaining: 18.6s\n",
      "132:\tlearn: 0.8726165\ttest: 0.8726165\ttest1: 0.8667535\tbest: 0.8669705 (131)\ttotal: 9.21s\tremaining: 18.5s\n",
      "133:\tlearn: 0.8726165\ttest: 0.8726165\ttest1: 0.8668620\tbest: 0.8669705 (131)\ttotal: 9.26s\tremaining: 18.4s\n",
      "134:\tlearn: 0.8726165\ttest: 0.8726165\ttest1: 0.8665365\tbest: 0.8669705 (131)\ttotal: 9.3s\tremaining: 18.3s\n",
      "135:\tlearn: 0.8727560\ttest: 0.8727560\ttest1: 0.8666450\tbest: 0.8669705 (131)\ttotal: 9.35s\tremaining: 18.2s\n",
      "136:\tlearn: 0.8727095\ttest: 0.8727095\ttest1: 0.8665365\tbest: 0.8669705 (131)\ttotal: 9.39s\tremaining: 18s\n",
      "137:\tlearn: 0.8727095\ttest: 0.8727095\ttest1: 0.8666450\tbest: 0.8669705 (131)\ttotal: 9.42s\tremaining: 17.9s\n",
      "138:\tlearn: 0.8729421\ttest: 0.8729421\ttest1: 0.8666450\tbest: 0.8669705 (131)\ttotal: 9.46s\tremaining: 17.8s\n",
      "139:\tlearn: 0.8728955\ttest: 0.8728955\ttest1: 0.8668620\tbest: 0.8669705 (131)\ttotal: 9.5s\tremaining: 17.6s\n",
      "140:\tlearn: 0.8729886\ttest: 0.8729886\ttest1: 0.8667535\tbest: 0.8669705 (131)\ttotal: 9.55s\tremaining: 17.6s\n",
      "141:\tlearn: 0.8730351\ttest: 0.8730351\ttest1: 0.8666450\tbest: 0.8669705 (131)\ttotal: 9.6s\tremaining: 17.4s\n",
      "142:\tlearn: 0.8731746\ttest: 0.8731746\ttest1: 0.8669705\tbest: 0.8669705 (131)\ttotal: 9.64s\tremaining: 17.3s\n",
      "143:\tlearn: 0.8731746\ttest: 0.8731746\ttest1: 0.8669705\tbest: 0.8669705 (131)\ttotal: 9.67s\tremaining: 17.2s\n",
      "144:\tlearn: 0.8732211\ttest: 0.8732211\ttest1: 0.8669705\tbest: 0.8669705 (131)\ttotal: 9.71s\tremaining: 17.1s\n",
      "145:\tlearn: 0.8732211\ttest: 0.8732211\ttest1: 0.8670790\tbest: 0.8670790 (145)\ttotal: 9.76s\tremaining: 17s\n",
      "146:\tlearn: 0.8732211\ttest: 0.8732211\ttest1: 0.8670790\tbest: 0.8670790 (145)\ttotal: 9.81s\tremaining: 16.9s\n",
      "147:\tlearn: 0.8733141\ttest: 0.8733141\ttest1: 0.8668620\tbest: 0.8670790 (145)\ttotal: 9.85s\tremaining: 16.8s\n",
      "148:\tlearn: 0.8735001\ttest: 0.8735001\ttest1: 0.8669705\tbest: 0.8670790 (145)\ttotal: 9.89s\tremaining: 16.7s\n",
      "149:\tlearn: 0.8735001\ttest: 0.8735001\ttest1: 0.8669705\tbest: 0.8670790 (145)\ttotal: 9.93s\tremaining: 16.5s\n",
      "150:\tlearn: 0.8734536\ttest: 0.8734536\ttest1: 0.8668620\tbest: 0.8670790 (145)\ttotal: 9.98s\tremaining: 16.5s\n",
      "151:\tlearn: 0.8734536\ttest: 0.8734536\ttest1: 0.8668620\tbest: 0.8670790 (145)\ttotal: 10.1s\tremaining: 16.5s\n",
      "152:\tlearn: 0.8734071\ttest: 0.8734071\ttest1: 0.8668620\tbest: 0.8670790 (145)\ttotal: 10.2s\tremaining: 16.5s\n",
      "153:\tlearn: 0.8734071\ttest: 0.8734071\ttest1: 0.8668620\tbest: 0.8670790 (145)\ttotal: 10.3s\tremaining: 16.4s\n",
      "154:\tlearn: 0.8733606\ttest: 0.8733606\ttest1: 0.8669705\tbest: 0.8670790 (145)\ttotal: 10.3s\tremaining: 16.4s\n",
      "155:\tlearn: 0.8734071\ttest: 0.8734071\ttest1: 0.8670790\tbest: 0.8670790 (145)\ttotal: 10.4s\tremaining: 16.2s\n",
      "156:\tlearn: 0.8735466\ttest: 0.8735466\ttest1: 0.8671875\tbest: 0.8671875 (156)\ttotal: 10.5s\tremaining: 16.3s\n",
      "157:\tlearn: 0.8735001\ttest: 0.8735001\ttest1: 0.8672960\tbest: 0.8672960 (157)\ttotal: 10.7s\tremaining: 16.3s\n"
     ]
    },
    {
     "name": "stdout",
     "output_type": "stream",
     "text": [
      "158:\tlearn: 0.8735932\ttest: 0.8735932\ttest1: 0.8672960\tbest: 0.8672960 (157)\ttotal: 10.7s\tremaining: 16.3s\n",
      "159:\tlearn: 0.8735932\ttest: 0.8735932\ttest1: 0.8679470\tbest: 0.8679470 (159)\ttotal: 10.8s\tremaining: 16.2s\n",
      "160:\tlearn: 0.8735001\ttest: 0.8735001\ttest1: 0.8675130\tbest: 0.8679470 (159)\ttotal: 10.8s\tremaining: 16.1s\n",
      "161:\tlearn: 0.8734536\ttest: 0.8734536\ttest1: 0.8672960\tbest: 0.8679470 (159)\ttotal: 10.9s\tremaining: 16s\n",
      "162:\tlearn: 0.8735001\ttest: 0.8735001\ttest1: 0.8674045\tbest: 0.8679470 (159)\ttotal: 10.9s\tremaining: 15.9s\n",
      "163:\tlearn: 0.8735466\ttest: 0.8735466\ttest1: 0.8674045\tbest: 0.8679470 (159)\ttotal: 11s\tremaining: 15.8s\n",
      "164:\tlearn: 0.8735466\ttest: 0.8735466\ttest1: 0.8671875\tbest: 0.8679470 (159)\ttotal: 11s\tremaining: 15.7s\n",
      "165:\tlearn: 0.8734071\ttest: 0.8734071\ttest1: 0.8675130\tbest: 0.8679470 (159)\ttotal: 11.1s\tremaining: 15.6s\n",
      "166:\tlearn: 0.8734536\ttest: 0.8734536\ttest1: 0.8678385\tbest: 0.8679470 (159)\ttotal: 11.1s\tremaining: 15.5s\n",
      "167:\tlearn: 0.8735001\ttest: 0.8735001\ttest1: 0.8680556\tbest: 0.8680556 (167)\ttotal: 11.2s\tremaining: 15.4s\n",
      "168:\tlearn: 0.8738257\ttest: 0.8738257\ttest1: 0.8677300\tbest: 0.8680556 (167)\ttotal: 11.2s\tremaining: 15.3s\n",
      "169:\tlearn: 0.8739652\ttest: 0.8739652\ttest1: 0.8675130\tbest: 0.8680556 (167)\ttotal: 11.3s\tremaining: 15.2s\n",
      "170:\tlearn: 0.8739652\ttest: 0.8739652\ttest1: 0.8672960\tbest: 0.8680556 (167)\ttotal: 11.3s\tremaining: 15.1s\n",
      "171:\tlearn: 0.8740117\ttest: 0.8740117\ttest1: 0.8676215\tbest: 0.8680556 (167)\ttotal: 11.3s\tremaining: 15s\n",
      "172:\tlearn: 0.8739652\ttest: 0.8739652\ttest1: 0.8675130\tbest: 0.8680556 (167)\ttotal: 11.4s\tremaining: 15s\n",
      "173:\tlearn: 0.8736397\ttest: 0.8736397\ttest1: 0.8676215\tbest: 0.8680556 (167)\ttotal: 11.5s\tremaining: 14.9s\n",
      "174:\tlearn: 0.8736397\ttest: 0.8736397\ttest1: 0.8676215\tbest: 0.8680556 (167)\ttotal: 11.6s\tremaining: 14.9s\n",
      "175:\tlearn: 0.8737792\ttest: 0.8737792\ttest1: 0.8676215\tbest: 0.8680556 (167)\ttotal: 11.6s\tremaining: 14.8s\n",
      "176:\tlearn: 0.8737792\ttest: 0.8737792\ttest1: 0.8676215\tbest: 0.8680556 (167)\ttotal: 11.7s\tremaining: 14.7s\n",
      "177:\tlearn: 0.8737792\ttest: 0.8737792\ttest1: 0.8676215\tbest: 0.8680556 (167)\ttotal: 11.7s\tremaining: 14.6s\n",
      "178:\tlearn: 0.8737792\ttest: 0.8737792\ttest1: 0.8676215\tbest: 0.8680556 (167)\ttotal: 11.8s\tremaining: 14.5s\n",
      "179:\tlearn: 0.8741977\ttest: 0.8741977\ttest1: 0.8681641\tbest: 0.8681641 (179)\ttotal: 11.8s\tremaining: 14.5s\n",
      "180:\tlearn: 0.8742908\ttest: 0.8742908\ttest1: 0.8683811\tbest: 0.8683811 (180)\ttotal: 11.9s\tremaining: 14.4s\n",
      "181:\tlearn: 0.8741977\ttest: 0.8741977\ttest1: 0.8683811\tbest: 0.8683811 (180)\ttotal: 11.9s\tremaining: 14.3s\n",
      "182:\tlearn: 0.8742908\ttest: 0.8742908\ttest1: 0.8683811\tbest: 0.8683811 (180)\ttotal: 12s\tremaining: 14.2s\n",
      "183:\tlearn: 0.8741047\ttest: 0.8741047\ttest1: 0.8683811\tbest: 0.8683811 (180)\ttotal: 12s\tremaining: 14.1s\n",
      "184:\tlearn: 0.8740582\ttest: 0.8740582\ttest1: 0.8681641\tbest: 0.8683811 (180)\ttotal: 12.1s\tremaining: 14s\n",
      "185:\tlearn: 0.8738722\ttest: 0.8738722\ttest1: 0.8680556\tbest: 0.8683811 (180)\ttotal: 12.1s\tremaining: 14s\n",
      "186:\tlearn: 0.8739187\ttest: 0.8739187\ttest1: 0.8680556\tbest: 0.8683811 (180)\ttotal: 12.2s\tremaining: 13.9s\n",
      "187:\tlearn: 0.8738722\ttest: 0.8738722\ttest1: 0.8680556\tbest: 0.8683811 (180)\ttotal: 12.2s\tremaining: 13.8s\n",
      "188:\tlearn: 0.8739187\ttest: 0.8739187\ttest1: 0.8680556\tbest: 0.8683811 (180)\ttotal: 12.3s\tremaining: 13.7s\n",
      "189:\tlearn: 0.8739187\ttest: 0.8739187\ttest1: 0.8680556\tbest: 0.8683811 (180)\ttotal: 12.3s\tremaining: 13.6s\n",
      "190:\tlearn: 0.8741047\ttest: 0.8741047\ttest1: 0.8687066\tbest: 0.8687066 (190)\ttotal: 12.4s\tremaining: 13.5s\n",
      "191:\tlearn: 0.8741512\ttest: 0.8741512\ttest1: 0.8687066\tbest: 0.8687066 (190)\ttotal: 12.4s\tremaining: 13.4s\n",
      "192:\tlearn: 0.8741512\ttest: 0.8741512\ttest1: 0.8687066\tbest: 0.8687066 (190)\ttotal: 12.4s\tremaining: 13.3s\n",
      "193:\tlearn: 0.8741047\ttest: 0.8741047\ttest1: 0.8684896\tbest: 0.8687066 (190)\ttotal: 12.5s\tremaining: 13.2s\n",
      "194:\tlearn: 0.8743373\ttest: 0.8743373\ttest1: 0.8682726\tbest: 0.8687066 (190)\ttotal: 12.5s\tremaining: 13.2s\n",
      "195:\tlearn: 0.8743373\ttest: 0.8743373\ttest1: 0.8682726\tbest: 0.8687066 (190)\ttotal: 12.6s\tremaining: 13.1s\n",
      "196:\tlearn: 0.8743373\ttest: 0.8743373\ttest1: 0.8682726\tbest: 0.8687066 (190)\ttotal: 12.7s\tremaining: 13.1s\n",
      "197:\tlearn: 0.8743373\ttest: 0.8743373\ttest1: 0.8682726\tbest: 0.8687066 (190)\ttotal: 12.7s\tremaining: 13s\n",
      "198:\tlearn: 0.8743373\ttest: 0.8743373\ttest1: 0.8688151\tbest: 0.8688151 (198)\ttotal: 12.8s\tremaining: 12.9s\n",
      "199:\tlearn: 0.8743373\ttest: 0.8743373\ttest1: 0.8690321\tbest: 0.8690321 (199)\ttotal: 12.9s\tremaining: 12.9s\n",
      "200:\tlearn: 0.8743373\ttest: 0.8743373\ttest1: 0.8690321\tbest: 0.8690321 (199)\ttotal: 12.9s\tremaining: 12.8s\n",
      "201:\tlearn: 0.8743838\ttest: 0.8743838\ttest1: 0.8691406\tbest: 0.8691406 (201)\ttotal: 13s\tremaining: 12.7s\n",
      "202:\tlearn: 0.8743838\ttest: 0.8743838\ttest1: 0.8690321\tbest: 0.8691406 (201)\ttotal: 13s\tremaining: 12.6s\n",
      "203:\tlearn: 0.8743838\ttest: 0.8743838\ttest1: 0.8688151\tbest: 0.8691406 (201)\ttotal: 13.1s\tremaining: 12.6s\n",
      "204:\tlearn: 0.8743373\ttest: 0.8743373\ttest1: 0.8688151\tbest: 0.8691406 (201)\ttotal: 13.1s\tremaining: 12.5s\n",
      "205:\tlearn: 0.8742443\ttest: 0.8742443\ttest1: 0.8690321\tbest: 0.8691406 (201)\ttotal: 13.2s\tremaining: 12.4s\n",
      "206:\tlearn: 0.8742443\ttest: 0.8742443\ttest1: 0.8691406\tbest: 0.8691406 (201)\ttotal: 13.2s\tremaining: 12.3s\n",
      "207:\tlearn: 0.8742443\ttest: 0.8742443\ttest1: 0.8690321\tbest: 0.8691406 (201)\ttotal: 13.3s\tremaining: 12.3s\n",
      "208:\tlearn: 0.8743373\ttest: 0.8743373\ttest1: 0.8689236\tbest: 0.8691406 (201)\ttotal: 13.4s\tremaining: 12.2s\n",
      "209:\tlearn: 0.8743373\ttest: 0.8743373\ttest1: 0.8689236\tbest: 0.8691406 (201)\ttotal: 13.4s\tremaining: 12.2s\n",
      "210:\tlearn: 0.8743373\ttest: 0.8743373\ttest1: 0.8689236\tbest: 0.8691406 (201)\ttotal: 13.5s\tremaining: 12.1s\n",
      "211:\tlearn: 0.8744768\ttest: 0.8744768\ttest1: 0.8688151\tbest: 0.8691406 (201)\ttotal: 13.5s\tremaining: 12s\n",
      "212:\tlearn: 0.8744768\ttest: 0.8744768\ttest1: 0.8689236\tbest: 0.8691406 (201)\ttotal: 13.6s\tremaining: 11.9s\n",
      "213:\tlearn: 0.8745698\ttest: 0.8745698\ttest1: 0.8685981\tbest: 0.8691406 (201)\ttotal: 13.6s\tremaining: 11.8s\n",
      "214:\tlearn: 0.8745698\ttest: 0.8745698\ttest1: 0.8688151\tbest: 0.8691406 (201)\ttotal: 13.7s\tremaining: 11.8s\n",
      "215:\tlearn: 0.8746163\ttest: 0.8746163\ttest1: 0.8690321\tbest: 0.8691406 (201)\ttotal: 13.8s\tremaining: 11.8s\n",
      "216:\tlearn: 0.8745698\ttest: 0.8745698\ttest1: 0.8690321\tbest: 0.8691406 (201)\ttotal: 14s\tremaining: 11.8s\n",
      "217:\tlearn: 0.8745233\ttest: 0.8745233\ttest1: 0.8690321\tbest: 0.8691406 (201)\ttotal: 14s\tremaining: 11.7s\n",
      "218:\tlearn: 0.8745698\ttest: 0.8745698\ttest1: 0.8690321\tbest: 0.8691406 (201)\ttotal: 14.1s\tremaining: 11.7s\n",
      "219:\tlearn: 0.8745698\ttest: 0.8745698\ttest1: 0.8691406\tbest: 0.8691406 (201)\ttotal: 14.2s\tremaining: 11.6s\n",
      "220:\tlearn: 0.8745698\ttest: 0.8745698\ttest1: 0.8691406\tbest: 0.8691406 (201)\ttotal: 14.2s\tremaining: 11.5s\n",
      "221:\tlearn: 0.8746628\ttest: 0.8746628\ttest1: 0.8691406\tbest: 0.8691406 (201)\ttotal: 14.3s\tremaining: 11.4s\n",
      "222:\tlearn: 0.8744303\ttest: 0.8744303\ttest1: 0.8692491\tbest: 0.8692491 (222)\ttotal: 14.3s\tremaining: 11.4s\n",
      "223:\tlearn: 0.8744303\ttest: 0.8744303\ttest1: 0.8694661\tbest: 0.8694661 (223)\ttotal: 14.4s\tremaining: 11.3s\n",
      "224:\tlearn: 0.8743838\ttest: 0.8743838\ttest1: 0.8693576\tbest: 0.8694661 (223)\ttotal: 14.4s\tremaining: 11.2s\n",
      "225:\tlearn: 0.8744303\ttest: 0.8744303\ttest1: 0.8694661\tbest: 0.8694661 (223)\ttotal: 14.5s\tremaining: 11.1s\n",
      "226:\tlearn: 0.8745698\ttest: 0.8745698\ttest1: 0.8692491\tbest: 0.8694661 (223)\ttotal: 14.5s\tremaining: 11.1s\n",
      "227:\tlearn: 0.8744768\ttest: 0.8744768\ttest1: 0.8692491\tbest: 0.8694661 (223)\ttotal: 14.5s\tremaining: 11s\n",
      "228:\tlearn: 0.8746628\ttest: 0.8746628\ttest1: 0.8691406\tbest: 0.8694661 (223)\ttotal: 14.6s\tremaining: 10.9s\n",
      "229:\tlearn: 0.8745698\ttest: 0.8745698\ttest1: 0.8691406\tbest: 0.8694661 (223)\ttotal: 14.6s\tremaining: 10.8s\n",
      "230:\tlearn: 0.8746163\ttest: 0.8746163\ttest1: 0.8691406\tbest: 0.8694661 (223)\ttotal: 14.7s\tremaining: 10.7s\n",
      "231:\tlearn: 0.8746628\ttest: 0.8746628\ttest1: 0.8691406\tbest: 0.8694661 (223)\ttotal: 14.7s\tremaining: 10.7s\n",
      "232:\tlearn: 0.8748489\ttest: 0.8748489\ttest1: 0.8695747\tbest: 0.8695747 (232)\ttotal: 14.8s\tremaining: 10.6s\n",
      "233:\tlearn: 0.8749884\ttest: 0.8749884\ttest1: 0.8695747\tbest: 0.8695747 (232)\ttotal: 14.8s\tremaining: 10.5s\n",
      "234:\tlearn: 0.8750349\ttest: 0.8750349\ttest1: 0.8694661\tbest: 0.8695747 (232)\ttotal: 14.9s\tremaining: 10.5s\n",
      "235:\tlearn: 0.8750349\ttest: 0.8750349\ttest1: 0.8694661\tbest: 0.8695747 (232)\ttotal: 15s\tremaining: 10.4s\n",
      "236:\tlearn: 0.8749884\ttest: 0.8749884\ttest1: 0.8694661\tbest: 0.8695747 (232)\ttotal: 15s\tremaining: 10.3s\n"
     ]
    },
    {
     "name": "stdout",
     "output_type": "stream",
     "text": [
      "237:\tlearn: 0.8749884\ttest: 0.8749884\ttest1: 0.8694661\tbest: 0.8695747 (232)\ttotal: 15.1s\tremaining: 10.3s\n",
      "238:\tlearn: 0.8749884\ttest: 0.8749884\ttest1: 0.8693576\tbest: 0.8695747 (232)\ttotal: 15.2s\tremaining: 10.2s\n",
      "239:\tlearn: 0.8748489\ttest: 0.8748489\ttest1: 0.8696832\tbest: 0.8696832 (239)\ttotal: 15.2s\tremaining: 10.2s\n",
      "240:\tlearn: 0.8749419\ttest: 0.8749419\ttest1: 0.8700087\tbest: 0.8700087 (240)\ttotal: 15.3s\tremaining: 10.1s\n",
      "241:\tlearn: 0.8749419\ttest: 0.8749419\ttest1: 0.8697917\tbest: 0.8700087 (240)\ttotal: 15.4s\tremaining: 10s\n",
      "242:\tlearn: 0.8748489\ttest: 0.8748489\ttest1: 0.8696832\tbest: 0.8700087 (240)\ttotal: 15.5s\tremaining: 9.99s\n",
      "243:\tlearn: 0.8748023\ttest: 0.8748023\ttest1: 0.8696832\tbest: 0.8700087 (240)\ttotal: 15.5s\tremaining: 9.91s\n",
      "244:\tlearn: 0.8747558\ttest: 0.8747558\ttest1: 0.8696832\tbest: 0.8700087 (240)\ttotal: 15.5s\tremaining: 9.84s\n",
      "245:\tlearn: 0.8748489\ttest: 0.8748489\ttest1: 0.8696832\tbest: 0.8700087 (240)\ttotal: 15.6s\tremaining: 9.76s\n",
      "246:\tlearn: 0.8748023\ttest: 0.8748023\ttest1: 0.8697917\tbest: 0.8700087 (240)\ttotal: 15.6s\tremaining: 9.69s\n",
      "247:\tlearn: 0.8748023\ttest: 0.8748023\ttest1: 0.8697917\tbest: 0.8700087 (240)\ttotal: 15.7s\tremaining: 9.62s\n",
      "248:\tlearn: 0.8748489\ttest: 0.8748489\ttest1: 0.8700087\tbest: 0.8700087 (240)\ttotal: 15.7s\tremaining: 9.54s\n",
      "249:\tlearn: 0.8748023\ttest: 0.8748023\ttest1: 0.8700087\tbest: 0.8700087 (240)\ttotal: 15.8s\tremaining: 9.47s\n",
      "250:\tlearn: 0.8748023\ttest: 0.8748023\ttest1: 0.8700087\tbest: 0.8700087 (240)\ttotal: 15.8s\tremaining: 9.4s\n",
      "251:\tlearn: 0.8748489\ttest: 0.8748489\ttest1: 0.8699002\tbest: 0.8700087 (240)\ttotal: 15.9s\tremaining: 9.33s\n",
      "252:\tlearn: 0.8748023\ttest: 0.8748023\ttest1: 0.8699002\tbest: 0.8700087 (240)\ttotal: 15.9s\tremaining: 9.25s\n",
      "253:\tlearn: 0.8749419\ttest: 0.8749419\ttest1: 0.8700087\tbest: 0.8700087 (240)\ttotal: 16s\tremaining: 9.17s\n",
      "254:\tlearn: 0.8751744\ttest: 0.8751744\ttest1: 0.8702257\tbest: 0.8702257 (254)\ttotal: 16s\tremaining: 9.1s\n",
      "255:\tlearn: 0.8751279\ttest: 0.8751279\ttest1: 0.8705512\tbest: 0.8705512 (255)\ttotal: 16s\tremaining: 9.03s\n",
      "256:\tlearn: 0.8752674\ttest: 0.8752674\ttest1: 0.8704427\tbest: 0.8705512 (255)\ttotal: 16.1s\tremaining: 8.96s\n",
      "257:\tlearn: 0.8753604\ttest: 0.8753604\ttest1: 0.8704427\tbest: 0.8705512 (255)\ttotal: 16.1s\tremaining: 8.88s\n",
      "258:\tlearn: 0.8752674\ttest: 0.8752674\ttest1: 0.8704427\tbest: 0.8705512 (255)\ttotal: 16.2s\tremaining: 8.81s\n",
      "259:\tlearn: 0.8752209\ttest: 0.8752209\ttest1: 0.8704427\tbest: 0.8705512 (255)\ttotal: 16.2s\tremaining: 8.74s\n",
      "260:\tlearn: 0.8752209\ttest: 0.8752209\ttest1: 0.8706597\tbest: 0.8706597 (260)\ttotal: 16.3s\tremaining: 8.67s\n",
      "261:\tlearn: 0.8751279\ttest: 0.8751279\ttest1: 0.8708767\tbest: 0.8708767 (261)\ttotal: 16.3s\tremaining: 8.6s\n",
      "262:\tlearn: 0.8751279\ttest: 0.8751279\ttest1: 0.8708767\tbest: 0.8708767 (261)\ttotal: 16.4s\tremaining: 8.53s\n",
      "263:\tlearn: 0.8750814\ttest: 0.8750814\ttest1: 0.8707682\tbest: 0.8708767 (261)\ttotal: 16.4s\tremaining: 8.46s\n",
      "264:\tlearn: 0.8750814\ttest: 0.8750814\ttest1: 0.8707682\tbest: 0.8708767 (261)\ttotal: 16.5s\tremaining: 8.38s\n",
      "265:\tlearn: 0.8750814\ttest: 0.8750814\ttest1: 0.8710938\tbest: 0.8710938 (265)\ttotal: 16.5s\tremaining: 8.32s\n",
      "266:\tlearn: 0.8751279\ttest: 0.8751279\ttest1: 0.8709852\tbest: 0.8710938 (265)\ttotal: 16.6s\tremaining: 8.25s\n",
      "267:\tlearn: 0.8748023\ttest: 0.8748023\ttest1: 0.8713108\tbest: 0.8713108 (267)\ttotal: 16.6s\tremaining: 8.18s\n",
      "268:\tlearn: 0.8748023\ttest: 0.8748023\ttest1: 0.8713108\tbest: 0.8713108 (267)\ttotal: 16.6s\tremaining: 8.1s\n",
      "269:\tlearn: 0.8749884\ttest: 0.8749884\ttest1: 0.8713108\tbest: 0.8713108 (267)\ttotal: 16.7s\tremaining: 8.03s\n",
      "270:\tlearn: 0.8748954\ttest: 0.8748954\ttest1: 0.8709852\tbest: 0.8713108 (267)\ttotal: 16.7s\tremaining: 7.96s\n",
      "271:\tlearn: 0.8748489\ttest: 0.8748489\ttest1: 0.8709852\tbest: 0.8713108 (267)\ttotal: 16.8s\tremaining: 7.89s\n",
      "272:\tlearn: 0.8749884\ttest: 0.8749884\ttest1: 0.8709852\tbest: 0.8713108 (267)\ttotal: 16.8s\tremaining: 7.82s\n",
      "273:\tlearn: 0.8748489\ttest: 0.8748489\ttest1: 0.8709852\tbest: 0.8713108 (267)\ttotal: 16.9s\tremaining: 7.75s\n",
      "274:\tlearn: 0.8750349\ttest: 0.8750349\ttest1: 0.8709852\tbest: 0.8713108 (267)\ttotal: 16.9s\tremaining: 7.69s\n",
      "275:\tlearn: 0.8750349\ttest: 0.8750349\ttest1: 0.8709852\tbest: 0.8713108 (267)\ttotal: 16.9s\tremaining: 7.61s\n",
      "276:\tlearn: 0.8753139\ttest: 0.8753139\ttest1: 0.8708767\tbest: 0.8713108 (267)\ttotal: 17s\tremaining: 7.54s\n",
      "277:\tlearn: 0.8753139\ttest: 0.8753139\ttest1: 0.8708767\tbest: 0.8713108 (267)\ttotal: 17s\tremaining: 7.47s\n",
      "278:\tlearn: 0.8753139\ttest: 0.8753139\ttest1: 0.8708767\tbest: 0.8713108 (267)\ttotal: 17.1s\tremaining: 7.41s\n",
      "279:\tlearn: 0.8754534\ttest: 0.8754534\ttest1: 0.8707682\tbest: 0.8713108 (267)\ttotal: 17.2s\tremaining: 7.38s\n",
      "280:\tlearn: 0.8755000\ttest: 0.8755000\ttest1: 0.8707682\tbest: 0.8713108 (267)\ttotal: 17.3s\tremaining: 7.34s\n",
      "281:\tlearn: 0.8754069\ttest: 0.8754069\ttest1: 0.8707682\tbest: 0.8713108 (267)\ttotal: 17.5s\tremaining: 7.32s\n",
      "282:\tlearn: 0.8754534\ttest: 0.8754534\ttest1: 0.8708767\tbest: 0.8713108 (267)\ttotal: 17.5s\tremaining: 7.25s\n",
      "283:\tlearn: 0.8754534\ttest: 0.8754534\ttest1: 0.8708767\tbest: 0.8713108 (267)\ttotal: 17.6s\tremaining: 7.19s\n",
      "284:\tlearn: 0.8755000\ttest: 0.8755000\ttest1: 0.8708767\tbest: 0.8713108 (267)\ttotal: 17.7s\tremaining: 7.12s\n",
      "285:\tlearn: 0.8755000\ttest: 0.8755000\ttest1: 0.8708767\tbest: 0.8713108 (267)\ttotal: 17.7s\tremaining: 7.07s\n",
      "286:\tlearn: 0.8755465\ttest: 0.8755465\ttest1: 0.8707682\tbest: 0.8713108 (267)\ttotal: 17.8s\tremaining: 7s\n",
      "287:\tlearn: 0.8754534\ttest: 0.8754534\ttest1: 0.8708767\tbest: 0.8713108 (267)\ttotal: 17.8s\tremaining: 6.94s\n",
      "288:\tlearn: 0.8754069\ttest: 0.8754069\ttest1: 0.8708767\tbest: 0.8713108 (267)\ttotal: 17.9s\tremaining: 6.87s\n",
      "289:\tlearn: 0.8754069\ttest: 0.8754069\ttest1: 0.8707682\tbest: 0.8713108 (267)\ttotal: 18s\tremaining: 6.81s\n",
      "290:\tlearn: 0.8754069\ttest: 0.8754069\ttest1: 0.8707682\tbest: 0.8713108 (267)\ttotal: 18s\tremaining: 6.74s\n",
      "291:\tlearn: 0.8754069\ttest: 0.8754069\ttest1: 0.8708767\tbest: 0.8713108 (267)\ttotal: 18.1s\tremaining: 6.68s\n",
      "292:\tlearn: 0.8754069\ttest: 0.8754069\ttest1: 0.8709852\tbest: 0.8713108 (267)\ttotal: 18.1s\tremaining: 6.61s\n",
      "293:\tlearn: 0.8754069\ttest: 0.8754069\ttest1: 0.8709852\tbest: 0.8713108 (267)\ttotal: 18.1s\tremaining: 6.53s\n",
      "294:\tlearn: 0.8755000\ttest: 0.8755000\ttest1: 0.8707682\tbest: 0.8713108 (267)\ttotal: 18.2s\tremaining: 6.47s\n",
      "295:\tlearn: 0.8755000\ttest: 0.8755000\ttest1: 0.8707682\tbest: 0.8713108 (267)\ttotal: 18.2s\tremaining: 6.4s\n",
      "296:\tlearn: 0.8755000\ttest: 0.8755000\ttest1: 0.8707682\tbest: 0.8713108 (267)\ttotal: 18.3s\tremaining: 6.33s\n",
      "297:\tlearn: 0.8755000\ttest: 0.8755000\ttest1: 0.8707682\tbest: 0.8713108 (267)\ttotal: 18.3s\tremaining: 6.26s\n",
      "Stopped by overfitting detector  (30 iterations wait)\n",
      "\n",
      "bestTest = 0.8713107639\n",
      "bestIteration = 267\n",
      "\n",
      "Shrink model to first 268 iterations.\n"
     ]
    },
    {
     "data": {
      "text/plain": [
       "<catboost.core.CatBoostClassifier at 0x1a2441a4a8>"
      ]
     },
     "execution_count": 115,
     "metadata": {},
     "output_type": "execute_result"
    }
   ],
   "source": [
    "catb.fit(X_train,y_train,eval_set=[(X_train,y_train), (X_test,y_test)],early_stopping_rounds=30)"
   ]
  },
  {
   "cell_type": "code",
   "execution_count": 116,
   "metadata": {},
   "outputs": [
    {
     "name": "stdout",
     "output_type": "stream",
     "text": [
      "<catboost.core.CatBoostClassifier object at 0x1a2441a4a8>\n",
      "confusion matrix of training data\n",
      "[[15253   883]\n",
      " [ 1809  3557]]\n",
      "confusion matrix of test data\n",
      "[[6575  357]\n",
      " [ 829 1455]]\n",
      "classification report of test data\n",
      "              precision    recall  f1-score   support\n",
      "\n",
      "           0       0.89      0.95      0.92      6932\n",
      "           1       0.80      0.64      0.71      2284\n",
      "\n",
      "   micro avg       0.87      0.87      0.87      9216\n",
      "   macro avg       0.85      0.79      0.81      9216\n",
      "weighted avg       0.87      0.87      0.87      9216\n",
      "\n",
      "Accuracy on test data: 87.131076%\n",
      "Accuracy on training data: 87.480234%\n",
      "Area under the ROC curve : 0.792770\n"
     ]
    }
   ],
   "source": [
    "show_classifier_metrics(catb)"
   ]
  },
  {
   "cell_type": "code",
   "execution_count": 117,
   "metadata": {},
   "outputs": [],
   "source": [
    "from imblearn.over_sampling import RandomOverSampler"
   ]
  },
  {
   "cell_type": "code",
   "execution_count": 118,
   "metadata": {},
   "outputs": [
    {
     "data": {
      "text/plain": [
       "0.24955818063435958"
      ]
     },
     "execution_count": 118,
     "metadata": {},
     "output_type": "execute_result"
    }
   ],
   "source": [
    "np.sum(y_train)/y_train.shape[0]"
   ]
  },
  {
   "cell_type": "code",
   "execution_count": 119,
   "metadata": {},
   "outputs": [],
   "source": [
    "ros = RandomOverSampler(random_state=1,sampling_strategy='auto')"
   ]
  },
  {
   "cell_type": "code",
   "execution_count": 120,
   "metadata": {},
   "outputs": [],
   "source": [
    "X_resampled, y_resampled = ros.fit_resample(X_train, y_train)"
   ]
  },
  {
   "cell_type": "code",
   "execution_count": 121,
   "metadata": {},
   "outputs": [],
   "source": [
    "catb_ros = CatBoostClassifier(learning_rate=0.1,iterations=400,verbose=1,random_seed=10,eval_metric='Accuracy')"
   ]
  },
  {
   "cell_type": "code",
   "execution_count": 122,
   "metadata": {},
   "outputs": [
    {
     "name": "stdout",
     "output_type": "stream",
     "text": [
      "0:\tlearn: 0.7974095\ttest: 0.7974095\ttest1: 0.7483724\tbest: 0.7483724 (0)\ttotal: 93.9ms\tremaining: 37.5s\n",
      "1:\tlearn: 0.7946517\ttest: 0.7946517\ttest1: 0.7504340\tbest: 0.7504340 (1)\ttotal: 199ms\tremaining: 39.6s\n",
      "2:\tlearn: 0.8140183\ttest: 0.8140183\ttest1: 0.7870009\tbest: 0.7870009 (2)\ttotal: 307ms\tremaining: 40.6s\n",
      "3:\tlearn: 0.8133986\ttest: 0.8133986\ttest1: 0.7805990\tbest: 0.7870009 (2)\ttotal: 376ms\tremaining: 37.3s\n",
      "4:\tlearn: 0.8112605\ttest: 0.8112605\ttest1: 0.7815755\tbest: 0.7870009 (2)\ttotal: 437ms\tremaining: 34.5s\n",
      "5:\tlearn: 0.8142662\ttest: 0.8142662\ttest1: 0.7796224\tbest: 0.7870009 (2)\ttotal: 498ms\tremaining: 32.7s\n",
      "6:\tlearn: 0.8150099\ttest: 0.8150099\ttest1: 0.7819010\tbest: 0.7870009 (2)\ttotal: 585ms\tremaining: 32.8s\n",
      "7:\tlearn: 0.8152268\ttest: 0.8152268\ttest1: 0.7809245\tbest: 0.7870009 (2)\ttotal: 781ms\tremaining: 38.3s\n",
      "8:\tlearn: 0.8162184\ttest: 0.8162184\ttest1: 0.7816840\tbest: 0.7870009 (2)\ttotal: 965ms\tremaining: 41.9s\n",
      "9:\tlearn: 0.8174888\ttest: 0.8174888\ttest1: 0.7825521\tbest: 0.7870009 (2)\ttotal: 1.13s\tremaining: 44.1s\n",
      "10:\tlearn: 0.8204326\ttest: 0.8204326\ttest1: 0.7881944\tbest: 0.7881944 (10)\ttotal: 1.3s\tremaining: 45.9s\n",
      "11:\tlearn: 0.8211453\ttest: 0.8211453\ttest1: 0.7883030\tbest: 0.7883030 (11)\ttotal: 1.38s\tremaining: 44.7s\n",
      "12:\tlearn: 0.8238721\ttest: 0.8238721\ttest1: 0.7932943\tbest: 0.7932943 (12)\ttotal: 1.44s\tremaining: 42.9s\n",
      "13:\tlearn: 0.8240890\ttest: 0.8240890\ttest1: 0.7954644\tbest: 0.7954644 (13)\ttotal: 1.51s\tremaining: 41.6s\n",
      "14:\tlearn: 0.8250496\ttest: 0.8250496\ttest1: 0.7962240\tbest: 0.7962240 (14)\ttotal: 1.69s\tremaining: 43.3s\n",
      "15:\tlearn: 0.8247087\ttest: 0.8247087\ttest1: 0.7947049\tbest: 0.7962240 (14)\ttotal: 1.86s\tremaining: 44.6s\n",
      "16:\tlearn: 0.8246468\ttest: 0.8246468\ttest1: 0.7942708\tbest: 0.7962240 (14)\ttotal: 1.92s\tremaining: 43.3s\n",
      "17:\tlearn: 0.8257623\ttest: 0.8257623\ttest1: 0.7974175\tbest: 0.7974175 (17)\ttotal: 1.98s\tremaining: 42.1s\n",
      "18:\tlearn: 0.8267848\ttest: 0.8267848\ttest1: 0.7969835\tbest: 0.7974175 (17)\ttotal: 2.05s\tremaining: 41s\n",
      "19:\tlearn: 0.8268778\ttest: 0.8268778\ttest1: 0.7972005\tbest: 0.7974175 (17)\ttotal: 2.13s\tremaining: 40.6s\n",
      "20:\tlearn: 0.8276215\ttest: 0.8276215\ttest1: 0.7967665\tbest: 0.7974175 (17)\ttotal: 2.19s\tremaining: 39.6s\n",
      "21:\tlearn: 0.8284581\ttest: 0.8284581\ttest1: 0.7995877\tbest: 0.7995877 (21)\ttotal: 2.26s\tremaining: 38.8s\n",
      "22:\tlearn: 0.8289849\ttest: 0.8289849\ttest1: 0.8008898\tbest: 0.8008898 (22)\ttotal: 2.32s\tremaining: 38s\n",
      "23:\tlearn: 0.8296666\ttest: 0.8296666\ttest1: 0.8018663\tbest: 0.8018663 (23)\ttotal: 2.4s\tremaining: 37.6s\n",
      "24:\tlearn: 0.8305652\ttest: 0.8305652\ttest1: 0.8030599\tbest: 0.8030599 (24)\ttotal: 2.46s\tremaining: 36.9s\n",
      "25:\tlearn: 0.8305652\ttest: 0.8305652\ttest1: 0.8036024\tbest: 0.8036024 (25)\ttotal: 2.52s\tremaining: 36.3s\n",
      "26:\tlearn: 0.8308751\ttest: 0.8308751\ttest1: 0.8050130\tbest: 0.8050130 (26)\ttotal: 2.58s\tremaining: 35.7s\n",
      "27:\tlearn: 0.8314328\ttest: 0.8314328\ttest1: 0.8057726\tbest: 0.8057726 (27)\ttotal: 2.74s\tremaining: 36.5s\n",
      "28:\tlearn: 0.8332610\ttest: 0.8332610\ttest1: 0.8076172\tbest: 0.8076172 (28)\ttotal: 2.92s\tremaining: 37.4s\n",
      "29:\tlearn: 0.8339427\ttest: 0.8339427\ttest1: 0.8085938\tbest: 0.8085938 (29)\ttotal: 3.08s\tremaining: 37.9s\n",
      "30:\tlearn: 0.8345315\ttest: 0.8345315\ttest1: 0.8092448\tbest: 0.8092448 (30)\ttotal: 3.14s\tremaining: 37.4s\n",
      "31:\tlearn: 0.8344695\ttest: 0.8344695\ttest1: 0.8093533\tbest: 0.8093533 (31)\ttotal: 3.2s\tremaining: 36.8s\n",
      "32:\tlearn: 0.8352442\ttest: 0.8352442\ttest1: 0.8094618\tbest: 0.8094618 (32)\ttotal: 3.26s\tremaining: 36.3s\n",
      "33:\tlearn: 0.8352442\ttest: 0.8352442\ttest1: 0.8100043\tbest: 0.8100043 (33)\ttotal: 3.35s\tremaining: 36.1s\n",
      "34:\tlearn: 0.8363287\ttest: 0.8363287\ttest1: 0.8116319\tbest: 0.8116319 (34)\ttotal: 3.42s\tremaining: 35.7s\n",
      "35:\tlearn: 0.8365146\ttest: 0.8365146\ttest1: 0.8114149\tbest: 0.8116319 (34)\ttotal: 3.48s\tremaining: 35.2s\n",
      "36:\tlearn: 0.8368555\ttest: 0.8368555\ttest1: 0.8127170\tbest: 0.8127170 (36)\ttotal: 3.53s\tremaining: 34.7s\n",
      "37:\tlearn: 0.8367315\ttest: 0.8367315\ttest1: 0.8126085\tbest: 0.8127170 (36)\ttotal: 3.62s\tremaining: 34.5s\n",
      "38:\tlearn: 0.8367935\ttest: 0.8367935\ttest1: 0.8128255\tbest: 0.8128255 (38)\ttotal: 3.68s\tremaining: 34s\n",
      "39:\tlearn: 0.8375992\ttest: 0.8375992\ttest1: 0.8133681\tbest: 0.8133681 (39)\ttotal: 3.73s\tremaining: 33.6s\n",
      "40:\tlearn: 0.8381879\ttest: 0.8381879\ttest1: 0.8138021\tbest: 0.8138021 (40)\ttotal: 3.79s\tremaining: 33.2s\n",
      "41:\tlearn: 0.8382809\ttest: 0.8382809\ttest1: 0.8136936\tbest: 0.8138021 (40)\ttotal: 3.87s\tremaining: 33s\n",
      "42:\tlearn: 0.8387766\ttest: 0.8387766\ttest1: 0.8141276\tbest: 0.8141276 (42)\ttotal: 3.93s\tremaining: 32.7s\n",
      "43:\tlearn: 0.8391795\ttest: 0.8391795\ttest1: 0.8148872\tbest: 0.8148872 (43)\ttotal: 3.99s\tremaining: 32.3s\n",
      "44:\tlearn: 0.8411316\ttest: 0.8411316\ttest1: 0.8170573\tbest: 0.8170573 (44)\ttotal: 4.05s\tremaining: 31.9s\n",
      "45:\tlearn: 0.8412246\ttest: 0.8412246\ttest1: 0.8172743\tbest: 0.8172743 (45)\ttotal: 4.13s\tremaining: 31.8s\n",
      "46:\tlearn: 0.8412556\ttest: 0.8412556\ttest1: 0.8172743\tbest: 0.8172743 (45)\ttotal: 4.2s\tremaining: 31.6s\n",
      "47:\tlearn: 0.8411936\ttest: 0.8411936\ttest1: 0.8170573\tbest: 0.8172743 (45)\ttotal: 4.38s\tremaining: 32.1s\n",
      "48:\tlearn: 0.8412556\ttest: 0.8412556\ttest1: 0.8178168\tbest: 0.8178168 (48)\ttotal: 4.55s\tremaining: 32.6s\n",
      "49:\tlearn: 0.8416274\ttest: 0.8416274\ttest1: 0.8177083\tbest: 0.8178168 (48)\ttotal: 4.74s\tremaining: 33.2s\n",
      "50:\tlearn: 0.8419373\ttest: 0.8419373\ttest1: 0.8182509\tbest: 0.8182509 (50)\ttotal: 4.93s\tremaining: 33.8s\n",
      "51:\tlearn: 0.8421542\ttest: 0.8421542\ttest1: 0.8179253\tbest: 0.8182509 (50)\ttotal: 5.12s\tremaining: 34.3s\n",
      "52:\tlearn: 0.8428359\ttest: 0.8428359\ttest1: 0.8190104\tbest: 0.8190104 (52)\ttotal: 5.3s\tremaining: 34.7s\n",
      "53:\tlearn: 0.8428359\ttest: 0.8428359\ttest1: 0.8184679\tbest: 0.8190104 (52)\ttotal: 5.4s\tremaining: 34.6s\n",
      "54:\tlearn: 0.8428049\ttest: 0.8428049\ttest1: 0.8181424\tbest: 0.8190104 (52)\ttotal: 5.46s\tremaining: 34.3s\n",
      "55:\tlearn: 0.8424950\ttest: 0.8424950\ttest1: 0.8187934\tbest: 0.8190104 (52)\ttotal: 5.52s\tremaining: 33.9s\n",
      "56:\tlearn: 0.8422781\ttest: 0.8422781\ttest1: 0.8192274\tbest: 0.8192274 (56)\ttotal: 5.58s\tremaining: 33.6s\n",
      "57:\tlearn: 0.8423401\ttest: 0.8423401\ttest1: 0.8196615\tbest: 0.8196615 (57)\ttotal: 5.66s\tremaining: 33.4s\n",
      "58:\tlearn: 0.8440444\ttest: 0.8440444\ttest1: 0.8216146\tbest: 0.8216146 (58)\ttotal: 5.77s\tremaining: 33.3s\n",
      "59:\tlearn: 0.8440444\ttest: 0.8440444\ttest1: 0.8213976\tbest: 0.8216146 (58)\ttotal: 5.83s\tremaining: 33s\n",
      "60:\tlearn: 0.8440754\ttest: 0.8440754\ttest1: 0.8213976\tbest: 0.8216146 (58)\ttotal: 5.9s\tremaining: 32.8s\n",
      "61:\tlearn: 0.8441683\ttest: 0.8441683\ttest1: 0.8217231\tbest: 0.8217231 (61)\ttotal: 5.96s\tremaining: 32.5s\n",
      "62:\tlearn: 0.8446641\ttest: 0.8446641\ttest1: 0.8216146\tbest: 0.8217231 (61)\ttotal: 6.02s\tremaining: 32.2s\n",
      "63:\tlearn: 0.8446951\ttest: 0.8446951\ttest1: 0.8217231\tbest: 0.8217231 (61)\ttotal: 6.08s\tremaining: 31.9s\n",
      "64:\tlearn: 0.8447261\ttest: 0.8447261\ttest1: 0.8221571\tbest: 0.8221571 (64)\ttotal: 6.14s\tremaining: 31.7s\n",
      "65:\tlearn: 0.8448190\ttest: 0.8448190\ttest1: 0.8224826\tbest: 0.8224826 (65)\ttotal: 6.21s\tremaining: 31.4s\n",
      "66:\tlearn: 0.8447571\ttest: 0.8447571\ttest1: 0.8225911\tbest: 0.8225911 (66)\ttotal: 6.26s\tremaining: 31.1s\n",
      "67:\tlearn: 0.8450050\ttest: 0.8450050\ttest1: 0.8225911\tbest: 0.8225911 (66)\ttotal: 6.34s\tremaining: 31s\n",
      "68:\tlearn: 0.8455007\ttest: 0.8455007\ttest1: 0.8234592\tbest: 0.8234592 (68)\ttotal: 6.45s\tremaining: 31s\n",
      "69:\tlearn: 0.8454078\ttest: 0.8454078\ttest1: 0.8234592\tbest: 0.8234592 (68)\ttotal: 6.53s\tremaining: 30.8s\n",
      "70:\tlearn: 0.8459655\ttest: 0.8459655\ttest1: 0.8235677\tbest: 0.8235677 (70)\ttotal: 6.59s\tremaining: 30.6s\n",
      "71:\tlearn: 0.8463684\ttest: 0.8463684\ttest1: 0.8242188\tbest: 0.8242188 (71)\ttotal: 6.71s\tremaining: 30.6s\n",
      "72:\tlearn: 0.8467402\ttest: 0.8467402\ttest1: 0.8237847\tbest: 0.8242188 (71)\ttotal: 6.79s\tremaining: 30.4s\n",
      "73:\tlearn: 0.8469261\ttest: 0.8469261\ttest1: 0.8243273\tbest: 0.8243273 (73)\ttotal: 6.85s\tremaining: 30.2s\n",
      "74:\tlearn: 0.8468332\ttest: 0.8468332\ttest1: 0.8242188\tbest: 0.8243273 (73)\ttotal: 6.92s\tremaining: 30s\n",
      "75:\tlearn: 0.8470501\ttest: 0.8470501\ttest1: 0.8244358\tbest: 0.8244358 (75)\ttotal: 7s\tremaining: 29.8s\n",
      "76:\tlearn: 0.8475149\ttest: 0.8475149\ttest1: 0.8246528\tbest: 0.8246528 (76)\ttotal: 7.11s\tremaining: 29.8s\n",
      "77:\tlearn: 0.8471740\ttest: 0.8471740\ttest1: 0.8243273\tbest: 0.8246528 (76)\ttotal: 7.19s\tremaining: 29.7s\n",
      "78:\tlearn: 0.8473599\ttest: 0.8473599\ttest1: 0.8243273\tbest: 0.8246528 (76)\ttotal: 7.25s\tremaining: 29.4s\n",
      "79:\tlearn: 0.8476698\ttest: 0.8476698\ttest1: 0.8241102\tbest: 0.8246528 (76)\ttotal: 7.33s\tremaining: 29.3s\n"
     ]
    },
    {
     "name": "stdout",
     "output_type": "stream",
     "text": [
      "80:\tlearn: 0.8476698\ttest: 0.8476698\ttest1: 0.8242188\tbest: 0.8246528 (76)\ttotal: 7.65s\tremaining: 30.1s\n",
      "81:\tlearn: 0.8479177\ttest: 0.8479177\ttest1: 0.8243273\tbest: 0.8246528 (76)\ttotal: 7.75s\tremaining: 30s\n",
      "82:\tlearn: 0.8481346\ttest: 0.8481346\ttest1: 0.8242188\tbest: 0.8246528 (76)\ttotal: 7.8s\tremaining: 29.8s\n",
      "83:\tlearn: 0.8482895\ttest: 0.8482895\ttest1: 0.8243273\tbest: 0.8246528 (76)\ttotal: 7.86s\tremaining: 29.6s\n",
      "84:\tlearn: 0.8482895\ttest: 0.8482895\ttest1: 0.8244358\tbest: 0.8246528 (76)\ttotal: 7.93s\tremaining: 29.4s\n",
      "85:\tlearn: 0.8483825\ttest: 0.8483825\ttest1: 0.8249783\tbest: 0.8249783 (85)\ttotal: 7.99s\tremaining: 29.2s\n",
      "86:\tlearn: 0.8484135\ttest: 0.8484135\ttest1: 0.8250868\tbest: 0.8250868 (86)\ttotal: 8.05s\tremaining: 29s\n",
      "87:\tlearn: 0.8485064\ttest: 0.8485064\ttest1: 0.8249783\tbest: 0.8250868 (86)\ttotal: 8.12s\tremaining: 28.8s\n",
      "88:\tlearn: 0.8487853\ttest: 0.8487853\ttest1: 0.8248698\tbest: 0.8250868 (86)\ttotal: 8.19s\tremaining: 28.6s\n",
      "89:\tlearn: 0.8488163\ttest: 0.8488163\ttest1: 0.8250868\tbest: 0.8250868 (86)\ttotal: 8.25s\tremaining: 28.4s\n",
      "90:\tlearn: 0.8488473\ttest: 0.8488473\ttest1: 0.8249783\tbest: 0.8250868 (86)\ttotal: 8.31s\tremaining: 28.2s\n",
      "91:\tlearn: 0.8488473\ttest: 0.8488473\ttest1: 0.8253038\tbest: 0.8253038 (91)\ttotal: 8.45s\tremaining: 28.3s\n",
      "92:\tlearn: 0.8489093\ttest: 0.8489093\ttest1: 0.8253038\tbest: 0.8253038 (91)\ttotal: 8.63s\tremaining: 28.5s\n",
      "93:\tlearn: 0.8489403\ttest: 0.8489403\ttest1: 0.8248698\tbest: 0.8253038 (91)\ttotal: 8.76s\tremaining: 28.5s\n",
      "94:\tlearn: 0.8487853\ttest: 0.8487853\ttest1: 0.8256293\tbest: 0.8256293 (94)\ttotal: 8.87s\tremaining: 28.5s\n",
      "95:\tlearn: 0.8490332\ttest: 0.8490332\ttest1: 0.8250868\tbest: 0.8256293 (94)\ttotal: 8.98s\tremaining: 28.4s\n",
      "96:\tlearn: 0.8490332\ttest: 0.8490332\ttest1: 0.8257378\tbest: 0.8257378 (96)\ttotal: 9.1s\tremaining: 28.4s\n",
      "97:\tlearn: 0.8490332\ttest: 0.8490332\ttest1: 0.8257378\tbest: 0.8257378 (96)\ttotal: 9.22s\tremaining: 28.4s\n",
      "98:\tlearn: 0.8496220\ttest: 0.8496220\ttest1: 0.8275825\tbest: 0.8275825 (98)\ttotal: 9.3s\tremaining: 28.3s\n",
      "99:\tlearn: 0.8494980\ttest: 0.8494980\ttest1: 0.8275825\tbest: 0.8275825 (98)\ttotal: 9.37s\tremaining: 28.1s\n",
      "100:\tlearn: 0.8500558\ttest: 0.8500558\ttest1: 0.8270399\tbest: 0.8275825 (98)\ttotal: 9.42s\tremaining: 27.9s\n",
      "101:\tlearn: 0.8502107\ttest: 0.8502107\ttest1: 0.8274740\tbest: 0.8275825 (98)\ttotal: 9.58s\tremaining: 28s\n",
      "102:\tlearn: 0.8502727\ttest: 0.8502727\ttest1: 0.8276910\tbest: 0.8276910 (102)\ttotal: 9.77s\tremaining: 28.2s\n",
      "103:\tlearn: 0.8503347\ttest: 0.8503347\ttest1: 0.8277995\tbest: 0.8277995 (103)\ttotal: 9.85s\tremaining: 28s\n",
      "104:\tlearn: 0.8503656\ttest: 0.8503656\ttest1: 0.8280165\tbest: 0.8280165 (104)\ttotal: 9.9s\tremaining: 27.8s\n",
      "105:\tlearn: 0.8503037\ttest: 0.8503037\ttest1: 0.8283420\tbest: 0.8283420 (105)\ttotal: 9.96s\tremaining: 27.6s\n",
      "106:\tlearn: 0.8503037\ttest: 0.8503037\ttest1: 0.8283420\tbest: 0.8283420 (105)\ttotal: 10s\tremaining: 27.4s\n",
      "107:\tlearn: 0.8502417\ttest: 0.8502417\ttest1: 0.8275825\tbest: 0.8283420 (105)\ttotal: 10.1s\tremaining: 27.2s\n",
      "108:\tlearn: 0.8502417\ttest: 0.8502417\ttest1: 0.8275825\tbest: 0.8283420 (105)\ttotal: 10.1s\tremaining: 27s\n",
      "109:\tlearn: 0.8505825\ttest: 0.8505825\ttest1: 0.8282335\tbest: 0.8283420 (105)\ttotal: 10.2s\tremaining: 26.8s\n",
      "110:\tlearn: 0.8505825\ttest: 0.8505825\ttest1: 0.8288845\tbest: 0.8288845 (110)\ttotal: 10.2s\tremaining: 26.6s\n",
      "111:\tlearn: 0.8503966\ttest: 0.8503966\ttest1: 0.8282335\tbest: 0.8288845 (110)\ttotal: 10.3s\tremaining: 26.5s\n",
      "112:\tlearn: 0.8503966\ttest: 0.8503966\ttest1: 0.8285590\tbest: 0.8288845 (110)\ttotal: 10.4s\tremaining: 26.3s\n",
      "113:\tlearn: 0.8503347\ttest: 0.8503347\ttest1: 0.8288845\tbest: 0.8288845 (110)\ttotal: 10.4s\tremaining: 26.2s\n",
      "114:\tlearn: 0.8503966\ttest: 0.8503966\ttest1: 0.8288845\tbest: 0.8288845 (110)\ttotal: 10.5s\tremaining: 26s\n",
      "115:\tlearn: 0.8508924\ttest: 0.8508924\ttest1: 0.8286675\tbest: 0.8288845 (110)\ttotal: 10.6s\tremaining: 25.9s\n",
      "116:\tlearn: 0.8512333\ttest: 0.8512333\ttest1: 0.8286675\tbest: 0.8288845 (110)\ttotal: 10.6s\tremaining: 25.7s\n",
      "117:\tlearn: 0.8516361\ttest: 0.8516361\ttest1: 0.8289931\tbest: 0.8289931 (117)\ttotal: 10.7s\tremaining: 25.5s\n",
      "118:\tlearn: 0.8518840\ttest: 0.8518840\ttest1: 0.8293186\tbest: 0.8293186 (118)\ttotal: 10.7s\tremaining: 25.4s\n",
      "119:\tlearn: 0.8519769\ttest: 0.8519769\ttest1: 0.8294271\tbest: 0.8294271 (119)\ttotal: 10.8s\tremaining: 25.3s\n",
      "120:\tlearn: 0.8527516\ttest: 0.8527516\ttest1: 0.8296441\tbest: 0.8296441 (120)\ttotal: 10.9s\tremaining: 25.1s\n",
      "121:\tlearn: 0.8526896\ttest: 0.8526896\ttest1: 0.8296441\tbest: 0.8296441 (120)\ttotal: 11s\tremaining: 25s\n",
      "122:\tlearn: 0.8528136\ttest: 0.8528136\ttest1: 0.8296441\tbest: 0.8296441 (120)\ttotal: 11.1s\tremaining: 24.9s\n",
      "123:\tlearn: 0.8528136\ttest: 0.8528136\ttest1: 0.8296441\tbest: 0.8296441 (120)\ttotal: 11.2s\tremaining: 24.8s\n",
      "124:\tlearn: 0.8529065\ttest: 0.8529065\ttest1: 0.8293186\tbest: 0.8296441 (120)\ttotal: 11.2s\tremaining: 24.7s\n",
      "125:\tlearn: 0.8530925\ttest: 0.8530925\ttest1: 0.8296441\tbest: 0.8296441 (120)\ttotal: 11.3s\tremaining: 24.6s\n",
      "126:\tlearn: 0.8528756\ttest: 0.8528756\ttest1: 0.8298611\tbest: 0.8298611 (126)\ttotal: 11.4s\tremaining: 24.5s\n",
      "127:\tlearn: 0.8530925\ttest: 0.8530925\ttest1: 0.8298611\tbest: 0.8298611 (126)\ttotal: 11.5s\tremaining: 24.4s\n",
      "128:\tlearn: 0.8542390\ttest: 0.8542390\ttest1: 0.8301866\tbest: 0.8301866 (128)\ttotal: 11.6s\tremaining: 24.4s\n",
      "129:\tlearn: 0.8543009\ttest: 0.8543009\ttest1: 0.8304036\tbest: 0.8304036 (129)\ttotal: 11.7s\tremaining: 24.2s\n",
      "130:\tlearn: 0.8543939\ttest: 0.8543939\ttest1: 0.8300781\tbest: 0.8304036 (129)\ttotal: 11.7s\tremaining: 24.1s\n",
      "131:\tlearn: 0.8544869\ttest: 0.8544869\ttest1: 0.8305122\tbest: 0.8305122 (131)\ttotal: 11.8s\tremaining: 24s\n",
      "132:\tlearn: 0.8547038\ttest: 0.8547038\ttest1: 0.8306207\tbest: 0.8306207 (132)\ttotal: 11.9s\tremaining: 23.9s\n",
      "133:\tlearn: 0.8544869\ttest: 0.8544869\ttest1: 0.8308377\tbest: 0.8308377 (133)\ttotal: 12.1s\tremaining: 24.1s\n",
      "134:\tlearn: 0.8545798\ttest: 0.8545798\ttest1: 0.8313802\tbest: 0.8313802 (134)\ttotal: 12.2s\tremaining: 23.9s\n",
      "135:\tlearn: 0.8549826\ttest: 0.8549826\ttest1: 0.8317057\tbest: 0.8317057 (135)\ttotal: 12.3s\tremaining: 23.8s\n",
      "136:\tlearn: 0.8551066\ttest: 0.8551066\ttest1: 0.8318142\tbest: 0.8318142 (136)\ttotal: 12.4s\tremaining: 23.7s\n",
      "137:\tlearn: 0.8551996\ttest: 0.8551996\ttest1: 0.8322483\tbest: 0.8322483 (137)\ttotal: 12.4s\tremaining: 23.6s\n",
      "138:\tlearn: 0.8551686\ttest: 0.8551686\ttest1: 0.8321398\tbest: 0.8322483 (137)\ttotal: 12.5s\tremaining: 23.4s\n",
      "139:\tlearn: 0.8549517\ttest: 0.8549517\ttest1: 0.8326823\tbest: 0.8326823 (139)\ttotal: 12.5s\tremaining: 23.3s\n",
      "140:\tlearn: 0.8548277\ttest: 0.8548277\ttest1: 0.8320313\tbest: 0.8326823 (139)\ttotal: 12.6s\tremaining: 23.2s\n",
      "141:\tlearn: 0.8552305\ttest: 0.8552305\ttest1: 0.8324653\tbest: 0.8326823 (139)\ttotal: 12.7s\tremaining: 23s\n",
      "142:\tlearn: 0.8552615\ttest: 0.8552615\ttest1: 0.8322483\tbest: 0.8326823 (139)\ttotal: 12.7s\tremaining: 22.9s\n",
      "143:\tlearn: 0.8555094\ttest: 0.8555094\ttest1: 0.8326823\tbest: 0.8326823 (139)\ttotal: 12.8s\tremaining: 22.8s\n",
      "144:\tlearn: 0.8555404\ttest: 0.8555404\ttest1: 0.8320313\tbest: 0.8326823 (139)\ttotal: 13.1s\tremaining: 23s\n",
      "145:\tlearn: 0.8556024\ttest: 0.8556024\ttest1: 0.8323568\tbest: 0.8326823 (139)\ttotal: 13.2s\tremaining: 23s\n",
      "146:\tlearn: 0.8556644\ttest: 0.8556644\ttest1: 0.8322483\tbest: 0.8326823 (139)\ttotal: 13.3s\tremaining: 22.9s\n",
      "147:\tlearn: 0.8556644\ttest: 0.8556644\ttest1: 0.8324653\tbest: 0.8326823 (139)\ttotal: 13.4s\tremaining: 22.7s\n",
      "148:\tlearn: 0.8555404\ttest: 0.8555404\ttest1: 0.8327908\tbest: 0.8327908 (148)\ttotal: 13.4s\tremaining: 22.6s\n",
      "149:\tlearn: 0.8556953\ttest: 0.8556953\ttest1: 0.8326823\tbest: 0.8327908 (148)\ttotal: 13.5s\tremaining: 22.6s\n",
      "150:\tlearn: 0.8557883\ttest: 0.8557883\ttest1: 0.8330078\tbest: 0.8330078 (150)\ttotal: 13.7s\tremaining: 22.6s\n",
      "151:\tlearn: 0.8562221\ttest: 0.8562221\ttest1: 0.8334418\tbest: 0.8334418 (151)\ttotal: 13.8s\tremaining: 22.6s\n",
      "152:\tlearn: 0.8563151\ttest: 0.8563151\ttest1: 0.8337674\tbest: 0.8337674 (152)\ttotal: 13.9s\tremaining: 22.4s\n",
      "153:\tlearn: 0.8563461\ttest: 0.8563461\ttest1: 0.8334418\tbest: 0.8337674 (152)\ttotal: 13.9s\tremaining: 22.3s\n",
      "154:\tlearn: 0.8565320\ttest: 0.8565320\ttest1: 0.8332248\tbest: 0.8337674 (152)\ttotal: 14s\tremaining: 22.2s\n",
      "155:\tlearn: 0.8565630\ttest: 0.8565630\ttest1: 0.8333333\tbest: 0.8337674 (152)\ttotal: 14.1s\tremaining: 22s\n",
      "156:\tlearn: 0.8566869\ttest: 0.8566869\ttest1: 0.8334418\tbest: 0.8337674 (152)\ttotal: 14.2s\tremaining: 22s\n",
      "157:\tlearn: 0.8567799\ttest: 0.8567799\ttest1: 0.8332248\tbest: 0.8337674 (152)\ttotal: 14.3s\tremaining: 21.9s\n"
     ]
    },
    {
     "name": "stdout",
     "output_type": "stream",
     "text": [
      "158:\tlearn: 0.8567799\ttest: 0.8567799\ttest1: 0.8333333\tbest: 0.8337674 (152)\ttotal: 14.3s\tremaining: 21.7s\n",
      "159:\tlearn: 0.8569038\ttest: 0.8569038\ttest1: 0.8332248\tbest: 0.8337674 (152)\ttotal: 14.4s\tremaining: 21.6s\n",
      "160:\tlearn: 0.8570278\ttest: 0.8570278\ttest1: 0.8328993\tbest: 0.8337674 (152)\ttotal: 14.6s\tremaining: 21.7s\n",
      "161:\tlearn: 0.8570897\ttest: 0.8570897\ttest1: 0.8330078\tbest: 0.8337674 (152)\ttotal: 14.7s\tremaining: 21.6s\n",
      "162:\tlearn: 0.8570588\ttest: 0.8570588\ttest1: 0.8331163\tbest: 0.8337674 (152)\ttotal: 14.9s\tremaining: 21.6s\n",
      "163:\tlearn: 0.8570278\ttest: 0.8570278\ttest1: 0.8331163\tbest: 0.8337674 (152)\ttotal: 15s\tremaining: 21.6s\n",
      "164:\tlearn: 0.8569348\ttest: 0.8569348\ttest1: 0.8332248\tbest: 0.8337674 (152)\ttotal: 15.1s\tremaining: 21.5s\n",
      "165:\tlearn: 0.8568728\ttest: 0.8568728\ttest1: 0.8334418\tbest: 0.8337674 (152)\ttotal: 15.3s\tremaining: 21.5s\n",
      "166:\tlearn: 0.8570588\ttest: 0.8570588\ttest1: 0.8331163\tbest: 0.8337674 (152)\ttotal: 15.4s\tremaining: 21.5s\n",
      "167:\tlearn: 0.8574616\ttest: 0.8574616\ttest1: 0.8330078\tbest: 0.8337674 (152)\ttotal: 15.5s\tremaining: 21.5s\n",
      "168:\tlearn: 0.8573996\ttest: 0.8573996\ttest1: 0.8330078\tbest: 0.8337674 (152)\ttotal: 15.7s\tremaining: 21.4s\n",
      "169:\tlearn: 0.8573376\ttest: 0.8573376\ttest1: 0.8332248\tbest: 0.8337674 (152)\ttotal: 15.8s\tremaining: 21.4s\n",
      "170:\tlearn: 0.8573686\ttest: 0.8573686\ttest1: 0.8331163\tbest: 0.8337674 (152)\ttotal: 15.9s\tremaining: 21.3s\n",
      "171:\tlearn: 0.8573686\ttest: 0.8573686\ttest1: 0.8334418\tbest: 0.8337674 (152)\ttotal: 16s\tremaining: 21.3s\n",
      "172:\tlearn: 0.8571827\ttest: 0.8571827\ttest1: 0.8335503\tbest: 0.8337674 (152)\ttotal: 16.1s\tremaining: 21.1s\n",
      "173:\tlearn: 0.8572137\ttest: 0.8572137\ttest1: 0.8335503\tbest: 0.8337674 (152)\ttotal: 16.2s\tremaining: 21s\n",
      "174:\tlearn: 0.8573996\ttest: 0.8573996\ttest1: 0.8335503\tbest: 0.8337674 (152)\ttotal: 16.2s\tremaining: 20.9s\n",
      "175:\tlearn: 0.8571517\ttest: 0.8571517\ttest1: 0.8335503\tbest: 0.8337674 (152)\ttotal: 16.4s\tremaining: 20.8s\n",
      "176:\tlearn: 0.8572757\ttest: 0.8572757\ttest1: 0.8333333\tbest: 0.8337674 (152)\ttotal: 16.5s\tremaining: 20.8s\n",
      "177:\tlearn: 0.8576785\ttest: 0.8576785\ttest1: 0.8333333\tbest: 0.8337674 (152)\ttotal: 16.6s\tremaining: 20.7s\n",
      "178:\tlearn: 0.8579883\ttest: 0.8579883\ttest1: 0.8335503\tbest: 0.8337674 (152)\ttotal: 16.7s\tremaining: 20.6s\n",
      "179:\tlearn: 0.8578334\ttest: 0.8578334\ttest1: 0.8338759\tbest: 0.8338759 (179)\ttotal: 16.7s\tremaining: 20.5s\n",
      "180:\tlearn: 0.8578334\ttest: 0.8578334\ttest1: 0.8338759\tbest: 0.8338759 (179)\ttotal: 16.8s\tremaining: 20.3s\n",
      "181:\tlearn: 0.8585151\ttest: 0.8585151\ttest1: 0.8339844\tbest: 0.8339844 (181)\ttotal: 16.9s\tremaining: 20.2s\n",
      "182:\tlearn: 0.8585771\ttest: 0.8585771\ttest1: 0.8338759\tbest: 0.8339844 (181)\ttotal: 17.1s\tremaining: 20.2s\n",
      "183:\tlearn: 0.8582672\ttest: 0.8582672\ttest1: 0.8339844\tbest: 0.8339844 (181)\ttotal: 17.2s\tremaining: 20.2s\n",
      "184:\tlearn: 0.8583292\ttest: 0.8583292\ttest1: 0.8346354\tbest: 0.8346354 (184)\ttotal: 17.3s\tremaining: 20.1s\n",
      "185:\tlearn: 0.8586701\ttest: 0.8586701\ttest1: 0.8347439\tbest: 0.8347439 (185)\ttotal: 17.4s\tremaining: 20s\n",
      "186:\tlearn: 0.8585461\ttest: 0.8585461\ttest1: 0.8347439\tbest: 0.8347439 (185)\ttotal: 17.4s\tremaining: 19.9s\n",
      "187:\tlearn: 0.8584841\ttest: 0.8584841\ttest1: 0.8347439\tbest: 0.8347439 (185)\ttotal: 17.5s\tremaining: 19.7s\n",
      "188:\tlearn: 0.8587320\ttest: 0.8587320\ttest1: 0.8347439\tbest: 0.8347439 (185)\ttotal: 17.6s\tremaining: 19.6s\n",
      "189:\tlearn: 0.8587940\ttest: 0.8587940\ttest1: 0.8350694\tbest: 0.8350694 (189)\ttotal: 17.7s\tremaining: 19.6s\n",
      "190:\tlearn: 0.8588250\ttest: 0.8588250\ttest1: 0.8351780\tbest: 0.8351780 (190)\ttotal: 17.9s\tremaining: 19.6s\n",
      "191:\tlearn: 0.8588560\ttest: 0.8588560\ttest1: 0.8352865\tbest: 0.8352865 (191)\ttotal: 18.1s\tremaining: 19.6s\n",
      "192:\tlearn: 0.8588870\ttest: 0.8588870\ttest1: 0.8352865\tbest: 0.8352865 (191)\ttotal: 18.2s\tremaining: 19.6s\n",
      "193:\tlearn: 0.8588870\ttest: 0.8588870\ttest1: 0.8352865\tbest: 0.8352865 (191)\ttotal: 18.3s\tremaining: 19.4s\n",
      "194:\tlearn: 0.8588870\ttest: 0.8588870\ttest1: 0.8353950\tbest: 0.8353950 (194)\ttotal: 18.4s\tremaining: 19.3s\n",
      "195:\tlearn: 0.8589489\ttest: 0.8589489\ttest1: 0.8353950\tbest: 0.8353950 (194)\ttotal: 18.4s\tremaining: 19.2s\n",
      "196:\tlearn: 0.8592278\ttest: 0.8592278\ttest1: 0.8355035\tbest: 0.8355035 (196)\ttotal: 18.5s\tremaining: 19.1s\n",
      "197:\tlearn: 0.8592588\ttest: 0.8592588\ttest1: 0.8353950\tbest: 0.8355035 (196)\ttotal: 18.7s\tremaining: 19.1s\n",
      "198:\tlearn: 0.8594757\ttest: 0.8594757\ttest1: 0.8352865\tbest: 0.8355035 (196)\ttotal: 18.9s\tremaining: 19s\n",
      "199:\tlearn: 0.8593827\ttest: 0.8593827\ttest1: 0.8352865\tbest: 0.8355035 (196)\ttotal: 19s\tremaining: 19s\n",
      "200:\tlearn: 0.8592278\ttest: 0.8592278\ttest1: 0.8351780\tbest: 0.8355035 (196)\ttotal: 19.2s\tremaining: 19s\n",
      "201:\tlearn: 0.8595997\ttest: 0.8595997\ttest1: 0.8351780\tbest: 0.8355035 (196)\ttotal: 19.3s\tremaining: 18.9s\n",
      "202:\tlearn: 0.8596306\ttest: 0.8596306\ttest1: 0.8351780\tbest: 0.8355035 (196)\ttotal: 19.4s\tremaining: 18.8s\n",
      "203:\tlearn: 0.8596306\ttest: 0.8596306\ttest1: 0.8350694\tbest: 0.8355035 (196)\ttotal: 19.5s\tremaining: 18.7s\n",
      "204:\tlearn: 0.8598166\ttest: 0.8598166\ttest1: 0.8352865\tbest: 0.8355035 (196)\ttotal: 19.5s\tremaining: 18.6s\n",
      "205:\tlearn: 0.8597856\ttest: 0.8597856\ttest1: 0.8351780\tbest: 0.8355035 (196)\ttotal: 19.6s\tremaining: 18.5s\n",
      "206:\tlearn: 0.8598785\ttest: 0.8598785\ttest1: 0.8351780\tbest: 0.8355035 (196)\ttotal: 19.7s\tremaining: 18.3s\n",
      "207:\tlearn: 0.8598785\ttest: 0.8598785\ttest1: 0.8351780\tbest: 0.8355035 (196)\ttotal: 19.7s\tremaining: 18.2s\n",
      "208:\tlearn: 0.8598475\ttest: 0.8598475\ttest1: 0.8355035\tbest: 0.8355035 (196)\ttotal: 19.8s\tremaining: 18.1s\n",
      "209:\tlearn: 0.8598475\ttest: 0.8598475\ttest1: 0.8355035\tbest: 0.8355035 (196)\ttotal: 19.9s\tremaining: 18s\n",
      "210:\tlearn: 0.8598475\ttest: 0.8598475\ttest1: 0.8355035\tbest: 0.8355035 (196)\ttotal: 19.9s\tremaining: 17.9s\n",
      "211:\tlearn: 0.8598475\ttest: 0.8598475\ttest1: 0.8355035\tbest: 0.8355035 (196)\ttotal: 20s\tremaining: 17.8s\n",
      "212:\tlearn: 0.8598475\ttest: 0.8598475\ttest1: 0.8355035\tbest: 0.8355035 (196)\ttotal: 20.1s\tremaining: 17.6s\n",
      "213:\tlearn: 0.8600954\ttest: 0.8600954\ttest1: 0.8358290\tbest: 0.8358290 (213)\ttotal: 20.2s\tremaining: 17.6s\n",
      "214:\tlearn: 0.8600954\ttest: 0.8600954\ttest1: 0.8358290\tbest: 0.8358290 (213)\ttotal: 20.3s\tremaining: 17.5s\n",
      "215:\tlearn: 0.8601264\ttest: 0.8601264\ttest1: 0.8358290\tbest: 0.8358290 (213)\ttotal: 20.4s\tremaining: 17.4s\n",
      "216:\tlearn: 0.8602194\ttest: 0.8602194\ttest1: 0.8359375\tbest: 0.8359375 (216)\ttotal: 20.5s\tremaining: 17.3s\n",
      "217:\tlearn: 0.8602194\ttest: 0.8602194\ttest1: 0.8359375\tbest: 0.8359375 (216)\ttotal: 20.6s\tremaining: 17.2s\n",
      "218:\tlearn: 0.8602194\ttest: 0.8602194\ttest1: 0.8360460\tbest: 0.8360460 (218)\ttotal: 20.7s\tremaining: 17.1s\n",
      "219:\tlearn: 0.8602504\ttest: 0.8602504\ttest1: 0.8359375\tbest: 0.8360460 (218)\ttotal: 20.8s\tremaining: 17s\n",
      "220:\tlearn: 0.8601574\ttest: 0.8601574\ttest1: 0.8356120\tbest: 0.8360460 (218)\ttotal: 20.8s\tremaining: 16.9s\n",
      "221:\tlearn: 0.8604983\ttest: 0.8604983\ttest1: 0.8352865\tbest: 0.8360460 (218)\ttotal: 20.9s\tremaining: 16.8s\n",
      "222:\tlearn: 0.8606532\ttest: 0.8606532\ttest1: 0.8351780\tbest: 0.8360460 (218)\ttotal: 21s\tremaining: 16.7s\n",
      "223:\tlearn: 0.8607462\ttest: 0.8607462\ttest1: 0.8352865\tbest: 0.8360460 (218)\ttotal: 21.1s\tremaining: 16.5s\n",
      "224:\tlearn: 0.8606222\ttest: 0.8606222\ttest1: 0.8353950\tbest: 0.8360460 (218)\ttotal: 21.1s\tremaining: 16.4s\n",
      "225:\tlearn: 0.8605912\ttest: 0.8605912\ttest1: 0.8355035\tbest: 0.8360460 (218)\ttotal: 21.2s\tremaining: 16.3s\n",
      "226:\tlearn: 0.8606222\ttest: 0.8606222\ttest1: 0.8353950\tbest: 0.8360460 (218)\ttotal: 21.3s\tremaining: 16.2s\n",
      "227:\tlearn: 0.8606532\ttest: 0.8606532\ttest1: 0.8352865\tbest: 0.8360460 (218)\ttotal: 21.3s\tremaining: 16.1s\n",
      "228:\tlearn: 0.8606222\ttest: 0.8606222\ttest1: 0.8352865\tbest: 0.8360460 (218)\ttotal: 21.4s\tremaining: 16s\n",
      "229:\tlearn: 0.8607152\ttest: 0.8607152\ttest1: 0.8352865\tbest: 0.8360460 (218)\ttotal: 21.5s\tremaining: 15.9s\n",
      "230:\tlearn: 0.8609011\ttest: 0.8609011\ttest1: 0.8356120\tbest: 0.8360460 (218)\ttotal: 21.6s\tremaining: 15.8s\n",
      "231:\tlearn: 0.8608391\ttest: 0.8608391\ttest1: 0.8357205\tbest: 0.8360460 (218)\ttotal: 21.6s\tremaining: 15.7s\n",
      "232:\tlearn: 0.8609321\ttest: 0.8609321\ttest1: 0.8357205\tbest: 0.8360460 (218)\ttotal: 21.7s\tremaining: 15.6s\n",
      "233:\tlearn: 0.8612110\ttest: 0.8612110\ttest1: 0.8359375\tbest: 0.8360460 (218)\ttotal: 21.8s\tremaining: 15.4s\n",
      "234:\tlearn: 0.8612110\ttest: 0.8612110\ttest1: 0.8359375\tbest: 0.8360460 (218)\ttotal: 21.8s\tremaining: 15.3s\n"
     ]
    },
    {
     "name": "stdout",
     "output_type": "stream",
     "text": [
      "235:\tlearn: 0.8608701\ttest: 0.8608701\ttest1: 0.8355035\tbest: 0.8360460 (218)\ttotal: 21.9s\tremaining: 15.2s\n",
      "236:\tlearn: 0.8608701\ttest: 0.8608701\ttest1: 0.8355035\tbest: 0.8360460 (218)\ttotal: 21.9s\tremaining: 15.1s\n",
      "237:\tlearn: 0.8611180\ttest: 0.8611180\ttest1: 0.8358290\tbest: 0.8360460 (218)\ttotal: 22s\tremaining: 15s\n",
      "238:\tlearn: 0.8610560\ttest: 0.8610560\ttest1: 0.8360460\tbest: 0.8360460 (218)\ttotal: 22.1s\tremaining: 14.9s\n",
      "239:\tlearn: 0.8613039\ttest: 0.8613039\ttest1: 0.8358290\tbest: 0.8360460 (218)\ttotal: 22.2s\tremaining: 14.8s\n",
      "240:\tlearn: 0.8619546\ttest: 0.8619546\ttest1: 0.8357205\tbest: 0.8360460 (218)\ttotal: 22.3s\tremaining: 14.7s\n",
      "241:\tlearn: 0.8619546\ttest: 0.8619546\ttest1: 0.8357205\tbest: 0.8360460 (218)\ttotal: 22.3s\tremaining: 14.6s\n",
      "242:\tlearn: 0.8619856\ttest: 0.8619856\ttest1: 0.8357205\tbest: 0.8360460 (218)\ttotal: 22.4s\tremaining: 14.5s\n",
      "243:\tlearn: 0.8620786\ttest: 0.8620786\ttest1: 0.8357205\tbest: 0.8360460 (218)\ttotal: 22.5s\tremaining: 14.4s\n",
      "244:\tlearn: 0.8618927\ttest: 0.8618927\ttest1: 0.8357205\tbest: 0.8360460 (218)\ttotal: 22.5s\tremaining: 14.3s\n",
      "245:\tlearn: 0.8617377\ttest: 0.8617377\ttest1: 0.8357205\tbest: 0.8360460 (218)\ttotal: 22.6s\tremaining: 14.2s\n",
      "246:\tlearn: 0.8618617\ttest: 0.8618617\ttest1: 0.8360460\tbest: 0.8360460 (218)\ttotal: 22.7s\tremaining: 14s\n",
      "247:\tlearn: 0.8618617\ttest: 0.8618617\ttest1: 0.8360460\tbest: 0.8360460 (218)\ttotal: 22.7s\tremaining: 13.9s\n",
      "248:\tlearn: 0.8618927\ttest: 0.8618927\ttest1: 0.8359375\tbest: 0.8360460 (218)\ttotal: 22.8s\tremaining: 13.8s\n",
      "Stopped by overfitting detector  (30 iterations wait)\n",
      "\n",
      "bestTest = 0.8360460069\n",
      "bestIteration = 218\n",
      "\n",
      "Shrink model to first 219 iterations.\n"
     ]
    },
    {
     "data": {
      "text/plain": [
       "<catboost.core.CatBoostClassifier at 0x1a24355c50>"
      ]
     },
     "execution_count": 122,
     "metadata": {},
     "output_type": "execute_result"
    }
   ],
   "source": [
    "catb_ros.fit(X_resampled,y_resampled,eval_set=[(X_resampled,y_resampled), (X_test,y_test)],early_stopping_rounds=30)"
   ]
  },
  {
   "cell_type": "code",
   "execution_count": 123,
   "metadata": {},
   "outputs": [
    {
     "name": "stdout",
     "output_type": "stream",
     "text": [
      "Accuracy on test data: 83.604601%\n",
      "Accuracy on training data: 86.021939%\n",
      "Area under the ROC curve : 0.845509\n"
     ]
    }
   ],
   "source": [
    "print('Accuracy on test data: %f%%' % (metrics.accuracy_score(y_test, catb_ros.predict(X_test))*100))\n",
    "print('Accuracy on training data: %f%%' % (metrics.accuracy_score(y_resampled, catb_ros.predict(X_resampled))*100))\n",
    "print('Area under the ROC curve : %f' % (metrics.roc_auc_score(y_test, catb_ros.predict(X_test))))"
   ]
  },
  {
   "cell_type": "markdown",
   "metadata": {},
   "source": [
    "### SMOTE"
   ]
  },
  {
   "cell_type": "code",
   "execution_count": 124,
   "metadata": {},
   "outputs": [],
   "source": [
    "from imblearn.over_sampling import SMOTE"
   ]
  },
  {
   "cell_type": "code",
   "execution_count": 125,
   "metadata": {},
   "outputs": [],
   "source": [
    "smt = SMOTE(random_state=10,sampling_strategy=0.7)\n",
    "X_train_smt, y_train_smt = smt.fit_sample(X_train, y_train)"
   ]
  },
  {
   "cell_type": "code",
   "execution_count": 126,
   "metadata": {},
   "outputs": [
    {
     "data": {
      "text/plain": [
       "0    16136\n",
       "1     5366\n",
       "Name: income, dtype: int64"
      ]
     },
     "execution_count": 126,
     "metadata": {},
     "output_type": "execute_result"
    }
   ],
   "source": [
    "y_train.value_counts()"
   ]
  },
  {
   "cell_type": "code",
   "execution_count": 127,
   "metadata": {},
   "outputs": [
    {
     "data": {
      "text/plain": [
       "array([16136, 11295])"
      ]
     },
     "execution_count": 127,
     "metadata": {},
     "output_type": "execute_result"
    }
   ],
   "source": [
    "np.bincount(y_train_smt)"
   ]
  },
  {
   "cell_type": "code",
   "execution_count": 128,
   "metadata": {},
   "outputs": [],
   "source": [
    "catb_smote = CatBoostClassifier(learning_rate=0.1,iterations=400,verbose=1,random_seed=10,eval_metric='Accuracy')"
   ]
  },
  {
   "cell_type": "code",
   "execution_count": 129,
   "metadata": {},
   "outputs": [
    {
     "name": "stdout",
     "output_type": "stream",
     "text": [
      "0:\tlearn: 0.7904561\ttest: 0.7904561\ttest1: 0.7697483\tbest: 0.7697483 (0)\ttotal: 66ms\tremaining: 26.3s\n",
      "1:\tlearn: 0.7981845\ttest: 0.7981845\ttest1: 0.8231337\tbest: 0.8231337 (1)\ttotal: 128ms\tremaining: 25.4s\n",
      "2:\tlearn: 0.8094127\ttest: 0.8094127\ttest1: 0.8052300\tbest: 0.8231337 (1)\ttotal: 197ms\tremaining: 26.1s\n",
      "3:\tlearn: 0.8190733\ttest: 0.8190733\ttest1: 0.8143446\tbest: 0.8231337 (1)\ttotal: 324ms\tremaining: 32.1s\n",
      "4:\tlearn: 0.8164850\ttest: 0.8164850\ttest1: 0.8090278\tbest: 0.8231337 (1)\ttotal: 411ms\tremaining: 32.5s\n",
      "5:\tlearn: 0.8187817\ttest: 0.8187817\ttest1: 0.8189019\tbest: 0.8231337 (1)\ttotal: 471ms\tremaining: 30.9s\n",
      "6:\tlearn: 0.8191462\ttest: 0.8191462\ttest1: 0.8117405\tbest: 0.8231337 (1)\ttotal: 538ms\tremaining: 30.2s\n",
      "7:\tlearn: 0.8201670\ttest: 0.8201670\ttest1: 0.8196615\tbest: 0.8231337 (1)\ttotal: 649ms\tremaining: 31.8s\n",
      "8:\tlearn: 0.8217345\ttest: 0.8217345\ttest1: 0.8200955\tbest: 0.8231337 (1)\ttotal: 823ms\tremaining: 35.8s\n",
      "9:\tlearn: 0.8231927\ttest: 0.8231927\ttest1: 0.8190104\tbest: 0.8231337 (1)\ttotal: 1.05s\tremaining: 40.9s\n",
      "10:\tlearn: 0.8259633\ttest: 0.8259633\ttest1: 0.8210720\tbest: 0.8231337 (1)\ttotal: 1.22s\tremaining: 43.2s\n",
      "11:\tlearn: 0.8281142\ttest: 0.8281142\ttest1: 0.8222656\tbest: 0.8231337 (1)\ttotal: 1.31s\tremaining: 42.4s\n",
      "12:\tlearn: 0.8283329\ttest: 0.8283329\ttest1: 0.8199870\tbest: 0.8231337 (1)\ttotal: 1.38s\tremaining: 41.2s\n",
      "13:\tlearn: 0.8294266\ttest: 0.8294266\ttest1: 0.8261719\tbest: 0.8261719 (13)\ttotal: 1.44s\tremaining: 39.8s\n",
      "14:\tlearn: 0.8321242\ttest: 0.8321242\ttest1: 0.8225911\tbest: 0.8261719 (13)\ttotal: 1.5s\tremaining: 38.6s\n",
      "15:\tlearn: 0.8317232\ttest: 0.8317232\ttest1: 0.8304036\tbest: 0.8304036 (15)\ttotal: 1.59s\tremaining: 38.1s\n",
      "16:\tlearn: 0.8320149\ttest: 0.8320149\ttest1: 0.8270399\tbest: 0.8304036 (15)\ttotal: 1.65s\tremaining: 37.2s\n",
      "17:\tlearn: 0.8354052\ttest: 0.8354052\ttest1: 0.8283420\tbest: 0.8304036 (15)\ttotal: 1.7s\tremaining: 36.1s\n",
      "18:\tlearn: 0.8370092\ttest: 0.8370092\ttest1: 0.8331163\tbest: 0.8331163 (18)\ttotal: 1.76s\tremaining: 35.2s\n",
      "19:\tlearn: 0.8382487\ttest: 0.8382487\ttest1: 0.8344184\tbest: 0.8344184 (19)\ttotal: 1.86s\tremaining: 35.4s\n",
      "20:\tlearn: 0.8386862\ttest: 0.8386862\ttest1: 0.8338759\tbest: 0.8344184 (19)\ttotal: 1.94s\tremaining: 35.1s\n",
      "21:\tlearn: 0.8396704\ttest: 0.8396704\ttest1: 0.8338759\tbest: 0.8344184 (19)\ttotal: 2.02s\tremaining: 34.7s\n",
      "22:\tlearn: 0.8407641\ttest: 0.8407641\ttest1: 0.8339844\tbest: 0.8344184 (19)\ttotal: 2.09s\tremaining: 34.2s\n",
      "23:\tlearn: 0.8410557\ttest: 0.8410557\ttest1: 0.8358290\tbest: 0.8358290 (23)\ttotal: 2.15s\tremaining: 33.6s\n",
      "24:\tlearn: 0.8429514\ttest: 0.8429514\ttest1: 0.8378906\tbest: 0.8378906 (24)\ttotal: 2.27s\tremaining: 34s\n",
      "25:\tlearn: 0.8438263\ttest: 0.8438263\ttest1: 0.8375651\tbest: 0.8378906 (24)\ttotal: 2.43s\tremaining: 34.9s\n",
      "26:\tlearn: 0.8447742\ttest: 0.8447742\ttest1: 0.8374566\tbest: 0.8378906 (24)\ttotal: 2.58s\tremaining: 35.6s\n",
      "27:\tlearn: 0.8449200\ttest: 0.8449200\ttest1: 0.8375651\tbest: 0.8378906 (24)\ttotal: 2.74s\tremaining: 36.4s\n",
      "28:\tlearn: 0.8456126\ttest: 0.8456126\ttest1: 0.8384332\tbest: 0.8384332 (28)\ttotal: 2.91s\tremaining: 37.2s\n",
      "29:\tlearn: 0.8456855\ttest: 0.8456855\ttest1: 0.8378906\tbest: 0.8384332 (28)\ttotal: 2.99s\tremaining: 36.9s\n",
      "30:\tlearn: 0.8462324\ttest: 0.8462324\ttest1: 0.8382161\tbest: 0.8384332 (28)\ttotal: 3.05s\tremaining: 36.3s\n",
      "31:\tlearn: 0.8465240\ttest: 0.8465240\ttest1: 0.8391927\tbest: 0.8391927 (31)\ttotal: 3.11s\tremaining: 35.8s\n",
      "32:\tlearn: 0.8478364\ttest: 0.8478364\ttest1: 0.8398438\tbest: 0.8398438 (32)\ttotal: 3.17s\tremaining: 35.3s\n",
      "33:\tlearn: 0.8486019\ttest: 0.8486019\ttest1: 0.8411458\tbest: 0.8411458 (33)\ttotal: 3.26s\tremaining: 35.1s\n",
      "34:\tlearn: 0.8499872\ttest: 0.8499872\ttest1: 0.8420139\tbest: 0.8420139 (34)\ttotal: 3.33s\tremaining: 34.7s\n",
      "35:\tlearn: 0.8503518\ttest: 0.8503518\ttest1: 0.8428819\tbest: 0.8428819 (35)\ttotal: 3.38s\tremaining: 34.2s\n",
      "36:\tlearn: 0.8506434\ttest: 0.8506434\ttest1: 0.8449436\tbest: 0.8449436 (36)\ttotal: 3.44s\tremaining: 33.8s\n",
      "37:\tlearn: 0.8509351\ttest: 0.8509351\ttest1: 0.8444010\tbest: 0.8449436 (36)\ttotal: 3.52s\tremaining: 33.6s\n",
      "38:\tlearn: 0.8513725\ttest: 0.8513725\ttest1: 0.8448351\tbest: 0.8449436 (36)\ttotal: 3.58s\tremaining: 33.2s\n",
      "39:\tlearn: 0.8516642\ttest: 0.8516642\ttest1: 0.8440755\tbest: 0.8449436 (36)\ttotal: 3.63s\tremaining: 32.7s\n",
      "40:\tlearn: 0.8523204\ttest: 0.8523204\ttest1: 0.8446181\tbest: 0.8449436 (36)\ttotal: 3.7s\tremaining: 32.4s\n",
      "41:\tlearn: 0.8522475\ttest: 0.8522475\ttest1: 0.8446181\tbest: 0.8449436 (36)\ttotal: 3.77s\tremaining: 32.1s\n",
      "42:\tlearn: 0.8535963\ttest: 0.8535963\ttest1: 0.8453776\tbest: 0.8453776 (42)\ttotal: 3.81s\tremaining: 31.7s\n",
      "43:\tlearn: 0.8541796\ttest: 0.8541796\ttest1: 0.8461372\tbest: 0.8461372 (43)\ttotal: 3.88s\tremaining: 31.4s\n",
      "44:\tlearn: 0.8545806\ttest: 0.8545806\ttest1: 0.8458116\tbest: 0.8461372 (43)\ttotal: 3.94s\tremaining: 31.1s\n",
      "45:\tlearn: 0.8558201\ttest: 0.8558201\ttest1: 0.8475477\tbest: 0.8475477 (45)\ttotal: 4.01s\tremaining: 30.8s\n",
      "46:\tlearn: 0.8561846\ttest: 0.8561846\ttest1: 0.8481988\tbest: 0.8481988 (46)\ttotal: 4.07s\tremaining: 30.5s\n",
      "47:\tlearn: 0.8571324\ttest: 0.8571324\ttest1: 0.8477648\tbest: 0.8481988 (46)\ttotal: 4.22s\tremaining: 30.9s\n",
      "48:\tlearn: 0.8574605\ttest: 0.8574605\ttest1: 0.8477648\tbest: 0.8481988 (46)\ttotal: 4.37s\tremaining: 31.3s\n",
      "49:\tlearn: 0.8571324\ttest: 0.8571324\ttest1: 0.8478733\tbest: 0.8481988 (46)\ttotal: 4.53s\tremaining: 31.7s\n",
      "50:\tlearn: 0.8576793\ttest: 0.8576793\ttest1: 0.8479818\tbest: 0.8481988 (46)\ttotal: 4.68s\tremaining: 32s\n",
      "51:\tlearn: 0.8583355\ttest: 0.8583355\ttest1: 0.8479818\tbest: 0.8481988 (46)\ttotal: 4.78s\tremaining: 32s\n",
      "52:\tlearn: 0.8588823\ttest: 0.8588823\ttest1: 0.8473307\tbest: 0.8481988 (46)\ttotal: 4.87s\tremaining: 31.9s\n",
      "53:\tlearn: 0.8593927\ttest: 0.8593927\ttest1: 0.8475477\tbest: 0.8481988 (46)\ttotal: 4.94s\tremaining: 31.6s\n",
      "54:\tlearn: 0.8599030\ttest: 0.8599030\ttest1: 0.8476563\tbest: 0.8481988 (46)\ttotal: 5.02s\tremaining: 31.5s\n",
      "55:\tlearn: 0.8601218\ttest: 0.8601218\ttest1: 0.8474392\tbest: 0.8481988 (46)\ttotal: 5.1s\tremaining: 31.3s\n",
      "56:\tlearn: 0.8607050\ttest: 0.8607050\ttest1: 0.8479818\tbest: 0.8481988 (46)\ttotal: 5.17s\tremaining: 31.1s\n",
      "57:\tlearn: 0.8607050\ttest: 0.8607050\ttest1: 0.8484158\tbest: 0.8484158 (57)\ttotal: 5.28s\tremaining: 31.2s\n",
      "58:\tlearn: 0.8610331\ttest: 0.8610331\ttest1: 0.8487413\tbest: 0.8487413 (58)\ttotal: 5.36s\tremaining: 31s\n",
      "59:\tlearn: 0.8612883\ttest: 0.8612883\ttest1: 0.8490668\tbest: 0.8490668 (59)\ttotal: 5.42s\tremaining: 30.7s\n",
      "60:\tlearn: 0.8625643\ttest: 0.8625643\ttest1: 0.8489583\tbest: 0.8490668 (59)\ttotal: 5.5s\tremaining: 30.6s\n",
      "61:\tlearn: 0.8628194\ttest: 0.8628194\ttest1: 0.8490668\tbest: 0.8490668 (59)\ttotal: 5.58s\tremaining: 30.4s\n",
      "62:\tlearn: 0.8629288\ttest: 0.8629288\ttest1: 0.8495009\tbest: 0.8495009 (62)\ttotal: 5.64s\tremaining: 30.2s\n",
      "63:\tlearn: 0.8630382\ttest: 0.8630382\ttest1: 0.8490668\tbest: 0.8495009 (62)\ttotal: 5.7s\tremaining: 29.9s\n",
      "64:\tlearn: 0.8634392\ttest: 0.8634392\ttest1: 0.8492839\tbest: 0.8495009 (62)\ttotal: 5.77s\tremaining: 29.8s\n",
      "65:\tlearn: 0.8636944\ttest: 0.8636944\ttest1: 0.8490668\tbest: 0.8495009 (62)\ttotal: 5.83s\tremaining: 29.5s\n",
      "66:\tlearn: 0.8638037\ttest: 0.8638037\ttest1: 0.8489583\tbest: 0.8495009 (62)\ttotal: 5.89s\tremaining: 29.3s\n",
      "67:\tlearn: 0.8638766\ttest: 0.8638766\ttest1: 0.8500434\tbest: 0.8500434 (67)\ttotal: 5.95s\tremaining: 29.1s\n",
      "68:\tlearn: 0.8642776\ttest: 0.8642776\ttest1: 0.8509115\tbest: 0.8509115 (68)\ttotal: 6.04s\tremaining: 29s\n",
      "69:\tlearn: 0.8648609\ttest: 0.8648609\ttest1: 0.8508030\tbest: 0.8509115 (68)\ttotal: 6.13s\tremaining: 28.9s\n",
      "70:\tlearn: 0.8649338\ttest: 0.8649338\ttest1: 0.8502604\tbest: 0.8509115 (68)\ttotal: 6.21s\tremaining: 28.8s\n",
      "71:\tlearn: 0.8655900\ttest: 0.8655900\ttest1: 0.8502604\tbest: 0.8509115 (68)\ttotal: 6.3s\tremaining: 28.7s\n",
      "72:\tlearn: 0.8656265\ttest: 0.8656265\ttest1: 0.8505859\tbest: 0.8509115 (68)\ttotal: 6.39s\tremaining: 28.6s\n",
      "73:\tlearn: 0.8656265\ttest: 0.8656265\ttest1: 0.8512370\tbest: 0.8512370 (73)\ttotal: 6.48s\tremaining: 28.6s\n",
      "74:\tlearn: 0.8667201\ttest: 0.8667201\ttest1: 0.8493924\tbest: 0.8512370 (73)\ttotal: 6.59s\tremaining: 28.5s\n",
      "75:\tlearn: 0.8662462\ttest: 0.8662462\ttest1: 0.8511285\tbest: 0.8512370 (73)\ttotal: 6.68s\tremaining: 28.5s\n",
      "76:\tlearn: 0.8663556\ttest: 0.8663556\ttest1: 0.8512370\tbest: 0.8512370 (73)\ttotal: 6.76s\tremaining: 28.4s\n",
      "77:\tlearn: 0.8663556\ttest: 0.8663556\ttest1: 0.8511285\tbest: 0.8512370 (73)\ttotal: 6.85s\tremaining: 28.3s\n",
      "78:\tlearn: 0.8666108\ttest: 0.8666108\ttest1: 0.8516710\tbest: 0.8516710 (78)\ttotal: 6.91s\tremaining: 28.1s\n",
      "79:\tlearn: 0.8668295\ttest: 0.8668295\ttest1: 0.8519965\tbest: 0.8519965 (79)\ttotal: 6.97s\tremaining: 27.9s\n",
      "80:\tlearn: 0.8668295\ttest: 0.8668295\ttest1: 0.8516710\tbest: 0.8519965 (79)\ttotal: 7.03s\tremaining: 27.7s\n"
     ]
    },
    {
     "name": "stdout",
     "output_type": "stream",
     "text": [
      "81:\tlearn: 0.8668295\ttest: 0.8668295\ttest1: 0.8515625\tbest: 0.8519965 (79)\ttotal: 7.1s\tremaining: 27.5s\n",
      "82:\tlearn: 0.8676315\ttest: 0.8676315\ttest1: 0.8498264\tbest: 0.8519965 (79)\ttotal: 7.16s\tremaining: 27.3s\n",
      "83:\tlearn: 0.8680690\ttest: 0.8680690\ttest1: 0.8492839\tbest: 0.8519965 (79)\ttotal: 7.21s\tremaining: 27.1s\n",
      "84:\tlearn: 0.8675951\ttest: 0.8675951\ttest1: 0.8515625\tbest: 0.8519965 (79)\ttotal: 7.27s\tremaining: 26.9s\n",
      "85:\tlearn: 0.8676680\ttest: 0.8676680\ttest1: 0.8511285\tbest: 0.8519965 (79)\ttotal: 7.33s\tremaining: 26.8s\n",
      "86:\tlearn: 0.8677773\ttest: 0.8677773\ttest1: 0.8506944\tbest: 0.8519965 (79)\ttotal: 7.39s\tremaining: 26.6s\n",
      "87:\tlearn: 0.8676680\ttest: 0.8676680\ttest1: 0.8506944\tbest: 0.8519965 (79)\ttotal: 7.47s\tremaining: 26.5s\n",
      "88:\tlearn: 0.8675951\ttest: 0.8675951\ttest1: 0.8509115\tbest: 0.8519965 (79)\ttotal: 7.57s\tremaining: 26.4s\n",
      "89:\tlearn: 0.8677409\ttest: 0.8677409\ttest1: 0.8510200\tbest: 0.8519965 (79)\ttotal: 7.65s\tremaining: 26.4s\n",
      "90:\tlearn: 0.8677044\ttest: 0.8677044\ttest1: 0.8512370\tbest: 0.8519965 (79)\ttotal: 7.74s\tremaining: 26.3s\n",
      "91:\tlearn: 0.8681054\ttest: 0.8681054\ttest1: 0.8512370\tbest: 0.8519965 (79)\ttotal: 7.82s\tremaining: 26.2s\n",
      "92:\tlearn: 0.8679232\ttest: 0.8679232\ttest1: 0.8506944\tbest: 0.8519965 (79)\ttotal: 7.88s\tremaining: 26s\n",
      "93:\tlearn: 0.8682877\ttest: 0.8682877\ttest1: 0.8508030\tbest: 0.8519965 (79)\ttotal: 7.93s\tremaining: 25.8s\n",
      "94:\tlearn: 0.8681419\ttest: 0.8681419\ttest1: 0.8509115\tbest: 0.8519965 (79)\ttotal: 8s\tremaining: 25.7s\n",
      "95:\tlearn: 0.8683606\ttest: 0.8683606\ttest1: 0.8509115\tbest: 0.8519965 (79)\ttotal: 8.06s\tremaining: 25.5s\n",
      "96:\tlearn: 0.8683971\ttest: 0.8683971\ttest1: 0.8506944\tbest: 0.8519965 (79)\ttotal: 8.13s\tremaining: 25.4s\n",
      "97:\tlearn: 0.8692355\ttest: 0.8692355\ttest1: 0.8492839\tbest: 0.8519965 (79)\ttotal: 8.18s\tremaining: 25.2s\n",
      "98:\tlearn: 0.8694543\ttest: 0.8694543\ttest1: 0.8493924\tbest: 0.8519965 (79)\ttotal: 8.24s\tremaining: 25s\n",
      "99:\tlearn: 0.8695272\ttest: 0.8695272\ttest1: 0.8491753\tbest: 0.8519965 (79)\ttotal: 8.31s\tremaining: 24.9s\n",
      "100:\tlearn: 0.8696001\ttest: 0.8696001\ttest1: 0.8492839\tbest: 0.8519965 (79)\ttotal: 8.37s\tremaining: 24.8s\n",
      "101:\tlearn: 0.8696001\ttest: 0.8696001\ttest1: 0.8493924\tbest: 0.8519965 (79)\ttotal: 8.42s\tremaining: 24.6s\n",
      "102:\tlearn: 0.8694907\ttest: 0.8694907\ttest1: 0.8491753\tbest: 0.8519965 (79)\ttotal: 8.47s\tremaining: 24.4s\n",
      "103:\tlearn: 0.8709489\ttest: 0.8709489\ttest1: 0.8493924\tbest: 0.8519965 (79)\ttotal: 8.54s\tremaining: 24.3s\n",
      "104:\tlearn: 0.8710218\ttest: 0.8710218\ttest1: 0.8492839\tbest: 0.8519965 (79)\ttotal: 8.6s\tremaining: 24.2s\n",
      "105:\tlearn: 0.8712041\ttest: 0.8712041\ttest1: 0.8495009\tbest: 0.8519965 (79)\ttotal: 8.65s\tremaining: 24s\n",
      "106:\tlearn: 0.8711312\ttest: 0.8711312\ttest1: 0.8496094\tbest: 0.8519965 (79)\ttotal: 8.71s\tremaining: 23.9s\n",
      "107:\tlearn: 0.8710947\ttest: 0.8710947\ttest1: 0.8493924\tbest: 0.8519965 (79)\ttotal: 8.78s\tremaining: 23.7s\n",
      "108:\tlearn: 0.8710583\ttest: 0.8710583\ttest1: 0.8492839\tbest: 0.8519965 (79)\ttotal: 8.83s\tremaining: 23.6s\n",
      "109:\tlearn: 0.8715687\ttest: 0.8715687\ttest1: 0.8495009\tbest: 0.8519965 (79)\ttotal: 8.88s\tremaining: 23.4s\n",
      "Stopped by overfitting detector  (30 iterations wait)\n",
      "\n",
      "bestTest = 0.8519965278\n",
      "bestIteration = 79\n",
      "\n",
      "Shrink model to first 80 iterations.\n"
     ]
    },
    {
     "data": {
      "text/plain": [
       "<catboost.core.CatBoostClassifier at 0x1a244d80b8>"
      ]
     },
     "execution_count": 129,
     "metadata": {},
     "output_type": "execute_result"
    }
   ],
   "source": [
    "catb_smote.fit(X_train_smt,y_train_smt,eval_set=[(X_train_smt,y_train_smt), (X_test,y_test)],early_stopping_rounds=30)"
   ]
  },
  {
   "cell_type": "code",
   "execution_count": 130,
   "metadata": {},
   "outputs": [
    {
     "name": "stdout",
     "output_type": "stream",
     "text": [
      "              precision    recall  f1-score   support\n",
      "\n",
      "           0       0.92      0.89      0.90      6932\n",
      "           1       0.68      0.75      0.72      2284\n",
      "\n",
      "   micro avg       0.85      0.85      0.85      9216\n",
      "   macro avg       0.80      0.82      0.81      9216\n",
      "weighted avg       0.86      0.85      0.85      9216\n",
      "\n",
      "Accuracy on test data: 85.199653%\n",
      "Accuracy on training data: 86.682950%\n",
      "Area under the ROC curve : 0.845509\n"
     ]
    }
   ],
   "source": [
    "print(metrics.classification_report(y_test, catb_smote.predict(X_test)))\n",
    "print('Accuracy on test data: %f%%' % (metrics.accuracy_score(y_test, catb_smote.predict(X_test))*100))\n",
    "print('Accuracy on training data: %f%%' % (metrics.accuracy_score(y_train_smt, catb_smote.predict(X_train_smt))*100))\n",
    "print('Area under the ROC curve : %f' % (metrics.roc_auc_score(y_test, catb_ros.predict(X_test))))"
   ]
  },
  {
   "cell_type": "code",
   "execution_count": null,
   "metadata": {},
   "outputs": [],
   "source": []
  }
 ],
 "metadata": {
  "kernelspec": {
   "display_name": "Python 3",
   "language": "python",
   "name": "python3"
  },
  "language_info": {
   "codemirror_mode": {
    "name": "ipython",
    "version": 3
   },
   "file_extension": ".py",
   "mimetype": "text/x-python",
   "name": "python",
   "nbconvert_exporter": "python",
   "pygments_lexer": "ipython3",
   "version": "3.6.8"
  }
 },
 "nbformat": 4,
 "nbformat_minor": 2
}
