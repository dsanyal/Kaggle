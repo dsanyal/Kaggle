{
 "cells": [
  {
   "cell_type": "code",
   "execution_count": 183,
   "metadata": {},
   "outputs": [],
   "source": [
    "import pandas as pd\n",
    "import numpy as np\n",
    "import matplotlib.pyplot as plt"
   ]
  },
  {
   "cell_type": "code",
   "execution_count": 420,
   "metadata": {},
   "outputs": [],
   "source": [
    "import os\n",
    "import seaborn as sns\n",
    "os.environ['KMP_DUPLICATE_LIB_OK']='True'"
   ]
  },
  {
   "cell_type": "code",
   "execution_count": 185,
   "metadata": {},
   "outputs": [],
   "source": [
    "%matplotlib inline"
   ]
  },
  {
   "cell_type": "code",
   "execution_count": 186,
   "metadata": {},
   "outputs": [],
   "source": [
    "data = pd.read_csv(\"adult.csv\")"
   ]
  },
  {
   "cell_type": "code",
   "execution_count": 187,
   "metadata": {},
   "outputs": [
    {
     "data": {
      "text/plain": [
       "(32561, 15)"
      ]
     },
     "execution_count": 187,
     "metadata": {},
     "output_type": "execute_result"
    }
   ],
   "source": [
    "data.shape"
   ]
  },
  {
   "cell_type": "code",
   "execution_count": 188,
   "metadata": {},
   "outputs": [
    {
     "data": {
      "text/html": [
       "<div>\n",
       "<style scoped>\n",
       "    .dataframe tbody tr th:only-of-type {\n",
       "        vertical-align: middle;\n",
       "    }\n",
       "\n",
       "    .dataframe tbody tr th {\n",
       "        vertical-align: top;\n",
       "    }\n",
       "\n",
       "    .dataframe thead th {\n",
       "        text-align: right;\n",
       "    }\n",
       "</style>\n",
       "<table border=\"1\" class=\"dataframe\">\n",
       "  <thead>\n",
       "    <tr style=\"text-align: right;\">\n",
       "      <th></th>\n",
       "      <th>age</th>\n",
       "      <th>workclass</th>\n",
       "      <th>fnlwgt</th>\n",
       "      <th>education</th>\n",
       "      <th>education.num</th>\n",
       "      <th>marital.status</th>\n",
       "      <th>occupation</th>\n",
       "      <th>relationship</th>\n",
       "      <th>race</th>\n",
       "      <th>sex</th>\n",
       "      <th>capital.gain</th>\n",
       "      <th>capital.loss</th>\n",
       "      <th>hours.per.week</th>\n",
       "      <th>native.country</th>\n",
       "      <th>income</th>\n",
       "    </tr>\n",
       "  </thead>\n",
       "  <tbody>\n",
       "    <tr>\n",
       "      <th>0</th>\n",
       "      <td>90</td>\n",
       "      <td>?</td>\n",
       "      <td>77053</td>\n",
       "      <td>HS-grad</td>\n",
       "      <td>9</td>\n",
       "      <td>Widowed</td>\n",
       "      <td>?</td>\n",
       "      <td>Not-in-family</td>\n",
       "      <td>White</td>\n",
       "      <td>Female</td>\n",
       "      <td>0</td>\n",
       "      <td>4356</td>\n",
       "      <td>40</td>\n",
       "      <td>United-States</td>\n",
       "      <td>&lt;=50K</td>\n",
       "    </tr>\n",
       "    <tr>\n",
       "      <th>1</th>\n",
       "      <td>82</td>\n",
       "      <td>Private</td>\n",
       "      <td>132870</td>\n",
       "      <td>HS-grad</td>\n",
       "      <td>9</td>\n",
       "      <td>Widowed</td>\n",
       "      <td>Exec-managerial</td>\n",
       "      <td>Not-in-family</td>\n",
       "      <td>White</td>\n",
       "      <td>Female</td>\n",
       "      <td>0</td>\n",
       "      <td>4356</td>\n",
       "      <td>18</td>\n",
       "      <td>United-States</td>\n",
       "      <td>&lt;=50K</td>\n",
       "    </tr>\n",
       "    <tr>\n",
       "      <th>2</th>\n",
       "      <td>66</td>\n",
       "      <td>?</td>\n",
       "      <td>186061</td>\n",
       "      <td>Some-college</td>\n",
       "      <td>10</td>\n",
       "      <td>Widowed</td>\n",
       "      <td>?</td>\n",
       "      <td>Unmarried</td>\n",
       "      <td>Black</td>\n",
       "      <td>Female</td>\n",
       "      <td>0</td>\n",
       "      <td>4356</td>\n",
       "      <td>40</td>\n",
       "      <td>United-States</td>\n",
       "      <td>&lt;=50K</td>\n",
       "    </tr>\n",
       "    <tr>\n",
       "      <th>3</th>\n",
       "      <td>54</td>\n",
       "      <td>Private</td>\n",
       "      <td>140359</td>\n",
       "      <td>7th-8th</td>\n",
       "      <td>4</td>\n",
       "      <td>Divorced</td>\n",
       "      <td>Machine-op-inspct</td>\n",
       "      <td>Unmarried</td>\n",
       "      <td>White</td>\n",
       "      <td>Female</td>\n",
       "      <td>0</td>\n",
       "      <td>3900</td>\n",
       "      <td>40</td>\n",
       "      <td>United-States</td>\n",
       "      <td>&lt;=50K</td>\n",
       "    </tr>\n",
       "    <tr>\n",
       "      <th>4</th>\n",
       "      <td>41</td>\n",
       "      <td>Private</td>\n",
       "      <td>264663</td>\n",
       "      <td>Some-college</td>\n",
       "      <td>10</td>\n",
       "      <td>Separated</td>\n",
       "      <td>Prof-specialty</td>\n",
       "      <td>Own-child</td>\n",
       "      <td>White</td>\n",
       "      <td>Female</td>\n",
       "      <td>0</td>\n",
       "      <td>3900</td>\n",
       "      <td>40</td>\n",
       "      <td>United-States</td>\n",
       "      <td>&lt;=50K</td>\n",
       "    </tr>\n",
       "  </tbody>\n",
       "</table>\n",
       "</div>"
      ],
      "text/plain": [
       "   age workclass  fnlwgt     education  education.num marital.status  \\\n",
       "0   90         ?   77053       HS-grad              9        Widowed   \n",
       "1   82   Private  132870       HS-grad              9        Widowed   \n",
       "2   66         ?  186061  Some-college             10        Widowed   \n",
       "3   54   Private  140359       7th-8th              4       Divorced   \n",
       "4   41   Private  264663  Some-college             10      Separated   \n",
       "\n",
       "          occupation   relationship   race     sex  capital.gain  \\\n",
       "0                  ?  Not-in-family  White  Female             0   \n",
       "1    Exec-managerial  Not-in-family  White  Female             0   \n",
       "2                  ?      Unmarried  Black  Female             0   \n",
       "3  Machine-op-inspct      Unmarried  White  Female             0   \n",
       "4     Prof-specialty      Own-child  White  Female             0   \n",
       "\n",
       "   capital.loss  hours.per.week native.country income  \n",
       "0          4356              40  United-States  <=50K  \n",
       "1          4356              18  United-States  <=50K  \n",
       "2          4356              40  United-States  <=50K  \n",
       "3          3900              40  United-States  <=50K  \n",
       "4          3900              40  United-States  <=50K  "
      ]
     },
     "execution_count": 188,
     "metadata": {},
     "output_type": "execute_result"
    }
   ],
   "source": [
    "data.head()"
   ]
  },
  {
   "cell_type": "code",
   "execution_count": 189,
   "metadata": {},
   "outputs": [
    {
     "name": "stdout",
     "output_type": "stream",
     "text": [
      "<class 'pandas.core.frame.DataFrame'>\n",
      "RangeIndex: 32561 entries, 0 to 32560\n",
      "Data columns (total 15 columns):\n",
      "age               32561 non-null int64\n",
      "workclass         32561 non-null object\n",
      "fnlwgt            32561 non-null int64\n",
      "education         32561 non-null object\n",
      "education.num     32561 non-null int64\n",
      "marital.status    32561 non-null object\n",
      "occupation        32561 non-null object\n",
      "relationship      32561 non-null object\n",
      "race              32561 non-null object\n",
      "sex               32561 non-null object\n",
      "capital.gain      32561 non-null int64\n",
      "capital.loss      32561 non-null int64\n",
      "hours.per.week    32561 non-null int64\n",
      "native.country    32561 non-null object\n",
      "income            32561 non-null object\n",
      "dtypes: int64(6), object(9)\n",
      "memory usage: 3.7+ MB\n"
     ]
    }
   ],
   "source": [
    "data.info()"
   ]
  },
  {
   "cell_type": "code",
   "execution_count": 190,
   "metadata": {},
   "outputs": [
    {
     "data": {
      "text/plain": [
       "Private             22696\n",
       "Self-emp-not-inc     2541\n",
       "Local-gov            2093\n",
       "?                    1836\n",
       "State-gov            1298\n",
       "Self-emp-inc         1116\n",
       "Federal-gov           960\n",
       "Without-pay            14\n",
       "Never-worked            7\n",
       "Name: workclass, dtype: int64"
      ]
     },
     "execution_count": 190,
     "metadata": {},
     "output_type": "execute_result"
    }
   ],
   "source": [
    "data['workclass'].value_counts()"
   ]
  },
  {
   "cell_type": "code",
   "execution_count": 191,
   "metadata": {},
   "outputs": [
    {
     "data": {
      "text/plain": [
       "<=50K    24720\n",
       ">50K      7841\n",
       "Name: income, dtype: int64"
      ]
     },
     "execution_count": 191,
     "metadata": {},
     "output_type": "execute_result"
    }
   ],
   "source": [
    "data['income'].value_counts()    # Is the target variable skewed?"
   ]
  },
  {
   "cell_type": "code",
   "execution_count": 192,
   "metadata": {},
   "outputs": [
    {
     "data": {
      "text/html": [
       "<div>\n",
       "<style scoped>\n",
       "    .dataframe tbody tr th:only-of-type {\n",
       "        vertical-align: middle;\n",
       "    }\n",
       "\n",
       "    .dataframe tbody tr th {\n",
       "        vertical-align: top;\n",
       "    }\n",
       "\n",
       "    .dataframe thead th {\n",
       "        text-align: right;\n",
       "    }\n",
       "</style>\n",
       "<table border=\"1\" class=\"dataframe\">\n",
       "  <thead>\n",
       "    <tr style=\"text-align: right;\">\n",
       "      <th></th>\n",
       "      <th>workclass</th>\n",
       "      <th>education</th>\n",
       "      <th>marital.status</th>\n",
       "      <th>occupation</th>\n",
       "      <th>relationship</th>\n",
       "      <th>race</th>\n",
       "      <th>sex</th>\n",
       "      <th>native.country</th>\n",
       "      <th>income</th>\n",
       "    </tr>\n",
       "  </thead>\n",
       "  <tbody>\n",
       "    <tr>\n",
       "      <th>0</th>\n",
       "      <td>?</td>\n",
       "      <td>HS-grad</td>\n",
       "      <td>Widowed</td>\n",
       "      <td>?</td>\n",
       "      <td>Not-in-family</td>\n",
       "      <td>White</td>\n",
       "      <td>Female</td>\n",
       "      <td>United-States</td>\n",
       "      <td>&lt;=50K</td>\n",
       "    </tr>\n",
       "    <tr>\n",
       "      <th>1</th>\n",
       "      <td>Private</td>\n",
       "      <td>HS-grad</td>\n",
       "      <td>Widowed</td>\n",
       "      <td>Exec-managerial</td>\n",
       "      <td>Not-in-family</td>\n",
       "      <td>White</td>\n",
       "      <td>Female</td>\n",
       "      <td>United-States</td>\n",
       "      <td>&lt;=50K</td>\n",
       "    </tr>\n",
       "    <tr>\n",
       "      <th>2</th>\n",
       "      <td>?</td>\n",
       "      <td>Some-college</td>\n",
       "      <td>Widowed</td>\n",
       "      <td>?</td>\n",
       "      <td>Unmarried</td>\n",
       "      <td>Black</td>\n",
       "      <td>Female</td>\n",
       "      <td>United-States</td>\n",
       "      <td>&lt;=50K</td>\n",
       "    </tr>\n",
       "    <tr>\n",
       "      <th>3</th>\n",
       "      <td>Private</td>\n",
       "      <td>7th-8th</td>\n",
       "      <td>Divorced</td>\n",
       "      <td>Machine-op-inspct</td>\n",
       "      <td>Unmarried</td>\n",
       "      <td>White</td>\n",
       "      <td>Female</td>\n",
       "      <td>United-States</td>\n",
       "      <td>&lt;=50K</td>\n",
       "    </tr>\n",
       "    <tr>\n",
       "      <th>4</th>\n",
       "      <td>Private</td>\n",
       "      <td>Some-college</td>\n",
       "      <td>Separated</td>\n",
       "      <td>Prof-specialty</td>\n",
       "      <td>Own-child</td>\n",
       "      <td>White</td>\n",
       "      <td>Female</td>\n",
       "      <td>United-States</td>\n",
       "      <td>&lt;=50K</td>\n",
       "    </tr>\n",
       "  </tbody>\n",
       "</table>\n",
       "</div>"
      ],
      "text/plain": [
       "  workclass     education marital.status         occupation   relationship  \\\n",
       "0         ?       HS-grad        Widowed                  ?  Not-in-family   \n",
       "1   Private       HS-grad        Widowed    Exec-managerial  Not-in-family   \n",
       "2         ?  Some-college        Widowed                  ?      Unmarried   \n",
       "3   Private       7th-8th       Divorced  Machine-op-inspct      Unmarried   \n",
       "4   Private  Some-college      Separated     Prof-specialty      Own-child   \n",
       "\n",
       "    race     sex native.country income  \n",
       "0  White  Female  United-States  <=50K  \n",
       "1  White  Female  United-States  <=50K  \n",
       "2  Black  Female  United-States  <=50K  \n",
       "3  White  Female  United-States  <=50K  \n",
       "4  White  Female  United-States  <=50K  "
      ]
     },
     "execution_count": 192,
     "metadata": {},
     "output_type": "execute_result"
    }
   ],
   "source": [
    "data.select_dtypes(exclude=[np.number]).head()"
   ]
  },
  {
   "cell_type": "code",
   "execution_count": 193,
   "metadata": {},
   "outputs": [],
   "source": [
    "data = data.applymap(lambda x: np.nan if x=='?' else x) #Replace all '?'s with NaNs."
   ]
  },
  {
   "cell_type": "code",
   "execution_count": 194,
   "metadata": {},
   "outputs": [
    {
     "data": {
      "text/plain": [
       "age                  0\n",
       "workclass         1836\n",
       "fnlwgt               0\n",
       "education            0\n",
       "education.num        0\n",
       "marital.status       0\n",
       "occupation        1843\n",
       "relationship         0\n",
       "race                 0\n",
       "sex                  0\n",
       "capital.gain         0\n",
       "capital.loss         0\n",
       "hours.per.week       0\n",
       "native.country     583\n",
       "income               0\n",
       "dtype: int64"
      ]
     },
     "execution_count": 194,
     "metadata": {},
     "output_type": "execute_result"
    }
   ],
   "source": [
    "data.isnull().sum(axis=0)"
   ]
  },
  {
   "cell_type": "code",
   "execution_count": 195,
   "metadata": {},
   "outputs": [
    {
     "data": {
      "text/plain": [
       "2399"
      ]
     },
     "execution_count": 195,
     "metadata": {},
     "output_type": "execute_result"
    }
   ],
   "source": [
    "data.shape[0] - data.dropna(axis=0).shape[0]   # how many rows will be removed if I remove all the NaN's?"
   ]
  },
  {
   "cell_type": "code",
   "execution_count": 196,
   "metadata": {},
   "outputs": [],
   "source": [
    "data = data.dropna(axis=0) ## Drop all the NaNs"
   ]
  },
  {
   "cell_type": "code",
   "execution_count": 197,
   "metadata": {},
   "outputs": [],
   "source": [
    "data['income'] = data['income'].apply(lambda inc: 0 if inc == \"<=50K\" else 1)"
   ]
  },
  {
   "cell_type": "code",
   "execution_count": 198,
   "metadata": {},
   "outputs": [
    {
     "data": {
      "text/plain": [
       "HS-grad         9840\n",
       "Some-college    6678\n",
       "Bachelors       5044\n",
       "Masters         1627\n",
       "Assoc-voc       1307\n",
       "11th            1048\n",
       "Assoc-acdm      1008\n",
       "10th             820\n",
       "7th-8th          557\n",
       "Prof-school      542\n",
       "9th              455\n",
       "12th             377\n",
       "Doctorate        375\n",
       "5th-6th          288\n",
       "1st-4th          151\n",
       "Preschool         45\n",
       "Name: education, dtype: int64"
      ]
     },
     "execution_count": 198,
     "metadata": {},
     "output_type": "execute_result"
    }
   ],
   "source": [
    "data.education.value_counts()  # I will label-encode the education column since it is an ordinal categorical variable"
   ]
  },
  {
   "cell_type": "code",
   "execution_count": 199,
   "metadata": {},
   "outputs": [],
   "source": [
    "## This computes the fraction of people by country who earn >50k per annum\n",
    "mean_income_bycountry_df = data[['native.country','income']].groupby(['native.country']).mean().reset_index()"
   ]
  },
  {
   "cell_type": "code",
   "execution_count": 200,
   "metadata": {},
   "outputs": [],
   "source": [
    "edu_encode_dict = {'Preschool':0,'1st-4th':1, '5th-6th':2, '7th-8th':3, '9th':4, '10th':5,\n",
    "                  '11th':6, '12th':7, 'HS-grad':8, 'Some-college':9, 'Bachelors':10, 'Masters':11, 'Assoc-voc':12, \n",
    "                   'Assoc-acdm':13, 'Doctorate':14, 'Prof-school':15}\n",
    "\n",
    "data['education'] = data['education'].apply(lambda ed_level: edu_encode_dict[ed_level])"
   ]
  },
  {
   "cell_type": "code",
   "execution_count": 201,
   "metadata": {},
   "outputs": [],
   "source": [
    "data = pd.get_dummies(data,columns=['workclass','sex', 'marital.status',\n",
    "                                    'race','relationship','occupation'],\n",
    "               prefix=['workclass', 'is', 'is', 'race_is', 'relation', 'is'], drop_first=True)\n",
    "### native country is ignored because that feature will be dropped later"
   ]
  },
  {
   "cell_type": "code",
   "execution_count": 202,
   "metadata": {},
   "outputs": [],
   "source": [
    "#data = pd.concat([data,temp_df], axis =1)\n",
    "#data = data.drop(labels=['workclass','sex', 'marital.status','race','relationship'],axis=1)"
   ]
  },
  {
   "cell_type": "code",
   "execution_count": 203,
   "metadata": {},
   "outputs": [
    {
     "data": {
      "text/plain": [
       "(30162, 1)"
      ]
     },
     "execution_count": 203,
     "metadata": {},
     "output_type": "execute_result"
    }
   ],
   "source": [
    "data.select_dtypes(exclude=[np.number]).shape"
   ]
  },
  {
   "cell_type": "code",
   "execution_count": 204,
   "metadata": {},
   "outputs": [],
   "source": [
    "#data['foo']=np.where(data['native.country']=='United-States',1,0)"
   ]
  },
  {
   "cell_type": "code",
   "execution_count": 206,
   "metadata": {},
   "outputs": [
    {
     "data": {
      "text/html": [
       "<div>\n",
       "<style scoped>\n",
       "    .dataframe tbody tr th:only-of-type {\n",
       "        vertical-align: middle;\n",
       "    }\n",
       "\n",
       "    .dataframe tbody tr th {\n",
       "        vertical-align: top;\n",
       "    }\n",
       "\n",
       "    .dataframe thead th {\n",
       "        text-align: right;\n",
       "    }\n",
       "</style>\n",
       "<table border=\"1\" class=\"dataframe\">\n",
       "  <thead>\n",
       "    <tr style=\"text-align: right;\">\n",
       "      <th></th>\n",
       "      <th>age</th>\n",
       "      <th>fnlwgt</th>\n",
       "      <th>education</th>\n",
       "      <th>education.num</th>\n",
       "      <th>capital.gain</th>\n",
       "      <th>capital.loss</th>\n",
       "      <th>hours.per.week</th>\n",
       "      <th>workclass_Local-gov</th>\n",
       "      <th>workclass_Private</th>\n",
       "      <th>workclass_Self-emp-inc</th>\n",
       "      <th>...</th>\n",
       "      <th>is_Farming-fishing</th>\n",
       "      <th>is_Handlers-cleaners</th>\n",
       "      <th>is_Machine-op-inspct</th>\n",
       "      <th>is_Other-service</th>\n",
       "      <th>is_Priv-house-serv</th>\n",
       "      <th>is_Prof-specialty</th>\n",
       "      <th>is_Protective-serv</th>\n",
       "      <th>is_Sales</th>\n",
       "      <th>is_Tech-support</th>\n",
       "      <th>is_Transport-moving</th>\n",
       "    </tr>\n",
       "    <tr>\n",
       "      <th>income</th>\n",
       "      <th></th>\n",
       "      <th></th>\n",
       "      <th></th>\n",
       "      <th></th>\n",
       "      <th></th>\n",
       "      <th></th>\n",
       "      <th></th>\n",
       "      <th></th>\n",
       "      <th></th>\n",
       "      <th></th>\n",
       "      <th></th>\n",
       "      <th></th>\n",
       "      <th></th>\n",
       "      <th></th>\n",
       "      <th></th>\n",
       "      <th></th>\n",
       "      <th></th>\n",
       "      <th></th>\n",
       "      <th></th>\n",
       "      <th></th>\n",
       "      <th></th>\n",
       "    </tr>\n",
       "  </thead>\n",
       "  <tbody>\n",
       "    <tr>\n",
       "      <th>0</th>\n",
       "      <td>36.60806</td>\n",
       "      <td>190338.646729</td>\n",
       "      <td>8.462126</td>\n",
       "      <td>9.629116</td>\n",
       "      <td>148.893838</td>\n",
       "      <td>53.448000</td>\n",
       "      <td>39.348592</td>\n",
       "      <td>0.064359</td>\n",
       "      <td>0.768518</td>\n",
       "      <td>0.020923</td>\n",
       "      <td>...</td>\n",
       "      <td>0.038580</td>\n",
       "      <td>0.055928</td>\n",
       "      <td>0.075969</td>\n",
       "      <td>0.135958</td>\n",
       "      <td>0.006268</td>\n",
       "      <td>0.098305</td>\n",
       "      <td>0.019158</td>\n",
       "      <td>0.115388</td>\n",
       "      <td>0.027986</td>\n",
       "      <td>0.055310</td>\n",
       "    </tr>\n",
       "    <tr>\n",
       "      <th>1</th>\n",
       "      <td>43.95911</td>\n",
       "      <td>188149.962174</td>\n",
       "      <td>9.972163</td>\n",
       "      <td>11.606420</td>\n",
       "      <td>3937.679808</td>\n",
       "      <td>193.750666</td>\n",
       "      <td>45.706580</td>\n",
       "      <td>0.081113</td>\n",
       "      <td>0.649441</td>\n",
       "      <td>0.079915</td>\n",
       "      <td>...</td>\n",
       "      <td>0.015317</td>\n",
       "      <td>0.011055</td>\n",
       "      <td>0.032632</td>\n",
       "      <td>0.017581</td>\n",
       "      <td>0.000133</td>\n",
       "      <td>0.241209</td>\n",
       "      <td>0.027970</td>\n",
       "      <td>0.129196</td>\n",
       "      <td>0.037027</td>\n",
       "      <td>0.042488</td>\n",
       "    </tr>\n",
       "  </tbody>\n",
       "</table>\n",
       "<p>2 rows × 42 columns</p>\n",
       "</div>"
      ],
      "text/plain": [
       "             age         fnlwgt  education  education.num  capital.gain  \\\n",
       "income                                                                    \n",
       "0       36.60806  190338.646729   8.462126       9.629116    148.893838   \n",
       "1       43.95911  188149.962174   9.972163      11.606420   3937.679808   \n",
       "\n",
       "        capital.loss  hours.per.week  workclass_Local-gov  workclass_Private  \\\n",
       "income                                                                         \n",
       "0          53.448000       39.348592             0.064359           0.768518   \n",
       "1         193.750666       45.706580             0.081113           0.649441   \n",
       "\n",
       "        workclass_Self-emp-inc  ...  is_Farming-fishing  is_Handlers-cleaners  \\\n",
       "income                          ...                                             \n",
       "0                     0.020923  ...            0.038580              0.055928   \n",
       "1                     0.079915  ...            0.015317              0.011055   \n",
       "\n",
       "        is_Machine-op-inspct  is_Other-service  is_Priv-house-serv  \\\n",
       "income                                                               \n",
       "0                   0.075969          0.135958            0.006268   \n",
       "1                   0.032632          0.017581            0.000133   \n",
       "\n",
       "        is_Prof-specialty  is_Protective-serv  is_Sales  is_Tech-support  \\\n",
       "income                                                                     \n",
       "0                0.098305            0.019158  0.115388         0.027986   \n",
       "1                0.241209            0.027970  0.129196         0.037027   \n",
       "\n",
       "        is_Transport-moving  \n",
       "income                       \n",
       "0                  0.055310  \n",
       "1                  0.042488  \n",
       "\n",
       "[2 rows x 42 columns]"
      ]
     },
     "execution_count": 206,
     "metadata": {},
     "output_type": "execute_result"
    }
   ],
   "source": [
    "data.groupby('income').mean()"
   ]
  },
  {
   "cell_type": "code",
   "execution_count": 142,
   "metadata": {},
   "outputs": [
    {
     "data": {
      "text/plain": [
       "(30162, 44)"
      ]
     },
     "execution_count": 142,
     "metadata": {},
     "output_type": "execute_result"
    }
   ],
   "source": [
    "data.shape"
   ]
  },
  {
   "cell_type": "code",
   "execution_count": 207,
   "metadata": {},
   "outputs": [],
   "source": [
    "y = data.income\n",
    "X = data.drop(['income', 'education', 'native.country','fnlwgt'],axis=1)\n",
    "## native country is dropped because it showed very little feature importance in random forest"
   ]
  },
  {
   "cell_type": "markdown",
   "metadata": {},
   "source": [
    "## Modelling"
   ]
  },
  {
   "cell_type": "code",
   "execution_count": 208,
   "metadata": {},
   "outputs": [],
   "source": [
    "from sklearn.model_selection import train_test_split"
   ]
  },
  {
   "cell_type": "code",
   "execution_count": 209,
   "metadata": {},
   "outputs": [],
   "source": [
    "X_train, X_test, y_train, y_test = train_test_split(X, y, test_size=0.3, random_state=42)"
   ]
  },
  {
   "cell_type": "code",
   "execution_count": 146,
   "metadata": {},
   "outputs": [],
   "source": [
    "from sklearn.ensemble import RandomForestClassifier\n",
    "from sklearn.ensemble import ExtraTreesClassifier\n",
    "from xgboost import XGBClassifier as xgb\n",
    "from sklearn import metrics"
   ]
  },
  {
   "cell_type": "markdown",
   "metadata": {},
   "source": [
    "### Baseline model"
   ]
  },
  {
   "cell_type": "code",
   "execution_count": 505,
   "metadata": {},
   "outputs": [
    {
     "name": "stdout",
     "output_type": "stream",
     "text": [
      "Accuracy on train data: 0.753091%\n",
      "Accuracy on test data: 0.746381%\n"
     ]
    }
   ],
   "source": [
    "baseline_train = np.zeros(y_train.shape[0])\n",
    "baseline_test = np.zeros(y_test.shape[0])\n",
    "print('Accuracy on train data: %f%%' % (metrics.accuracy_score(y_train, baseline_train)))\n",
    "print('Accuracy on test data: %f%%' %  (metrics.accuracy_score(y_test, baseline_test)))"
   ]
  },
  {
   "cell_type": "markdown",
   "metadata": {},
   "source": [
    "### Random Forest"
   ]
  },
  {
   "cell_type": "code",
   "execution_count": 458,
   "metadata": {},
   "outputs": [
    {
     "name": "stdout",
     "output_type": "stream",
     "text": [
      "RandomForestClassifier(bootstrap=True, class_weight=None, criterion='gini',\n",
      "            max_depth=10, max_features='auto', max_leaf_nodes=None,\n",
      "            min_impurity_decrease=0.0, min_impurity_split=None,\n",
      "            min_samples_leaf=1, min_samples_split=5,\n",
      "            min_weight_fraction_leaf=0.0, n_estimators=300, n_jobs=None,\n",
      "            oob_score=True, random_state=10, verbose=0, warm_start=False)\n"
     ]
    }
   ],
   "source": [
    "rfmodel = RandomForestClassifier(n_estimators=300,oob_score=True,min_samples_split=5, max_depth=10,random_state=10)\n",
    "rfmodel.fit(X_train,y_train)\n",
    "print(rfmodel)"
   ]
  },
  {
   "cell_type": "code",
   "execution_count": 456,
   "metadata": {},
   "outputs": [],
   "source": [
    "def show_classifier_metrics(clf, y_train=y_train,y_test=y_test, print_classification_report=True, print_confusion_matrix=True):\n",
    "    print(clf)\n",
    "    if print_confusion_matrix:\n",
    "        print('confusion matrix of training data')\n",
    "        print(metrics.confusion_matrix(y_train, clf.predict(X_train)))\n",
    "        print('confusion matrix of test data')\n",
    "        print(metrics.confusion_matrix(y_test, clf.predict(X_test)))\n",
    "    if print_classification_report:\n",
    "        print('classification report of test data')\n",
    "        print(metrics.classification_report(y_test, clf.predict(X_test)))\n",
    "    print('Accuracy on test data: %f%%' % (metrics.accuracy_score(y_test, clf.predict(X_test))*100))\n",
    "    print('Accuracy on training data: %f%%' % (metrics.accuracy_score(y_train, clf.predict(X_train)*100)))\n",
    "    print('Area under the ROC curve : %f' % (metrics.roc_auc_score(y_test, clf.predict(X_test))))"
   ]
  },
  {
   "cell_type": "code",
   "execution_count": 459,
   "metadata": {},
   "outputs": [
    {
     "name": "stdout",
     "output_type": "stream",
     "text": [
      "RandomForestClassifier(bootstrap=True, class_weight=None, criterion='gini',\n",
      "            max_depth=10, max_features='auto', max_leaf_nodes=None,\n",
      "            min_impurity_decrease=0.0, min_impurity_split=None,\n",
      "            min_samples_leaf=1, min_samples_split=5,\n",
      "            min_weight_fraction_leaf=0.0, n_estimators=300, n_jobs=None,\n",
      "            oob_score=True, random_state=10, verbose=0, warm_start=False)\n",
      "confusion matrix of training data\n",
      "[[15280   620]\n",
      " [ 2250  2963]]\n",
      "confusion matrix of test data\n",
      "[[6440  314]\n",
      " [1007 1288]]\n",
      "classification report of test data\n",
      "              precision    recall  f1-score   support\n",
      "\n",
      "           0       0.86      0.95      0.91      6754\n",
      "           1       0.80      0.56      0.66      2295\n",
      "\n",
      "   micro avg       0.85      0.85      0.85      9049\n",
      "   macro avg       0.83      0.76      0.78      9049\n",
      "weighted avg       0.85      0.85      0.84      9049\n",
      "\n",
      "Accuracy on test data: 85.401702%\n",
      "Accuracy on training data: 0.723725%\n",
      "Area under the ROC curve : 0.757365\n",
      "oob score = 0.856534\n"
     ]
    }
   ],
   "source": [
    "show_classifier_metrics(rfmodel,y_train)\n",
    "print('oob score = %f'% rfmodel.oob_score_)"
   ]
  },
  {
   "cell_type": "code",
   "execution_count": 462,
   "metadata": {},
   "outputs": [
    {
     "data": {
      "image/png": "[encoded data removed]",
      "text/plain": [
       "<Figure size 1440x720 with 1 Axes>"
      ]
     },
     "metadata": {
      "needs_background": "light"
     },
     "output_type": "display_data"
    }
   ],
   "source": [
    "importance_list = rfmodel.feature_importances_\n",
    "name_list = X_train.columns\n",
    "importance_list, name_list = zip(*sorted(zip(importance_list, name_list)))\n",
    "plt.figure(figsize=(20,10))\n",
    "plt.barh(range(len(name_list)),importance_list,align='center')\n",
    "plt.yticks(range(len(name_list)),name_list)\n",
    "plt.xlabel('Relative Importance in the Random Forest')\n",
    "plt.ylabel('Features')\n",
    "plt.title('Relative importance of Each Feature')\n",
    "plt.show()"
   ]
  },
  {
   "cell_type": "code",
   "execution_count": 150,
   "metadata": {},
   "outputs": [],
   "source": [
    "from sklearn.model_selection import cross_val_score, GridSearchCV"
   ]
  },
  {
   "cell_type": "code",
   "execution_count": 42,
   "metadata": {},
   "outputs": [],
   "source": [
    "def grid_search(clf, parameters, X, y, n_jobs= -1, n_folds=4, score_func=None):\n",
    "    if score_func:\n",
    "        gs = GridSearchCV(clf, param_grid=parameters, cv=n_folds, n_jobs=n_jobs, scoring=score_func,verbose =2)\n",
    "    else:\n",
    "        print('Doing grid search')\n",
    "        gs = GridSearchCV(clf, param_grid=parameters, n_jobs=n_jobs, cv=n_folds, verbose =2)\n",
    "    gs.fit(X, y)\n",
    "    print (\"BEST\", gs.best_params_, gs.best_score_)\n",
    "    best = gs.best_estimator_\n",
    "    return best"
   ]
  },
  {
   "cell_type": "code",
   "execution_count": 463,
   "metadata": {},
   "outputs": [
    {
     "name": "stdout",
     "output_type": "stream",
     "text": [
      "Doing grid search\n",
      "Fitting 4 folds for each of 12 candidates, totalling 48 fits\n"
     ]
    },
    {
     "name": "stderr",
     "output_type": "stream",
     "text": [
      "[Parallel(n_jobs=-1)]: Using backend LokyBackend with 4 concurrent workers.\n",
      "[Parallel(n_jobs=-1)]: Done  33 tasks      | elapsed:   48.2s\n",
      "[Parallel(n_jobs=-1)]: Done  48 out of  48 | elapsed:  1.1min finished\n"
     ]
    },
    {
     "name": "stdout",
     "output_type": "stream",
     "text": [
      "BEST {'max_depth': 15, 'n_estimators': 200} 0.8576706294699948\n"
     ]
    }
   ],
   "source": [
    "rfmodel2 = RandomForestClassifier(min_samples_split=5,oob_score=True, n_jobs=-1,random_state=10)\n",
    "parameters = {'n_estimators': [100,200,300], 'max_depth': [10,13,15,20]}\n",
    "rfmodelCV = grid_search(rfmodel2, parameters,X_train,y_train)"
   ]
  },
  {
   "cell_type": "code",
   "execution_count": 464,
   "metadata": {},
   "outputs": [
    {
     "name": "stdout",
     "output_type": "stream",
     "text": [
      "RandomForestClassifier(bootstrap=True, class_weight=None, criterion='gini',\n",
      "            max_depth=15, max_features='auto', max_leaf_nodes=None,\n",
      "            min_impurity_decrease=0.0, min_impurity_split=None,\n",
      "            min_samples_leaf=1, min_samples_split=5,\n",
      "            min_weight_fraction_leaf=0.0, n_estimators=200, n_jobs=-1,\n",
      "            oob_score=True, random_state=10, verbose=0, warm_start=False)\n",
      "confusion matrix of training data\n",
      "[[15301   599]\n",
      " [ 1848  3365]]\n",
      "confusion matrix of test data\n",
      "[[6396  358]\n",
      " [ 926 1369]]\n",
      "classification report of test data\n",
      "              precision    recall  f1-score   support\n",
      "\n",
      "           0       0.87      0.95      0.91      6754\n",
      "           1       0.79      0.60      0.68      2295\n",
      "\n",
      "   micro avg       0.86      0.86      0.86      9049\n",
      "   macro avg       0.83      0.77      0.79      9049\n",
      "weighted avg       0.85      0.86      0.85      9049\n",
      "\n",
      "Accuracy on test data: 85.810587%\n",
      "Accuracy on training data: 0.724719%\n",
      "Area under the ROC curve : 0.771754\n",
      "oob score = 0.859991\n"
     ]
    }
   ],
   "source": [
    "rfmodelCV.fit(X_train,y_train)\n",
    "show_classifier_metrics(rfmodelCV,y_train)\n",
    "print('oob score = %f'% rfmodelCV.oob_score_)"
   ]
  },
  {
   "cell_type": "markdown",
   "metadata": {},
   "source": [
    "### XGBoost "
   ]
  },
  {
   "cell_type": "code",
   "execution_count": 151,
   "metadata": {},
   "outputs": [],
   "source": [
    "from xgboost.sklearn import XGBClassifier"
   ]
  },
  {
   "cell_type": "code",
   "execution_count": 379,
   "metadata": {},
   "outputs": [
    {
     "name": "stdout",
     "output_type": "stream",
     "text": [
      "[0]\tvalidation_0-error:0.155212\tvalidation_1-error:0.159797\n",
      "Multiple eval metrics have been passed: 'validation_1-error' will be used for early stopping.\n",
      "\n",
      "Will train until validation_1-error hasn't improved in 30 rounds.\n",
      "[1]\tvalidation_0-error:0.15436\tvalidation_1-error:0.158692\n",
      "[2]\tvalidation_0-error:0.154644\tvalidation_1-error:0.158471\n",
      "[3]\tvalidation_0-error:0.149576\tvalidation_1-error:0.154382\n",
      "[4]\tvalidation_0-error:0.147918\tvalidation_1-error:0.153277\n",
      "[5]\tvalidation_0-error:0.147018\tvalidation_1-error:0.151398\n",
      "[6]\tvalidation_0-error:0.147113\tvalidation_1-error:0.152061\n",
      "[7]\tvalidation_0-error:0.147066\tvalidation_1-error:0.151508\n",
      "[8]\tvalidation_0-error:0.146924\tvalidation_1-error:0.151287\n",
      "[9]\tvalidation_0-error:0.146782\tvalidation_1-error:0.151619\n",
      "[10]\tvalidation_0-error:0.14664\tvalidation_1-error:0.151619\n",
      "[11]\tvalidation_0-error:0.146829\tvalidation_1-error:0.151177\n",
      "[12]\tvalidation_0-error:0.145598\tvalidation_1-error:0.149519\n",
      "[13]\tvalidation_0-error:0.145219\tvalidation_1-error:0.149188\n",
      "[14]\tvalidation_0-error:0.145313\tvalidation_1-error:0.149077\n",
      "[15]\tvalidation_0-error:0.142803\tvalidation_1-error:0.147751\n",
      "[16]\tvalidation_0-error:0.142566\tvalidation_1-error:0.148414\n",
      "[17]\tvalidation_0-error:0.142945\tvalidation_1-error:0.148193\n",
      "[18]\tvalidation_0-error:0.142424\tvalidation_1-error:0.148304\n",
      "[19]\tvalidation_0-error:0.142187\tvalidation_1-error:0.147309\n",
      "[20]\tvalidation_0-error:0.141998\tvalidation_1-error:0.146978\n",
      "[21]\tvalidation_0-error:0.142282\tvalidation_1-error:0.146204\n",
      "[22]\tvalidation_0-error:0.141666\tvalidation_1-error:0.146757\n",
      "[23]\tvalidation_0-error:0.141429\tvalidation_1-error:0.146315\n",
      "[24]\tvalidation_0-error:0.140956\tvalidation_1-error:0.145762\n",
      "[25]\tvalidation_0-error:0.140956\tvalidation_1-error:0.145541\n",
      "[26]\tvalidation_0-error:0.140293\tvalidation_1-error:0.14543\n",
      "[27]\tvalidation_0-error:0.13963\tvalidation_1-error:0.145209\n",
      "[28]\tvalidation_0-error:0.139298\tvalidation_1-error:0.144878\n",
      "[29]\tvalidation_0-error:0.139014\tvalidation_1-error:0.144215\n",
      "[30]\tvalidation_0-error:0.138872\tvalidation_1-error:0.144215\n",
      "[31]\tvalidation_0-error:0.138682\tvalidation_1-error:0.144215\n",
      "[32]\tvalidation_0-error:0.138256\tvalidation_1-error:0.143883\n",
      "[33]\tvalidation_0-error:0.13783\tvalidation_1-error:0.143662\n",
      "[34]\tvalidation_0-error:0.137119\tvalidation_1-error:0.143662\n",
      "[35]\tvalidation_0-error:0.137119\tvalidation_1-error:0.144104\n",
      "[36]\tvalidation_0-error:0.137167\tvalidation_1-error:0.143994\n",
      "[37]\tvalidation_0-error:0.136551\tvalidation_1-error:0.143662\n",
      "[38]\tvalidation_0-error:0.136267\tvalidation_1-error:0.143773\n",
      "[39]\tvalidation_0-error:0.135793\tvalidation_1-error:0.142447\n",
      "[40]\tvalidation_0-error:0.135367\tvalidation_1-error:0.142115\n",
      "[41]\tvalidation_0-error:0.134988\tvalidation_1-error:0.142778\n",
      "[42]\tvalidation_0-error:0.134656\tvalidation_1-error:0.142668\n",
      "[43]\tvalidation_0-error:0.134467\tvalidation_1-error:0.142005\n",
      "[44]\tvalidation_0-error:0.134467\tvalidation_1-error:0.141784\n",
      "[45]\tvalidation_0-error:0.134088\tvalidation_1-error:0.141121\n",
      "[46]\tvalidation_0-error:0.133993\tvalidation_1-error:0.1409\n",
      "[47]\tvalidation_0-error:0.133899\tvalidation_1-error:0.141342\n",
      "[48]\tvalidation_0-error:0.133662\tvalidation_1-error:0.141563\n",
      "[49]\tvalidation_0-error:0.133283\tvalidation_1-error:0.14101\n",
      "[50]\tvalidation_0-error:0.132809\tvalidation_1-error:0.140568\n",
      "[51]\tvalidation_0-error:0.132336\tvalidation_1-error:0.139684\n",
      "[52]\tvalidation_0-error:0.132051\tvalidation_1-error:0.139352\n",
      "[53]\tvalidation_0-error:0.132004\tvalidation_1-error:0.138689\n",
      "[54]\tvalidation_0-error:0.13153\tvalidation_1-error:0.138358\n",
      "[55]\tvalidation_0-error:0.131578\tvalidation_1-error:0.137584\n",
      "[56]\tvalidation_0-error:0.131341\tvalidation_1-error:0.137474\n",
      "[57]\tvalidation_0-error:0.131341\tvalidation_1-error:0.137363\n",
      "[58]\tvalidation_0-error:0.131199\tvalidation_1-error:0.137584\n",
      "[59]\tvalidation_0-error:0.130251\tvalidation_1-error:0.1367\n",
      "[60]\tvalidation_0-error:0.130299\tvalidation_1-error:0.136479\n",
      "[61]\tvalidation_0-error:0.130441\tvalidation_1-error:0.136369\n",
      "[62]\tvalidation_0-error:0.130062\tvalidation_1-error:0.135816\n",
      "[63]\tvalidation_0-error:0.12973\tvalidation_1-error:0.135485\n",
      "[64]\tvalidation_0-error:0.129352\tvalidation_1-error:0.135374\n",
      "[65]\tvalidation_0-error:0.128783\tvalidation_1-error:0.134932\n",
      "[66]\tvalidation_0-error:0.128878\tvalidation_1-error:0.134932\n",
      "[67]\tvalidation_0-error:0.12902\tvalidation_1-error:0.135043\n",
      "[68]\tvalidation_0-error:0.129067\tvalidation_1-error:0.135153\n",
      "[69]\tvalidation_0-error:0.128736\tvalidation_1-error:0.134822\n",
      "[70]\tvalidation_0-error:0.128688\tvalidation_1-error:0.134601\n",
      "[71]\tvalidation_0-error:0.128546\tvalidation_1-error:0.134269\n",
      "[72]\tvalidation_0-error:0.128215\tvalidation_1-error:0.134269\n",
      "[73]\tvalidation_0-error:0.128167\tvalidation_1-error:0.134379\n",
      "[74]\tvalidation_0-error:0.128073\tvalidation_1-error:0.134932\n",
      "[75]\tvalidation_0-error:0.127883\tvalidation_1-error:0.134601\n",
      "[76]\tvalidation_0-error:0.127741\tvalidation_1-error:0.133716\n",
      "[77]\tvalidation_0-error:0.127599\tvalidation_1-error:0.133716\n",
      "[78]\tvalidation_0-error:0.127362\tvalidation_1-error:0.133606\n",
      "[79]\tvalidation_0-error:0.12722\tvalidation_1-error:0.133274\n",
      "[80]\tvalidation_0-error:0.126794\tvalidation_1-error:0.133164\n",
      "[81]\tvalidation_0-error:0.126889\tvalidation_1-error:0.133164\n",
      "[82]\tvalidation_0-error:0.126557\tvalidation_1-error:0.132943\n",
      "[83]\tvalidation_0-error:0.12651\tvalidation_1-error:0.132611\n",
      "[84]\tvalidation_0-error:0.126273\tvalidation_1-error:0.132611\n",
      "[85]\tvalidation_0-error:0.125468\tvalidation_1-error:0.13239\n",
      "[86]\tvalidation_0-error:0.126036\tvalidation_1-error:0.132611\n",
      "[87]\tvalidation_0-error:0.126036\tvalidation_1-error:0.132722\n",
      "[88]\tvalidation_0-error:0.125752\tvalidation_1-error:0.132501\n",
      "[89]\tvalidation_0-error:0.12561\tvalidation_1-error:0.132501\n",
      "[90]\tvalidation_0-error:0.125752\tvalidation_1-error:0.132501\n",
      "[91]\tvalidation_0-error:0.12561\tvalidation_1-error:0.132169\n",
      "[92]\tvalidation_0-error:0.125515\tvalidation_1-error:0.132501\n",
      "[93]\tvalidation_0-error:0.12542\tvalidation_1-error:0.132501\n",
      "[94]\tvalidation_0-error:0.124899\tvalidation_1-error:0.131948\n",
      "[95]\tvalidation_0-error:0.124852\tvalidation_1-error:0.131617\n",
      "[96]\tvalidation_0-error:0.12471\tvalidation_1-error:0.131838\n",
      "[97]\tvalidation_0-error:0.12452\tvalidation_1-error:0.131617\n",
      "[98]\tvalidation_0-error:0.124236\tvalidation_1-error:0.131175\n",
      "[99]\tvalidation_0-error:0.124094\tvalidation_1-error:0.131285\n",
      "[100]\tvalidation_0-error:0.123668\tvalidation_1-error:0.131064\n",
      "[101]\tvalidation_0-error:0.123526\tvalidation_1-error:0.130843\n",
      "[102]\tvalidation_0-error:0.123431\tvalidation_1-error:0.130733\n",
      "[103]\tvalidation_0-error:0.123621\tvalidation_1-error:0.130622\n",
      "[104]\tvalidation_0-error:0.123526\tvalidation_1-error:0.130622\n",
      "[105]\tvalidation_0-error:0.123478\tvalidation_1-error:0.130512\n",
      "[106]\tvalidation_0-error:0.123431\tvalidation_1-error:0.130843\n",
      "[107]\tvalidation_0-error:0.123431\tvalidation_1-error:0.130954\n",
      "[108]\tvalidation_0-error:0.123431\tvalidation_1-error:0.130843\n",
      "[109]\tvalidation_0-error:0.123289\tvalidation_1-error:0.130954\n",
      "[110]\tvalidation_0-error:0.123336\tvalidation_1-error:0.130954\n",
      "[111]\tvalidation_0-error:0.123194\tvalidation_1-error:0.130622\n",
      "[112]\tvalidation_0-error:0.123052\tvalidation_1-error:0.130291\n",
      "[113]\tvalidation_0-error:0.122768\tvalidation_1-error:0.130512\n",
      "[114]\tvalidation_0-error:0.122673\tvalidation_1-error:0.130733\n",
      "[115]\tvalidation_0-error:0.122863\tvalidation_1-error:0.130622\n",
      "[116]\tvalidation_0-error:0.122721\tvalidation_1-error:0.130733\n",
      "[117]\tvalidation_0-error:0.122863\tvalidation_1-error:0.130733\n",
      "[118]\tvalidation_0-error:0.122673\tvalidation_1-error:0.130401\n",
      "[119]\tvalidation_0-error:0.122342\tvalidation_1-error:0.130401\n",
      "[120]\tvalidation_0-error:0.121963\tvalidation_1-error:0.130622\n",
      "[121]\tvalidation_0-error:0.121773\tvalidation_1-error:0.130954\n",
      "[122]\tvalidation_0-error:0.121773\tvalidation_1-error:0.130843\n",
      "[123]\tvalidation_0-error:0.121679\tvalidation_1-error:0.131064\n",
      "[124]\tvalidation_0-error:0.121631\tvalidation_1-error:0.131396\n",
      "[125]\tvalidation_0-error:0.121631\tvalidation_1-error:0.131064\n",
      "[126]\tvalidation_0-error:0.121679\tvalidation_1-error:0.130954\n",
      "[127]\tvalidation_0-error:0.121726\tvalidation_1-error:0.131064\n",
      "[128]\tvalidation_0-error:0.121726\tvalidation_1-error:0.131064\n",
      "[129]\tvalidation_0-error:0.121584\tvalidation_1-error:0.131175\n",
      "[130]\tvalidation_0-error:0.121536\tvalidation_1-error:0.131285\n",
      "[131]\tvalidation_0-error:0.121536\tvalidation_1-error:0.131064\n"
     ]
    },
    {
     "name": "stdout",
     "output_type": "stream",
     "text": [
      "[132]\tvalidation_0-error:0.121584\tvalidation_1-error:0.131175\n",
      "[133]\tvalidation_0-error:0.121726\tvalidation_1-error:0.131175\n",
      "[134]\tvalidation_0-error:0.121726\tvalidation_1-error:0.131285\n",
      "[135]\tvalidation_0-error:0.121584\tvalidation_1-error:0.130843\n",
      "[136]\tvalidation_0-error:0.121631\tvalidation_1-error:0.130843\n",
      "[137]\tvalidation_0-error:0.121584\tvalidation_1-error:0.130843\n",
      "[138]\tvalidation_0-error:0.1213\tvalidation_1-error:0.130512\n",
      "[139]\tvalidation_0-error:0.1213\tvalidation_1-error:0.130512\n",
      "[140]\tvalidation_0-error:0.1213\tvalidation_1-error:0.13007\n",
      "[141]\tvalidation_0-error:0.121347\tvalidation_1-error:0.129959\n",
      "[142]\tvalidation_0-error:0.121394\tvalidation_1-error:0.129849\n",
      "[143]\tvalidation_0-error:0.121063\tvalidation_1-error:0.130401\n",
      "[144]\tvalidation_0-error:0.12111\tvalidation_1-error:0.130622\n",
      "[145]\tvalidation_0-error:0.120779\tvalidation_1-error:0.130401\n",
      "[146]\tvalidation_0-error:0.120589\tvalidation_1-error:0.130622\n",
      "[147]\tvalidation_0-error:0.120447\tvalidation_1-error:0.130954\n",
      "[148]\tvalidation_0-error:0.1204\tvalidation_1-error:0.130954\n",
      "[149]\tvalidation_0-error:0.120637\tvalidation_1-error:0.131064\n",
      "[150]\tvalidation_0-error:0.120542\tvalidation_1-error:0.131175\n",
      "[151]\tvalidation_0-error:0.120542\tvalidation_1-error:0.130954\n",
      "[152]\tvalidation_0-error:0.120494\tvalidation_1-error:0.130954\n",
      "[153]\tvalidation_0-error:0.120542\tvalidation_1-error:0.130954\n",
      "[154]\tvalidation_0-error:0.12021\tvalidation_1-error:0.130954\n",
      "[155]\tvalidation_0-error:0.120021\tvalidation_1-error:0.130733\n",
      "[156]\tvalidation_0-error:0.119784\tvalidation_1-error:0.131064\n",
      "[157]\tvalidation_0-error:0.120163\tvalidation_1-error:0.130843\n",
      "[158]\tvalidation_0-error:0.120068\tvalidation_1-error:0.130733\n",
      "[159]\tvalidation_0-error:0.119737\tvalidation_1-error:0.130622\n",
      "[160]\tvalidation_0-error:0.119784\tvalidation_1-error:0.130622\n",
      "[161]\tvalidation_0-error:0.119642\tvalidation_1-error:0.130622\n",
      "[162]\tvalidation_0-error:0.119595\tvalidation_1-error:0.130843\n",
      "[163]\tvalidation_0-error:0.119642\tvalidation_1-error:0.130843\n",
      "[164]\tvalidation_0-error:0.1195\tvalidation_1-error:0.130622\n",
      "[165]\tvalidation_0-error:0.119452\tvalidation_1-error:0.130622\n",
      "[166]\tvalidation_0-error:0.119358\tvalidation_1-error:0.130733\n",
      "[167]\tvalidation_0-error:0.119405\tvalidation_1-error:0.130954\n",
      "[168]\tvalidation_0-error:0.119168\tvalidation_1-error:0.130954\n",
      "[169]\tvalidation_0-error:0.119216\tvalidation_1-error:0.130843\n",
      "[170]\tvalidation_0-error:0.118979\tvalidation_1-error:0.130954\n",
      "[171]\tvalidation_0-error:0.119026\tvalidation_1-error:0.130954\n",
      "[172]\tvalidation_0-error:0.118979\tvalidation_1-error:0.131064\n",
      "Stopping. Best iteration:\n",
      "[142]\tvalidation_0-error:0.121394\tvalidation_1-error:0.129849\n",
      "\n"
     ]
    },
    {
     "data": {
      "text/plain": [
       "XGBClassifier(base_score=0.5, booster='gbtree', colsample_bylevel=0.9,\n",
       "       colsample_bytree=0.9, gamma=0, learning_rate=0.1, max_delta_step=0,\n",
       "       max_depth=5, min_child_weight=1, missing=None, n_estimators=400,\n",
       "       n_jobs=1, nthread=None, objective='binary:logistic', random_state=0,\n",
       "       reg_alpha=0, reg_lambda=1.5, scale_pos_weight=1, seed=10,\n",
       "       silent=True, subsample=0.9, verbosity=1)"
      ]
     },
     "execution_count": 379,
     "metadata": {},
     "output_type": "execute_result"
    }
   ],
   "source": [
    "param = {}\n",
    "param['learning_rate'] = 0.1\n",
    "param['verbosity'] = 1\n",
    "param['colsample_bylevel'] = 0.9\n",
    "param['colsample_bytree'] = 0.9\n",
    "param['subsample'] = 0.9\n",
    "param['reg_lambda']= 1.5\n",
    "param['max_depth'] = 5\n",
    "param['n_estimators'] = 400\n",
    "param['seed']=10\n",
    "xgb= XGBClassifier(**param)\n",
    "xgb.fit(X_train, y_train, eval_metric=['error'], eval_set=[(X_train, y_train),(X_test, y_test)],early_stopping_rounds=30)"
   ]
  },
  {
   "cell_type": "code",
   "execution_count": 380,
   "metadata": {},
   "outputs": [
    {
     "name": "stdout",
     "output_type": "stream",
     "text": [
      "XGBClassifier(base_score=0.5, booster='gbtree', colsample_bylevel=0.9,\n",
      "       colsample_bytree=0.9, gamma=0, learning_rate=0.1, max_delta_step=0,\n",
      "       max_depth=5, min_child_weight=1, missing=None, n_estimators=400,\n",
      "       n_jobs=1, nthread=None, objective='binary:logistic', random_state=0,\n",
      "       reg_alpha=0, reg_lambda=1.5, scale_pos_weight=1, seed=10,\n",
      "       silent=True, subsample=0.9, verbosity=1)\n",
      "confusion matrix of training data\n",
      "[[15070   830]\n",
      " [ 1733  3480]]\n",
      "confusion matrix of test data\n",
      "[[6361  393]\n",
      " [ 782 1513]]\n",
      "classification report of test data\n",
      "              precision    recall  f1-score   support\n",
      "\n",
      "           0       0.89      0.94      0.92      6754\n",
      "           1       0.79      0.66      0.72      2295\n",
      "\n",
      "   micro avg       0.87      0.87      0.87      9049\n",
      "   macro avg       0.84      0.80      0.82      9049\n",
      "weighted avg       0.87      0.87      0.87      9049\n",
      "\n",
      "Accuracy on test data: 87.015140%\n",
      "Accuracy on training data: 0.713778%\n",
      "Area under the ROC curve : 0.800536\n"
     ]
    }
   ],
   "source": [
    "show_classifier_metrics(xgb,y_train)"
   ]
  },
  {
   "cell_type": "code",
   "execution_count": 292,
   "metadata": {},
   "outputs": [
    {
     "data": {
      "image/png": "[encoded data removed]",
      "text/plain": [
       "<Figure size 1440x720 with 1 Axes>"
      ]
     },
     "metadata": {
      "needs_background": "light"
     },
     "output_type": "display_data"
    }
   ],
   "source": [
    "importance_list = xgb.feature_importances_\n",
    "name_list = X_train.columns\n",
    "importance_list, name_list = zip(*sorted(zip(importance_list, name_list)))\n",
    "plt.figure(figsize=(20,10))\n",
    "plt.barh(range(len(name_list)),importance_list,align='center')\n",
    "plt.yticks(range(len(name_list)),name_list)\n",
    "plt.xlabel('Relative Importance in XGBoost')\n",
    "plt.ylabel('Features')\n",
    "plt.title('Relative importance of Each Feature')\n",
    "plt.show()"
   ]
  },
  {
   "cell_type": "markdown",
   "metadata": {},
   "source": [
    "### Grid search with cross validation: XGBoost model"
   ]
  },
  {
   "cell_type": "code",
   "execution_count": 472,
   "metadata": {},
   "outputs": [
    {
     "name": "stdout",
     "output_type": "stream",
     "text": [
      "Doing grid search\n",
      "Fitting 4 folds for each of 6 candidates, totalling 24 fits\n"
     ]
    },
    {
     "name": "stderr",
     "output_type": "stream",
     "text": [
      "[Parallel(n_jobs=-1)]: Using backend LokyBackend with 4 concurrent workers.\n",
      "[Parallel(n_jobs=-1)]: Done  24 out of  24 | elapsed:  2.6min finished\n"
     ]
    },
    {
     "name": "stdout",
     "output_type": "stream",
     "text": [
      "BEST {'colsample_bylevel': 0.9, 'colsample_bytree': 0.9, 'learning_rate': 0.1, 'max_depth': 5, 'n_estimators': 300, 'reg_lambda': 2, 'seed': 10, 'subsample': 0.9, 'verbosity': 1} 0.8678539288589968\n"
     ]
    }
   ],
   "source": [
    "xgbmodel2 = XGBClassifier(seed=42)\n",
    "param = {\n",
    "'learning_rate': [0.1],\n",
    "'verbosity': [1],\n",
    "'colsample_bylevel': [0.9],\n",
    "'colsample_bytree': [0.9],\n",
    "'subsample' : [0.9],\n",
    "'n_estimators': [300],\n",
    "'reg_lambda': [1.5,2],\n",
    "'max_depth': [3,5,7],\n",
    " 'seed': [10]   \n",
    "}\n",
    "xgbCV = grid_search(xgbmodel2, param,X_train,y_train)"
   ]
  },
  {
   "cell_type": "code",
   "execution_count": 473,
   "metadata": {},
   "outputs": [
    {
     "name": "stdout",
     "output_type": "stream",
     "text": [
      "[0]\tvalidation_0-error:0.155212\tvalidation_1-error:0.159797\n",
      "Multiple eval metrics have been passed: 'validation_1-error' will be used for early stopping.\n",
      "\n",
      "Will train until validation_1-error hasn't improved in 30 rounds.\n",
      "[1]\tvalidation_0-error:0.154691\tvalidation_1-error:0.159023\n",
      "[2]\tvalidation_0-error:0.154739\tvalidation_1-error:0.158581\n",
      "[3]\tvalidation_0-error:0.149576\tvalidation_1-error:0.154492\n",
      "[4]\tvalidation_0-error:0.147918\tvalidation_1-error:0.153056\n",
      "[5]\tvalidation_0-error:0.147018\tvalidation_1-error:0.151398\n",
      "[6]\tvalidation_0-error:0.147113\tvalidation_1-error:0.152061\n",
      "[7]\tvalidation_0-error:0.146829\tvalidation_1-error:0.151287\n",
      "[8]\tvalidation_0-error:0.147018\tvalidation_1-error:0.151508\n",
      "[9]\tvalidation_0-error:0.146829\tvalidation_1-error:0.151729\n",
      "[10]\tvalidation_0-error:0.146592\tvalidation_1-error:0.151619\n",
      "[11]\tvalidation_0-error:0.14645\tvalidation_1-error:0.151066\n",
      "[12]\tvalidation_0-error:0.146071\tvalidation_1-error:0.149519\n",
      "[13]\tvalidation_0-error:0.145124\tvalidation_1-error:0.149519\n",
      "[14]\tvalidation_0-error:0.143229\tvalidation_1-error:0.148856\n",
      "[15]\tvalidation_0-error:0.143277\tvalidation_1-error:0.148414\n",
      "[16]\tvalidation_0-error:0.142708\tvalidation_1-error:0.148304\n",
      "[17]\tvalidation_0-error:0.142661\tvalidation_1-error:0.148414\n",
      "[18]\tvalidation_0-error:0.142614\tvalidation_1-error:0.148414\n",
      "[19]\tvalidation_0-error:0.142566\tvalidation_1-error:0.147309\n",
      "[20]\tvalidation_0-error:0.142282\tvalidation_1-error:0.146978\n",
      "[21]\tvalidation_0-error:0.142235\tvalidation_1-error:0.146867\n",
      "[22]\tvalidation_0-error:0.141903\tvalidation_1-error:0.147199\n",
      "[23]\tvalidation_0-error:0.141477\tvalidation_1-error:0.146867\n",
      "[24]\tvalidation_0-error:0.140672\tvalidation_1-error:0.146425\n",
      "[25]\tvalidation_0-error:0.140103\tvalidation_1-error:0.146315\n",
      "[26]\tvalidation_0-error:0.13963\tvalidation_1-error:0.145541\n",
      "[27]\tvalidation_0-error:0.139677\tvalidation_1-error:0.14543\n",
      "[28]\tvalidation_0-error:0.139298\tvalidation_1-error:0.145541\n",
      "[29]\tvalidation_0-error:0.139488\tvalidation_1-error:0.14532\n",
      "[30]\tvalidation_0-error:0.139345\tvalidation_1-error:0.145541\n",
      "[31]\tvalidation_0-error:0.139488\tvalidation_1-error:0.145872\n",
      "[32]\tvalidation_0-error:0.139393\tvalidation_1-error:0.145872\n",
      "[33]\tvalidation_0-error:0.139109\tvalidation_1-error:0.145762\n",
      "[34]\tvalidation_0-error:0.138588\tvalidation_1-error:0.145541\n",
      "[35]\tvalidation_0-error:0.13873\tvalidation_1-error:0.145762\n",
      "[36]\tvalidation_0-error:0.138635\tvalidation_1-error:0.144988\n",
      "[37]\tvalidation_0-error:0.138114\tvalidation_1-error:0.144878\n",
      "[38]\tvalidation_0-error:0.137593\tvalidation_1-error:0.144546\n",
      "[39]\tvalidation_0-error:0.137025\tvalidation_1-error:0.144546\n",
      "[40]\tvalidation_0-error:0.136077\tvalidation_1-error:0.143662\n",
      "[41]\tvalidation_0-error:0.13603\tvalidation_1-error:0.142778\n",
      "[42]\tvalidation_0-error:0.135225\tvalidation_1-error:0.142226\n",
      "[43]\tvalidation_0-error:0.134893\tvalidation_1-error:0.142226\n",
      "[44]\tvalidation_0-error:0.134751\tvalidation_1-error:0.141452\n",
      "[45]\tvalidation_0-error:0.134609\tvalidation_1-error:0.140679\n",
      "[46]\tvalidation_0-error:0.134514\tvalidation_1-error:0.140458\n",
      "[47]\tvalidation_0-error:0.134656\tvalidation_1-error:0.141121\n",
      "[48]\tvalidation_0-error:0.134704\tvalidation_1-error:0.14101\n",
      "[49]\tvalidation_0-error:0.133993\tvalidation_1-error:0.1409\n",
      "[50]\tvalidation_0-error:0.133709\tvalidation_1-error:0.141231\n",
      "[51]\tvalidation_0-error:0.13352\tvalidation_1-error:0.141121\n",
      "[52]\tvalidation_0-error:0.133567\tvalidation_1-error:0.141121\n",
      "[53]\tvalidation_0-error:0.133188\tvalidation_1-error:0.140015\n",
      "[54]\tvalidation_0-error:0.132714\tvalidation_1-error:0.138689\n",
      "[55]\tvalidation_0-error:0.132572\tvalidation_1-error:0.138689\n",
      "[56]\tvalidation_0-error:0.132288\tvalidation_1-error:0.138137\n",
      "[57]\tvalidation_0-error:0.131909\tvalidation_1-error:0.137584\n",
      "[58]\tvalidation_0-error:0.132146\tvalidation_1-error:0.137032\n",
      "[59]\tvalidation_0-error:0.132099\tvalidation_1-error:0.137142\n",
      "[60]\tvalidation_0-error:0.131909\tvalidation_1-error:0.137032\n",
      "[61]\tvalidation_0-error:0.131388\tvalidation_1-error:0.137032\n",
      "[62]\tvalidation_0-error:0.131246\tvalidation_1-error:0.136811\n",
      "[63]\tvalidation_0-error:0.130915\tvalidation_1-error:0.136479\n",
      "[64]\tvalidation_0-error:0.130725\tvalidation_1-error:0.136258\n",
      "[65]\tvalidation_0-error:0.130536\tvalidation_1-error:0.136258\n",
      "[66]\tvalidation_0-error:0.130015\tvalidation_1-error:0.136037\n",
      "[67]\tvalidation_0-error:0.129778\tvalidation_1-error:0.136148\n",
      "[68]\tvalidation_0-error:0.128973\tvalidation_1-error:0.135595\n",
      "[69]\tvalidation_0-error:0.129115\tvalidation_1-error:0.135485\n",
      "[70]\tvalidation_0-error:0.129115\tvalidation_1-error:0.135816\n",
      "[71]\tvalidation_0-error:0.128973\tvalidation_1-error:0.135927\n",
      "[72]\tvalidation_0-error:0.128546\tvalidation_1-error:0.135374\n",
      "[73]\tvalidation_0-error:0.128262\tvalidation_1-error:0.135264\n",
      "[74]\tvalidation_0-error:0.12812\tvalidation_1-error:0.135374\n",
      "[75]\tvalidation_0-error:0.127978\tvalidation_1-error:0.135153\n",
      "[76]\tvalidation_0-error:0.127599\tvalidation_1-error:0.135374\n",
      "[77]\tvalidation_0-error:0.12741\tvalidation_1-error:0.134711\n",
      "[78]\tvalidation_0-error:0.127031\tvalidation_1-error:0.134048\n",
      "[79]\tvalidation_0-error:0.126841\tvalidation_1-error:0.134048\n",
      "[80]\tvalidation_0-error:0.126652\tvalidation_1-error:0.133716\n",
      "[81]\tvalidation_0-error:0.12632\tvalidation_1-error:0.133606\n",
      "[82]\tvalidation_0-error:0.125894\tvalidation_1-error:0.133716\n",
      "[83]\tvalidation_0-error:0.125894\tvalidation_1-error:0.133716\n",
      "[84]\tvalidation_0-error:0.125657\tvalidation_1-error:0.133495\n",
      "[85]\tvalidation_0-error:0.12561\tvalidation_1-error:0.132943\n",
      "[86]\tvalidation_0-error:0.12561\tvalidation_1-error:0.133164\n",
      "[87]\tvalidation_0-error:0.125468\tvalidation_1-error:0.133053\n",
      "[88]\tvalidation_0-error:0.12542\tvalidation_1-error:0.133053\n",
      "[89]\tvalidation_0-error:0.125278\tvalidation_1-error:0.133053\n",
      "[90]\tvalidation_0-error:0.125373\tvalidation_1-error:0.133164\n",
      "[91]\tvalidation_0-error:0.125184\tvalidation_1-error:0.133937\n",
      "[92]\tvalidation_0-error:0.125184\tvalidation_1-error:0.133385\n",
      "[93]\tvalidation_0-error:0.125184\tvalidation_1-error:0.133274\n",
      "[94]\tvalidation_0-error:0.124805\tvalidation_1-error:0.132832\n",
      "[95]\tvalidation_0-error:0.124663\tvalidation_1-error:0.132501\n",
      "[96]\tvalidation_0-error:0.124852\tvalidation_1-error:0.132501\n",
      "[97]\tvalidation_0-error:0.124899\tvalidation_1-error:0.132501\n",
      "[98]\tvalidation_0-error:0.124899\tvalidation_1-error:0.132611\n",
      "[99]\tvalidation_0-error:0.124663\tvalidation_1-error:0.13228\n",
      "[100]\tvalidation_0-error:0.12452\tvalidation_1-error:0.131948\n",
      "[101]\tvalidation_0-error:0.124378\tvalidation_1-error:0.13239\n",
      "[102]\tvalidation_0-error:0.124378\tvalidation_1-error:0.13228\n",
      "[103]\tvalidation_0-error:0.124473\tvalidation_1-error:0.131727\n",
      "[104]\tvalidation_0-error:0.124094\tvalidation_1-error:0.131617\n",
      "[105]\tvalidation_0-error:0.124142\tvalidation_1-error:0.131617\n",
      "[106]\tvalidation_0-error:0.123763\tvalidation_1-error:0.131617\n",
      "[107]\tvalidation_0-error:0.123621\tvalidation_1-error:0.131396\n",
      "[108]\tvalidation_0-error:0.123478\tvalidation_1-error:0.131396\n",
      "[109]\tvalidation_0-error:0.123478\tvalidation_1-error:0.131175\n",
      "[110]\tvalidation_0-error:0.123573\tvalidation_1-error:0.131617\n",
      "[111]\tvalidation_0-error:0.123431\tvalidation_1-error:0.131396\n",
      "[112]\tvalidation_0-error:0.123384\tvalidation_1-error:0.131285\n",
      "[113]\tvalidation_0-error:0.123289\tvalidation_1-error:0.131285\n",
      "[114]\tvalidation_0-error:0.123005\tvalidation_1-error:0.131506\n",
      "[115]\tvalidation_0-error:0.122863\tvalidation_1-error:0.131727\n",
      "[116]\tvalidation_0-error:0.122673\tvalidation_1-error:0.131838\n",
      "[117]\tvalidation_0-error:0.122626\tvalidation_1-error:0.131506\n",
      "[118]\tvalidation_0-error:0.122389\tvalidation_1-error:0.131285\n",
      "[119]\tvalidation_0-error:0.122389\tvalidation_1-error:0.131396\n",
      "[120]\tvalidation_0-error:0.122342\tvalidation_1-error:0.131396\n",
      "[121]\tvalidation_0-error:0.122057\tvalidation_1-error:0.131396\n",
      "[122]\tvalidation_0-error:0.1222\tvalidation_1-error:0.131396\n",
      "[123]\tvalidation_0-error:0.122057\tvalidation_1-error:0.131506\n",
      "[124]\tvalidation_0-error:0.12201\tvalidation_1-error:0.131285\n",
      "[125]\tvalidation_0-error:0.12201\tvalidation_1-error:0.131285\n",
      "[126]\tvalidation_0-error:0.121963\tvalidation_1-error:0.131285\n",
      "[127]\tvalidation_0-error:0.122152\tvalidation_1-error:0.131285\n",
      "[128]\tvalidation_0-error:0.122105\tvalidation_1-error:0.131285\n",
      "[129]\tvalidation_0-error:0.121915\tvalidation_1-error:0.131396\n",
      "[130]\tvalidation_0-error:0.121821\tvalidation_1-error:0.131617\n",
      "[131]\tvalidation_0-error:0.121726\tvalidation_1-error:0.131617\n"
     ]
    },
    {
     "name": "stdout",
     "output_type": "stream",
     "text": [
      "[132]\tvalidation_0-error:0.121584\tvalidation_1-error:0.131506\n",
      "[133]\tvalidation_0-error:0.121489\tvalidation_1-error:0.131506\n",
      "[134]\tvalidation_0-error:0.121489\tvalidation_1-error:0.131396\n",
      "[135]\tvalidation_0-error:0.121347\tvalidation_1-error:0.131617\n",
      "[136]\tvalidation_0-error:0.121205\tvalidation_1-error:0.131396\n",
      "[137]\tvalidation_0-error:0.121158\tvalidation_1-error:0.131396\n",
      "[138]\tvalidation_0-error:0.120968\tvalidation_1-error:0.131064\n",
      "[139]\tvalidation_0-error:0.121015\tvalidation_1-error:0.131064\n",
      "[140]\tvalidation_0-error:0.121015\tvalidation_1-error:0.130733\n",
      "[141]\tvalidation_0-error:0.120826\tvalidation_1-error:0.130733\n",
      "[142]\tvalidation_0-error:0.120826\tvalidation_1-error:0.130733\n",
      "[143]\tvalidation_0-error:0.120637\tvalidation_1-error:0.130401\n",
      "[144]\tvalidation_0-error:0.120447\tvalidation_1-error:0.130401\n",
      "[145]\tvalidation_0-error:0.120779\tvalidation_1-error:0.130291\n",
      "[146]\tvalidation_0-error:0.120873\tvalidation_1-error:0.130401\n",
      "[147]\tvalidation_0-error:0.120873\tvalidation_1-error:0.131064\n",
      "[148]\tvalidation_0-error:0.120684\tvalidation_1-error:0.130843\n",
      "[149]\tvalidation_0-error:0.120589\tvalidation_1-error:0.130733\n",
      "[150]\tvalidation_0-error:0.120589\tvalidation_1-error:0.131506\n",
      "[151]\tvalidation_0-error:0.120731\tvalidation_1-error:0.131396\n",
      "[152]\tvalidation_0-error:0.120542\tvalidation_1-error:0.131175\n",
      "[153]\tvalidation_0-error:0.120305\tvalidation_1-error:0.130954\n",
      "[154]\tvalidation_0-error:0.120116\tvalidation_1-error:0.130401\n",
      "[155]\tvalidation_0-error:0.120021\tvalidation_1-error:0.130401\n",
      "[156]\tvalidation_0-error:0.120021\tvalidation_1-error:0.130401\n",
      "[157]\tvalidation_0-error:0.120068\tvalidation_1-error:0.130291\n",
      "[158]\tvalidation_0-error:0.119926\tvalidation_1-error:0.129959\n",
      "[159]\tvalidation_0-error:0.119831\tvalidation_1-error:0.129849\n",
      "[160]\tvalidation_0-error:0.119737\tvalidation_1-error:0.13018\n",
      "[161]\tvalidation_0-error:0.119689\tvalidation_1-error:0.129738\n",
      "[162]\tvalidation_0-error:0.119547\tvalidation_1-error:0.129738\n",
      "[163]\tvalidation_0-error:0.119405\tvalidation_1-error:0.129738\n",
      "[164]\tvalidation_0-error:0.119405\tvalidation_1-error:0.13007\n",
      "[165]\tvalidation_0-error:0.119547\tvalidation_1-error:0.13007\n",
      "[166]\tvalidation_0-error:0.119358\tvalidation_1-error:0.129959\n",
      "[167]\tvalidation_0-error:0.119263\tvalidation_1-error:0.129849\n",
      "[168]\tvalidation_0-error:0.119074\tvalidation_1-error:0.129849\n",
      "[169]\tvalidation_0-error:0.118979\tvalidation_1-error:0.129738\n",
      "[170]\tvalidation_0-error:0.119074\tvalidation_1-error:0.129959\n",
      "[171]\tvalidation_0-error:0.119358\tvalidation_1-error:0.130733\n",
      "[172]\tvalidation_0-error:0.119121\tvalidation_1-error:0.130291\n",
      "[173]\tvalidation_0-error:0.119026\tvalidation_1-error:0.130401\n",
      "[174]\tvalidation_0-error:0.119074\tvalidation_1-error:0.130622\n",
      "[175]\tvalidation_0-error:0.11931\tvalidation_1-error:0.130843\n",
      "[176]\tvalidation_0-error:0.119074\tvalidation_1-error:0.130843\n",
      "[177]\tvalidation_0-error:0.119074\tvalidation_1-error:0.130733\n",
      "[178]\tvalidation_0-error:0.119026\tvalidation_1-error:0.130843\n",
      "[179]\tvalidation_0-error:0.118884\tvalidation_1-error:0.131175\n",
      "[180]\tvalidation_0-error:0.118742\tvalidation_1-error:0.131175\n",
      "[181]\tvalidation_0-error:0.118458\tvalidation_1-error:0.131064\n",
      "[182]\tvalidation_0-error:0.118647\tvalidation_1-error:0.131064\n",
      "[183]\tvalidation_0-error:0.118505\tvalidation_1-error:0.131396\n",
      "[184]\tvalidation_0-error:0.118363\tvalidation_1-error:0.130733\n",
      "[185]\tvalidation_0-error:0.118505\tvalidation_1-error:0.130733\n",
      "[186]\tvalidation_0-error:0.118553\tvalidation_1-error:0.130733\n",
      "[187]\tvalidation_0-error:0.118363\tvalidation_1-error:0.130622\n",
      "[188]\tvalidation_0-error:0.118221\tvalidation_1-error:0.130733\n",
      "[189]\tvalidation_0-error:0.118126\tvalidation_1-error:0.130622\n",
      "[190]\tvalidation_0-error:0.117842\tvalidation_1-error:0.130733\n",
      "[191]\tvalidation_0-error:0.117842\tvalidation_1-error:0.130843\n",
      "Stopping. Best iteration:\n",
      "[161]\tvalidation_0-error:0.119689\tvalidation_1-error:0.129738\n",
      "\n"
     ]
    },
    {
     "data": {
      "text/plain": [
       "XGBClassifier(base_score=0.5, booster='gbtree', colsample_bylevel=0.9,\n",
       "       colsample_bytree=0.9, gamma=0, learning_rate=0.1, max_delta_step=0,\n",
       "       max_depth=5, min_child_weight=1, missing=None, n_estimators=300,\n",
       "       n_jobs=1, nthread=None, objective='binary:logistic', random_state=0,\n",
       "       reg_alpha=0, reg_lambda=2, scale_pos_weight=1, seed=10, silent=True,\n",
       "       subsample=0.9, verbosity=1)"
      ]
     },
     "execution_count": 473,
     "metadata": {},
     "output_type": "execute_result"
    }
   ],
   "source": [
    "xgbCV.fit(X_train, y_train, eval_metric=['error'], eval_set=[(X_train, y_train),(X_test, y_test)],early_stopping_rounds=30)"
   ]
  },
  {
   "cell_type": "code",
   "execution_count": 474,
   "metadata": {},
   "outputs": [
    {
     "name": "stdout",
     "output_type": "stream",
     "text": [
      "XGBClassifier(base_score=0.5, booster='gbtree', colsample_bylevel=0.9,\n",
      "       colsample_bytree=0.9, gamma=0, learning_rate=0.1, max_delta_step=0,\n",
      "       max_depth=5, min_child_weight=1, missing=None, n_estimators=300,\n",
      "       n_jobs=1, nthread=None, objective='binary:logistic', random_state=0,\n",
      "       reg_alpha=0, reg_lambda=2, scale_pos_weight=1, seed=10, silent=True,\n",
      "       subsample=0.9, verbosity=1)\n",
      "confusion matrix of training data\n",
      "[[15083   817]\n",
      " [ 1710  3503]]\n",
      "confusion matrix of test data\n",
      "[[6356  398]\n",
      " [ 776 1519]]\n",
      "classification report of test data\n",
      "              precision    recall  f1-score   support\n",
      "\n",
      "           0       0.89      0.94      0.92      6754\n",
      "           1       0.79      0.66      0.72      2295\n",
      "\n",
      "   micro avg       0.87      0.87      0.87      9049\n",
      "   macro avg       0.84      0.80      0.82      9049\n",
      "weighted avg       0.87      0.87      0.87      9049\n",
      "\n",
      "Accuracy on test data: 87.026191%\n",
      "Accuracy on training data: 0.714394%\n",
      "Area under the ROC curve : 0.801473\n"
     ]
    }
   ],
   "source": [
    "show_classifier_metrics(xgbCV,y_train)"
   ]
  },
  {
   "cell_type": "code",
   "execution_count": 167,
   "metadata": {},
   "outputs": [],
   "source": [
    "#X_test.iloc[np.where(y_test != xgbCV.predict(X_test))]"
   ]
  },
  {
   "cell_type": "markdown",
   "metadata": {},
   "source": [
    "## Logistic regression"
   ]
  },
  {
   "cell_type": "code",
   "execution_count": 182,
   "metadata": {},
   "outputs": [],
   "source": [
    "from sklearn.linear_model import LogisticRegression"
   ]
  },
  {
   "cell_type": "code",
   "execution_count": 226,
   "metadata": {},
   "outputs": [
    {
     "name": "stderr",
     "output_type": "stream",
     "text": [
      "/Users/debashis/anaconda3/lib/python3.6/site-packages/sklearn/linear_model/logistic.py:433: FutureWarning: Default solver will be changed to 'lbfgs' in 0.22. Specify a solver to silence this warning.\n",
      "  FutureWarning)\n"
     ]
    },
    {
     "name": "stdout",
     "output_type": "stream",
     "text": [
      "[LibLinear]"
     ]
    },
    {
     "data": {
      "text/plain": [
       "LogisticRegression(C=0.8, class_weight=None, dual=False, fit_intercept=True,\n",
       "          intercept_scaling=1, max_iter=200, multi_class='warn',\n",
       "          n_jobs=None, penalty='l2', random_state=42, solver='warn',\n",
       "          tol=0.0001, verbose=3, warm_start=False)"
      ]
     },
     "execution_count": 226,
     "metadata": {},
     "output_type": "execute_result"
    }
   ],
   "source": [
    "logreg = LogisticRegression(C=0.8,random_state=42,max_iter=200)\n",
    "logreg.fit(X_train, y_train)"
   ]
  },
  {
   "cell_type": "code",
   "execution_count": 263,
   "metadata": {},
   "outputs": [
    {
     "name": "stdout",
     "output_type": "stream",
     "text": [
      "LogisticRegression(C=0.8, class_weight=None, dual=False, fit_intercept=True,\n",
      "          intercept_scaling=1, max_iter=200, multi_class='warn',\n",
      "          n_jobs=None, penalty='l2', random_state=42, solver='warn',\n",
      "          tol=0.0001, verbose=3, warm_start=False)\n",
      "confusion matrix of training data\n",
      "[[14776  1124]\n",
      " [ 2050  3163]]\n",
      "confusion matrix of test data\n",
      "[[6226  528]\n",
      " [ 905 1390]]\n",
      "classification report of test data\n",
      "              precision    recall  f1-score   support\n",
      "\n",
      "           0       0.87      0.92      0.90      6754\n",
      "           1       0.72      0.61      0.66      2295\n",
      "\n",
      "   micro avg       0.84      0.84      0.84      9049\n",
      "   macro avg       0.80      0.76      0.78      9049\n",
      "weighted avg       0.84      0.84      0.84      9049\n",
      "\n",
      "Accuracy on test data: 84.163996%\n",
      "Accuracy on training data: 0.699853%\n",
      "Area under the ROC curve : 0.763744\n"
     ]
    }
   ],
   "source": [
    "show_classifier_metrics(logreg,y_train)"
   ]
  },
  {
   "cell_type": "markdown",
   "metadata": {},
   "source": [
    "## Naive Bayes"
   ]
  },
  {
   "cell_type": "code",
   "execution_count": 281,
   "metadata": {},
   "outputs": [],
   "source": [
    "from sklearn.naive_bayes import GaussianNB"
   ]
  },
  {
   "cell_type": "code",
   "execution_count": 282,
   "metadata": {},
   "outputs": [],
   "source": [
    "NBmodel = GaussianNB()"
   ]
  },
  {
   "cell_type": "code",
   "execution_count": 425,
   "metadata": {},
   "outputs": [
    {
     "data": {
      "text/plain": [
       "GaussianNB(priors=None, var_smoothing=1e-09)"
      ]
     },
     "execution_count": 425,
     "metadata": {},
     "output_type": "execute_result"
    }
   ],
   "source": [
    "NBmodel.fit(X_train, y_train)"
   ]
  },
  {
   "cell_type": "code",
   "execution_count": 426,
   "metadata": {},
   "outputs": [
    {
     "data": {
      "text/plain": [
       "array([1, 0, 0, ..., 0, 0, 0])"
      ]
     },
     "execution_count": 426,
     "metadata": {},
     "output_type": "execute_result"
    }
   ],
   "source": [
    "NBmodel.predict(X_test)"
   ]
  },
  {
   "cell_type": "code",
   "execution_count": 427,
   "metadata": {},
   "outputs": [
    {
     "name": "stdout",
     "output_type": "stream",
     "text": [
      "GaussianNB(priors=None, var_smoothing=1e-09)\n",
      "confusion matrix of training data\n",
      "[[13445  2455]\n",
      " [ 1309  3904]]\n",
      "confusion matrix of test data\n",
      "[[5694 1060]\n",
      " [ 588 1707]]\n",
      "classification report of test data\n",
      "              precision    recall  f1-score   support\n",
      "\n",
      "           0       0.91      0.84      0.87      6754\n",
      "           1       0.62      0.74      0.67      2295\n",
      "\n",
      "   micro avg       0.82      0.82      0.82      9049\n",
      "   macro avg       0.76      0.79      0.77      9049\n",
      "weighted avg       0.83      0.82      0.82      9049\n",
      "\n",
      "Accuracy on test data: 81.788043%\n",
      "Accuracy on training data: 0.636811%\n",
      "Area under the ROC curve : 0.793423\n"
     ]
    }
   ],
   "source": [
    "show_classifier_metrics(NBmodel,y_train)"
   ]
  },
  {
   "cell_type": "markdown",
   "metadata": {},
   "source": [
    "### Stacked model"
   ]
  },
  {
   "cell_type": "code",
   "execution_count": 404,
   "metadata": {},
   "outputs": [],
   "source": [
    "def create_stacked_dataset(clfs,modelnames, X_train=X_train,X_test=X_test):\n",
    "    X_train_stack, X_test_stack = X_train, X_test\n",
    "    for clf,modelname in zip(clfs,modelnames):\n",
    "        temptrain = pd.DataFrame(clf.predict(X_train),index = X_train.index,columns=[modelname+'_prediction'])\n",
    "        temptest  = pd.DataFrame(clf.predict(X_test),index = X_test.index,columns=[modelname+'_prediction'])\n",
    "        X_train_stack = pd.concat([X_train_stack, temptrain], axis=1)\n",
    "        X_test_stack = pd.concat([X_test_stack, temptest], axis=1)\n",
    "    return (X_train_stack,X_test_stack)"
   ]
  },
  {
   "cell_type": "code",
   "execution_count": 485,
   "metadata": {},
   "outputs": [],
   "source": [
    "X_train_stack,X_test_stack = create_stacked_dataset([NBmodel,rfmodel,logreg,xgb],modelnames=['NBmodel','rfmodel','logreg','xgb'])"
   ]
  },
  {
   "cell_type": "code",
   "execution_count": 486,
   "metadata": {},
   "outputs": [
    {
     "data": {
      "text/html": [
       "<div>\n",
       "<style scoped>\n",
       "    .dataframe tbody tr th:only-of-type {\n",
       "        vertical-align: middle;\n",
       "    }\n",
       "\n",
       "    .dataframe tbody tr th {\n",
       "        vertical-align: top;\n",
       "    }\n",
       "\n",
       "    .dataframe thead th {\n",
       "        text-align: right;\n",
       "    }\n",
       "</style>\n",
       "<table border=\"1\" class=\"dataframe\">\n",
       "  <thead>\n",
       "    <tr style=\"text-align: right;\">\n",
       "      <th></th>\n",
       "      <th>age</th>\n",
       "      <th>education.num</th>\n",
       "      <th>capital.gain</th>\n",
       "      <th>capital.loss</th>\n",
       "      <th>hours.per.week</th>\n",
       "      <th>workclass_Local-gov</th>\n",
       "      <th>workclass_Private</th>\n",
       "      <th>workclass_Self-emp-inc</th>\n",
       "      <th>workclass_Self-emp-not-inc</th>\n",
       "      <th>workclass_State-gov</th>\n",
       "      <th>...</th>\n",
       "      <th>is_Priv-house-serv</th>\n",
       "      <th>is_Prof-specialty</th>\n",
       "      <th>is_Protective-serv</th>\n",
       "      <th>is_Sales</th>\n",
       "      <th>is_Tech-support</th>\n",
       "      <th>is_Transport-moving</th>\n",
       "      <th>NBmodel_prediction</th>\n",
       "      <th>rfmodel_prediction</th>\n",
       "      <th>logreg_prediction</th>\n",
       "      <th>xgb_prediction</th>\n",
       "    </tr>\n",
       "  </thead>\n",
       "  <tbody>\n",
       "    <tr>\n",
       "      <th>29235</th>\n",
       "      <td>59</td>\n",
       "      <td>9</td>\n",
       "      <td>0</td>\n",
       "      <td>0</td>\n",
       "      <td>40</td>\n",
       "      <td>0</td>\n",
       "      <td>1</td>\n",
       "      <td>0</td>\n",
       "      <td>0</td>\n",
       "      <td>0</td>\n",
       "      <td>...</td>\n",
       "      <td>0</td>\n",
       "      <td>0</td>\n",
       "      <td>0</td>\n",
       "      <td>0</td>\n",
       "      <td>0</td>\n",
       "      <td>0</td>\n",
       "      <td>0</td>\n",
       "      <td>0</td>\n",
       "      <td>0</td>\n",
       "      <td>0</td>\n",
       "    </tr>\n",
       "    <tr>\n",
       "      <th>14256</th>\n",
       "      <td>27</td>\n",
       "      <td>9</td>\n",
       "      <td>0</td>\n",
       "      <td>0</td>\n",
       "      <td>45</td>\n",
       "      <td>0</td>\n",
       "      <td>0</td>\n",
       "      <td>1</td>\n",
       "      <td>0</td>\n",
       "      <td>0</td>\n",
       "      <td>...</td>\n",
       "      <td>0</td>\n",
       "      <td>0</td>\n",
       "      <td>0</td>\n",
       "      <td>1</td>\n",
       "      <td>0</td>\n",
       "      <td>0</td>\n",
       "      <td>0</td>\n",
       "      <td>0</td>\n",
       "      <td>0</td>\n",
       "      <td>0</td>\n",
       "    </tr>\n",
       "  </tbody>\n",
       "</table>\n",
       "<p>2 rows × 44 columns</p>\n",
       "</div>"
      ],
      "text/plain": [
       "       age  education.num  capital.gain  capital.loss  hours.per.week  \\\n",
       "29235   59              9             0             0              40   \n",
       "14256   27              9             0             0              45   \n",
       "\n",
       "       workclass_Local-gov  workclass_Private  workclass_Self-emp-inc  \\\n",
       "29235                    0                  1                       0   \n",
       "14256                    0                  0                       1   \n",
       "\n",
       "       workclass_Self-emp-not-inc  workclass_State-gov  ...  \\\n",
       "29235                           0                    0  ...   \n",
       "14256                           0                    0  ...   \n",
       "\n",
       "       is_Priv-house-serv  is_Prof-specialty  is_Protective-serv  is_Sales  \\\n",
       "29235                   0                  0                   0         0   \n",
       "14256                   0                  0                   0         1   \n",
       "\n",
       "       is_Tech-support  is_Transport-moving  NBmodel_prediction  \\\n",
       "29235                0                    0                   0   \n",
       "14256                0                    0                   0   \n",
       "\n",
       "       rfmodel_prediction  logreg_prediction  xgb_prediction  \n",
       "29235                   0                  0               0  \n",
       "14256                   0                  0               0  \n",
       "\n",
       "[2 rows x 44 columns]"
      ]
     },
     "execution_count": 486,
     "metadata": {},
     "output_type": "execute_result"
    }
   ],
   "source": [
    "X_train_stack.head(2)"
   ]
  },
  {
   "cell_type": "code",
   "execution_count": 491,
   "metadata": {},
   "outputs": [
    {
     "name": "stdout",
     "output_type": "stream",
     "text": [
      "[0]\tvalidation_0-error:0.121158\tvalidation_1-error:0.129517\n",
      "Multiple eval metrics have been passed: 'validation_1-error' will be used for early stopping.\n",
      "\n",
      "Will train until validation_1-error hasn't improved in 30 rounds.\n",
      "[1]\tvalidation_0-error:0.123431\tvalidation_1-error:0.133827\n",
      "[2]\tvalidation_0-error:0.122768\tvalidation_1-error:0.130954\n",
      "[3]\tvalidation_0-error:0.122768\tvalidation_1-error:0.132169\n",
      "[4]\tvalidation_0-error:0.122247\tvalidation_1-error:0.130401\n",
      "[5]\tvalidation_0-error:0.121726\tvalidation_1-error:0.130512\n",
      "[6]\tvalidation_0-error:0.121205\tvalidation_1-error:0.129738\n",
      "[7]\tvalidation_0-error:0.1213\tvalidation_1-error:0.129959\n",
      "[8]\tvalidation_0-error:0.121252\tvalidation_1-error:0.129959\n",
      "[9]\tvalidation_0-error:0.1213\tvalidation_1-error:0.129849\n",
      "[10]\tvalidation_0-error:0.121347\tvalidation_1-error:0.129849\n",
      "[11]\tvalidation_0-error:0.121347\tvalidation_1-error:0.129849\n",
      "[12]\tvalidation_0-error:0.121394\tvalidation_1-error:0.129849\n",
      "[13]\tvalidation_0-error:0.121394\tvalidation_1-error:0.129959\n",
      "[14]\tvalidation_0-error:0.121205\tvalidation_1-error:0.129849\n",
      "[15]\tvalidation_0-error:0.121442\tvalidation_1-error:0.129959\n",
      "[16]\tvalidation_0-error:0.121347\tvalidation_1-error:0.129849\n",
      "[17]\tvalidation_0-error:0.1213\tvalidation_1-error:0.129849\n",
      "[18]\tvalidation_0-error:0.121394\tvalidation_1-error:0.129849\n",
      "[19]\tvalidation_0-error:0.121394\tvalidation_1-error:0.129849\n",
      "[20]\tvalidation_0-error:0.121394\tvalidation_1-error:0.129849\n",
      "[21]\tvalidation_0-error:0.121394\tvalidation_1-error:0.129849\n",
      "[22]\tvalidation_0-error:0.121394\tvalidation_1-error:0.129849\n",
      "[23]\tvalidation_0-error:0.121347\tvalidation_1-error:0.129849\n",
      "[24]\tvalidation_0-error:0.121347\tvalidation_1-error:0.129849\n",
      "[25]\tvalidation_0-error:0.121347\tvalidation_1-error:0.129849\n",
      "[26]\tvalidation_0-error:0.1213\tvalidation_1-error:0.129849\n",
      "[27]\tvalidation_0-error:0.1213\tvalidation_1-error:0.129849\n",
      "[28]\tvalidation_0-error:0.1213\tvalidation_1-error:0.129849\n",
      "[29]\tvalidation_0-error:0.121347\tvalidation_1-error:0.129738\n",
      "[30]\tvalidation_0-error:0.121347\tvalidation_1-error:0.129738\n",
      "Stopping. Best iteration:\n",
      "[0]\tvalidation_0-error:0.121158\tvalidation_1-error:0.129517\n",
      "\n"
     ]
    },
    {
     "data": {
      "text/plain": [
       "XGBClassifier(base_score=0.5, booster='gbtree', colsample_bylevel=0.9,\n",
       "       colsample_bytree=0.9, gamma=0, learning_rate=0.1, max_delta_step=0,\n",
       "       max_depth=5, min_child_weight=1, missing=None, n_estimators=400,\n",
       "       n_jobs=1, nthread=None, objective='binary:logistic', random_state=0,\n",
       "       reg_alpha=0, reg_lambda=1.5, scale_pos_weight=1, seed=10,\n",
       "       silent=True, subsample=0.9, verbosity=1)"
      ]
     },
     "execution_count": 491,
     "metadata": {},
     "output_type": "execute_result"
    }
   ],
   "source": [
    "param = {}\n",
    "param['learning_rate'] = 0.1\n",
    "param['verbosity'] = 1\n",
    "param['colsample_bylevel'] = 0.9\n",
    "param['colsample_bytree'] = 0.9\n",
    "param['subsample'] = 0.9\n",
    "param['reg_lambda']= 1.5\n",
    "param['max_depth'] = 5#10\n",
    "param['n_estimators'] = 400\n",
    "param['seed']=10\n",
    "xgbstack= XGBClassifier(**param)\n",
    "xgbstack.fit(X_train_stack, y_train, eval_metric=['error'], eval_set=[(X_train_stack, y_train),(X_test_stack, y_test)],early_stopping_rounds=30)\n"
   ]
  },
  {
   "cell_type": "code",
   "execution_count": 492,
   "metadata": {},
   "outputs": [
    {
     "name": "stdout",
     "output_type": "stream",
     "text": [
      "              precision    recall  f1-score   support\n",
      "\n",
      "           0       0.89      0.94      0.92      6754\n",
      "           1       0.80      0.66      0.72      2295\n",
      "\n",
      "   micro avg       0.87      0.87      0.87      9049\n",
      "   macro avg       0.84      0.80      0.82      9049\n",
      "weighted avg       0.87      0.87      0.87      9049\n",
      "\n",
      "Accuracy on test data: 87.048293%\n",
      "Accuracy on training data: 0.714015%\n"
     ]
    }
   ],
   "source": [
    "print(metrics.classification_report(y_test, xgbstack.predict(X_test_stack)))\n",
    "print('Accuracy on test data: %f%%' % (metrics.accuracy_score(y_test, xgbstack.predict(X_test_stack))*100))\n",
    "print('Accuracy on training data: %f%%' % (metrics.accuracy_score(y_train, xgbstack.predict(X_train_stack)*100)))"
   ]
  },
  {
   "cell_type": "markdown",
   "metadata": {},
   "source": [
    "### Stacked model Grid Search"
   ]
  },
  {
   "cell_type": "code",
   "execution_count": 470,
   "metadata": {},
   "outputs": [
    {
     "name": "stdout",
     "output_type": "stream",
     "text": [
      "Doing grid search\n",
      "Fitting 4 folds for each of 4 candidates, totalling 16 fits\n"
     ]
    },
    {
     "name": "stderr",
     "output_type": "stream",
     "text": [
      "[Parallel(n_jobs=-1)]: Using backend LokyBackend with 4 concurrent workers.\n",
      "[Parallel(n_jobs=-1)]: Done  16 out of  16 | elapsed:  2.0min finished\n"
     ]
    },
    {
     "name": "stdout",
     "output_type": "stream",
     "text": [
      "BEST {'colsample_bylevel': 0.9, 'colsample_bytree': 0.9, 'learning_rate': 0.1, 'max_depth': 5, 'n_estimators': 300, 'reg_lambda': 1.5, 'seed': 10, 'subsample': 0.9} 0.8669066451949036\n"
     ]
    }
   ],
   "source": [
    "xgbstackCV = XGBClassifier(seed=10)\n",
    "param_grid = {}\n",
    "param_grid['learning_rate'] = [0.1]\n",
    "param_grid['colsample_bylevel'] = [0.9]\n",
    "param_grid['colsample_bytree'] = [0.9]\n",
    "param_grid['subsample'] = [0.9]\n",
    "param_grid['n_estimators'] = [300]\n",
    "param_grid['reg_lambda']= [1.5]\n",
    "param_grid['seed'] =[10]\n",
    "param_grid['max_depth'] = [3,5,8,10]\n",
    "xgbstackCV_grid = grid_search(xgbstackCV, param_grid,X_train_stack,y_train)"
   ]
  },
  {
   "cell_type": "code",
   "execution_count": 475,
   "metadata": {},
   "outputs": [
    {
     "name": "stdout",
     "output_type": "stream",
     "text": [
      "[0]\tvalidation_0-error:0.175674\tvalidation_1-error:0.186761\n",
      "Multiple eval metrics have been passed: 'validation_1-error' will be used for early stopping.\n",
      "\n",
      "Will train until validation_1-error hasn't improved in 30 rounds.\n",
      "[1]\tvalidation_0-error:0.146876\tvalidation_1-error:0.155929\n",
      "[2]\tvalidation_0-error:0.145076\tvalidation_1-error:0.153387\n",
      "[3]\tvalidation_0-error:0.144745\tvalidation_1-error:0.152393\n",
      "[4]\tvalidation_0-error:0.144745\tvalidation_1-error:0.152503\n",
      "[5]\tvalidation_0-error:0.142377\tvalidation_1-error:0.150182\n",
      "[6]\tvalidation_0-error:0.140814\tvalidation_1-error:0.147972\n",
      "[7]\tvalidation_0-error:0.140956\tvalidation_1-error:0.147751\n",
      "[8]\tvalidation_0-error:0.140198\tvalidation_1-error:0.146867\n",
      "[9]\tvalidation_0-error:0.140719\tvalidation_1-error:0.147199\n",
      "[10]\tvalidation_0-error:0.141335\tvalidation_1-error:0.146204\n",
      "[11]\tvalidation_0-error:0.141382\tvalidation_1-error:0.146425\n",
      "[12]\tvalidation_0-error:0.141287\tvalidation_1-error:0.14742\n",
      "[13]\tvalidation_0-error:0.140435\tvalidation_1-error:0.145209\n",
      "[14]\tvalidation_0-error:0.141335\tvalidation_1-error:0.14753\n",
      "[15]\tvalidation_0-error:0.139819\tvalidation_1-error:0.145872\n",
      "[16]\tvalidation_0-error:0.138398\tvalidation_1-error:0.144878\n",
      "[17]\tvalidation_0-error:0.139156\tvalidation_1-error:0.144657\n",
      "[18]\tvalidation_0-error:0.138967\tvalidation_1-error:0.144767\n",
      "[19]\tvalidation_0-error:0.139014\tvalidation_1-error:0.145209\n",
      "[20]\tvalidation_0-error:0.138919\tvalidation_1-error:0.143994\n",
      "[21]\tvalidation_0-error:0.138161\tvalidation_1-error:0.143552\n",
      "[22]\tvalidation_0-error:0.137072\tvalidation_1-error:0.141784\n",
      "[23]\tvalidation_0-error:0.136977\tvalidation_1-error:0.142005\n",
      "[24]\tvalidation_0-error:0.136882\tvalidation_1-error:0.141784\n",
      "[25]\tvalidation_0-error:0.136693\tvalidation_1-error:0.141342\n",
      "[26]\tvalidation_0-error:0.135793\tvalidation_1-error:0.141231\n",
      "[27]\tvalidation_0-error:0.13584\tvalidation_1-error:0.141342\n",
      "[28]\tvalidation_0-error:0.134893\tvalidation_1-error:0.141452\n",
      "[29]\tvalidation_0-error:0.134846\tvalidation_1-error:0.14101\n",
      "[30]\tvalidation_0-error:0.135177\tvalidation_1-error:0.140789\n",
      "[31]\tvalidation_0-error:0.134988\tvalidation_1-error:0.140126\n",
      "[32]\tvalidation_0-error:0.135272\tvalidation_1-error:0.140568\n",
      "[33]\tvalidation_0-error:0.134704\tvalidation_1-error:0.140126\n",
      "[34]\tvalidation_0-error:0.134704\tvalidation_1-error:0.140015\n",
      "[35]\tvalidation_0-error:0.13442\tvalidation_1-error:0.139463\n",
      "[36]\tvalidation_0-error:0.134088\tvalidation_1-error:0.139794\n",
      "[37]\tvalidation_0-error:0.13423\tvalidation_1-error:0.139684\n",
      "[38]\tvalidation_0-error:0.134277\tvalidation_1-error:0.139573\n",
      "[39]\tvalidation_0-error:0.134135\tvalidation_1-error:0.139905\n",
      "[40]\tvalidation_0-error:0.134041\tvalidation_1-error:0.139242\n",
      "[41]\tvalidation_0-error:0.134372\tvalidation_1-error:0.139573\n",
      "[42]\tvalidation_0-error:0.134088\tvalidation_1-error:0.139352\n",
      "[43]\tvalidation_0-error:0.133614\tvalidation_1-error:0.139794\n",
      "[44]\tvalidation_0-error:0.133425\tvalidation_1-error:0.139905\n",
      "[45]\tvalidation_0-error:0.133425\tvalidation_1-error:0.139794\n",
      "[46]\tvalidation_0-error:0.133283\tvalidation_1-error:0.139684\n",
      "[47]\tvalidation_0-error:0.132857\tvalidation_1-error:0.13891\n",
      "[48]\tvalidation_0-error:0.132667\tvalidation_1-error:0.138579\n",
      "[49]\tvalidation_0-error:0.132999\tvalidation_1-error:0.13891\n",
      "[50]\tvalidation_0-error:0.132904\tvalidation_1-error:0.138689\n",
      "[51]\tvalidation_0-error:0.132857\tvalidation_1-error:0.138358\n",
      "[52]\tvalidation_0-error:0.132572\tvalidation_1-error:0.138468\n",
      "[53]\tvalidation_0-error:0.13243\tvalidation_1-error:0.138689\n",
      "[54]\tvalidation_0-error:0.13262\tvalidation_1-error:0.138689\n",
      "[55]\tvalidation_0-error:0.132383\tvalidation_1-error:0.138468\n",
      "[56]\tvalidation_0-error:0.131909\tvalidation_1-error:0.13891\n",
      "[57]\tvalidation_0-error:0.13153\tvalidation_1-error:0.138137\n",
      "[58]\tvalidation_0-error:0.131578\tvalidation_1-error:0.137695\n",
      "[59]\tvalidation_0-error:0.130725\tvalidation_1-error:0.137142\n",
      "[60]\tvalidation_0-error:0.130773\tvalidation_1-error:0.136921\n",
      "[61]\tvalidation_0-error:0.130394\tvalidation_1-error:0.136479\n",
      "[62]\tvalidation_0-error:0.130346\tvalidation_1-error:0.136479\n",
      "[63]\tvalidation_0-error:0.129873\tvalidation_1-error:0.136369\n",
      "[64]\tvalidation_0-error:0.12992\tvalidation_1-error:0.136258\n",
      "[65]\tvalidation_0-error:0.129446\tvalidation_1-error:0.135485\n",
      "[66]\tvalidation_0-error:0.129115\tvalidation_1-error:0.135374\n",
      "[67]\tvalidation_0-error:0.129115\tvalidation_1-error:0.135485\n",
      "[68]\tvalidation_0-error:0.128878\tvalidation_1-error:0.135374\n",
      "[69]\tvalidation_0-error:0.128783\tvalidation_1-error:0.135153\n",
      "[70]\tvalidation_0-error:0.128831\tvalidation_1-error:0.134822\n",
      "[71]\tvalidation_0-error:0.128831\tvalidation_1-error:0.134711\n",
      "[72]\tvalidation_0-error:0.128878\tvalidation_1-error:0.134711\n",
      "[73]\tvalidation_0-error:0.128736\tvalidation_1-error:0.13449\n",
      "[74]\tvalidation_0-error:0.128546\tvalidation_1-error:0.134379\n",
      "[75]\tvalidation_0-error:0.128546\tvalidation_1-error:0.13449\n",
      "[76]\tvalidation_0-error:0.12812\tvalidation_1-error:0.134379\n",
      "[77]\tvalidation_0-error:0.12812\tvalidation_1-error:0.133716\n",
      "[78]\tvalidation_0-error:0.127646\tvalidation_1-error:0.134269\n",
      "[79]\tvalidation_0-error:0.127457\tvalidation_1-error:0.134601\n",
      "[80]\tvalidation_0-error:0.12741\tvalidation_1-error:0.134158\n",
      "[81]\tvalidation_0-error:0.127599\tvalidation_1-error:0.134379\n",
      "[82]\tvalidation_0-error:0.127268\tvalidation_1-error:0.134711\n",
      "[83]\tvalidation_0-error:0.12722\tvalidation_1-error:0.134822\n",
      "[84]\tvalidation_0-error:0.126889\tvalidation_1-error:0.134711\n",
      "[85]\tvalidation_0-error:0.127173\tvalidation_1-error:0.134822\n",
      "[86]\tvalidation_0-error:0.126936\tvalidation_1-error:0.134269\n",
      "[87]\tvalidation_0-error:0.127078\tvalidation_1-error:0.134158\n",
      "[88]\tvalidation_0-error:0.127031\tvalidation_1-error:0.134601\n",
      "[89]\tvalidation_0-error:0.126841\tvalidation_1-error:0.134379\n",
      "[90]\tvalidation_0-error:0.126652\tvalidation_1-error:0.13449\n",
      "[91]\tvalidation_0-error:0.126794\tvalidation_1-error:0.134601\n",
      "[92]\tvalidation_0-error:0.12632\tvalidation_1-error:0.134158\n",
      "[93]\tvalidation_0-error:0.126368\tvalidation_1-error:0.134158\n",
      "[94]\tvalidation_0-error:0.126273\tvalidation_1-error:0.134048\n",
      "[95]\tvalidation_0-error:0.126368\tvalidation_1-error:0.133937\n",
      "[96]\tvalidation_0-error:0.126036\tvalidation_1-error:0.133937\n",
      "[97]\tvalidation_0-error:0.125989\tvalidation_1-error:0.133937\n",
      "[98]\tvalidation_0-error:0.125894\tvalidation_1-error:0.134048\n",
      "[99]\tvalidation_0-error:0.125468\tvalidation_1-error:0.134048\n",
      "[100]\tvalidation_0-error:0.125373\tvalidation_1-error:0.133274\n",
      "[101]\tvalidation_0-error:0.124994\tvalidation_1-error:0.133274\n",
      "[102]\tvalidation_0-error:0.124899\tvalidation_1-error:0.133053\n",
      "[103]\tvalidation_0-error:0.124663\tvalidation_1-error:0.132722\n",
      "[104]\tvalidation_0-error:0.124663\tvalidation_1-error:0.132501\n",
      "[105]\tvalidation_0-error:0.12452\tvalidation_1-error:0.132943\n",
      "[106]\tvalidation_0-error:0.124426\tvalidation_1-error:0.133053\n",
      "[107]\tvalidation_0-error:0.124426\tvalidation_1-error:0.132943\n",
      "[108]\tvalidation_0-error:0.124426\tvalidation_1-error:0.132832\n",
      "[109]\tvalidation_0-error:0.124473\tvalidation_1-error:0.133053\n",
      "[110]\tvalidation_0-error:0.124473\tvalidation_1-error:0.133053\n",
      "[111]\tvalidation_0-error:0.124378\tvalidation_1-error:0.132943\n",
      "[112]\tvalidation_0-error:0.124473\tvalidation_1-error:0.132832\n",
      "[113]\tvalidation_0-error:0.124284\tvalidation_1-error:0.133053\n",
      "[114]\tvalidation_0-error:0.124331\tvalidation_1-error:0.133164\n",
      "[115]\tvalidation_0-error:0.124284\tvalidation_1-error:0.132611\n",
      "[116]\tvalidation_0-error:0.123857\tvalidation_1-error:0.132611\n",
      "[117]\tvalidation_0-error:0.123999\tvalidation_1-error:0.132059\n",
      "[118]\tvalidation_0-error:0.123715\tvalidation_1-error:0.131838\n",
      "[119]\tvalidation_0-error:0.123621\tvalidation_1-error:0.131948\n",
      "[120]\tvalidation_0-error:0.123478\tvalidation_1-error:0.132059\n",
      "[121]\tvalidation_0-error:0.123289\tvalidation_1-error:0.131838\n",
      "[122]\tvalidation_0-error:0.123005\tvalidation_1-error:0.131617\n",
      "[123]\tvalidation_0-error:0.1231\tvalidation_1-error:0.131617\n",
      "[124]\tvalidation_0-error:0.122957\tvalidation_1-error:0.131617\n",
      "[125]\tvalidation_0-error:0.122768\tvalidation_1-error:0.131285\n",
      "[126]\tvalidation_0-error:0.122768\tvalidation_1-error:0.131617\n",
      "[127]\tvalidation_0-error:0.122673\tvalidation_1-error:0.131948\n",
      "[128]\tvalidation_0-error:0.122721\tvalidation_1-error:0.131506\n",
      "[129]\tvalidation_0-error:0.122721\tvalidation_1-error:0.131617\n",
      "[130]\tvalidation_0-error:0.122673\tvalidation_1-error:0.131727\n",
      "[131]\tvalidation_0-error:0.122579\tvalidation_1-error:0.132059\n"
     ]
    },
    {
     "name": "stdout",
     "output_type": "stream",
     "text": [
      "[132]\tvalidation_0-error:0.122484\tvalidation_1-error:0.132169\n",
      "[133]\tvalidation_0-error:0.122342\tvalidation_1-error:0.131838\n",
      "[134]\tvalidation_0-error:0.122342\tvalidation_1-error:0.131617\n",
      "[135]\tvalidation_0-error:0.121915\tvalidation_1-error:0.131285\n",
      "[136]\tvalidation_0-error:0.121915\tvalidation_1-error:0.131285\n",
      "[137]\tvalidation_0-error:0.121773\tvalidation_1-error:0.131617\n",
      "[138]\tvalidation_0-error:0.121489\tvalidation_1-error:0.13228\n",
      "[139]\tvalidation_0-error:0.121915\tvalidation_1-error:0.131948\n",
      "[140]\tvalidation_0-error:0.121679\tvalidation_1-error:0.131948\n",
      "[141]\tvalidation_0-error:0.121584\tvalidation_1-error:0.132169\n",
      "[142]\tvalidation_0-error:0.121394\tvalidation_1-error:0.131838\n",
      "[143]\tvalidation_0-error:0.1213\tvalidation_1-error:0.132169\n",
      "[144]\tvalidation_0-error:0.121205\tvalidation_1-error:0.132169\n",
      "[145]\tvalidation_0-error:0.121158\tvalidation_1-error:0.132611\n",
      "[146]\tvalidation_0-error:0.121063\tvalidation_1-error:0.132611\n",
      "[147]\tvalidation_0-error:0.120684\tvalidation_1-error:0.132169\n",
      "[148]\tvalidation_0-error:0.120684\tvalidation_1-error:0.132059\n",
      "[149]\tvalidation_0-error:0.120873\tvalidation_1-error:0.13228\n",
      "[150]\tvalidation_0-error:0.120589\tvalidation_1-error:0.131948\n",
      "[151]\tvalidation_0-error:0.120779\tvalidation_1-error:0.132169\n",
      "[152]\tvalidation_0-error:0.120779\tvalidation_1-error:0.132169\n",
      "[153]\tvalidation_0-error:0.120731\tvalidation_1-error:0.132059\n",
      "[154]\tvalidation_0-error:0.120494\tvalidation_1-error:0.131948\n",
      "[155]\tvalidation_0-error:0.120542\tvalidation_1-error:0.131727\n",
      "Stopping. Best iteration:\n",
      "[125]\tvalidation_0-error:0.122768\tvalidation_1-error:0.131285\n",
      "\n",
      "              precision    recall  f1-score   support\n",
      "\n",
      "           0       0.89      0.94      0.91      6754\n",
      "           1       0.78      0.67      0.72      2295\n",
      "\n",
      "   micro avg       0.87      0.87      0.87      9049\n",
      "   macro avg       0.84      0.80      0.82      9049\n",
      "weighted avg       0.86      0.87      0.87      9049\n",
      "\n",
      "Accuracy on test data: 86.871478%\n",
      "Accuracy on training data: 0.708663%\n"
     ]
    }
   ],
   "source": [
    "xgbstackCV_grid.fit(X_train_stack, y_train, eval_metric=['error'], eval_set=[(X_train_stack, y_train),(X_test_stack, y_test)],early_stopping_rounds=30)"
   ]
  },
  {
   "cell_type": "code",
   "execution_count": 479,
   "metadata": {},
   "outputs": [
    {
     "name": "stdout",
     "output_type": "stream",
     "text": [
      "              precision    recall  f1-score   support\n",
      "\n",
      "           0       0.89      0.94      0.91      6754\n",
      "           1       0.78      0.67      0.72      2295\n",
      "\n",
      "   micro avg       0.87      0.87      0.87      9049\n",
      "   macro avg       0.84      0.80      0.82      9049\n",
      "weighted avg       0.86      0.87      0.87      9049\n",
      "\n",
      "Accuracy on test data: 86.871478%\n",
      "Accuracy on training data: 0.708663%\n"
     ]
    }
   ],
   "source": [
    "print(metrics.classification_report(y_test, xgbstack.predict(X_test_stack)))\n",
    "print('Accuracy on test data: %f%%' % (metrics.accuracy_score(y_test, xgbstack.predict(X_test_stack))*100))\n",
    "print('Accuracy on training data: %f%%' % (metrics.accuracy_score(y_train, xgbstack.predict(X_train_stack)*100)))"
   ]
  },
  {
   "cell_type": "code",
   "execution_count": 508,
   "metadata": {},
   "outputs": [],
   "source": [
    "from catboost import CatBoostClassifier"
   ]
  },
  {
   "cell_type": "code",
   "execution_count": 558,
   "metadata": {},
   "outputs": [],
   "source": [
    "catb = CatBoostClassifier(learning_rate=0.1,iterations=400,verbose=1,random_seed=10,eval_metric='Accuracy',rsm=0.8)"
   ]
  },
  {
   "cell_type": "code",
   "execution_count": 559,
   "metadata": {},
   "outputs": [
    {
     "name": "stdout",
     "output_type": "stream",
     "text": [
      "0:\tlearn: 0.8450244\ttest: 0.8450244\ttest1: 0.8431871\tbest: 0.8431871 (0)\ttotal: 47.1ms\tremaining: 18.8s\n",
      "1:\tlearn: 0.8442192\ttest: 0.8442192\ttest1: 0.8399823\tbest: 0.8431871 (0)\ttotal: 90.5ms\tremaining: 18s\n",
      "2:\tlearn: 0.8448823\ttest: 0.8448823\ttest1: 0.8405349\tbest: 0.8431871 (0)\ttotal: 131ms\tremaining: 17.4s\n",
      "3:\tlearn: 0.8441718\ttest: 0.8441718\ttest1: 0.8395403\tbest: 0.8431871 (0)\ttotal: 177ms\tremaining: 17.5s\n",
      "4:\tlearn: 0.8458296\ttest: 0.8458296\ttest1: 0.8420820\tbest: 0.8431871 (0)\ttotal: 215ms\tremaining: 17s\n",
      "5:\tlearn: 0.8483399\ttest: 0.8483399\ttest1: 0.8447342\tbest: 0.8447342 (5)\ttotal: 265ms\tremaining: 17.4s\n",
      "6:\tlearn: 0.8493819\ttest: 0.8493819\ttest1: 0.8463919\tbest: 0.8463919 (6)\ttotal: 317ms\tremaining: 17.8s\n",
      "7:\tlearn: 0.8494766\ttest: 0.8494766\ttest1: 0.8468339\tbest: 0.8468339 (7)\ttotal: 362ms\tremaining: 17.8s\n",
      "8:\tlearn: 0.8502818\ttest: 0.8502818\ttest1: 0.8468339\tbest: 0.8468339 (7)\ttotal: 407ms\tremaining: 17.7s\n",
      "9:\tlearn: 0.8503292\ttest: 0.8503292\ttest1: 0.8478285\tbest: 0.8478285 (9)\ttotal: 454ms\tremaining: 17.7s\n",
      "10:\tlearn: 0.8505660\ttest: 0.8505660\ttest1: 0.8478285\tbest: 0.8478285 (9)\ttotal: 525ms\tremaining: 18.6s\n",
      "11:\tlearn: 0.8514659\ttest: 0.8514659\ttest1: 0.8479390\tbest: 0.8479390 (11)\ttotal: 567ms\tremaining: 18.3s\n",
      "12:\tlearn: 0.8524606\ttest: 0.8524606\ttest1: 0.8478285\tbest: 0.8479390 (11)\ttotal: 610ms\tremaining: 18.2s\n",
      "13:\tlearn: 0.8530289\ttest: 0.8530289\ttest1: 0.8479390\tbest: 0.8479390 (11)\ttotal: 664ms\tremaining: 18.3s\n",
      "14:\tlearn: 0.8527921\ttest: 0.8527921\ttest1: 0.8479390\tbest: 0.8479390 (11)\ttotal: 704ms\tremaining: 18.1s\n",
      "15:\tlearn: 0.8527921\ttest: 0.8527921\ttest1: 0.8478285\tbest: 0.8479390 (11)\ttotal: 758ms\tremaining: 18.2s\n",
      "16:\tlearn: 0.8528395\ttest: 0.8528395\ttest1: 0.8482705\tbest: 0.8482705 (16)\ttotal: 802ms\tremaining: 18.1s\n",
      "17:\tlearn: 0.8526974\ttest: 0.8526974\ttest1: 0.8481600\tbest: 0.8482705 (16)\ttotal: 843ms\tremaining: 17.9s\n",
      "18:\tlearn: 0.8530763\ttest: 0.8530763\ttest1: 0.8492651\tbest: 0.8492651 (18)\ttotal: 889ms\tremaining: 17.8s\n",
      "19:\tlearn: 0.8534079\ttest: 0.8534079\ttest1: 0.8493756\tbest: 0.8493756 (19)\ttotal: 933ms\tremaining: 17.7s\n",
      "20:\tlearn: 0.8541657\ttest: 0.8541657\ttest1: 0.8495966\tbest: 0.8495966 (20)\ttotal: 989ms\tremaining: 17.8s\n",
      "21:\tlearn: 0.8546393\ttest: 0.8546393\ttest1: 0.8501492\tbest: 0.8501492 (21)\ttotal: 1.03s\tremaining: 17.7s\n",
      "22:\tlearn: 0.8560129\ttest: 0.8560129\ttest1: 0.8515858\tbest: 0.8515858 (22)\ttotal: 1.07s\tremaining: 17.6s\n",
      "23:\tlearn: 0.8562971\ttest: 0.8562971\ttest1: 0.8518068\tbest: 0.8518068 (23)\ttotal: 1.11s\tremaining: 17.5s\n",
      "24:\tlearn: 0.8566286\ttest: 0.8566286\ttest1: 0.8521384\tbest: 0.8521384 (24)\ttotal: 1.16s\tremaining: 17.3s\n",
      "25:\tlearn: 0.8569602\ttest: 0.8569602\ttest1: 0.8530224\tbest: 0.8530224 (25)\ttotal: 1.22s\tremaining: 17.6s\n",
      "26:\tlearn: 0.8575759\ttest: 0.8575759\ttest1: 0.8526909\tbest: 0.8530224 (25)\ttotal: 1.26s\tremaining: 17.5s\n",
      "27:\tlearn: 0.8579075\ttest: 0.8579075\ttest1: 0.8531329\tbest: 0.8531329 (27)\ttotal: 1.32s\tremaining: 17.5s\n",
      "28:\tlearn: 0.8579075\ttest: 0.8579075\ttest1: 0.8534645\tbest: 0.8534645 (28)\ttotal: 1.39s\tremaining: 17.7s\n",
      "29:\tlearn: 0.8580022\ttest: 0.8580022\ttest1: 0.8537960\tbest: 0.8537960 (29)\ttotal: 1.47s\tremaining: 18.1s\n",
      "30:\tlearn: 0.8580022\ttest: 0.8580022\ttest1: 0.8540170\tbest: 0.8540170 (30)\ttotal: 1.52s\tremaining: 18.1s\n",
      "31:\tlearn: 0.8582390\ttest: 0.8582390\ttest1: 0.8535750\tbest: 0.8540170 (30)\ttotal: 1.57s\tremaining: 18.1s\n",
      "32:\tlearn: 0.8582864\ttest: 0.8582864\ttest1: 0.8546801\tbest: 0.8546801 (32)\ttotal: 1.62s\tremaining: 18s\n",
      "33:\tlearn: 0.8581916\ttest: 0.8581916\ttest1: 0.8553431\tbest: 0.8553431 (33)\ttotal: 1.66s\tremaining: 17.9s\n",
      "34:\tlearn: 0.8578127\ttest: 0.8578127\ttest1: 0.8553431\tbest: 0.8553431 (33)\ttotal: 1.72s\tremaining: 17.9s\n",
      "35:\tlearn: 0.8580022\ttest: 0.8580022\ttest1: 0.8549011\tbest: 0.8553431 (33)\ttotal: 1.77s\tremaining: 17.9s\n",
      "36:\tlearn: 0.8585705\ttest: 0.8585705\ttest1: 0.8556747\tbest: 0.8556747 (36)\ttotal: 1.87s\tremaining: 18.4s\n",
      "37:\tlearn: 0.8583337\ttest: 0.8583337\ttest1: 0.8561167\tbest: 0.8561167 (37)\ttotal: 1.91s\tremaining: 18.2s\n",
      "38:\tlearn: 0.8588074\ttest: 0.8588074\ttest1: 0.8563377\tbest: 0.8563377 (38)\ttotal: 1.99s\tremaining: 18.4s\n",
      "39:\tlearn: 0.8590442\ttest: 0.8590442\ttest1: 0.8563377\tbest: 0.8563377 (38)\ttotal: 2.03s\tremaining: 18.3s\n",
      "40:\tlearn: 0.8591863\ttest: 0.8591863\ttest1: 0.8563377\tbest: 0.8563377 (38)\ttotal: 2.08s\tremaining: 18.2s\n",
      "41:\tlearn: 0.8593284\ttest: 0.8593284\ttest1: 0.8566692\tbest: 0.8566692 (41)\ttotal: 2.13s\tremaining: 18.2s\n",
      "42:\tlearn: 0.8596126\ttest: 0.8596126\ttest1: 0.8571113\tbest: 0.8571113 (42)\ttotal: 2.19s\tremaining: 18.2s\n",
      "43:\tlearn: 0.8602757\ttest: 0.8602757\ttest1: 0.8567798\tbest: 0.8571113 (42)\ttotal: 2.26s\tremaining: 18.3s\n",
      "44:\tlearn: 0.8600388\ttest: 0.8600388\ttest1: 0.8570008\tbest: 0.8571113 (42)\ttotal: 2.32s\tremaining: 18.3s\n",
      "45:\tlearn: 0.8600388\ttest: 0.8600388\ttest1: 0.8570008\tbest: 0.8571113 (42)\ttotal: 2.38s\tremaining: 18.3s\n",
      "46:\tlearn: 0.8602283\ttest: 0.8602283\ttest1: 0.8570008\tbest: 0.8571113 (42)\ttotal: 2.42s\tremaining: 18.2s\n",
      "47:\tlearn: 0.8602283\ttest: 0.8602283\ttest1: 0.8574428\tbest: 0.8574428 (47)\ttotal: 2.48s\tremaining: 18.2s\n",
      "48:\tlearn: 0.8604651\ttest: 0.8604651\ttest1: 0.8573323\tbest: 0.8574428 (47)\ttotal: 2.54s\tremaining: 18.2s\n",
      "49:\tlearn: 0.8607019\ttest: 0.8607019\ttest1: 0.8578848\tbest: 0.8578848 (49)\ttotal: 2.61s\tremaining: 18.3s\n",
      "50:\tlearn: 0.8606546\ttest: 0.8606546\ttest1: 0.8576638\tbest: 0.8578848 (49)\ttotal: 2.66s\tremaining: 18.2s\n",
      "51:\tlearn: 0.8614124\ttest: 0.8614124\ttest1: 0.8588794\tbest: 0.8588794 (51)\ttotal: 2.75s\tremaining: 18.4s\n",
      "52:\tlearn: 0.8616966\ttest: 0.8616966\ttest1: 0.8587689\tbest: 0.8588794 (51)\ttotal: 2.81s\tremaining: 18.4s\n",
      "53:\tlearn: 0.8619808\ttest: 0.8619808\ttest1: 0.8599845\tbest: 0.8599845 (53)\ttotal: 2.87s\tremaining: 18.4s\n",
      "54:\tlearn: 0.8620755\ttest: 0.8620755\ttest1: 0.8599845\tbest: 0.8599845 (53)\ttotal: 2.94s\tremaining: 18.5s\n",
      "55:\tlearn: 0.8623123\ttest: 0.8623123\ttest1: 0.8596530\tbest: 0.8599845 (53)\ttotal: 3.04s\tremaining: 18.7s\n",
      "56:\tlearn: 0.8622650\ttest: 0.8622650\ttest1: 0.8597635\tbest: 0.8599845 (53)\ttotal: 3.09s\tremaining: 18.6s\n",
      "57:\tlearn: 0.8625018\ttest: 0.8625018\ttest1: 0.8597635\tbest: 0.8599845 (53)\ttotal: 3.22s\tremaining: 19s\n",
      "58:\tlearn: 0.8628333\ttest: 0.8628333\ttest1: 0.8593215\tbest: 0.8599845 (53)\ttotal: 3.28s\tremaining: 19s\n",
      "59:\tlearn: 0.8627386\ttest: 0.8627386\ttest1: 0.8595425\tbest: 0.8599845 (53)\ttotal: 3.33s\tremaining: 18.9s\n",
      "60:\tlearn: 0.8629754\ttest: 0.8629754\ttest1: 0.8596530\tbest: 0.8599845 (53)\ttotal: 3.38s\tremaining: 18.8s\n",
      "61:\tlearn: 0.8634017\ttest: 0.8634017\ttest1: 0.8599845\tbest: 0.8599845 (53)\ttotal: 3.42s\tremaining: 18.7s\n",
      "62:\tlearn: 0.8633070\ttest: 0.8633070\ttest1: 0.8598740\tbest: 0.8599845 (53)\ttotal: 3.46s\tremaining: 18.5s\n",
      "63:\tlearn: 0.8634017\ttest: 0.8634017\ttest1: 0.8600950\tbest: 0.8600950 (63)\ttotal: 3.52s\tremaining: 18.5s\n",
      "64:\tlearn: 0.8638280\ttest: 0.8638280\ttest1: 0.8603161\tbest: 0.8603161 (64)\ttotal: 3.56s\tremaining: 18.4s\n",
      "65:\tlearn: 0.8638280\ttest: 0.8638280\ttest1: 0.8600950\tbest: 0.8603161 (64)\ttotal: 3.64s\tremaining: 18.4s\n",
      "66:\tlearn: 0.8636859\ttest: 0.8636859\ttest1: 0.8600950\tbest: 0.8603161 (64)\ttotal: 3.73s\tremaining: 18.5s\n",
      "67:\tlearn: 0.8636385\ttest: 0.8636385\ttest1: 0.8604266\tbest: 0.8604266 (67)\ttotal: 3.8s\tremaining: 18.6s\n",
      "68:\tlearn: 0.8636385\ttest: 0.8636385\ttest1: 0.8600950\tbest: 0.8604266 (67)\ttotal: 3.86s\tremaining: 18.5s\n",
      "69:\tlearn: 0.8636385\ttest: 0.8636385\ttest1: 0.8605371\tbest: 0.8605371 (69)\ttotal: 3.91s\tremaining: 18.4s\n",
      "70:\tlearn: 0.8634017\ttest: 0.8634017\ttest1: 0.8606476\tbest: 0.8606476 (70)\ttotal: 3.95s\tremaining: 18.3s\n",
      "71:\tlearn: 0.8638753\ttest: 0.8638753\ttest1: 0.8604266\tbest: 0.8606476 (70)\ttotal: 3.99s\tremaining: 18.2s\n",
      "72:\tlearn: 0.8643490\ttest: 0.8643490\ttest1: 0.8610896\tbest: 0.8610896 (72)\ttotal: 4.07s\tremaining: 18.2s\n",
      "73:\tlearn: 0.8643490\ttest: 0.8643490\ttest1: 0.8610896\tbest: 0.8610896 (72)\ttotal: 4.12s\tremaining: 18.1s\n",
      "74:\tlearn: 0.8644437\ttest: 0.8644437\ttest1: 0.8608686\tbest: 0.8610896 (72)\ttotal: 4.2s\tremaining: 18.2s\n",
      "75:\tlearn: 0.8646332\ttest: 0.8646332\ttest1: 0.8613106\tbest: 0.8613106 (75)\ttotal: 4.28s\tremaining: 18.3s\n",
      "76:\tlearn: 0.8644911\ttest: 0.8644911\ttest1: 0.8613106\tbest: 0.8613106 (75)\ttotal: 4.34s\tremaining: 18.2s\n",
      "77:\tlearn: 0.8644911\ttest: 0.8644911\ttest1: 0.8612001\tbest: 0.8613106 (75)\ttotal: 4.41s\tremaining: 18.2s\n",
      "78:\tlearn: 0.8643490\ttest: 0.8643490\ttest1: 0.8608686\tbest: 0.8613106 (75)\ttotal: 4.46s\tremaining: 18.1s\n",
      "79:\tlearn: 0.8646805\ttest: 0.8646805\ttest1: 0.8615317\tbest: 0.8615317 (79)\ttotal: 4.52s\tremaining: 18.1s\n",
      "80:\tlearn: 0.8646805\ttest: 0.8646805\ttest1: 0.8613106\tbest: 0.8615317 (79)\ttotal: 4.57s\tremaining: 18s\n"
     ]
    },
    {
     "name": "stdout",
     "output_type": "stream",
     "text": [
      "81:\tlearn: 0.8647279\ttest: 0.8647279\ttest1: 0.8614212\tbest: 0.8615317 (79)\ttotal: 4.65s\tremaining: 18s\n",
      "82:\tlearn: 0.8649173\ttest: 0.8649173\ttest1: 0.8615317\tbest: 0.8615317 (79)\ttotal: 4.73s\tremaining: 18.1s\n",
      "83:\tlearn: 0.8650121\ttest: 0.8650121\ttest1: 0.8615317\tbest: 0.8615317 (79)\ttotal: 4.78s\tremaining: 18s\n",
      "84:\tlearn: 0.8648700\ttest: 0.8648700\ttest1: 0.8607581\tbest: 0.8615317 (79)\ttotal: 4.84s\tremaining: 17.9s\n",
      "85:\tlearn: 0.8649173\ttest: 0.8649173\ttest1: 0.8612001\tbest: 0.8615317 (79)\ttotal: 4.91s\tremaining: 17.9s\n",
      "86:\tlearn: 0.8649173\ttest: 0.8649173\ttest1: 0.8614212\tbest: 0.8615317 (79)\ttotal: 4.97s\tremaining: 17.9s\n",
      "87:\tlearn: 0.8652015\ttest: 0.8652015\ttest1: 0.8615317\tbest: 0.8615317 (79)\ttotal: 5.05s\tremaining: 17.9s\n",
      "88:\tlearn: 0.8652015\ttest: 0.8652015\ttest1: 0.8614212\tbest: 0.8615317 (79)\ttotal: 5.1s\tremaining: 17.8s\n",
      "89:\tlearn: 0.8650121\ttest: 0.8650121\ttest1: 0.8610896\tbest: 0.8615317 (79)\ttotal: 5.16s\tremaining: 17.8s\n",
      "90:\tlearn: 0.8649173\ttest: 0.8649173\ttest1: 0.8608686\tbest: 0.8615317 (79)\ttotal: 5.21s\tremaining: 17.7s\n",
      "91:\tlearn: 0.8653910\ttest: 0.8653910\ttest1: 0.8613106\tbest: 0.8615317 (79)\ttotal: 5.25s\tremaining: 17.6s\n",
      "92:\tlearn: 0.8654857\ttest: 0.8654857\ttest1: 0.8616422\tbest: 0.8616422 (92)\ttotal: 5.29s\tremaining: 17.5s\n",
      "93:\tlearn: 0.8652963\ttest: 0.8652963\ttest1: 0.8616422\tbest: 0.8616422 (92)\ttotal: 5.33s\tremaining: 17.4s\n",
      "94:\tlearn: 0.8654384\ttest: 0.8654384\ttest1: 0.8615317\tbest: 0.8616422 (92)\ttotal: 5.38s\tremaining: 17.3s\n",
      "95:\tlearn: 0.8656752\ttest: 0.8656752\ttest1: 0.8627473\tbest: 0.8627473 (95)\ttotal: 5.43s\tremaining: 17.2s\n",
      "96:\tlearn: 0.8660541\ttest: 0.8660541\ttest1: 0.8629683\tbest: 0.8629683 (96)\ttotal: 5.47s\tremaining: 17.1s\n",
      "97:\tlearn: 0.8662435\ttest: 0.8662435\ttest1: 0.8627473\tbest: 0.8629683 (96)\ttotal: 5.51s\tremaining: 17s\n",
      "98:\tlearn: 0.8663383\ttest: 0.8663383\ttest1: 0.8625262\tbest: 0.8629683 (96)\ttotal: 5.69s\tremaining: 17.3s\n",
      "99:\tlearn: 0.8661488\ttest: 0.8661488\ttest1: 0.8627473\tbest: 0.8629683 (96)\ttotal: 5.84s\tremaining: 17.5s\n",
      "100:\tlearn: 0.8661488\ttest: 0.8661488\ttest1: 0.8629683\tbest: 0.8629683 (96)\ttotal: 5.89s\tremaining: 17.4s\n",
      "101:\tlearn: 0.8662909\ttest: 0.8662909\ttest1: 0.8627473\tbest: 0.8629683 (96)\ttotal: 5.94s\tremaining: 17.3s\n",
      "102:\tlearn: 0.8662909\ttest: 0.8662909\ttest1: 0.8632998\tbest: 0.8632998 (102)\ttotal: 5.98s\tremaining: 17.2s\n",
      "103:\tlearn: 0.8663856\ttest: 0.8663856\ttest1: 0.8636313\tbest: 0.8636313 (103)\ttotal: 6.09s\tremaining: 17.4s\n",
      "104:\tlearn: 0.8664804\ttest: 0.8664804\ttest1: 0.8642944\tbest: 0.8642944 (104)\ttotal: 6.17s\tremaining: 17.3s\n",
      "105:\tlearn: 0.8667172\ttest: 0.8667172\ttest1: 0.8639629\tbest: 0.8642944 (104)\ttotal: 6.22s\tremaining: 17.2s\n",
      "106:\tlearn: 0.8667172\ttest: 0.8667172\ttest1: 0.8640734\tbest: 0.8642944 (104)\ttotal: 6.28s\tremaining: 17.2s\n",
      "107:\tlearn: 0.8668119\ttest: 0.8668119\ttest1: 0.8649575\tbest: 0.8649575 (107)\ttotal: 6.32s\tremaining: 17.1s\n",
      "108:\tlearn: 0.8668119\ttest: 0.8668119\ttest1: 0.8644049\tbest: 0.8649575 (107)\ttotal: 6.37s\tremaining: 17s\n",
      "109:\tlearn: 0.8670014\ttest: 0.8670014\ttest1: 0.8644049\tbest: 0.8649575 (107)\ttotal: 6.42s\tremaining: 16.9s\n",
      "110:\tlearn: 0.8672856\ttest: 0.8672856\ttest1: 0.8642944\tbest: 0.8649575 (107)\ttotal: 6.46s\tremaining: 16.8s\n",
      "111:\tlearn: 0.8673803\ttest: 0.8673803\ttest1: 0.8642944\tbest: 0.8649575 (107)\ttotal: 6.52s\tremaining: 16.8s\n",
      "112:\tlearn: 0.8673803\ttest: 0.8673803\ttest1: 0.8644049\tbest: 0.8649575 (107)\ttotal: 6.57s\tremaining: 16.7s\n",
      "113:\tlearn: 0.8675697\ttest: 0.8675697\ttest1: 0.8647364\tbest: 0.8649575 (107)\ttotal: 6.62s\tremaining: 16.6s\n",
      "114:\tlearn: 0.8676645\ttest: 0.8676645\ttest1: 0.8646259\tbest: 0.8649575 (107)\ttotal: 6.67s\tremaining: 16.5s\n",
      "115:\tlearn: 0.8677118\ttest: 0.8677118\ttest1: 0.8644049\tbest: 0.8649575 (107)\ttotal: 6.71s\tremaining: 16.4s\n",
      "116:\tlearn: 0.8678066\ttest: 0.8678066\ttest1: 0.8640734\tbest: 0.8649575 (107)\ttotal: 6.76s\tremaining: 16.4s\n",
      "117:\tlearn: 0.8678066\ttest: 0.8678066\ttest1: 0.8647364\tbest: 0.8649575 (107)\ttotal: 6.81s\tremaining: 16.3s\n",
      "118:\tlearn: 0.8678539\ttest: 0.8678539\ttest1: 0.8647364\tbest: 0.8649575 (107)\ttotal: 6.85s\tremaining: 16.2s\n",
      "119:\tlearn: 0.8678539\ttest: 0.8678539\ttest1: 0.8648469\tbest: 0.8649575 (107)\ttotal: 6.89s\tremaining: 16.1s\n",
      "120:\tlearn: 0.8678539\ttest: 0.8678539\ttest1: 0.8650680\tbest: 0.8650680 (120)\ttotal: 6.93s\tremaining: 16s\n",
      "121:\tlearn: 0.8679013\ttest: 0.8679013\ttest1: 0.8650680\tbest: 0.8650680 (120)\ttotal: 7.04s\tremaining: 16s\n",
      "122:\tlearn: 0.8678066\ttest: 0.8678066\ttest1: 0.8651785\tbest: 0.8651785 (122)\ttotal: 7.13s\tremaining: 16.1s\n",
      "123:\tlearn: 0.8678066\ttest: 0.8678066\ttest1: 0.8651785\tbest: 0.8651785 (122)\ttotal: 7.18s\tremaining: 16s\n",
      "124:\tlearn: 0.8679487\ttest: 0.8679487\ttest1: 0.8650680\tbest: 0.8651785 (122)\ttotal: 7.25s\tremaining: 16s\n",
      "125:\tlearn: 0.8679487\ttest: 0.8679487\ttest1: 0.8650680\tbest: 0.8651785 (122)\ttotal: 7.34s\tremaining: 16s\n",
      "126:\tlearn: 0.8680434\ttest: 0.8680434\ttest1: 0.8651785\tbest: 0.8651785 (122)\ttotal: 7.42s\tremaining: 16s\n",
      "127:\tlearn: 0.8681381\ttest: 0.8681381\ttest1: 0.8650680\tbest: 0.8651785 (122)\ttotal: 7.51s\tremaining: 16s\n",
      "128:\tlearn: 0.8684697\ttest: 0.8684697\ttest1: 0.8648469\tbest: 0.8651785 (122)\ttotal: 7.59s\tremaining: 16s\n",
      "129:\tlearn: 0.8684223\ttest: 0.8684223\ttest1: 0.8648469\tbest: 0.8651785 (122)\ttotal: 7.67s\tremaining: 15.9s\n",
      "130:\tlearn: 0.8685644\ttest: 0.8685644\ttest1: 0.8645154\tbest: 0.8651785 (122)\ttotal: 7.77s\tremaining: 15.9s\n",
      "131:\tlearn: 0.8687065\ttest: 0.8687065\ttest1: 0.8650680\tbest: 0.8651785 (122)\ttotal: 7.85s\tremaining: 15.9s\n",
      "132:\tlearn: 0.8688959\ttest: 0.8688959\ttest1: 0.8649575\tbest: 0.8651785 (122)\ttotal: 7.91s\tremaining: 15.9s\n",
      "133:\tlearn: 0.8689433\ttest: 0.8689433\ttest1: 0.8649575\tbest: 0.8651785 (122)\ttotal: 7.94s\tremaining: 15.8s\n",
      "134:\tlearn: 0.8691801\ttest: 0.8691801\ttest1: 0.8650680\tbest: 0.8651785 (122)\ttotal: 7.98s\tremaining: 15.7s\n",
      "135:\tlearn: 0.8697959\ttest: 0.8697959\ttest1: 0.8660625\tbest: 0.8660625 (135)\ttotal: 8.03s\tremaining: 15.6s\n",
      "136:\tlearn: 0.8700327\ttest: 0.8700327\ttest1: 0.8666151\tbest: 0.8666151 (136)\ttotal: 8.08s\tremaining: 15.5s\n",
      "137:\tlearn: 0.8700800\ttest: 0.8700800\ttest1: 0.8666151\tbest: 0.8666151 (136)\ttotal: 8.12s\tremaining: 15.4s\n",
      "138:\tlearn: 0.8701748\ttest: 0.8701748\ttest1: 0.8662836\tbest: 0.8666151 (136)\ttotal: 8.17s\tremaining: 15.3s\n",
      "139:\tlearn: 0.8701274\ttest: 0.8701274\ttest1: 0.8662836\tbest: 0.8666151 (136)\ttotal: 8.21s\tremaining: 15.2s\n",
      "140:\tlearn: 0.8705537\ttest: 0.8705537\ttest1: 0.8660625\tbest: 0.8666151 (136)\ttotal: 8.25s\tremaining: 15.2s\n",
      "141:\tlearn: 0.8708852\ttest: 0.8708852\ttest1: 0.8660625\tbest: 0.8666151 (136)\ttotal: 8.3s\tremaining: 15.1s\n",
      "142:\tlearn: 0.8707431\ttest: 0.8707431\ttest1: 0.8657310\tbest: 0.8666151 (136)\ttotal: 8.34s\tremaining: 15s\n",
      "143:\tlearn: 0.8706484\ttest: 0.8706484\ttest1: 0.8656205\tbest: 0.8666151 (136)\ttotal: 8.4s\tremaining: 14.9s\n",
      "144:\tlearn: 0.8707905\ttest: 0.8707905\ttest1: 0.8657310\tbest: 0.8666151 (136)\ttotal: 8.52s\tremaining: 15s\n",
      "145:\tlearn: 0.8708852\ttest: 0.8708852\ttest1: 0.8661731\tbest: 0.8666151 (136)\ttotal: 8.61s\tremaining: 15s\n",
      "146:\tlearn: 0.8709800\ttest: 0.8709800\ttest1: 0.8661731\tbest: 0.8666151 (136)\ttotal: 8.69s\tremaining: 15s\n",
      "147:\tlearn: 0.8710747\ttest: 0.8710747\ttest1: 0.8663941\tbest: 0.8666151 (136)\ttotal: 8.76s\tremaining: 14.9s\n",
      "148:\tlearn: 0.8711221\ttest: 0.8711221\ttest1: 0.8663941\tbest: 0.8666151 (136)\ttotal: 8.8s\tremaining: 14.8s\n",
      "149:\tlearn: 0.8713115\ttest: 0.8713115\ttest1: 0.8667256\tbest: 0.8667256 (149)\ttotal: 8.85s\tremaining: 14.7s\n",
      "150:\tlearn: 0.8715010\ttest: 0.8715010\ttest1: 0.8670571\tbest: 0.8670571 (150)\ttotal: 8.89s\tremaining: 14.7s\n",
      "151:\tlearn: 0.8713115\ttest: 0.8713115\ttest1: 0.8671676\tbest: 0.8671676 (151)\ttotal: 8.94s\tremaining: 14.6s\n",
      "152:\tlearn: 0.8716904\ttest: 0.8716904\ttest1: 0.8672782\tbest: 0.8672782 (152)\ttotal: 8.98s\tremaining: 14.5s\n",
      "153:\tlearn: 0.8717378\ttest: 0.8717378\ttest1: 0.8674992\tbest: 0.8674992 (153)\ttotal: 9.03s\tremaining: 14.4s\n",
      "154:\tlearn: 0.8716904\ttest: 0.8716904\ttest1: 0.8674992\tbest: 0.8674992 (153)\ttotal: 9.07s\tremaining: 14.3s\n",
      "155:\tlearn: 0.8721167\ttest: 0.8721167\ttest1: 0.8676097\tbest: 0.8676097 (155)\ttotal: 9.11s\tremaining: 14.3s\n",
      "156:\tlearn: 0.8721641\ttest: 0.8721641\ttest1: 0.8676097\tbest: 0.8676097 (155)\ttotal: 9.15s\tremaining: 14.2s\n",
      "157:\tlearn: 0.8722588\ttest: 0.8722588\ttest1: 0.8677202\tbest: 0.8677202 (157)\ttotal: 9.2s\tremaining: 14.1s\n",
      "158:\tlearn: 0.8723535\ttest: 0.8723535\ttest1: 0.8676097\tbest: 0.8677202 (157)\ttotal: 9.25s\tremaining: 14s\n",
      "159:\tlearn: 0.8724483\ttest: 0.8724483\ttest1: 0.8679412\tbest: 0.8679412 (159)\ttotal: 9.3s\tremaining: 13.9s\n",
      "160:\tlearn: 0.8724483\ttest: 0.8724483\ttest1: 0.8680517\tbest: 0.8680517 (160)\ttotal: 9.34s\tremaining: 13.9s\n",
      "161:\tlearn: 0.8724956\ttest: 0.8724956\ttest1: 0.8682727\tbest: 0.8682727 (161)\ttotal: 9.39s\tremaining: 13.8s\n"
     ]
    },
    {
     "name": "stdout",
     "output_type": "stream",
     "text": [
      "162:\tlearn: 0.8726377\ttest: 0.8726377\ttest1: 0.8682727\tbest: 0.8682727 (161)\ttotal: 9.44s\tremaining: 13.7s\n",
      "163:\tlearn: 0.8724483\ttest: 0.8724483\ttest1: 0.8680517\tbest: 0.8682727 (161)\ttotal: 9.48s\tremaining: 13.6s\n",
      "164:\tlearn: 0.8724956\ttest: 0.8724956\ttest1: 0.8682727\tbest: 0.8682727 (161)\ttotal: 9.56s\tremaining: 13.6s\n",
      "165:\tlearn: 0.8725430\ttest: 0.8725430\ttest1: 0.8682727\tbest: 0.8682727 (161)\ttotal: 9.62s\tremaining: 13.6s\n",
      "166:\tlearn: 0.8725903\ttest: 0.8725903\ttest1: 0.8682727\tbest: 0.8682727 (161)\ttotal: 9.69s\tremaining: 13.5s\n",
      "167:\tlearn: 0.8725903\ttest: 0.8725903\ttest1: 0.8682727\tbest: 0.8682727 (161)\ttotal: 9.75s\tremaining: 13.5s\n",
      "168:\tlearn: 0.8725903\ttest: 0.8725903\ttest1: 0.8688253\tbest: 0.8688253 (168)\ttotal: 9.81s\tremaining: 13.4s\n",
      "169:\tlearn: 0.8728272\ttest: 0.8728272\ttest1: 0.8688253\tbest: 0.8688253 (168)\ttotal: 9.87s\tremaining: 13.3s\n",
      "170:\tlearn: 0.8729693\ttest: 0.8729693\ttest1: 0.8688253\tbest: 0.8688253 (168)\ttotal: 9.93s\tremaining: 13.3s\n",
      "171:\tlearn: 0.8729693\ttest: 0.8729693\ttest1: 0.8688253\tbest: 0.8688253 (168)\ttotal: 9.98s\tremaining: 13.2s\n",
      "172:\tlearn: 0.8729693\ttest: 0.8729693\ttest1: 0.8683832\tbest: 0.8688253 (168)\ttotal: 10s\tremaining: 13.2s\n",
      "173:\tlearn: 0.8730640\ttest: 0.8730640\ttest1: 0.8682727\tbest: 0.8688253 (168)\ttotal: 10.1s\tremaining: 13.1s\n",
      "174:\tlearn: 0.8730640\ttest: 0.8730640\ttest1: 0.8682727\tbest: 0.8688253 (168)\ttotal: 10.1s\tremaining: 13s\n",
      "175:\tlearn: 0.8731587\ttest: 0.8731587\ttest1: 0.8683832\tbest: 0.8688253 (168)\ttotal: 10.2s\tremaining: 13s\n",
      "176:\tlearn: 0.8731587\ttest: 0.8731587\ttest1: 0.8684938\tbest: 0.8688253 (168)\ttotal: 10.2s\tremaining: 12.9s\n",
      "177:\tlearn: 0.8731114\ttest: 0.8731114\ttest1: 0.8684938\tbest: 0.8688253 (168)\ttotal: 10.3s\tremaining: 12.8s\n",
      "178:\tlearn: 0.8731114\ttest: 0.8731114\ttest1: 0.8682727\tbest: 0.8688253 (168)\ttotal: 10.4s\tremaining: 12.8s\n",
      "179:\tlearn: 0.8731114\ttest: 0.8731114\ttest1: 0.8684938\tbest: 0.8688253 (168)\ttotal: 10.4s\tremaining: 12.7s\n",
      "180:\tlearn: 0.8731114\ttest: 0.8731114\ttest1: 0.8687148\tbest: 0.8688253 (168)\ttotal: 10.5s\tremaining: 12.7s\n",
      "181:\tlearn: 0.8729693\ttest: 0.8729693\ttest1: 0.8688253\tbest: 0.8688253 (168)\ttotal: 10.5s\tremaining: 12.6s\n",
      "182:\tlearn: 0.8729693\ttest: 0.8729693\ttest1: 0.8684938\tbest: 0.8688253 (168)\ttotal: 10.6s\tremaining: 12.5s\n",
      "183:\tlearn: 0.8729693\ttest: 0.8729693\ttest1: 0.8689358\tbest: 0.8689358 (183)\ttotal: 10.6s\tremaining: 12.5s\n",
      "184:\tlearn: 0.8729693\ttest: 0.8729693\ttest1: 0.8690463\tbest: 0.8690463 (184)\ttotal: 10.7s\tremaining: 12.4s\n",
      "185:\tlearn: 0.8728745\ttest: 0.8728745\ttest1: 0.8691568\tbest: 0.8691568 (185)\ttotal: 10.7s\tremaining: 12.3s\n",
      "186:\tlearn: 0.8729219\ttest: 0.8729219\ttest1: 0.8691568\tbest: 0.8691568 (185)\ttotal: 10.8s\tremaining: 12.3s\n",
      "187:\tlearn: 0.8729219\ttest: 0.8729219\ttest1: 0.8691568\tbest: 0.8691568 (185)\ttotal: 10.8s\tremaining: 12.2s\n",
      "188:\tlearn: 0.8729219\ttest: 0.8729219\ttest1: 0.8692673\tbest: 0.8692673 (188)\ttotal: 10.9s\tremaining: 12.1s\n",
      "189:\tlearn: 0.8729219\ttest: 0.8729219\ttest1: 0.8690463\tbest: 0.8692673 (188)\ttotal: 11s\tremaining: 12.2s\n",
      "190:\tlearn: 0.8727798\ttest: 0.8727798\ttest1: 0.8689358\tbest: 0.8692673 (188)\ttotal: 11.1s\tremaining: 12.2s\n",
      "191:\tlearn: 0.8731114\ttest: 0.8731114\ttest1: 0.8686043\tbest: 0.8692673 (188)\ttotal: 11.2s\tremaining: 12.2s\n",
      "192:\tlearn: 0.8731587\ttest: 0.8731587\ttest1: 0.8686043\tbest: 0.8692673 (188)\ttotal: 11.3s\tremaining: 12.1s\n",
      "193:\tlearn: 0.8730166\ttest: 0.8730166\ttest1: 0.8686043\tbest: 0.8692673 (188)\ttotal: 11.4s\tremaining: 12.1s\n",
      "194:\tlearn: 0.8728745\ttest: 0.8728745\ttest1: 0.8683832\tbest: 0.8692673 (188)\ttotal: 11.5s\tremaining: 12s\n",
      "195:\tlearn: 0.8728745\ttest: 0.8728745\ttest1: 0.8683832\tbest: 0.8692673 (188)\ttotal: 11.5s\tremaining: 12s\n",
      "196:\tlearn: 0.8729219\ttest: 0.8729219\ttest1: 0.8684938\tbest: 0.8692673 (188)\ttotal: 11.6s\tremaining: 12s\n",
      "197:\tlearn: 0.8726851\ttest: 0.8726851\ttest1: 0.8686043\tbest: 0.8692673 (188)\ttotal: 11.7s\tremaining: 11.9s\n",
      "198:\tlearn: 0.8728272\ttest: 0.8728272\ttest1: 0.8686043\tbest: 0.8692673 (188)\ttotal: 11.7s\tremaining: 11.9s\n",
      "199:\tlearn: 0.8728745\ttest: 0.8728745\ttest1: 0.8686043\tbest: 0.8692673 (188)\ttotal: 11.8s\tremaining: 11.8s\n",
      "200:\tlearn: 0.8728745\ttest: 0.8728745\ttest1: 0.8687148\tbest: 0.8692673 (188)\ttotal: 11.8s\tremaining: 11.7s\n",
      "201:\tlearn: 0.8729693\ttest: 0.8729693\ttest1: 0.8687148\tbest: 0.8692673 (188)\ttotal: 11.9s\tremaining: 11.6s\n",
      "202:\tlearn: 0.8729693\ttest: 0.8729693\ttest1: 0.8683832\tbest: 0.8692673 (188)\ttotal: 11.9s\tremaining: 11.6s\n",
      "203:\tlearn: 0.8730166\ttest: 0.8730166\ttest1: 0.8682727\tbest: 0.8692673 (188)\ttotal: 12s\tremaining: 11.5s\n",
      "204:\tlearn: 0.8729219\ttest: 0.8729219\ttest1: 0.8681622\tbest: 0.8692673 (188)\ttotal: 12.1s\tremaining: 11.5s\n",
      "205:\tlearn: 0.8732061\ttest: 0.8732061\ttest1: 0.8682727\tbest: 0.8692673 (188)\ttotal: 12.1s\tremaining: 11.4s\n",
      "206:\tlearn: 0.8729219\ttest: 0.8729219\ttest1: 0.8681622\tbest: 0.8692673 (188)\ttotal: 12.2s\tremaining: 11.3s\n",
      "207:\tlearn: 0.8730640\ttest: 0.8730640\ttest1: 0.8679412\tbest: 0.8692673 (188)\ttotal: 12.2s\tremaining: 11.3s\n",
      "208:\tlearn: 0.8731114\ttest: 0.8731114\ttest1: 0.8680517\tbest: 0.8692673 (188)\ttotal: 12.3s\tremaining: 11.2s\n",
      "209:\tlearn: 0.8731114\ttest: 0.8731114\ttest1: 0.8681622\tbest: 0.8692673 (188)\ttotal: 12.3s\tremaining: 11.2s\n",
      "210:\tlearn: 0.8730640\ttest: 0.8730640\ttest1: 0.8680517\tbest: 0.8692673 (188)\ttotal: 12.4s\tremaining: 11.1s\n",
      "211:\tlearn: 0.8730640\ttest: 0.8730640\ttest1: 0.8680517\tbest: 0.8692673 (188)\ttotal: 12.4s\tremaining: 11s\n",
      "212:\tlearn: 0.8733008\ttest: 0.8733008\ttest1: 0.8680517\tbest: 0.8692673 (188)\ttotal: 12.5s\tremaining: 11s\n",
      "213:\tlearn: 0.8733482\ttest: 0.8733482\ttest1: 0.8680517\tbest: 0.8692673 (188)\ttotal: 12.5s\tremaining: 10.9s\n",
      "214:\tlearn: 0.8733955\ttest: 0.8733955\ttest1: 0.8680517\tbest: 0.8692673 (188)\ttotal: 12.6s\tremaining: 10.8s\n",
      "215:\tlearn: 0.8734903\ttest: 0.8734903\ttest1: 0.8681622\tbest: 0.8692673 (188)\ttotal: 12.7s\tremaining: 10.8s\n",
      "216:\tlearn: 0.8734429\ttest: 0.8734429\ttest1: 0.8681622\tbest: 0.8692673 (188)\ttotal: 12.8s\tremaining: 10.8s\n",
      "217:\tlearn: 0.8733955\ttest: 0.8733955\ttest1: 0.8682727\tbest: 0.8692673 (188)\ttotal: 12.8s\tremaining: 10.7s\n",
      "218:\tlearn: 0.8733482\ttest: 0.8733482\ttest1: 0.8683832\tbest: 0.8692673 (188)\ttotal: 12.9s\tremaining: 10.6s\n",
      "Stopped by overfitting detector  (30 iterations wait)\n",
      "\n",
      "bestTest = 0.8692673224\n",
      "bestIteration = 188\n",
      "\n",
      "Shrink model to first 189 iterations.\n"
     ]
    },
    {
     "data": {
      "text/plain": [
       "<catboost.core.CatBoostClassifier at 0x1a277b5080>"
      ]
     },
     "execution_count": 559,
     "metadata": {},
     "output_type": "execute_result"
    }
   ],
   "source": [
    "catb.fit(X_train,y_train,eval_set=[(X_train,y_train), (X_test,y_test)],early_stopping_rounds=30)"
   ]
  },
  {
   "cell_type": "code",
   "execution_count": 557,
   "metadata": {},
   "outputs": [
    {
     "name": "stdout",
     "output_type": "stream",
     "text": [
      "<catboost.core.CatBoostClassifier object at 0x1a277b5160>\n",
      "confusion matrix of training data\n",
      "[[15074   826]\n",
      " [ 1830  3383]]\n",
      "confusion matrix of test data\n",
      "[[6376  378]\n",
      " [ 809 1486]]\n",
      "classification report of test data\n",
      "              precision    recall  f1-score   support\n",
      "\n",
      "           0       0.89      0.94      0.91      6754\n",
      "           1       0.80      0.65      0.71      2295\n",
      "\n",
      "   micro avg       0.87      0.87      0.87      9049\n",
      "   macro avg       0.84      0.80      0.81      9049\n",
      "weighted avg       0.86      0.87      0.86      9049\n",
      "\n",
      "Accuracy on test data: 86.882528%\n",
      "Accuracy on training data: 0.713968%\n",
      "Area under the ROC curve : 0.795764\n"
     ]
    }
   ],
   "source": [
    "show_classifier_metrics(catb)"
   ]
  },
  {
   "cell_type": "code",
   "execution_count": null,
   "metadata": {},
   "outputs": [],
   "source": []
  }
 ],
 "metadata": {
  "kernelspec": {
   "display_name": "Python 3",
   "language": "python",
   "name": "python3"
  },
  "language_info": {
   "codemirror_mode": {
    "name": "ipython",
    "version": 3
   },
   "file_extension": ".py",
   "mimetype": "text/x-python",
   "name": "python",
   "nbconvert_exporter": "python",
   "pygments_lexer": "ipython3",
   "version": "3.6.8"
  }
 },
 "nbformat": 4,
 "nbformat_minor": 2
}
